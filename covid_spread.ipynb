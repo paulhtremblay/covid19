{
 "cells": [
  {
   "cell_type": "code",
   "execution_count": 1,
   "metadata": {},
   "outputs": [],
   "source": [
    "import random\n",
    "from itertools import chain\n"
   ]
  },
  {
   "cell_type": "code",
   "execution_count": 2,
   "metadata": {},
   "outputs": [],
   "source": [
    "def make_data(d_len, ir):\n",
    "    ir_len = int(ir * d_len)\n",
    "    non_i_len = d_len - ir_len\n",
    "    list_i = [0 for x in range(non_i_len)]\n",
    "    list_non_i = [1 for x in range(ir_len)]\n",
    "    return list_i + list_non_i"
   ]
  },
  {
   "cell_type": "code",
   "execution_count": 3,
   "metadata": {},
   "outputs": [],
   "source": [
    "def make_groups(l, group_len):\n",
    "    \"\"\"\n",
    "    breaks up list into groups\n",
    "    \"\"\"\n",
    "    random.shuffle(l)\n",
    "    counter = 0\n",
    "    final = []\n",
    "    temp = []\n",
    "    for i in l:\n",
    "        temp.append(i)\n",
    "        counter += 1\n",
    "        if counter == group_len:\n",
    "            final.append(temp)\n",
    "            temp = []\n",
    "            counter = 0\n",
    "    return final\n"
   ]
  },
  {
   "cell_type": "code",
   "execution_count": 25,
   "metadata": {},
   "outputs": [],
   "source": [
    "def infected_in_group(l, ar):\n",
    "    # ls is the group\n",
    "    # ar is attack rate\n",
    "    final = []\n",
    "    num_1 = sum(l)\n",
    "    ir_adj = ar * num_1\n",
    "    for i in l:\n",
    "        prob = random.random()\n",
    "        if i == 1:\n",
    "            final.append(0)\n",
    "        else:\n",
    "            if prob < ir_adj:\n",
    "                final.append(1)\n",
    "            else:\n",
    "                final.append(0)\n",
    "    return final    \n",
    "    "
   ]
  },
  {
   "cell_type": "code",
   "execution_count": 59,
   "metadata": {},
   "outputs": [
    {
     "name": "stdout",
     "output_type": "stream",
     "text": [
      "30\n",
      "25\n"
     ]
    }
   ],
   "source": [
    "def infections_from_groups(groups):\n",
    "    final = []\n",
    "    for i in groups:\n",
    "        j = infected_in_group(i, .2)\n",
    "        final.append(j)\n",
    "    return list(chain.from_iterable(final))\n",
    "\n",
    "    \n",
    "pop = make_data(d_len = 1000, ir = .03)\n",
    "print(sum(pop))\n",
    "groups = make_groups(pop, 5)\n",
    "new_pop = infections_from_groups(groups)\n",
    "print(sum(new_pop))"
   ]
  }
 ],
 "metadata": {
  "kernelspec": {
   "display_name": "Python 3",
   "language": "python",
   "name": "python3"
  },
  "language_info": {
   "codemirror_mode": {
    "name": "ipython",
    "version": 3
   },
   "file_extension": ".py",
   "mimetype": "text/x-python",
   "name": "python",
   "nbconvert_exporter": "python",
   "pygments_lexer": "ipython3",
   "version": "3.6.9"
  }
 },
 "nbformat": 4,
 "nbformat_minor": 4
}
