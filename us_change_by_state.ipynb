{
 "cells": [
  {
   "cell_type": "code",
   "execution_count": 1,
   "metadata": {},
   "outputs": [],
   "source": [
    "import os\n",
    "import datetime\n",
    "import random\n",
    "from bokeh.io import show\n",
    "from bokeh.plotting import figure\n",
    "from bokeh.io import output_notebook\n",
    "from bokeh.layouts import gridplot\n",
    "from bokeh.models import ColumnDataSource, Band\n",
    "from bokeh.embed import components\n",
    "from bokeh.models import Range1d\n",
    "\n",
    "import numpy as np"
   ]
  },
  {
   "cell_type": "code",
   "execution_count": 2,
   "metadata": {},
   "outputs": [
    {
     "data": {
      "text/html": [
       "\n",
       "    <div class=\"bk-root\">\n",
       "        <a href=\"https://bokeh.org\" target=\"_blank\" class=\"bk-logo bk-logo-small bk-logo-notebook\"></a>\n",
       "        <span id=\"1001\">Loading BokehJS ...</span>\n",
       "    </div>"
      ]
     },
     "metadata": {},
     "output_type": "display_data"
    },
    {
     "data": {
      "application/javascript": [
       "\n",
       "(function(root) {\n",
       "  function now() {\n",
       "    return new Date();\n",
       "  }\n",
       "\n",
       "  var force = true;\n",
       "\n",
       "  if (typeof root._bokeh_onload_callbacks === \"undefined\" || force === true) {\n",
       "    root._bokeh_onload_callbacks = [];\n",
       "    root._bokeh_is_loading = undefined;\n",
       "  }\n",
       "\n",
       "  var JS_MIME_TYPE = 'application/javascript';\n",
       "  var HTML_MIME_TYPE = 'text/html';\n",
       "  var EXEC_MIME_TYPE = 'application/vnd.bokehjs_exec.v0+json';\n",
       "  var CLASS_NAME = 'output_bokeh rendered_html';\n",
       "\n",
       "  /**\n",
       "   * Render data to the DOM node\n",
       "   */\n",
       "  function render(props, node) {\n",
       "    var script = document.createElement(\"script\");\n",
       "    node.appendChild(script);\n",
       "  }\n",
       "\n",
       "  /**\n",
       "   * Handle when an output is cleared or removed\n",
       "   */\n",
       "  function handleClearOutput(event, handle) {\n",
       "    var cell = handle.cell;\n",
       "\n",
       "    var id = cell.output_area._bokeh_element_id;\n",
       "    var server_id = cell.output_area._bokeh_server_id;\n",
       "    // Clean up Bokeh references\n",
       "    if (id != null && id in Bokeh.index) {\n",
       "      Bokeh.index[id].model.document.clear();\n",
       "      delete Bokeh.index[id];\n",
       "    }\n",
       "\n",
       "    if (server_id !== undefined) {\n",
       "      // Clean up Bokeh references\n",
       "      var cmd = \"from bokeh.io.state import curstate; print(curstate().uuid_to_server['\" + server_id + \"'].get_sessions()[0].document.roots[0]._id)\";\n",
       "      cell.notebook.kernel.execute(cmd, {\n",
       "        iopub: {\n",
       "          output: function(msg) {\n",
       "            var id = msg.content.text.trim();\n",
       "            if (id in Bokeh.index) {\n",
       "              Bokeh.index[id].model.document.clear();\n",
       "              delete Bokeh.index[id];\n",
       "            }\n",
       "          }\n",
       "        }\n",
       "      });\n",
       "      // Destroy server and session\n",
       "      var cmd = \"import bokeh.io.notebook as ion; ion.destroy_server('\" + server_id + \"')\";\n",
       "      cell.notebook.kernel.execute(cmd);\n",
       "    }\n",
       "  }\n",
       "\n",
       "  /**\n",
       "   * Handle when a new output is added\n",
       "   */\n",
       "  function handleAddOutput(event, handle) {\n",
       "    var output_area = handle.output_area;\n",
       "    var output = handle.output;\n",
       "\n",
       "    // limit handleAddOutput to display_data with EXEC_MIME_TYPE content only\n",
       "    if ((output.output_type != \"display_data\") || (!output.data.hasOwnProperty(EXEC_MIME_TYPE))) {\n",
       "      return\n",
       "    }\n",
       "\n",
       "    var toinsert = output_area.element.find(\".\" + CLASS_NAME.split(' ')[0]);\n",
       "\n",
       "    if (output.metadata[EXEC_MIME_TYPE][\"id\"] !== undefined) {\n",
       "      toinsert[toinsert.length - 1].firstChild.textContent = output.data[JS_MIME_TYPE];\n",
       "      // store reference to embed id on output_area\n",
       "      output_area._bokeh_element_id = output.metadata[EXEC_MIME_TYPE][\"id\"];\n",
       "    }\n",
       "    if (output.metadata[EXEC_MIME_TYPE][\"server_id\"] !== undefined) {\n",
       "      var bk_div = document.createElement(\"div\");\n",
       "      bk_div.innerHTML = output.data[HTML_MIME_TYPE];\n",
       "      var script_attrs = bk_div.children[0].attributes;\n",
       "      for (var i = 0; i < script_attrs.length; i++) {\n",
       "        toinsert[toinsert.length - 1].firstChild.setAttribute(script_attrs[i].name, script_attrs[i].value);\n",
       "        toinsert[toinsert.length - 1].firstChild.textContent = bk_div.children[0].textContent\n",
       "      }\n",
       "      // store reference to server id on output_area\n",
       "      output_area._bokeh_server_id = output.metadata[EXEC_MIME_TYPE][\"server_id\"];\n",
       "    }\n",
       "  }\n",
       "\n",
       "  function register_renderer(events, OutputArea) {\n",
       "\n",
       "    function append_mime(data, metadata, element) {\n",
       "      // create a DOM node to render to\n",
       "      var toinsert = this.create_output_subarea(\n",
       "        metadata,\n",
       "        CLASS_NAME,\n",
       "        EXEC_MIME_TYPE\n",
       "      );\n",
       "      this.keyboard_manager.register_events(toinsert);\n",
       "      // Render to node\n",
       "      var props = {data: data, metadata: metadata[EXEC_MIME_TYPE]};\n",
       "      render(props, toinsert[toinsert.length - 1]);\n",
       "      element.append(toinsert);\n",
       "      return toinsert\n",
       "    }\n",
       "\n",
       "    /* Handle when an output is cleared or removed */\n",
       "    events.on('clear_output.CodeCell', handleClearOutput);\n",
       "    events.on('delete.Cell', handleClearOutput);\n",
       "\n",
       "    /* Handle when a new output is added */\n",
       "    events.on('output_added.OutputArea', handleAddOutput);\n",
       "\n",
       "    /**\n",
       "     * Register the mime type and append_mime function with output_area\n",
       "     */\n",
       "    OutputArea.prototype.register_mime_type(EXEC_MIME_TYPE, append_mime, {\n",
       "      /* Is output safe? */\n",
       "      safe: true,\n",
       "      /* Index of renderer in `output_area.display_order` */\n",
       "      index: 0\n",
       "    });\n",
       "  }\n",
       "\n",
       "  // register the mime type if in Jupyter Notebook environment and previously unregistered\n",
       "  if (root.Jupyter !== undefined) {\n",
       "    var events = require('base/js/events');\n",
       "    var OutputArea = require('notebook/js/outputarea').OutputArea;\n",
       "\n",
       "    if (OutputArea.prototype.mime_types().indexOf(EXEC_MIME_TYPE) == -1) {\n",
       "      register_renderer(events, OutputArea);\n",
       "    }\n",
       "  }\n",
       "\n",
       "  \n",
       "  if (typeof (root._bokeh_timeout) === \"undefined\" || force === true) {\n",
       "    root._bokeh_timeout = Date.now() + 5000;\n",
       "    root._bokeh_failed_load = false;\n",
       "  }\n",
       "\n",
       "  var NB_LOAD_WARNING = {'data': {'text/html':\n",
       "     \"<div style='background-color: #fdd'>\\n\"+\n",
       "     \"<p>\\n\"+\n",
       "     \"BokehJS does not appear to have successfully loaded. If loading BokehJS from CDN, this \\n\"+\n",
       "     \"may be due to a slow or bad network connection. Possible fixes:\\n\"+\n",
       "     \"</p>\\n\"+\n",
       "     \"<ul>\\n\"+\n",
       "     \"<li>re-rerun `output_notebook()` to attempt to load from CDN again, or</li>\\n\"+\n",
       "     \"<li>use INLINE resources instead, as so:</li>\\n\"+\n",
       "     \"</ul>\\n\"+\n",
       "     \"<code>\\n\"+\n",
       "     \"from bokeh.resources import INLINE\\n\"+\n",
       "     \"output_notebook(resources=INLINE)\\n\"+\n",
       "     \"</code>\\n\"+\n",
       "     \"</div>\"}};\n",
       "\n",
       "  function display_loaded() {\n",
       "    var el = document.getElementById(\"1001\");\n",
       "    if (el != null) {\n",
       "      el.textContent = \"BokehJS is loading...\";\n",
       "    }\n",
       "    if (root.Bokeh !== undefined) {\n",
       "      if (el != null) {\n",
       "        el.textContent = \"BokehJS \" + root.Bokeh.version + \" successfully loaded.\";\n",
       "      }\n",
       "    } else if (Date.now() < root._bokeh_timeout) {\n",
       "      setTimeout(display_loaded, 100)\n",
       "    }\n",
       "  }\n",
       "\n",
       "\n",
       "  function run_callbacks() {\n",
       "    try {\n",
       "      root._bokeh_onload_callbacks.forEach(function(callback) {\n",
       "        if (callback != null)\n",
       "          callback();\n",
       "      });\n",
       "    } finally {\n",
       "      delete root._bokeh_onload_callbacks\n",
       "    }\n",
       "    console.debug(\"Bokeh: all callbacks have finished\");\n",
       "  }\n",
       "\n",
       "  function load_libs(css_urls, js_urls, callback) {\n",
       "    if (css_urls == null) css_urls = [];\n",
       "    if (js_urls == null) js_urls = [];\n",
       "\n",
       "    root._bokeh_onload_callbacks.push(callback);\n",
       "    if (root._bokeh_is_loading > 0) {\n",
       "      console.debug(\"Bokeh: BokehJS is being loaded, scheduling callback at\", now());\n",
       "      return null;\n",
       "    }\n",
       "    if (js_urls == null || js_urls.length === 0) {\n",
       "      run_callbacks();\n",
       "      return null;\n",
       "    }\n",
       "    console.debug(\"Bokeh: BokehJS not loaded, scheduling load and callback at\", now());\n",
       "    root._bokeh_is_loading = css_urls.length + js_urls.length;\n",
       "\n",
       "    function on_load() {\n",
       "      root._bokeh_is_loading--;\n",
       "      if (root._bokeh_is_loading === 0) {\n",
       "        console.debug(\"Bokeh: all BokehJS libraries/stylesheets loaded\");\n",
       "        run_callbacks()\n",
       "      }\n",
       "    }\n",
       "\n",
       "    function on_error() {\n",
       "      console.error(\"failed to load \" + url);\n",
       "    }\n",
       "\n",
       "    for (var i = 0; i < css_urls.length; i++) {\n",
       "      var url = css_urls[i];\n",
       "      const element = document.createElement(\"link\");\n",
       "      element.onload = on_load;\n",
       "      element.onerror = on_error;\n",
       "      element.rel = \"stylesheet\";\n",
       "      element.type = \"text/css\";\n",
       "      element.href = url;\n",
       "      console.debug(\"Bokeh: injecting link tag for BokehJS stylesheet: \", url);\n",
       "      document.body.appendChild(element);\n",
       "    }\n",
       "\n",
       "    const hashes = {\"https://cdn.bokeh.org/bokeh/release/bokeh-2.0.2.min.js\": \"ufR9RFnRs6lniiaFvtJziE0YeidtAgBRH6ux2oUItHw5WTvE1zuk9uzhUU/FJXDp\", \"https://cdn.bokeh.org/bokeh/release/bokeh-widgets-2.0.2.min.js\": \"8QM/PGWBT+IssZuRcDcjzwIh1mkOmJSoNMmyYDZbCfXJg3Ap1lEvdVgFuSAwhb/J\", \"https://cdn.bokeh.org/bokeh/release/bokeh-tables-2.0.2.min.js\": \"Jm8cH3Rg0P6UeZhVY5cLy1WzKajUT9KImCY+76hEqrcJt59/d8GPvFHjCkYgnSIn\", \"https://cdn.bokeh.org/bokeh/release/bokeh-gl-2.0.2.min.js\": \"Ozhzj+SI7ywm74aOI/UajcWz+C0NjsPunEVyVIrxzYkB+jA+2tUw8x5xJCbVtK5I\"};\n",
       "\n",
       "    for (var i = 0; i < js_urls.length; i++) {\n",
       "      var url = js_urls[i];\n",
       "      var element = document.createElement('script');\n",
       "      element.onload = on_load;\n",
       "      element.onerror = on_error;\n",
       "      element.async = false;\n",
       "      element.src = url;\n",
       "      if (url in hashes) {\n",
       "        element.crossOrigin = \"anonymous\";\n",
       "        element.integrity = \"sha384-\" + hashes[url];\n",
       "      }\n",
       "      console.debug(\"Bokeh: injecting script tag for BokehJS library: \", url);\n",
       "      document.head.appendChild(element);\n",
       "    }\n",
       "  };\n",
       "\n",
       "  function inject_raw_css(css) {\n",
       "    const element = document.createElement(\"style\");\n",
       "    element.appendChild(document.createTextNode(css));\n",
       "    document.body.appendChild(element);\n",
       "  }\n",
       "\n",
       "  \n",
       "  var js_urls = [\"https://cdn.bokeh.org/bokeh/release/bokeh-2.0.2.min.js\", \"https://cdn.bokeh.org/bokeh/release/bokeh-widgets-2.0.2.min.js\", \"https://cdn.bokeh.org/bokeh/release/bokeh-tables-2.0.2.min.js\", \"https://cdn.bokeh.org/bokeh/release/bokeh-gl-2.0.2.min.js\"];\n",
       "  var css_urls = [];\n",
       "  \n",
       "\n",
       "  var inline_js = [\n",
       "    function(Bokeh) {\n",
       "      Bokeh.set_log_level(\"info\");\n",
       "    },\n",
       "    function(Bokeh) {\n",
       "    \n",
       "    \n",
       "    }\n",
       "  ];\n",
       "\n",
       "  function run_inline_js() {\n",
       "    \n",
       "    if (root.Bokeh !== undefined || force === true) {\n",
       "      \n",
       "    for (var i = 0; i < inline_js.length; i++) {\n",
       "      inline_js[i].call(root, root.Bokeh);\n",
       "    }\n",
       "    if (force === true) {\n",
       "        display_loaded();\n",
       "      }} else if (Date.now() < root._bokeh_timeout) {\n",
       "      setTimeout(run_inline_js, 100);\n",
       "    } else if (!root._bokeh_failed_load) {\n",
       "      console.log(\"Bokeh: BokehJS failed to load within specified timeout.\");\n",
       "      root._bokeh_failed_load = true;\n",
       "    } else if (force !== true) {\n",
       "      var cell = $(document.getElementById(\"1001\")).parents('.cell').data().cell;\n",
       "      cell.output_area.append_execute_result(NB_LOAD_WARNING)\n",
       "    }\n",
       "\n",
       "  }\n",
       "\n",
       "  if (root._bokeh_is_loading === 0) {\n",
       "    console.debug(\"Bokeh: BokehJS loaded, going straight to plotting\");\n",
       "    run_inline_js();\n",
       "  } else {\n",
       "    load_libs(css_urls, js_urls, function() {\n",
       "      console.debug(\"Bokeh: BokehJS plotting callback run at\", now());\n",
       "      run_inline_js();\n",
       "    });\n",
       "  }\n",
       "}(window));"
      ],
      "application/vnd.bokehjs_load.v0+json": "\n(function(root) {\n  function now() {\n    return new Date();\n  }\n\n  var force = true;\n\n  if (typeof root._bokeh_onload_callbacks === \"undefined\" || force === true) {\n    root._bokeh_onload_callbacks = [];\n    root._bokeh_is_loading = undefined;\n  }\n\n  \n\n  \n  if (typeof (root._bokeh_timeout) === \"undefined\" || force === true) {\n    root._bokeh_timeout = Date.now() + 5000;\n    root._bokeh_failed_load = false;\n  }\n\n  var NB_LOAD_WARNING = {'data': {'text/html':\n     \"<div style='background-color: #fdd'>\\n\"+\n     \"<p>\\n\"+\n     \"BokehJS does not appear to have successfully loaded. If loading BokehJS from CDN, this \\n\"+\n     \"may be due to a slow or bad network connection. Possible fixes:\\n\"+\n     \"</p>\\n\"+\n     \"<ul>\\n\"+\n     \"<li>re-rerun `output_notebook()` to attempt to load from CDN again, or</li>\\n\"+\n     \"<li>use INLINE resources instead, as so:</li>\\n\"+\n     \"</ul>\\n\"+\n     \"<code>\\n\"+\n     \"from bokeh.resources import INLINE\\n\"+\n     \"output_notebook(resources=INLINE)\\n\"+\n     \"</code>\\n\"+\n     \"</div>\"}};\n\n  function display_loaded() {\n    var el = document.getElementById(\"1001\");\n    if (el != null) {\n      el.textContent = \"BokehJS is loading...\";\n    }\n    if (root.Bokeh !== undefined) {\n      if (el != null) {\n        el.textContent = \"BokehJS \" + root.Bokeh.version + \" successfully loaded.\";\n      }\n    } else if (Date.now() < root._bokeh_timeout) {\n      setTimeout(display_loaded, 100)\n    }\n  }\n\n\n  function run_callbacks() {\n    try {\n      root._bokeh_onload_callbacks.forEach(function(callback) {\n        if (callback != null)\n          callback();\n      });\n    } finally {\n      delete root._bokeh_onload_callbacks\n    }\n    console.debug(\"Bokeh: all callbacks have finished\");\n  }\n\n  function load_libs(css_urls, js_urls, callback) {\n    if (css_urls == null) css_urls = [];\n    if (js_urls == null) js_urls = [];\n\n    root._bokeh_onload_callbacks.push(callback);\n    if (root._bokeh_is_loading > 0) {\n      console.debug(\"Bokeh: BokehJS is being loaded, scheduling callback at\", now());\n      return null;\n    }\n    if (js_urls == null || js_urls.length === 0) {\n      run_callbacks();\n      return null;\n    }\n    console.debug(\"Bokeh: BokehJS not loaded, scheduling load and callback at\", now());\n    root._bokeh_is_loading = css_urls.length + js_urls.length;\n\n    function on_load() {\n      root._bokeh_is_loading--;\n      if (root._bokeh_is_loading === 0) {\n        console.debug(\"Bokeh: all BokehJS libraries/stylesheets loaded\");\n        run_callbacks()\n      }\n    }\n\n    function on_error() {\n      console.error(\"failed to load \" + url);\n    }\n\n    for (var i = 0; i < css_urls.length; i++) {\n      var url = css_urls[i];\n      const element = document.createElement(\"link\");\n      element.onload = on_load;\n      element.onerror = on_error;\n      element.rel = \"stylesheet\";\n      element.type = \"text/css\";\n      element.href = url;\n      console.debug(\"Bokeh: injecting link tag for BokehJS stylesheet: \", url);\n      document.body.appendChild(element);\n    }\n\n    const hashes = {\"https://cdn.bokeh.org/bokeh/release/bokeh-2.0.2.min.js\": \"ufR9RFnRs6lniiaFvtJziE0YeidtAgBRH6ux2oUItHw5WTvE1zuk9uzhUU/FJXDp\", \"https://cdn.bokeh.org/bokeh/release/bokeh-widgets-2.0.2.min.js\": \"8QM/PGWBT+IssZuRcDcjzwIh1mkOmJSoNMmyYDZbCfXJg3Ap1lEvdVgFuSAwhb/J\", \"https://cdn.bokeh.org/bokeh/release/bokeh-tables-2.0.2.min.js\": \"Jm8cH3Rg0P6UeZhVY5cLy1WzKajUT9KImCY+76hEqrcJt59/d8GPvFHjCkYgnSIn\", \"https://cdn.bokeh.org/bokeh/release/bokeh-gl-2.0.2.min.js\": \"Ozhzj+SI7ywm74aOI/UajcWz+C0NjsPunEVyVIrxzYkB+jA+2tUw8x5xJCbVtK5I\"};\n\n    for (var i = 0; i < js_urls.length; i++) {\n      var url = js_urls[i];\n      var element = document.createElement('script');\n      element.onload = on_load;\n      element.onerror = on_error;\n      element.async = false;\n      element.src = url;\n      if (url in hashes) {\n        element.crossOrigin = \"anonymous\";\n        element.integrity = \"sha384-\" + hashes[url];\n      }\n      console.debug(\"Bokeh: injecting script tag for BokehJS library: \", url);\n      document.head.appendChild(element);\n    }\n  };\n\n  function inject_raw_css(css) {\n    const element = document.createElement(\"style\");\n    element.appendChild(document.createTextNode(css));\n    document.body.appendChild(element);\n  }\n\n  \n  var js_urls = [\"https://cdn.bokeh.org/bokeh/release/bokeh-2.0.2.min.js\", \"https://cdn.bokeh.org/bokeh/release/bokeh-widgets-2.0.2.min.js\", \"https://cdn.bokeh.org/bokeh/release/bokeh-tables-2.0.2.min.js\", \"https://cdn.bokeh.org/bokeh/release/bokeh-gl-2.0.2.min.js\"];\n  var css_urls = [];\n  \n\n  var inline_js = [\n    function(Bokeh) {\n      Bokeh.set_log_level(\"info\");\n    },\n    function(Bokeh) {\n    \n    \n    }\n  ];\n\n  function run_inline_js() {\n    \n    if (root.Bokeh !== undefined || force === true) {\n      \n    for (var i = 0; i < inline_js.length; i++) {\n      inline_js[i].call(root, root.Bokeh);\n    }\n    if (force === true) {\n        display_loaded();\n      }} else if (Date.now() < root._bokeh_timeout) {\n      setTimeout(run_inline_js, 100);\n    } else if (!root._bokeh_failed_load) {\n      console.log(\"Bokeh: BokehJS failed to load within specified timeout.\");\n      root._bokeh_failed_load = true;\n    } else if (force !== true) {\n      var cell = $(document.getElementById(\"1001\")).parents('.cell').data().cell;\n      cell.output_area.append_execute_result(NB_LOAD_WARNING)\n    }\n\n  }\n\n  if (root._bokeh_is_loading === 0) {\n    console.debug(\"Bokeh: BokehJS loaded, going straight to plotting\");\n    run_inline_js();\n  } else {\n    load_libs(css_urls, js_urls, function() {\n      console.debug(\"Bokeh: BokehJS plotting callback run at\", now());\n      run_inline_js();\n    });\n  }\n}(window));"
     },
     "metadata": {},
     "output_type": "display_data"
    }
   ],
   "source": [
    "output_notebook()"
   ]
  },
  {
   "cell_type": "code",
   "execution_count": 3,
   "metadata": {},
   "outputs": [],
   "source": [
    "import math\n",
    "import scipy.optimize as optim\n",
    "import pandas as pd\n",
    "import statsmodels.api as sm\n",
    "from scipy.stats import ttest_ind"
   ]
  },
  {
   "cell_type": "code",
   "execution_count": 4,
   "metadata": {},
   "outputs": [],
   "source": [
    "from bokeh.io import show\n",
    "from bokeh.plotting import figure\n",
    "from bokeh.io import output_notebook\n",
    "from bokeh.layouts import gridplot\n",
    "from bokeh.models import Arrow, NormalHead, OpenHead, VeeHead\n",
    "from bokeh.models import Label\n",
    "from bokeh.models import Span\n",
    "from bokeh.embed import components\n"
   ]
  },
  {
   "cell_type": "code",
   "execution_count": 5,
   "metadata": {},
   "outputs": [],
   "source": [
    "def get_data():\n",
    "    df = pd.read_csv('data/states.csv')\n",
    "    df = df[(df['state'] != 'Guam') & (df['state'] != 'Northern Mariana Islands')]\n",
    "    df['date'] = pd.to_datetime(df['date'])\n",
    "    df = df.sort_values(by = ['date'])\n",
    "    return df\n"
   ]
  },
  {
   "cell_type": "code",
   "execution_count": 6,
   "metadata": {},
   "outputs": [],
   "source": [
    "\n",
    "def get_pop_data():\n",
    "    df = pd.read_csv('data/seven_day_state.csv')\n",
    "    #df = df[(df['state'] != 'Guam') & (df['state'] != 'Northern Mariana Islands')]\n",
    "    df['date'] = pd.to_datetime(df['date'])\n",
    "    df = df.sort_values(by = ['date'])\n",
    "    return df\n",
    "\n",
    "def get_pop():\n",
    "    df = get_pop_data()\n",
    "    states = df['state']\n",
    "    population = df['population']\n",
    "    d = {}\n",
    "    for x in set(list(zip(states, population))):\n",
    "        d[x[0]] = x[1]\n",
    "    return d\n"
   ]
  },
  {
   "cell_type": "code",
   "execution_count": 7,
   "metadata": {},
   "outputs": [],
   "source": [
    "def get_rate(df, state, leng, key):\n",
    "    df_s = df[df['state'] == state]\n",
    "    current = df_s[key].tolist()[-1 * leng:]\n",
    "    prev = df_s[key].tolist()[-2 * leng: -1 * leng]\n",
    "    assert len(prev) == leng\n",
    "    assert len(current) == leng\n",
    "    p_value_ttest = round(ttest_ind(current, prev).pvalue,2)\n",
    "    return np.mean(current)/np.mean(prev), p_value_ttest\n"
   ]
  },
  {
   "cell_type": "code",
   "execution_count": 8,
   "metadata": {},
   "outputs": [
    {
     "data": {
      "text/plain": [
       "(3282.457142857143, -151.75164835164836, 0.10883017162792286)"
      ]
     },
     "execution_count": 8,
     "metadata": {},
     "output_type": "execute_result"
    }
   ],
   "source": [
    "def get_linear(y):\n",
    "    x = range(len(y))\n",
    "    X = list(zip(*[x]))\n",
    "    xm = sm.add_constant(X)\n",
    "    model = sm.OLS(y, xm) \n",
    "    result = model.fit()\n",
    "    slope = result.params[1]\n",
    "    p_value =result.pvalues[1]\n",
    "    return result.params[0], slope, p_value\n",
    "\n",
    "\n",
    "def get_state_linear(df, state, leng, key):\n",
    "    df_s = df[df['state'] == state]\n",
    "    y = df_s[key].tolist()[-1 * leng:]\n",
    "    assert len(y) == leng\n",
    "    return get_linear(y)\n",
    "get_state_linear(get_data(), 'Washington', 14, 'cases')\n"
   ]
  },
  {
   "cell_type": "code",
   "execution_count": 9,
   "metadata": {},
   "outputs": [
    {
     "name": "stdout",
     "output_type": "stream",
     "text": [
      "p value is 0.6580880696447683\n"
     ]
    },
    {
     "data": {
      "text/html": [
       "\n",
       "\n",
       "\n",
       "\n",
       "\n",
       "\n",
       "  <div class=\"bk-root\" id=\"c3194c7e-4ed9-4f76-b115-462cea29a945\" data-root-id=\"1002\"></div>\n"
      ]
     },
     "metadata": {},
     "output_type": "display_data"
    },
    {
     "data": {
      "application/javascript": [
       "(function(root) {\n",
       "  function embed_document(root) {\n",
       "    \n",
       "  var docs_json = {\"2e2dd03f-1213-42c9-a4c2-45bc85a06572\":{\"roots\":{\"references\":[{\"attributes\":{\"below\":[{\"id\":\"1011\"}],\"center\":[{\"id\":\"1014\"},{\"id\":\"1018\"}],\"left\":[{\"id\":\"1015\"}],\"renderers\":[{\"id\":\"1036\"},{\"id\":\"1041\"}],\"title\":{\"id\":\"1044\"},\"toolbar\":{\"id\":\"1026\"},\"x_range\":{\"id\":\"1003\"},\"x_scale\":{\"id\":\"1007\"},\"y_range\":{\"id\":\"1005\"},\"y_scale\":{\"id\":\"1009\"}},\"id\":\"1002\",\"subtype\":\"Figure\",\"type\":\"Plot\"},{\"attributes\":{\"data\":{\"x\":[1608768000000.0,1608854400000.0,1608940800000.0,1609027200000.0,1609113600000.0,1609200000000.0,1609286400000.0],\"y\":[2687,2615,1540,1407,1973,1869,2568]},\"selected\":{\"id\":\"1049\"},\"selection_policy\":{\"id\":\"1050\"}},\"id\":\"1033\",\"type\":\"ColumnDataSource\"},{\"attributes\":{\"days\":[1,8,15,22]},\"id\":\"1059\",\"type\":\"DaysTicker\"},{\"attributes\":{\"months\":[0,4,8]},\"id\":\"1063\",\"type\":\"MonthsTicker\"},{\"attributes\":{},\"id\":\"1019\",\"type\":\"PanTool\"},{\"attributes\":{\"months\":[0,6]},\"id\":\"1064\",\"type\":\"MonthsTicker\"},{\"attributes\":{},\"id\":\"1020\",\"type\":\"WheelZoomTool\"},{\"attributes\":{\"days\":[1,15]},\"id\":\"1060\",\"type\":\"DaysTicker\"},{\"attributes\":{},\"id\":\"1065\",\"type\":\"YearsTicker\"},{\"attributes\":{\"overlay\":{\"id\":\"1025\"}},\"id\":\"1021\",\"type\":\"BoxZoomTool\"},{\"attributes\":{},\"id\":\"1022\",\"type\":\"SaveTool\"},{\"attributes\":{},\"id\":\"1003\",\"type\":\"DataRange1d\"},{\"attributes\":{},\"id\":\"1023\",\"type\":\"ResetTool\"},{\"attributes\":{\"months\":[0,1,2,3,4,5,6,7,8,9,10,11]},\"id\":\"1061\",\"type\":\"MonthsTicker\"},{\"attributes\":{},\"id\":\"1024\",\"type\":\"HelpTool\"},{\"attributes\":{\"line_alpha\":0.1,\"line_color\":\"#1f77b4\",\"x\":{\"field\":\"x\"},\"y\":{\"field\":\"y\"}},\"id\":\"1035\",\"type\":\"Line\"},{\"attributes\":{\"days\":[1,2,3,4,5,6,7,8,9,10,11,12,13,14,15,16,17,18,19,20,21,22,23,24,25,26,27,28,29,30,31]},\"id\":\"1057\",\"type\":\"DaysTicker\"},{\"attributes\":{\"active_drag\":\"auto\",\"active_inspect\":\"auto\",\"active_multi\":null,\"active_scroll\":\"auto\",\"active_tap\":\"auto\",\"tools\":[{\"id\":\"1019\"},{\"id\":\"1020\"},{\"id\":\"1021\"},{\"id\":\"1022\"},{\"id\":\"1023\"},{\"id\":\"1024\"}]},\"id\":\"1026\",\"type\":\"Toolbar\"},{\"attributes\":{},\"id\":\"1046\",\"type\":\"BasicTickFormatter\"},{\"attributes\":{},\"id\":\"1005\",\"type\":\"DataRange1d\"},{\"attributes\":{\"source\":{\"id\":\"1038\"}},\"id\":\"1042\",\"type\":\"CDSView\"},{\"attributes\":{},\"id\":\"1007\",\"type\":\"LinearScale\"},{\"attributes\":{\"line_color\":\"#1f77b4\",\"x\":{\"field\":\"x\"},\"y\":{\"field\":\"y\"}},\"id\":\"1039\",\"type\":\"Line\"},{\"attributes\":{\"base\":24,\"mantissas\":[1,2,4,6,8,12],\"max_interval\":43200000.0,\"min_interval\":3600000.0,\"num_minor_ticks\":0},\"id\":\"1056\",\"type\":\"AdaptiveTicker\"},{\"attributes\":{\"text\":\"\"},\"id\":\"1044\",\"type\":\"Title\"},{\"attributes\":{\"line_alpha\":0.1,\"line_color\":\"#1f77b4\",\"x\":{\"field\":\"x\"},\"y\":{\"field\":\"y\"}},\"id\":\"1040\",\"type\":\"Line\"},{\"attributes\":{},\"id\":\"1009\",\"type\":\"LinearScale\"},{\"attributes\":{\"mantissas\":[1,2,5],\"max_interval\":500.0,\"num_minor_ticks\":0},\"id\":\"1054\",\"type\":\"AdaptiveTicker\"},{\"attributes\":{\"formatter\":{\"id\":\"1048\"},\"ticker\":{\"id\":\"1012\"}},\"id\":\"1011\",\"type\":\"DatetimeAxis\"},{\"attributes\":{\"bottom_units\":\"screen\",\"fill_alpha\":0.5,\"fill_color\":\"lightgrey\",\"left_units\":\"screen\",\"level\":\"overlay\",\"line_alpha\":1.0,\"line_color\":\"black\",\"line_dash\":[4,4],\"line_width\":2,\"render_mode\":\"css\",\"right_units\":\"screen\",\"top_units\":\"screen\"},\"id\":\"1025\",\"type\":\"BoxAnnotation\"},{\"attributes\":{\"num_minor_ticks\":5,\"tickers\":[{\"id\":\"1054\"},{\"id\":\"1055\"},{\"id\":\"1056\"},{\"id\":\"1057\"},{\"id\":\"1058\"},{\"id\":\"1059\"},{\"id\":\"1060\"},{\"id\":\"1061\"},{\"id\":\"1062\"},{\"id\":\"1063\"},{\"id\":\"1064\"},{\"id\":\"1065\"}]},\"id\":\"1012\",\"type\":\"DatetimeTicker\"},{\"attributes\":{},\"id\":\"1050\",\"type\":\"UnionRenderers\"},{\"attributes\":{\"axis\":{\"id\":\"1011\"},\"ticker\":null},\"id\":\"1014\",\"type\":\"Grid\"},{\"attributes\":{},\"id\":\"1051\",\"type\":\"Selection\"},{\"attributes\":{\"days\":[1,4,7,10,13,16,19,22,25,28]},\"id\":\"1058\",\"type\":\"DaysTicker\"},{\"attributes\":{},\"id\":\"1052\",\"type\":\"UnionRenderers\"},{\"attributes\":{\"formatter\":{\"id\":\"1046\"},\"ticker\":{\"id\":\"1016\"}},\"id\":\"1015\",\"type\":\"LinearAxis\"},{\"attributes\":{},\"id\":\"1049\",\"type\":\"Selection\"},{\"attributes\":{\"data_source\":{\"id\":\"1033\"},\"glyph\":{\"id\":\"1034\"},\"hover_glyph\":null,\"muted_glyph\":null,\"nonselection_glyph\":{\"id\":\"1035\"},\"selection_glyph\":null,\"view\":{\"id\":\"1037\"}},\"id\":\"1036\",\"type\":\"GlyphRenderer\"},{\"attributes\":{},\"id\":\"1016\",\"type\":\"BasicTicker\"},{\"attributes\":{\"data\":{\"x\":[1608768000000.0,1608854400000.0,1608940800000.0,1609027200000.0,1609113600000.0,1609200000000.0,1609286400000.0],\"y\":[2245.857142857144,2195.2857142857156,2144.714285714287,2094.1428571428582,2043.5714285714298,1993.0000000000014,1942.4285714285727]},\"selected\":{\"id\":\"1051\"},\"selection_policy\":{\"id\":\"1052\"}},\"id\":\"1038\",\"type\":\"ColumnDataSource\"},{\"attributes\":{\"axis\":{\"id\":\"1015\"},\"dimension\":1,\"ticker\":null},\"id\":\"1018\",\"type\":\"Grid\"},{\"attributes\":{\"base\":60,\"mantissas\":[1,2,5,10,15,20,30],\"max_interval\":1800000.0,\"min_interval\":1000.0,\"num_minor_ticks\":0},\"id\":\"1055\",\"type\":\"AdaptiveTicker\"},{\"attributes\":{},\"id\":\"1048\",\"type\":\"DatetimeTickFormatter\"},{\"attributes\":{\"data_source\":{\"id\":\"1038\"},\"glyph\":{\"id\":\"1039\"},\"hover_glyph\":null,\"muted_glyph\":null,\"nonselection_glyph\":{\"id\":\"1040\"},\"selection_glyph\":null,\"view\":{\"id\":\"1042\"}},\"id\":\"1041\",\"type\":\"GlyphRenderer\"},{\"attributes\":{\"line_color\":\"#1f77b4\",\"x\":{\"field\":\"x\"},\"y\":{\"field\":\"y\"}},\"id\":\"1034\",\"type\":\"Line\"},{\"attributes\":{\"months\":[0,2,4,6,8,10]},\"id\":\"1062\",\"type\":\"MonthsTicker\"},{\"attributes\":{\"source\":{\"id\":\"1033\"}},\"id\":\"1037\",\"type\":\"CDSView\"}],\"root_ids\":[\"1002\"]},\"title\":\"Bokeh Application\",\"version\":\"2.0.2\"}};\n",
       "  var render_items = [{\"docid\":\"2e2dd03f-1213-42c9-a4c2-45bc85a06572\",\"root_ids\":[\"1002\"],\"roots\":{\"1002\":\"c3194c7e-4ed9-4f76-b115-462cea29a945\"}}];\n",
       "  root.Bokeh.embed.embed_items_notebook(docs_json, render_items);\n",
       "\n",
       "  }\n",
       "  if (root.Bokeh !== undefined) {\n",
       "    embed_document(root);\n",
       "  } else {\n",
       "    var attempts = 0;\n",
       "    var timer = setInterval(function(root) {\n",
       "      if (root.Bokeh !== undefined) {\n",
       "        clearInterval(timer);\n",
       "        embed_document(root);\n",
       "      } else {\n",
       "        attempts++;\n",
       "        if (attempts > 100) {\n",
       "          clearInterval(timer);\n",
       "          console.log(\"Bokeh: ERROR: Unable to run BokehJS code because BokehJS library is missing\");\n",
       "        }\n",
       "      }\n",
       "    }, 10, root)\n",
       "  }\n",
       "})(window);"
      ],
      "application/vnd.bokehjs_exec.v0+json": ""
     },
     "metadata": {
      "application/vnd.bokehjs_exec.v0+json": {
       "id": "1002"
      }
     },
     "output_type": "display_data"
    }
   ],
   "source": [
    "def test_slope(df, state, leng, key, window = None):\n",
    "    #print('p value is {p}'.format(p = p))\n",
    "    df_s = df[df['state'] == state]\n",
    "    df_s = df_s.sort_values(by = ['date'])\n",
    "    if window:\n",
    "        y = df_s['cases'].rolling(window).mean().tolist()[-1 * leng:]\n",
    "    else:\n",
    "        y = df_s['cases'].tolist()[-1 * leng:]\n",
    "\n",
    "    inter, slope, p = get_linear(y)\n",
    "    print('p value is {p}'.format(p = p))\n",
    "    x = df_s['date'].tolist()[-1 * leng:]\n",
    "    y_hat = [x * slope + inter for x in range(leng)]\n",
    "    p = figure(x_axis_type = 'datetime')\n",
    "    p.line(x=x, y = y)\n",
    "    p.line(x = x[-1 * leng:], y = y_hat)\n",
    "    return p\n",
    "show(test_slope(get_data(), 'Colorado', 7, 'cases', window = None))\n",
    "    "
   ]
  },
  {
   "cell_type": "markdown",
   "metadata": {},
   "source": [
    "Metrics:\n",
    "* if the state is way down from its peak\n",
    "* if the state has a low # cases/million\n",
    "* if the state has a longer declining slope (how to measure?)\n",
    "* if the slope is increasing but not significant ? "
   ]
  },
  {
   "cell_type": "code",
   "execution_count": 10,
   "metadata": {},
   "outputs": [],
   "source": [
    "def all_states_info(df, leng):\n",
    "    final = []\n",
    "    for state in set(df['state'].tolist()):\n",
    "        change, p = get_rate(df, state, leng, 'cases')\n",
    "        final.append((state, change))\n",
    "    return final"
   ]
  },
  {
   "cell_type": "code",
   "execution_count": 11,
   "metadata": {},
   "outputs": [],
   "source": [
    "def make_bar(labels_neg, labels_pos, y_neg, y_pos, labels_neutral = None, y_neutral = None, plot_height = 450, \n",
    "             plot_width = 450, title = None):\n",
    "    x_range = []\n",
    "    if labels_neutral:\n",
    "        x_range = labels_neg + labels_neutral + labels_pos\n",
    "    else:\n",
    "        x_range = labels_neg  + labels_pos    \n",
    "    p = figure(x_range = x_range , plot_height = plot_height, \n",
    "               plot_width = plot_width, title = title)\n",
    "    p.vbar(x=labels_neg, top=y_neg , line_width = 5, width = .9, color = 'green')\n",
    "    if labels_neutral:\n",
    "        p.vbar(x=labels_neutral, top=y_neutral , line_width = 5, width = .9, color = 'yellow')\n",
    "    p.vbar(x=labels_pos, top=y_pos , line_width = 5, width = .9, color = 'red')\n",
    "    p.xaxis.major_label_orientation = \"vertical\"\n",
    "    p.xgrid.grid_line_color = None\n",
    "    #p.y_range = Range1d(1, max(y_pos))\n",
    "    return p"
   ]
  },
  {
   "cell_type": "code",
   "execution_count": 12,
   "metadata": {},
   "outputs": [
    {
     "data": {
      "text/html": [
       "\n",
       "\n",
       "\n",
       "\n",
       "\n",
       "\n",
       "  <div class=\"bk-root\" id=\"eb11341e-c1b3-458b-bb33-0730913d91f2\" data-root-id=\"1204\"></div>\n"
      ]
     },
     "metadata": {},
     "output_type": "display_data"
    },
    {
     "data": {
      "application/javascript": [
       "(function(root) {\n",
       "  function embed_document(root) {\n",
       "    \n",
       "  var docs_json = {\"dc378beb-c98a-4478-a3e8-3af4794a6872\":{\"roots\":{\"references\":[{\"attributes\":{\"below\":[{\"id\":\"1215\"}],\"center\":[{\"id\":\"1217\"},{\"id\":\"1221\"}],\"left\":[{\"id\":\"1218\"}],\"plot_height\":450,\"plot_width\":800,\"renderers\":[{\"id\":\"1239\"},{\"id\":\"1244\"},{\"id\":\"1249\"}],\"title\":{\"id\":\"1205\"},\"toolbar\":{\"id\":\"1229\"},\"x_range\":{\"id\":\"1207\"},\"x_scale\":{\"id\":\"1211\"},\"y_range\":{\"id\":\"1209\"},\"y_scale\":{\"id\":\"1213\"}},\"id\":\"1204\",\"subtype\":\"Figure\",\"type\":\"Plot\"},{\"attributes\":{},\"id\":\"1279\",\"type\":\"Selection\"},{\"attributes\":{\"bottom_units\":\"screen\",\"fill_alpha\":0.5,\"fill_color\":\"lightgrey\",\"left_units\":\"screen\",\"level\":\"overlay\",\"line_alpha\":1.0,\"line_color\":\"black\",\"line_dash\":[4,4],\"line_width\":2,\"render_mode\":\"css\",\"right_units\":\"screen\",\"top_units\":\"screen\"},\"id\":\"1228\",\"type\":\"BoxAnnotation\"},{\"attributes\":{},\"id\":\"1216\",\"type\":\"CategoricalTicker\"},{\"attributes\":{\"axis\":{\"id\":\"1215\"},\"grid_line_color\":null,\"ticker\":null},\"id\":\"1217\",\"type\":\"Grid\"},{\"attributes\":{\"data\":{\"top\":[0.49180327868852464,0.6240441801189465,0.6466038315746337,0.6573539454895387,0.6986359761295822,0.6990424809746686,0.6994301994301995,0.702242231638418,0.7083613841389524,0.7214528351188921,0.7260677466863034,0.7383041543643698,0.7481834425253128,0.7491995731056563,0.7495500430393615,0.7503967238290249,0.7647195950446252,0.7691589754225864,0.779976717112922,0.7886959239251753,0.7937649377332382,0.7938841517200824,0.7974651670303844,0.7997442863992329,0.801068639539663,0.8017404464623533,0.807045973844982,0.8344468198824159,0.8387115769638441,0.842001763070455,0.867048086091813,0.8693645843070934,0.8814868893350366,0.8827436978607557,0.8882265275707898,0.8937263385613845,0.8978052898142939,0.9037209302325582,0.9071638166548618,0.9121822383624959,0.9312856861586926,0.9374930279254825,0.9405079123388983,0.9433497536945813,0.9459119496855346,0.9608339740400705,0.978506445910404,0.9800895968143355],\"x\":[\"Virgin Islands\",\"Wyoming\",\"Washington\",\"Minnesota\",\"Alaska\",\"Tennessee\",\"Idaho\",\"Iowa\",\"Wisconsin\",\"Montana\",\"North Dakota\",\"Oklahoma\",\"Oregon\",\"Hawaii\",\"Michigan\",\"Colorado\",\"Ohio\",\"Alabama\",\"South Dakota\",\"Missouri\",\"Illinois\",\"Puerto Rico\",\"Indiana\",\"Kentucky\",\"Nebraska\",\"Nevada\",\"Pennsylvania\",\"Kansas\",\"Utah\",\"North Carolina\",\"Mississippi\",\"Texas\",\"Arkansas\",\"California\",\"Vermont\",\"Arizona\",\"New Mexico\",\"New Jersey\",\"Florida\",\"West Virginia\",\"New Hampshire\",\"Virginia\",\"Louisiana\",\"District of Columbia\",\"Maine\",\"South Carolina\",\"Georgia\",\"Maryland\"]},\"selected\":{\"id\":\"1279\"},\"selection_policy\":{\"id\":\"1280\"}},\"id\":\"1236\",\"type\":\"ColumnDataSource\"},{\"attributes\":{\"text\":\"7 -day\"},\"id\":\"1205\",\"type\":\"Title\"},{\"attributes\":{\"data\":{\"top\":[1.0016940644999375,1.0026307644692045,1.0044391326617723,1.0127728750580587,1.0917448557445313],\"x\":[\"Massachusetts\",\"Connecticut\",\"Rhode Island\",\"Delaware\",\"New York\"]},\"selected\":{\"id\":\"1281\"},\"selection_policy\":{\"id\":\"1282\"}},\"id\":\"1241\",\"type\":\"ColumnDataSource\"},{\"attributes\":{\"formatter\":{\"id\":\"1276\"},\"ticker\":{\"id\":\"1219\"}},\"id\":\"1218\",\"type\":\"LinearAxis\"},{\"attributes\":{\"source\":{\"id\":\"1236\"}},\"id\":\"1240\",\"type\":\"CDSView\"},{\"attributes\":{},\"id\":\"1280\",\"type\":\"UnionRenderers\"},{\"attributes\":{\"data_source\":{\"id\":\"1236\"},\"glyph\":{\"id\":\"1237\"},\"hover_glyph\":null,\"muted_glyph\":null,\"nonselection_glyph\":{\"id\":\"1238\"},\"selection_glyph\":null,\"view\":{\"id\":\"1240\"}},\"id\":\"1239\",\"type\":\"GlyphRenderer\"},{\"attributes\":{},\"id\":\"1278\",\"type\":\"CategoricalTickFormatter\"},{\"attributes\":{},\"id\":\"1219\",\"type\":\"BasicTicker\"},{\"attributes\":{\"axis\":{\"id\":\"1218\"},\"dimension\":1,\"ticker\":null},\"id\":\"1221\",\"type\":\"Grid\"},{\"attributes\":{\"fill_alpha\":{\"value\":0.1},\"fill_color\":{\"value\":\"green\"},\"line_alpha\":{\"value\":0.1},\"line_color\":{\"value\":\"green\"},\"line_width\":{\"value\":5},\"top\":{\"field\":\"top\"},\"width\":{\"value\":0.9},\"x\":{\"field\":\"x\"}},\"id\":\"1238\",\"type\":\"VBar\"},{\"attributes\":{\"data_source\":{\"id\":\"1241\"},\"glyph\":{\"id\":\"1242\"},\"hover_glyph\":null,\"muted_glyph\":null,\"nonselection_glyph\":{\"id\":\"1243\"},\"selection_glyph\":null,\"view\":{\"id\":\"1245\"}},\"id\":\"1244\",\"type\":\"GlyphRenderer\"},{\"attributes\":{\"factors\":[\"Virgin Islands\",\"Wyoming\",\"Washington\",\"Minnesota\",\"Alaska\",\"Tennessee\",\"Idaho\",\"Iowa\",\"Wisconsin\",\"Montana\",\"North Dakota\",\"Oklahoma\",\"Oregon\",\"Hawaii\",\"Michigan\",\"Colorado\",\"Ohio\",\"Alabama\",\"South Dakota\",\"Missouri\",\"Illinois\",\"Puerto Rico\",\"Indiana\",\"Kentucky\",\"Nebraska\",\"Nevada\",\"Pennsylvania\",\"Kansas\",\"Utah\",\"North Carolina\",\"Mississippi\",\"Texas\",\"Arkansas\",\"California\",\"Vermont\",\"Arizona\",\"New Mexico\",\"New Jersey\",\"Florida\",\"West Virginia\",\"New Hampshire\",\"Virginia\",\"Louisiana\",\"District of Columbia\",\"Maine\",\"South Carolina\",\"Georgia\",\"Maryland\",\"Massachusetts\",\"Connecticut\",\"Rhode Island\",\"Delaware\",\"New York\"]},\"id\":\"1207\",\"type\":\"FactorRange\"},{\"attributes\":{\"fill_color\":{\"value\":\"green\"},\"line_color\":{\"value\":\"green\"},\"line_width\":{\"value\":5},\"top\":{\"field\":\"top\"},\"width\":{\"value\":0.9},\"x\":{\"field\":\"x\"}},\"id\":\"1237\",\"type\":\"VBar\"},{\"attributes\":{\"fill_alpha\":{\"value\":0.1},\"fill_color\":{\"value\":\"yellow\"},\"line_alpha\":{\"value\":0.1},\"line_color\":{\"value\":\"yellow\"},\"line_width\":{\"value\":5},\"top\":{\"field\":\"top\"},\"width\":{\"value\":0.9},\"x\":{\"field\":\"x\"}},\"id\":\"1243\",\"type\":\"VBar\"},{\"attributes\":{\"data\":{\"top\":[],\"x\":[]},\"selected\":{\"id\":\"1283\"},\"selection_policy\":{\"id\":\"1284\"}},\"id\":\"1246\",\"type\":\"ColumnDataSource\"},{\"attributes\":{},\"id\":\"1222\",\"type\":\"PanTool\"},{\"attributes\":{\"fill_color\":{\"value\":\"yellow\"},\"line_color\":{\"value\":\"yellow\"},\"line_width\":{\"value\":5},\"top\":{\"field\":\"top\"},\"width\":{\"value\":0.9},\"x\":{\"field\":\"x\"}},\"id\":\"1242\",\"type\":\"VBar\"},{\"attributes\":{\"source\":{\"id\":\"1241\"}},\"id\":\"1245\",\"type\":\"CDSView\"},{\"attributes\":{},\"id\":\"1223\",\"type\":\"WheelZoomTool\"},{\"attributes\":{\"overlay\":{\"id\":\"1228\"}},\"id\":\"1224\",\"type\":\"BoxZoomTool\"},{\"attributes\":{},\"id\":\"1225\",\"type\":\"SaveTool\"},{\"attributes\":{\"data_source\":{\"id\":\"1246\"},\"glyph\":{\"id\":\"1247\"},\"hover_glyph\":null,\"muted_glyph\":null,\"nonselection_glyph\":{\"id\":\"1248\"},\"selection_glyph\":null,\"view\":{\"id\":\"1250\"}},\"id\":\"1249\",\"type\":\"GlyphRenderer\"},{\"attributes\":{},\"id\":\"1226\",\"type\":\"ResetTool\"},{\"attributes\":{\"fill_alpha\":{\"value\":0.1},\"fill_color\":{\"value\":\"red\"},\"line_alpha\":{\"value\":0.1},\"line_color\":{\"value\":\"red\"},\"line_width\":{\"value\":5},\"top\":{\"field\":\"top\"},\"width\":{\"value\":0.9},\"x\":{\"field\":\"x\"}},\"id\":\"1248\",\"type\":\"VBar\"},{\"attributes\":{},\"id\":\"1227\",\"type\":\"HelpTool\"},{\"attributes\":{\"fill_color\":{\"value\":\"red\"},\"line_color\":{\"value\":\"red\"},\"line_width\":{\"value\":5},\"top\":{\"field\":\"top\"},\"width\":{\"value\":0.9},\"x\":{\"field\":\"x\"}},\"id\":\"1247\",\"type\":\"VBar\"},{\"attributes\":{\"source\":{\"id\":\"1246\"}},\"id\":\"1250\",\"type\":\"CDSView\"},{\"attributes\":{},\"id\":\"1281\",\"type\":\"Selection\"},{\"attributes\":{},\"id\":\"1209\",\"type\":\"DataRange1d\"},{\"attributes\":{\"active_drag\":\"auto\",\"active_inspect\":\"auto\",\"active_multi\":null,\"active_scroll\":\"auto\",\"active_tap\":\"auto\",\"tools\":[{\"id\":\"1222\"},{\"id\":\"1223\"},{\"id\":\"1224\"},{\"id\":\"1225\"},{\"id\":\"1226\"},{\"id\":\"1227\"}]},\"id\":\"1229\",\"type\":\"Toolbar\"},{\"attributes\":{},\"id\":\"1276\",\"type\":\"BasicTickFormatter\"},{\"attributes\":{},\"id\":\"1282\",\"type\":\"UnionRenderers\"},{\"attributes\":{},\"id\":\"1211\",\"type\":\"CategoricalScale\"},{\"attributes\":{},\"id\":\"1283\",\"type\":\"Selection\"},{\"attributes\":{},\"id\":\"1213\",\"type\":\"LinearScale\"},{\"attributes\":{},\"id\":\"1284\",\"type\":\"UnionRenderers\"},{\"attributes\":{\"formatter\":{\"id\":\"1278\"},\"major_label_orientation\":\"vertical\",\"ticker\":{\"id\":\"1216\"}},\"id\":\"1215\",\"type\":\"CategoricalAxis\"}],\"root_ids\":[\"1204\"]},\"title\":\"Bokeh Application\",\"version\":\"2.0.2\"}};\n",
       "  var render_items = [{\"docid\":\"dc378beb-c98a-4478-a3e8-3af4794a6872\",\"root_ids\":[\"1204\"],\"roots\":{\"1204\":\"eb11341e-c1b3-458b-bb33-0730913d91f2\"}}];\n",
       "  root.Bokeh.embed.embed_items_notebook(docs_json, render_items);\n",
       "\n",
       "  }\n",
       "  if (root.Bokeh !== undefined) {\n",
       "    embed_document(root);\n",
       "  } else {\n",
       "    var attempts = 0;\n",
       "    var timer = setInterval(function(root) {\n",
       "      if (root.Bokeh !== undefined) {\n",
       "        clearInterval(timer);\n",
       "        embed_document(root);\n",
       "      } else {\n",
       "        attempts++;\n",
       "        if (attempts > 100) {\n",
       "          clearInterval(timer);\n",
       "          console.log(\"Bokeh: ERROR: Unable to run BokehJS code because BokehJS library is missing\");\n",
       "        }\n",
       "      }\n",
       "    }, 10, root)\n",
       "  }\n",
       "})(window);"
      ],
      "application/vnd.bokehjs_exec.v0+json": ""
     },
     "metadata": {
      "application/vnd.bokehjs_exec.v0+json": {
       "id": "1204"
      }
     },
     "output_type": "display_data"
    },
    {
     "data": {
      "text/html": [
       "\n",
       "\n",
       "\n",
       "\n",
       "\n",
       "\n",
       "  <div class=\"bk-root\" id=\"65a66b9f-578e-4e79-b7d4-4956aaa26f7d\" data-root-id=\"1358\"></div>\n"
      ]
     },
     "metadata": {},
     "output_type": "display_data"
    },
    {
     "data": {
      "application/javascript": [
       "(function(root) {\n",
       "  function embed_document(root) {\n",
       "    \n",
       "  var docs_json = {\"0131f590-c5f9-44c5-ab97-41ead649116a\":{\"roots\":{\"references\":[{\"attributes\":{\"below\":[{\"id\":\"1369\"}],\"center\":[{\"id\":\"1371\"},{\"id\":\"1375\"}],\"left\":[{\"id\":\"1372\"}],\"plot_height\":450,\"plot_width\":800,\"renderers\":[{\"id\":\"1393\"},{\"id\":\"1398\"},{\"id\":\"1403\"}],\"title\":{\"id\":\"1359\"},\"toolbar\":{\"id\":\"1383\"},\"x_range\":{\"id\":\"1361\"},\"x_scale\":{\"id\":\"1365\"},\"y_range\":{\"id\":\"1363\"},\"y_scale\":{\"id\":\"1367\"}},\"id\":\"1358\",\"subtype\":\"Figure\",\"type\":\"Plot\"},{\"attributes\":{\"data_source\":{\"id\":\"1395\"},\"glyph\":{\"id\":\"1396\"},\"hover_glyph\":null,\"muted_glyph\":null,\"nonselection_glyph\":{\"id\":\"1397\"},\"selection_glyph\":null,\"view\":{\"id\":\"1399\"}},\"id\":\"1398\",\"type\":\"GlyphRenderer\"},{\"attributes\":{},\"id\":\"1444\",\"type\":\"CategoricalTickFormatter\"},{\"attributes\":{\"fill_alpha\":{\"value\":0.1},\"fill_color\":{\"value\":\"yellow\"},\"line_alpha\":{\"value\":0.1},\"line_color\":{\"value\":\"yellow\"},\"line_width\":{\"value\":5},\"top\":{\"field\":\"top\"},\"width\":{\"value\":0.9},\"x\":{\"field\":\"x\"}},\"id\":\"1397\",\"type\":\"VBar\"},{\"attributes\":{},\"id\":\"1448\",\"type\":\"UnionRenderers\"},{\"attributes\":{},\"id\":\"1376\",\"type\":\"PanTool\"},{\"attributes\":{},\"id\":\"1377\",\"type\":\"WheelZoomTool\"},{\"attributes\":{\"source\":{\"id\":\"1395\"}},\"id\":\"1399\",\"type\":\"CDSView\"},{\"attributes\":{\"fill_color\":{\"value\":\"yellow\"},\"line_color\":{\"value\":\"yellow\"},\"line_width\":{\"value\":5},\"top\":{\"field\":\"top\"},\"width\":{\"value\":0.9},\"x\":{\"field\":\"x\"}},\"id\":\"1396\",\"type\":\"VBar\"},{\"attributes\":{\"overlay\":{\"id\":\"1382\"}},\"id\":\"1378\",\"type\":\"BoxZoomTool\"},{\"attributes\":{\"active_drag\":\"auto\",\"active_inspect\":\"auto\",\"active_multi\":null,\"active_scroll\":\"auto\",\"active_tap\":\"auto\",\"tools\":[{\"id\":\"1376\"},{\"id\":\"1377\"},{\"id\":\"1378\"},{\"id\":\"1379\"},{\"id\":\"1380\"},{\"id\":\"1381\"}]},\"id\":\"1383\",\"type\":\"Toolbar\"},{\"attributes\":{},\"id\":\"1379\",\"type\":\"SaveTool\"},{\"attributes\":{\"fill_color\":{\"value\":\"red\"},\"line_color\":{\"value\":\"red\"},\"line_width\":{\"value\":5},\"top\":{\"field\":\"top\"},\"width\":{\"value\":0.9},\"x\":{\"field\":\"x\"}},\"id\":\"1401\",\"type\":\"VBar\"},{\"attributes\":{},\"id\":\"1450\",\"type\":\"UnionRenderers\"},{\"attributes\":{},\"id\":\"1380\",\"type\":\"ResetTool\"},{\"attributes\":{\"fill_alpha\":{\"value\":0.1},\"fill_color\":{\"value\":\"red\"},\"line_alpha\":{\"value\":0.1},\"line_color\":{\"value\":\"red\"},\"line_width\":{\"value\":5},\"top\":{\"field\":\"top\"},\"width\":{\"value\":0.9},\"x\":{\"field\":\"x\"}},\"id\":\"1402\",\"type\":\"VBar\"},{\"attributes\":{\"factors\":[\"North Dakota\",\"Minnesota\",\"Alaska\",\"Michigan\",\"South Dakota\",\"Colorado\",\"Montana\",\"Nebraska\",\"Wyoming\",\"Wisconsin\",\"Rhode Island\",\"Idaho\",\"Illinois\",\"Connecticut\",\"Indiana\",\"New Mexico\",\"Ohio\",\"Oregon\",\"Virgin Islands\",\"Missouri\",\"Delaware\",\"Nevada\",\"Pennsylvania\",\"Iowa\",\"Kentucky\",\"Utah\",\"Vermont\",\"Maryland\",\"New Jersey\",\"Kansas\",\"District of Columbia\",\"Washington\",\"New Hampshire\",\"Texas\",\"Massachusetts\",\"Arizona\",\"Mississippi\",\"Oklahoma\",\"Tennessee\",\"North Carolina\",\"West Virginia\",\"Arkansas\",\"Louisiana\",\"Virginia\",\"Alabama\",\"Hawaii\",\"Florida\",\"South Carolina\",\"New York\",\"Georgia\",\"Maine\",\"Puerto Rico\",\"California\"]},\"id\":\"1361\",\"type\":\"FactorRange\"},{\"attributes\":{},\"id\":\"1381\",\"type\":\"HelpTool\"},{\"attributes\":{},\"id\":\"1449\",\"type\":\"Selection\"},{\"attributes\":{},\"id\":\"1363\",\"type\":\"DataRange1d\"},{\"attributes\":{},\"id\":\"1365\",\"type\":\"CategoricalScale\"},{\"attributes\":{},\"id\":\"1447\",\"type\":\"Selection\"},{\"attributes\":{},\"id\":\"1367\",\"type\":\"LinearScale\"},{\"attributes\":{\"source\":{\"id\":\"1400\"}},\"id\":\"1404\",\"type\":\"CDSView\"},{\"attributes\":{\"formatter\":{\"id\":\"1444\"},\"major_label_orientation\":\"vertical\",\"ticker\":{\"id\":\"1370\"}},\"id\":\"1369\",\"type\":\"CategoricalAxis\"},{\"attributes\":{\"data_source\":{\"id\":\"1390\"},\"glyph\":{\"id\":\"1391\"},\"hover_glyph\":null,\"muted_glyph\":null,\"nonselection_glyph\":{\"id\":\"1392\"},\"selection_glyph\":null,\"view\":{\"id\":\"1394\"}},\"id\":\"1393\",\"type\":\"GlyphRenderer\"},{\"attributes\":{},\"id\":\"1370\",\"type\":\"CategoricalTicker\"},{\"attributes\":{},\"id\":\"1442\",\"type\":\"BasicTickFormatter\"},{\"attributes\":{\"axis\":{\"id\":\"1369\"},\"grid_line_color\":null,\"ticker\":null},\"id\":\"1371\",\"type\":\"Grid\"},{\"attributes\":{\"fill_alpha\":{\"value\":0.1},\"fill_color\":{\"value\":\"green\"},\"line_alpha\":{\"value\":0.1},\"line_color\":{\"value\":\"green\"},\"line_width\":{\"value\":5},\"top\":{\"field\":\"top\"},\"width\":{\"value\":0.9},\"x\":{\"field\":\"x\"}},\"id\":\"1392\",\"type\":\"VBar\"},{\"attributes\":{\"bottom_units\":\"screen\",\"fill_alpha\":0.5,\"fill_color\":\"lightgrey\",\"left_units\":\"screen\",\"level\":\"overlay\",\"line_alpha\":1.0,\"line_color\":\"black\",\"line_dash\":[4,4],\"line_width\":2,\"render_mode\":\"css\",\"right_units\":\"screen\",\"top_units\":\"screen\"},\"id\":\"1382\",\"type\":\"BoxAnnotation\"},{\"attributes\":{\"formatter\":{\"id\":\"1442\"},\"ticker\":{\"id\":\"1373\"}},\"id\":\"1372\",\"type\":\"LinearAxis\"},{\"attributes\":{},\"id\":\"1446\",\"type\":\"UnionRenderers\"},{\"attributes\":{\"data\":{\"top\":[1.103655432237043,1.1058157569346665,1.1970287860804236,1.2126200274348422,1.2228903587893365,1.2601253192668236],\"x\":[\"South Carolina\",\"New York\",\"Georgia\",\"Maine\",\"Puerto Rico\",\"California\"]},\"selected\":{\"id\":\"1449\"},\"selection_policy\":{\"id\":\"1450\"}},\"id\":\"1400\",\"type\":\"ColumnDataSource\"},{\"attributes\":{},\"id\":\"1373\",\"type\":\"BasicTicker\"},{\"attributes\":{},\"id\":\"1445\",\"type\":\"Selection\"},{\"attributes\":{\"data_source\":{\"id\":\"1400\"},\"glyph\":{\"id\":\"1401\"},\"hover_glyph\":null,\"muted_glyph\":null,\"nonselection_glyph\":{\"id\":\"1402\"},\"selection_glyph\":null,\"view\":{\"id\":\"1404\"}},\"id\":\"1403\",\"type\":\"GlyphRenderer\"},{\"attributes\":{\"axis\":{\"id\":\"1372\"},\"dimension\":1,\"ticker\":null},\"id\":\"1375\",\"type\":\"Grid\"},{\"attributes\":{\"text\":\"14 -day\"},\"id\":\"1359\",\"type\":\"Title\"},{\"attributes\":{\"source\":{\"id\":\"1390\"}},\"id\":\"1394\",\"type\":\"CDSView\"},{\"attributes\":{\"fill_color\":{\"value\":\"green\"},\"line_color\":{\"value\":\"green\"},\"line_width\":{\"value\":5},\"top\":{\"field\":\"top\"},\"width\":{\"value\":0.9},\"x\":{\"field\":\"x\"}},\"id\":\"1391\",\"type\":\"VBar\"},{\"attributes\":{\"data\":{\"top\":[0.4111799789498304,0.45295664715364387,0.4611201110853969,0.5592031214827043,0.5880203826555138,0.6198158352668214,0.6356005788712011,0.65625,0.6587971738755816,0.6650824713447022,0.6823994419902348,0.6954916439953363,0.7008092655996594,0.7119240819694678,0.7137381682442341,0.7207831067795161,0.7217613969136055,0.7557546732581492,0.7615062761506275,0.7617064963212229,0.7717033211646336,0.7748338983050848,0.775151713159596,0.7830659898477158,0.7831015299026425,0.8111443044551239,0.8184754521963824,0.829073856975381,0.8311744825285389,0.8340319543162626,0.8393617021276596,0.8599288408549798,0.8836140888208269,0.9117587323167219,0.9130795649685174,0.9505797183417227,0.9526324934839271,0.9746549151277746,0.9974410873281386],\"x\":[\"North Dakota\",\"Minnesota\",\"Alaska\",\"Michigan\",\"South Dakota\",\"Colorado\",\"Montana\",\"Nebraska\",\"Wyoming\",\"Wisconsin\",\"Rhode Island\",\"Idaho\",\"Illinois\",\"Connecticut\",\"Indiana\",\"New Mexico\",\"Ohio\",\"Oregon\",\"Virgin Islands\",\"Missouri\",\"Delaware\",\"Nevada\",\"Pennsylvania\",\"Iowa\",\"Kentucky\",\"Utah\",\"Vermont\",\"Maryland\",\"New Jersey\",\"Kansas\",\"District of Columbia\",\"Washington\",\"New Hampshire\",\"Texas\",\"Massachusetts\",\"Arizona\",\"Mississippi\",\"Oklahoma\",\"Tennessee\"]},\"selected\":{\"id\":\"1445\"},\"selection_policy\":{\"id\":\"1446\"}},\"id\":\"1390\",\"type\":\"ColumnDataSource\"},{\"attributes\":{\"data\":{\"top\":[1.0047963700479638,1.0254957507082154,1.031451155654871,1.0430868167202572,1.0471262057877813,1.0485126608211097,1.0726439790575917,1.0992381993803535],\"x\":[\"North Carolina\",\"West Virginia\",\"Arkansas\",\"Louisiana\",\"Virginia\",\"Alabama\",\"Hawaii\",\"Florida\"]},\"selected\":{\"id\":\"1447\"},\"selection_policy\":{\"id\":\"1448\"}},\"id\":\"1395\",\"type\":\"ColumnDataSource\"}],\"root_ids\":[\"1358\"]},\"title\":\"Bokeh Application\",\"version\":\"2.0.2\"}};\n",
       "  var render_items = [{\"docid\":\"0131f590-c5f9-44c5-ab97-41ead649116a\",\"root_ids\":[\"1358\"],\"roots\":{\"1358\":\"65a66b9f-578e-4e79-b7d4-4956aaa26f7d\"}}];\n",
       "  root.Bokeh.embed.embed_items_notebook(docs_json, render_items);\n",
       "\n",
       "  }\n",
       "  if (root.Bokeh !== undefined) {\n",
       "    embed_document(root);\n",
       "  } else {\n",
       "    var attempts = 0;\n",
       "    var timer = setInterval(function(root) {\n",
       "      if (root.Bokeh !== undefined) {\n",
       "        clearInterval(timer);\n",
       "        embed_document(root);\n",
       "      } else {\n",
       "        attempts++;\n",
       "        if (attempts > 100) {\n",
       "          clearInterval(timer);\n",
       "          console.log(\"Bokeh: ERROR: Unable to run BokehJS code because BokehJS library is missing\");\n",
       "        }\n",
       "      }\n",
       "    }, 10, root)\n",
       "  }\n",
       "})(window);"
      ],
      "application/vnd.bokehjs_exec.v0+json": ""
     },
     "metadata": {
      "application/vnd.bokehjs_exec.v0+json": {
       "id": "1358"
      }
     },
     "output_type": "display_data"
    },
    {
     "data": {
      "text/html": [
       "\n",
       "\n",
       "\n",
       "\n",
       "\n",
       "\n",
       "  <div class=\"bk-root\" id=\"b750c127-d6e3-4eaa-a1c6-7c046141d9b3\" data-root-id=\"1524\"></div>\n"
      ]
     },
     "metadata": {},
     "output_type": "display_data"
    },
    {
     "data": {
      "application/javascript": [
       "(function(root) {\n",
       "  function embed_document(root) {\n",
       "    \n",
       "  var docs_json = {\"0001ac7e-c8b7-485a-853b-0d86b082f075\":{\"roots\":{\"references\":[{\"attributes\":{\"below\":[{\"id\":\"1535\"}],\"center\":[{\"id\":\"1537\"},{\"id\":\"1541\"}],\"left\":[{\"id\":\"1538\"}],\"plot_height\":450,\"plot_width\":800,\"renderers\":[{\"id\":\"1559\"},{\"id\":\"1564\"},{\"id\":\"1569\"}],\"title\":{\"id\":\"1525\"},\"toolbar\":{\"id\":\"1549\"},\"x_range\":{\"id\":\"1527\"},\"x_scale\":{\"id\":\"1531\"},\"y_range\":{\"id\":\"1529\"},\"y_scale\":{\"id\":\"1533\"}},\"id\":\"1524\",\"subtype\":\"Figure\",\"type\":\"Plot\"},{\"attributes\":{},\"id\":\"1627\",\"type\":\"Selection\"},{\"attributes\":{\"formatter\":{\"id\":\"1622\"},\"major_label_orientation\":\"vertical\",\"ticker\":{\"id\":\"1536\"}},\"id\":\"1535\",\"type\":\"CategoricalAxis\"},{\"attributes\":{},\"id\":\"1628\",\"type\":\"UnionRenderers\"},{\"attributes\":{\"bottom_units\":\"screen\",\"fill_alpha\":0.5,\"fill_color\":\"lightgrey\",\"left_units\":\"screen\",\"level\":\"overlay\",\"line_alpha\":1.0,\"line_color\":\"black\",\"line_dash\":[4,4],\"line_width\":2,\"render_mode\":\"css\",\"right_units\":\"screen\",\"top_units\":\"screen\"},\"id\":\"1548\",\"type\":\"BoxAnnotation\"},{\"attributes\":{},\"id\":\"1536\",\"type\":\"CategoricalTicker\"},{\"attributes\":{\"axis\":{\"id\":\"1535\"},\"grid_line_color\":null,\"ticker\":null},\"id\":\"1537\",\"type\":\"Grid\"},{\"attributes\":{},\"id\":\"1539\",\"type\":\"BasicTicker\"},{\"attributes\":{\"formatter\":{\"id\":\"1620\"},\"ticker\":{\"id\":\"1539\"}},\"id\":\"1538\",\"type\":\"LinearAxis\"},{\"attributes\":{\"source\":{\"id\":\"1556\"}},\"id\":\"1560\",\"type\":\"CDSView\"},{\"attributes\":{\"fill_alpha\":{\"value\":0.1},\"fill_color\":{\"value\":\"yellow\"},\"line_alpha\":{\"value\":0.1},\"line_color\":{\"value\":\"yellow\"},\"line_width\":{\"value\":5},\"top\":{\"field\":\"top\"},\"width\":{\"value\":0.9},\"x\":{\"field\":\"x\"}},\"id\":\"1563\",\"type\":\"VBar\"},{\"attributes\":{\"fill_color\":{\"value\":\"green\"},\"line_color\":{\"value\":\"green\"},\"line_width\":{\"value\":5},\"top\":{\"field\":\"top\"},\"width\":{\"value\":0.9},\"x\":{\"field\":\"x\"}},\"id\":\"1557\",\"type\":\"VBar\"},{\"attributes\":{\"axis\":{\"id\":\"1538\"},\"dimension\":1,\"ticker\":null},\"id\":\"1541\",\"type\":\"Grid\"},{\"attributes\":{\"data\":{\"top\":[1.0169484803215187,1.0942966267612413],\"x\":[\"Kentucky\",\"Oregon\"]},\"selected\":{\"id\":\"1625\"},\"selection_policy\":{\"id\":\"1626\"}},\"id\":\"1561\",\"type\":\"ColumnDataSource\"},{\"attributes\":{\"source\":{\"id\":\"1561\"}},\"id\":\"1565\",\"type\":\"CDSView\"},{\"attributes\":{\"fill_color\":{\"value\":\"yellow\"},\"line_color\":{\"value\":\"yellow\"},\"line_width\":{\"value\":5},\"top\":{\"field\":\"top\"},\"width\":{\"value\":0.9},\"x\":{\"field\":\"x\"}},\"id\":\"1562\",\"type\":\"VBar\"},{\"attributes\":{\"data\":{\"top\":[1.1357132320401238,1.1428054834149708,1.2118231983827787,1.2119080517522927,1.2171250583721276,1.2331738016279772,1.2501163539139477,1.253760886777514,1.2830446672743847,1.2896583394562822,1.332538449758253,1.351421188630491,1.3658908366066718,1.4349025838280793,1.4614666280952306,1.4919503792718627,1.6115714475037706,1.6242303356170322,1.6307474652204668,1.6933159472320536,1.722266430354107,1.782336080257972,1.7983369818515642,1.8218947840215138,1.8728929533408638,1.8846799092100999,1.9416844646671003,1.984595073387265,2.046607698289269,2.0678093331665206,2.0945273631840795,2.200545702592087,3.161342965247608],\"x\":[\"Oklahoma\",\"Washington\",\"Puerto Rico\",\"Rhode Island\",\"Ohio\",\"Nevada\",\"New Jersey\",\"Hawaii\",\"Vermont\",\"Maryland\",\"Arkansas\",\"Connecticut\",\"Louisiana\",\"West Virginia\",\"Florida\",\"Texas\",\"Pennsylvania\",\"Mississippi\",\"District of Columbia\",\"Alabama\",\"Tennessee\",\"Delaware\",\"Virginia\",\"North Carolina\",\"Arizona\",\"Massachusetts\",\"New Hampshire\",\"New York\",\"Georgia\",\"South Carolina\",\"Virgin Islands\",\"Maine\",\"California\"]},\"selected\":{\"id\":\"1627\"},\"selection_policy\":{\"id\":\"1628\"}},\"id\":\"1566\",\"type\":\"ColumnDataSource\"},{\"attributes\":{},\"id\":\"1542\",\"type\":\"PanTool\"},{\"attributes\":{},\"id\":\"1543\",\"type\":\"WheelZoomTool\"},{\"attributes\":{},\"id\":\"1531\",\"type\":\"CategoricalScale\"},{\"attributes\":{\"data_source\":{\"id\":\"1561\"},\"glyph\":{\"id\":\"1562\"},\"hover_glyph\":null,\"muted_glyph\":null,\"nonselection_glyph\":{\"id\":\"1563\"},\"selection_glyph\":null,\"view\":{\"id\":\"1565\"}},\"id\":\"1564\",\"type\":\"GlyphRenderer\"},{\"attributes\":{},\"id\":\"1533\",\"type\":\"LinearScale\"},{\"attributes\":{\"overlay\":{\"id\":\"1548\"}},\"id\":\"1544\",\"type\":\"BoxZoomTool\"},{\"attributes\":{},\"id\":\"1623\",\"type\":\"Selection\"},{\"attributes\":{\"fill_alpha\":{\"value\":0.1},\"fill_color\":{\"value\":\"green\"},\"line_alpha\":{\"value\":0.1},\"line_color\":{\"value\":\"green\"},\"line_width\":{\"value\":5},\"top\":{\"field\":\"top\"},\"width\":{\"value\":0.9},\"x\":{\"field\":\"x\"}},\"id\":\"1558\",\"type\":\"VBar\"},{\"attributes\":{\"fill_color\":{\"value\":\"red\"},\"line_color\":{\"value\":\"red\"},\"line_width\":{\"value\":5},\"top\":{\"field\":\"top\"},\"width\":{\"value\":0.9},\"x\":{\"field\":\"x\"}},\"id\":\"1567\",\"type\":\"VBar\"},{\"attributes\":{},\"id\":\"1545\",\"type\":\"SaveTool\"},{\"attributes\":{\"data_source\":{\"id\":\"1566\"},\"glyph\":{\"id\":\"1567\"},\"hover_glyph\":null,\"muted_glyph\":null,\"nonselection_glyph\":{\"id\":\"1568\"},\"selection_glyph\":null,\"view\":{\"id\":\"1570\"}},\"id\":\"1569\",\"type\":\"GlyphRenderer\"},{\"attributes\":{},\"id\":\"1622\",\"type\":\"CategoricalTickFormatter\"},{\"attributes\":{\"source\":{\"id\":\"1566\"}},\"id\":\"1570\",\"type\":\"CDSView\"},{\"attributes\":{},\"id\":\"1620\",\"type\":\"BasicTickFormatter\"},{\"attributes\":{},\"id\":\"1546\",\"type\":\"ResetTool\"},{\"attributes\":{\"data\":{\"top\":[0.3790482173708183,0.4442151268665776,0.49457945845964135,0.5095952116500061,0.514112116427212,0.5826185308592914,0.5857490907806927,0.5972099904886039,0.6557495174329009,0.6815384463897122,0.7150790602394214,0.7728698205111096,0.7938160593153495,0.7959531013615734,0.8502548793195708,0.8644011059176514,0.9572396390466001,0.9673650610494101],\"x\":[\"North Dakota\",\"Iowa\",\"Wyoming\",\"South Dakota\",\"Minnesota\",\"Wisconsin\",\"Nebraska\",\"Montana\",\"Michigan\",\"Illinois\",\"Colorado\",\"Missouri\",\"New Mexico\",\"Alaska\",\"Kansas\",\"Utah\",\"Idaho\",\"Indiana\"]},\"selected\":{\"id\":\"1623\"},\"selection_policy\":{\"id\":\"1624\"}},\"id\":\"1556\",\"type\":\"ColumnDataSource\"},{\"attributes\":{},\"id\":\"1624\",\"type\":\"UnionRenderers\"},{\"attributes\":{\"text\":\"28 -day\"},\"id\":\"1525\",\"type\":\"Title\"},{\"attributes\":{\"fill_alpha\":{\"value\":0.1},\"fill_color\":{\"value\":\"red\"},\"line_alpha\":{\"value\":0.1},\"line_color\":{\"value\":\"red\"},\"line_width\":{\"value\":5},\"top\":{\"field\":\"top\"},\"width\":{\"value\":0.9},\"x\":{\"field\":\"x\"}},\"id\":\"1568\",\"type\":\"VBar\"},{\"attributes\":{\"data_source\":{\"id\":\"1556\"},\"glyph\":{\"id\":\"1557\"},\"hover_glyph\":null,\"muted_glyph\":null,\"nonselection_glyph\":{\"id\":\"1558\"},\"selection_glyph\":null,\"view\":{\"id\":\"1560\"}},\"id\":\"1559\",\"type\":\"GlyphRenderer\"},{\"attributes\":{\"active_drag\":\"auto\",\"active_inspect\":\"auto\",\"active_multi\":null,\"active_scroll\":\"auto\",\"active_tap\":\"auto\",\"tools\":[{\"id\":\"1542\"},{\"id\":\"1543\"},{\"id\":\"1544\"},{\"id\":\"1545\"},{\"id\":\"1546\"},{\"id\":\"1547\"}]},\"id\":\"1549\",\"type\":\"Toolbar\"},{\"attributes\":{\"factors\":[\"North Dakota\",\"Iowa\",\"Wyoming\",\"South Dakota\",\"Minnesota\",\"Wisconsin\",\"Nebraska\",\"Montana\",\"Michigan\",\"Illinois\",\"Colorado\",\"Missouri\",\"New Mexico\",\"Alaska\",\"Kansas\",\"Utah\",\"Idaho\",\"Indiana\",\"Kentucky\",\"Oregon\",\"Oklahoma\",\"Washington\",\"Puerto Rico\",\"Rhode Island\",\"Ohio\",\"Nevada\",\"New Jersey\",\"Hawaii\",\"Vermont\",\"Maryland\",\"Arkansas\",\"Connecticut\",\"Louisiana\",\"West Virginia\",\"Florida\",\"Texas\",\"Pennsylvania\",\"Mississippi\",\"District of Columbia\",\"Alabama\",\"Tennessee\",\"Delaware\",\"Virginia\",\"North Carolina\",\"Arizona\",\"Massachusetts\",\"New Hampshire\",\"New York\",\"Georgia\",\"South Carolina\",\"Virgin Islands\",\"Maine\",\"California\"]},\"id\":\"1527\",\"type\":\"FactorRange\"},{\"attributes\":{},\"id\":\"1625\",\"type\":\"Selection\"},{\"attributes\":{},\"id\":\"1529\",\"type\":\"DataRange1d\"},{\"attributes\":{},\"id\":\"1547\",\"type\":\"HelpTool\"},{\"attributes\":{},\"id\":\"1626\",\"type\":\"UnionRenderers\"}],\"root_ids\":[\"1524\"]},\"title\":\"Bokeh Application\",\"version\":\"2.0.2\"}};\n",
       "  var render_items = [{\"docid\":\"0001ac7e-c8b7-485a-853b-0d86b082f075\",\"root_ids\":[\"1524\"],\"roots\":{\"1524\":\"b750c127-d6e3-4eaa-a1c6-7c046141d9b3\"}}];\n",
       "  root.Bokeh.embed.embed_items_notebook(docs_json, render_items);\n",
       "\n",
       "  }\n",
       "  if (root.Bokeh !== undefined) {\n",
       "    embed_document(root);\n",
       "  } else {\n",
       "    var attempts = 0;\n",
       "    var timer = setInterval(function(root) {\n",
       "      if (root.Bokeh !== undefined) {\n",
       "        clearInterval(timer);\n",
       "        embed_document(root);\n",
       "      } else {\n",
       "        attempts++;\n",
       "        if (attempts > 100) {\n",
       "          clearInterval(timer);\n",
       "          console.log(\"Bokeh: ERROR: Unable to run BokehJS code because BokehJS library is missing\");\n",
       "        }\n",
       "      }\n",
       "    }, 10, root)\n",
       "  }\n",
       "})(window);"
      ],
      "application/vnd.bokehjs_exec.v0+json": ""
     },
     "metadata": {
      "application/vnd.bokehjs_exec.v0+json": {
       "id": "1524"
      }
     },
     "output_type": "display_data"
    }
   ],
   "source": [
    "def all_states(leng):\n",
    "    df = get_data()\n",
    "    neutral_n = 1.1\n",
    "    data= sorted(all_states_info(df, leng), key = lambda x: x[1])\n",
    "    neg = list(filter(lambda x: x[1] <=1, data))\n",
    "    neutral = list(filter(lambda x: x[1] > 1 and x[1] <= neutral_n, data))\n",
    "    pos = list(filter(lambda x: x[1] > neutral_n, data))\n",
    "    neg_l = [x[0] for x in neg]\n",
    "    neg_y = [x[1] for x in neg]\n",
    "    assert len(neg_l) == len(neg_y)\n",
    "    p = make_bar(labels_neg = [x[0] for x in neg], \n",
    "                 y_neg = [x[1] for x in neg],\n",
    "                labels_pos = [x[0] for x in pos],\n",
    "                 y_pos = [x[1] for x in pos],\n",
    "                 labels_neutral = [x[0] for x in neutral],\n",
    "                 y_neutral = [x[1] for x in neutral],\n",
    "                 plot_width = 800,\n",
    "                 title = '{l} -day'.format(l = leng)\n",
    "                )\n",
    "    return p\n",
    "show(all_states(7))\n",
    "show(all_states(14))\n",
    "show(all_states(28))\n",
    "\n",
    "\n"
   ]
  },
  {
   "cell_type": "code",
   "execution_count": 13,
   "metadata": {},
   "outputs": [],
   "source": [
    "def make_bar_pop(labels, y, plot_height = 450, \n",
    "             plot_width = 450, title = None, mask_dict = {}):\n",
    "    x_range = labels\n",
    "    p = figure(x_range = x_range , plot_height = plot_height, \n",
    "               plot_width = plot_width, title = title)\n",
    "    for counter, i in enumerate(labels):\n",
    "        if mask_dict.get(i):\n",
    "            color = 'green'\n",
    "            legend_label = 'Masked Mandate'\n",
    "        else:\n",
    "            color = 'blue'\n",
    "            legend_label = 'No Mandate'\n",
    "        p.vbar(x=[i], top=y[counter] , line_width = 5, width = .5, color = color, legend_label = legend_label)\n",
    "    p.xaxis.major_label_orientation = \"vertical\"\n",
    "    p.xgrid.grid_line_color = None\n",
    "    p.yaxis.axis_label = 'Cases/100,000'\n",
    "    p.legend.location = 'top_left'\n",
    "\n",
    "    return p\n",
    "    #p.y_range "
   ]
  },
  {
   "cell_type": "code",
   "execution_count": 14,
   "metadata": {},
   "outputs": [],
   "source": [
    "def get_mask():\n",
    "    final = []\n",
    "    df = pd.read_csv('data/masks_states.csv')\n",
    "    df['date'] = pd.to_datetime(df['date'])\n",
    "    states = df['state']\n",
    "    dates = df['date']\n",
    "    for counter, i in enumerate(states):\n",
    "        final.append((i, dates[counter]))\n",
    "    return final\n",
    "\n"
   ]
  },
  {
   "cell_type": "code",
   "execution_count": 15,
   "metadata": {},
   "outputs": [],
   "source": [
    "def cases_with_pop(back = 7, per = 100000):\n",
    "    df = get_data()\n",
    "    pop = get_pop()\n",
    "    final = []\n",
    "    now = datetime.datetime.now()\n",
    "    states = set(df['state'].tolist())\n",
    "    for i in states:\n",
    "        df_ = df[(df['state'] == i) & (df['date'] >= now - datetime.timedelta(days = back))]\n",
    "        if i in [\"Puerto Rico\", \"Virgin Islands\"]:\n",
    "            continue\n",
    "        cases = np.mean(df_['cases'])/pop[i] * per\n",
    "        final.append((i, cases))\n",
    "    return sorted(final, key = lambda x: x[1])\n"
   ]
  },
  {
   "cell_type": "code",
   "execution_count": 16,
   "metadata": {},
   "outputs": [
    {
     "data": {
      "text/html": [
       "\n",
       "\n",
       "\n",
       "\n",
       "\n",
       "\n",
       "  <div class=\"bk-root\" id=\"8da07b59-dfaf-485c-88be-3d438ec1ebfd\" data-root-id=\"1702\"></div>\n"
      ]
     },
     "metadata": {},
     "output_type": "display_data"
    },
    {
     "data": {
      "application/javascript": [
       "(function(root) {\n",
       "  function embed_document(root) {\n",
       "    \n",
       "  var docs_json = {\"8c809d5e-a7cc-4538-83a1-1497fa51d825\":{\"roots\":{\"references\":[{\"attributes\":{\"below\":[{\"id\":\"1712\"}],\"center\":[{\"id\":\"1714\"},{\"id\":\"1718\"},{\"id\":\"1744\"}],\"left\":[{\"id\":\"1715\"}],\"plot_height\":450,\"plot_width\":750,\"renderers\":[{\"id\":\"1736\"},{\"id\":\"1749\"},{\"id\":\"1762\"},{\"id\":\"1777\"},{\"id\":\"1794\"},{\"id\":\"1813\"},{\"id\":\"1835\"},{\"id\":\"1858\"},{\"id\":\"1883\"},{\"id\":\"1910\"},{\"id\":\"1939\"},{\"id\":\"1970\"},{\"id\":\"2003\"},{\"id\":\"2038\"},{\"id\":\"2075\"},{\"id\":\"2114\"},{\"id\":\"2155\"},{\"id\":\"2198\"},{\"id\":\"2243\"},{\"id\":\"2290\"},{\"id\":\"2339\"},{\"id\":\"2390\"},{\"id\":\"2443\"},{\"id\":\"2498\"},{\"id\":\"2555\"},{\"id\":\"2614\"},{\"id\":\"2675\"},{\"id\":\"2738\"},{\"id\":\"2803\"},{\"id\":\"2870\"},{\"id\":\"2939\"},{\"id\":\"3010\"},{\"id\":\"3083\"},{\"id\":\"3158\"},{\"id\":\"3235\"},{\"id\":\"3314\"},{\"id\":\"3395\"},{\"id\":\"3478\"},{\"id\":\"3563\"},{\"id\":\"3650\"},{\"id\":\"3739\"},{\"id\":\"3830\"},{\"id\":\"3923\"},{\"id\":\"4018\"},{\"id\":\"4115\"},{\"id\":\"4214\"},{\"id\":\"4315\"},{\"id\":\"4418\"},{\"id\":\"4523\"},{\"id\":\"4630\"},{\"id\":\"4739\"}],\"title\":null,\"toolbar\":{\"id\":\"1726\"},\"x_range\":{\"id\":\"1704\"},\"x_scale\":{\"id\":\"1708\"},\"y_range\":{\"id\":\"1706\"},\"y_scale\":{\"id\":\"1710\"}},\"id\":\"1702\",\"subtype\":\"Figure\",\"type\":\"Plot\"},{\"attributes\":{},\"id\":\"3152\",\"type\":\"Selection\"},{\"attributes\":{},\"id\":\"3153\",\"type\":\"UnionRenderers\"},{\"attributes\":{\"data\":{\"x\":[\"Indiana\"]},\"selected\":{\"id\":\"3308\"},\"selection_policy\":{\"id\":\"3309\"}},\"id\":\"3155\",\"type\":\"ColumnDataSource\"},{\"attributes\":{},\"id\":\"2070\",\"type\":\"UnionRenderers\"},{\"attributes\":{},\"id\":\"2193\",\"type\":\"UnionRenderers\"},{\"attributes\":{},\"id\":\"2032\",\"type\":\"Selection\"},{\"attributes\":{\"data\":{\"x\":[\"Wisconsin\"]},\"selected\":{\"id\":\"2149\"},\"selection_policy\":{\"id\":\"2150\"}},\"id\":\"2072\",\"type\":\"ColumnDataSource\"},{\"attributes\":{\"data_source\":{\"id\":\"3155\"},\"glyph\":{\"id\":\"3156\"},\"hover_glyph\":null,\"muted_glyph\":null,\"nonselection_glyph\":{\"id\":\"3157\"},\"selection_glyph\":null,\"view\":{\"id\":\"3159\"}},\"id\":\"3158\",\"type\":\"GlyphRenderer\"},{\"attributes\":{\"factors\":[\"Hawaii\",\"Vermont\",\"Oregon\",\"Washington\",\"Minnesota\",\"North Dakota\",\"Maine\",\"Alaska\",\"District of Columbia\",\"Michigan\",\"Iowa\",\"Colorado\",\"Maryland\",\"Montana\",\"Wisconsin\",\"Missouri\",\"Virginia\",\"Illinois\",\"South Dakota\",\"New Jersey\",\"Wyoming\",\"Nebraska\",\"Idaho\",\"Florida\",\"New Mexico\",\"Connecticut\",\"Louisiana\",\"Pennsylvania\",\"Ohio\",\"New Hampshire\",\"Texas\",\"Kentucky\",\"Georgia\",\"Indiana\",\"Nevada\",\"New York\",\"Mississippi\",\"North Carolina\",\"Utah\",\"South Carolina\",\"Oklahoma\",\"Alabama\",\"Delaware\",\"Arkansas\",\"Massachusetts\",\"West Virginia\",\"Kansas\",\"Arizona\",\"Tennessee\",\"Rhode Island\",\"California\"]},\"id\":\"1704\",\"type\":\"FactorRange\"},{\"attributes\":{\"fill_alpha\":{\"value\":0.1},\"fill_color\":{\"value\":\"green\"},\"line_alpha\":{\"value\":0.1},\"line_color\":{\"value\":\"green\"},\"line_width\":{\"value\":5},\"top\":{\"value\":55.20220499857972},\"width\":{\"value\":0.5},\"x\":{\"field\":\"x\"}},\"id\":\"3157\",\"type\":\"VBar\"},{\"attributes\":{\"source\":{\"id\":\"2035\"}},\"id\":\"2039\",\"type\":\"CDSView\"},{\"attributes\":{},\"id\":\"3229\",\"type\":\"Selection\"},{\"attributes\":{\"fill_color\":{\"value\":\"green\"},\"line_color\":{\"value\":\"green\"},\"line_width\":{\"value\":5},\"top\":{\"value\":35.64818886616304},\"width\":{\"value\":0.5},\"x\":{\"field\":\"x\"}},\"id\":\"2036\",\"type\":\"VBar\"},{\"attributes\":{\"fill_color\":{\"value\":\"green\"},\"line_color\":{\"value\":\"green\"},\"line_width\":{\"value\":5},\"top\":{\"value\":55.20220499857972},\"width\":{\"value\":0.5},\"x\":{\"field\":\"x\"}},\"id\":\"3156\",\"type\":\"VBar\"},{\"attributes\":{\"fill_alpha\":{\"value\":0.1},\"fill_color\":{\"value\":\"green\"},\"line_alpha\":{\"value\":0.1},\"line_color\":{\"value\":\"green\"},\"line_width\":{\"value\":5},\"top\":{\"value\":35.64818886616304},\"width\":{\"value\":0.5},\"x\":{\"field\":\"x\"}},\"id\":\"2037\",\"type\":\"VBar\"},{\"attributes\":{\"source\":{\"id\":\"3155\"}},\"id\":\"3159\",\"type\":\"CDSView\"},{\"attributes\":{\"data\":{\"x\":[\"Maryland\"]},\"selected\":{\"id\":\"2069\"},\"selection_policy\":{\"id\":\"2070\"}},\"id\":\"2000\",\"type\":\"ColumnDataSource\"},{\"attributes\":{},\"id\":\"2069\",\"type\":\"Selection\"},{\"attributes\":{},\"id\":\"3230\",\"type\":\"UnionRenderers\"},{\"attributes\":{\"data_source\":{\"id\":\"2035\"},\"glyph\":{\"id\":\"2036\"},\"hover_glyph\":null,\"muted_glyph\":null,\"nonselection_glyph\":{\"id\":\"2037\"},\"selection_glyph\":null,\"view\":{\"id\":\"2039\"}},\"id\":\"2038\",\"type\":\"GlyphRenderer\"},{\"attributes\":{\"data\":{\"x\":[\"Nevada\"]},\"selected\":{\"id\":\"3389\"},\"selection_policy\":{\"id\":\"3390\"}},\"id\":\"3232\",\"type\":\"ColumnDataSource\"},{\"attributes\":{\"data_source\":{\"id\":\"3232\"},\"glyph\":{\"id\":\"3233\"},\"hover_glyph\":null,\"muted_glyph\":null,\"nonselection_glyph\":{\"id\":\"3234\"},\"selection_glyph\":null,\"view\":{\"id\":\"3236\"}},\"id\":\"3235\",\"type\":\"GlyphRenderer\"},{\"attributes\":{\"data\":{\"x\":[\"Montana\"]},\"selected\":{\"id\":\"2108\"},\"selection_policy\":{\"id\":\"2109\"}},\"id\":\"2035\",\"type\":\"ColumnDataSource\"},{\"attributes\":{\"fill_alpha\":{\"value\":0.1},\"fill_color\":{\"value\":\"green\"},\"line_alpha\":{\"value\":0.1},\"line_color\":{\"value\":\"green\"},\"line_width\":{\"value\":5},\"top\":{\"value\":56.11728756595445},\"width\":{\"value\":0.5},\"x\":{\"field\":\"x\"}},\"id\":\"3234\",\"type\":\"VBar\"},{\"attributes\":{},\"id\":\"2033\",\"type\":\"UnionRenderers\"},{\"attributes\":{},\"id\":\"3308\",\"type\":\"Selection\"},{\"attributes\":{\"source\":{\"id\":\"2000\"}},\"id\":\"2004\",\"type\":\"CDSView\"},{\"attributes\":{\"fill_color\":{\"value\":\"green\"},\"line_color\":{\"value\":\"green\"},\"line_width\":{\"value\":5},\"top\":{\"value\":56.11728756595445},\"width\":{\"value\":0.5},\"x\":{\"field\":\"x\"}},\"id\":\"3233\",\"type\":\"VBar\"},{\"attributes\":{\"fill_color\":{\"value\":\"green\"},\"line_color\":{\"value\":\"green\"},\"line_width\":{\"value\":5},\"top\":{\"value\":35.52674526824664},\"width\":{\"value\":0.5},\"x\":{\"field\":\"x\"}},\"id\":\"2001\",\"type\":\"VBar\"},{\"attributes\":{\"source\":{\"id\":\"3232\"}},\"id\":\"3236\",\"type\":\"CDSView\"},{\"attributes\":{\"fill_alpha\":{\"value\":0.1},\"fill_color\":{\"value\":\"green\"},\"line_alpha\":{\"value\":0.1},\"line_color\":{\"value\":\"green\"},\"line_width\":{\"value\":5},\"top\":{\"value\":35.52674526824664},\"width\":{\"value\":0.5},\"x\":{\"field\":\"x\"}},\"id\":\"2002\",\"type\":\"VBar\"},{\"attributes\":{},\"id\":\"3309\",\"type\":\"UnionRenderers\"},{\"attributes\":{\"data_source\":{\"id\":\"2000\"},\"glyph\":{\"id\":\"2001\"},\"hover_glyph\":null,\"muted_glyph\":null,\"nonselection_glyph\":{\"id\":\"2002\"},\"selection_glyph\":null,\"view\":{\"id\":\"2004\"}},\"id\":\"2003\",\"type\":\"GlyphRenderer\"},{\"attributes\":{\"data\":{\"x\":[\"New York\"]},\"selected\":{\"id\":\"3472\"},\"selection_policy\":{\"id\":\"3473\"}},\"id\":\"3311\",\"type\":\"ColumnDataSource\"},{\"attributes\":{},\"id\":\"1997\",\"type\":\"Selection\"},{\"attributes\":{\"data_source\":{\"id\":\"2072\"},\"glyph\":{\"id\":\"2073\"},\"hover_glyph\":null,\"muted_glyph\":null,\"nonselection_glyph\":{\"id\":\"2074\"},\"selection_glyph\":null,\"view\":{\"id\":\"2076\"}},\"id\":\"2075\",\"type\":\"GlyphRenderer\"},{\"attributes\":{},\"id\":\"1998\",\"type\":\"UnionRenderers\"},{\"attributes\":{\"data_source\":{\"id\":\"3311\"},\"glyph\":{\"id\":\"3312\"},\"hover_glyph\":null,\"muted_glyph\":null,\"nonselection_glyph\":{\"id\":\"3313\"},\"selection_glyph\":null,\"view\":{\"id\":\"3315\"}},\"id\":\"3314\",\"type\":\"GlyphRenderer\"},{\"attributes\":{\"fill_alpha\":{\"value\":0.1},\"fill_color\":{\"value\":\"green\"},\"line_alpha\":{\"value\":0.1},\"line_color\":{\"value\":\"green\"},\"line_width\":{\"value\":5},\"top\":{\"value\":35.838391069210346},\"width\":{\"value\":0.5},\"x\":{\"field\":\"x\"}},\"id\":\"2074\",\"type\":\"VBar\"},{\"attributes\":{\"source\":{\"id\":\"1967\"}},\"id\":\"1971\",\"type\":\"CDSView\"},{\"attributes\":{\"fill_alpha\":{\"value\":0.1},\"fill_color\":{\"value\":\"green\"},\"line_alpha\":{\"value\":0.1},\"line_color\":{\"value\":\"green\"},\"line_width\":{\"value\":5},\"top\":{\"value\":57.74863875393644},\"width\":{\"value\":0.5},\"x\":{\"field\":\"x\"}},\"id\":\"3313\",\"type\":\"VBar\"},{\"attributes\":{},\"id\":\"3389\",\"type\":\"Selection\"},{\"attributes\":{\"source\":{\"id\":\"2072\"}},\"id\":\"2076\",\"type\":\"CDSView\"},{\"attributes\":{\"fill_color\":{\"value\":\"green\"},\"line_color\":{\"value\":\"green\"},\"line_width\":{\"value\":5},\"top\":{\"value\":57.74863875393644},\"width\":{\"value\":0.5},\"x\":{\"field\":\"x\"}},\"id\":\"3312\",\"type\":\"VBar\"},{\"attributes\":{\"source\":{\"id\":\"3311\"}},\"id\":\"3315\",\"type\":\"CDSView\"},{\"attributes\":{\"data\":{\"x\":[\"Missouri\"]},\"selected\":{\"id\":\"2192\"},\"selection_policy\":{\"id\":\"2193\"}},\"id\":\"2111\",\"type\":\"ColumnDataSource\"},{\"attributes\":{},\"id\":\"3390\",\"type\":\"UnionRenderers\"},{\"attributes\":{},\"id\":\"2109\",\"type\":\"UnionRenderers\"},{\"attributes\":{\"fill_color\":{\"value\":\"green\"},\"line_color\":{\"value\":\"green\"},\"line_width\":{\"value\":5},\"top\":{\"value\":35.838391069210346},\"width\":{\"value\":0.5},\"x\":{\"field\":\"x\"}},\"id\":\"2073\",\"type\":\"VBar\"},{\"attributes\":{\"data\":{\"x\":[\"Mississippi\"]},\"selected\":{\"id\":\"3557\"},\"selection_policy\":{\"id\":\"3558\"}},\"id\":\"3392\",\"type\":\"ColumnDataSource\"},{\"attributes\":{},\"id\":\"2108\",\"type\":\"Selection\"},{\"attributes\":{\"fill_alpha\":{\"value\":0.1},\"fill_color\":{\"value\":\"blue\"},\"line_alpha\":{\"value\":0.1},\"line_color\":{\"value\":\"blue\"},\"line_width\":{\"value\":5},\"top\":{\"value\":39.503518411947155},\"width\":{\"value\":0.5},\"x\":{\"field\":\"x\"}},\"id\":\"2113\",\"type\":\"VBar\"},{\"attributes\":{\"data\":{\"x\":[\"Virginia\"]},\"selected\":{\"id\":\"2237\"},\"selection_policy\":{\"id\":\"2238\"}},\"id\":\"2152\",\"type\":\"ColumnDataSource\"},{\"attributes\":{\"data_source\":{\"id\":\"3392\"},\"glyph\":{\"id\":\"3393\"},\"hover_glyph\":null,\"muted_glyph\":null,\"nonselection_glyph\":{\"id\":\"3394\"},\"selection_glyph\":null,\"view\":{\"id\":\"3396\"}},\"id\":\"3395\",\"type\":\"GlyphRenderer\"},{\"attributes\":{\"data_source\":{\"id\":\"2111\"},\"glyph\":{\"id\":\"2112\"},\"hover_glyph\":null,\"muted_glyph\":null,\"nonselection_glyph\":{\"id\":\"2113\"},\"selection_glyph\":null,\"view\":{\"id\":\"2115\"}},\"id\":\"2114\",\"type\":\"GlyphRenderer\"},{\"attributes\":{\"fill_alpha\":{\"value\":0.1},\"fill_color\":{\"value\":\"blue\"},\"line_alpha\":{\"value\":0.1},\"line_color\":{\"value\":\"blue\"},\"line_width\":{\"value\":5},\"top\":{\"value\":58.263211956121815},\"width\":{\"value\":0.5},\"x\":{\"field\":\"x\"}},\"id\":\"3394\",\"type\":\"VBar\"},{\"attributes\":{},\"id\":\"2149\",\"type\":\"Selection\"},{\"attributes\":{},\"id\":\"3472\",\"type\":\"Selection\"},{\"attributes\":{\"fill_color\":{\"value\":\"blue\"},\"line_color\":{\"value\":\"blue\"},\"line_width\":{\"value\":5},\"top\":{\"value\":58.263211956121815},\"width\":{\"value\":0.5},\"x\":{\"field\":\"x\"}},\"id\":\"3393\",\"type\":\"VBar\"},{\"attributes\":{\"source\":{\"id\":\"2111\"}},\"id\":\"2115\",\"type\":\"CDSView\"},{\"attributes\":{\"source\":{\"id\":\"3392\"}},\"id\":\"3396\",\"type\":\"CDSView\"},{\"attributes\":{\"fill_color\":{\"value\":\"blue\"},\"line_color\":{\"value\":\"blue\"},\"line_width\":{\"value\":5},\"top\":{\"value\":39.503518411947155},\"width\":{\"value\":0.5},\"x\":{\"field\":\"x\"}},\"id\":\"2112\",\"type\":\"VBar\"},{\"attributes\":{},\"id\":\"3473\",\"type\":\"UnionRenderers\"},{\"attributes\":{\"data\":{\"x\":[\"North Carolina\"]},\"selected\":{\"id\":\"3644\"},\"selection_policy\":{\"id\":\"3645\"}},\"id\":\"3475\",\"type\":\"ColumnDataSource\"},{\"attributes\":{},\"id\":\"2150\",\"type\":\"UnionRenderers\"},{\"attributes\":{\"data_source\":{\"id\":\"2152\"},\"glyph\":{\"id\":\"2153\"},\"hover_glyph\":null,\"muted_glyph\":null,\"nonselection_glyph\":{\"id\":\"2154\"},\"selection_glyph\":null,\"view\":{\"id\":\"2156\"}},\"id\":\"2155\",\"type\":\"GlyphRenderer\"},{\"attributes\":{\"source\":{\"id\":\"2152\"}},\"id\":\"2156\",\"type\":\"CDSView\"},{\"attributes\":{\"fill_color\":{\"value\":\"green\"},\"line_color\":{\"value\":\"green\"},\"line_width\":{\"value\":5},\"top\":{\"value\":39.89212606755371},\"width\":{\"value\":0.5},\"x\":{\"field\":\"x\"}},\"id\":\"2153\",\"type\":\"VBar\"},{\"attributes\":{\"data_source\":{\"id\":\"3475\"},\"glyph\":{\"id\":\"3476\"},\"hover_glyph\":null,\"muted_glyph\":null,\"nonselection_glyph\":{\"id\":\"3477\"},\"selection_glyph\":null,\"view\":{\"id\":\"3479\"}},\"id\":\"3478\",\"type\":\"GlyphRenderer\"},{\"attributes\":{},\"id\":\"2192\",\"type\":\"Selection\"},{\"attributes\":{\"fill_alpha\":{\"value\":0.1},\"fill_color\":{\"value\":\"green\"},\"line_alpha\":{\"value\":0.1},\"line_color\":{\"value\":\"green\"},\"line_width\":{\"value\":5},\"top\":{\"value\":58.97963186920827},\"width\":{\"value\":0.5},\"x\":{\"field\":\"x\"}},\"id\":\"3477\",\"type\":\"VBar\"},{\"attributes\":{\"fill_alpha\":{\"value\":0.1},\"fill_color\":{\"value\":\"green\"},\"line_alpha\":{\"value\":0.1},\"line_color\":{\"value\":\"green\"},\"line_width\":{\"value\":5},\"top\":{\"value\":39.89212606755371},\"width\":{\"value\":0.5},\"x\":{\"field\":\"x\"}},\"id\":\"2154\",\"type\":\"VBar\"},{\"attributes\":{},\"id\":\"3557\",\"type\":\"Selection\"},{\"attributes\":{\"fill_color\":{\"value\":\"green\"},\"line_color\":{\"value\":\"green\"},\"line_width\":{\"value\":5},\"top\":{\"value\":58.97963186920827},\"width\":{\"value\":0.5},\"x\":{\"field\":\"x\"}},\"id\":\"3476\",\"type\":\"VBar\"},{\"attributes\":{\"source\":{\"id\":\"3475\"}},\"id\":\"3479\",\"type\":\"CDSView\"},{\"attributes\":{\"fill_alpha\":{\"value\":0.1},\"fill_color\":{\"value\":\"green\"},\"line_alpha\":{\"value\":0.1},\"line_color\":{\"value\":\"green\"},\"line_width\":{\"value\":5},\"top\":{\"value\":40.6229433533402},\"width\":{\"value\":0.5},\"x\":{\"field\":\"x\"}},\"id\":\"2197\",\"type\":\"VBar\"},{\"attributes\":{\"source\":{\"id\":\"2195\"}},\"id\":\"2199\",\"type\":\"CDSView\"},{\"attributes\":{\"data_source\":{\"id\":\"4520\"},\"glyph\":{\"id\":\"4521\"},\"hover_glyph\":null,\"muted_glyph\":null,\"nonselection_glyph\":{\"id\":\"4522\"},\"selection_glyph\":null,\"view\":{\"id\":\"4524\"}},\"id\":\"4523\",\"type\":\"GlyphRenderer\"},{\"attributes\":{\"fill_color\":{\"value\":\"green\"},\"line_color\":{\"value\":\"green\"},\"line_width\":{\"value\":5},\"top\":{\"value\":40.6229433533402},\"width\":{\"value\":0.5},\"x\":{\"field\":\"x\"}},\"id\":\"2196\",\"type\":\"VBar\"},{\"attributes\":{},\"id\":\"2237\",\"type\":\"Selection\"},{\"attributes\":{\"fill_alpha\":{\"value\":0.1},\"fill_color\":{\"value\":\"blue\"},\"line_alpha\":{\"value\":0.1},\"line_color\":{\"value\":\"blue\"},\"line_width\":{\"value\":5},\"top\":{\"value\":83.17745796685416},\"width\":{\"value\":0.5},\"x\":{\"field\":\"x\"}},\"id\":\"4522\",\"type\":\"VBar\"},{\"attributes\":{\"data_source\":{\"id\":\"2195\"},\"glyph\":{\"id\":\"2196\"},\"hover_glyph\":null,\"muted_glyph\":null,\"nonselection_glyph\":{\"id\":\"2197\"},\"selection_glyph\":null,\"view\":{\"id\":\"2199\"}},\"id\":\"2198\",\"type\":\"GlyphRenderer\"},{\"attributes\":{},\"id\":\"4624\",\"type\":\"Selection\"},{\"attributes\":{\"fill_color\":{\"value\":\"blue\"},\"line_color\":{\"value\":\"blue\"},\"line_width\":{\"value\":5},\"top\":{\"value\":83.17745796685416},\"width\":{\"value\":0.5},\"x\":{\"field\":\"x\"}},\"id\":\"4521\",\"type\":\"VBar\"},{\"attributes\":{\"source\":{\"id\":\"4520\"}},\"id\":\"4524\",\"type\":\"CDSView\"},{\"attributes\":{},\"id\":\"2238\",\"type\":\"UnionRenderers\"},{\"attributes\":{\"data\":{\"x\":[\"South Dakota\"]},\"selected\":{\"id\":\"2333\"},\"selection_policy\":{\"id\":\"2334\"}},\"id\":\"2240\",\"type\":\"ColumnDataSource\"},{\"attributes\":{},\"id\":\"4625\",\"type\":\"UnionRenderers\"},{\"attributes\":{\"data\":{\"x\":[\"Rhode Island\"]},\"selected\":{\"id\":\"4844\"},\"selection_policy\":{\"id\":\"4845\"}},\"id\":\"4627\",\"type\":\"ColumnDataSource\"},{\"attributes\":{\"data_source\":{\"id\":\"2240\"},\"glyph\":{\"id\":\"2241\"},\"hover_glyph\":null,\"muted_glyph\":null,\"nonselection_glyph\":{\"id\":\"2242\"},\"selection_glyph\":null,\"view\":{\"id\":\"2244\"}},\"id\":\"2243\",\"type\":\"GlyphRenderer\"},{\"attributes\":{\"data_source\":{\"id\":\"4627\"},\"glyph\":{\"id\":\"4628\"},\"hover_glyph\":null,\"muted_glyph\":null,\"nonselection_glyph\":{\"id\":\"4629\"},\"selection_glyph\":null,\"view\":{\"id\":\"4631\"}},\"id\":\"4630\",\"type\":\"GlyphRenderer\"},{\"attributes\":{\"fill_alpha\":{\"value\":0.1},\"fill_color\":{\"value\":\"blue\"},\"line_alpha\":{\"value\":0.1},\"line_color\":{\"value\":\"blue\"},\"line_width\":{\"value\":5},\"top\":{\"value\":40.957400911914455},\"width\":{\"value\":0.5},\"x\":{\"field\":\"x\"}},\"id\":\"2242\",\"type\":\"VBar\"},{\"attributes\":{},\"id\":\"2284\",\"type\":\"Selection\"},{\"attributes\":{\"fill_color\":{\"value\":\"blue\"},\"line_color\":{\"value\":\"blue\"},\"line_width\":{\"value\":5},\"top\":{\"value\":40.957400911914455},\"width\":{\"value\":0.5},\"x\":{\"field\":\"x\"}},\"id\":\"2241\",\"type\":\"VBar\"},{\"attributes\":{\"fill_alpha\":{\"value\":0.1},\"fill_color\":{\"value\":\"green\"},\"line_alpha\":{\"value\":0.1},\"line_color\":{\"value\":\"green\"},\"line_width\":{\"value\":5},\"top\":{\"value\":92.55579542762099},\"width\":{\"value\":0.5},\"x\":{\"field\":\"x\"}},\"id\":\"4629\",\"type\":\"VBar\"},{\"attributes\":{\"source\":{\"id\":\"2240\"}},\"id\":\"2244\",\"type\":\"CDSView\"},{\"attributes\":{},\"id\":\"4733\",\"type\":\"Selection\"},{\"attributes\":{\"fill_color\":{\"value\":\"green\"},\"line_color\":{\"value\":\"green\"},\"line_width\":{\"value\":5},\"top\":{\"value\":92.55579542762099},\"width\":{\"value\":0.5},\"x\":{\"field\":\"x\"}},\"id\":\"4628\",\"type\":\"VBar\"},{\"attributes\":{\"source\":{\"id\":\"4627\"}},\"id\":\"4631\",\"type\":\"CDSView\"},{\"attributes\":{},\"id\":\"2285\",\"type\":\"UnionRenderers\"},{\"attributes\":{\"data\":{\"x\":[\"New Jersey\"]},\"selected\":{\"id\":\"2384\"},\"selection_policy\":{\"id\":\"2385\"}},\"id\":\"2287\",\"type\":\"ColumnDataSource\"},{\"attributes\":{},\"id\":\"4734\",\"type\":\"UnionRenderers\"},{\"attributes\":{\"data\":{\"x\":[\"California\"]},\"selected\":{\"id\":\"5011\"},\"selection_policy\":{\"id\":\"5012\"}},\"id\":\"4736\",\"type\":\"ColumnDataSource\"},{\"attributes\":{},\"id\":\"1713\",\"type\":\"CategoricalTicker\"},{\"attributes\":{\"data_source\":{\"id\":\"2287\"},\"glyph\":{\"id\":\"2288\"},\"hover_glyph\":null,\"muted_glyph\":null,\"nonselection_glyph\":{\"id\":\"2289\"},\"selection_glyph\":null,\"view\":{\"id\":\"2291\"}},\"id\":\"2290\",\"type\":\"GlyphRenderer\"},{\"attributes\":{\"formatter\":{\"id\":\"1742\"},\"major_label_orientation\":\"vertical\",\"ticker\":{\"id\":\"1713\"}},\"id\":\"1712\",\"type\":\"CategoricalAxis\"},{\"attributes\":{\"data_source\":{\"id\":\"4736\"},\"glyph\":{\"id\":\"4737\"},\"hover_glyph\":null,\"muted_glyph\":null,\"nonselection_glyph\":{\"id\":\"4738\"},\"selection_glyph\":null,\"view\":{\"id\":\"4740\"}},\"id\":\"4739\",\"type\":\"GlyphRenderer\"},{\"attributes\":{\"fill_alpha\":{\"value\":0.1},\"fill_color\":{\"value\":\"green\"},\"line_alpha\":{\"value\":0.1},\"line_color\":{\"value\":\"green\"},\"line_width\":{\"value\":5},\"top\":{\"value\":42.215564704950765},\"width\":{\"value\":0.5},\"x\":{\"field\":\"x\"}},\"id\":\"2289\",\"type\":\"VBar\"},{\"attributes\":{},\"id\":\"2333\",\"type\":\"Selection\"},{\"attributes\":{\"fill_color\":{\"value\":\"green\"},\"line_color\":{\"value\":\"green\"},\"line_width\":{\"value\":5},\"top\":{\"value\":42.215564704950765},\"width\":{\"value\":0.5},\"x\":{\"field\":\"x\"}},\"id\":\"2288\",\"type\":\"VBar\"},{\"attributes\":{\"fill_alpha\":{\"value\":0.1},\"fill_color\":{\"value\":\"green\"},\"line_alpha\":{\"value\":0.1},\"line_color\":{\"value\":\"green\"},\"line_width\":{\"value\":5},\"top\":{\"value\":95.9981421445207},\"width\":{\"value\":0.5},\"x\":{\"field\":\"x\"}},\"id\":\"4738\",\"type\":\"VBar\"},{\"attributes\":{\"source\":{\"id\":\"2287\"}},\"id\":\"2291\",\"type\":\"CDSView\"},{\"attributes\":{},\"id\":\"4844\",\"type\":\"Selection\"},{\"attributes\":{\"fill_color\":{\"value\":\"green\"},\"line_color\":{\"value\":\"green\"},\"line_width\":{\"value\":5},\"top\":{\"value\":95.9981421445207},\"width\":{\"value\":0.5},\"x\":{\"field\":\"x\"}},\"id\":\"4737\",\"type\":\"VBar\"},{\"attributes\":{\"data\":{\"x\":[\"Illinois\"]},\"selected\":{\"id\":\"2284\"},\"selection_policy\":{\"id\":\"2285\"}},\"id\":\"2195\",\"type\":\"ColumnDataSource\"},{\"attributes\":{\"source\":{\"id\":\"4736\"}},\"id\":\"4740\",\"type\":\"CDSView\"},{\"attributes\":{},\"id\":\"2334\",\"type\":\"UnionRenderers\"},{\"attributes\":{\"data\":{\"x\":[\"Wyoming\"]},\"selected\":{\"id\":\"2437\"},\"selection_policy\":{\"id\":\"2438\"}},\"id\":\"2336\",\"type\":\"ColumnDataSource\"},{\"attributes\":{},\"id\":\"4845\",\"type\":\"UnionRenderers\"},{\"attributes\":{},\"id\":\"5011\",\"type\":\"Selection\"},{\"attributes\":{\"data_source\":{\"id\":\"2336\"},\"glyph\":{\"id\":\"2337\"},\"hover_glyph\":null,\"muted_glyph\":null,\"nonselection_glyph\":{\"id\":\"2338\"},\"selection_glyph\":null,\"view\":{\"id\":\"2340\"}},\"id\":\"2339\",\"type\":\"GlyphRenderer\"},{\"attributes\":{},\"id\":\"5012\",\"type\":\"UnionRenderers\"},{\"attributes\":{\"fill_alpha\":{\"value\":0.1},\"fill_color\":{\"value\":\"blue\"},\"line_alpha\":{\"value\":0.1},\"line_color\":{\"value\":\"blue\"},\"line_width\":{\"value\":5},\"top\":{\"value\":42.30315784866125},\"width\":{\"value\":0.5},\"x\":{\"field\":\"x\"}},\"id\":\"2338\",\"type\":\"VBar\"},{\"attributes\":{},\"id\":\"2384\",\"type\":\"Selection\"},{\"attributes\":{\"fill_color\":{\"value\":\"blue\"},\"line_color\":{\"value\":\"blue\"},\"line_width\":{\"value\":5},\"top\":{\"value\":42.30315784866125},\"width\":{\"value\":0.5},\"x\":{\"field\":\"x\"}},\"id\":\"2337\",\"type\":\"VBar\"},{\"attributes\":{\"source\":{\"id\":\"2336\"}},\"id\":\"2340\",\"type\":\"CDSView\"},{\"attributes\":{},\"id\":\"2385\",\"type\":\"UnionRenderers\"},{\"attributes\":{\"data\":{\"x\":[\"Nebraska\"]},\"selected\":{\"id\":\"2492\"},\"selection_policy\":{\"id\":\"2493\"}},\"id\":\"2387\",\"type\":\"ColumnDataSource\"},{\"attributes\":{\"data_source\":{\"id\":\"2387\"},\"glyph\":{\"id\":\"2388\"},\"hover_glyph\":null,\"muted_glyph\":null,\"nonselection_glyph\":{\"id\":\"2389\"},\"selection_glyph\":null,\"view\":{\"id\":\"2391\"}},\"id\":\"2390\",\"type\":\"GlyphRenderer\"},{\"attributes\":{\"fill_alpha\":{\"value\":0.1},\"fill_color\":{\"value\":\"green\"},\"line_alpha\":{\"value\":0.1},\"line_color\":{\"value\":\"green\"},\"line_width\":{\"value\":5},\"top\":{\"value\":43.82046944939571},\"width\":{\"value\":0.5},\"x\":{\"field\":\"x\"}},\"id\":\"2389\",\"type\":\"VBar\"},{\"attributes\":{},\"id\":\"2437\",\"type\":\"Selection\"},{\"attributes\":{\"fill_color\":{\"value\":\"green\"},\"line_color\":{\"value\":\"green\"},\"line_width\":{\"value\":5},\"top\":{\"value\":43.82046944939571},\"width\":{\"value\":0.5},\"x\":{\"field\":\"x\"}},\"id\":\"2388\",\"type\":\"VBar\"},{\"attributes\":{\"source\":{\"id\":\"2387\"}},\"id\":\"2391\",\"type\":\"CDSView\"},{\"attributes\":{},\"id\":\"2438\",\"type\":\"UnionRenderers\"},{\"attributes\":{\"data\":{\"x\":[\"Idaho\"]},\"selected\":{\"id\":\"2549\"},\"selection_policy\":{\"id\":\"2550\"}},\"id\":\"2440\",\"type\":\"ColumnDataSource\"},{\"attributes\":{},\"id\":\"1706\",\"type\":\"DataRange1d\"},{\"attributes\":{\"fill_color\":{\"value\":\"blue\"},\"line_color\":{\"value\":\"blue\"},\"line_width\":{\"value\":5},\"top\":{\"value\":44.45837168765546},\"width\":{\"value\":0.5},\"x\":{\"field\":\"x\"}},\"id\":\"2441\",\"type\":\"VBar\"},{\"attributes\":{},\"id\":\"1708\",\"type\":\"CategoricalScale\"},{\"attributes\":{},\"id\":\"1710\",\"type\":\"LinearScale\"},{\"attributes\":{\"fill_alpha\":{\"value\":0.1},\"fill_color\":{\"value\":\"blue\"},\"line_alpha\":{\"value\":0.1},\"line_color\":{\"value\":\"blue\"},\"line_width\":{\"value\":5},\"top\":{\"value\":34.648807191948606},\"width\":{\"value\":0.5},\"x\":{\"field\":\"x\"}},\"id\":\"1969\",\"type\":\"VBar\"},{\"attributes\":{\"fill_alpha\":{\"value\":0.1},\"fill_color\":{\"value\":\"blue\"},\"line_alpha\":{\"value\":0.1},\"line_color\":{\"value\":\"blue\"},\"line_width\":{\"value\":5},\"top\":{\"value\":44.45837168765546},\"width\":{\"value\":0.5},\"x\":{\"field\":\"x\"}},\"id\":\"2442\",\"type\":\"VBar\"},{\"attributes\":{\"fill_color\":{\"value\":\"blue\"},\"line_color\":{\"value\":\"blue\"},\"line_width\":{\"value\":5},\"top\":{\"value\":31.098565365083484},\"width\":{\"value\":0.5},\"x\":{\"field\":\"x\"}},\"id\":\"1856\",\"type\":\"VBar\"},{\"attributes\":{\"data_source\":{\"id\":\"1855\"},\"glyph\":{\"id\":\"1856\"},\"hover_glyph\":null,\"muted_glyph\":null,\"nonselection_glyph\":{\"id\":\"1857\"},\"selection_glyph\":null,\"view\":{\"id\":\"1859\"}},\"id\":\"1858\",\"type\":\"GlyphRenderer\"},{\"attributes\":{},\"id\":\"1853\",\"type\":\"UnionRenderers\"},{\"attributes\":{\"data_source\":{\"id\":\"1810\"},\"glyph\":{\"id\":\"1811\"},\"hover_glyph\":null,\"muted_glyph\":null,\"nonselection_glyph\":{\"id\":\"1812\"},\"selection_glyph\":null,\"view\":{\"id\":\"1814\"}},\"id\":\"1813\",\"type\":\"GlyphRenderer\"},{\"attributes\":{\"fill_alpha\":{\"value\":0.1},\"fill_color\":{\"value\":\"green\"},\"line_alpha\":{\"value\":0.1},\"line_color\":{\"value\":\"green\"},\"line_width\":{\"value\":5},\"top\":{\"value\":28.182558505156425},\"width\":{\"value\":0.5},\"x\":{\"field\":\"x\"}},\"id\":\"1834\",\"type\":\"VBar\"},{\"attributes\":{\"data\":{\"x\":[\"North Dakota\"]},\"selected\":{\"id\":\"1852\"},\"selection_policy\":{\"id\":\"1853\"}},\"id\":\"1810\",\"type\":\"ColumnDataSource\"},{\"attributes\":{\"source\":{\"id\":\"1832\"}},\"id\":\"1836\",\"type\":\"CDSView\"},{\"attributes\":{},\"id\":\"1828\",\"type\":\"Selection\"},{\"attributes\":{\"source\":{\"id\":\"1810\"}},\"id\":\"1814\",\"type\":\"CDSView\"},{\"attributes\":{\"fill_color\":{\"value\":\"green\"},\"line_color\":{\"value\":\"green\"},\"line_width\":{\"value\":5},\"top\":{\"value\":28.182558505156425},\"width\":{\"value\":0.5},\"x\":{\"field\":\"x\"}},\"id\":\"1833\",\"type\":\"VBar\"},{\"attributes\":{\"label\":{\"value\":\"No Mandate\"},\"renderers\":[{\"id\":\"1813\"},{\"id\":\"1858\"},{\"id\":\"1883\"},{\"id\":\"1939\"},{\"id\":\"1970\"},{\"id\":\"2114\"},{\"id\":\"2243\"},{\"id\":\"2339\"},{\"id\":\"2443\"},{\"id\":\"2498\"},{\"id\":\"2870\"},{\"id\":\"3083\"},{\"id\":\"3395\"},{\"id\":\"3563\"},{\"id\":\"3739\"},{\"id\":\"4523\"}]},\"id\":\"1831\",\"type\":\"LegendItem\"},{\"attributes\":{\"fill_alpha\":{\"value\":0.1},\"fill_color\":{\"value\":\"blue\"},\"line_alpha\":{\"value\":0.1},\"line_color\":{\"value\":\"blue\"},\"line_width\":{\"value\":5},\"top\":{\"value\":31.098565365083484},\"width\":{\"value\":0.5},\"x\":{\"field\":\"x\"}},\"id\":\"1857\",\"type\":\"VBar\"},{\"attributes\":{\"data\":{\"x\":[\"Maine\"]},\"selected\":{\"id\":\"1877\"},\"selection_policy\":{\"id\":\"1878\"}},\"id\":\"1832\",\"type\":\"ColumnDataSource\"},{\"attributes\":{},\"id\":\"1852\",\"type\":\"Selection\"},{\"attributes\":{\"fill_alpha\":{\"value\":0.1},\"fill_color\":{\"value\":\"blue\"},\"line_alpha\":{\"value\":0.1},\"line_color\":{\"value\":\"blue\"},\"line_width\":{\"value\":5},\"top\":{\"value\":27.40371955737635},\"width\":{\"value\":0.5},\"x\":{\"field\":\"x\"}},\"id\":\"1812\",\"type\":\"VBar\"},{\"attributes\":{\"fill_color\":{\"value\":\"blue\"},\"line_color\":{\"value\":\"blue\"},\"line_width\":{\"value\":5},\"top\":{\"value\":27.40371955737635},\"width\":{\"value\":0.5},\"x\":{\"field\":\"x\"}},\"id\":\"1811\",\"type\":\"VBar\"},{\"attributes\":{},\"id\":\"1829\",\"type\":\"UnionRenderers\"},{\"attributes\":{\"data\":{\"x\":[\"Alaska\"]},\"selected\":{\"id\":\"1904\"},\"selection_policy\":{\"id\":\"1905\"}},\"id\":\"1855\",\"type\":\"ColumnDataSource\"},{\"attributes\":{\"data_source\":{\"id\":\"1832\"},\"glyph\":{\"id\":\"1833\"},\"hover_glyph\":null,\"muted_glyph\":null,\"nonselection_glyph\":{\"id\":\"1834\"},\"selection_glyph\":null,\"view\":{\"id\":\"1836\"}},\"id\":\"1835\",\"type\":\"GlyphRenderer\"},{\"attributes\":{},\"id\":\"1771\",\"type\":\"Selection\"},{\"attributes\":{\"data_source\":{\"id\":\"2440\"},\"glyph\":{\"id\":\"2441\"},\"hover_glyph\":null,\"muted_glyph\":null,\"nonselection_glyph\":{\"id\":\"2442\"},\"selection_glyph\":null,\"view\":{\"id\":\"2444\"}},\"id\":\"2443\",\"type\":\"GlyphRenderer\"},{\"attributes\":{\"source\":{\"id\":\"1759\"}},\"id\":\"1763\",\"type\":\"CDSView\"},{\"attributes\":{\"fill_alpha\":{\"value\":0.1},\"fill_color\":{\"value\":\"blue\"},\"line_alpha\":{\"value\":0.1},\"line_color\":{\"value\":\"blue\"},\"line_width\":{\"value\":5},\"top\":{\"value\":33.83971406867888},\"width\":{\"value\":0.5},\"x\":{\"field\":\"x\"}},\"id\":\"1938\",\"type\":\"VBar\"},{\"attributes\":{},\"id\":\"3558\",\"type\":\"UnionRenderers\"},{\"attributes\":{\"data\":{\"x\":[\"Utah\"]},\"selected\":{\"id\":\"3733\"},\"selection_policy\":{\"id\":\"3734\"}},\"id\":\"3560\",\"type\":\"ColumnDataSource\"},{\"attributes\":{},\"id\":\"2492\",\"type\":\"Selection\"},{\"attributes\":{\"data\":{\"x\":[\"Michigan\"]},\"selected\":{\"id\":\"1964\"},\"selection_policy\":{\"id\":\"1965\"}},\"id\":\"1907\",\"type\":\"ColumnDataSource\"},{\"attributes\":{},\"id\":\"1772\",\"type\":\"UnionRenderers\"},{\"attributes\":{\"source\":{\"id\":\"1936\"}},\"id\":\"1940\",\"type\":\"CDSView\"},{\"attributes\":{\"source\":{\"id\":\"2440\"}},\"id\":\"2444\",\"type\":\"CDSView\"},{\"attributes\":{\"data_source\":{\"id\":\"1880\"},\"glyph\":{\"id\":\"1881\"},\"hover_glyph\":null,\"muted_glyph\":null,\"nonselection_glyph\":{\"id\":\"1882\"},\"selection_glyph\":null,\"view\":{\"id\":\"1884\"}},\"id\":\"1883\",\"type\":\"GlyphRenderer\"},{\"attributes\":{\"data\":{\"x\":[\"Washington\"]},\"selected\":{\"id\":\"1807\"},\"selection_policy\":{\"id\":\"1808\"}},\"id\":\"1774\",\"type\":\"ColumnDataSource\"},{\"attributes\":{},\"id\":\"1789\",\"type\":\"UnionRenderers\"},{\"attributes\":{},\"id\":\"2493\",\"type\":\"UnionRenderers\"},{\"attributes\":{\"data_source\":{\"id\":\"3560\"},\"glyph\":{\"id\":\"3561\"},\"hover_glyph\":null,\"muted_glyph\":null,\"nonselection_glyph\":{\"id\":\"3562\"},\"selection_glyph\":null,\"view\":{\"id\":\"3564\"}},\"id\":\"3563\",\"type\":\"GlyphRenderer\"},{\"attributes\":{\"data_source\":{\"id\":\"1967\"},\"glyph\":{\"id\":\"1968\"},\"hover_glyph\":null,\"muted_glyph\":null,\"nonselection_glyph\":{\"id\":\"1969\"},\"selection_glyph\":null,\"view\":{\"id\":\"1971\"}},\"id\":\"1970\",\"type\":\"GlyphRenderer\"},{\"attributes\":{\"data\":{\"x\":[\"Florida\"]},\"selected\":{\"id\":\"2608\"},\"selection_policy\":{\"id\":\"2609\"}},\"id\":\"2495\",\"type\":\"ColumnDataSource\"},{\"attributes\":{\"fill_color\":{\"value\":\"blue\"},\"line_color\":{\"value\":\"blue\"},\"line_width\":{\"value\":5},\"top\":{\"value\":33.83971406867888},\"width\":{\"value\":0.5},\"x\":{\"field\":\"x\"}},\"id\":\"1937\",\"type\":\"VBar\"},{\"attributes\":{\"fill_alpha\":{\"value\":0.1},\"fill_color\":{\"value\":\"blue\"},\"line_alpha\":{\"value\":0.1},\"line_color\":{\"value\":\"blue\"},\"line_width\":{\"value\":5},\"top\":{\"value\":59.009922567087074},\"width\":{\"value\":0.5},\"x\":{\"field\":\"x\"}},\"id\":\"3562\",\"type\":\"VBar\"},{\"attributes\":{},\"id\":\"1964\",\"type\":\"Selection\"},{\"attributes\":{},\"id\":\"3644\",\"type\":\"Selection\"},{\"attributes\":{\"data_source\":{\"id\":\"1774\"},\"glyph\":{\"id\":\"1775\"},\"hover_glyph\":null,\"muted_glyph\":null,\"nonselection_glyph\":{\"id\":\"1776\"},\"selection_glyph\":null,\"view\":{\"id\":\"1778\"}},\"id\":\"1777\",\"type\":\"GlyphRenderer\"},{\"attributes\":{\"fill_color\":{\"value\":\"blue\"},\"line_color\":{\"value\":\"blue\"},\"line_width\":{\"value\":5},\"top\":{\"value\":59.009922567087074},\"width\":{\"value\":0.5},\"x\":{\"field\":\"x\"}},\"id\":\"3561\",\"type\":\"VBar\"},{\"attributes\":{\"data_source\":{\"id\":\"1907\"},\"glyph\":{\"id\":\"1908\"},\"hover_glyph\":null,\"muted_glyph\":null,\"nonselection_glyph\":{\"id\":\"1909\"},\"selection_glyph\":null,\"view\":{\"id\":\"1911\"}},\"id\":\"1910\",\"type\":\"GlyphRenderer\"},{\"attributes\":{\"source\":{\"id\":\"3560\"}},\"id\":\"3564\",\"type\":\"CDSView\"},{\"attributes\":{\"data_source\":{\"id\":\"2495\"},\"glyph\":{\"id\":\"2496\"},\"hover_glyph\":null,\"muted_glyph\":null,\"nonselection_glyph\":{\"id\":\"2497\"},\"selection_glyph\":null,\"view\":{\"id\":\"2499\"}},\"id\":\"2498\",\"type\":\"GlyphRenderer\"},{\"attributes\":{\"data_source\":{\"id\":\"1936\"},\"glyph\":{\"id\":\"1937\"},\"hover_glyph\":null,\"muted_glyph\":null,\"nonselection_glyph\":{\"id\":\"1938\"},\"selection_glyph\":null,\"view\":{\"id\":\"1940\"}},\"id\":\"1939\",\"type\":\"GlyphRenderer\"},{\"attributes\":{\"fill_alpha\":{\"value\":0.1},\"fill_color\":{\"value\":\"green\"},\"line_alpha\":{\"value\":0.1},\"line_color\":{\"value\":\"green\"},\"line_width\":{\"value\":5},\"top\":{\"value\":22.29403179620077},\"width\":{\"value\":0.5},\"x\":{\"field\":\"x\"}},\"id\":\"1776\",\"type\":\"VBar\"},{\"attributes\":{},\"id\":\"3645\",\"type\":\"UnionRenderers\"},{\"attributes\":{\"fill_alpha\":{\"value\":0.1},\"fill_color\":{\"value\":\"blue\"},\"line_alpha\":{\"value\":0.1},\"line_color\":{\"value\":\"blue\"},\"line_width\":{\"value\":5},\"top\":{\"value\":45.455595872755744},\"width\":{\"value\":0.5},\"x\":{\"field\":\"x\"}},\"id\":\"2497\",\"type\":\"VBar\"},{\"attributes\":{},\"id\":\"2549\",\"type\":\"Selection\"},{\"attributes\":{\"data_source\":{\"id\":\"1791\"},\"glyph\":{\"id\":\"1792\"},\"hover_glyph\":null,\"muted_glyph\":null,\"nonselection_glyph\":{\"id\":\"1793\"},\"selection_glyph\":null,\"view\":{\"id\":\"1795\"}},\"id\":\"1794\",\"type\":\"GlyphRenderer\"},{\"attributes\":{\"data\":{\"x\":[\"South Carolina\"]},\"selected\":{\"id\":\"3824\"},\"selection_policy\":{\"id\":\"3825\"}},\"id\":\"3647\",\"type\":\"ColumnDataSource\"},{\"attributes\":{\"fill_color\":{\"value\":\"blue\"},\"line_color\":{\"value\":\"blue\"},\"line_width\":{\"value\":5},\"top\":{\"value\":45.455595872755744},\"width\":{\"value\":0.5},\"x\":{\"field\":\"x\"}},\"id\":\"2496\",\"type\":\"VBar\"},{\"attributes\":{\"fill_color\":{\"value\":\"green\"},\"line_color\":{\"value\":\"green\"},\"line_width\":{\"value\":5},\"top\":{\"value\":31.546461514368332},\"width\":{\"value\":0.5},\"x\":{\"field\":\"x\"}},\"id\":\"1908\",\"type\":\"VBar\"},{\"attributes\":{\"source\":{\"id\":\"2495\"}},\"id\":\"2499\",\"type\":\"CDSView\"},{\"attributes\":{\"data\":{\"x\":[\"Minnesota\"]},\"selected\":{\"id\":\"1828\"},\"selection_policy\":{\"id\":\"1829\"}},\"id\":\"1791\",\"type\":\"ColumnDataSource\"},{\"attributes\":{\"data\":{\"x\":[\"District of Columbia\"]},\"selected\":{\"id\":\"1933\"},\"selection_policy\":{\"id\":\"1934\"}},\"id\":\"1880\",\"type\":\"ColumnDataSource\"},{\"attributes\":{},\"id\":\"2550\",\"type\":\"UnionRenderers\"},{\"attributes\":{\"data_source\":{\"id\":\"3647\"},\"glyph\":{\"id\":\"3648\"},\"hover_glyph\":null,\"muted_glyph\":null,\"nonselection_glyph\":{\"id\":\"3649\"},\"selection_glyph\":null,\"view\":{\"id\":\"3651\"}},\"id\":\"3650\",\"type\":\"GlyphRenderer\"},{\"attributes\":{\"fill_color\":{\"value\":\"green\"},\"line_color\":{\"value\":\"green\"},\"line_width\":{\"value\":5},\"top\":{\"value\":22.29403179620077},\"width\":{\"value\":0.5},\"x\":{\"field\":\"x\"}},\"id\":\"1775\",\"type\":\"VBar\"},{\"attributes\":{\"data\":{\"x\":[\"New Mexico\"]},\"selected\":{\"id\":\"2669\"},\"selection_policy\":{\"id\":\"2670\"}},\"id\":\"2552\",\"type\":\"ColumnDataSource\"},{\"attributes\":{\"data\":{\"x\":[\"Iowa\"]},\"selected\":{\"id\":\"1997\"},\"selection_policy\":{\"id\":\"1998\"}},\"id\":\"1936\",\"type\":\"ColumnDataSource\"},{\"attributes\":{\"fill_alpha\":{\"value\":0.1},\"fill_color\":{\"value\":\"green\"},\"line_alpha\":{\"value\":0.1},\"line_color\":{\"value\":\"green\"},\"line_width\":{\"value\":5},\"top\":{\"value\":59.71394021885854},\"width\":{\"value\":0.5},\"x\":{\"field\":\"x\"}},\"id\":\"3649\",\"type\":\"VBar\"},{\"attributes\":{},\"id\":\"3733\",\"type\":\"Selection\"},{\"attributes\":{\"source\":{\"id\":\"1774\"}},\"id\":\"1778\",\"type\":\"CDSView\"},{\"attributes\":{\"fill_color\":{\"value\":\"blue\"},\"line_color\":{\"value\":\"blue\"},\"line_width\":{\"value\":5},\"top\":{\"value\":31.21978682695028},\"width\":{\"value\":0.5},\"x\":{\"field\":\"x\"}},\"id\":\"1881\",\"type\":\"VBar\"},{\"attributes\":{\"fill_color\":{\"value\":\"green\"},\"line_color\":{\"value\":\"green\"},\"line_width\":{\"value\":5},\"top\":{\"value\":59.71394021885854},\"width\":{\"value\":0.5},\"x\":{\"field\":\"x\"}},\"id\":\"3648\",\"type\":\"VBar\"},{\"attributes\":{\"data\":{\"x\":[\"Colorado\"]},\"selected\":{\"id\":\"2032\"},\"selection_policy\":{\"id\":\"2033\"}},\"id\":\"1967\",\"type\":\"ColumnDataSource\"},{\"attributes\":{\"source\":{\"id\":\"3647\"}},\"id\":\"3651\",\"type\":\"CDSView\"},{\"attributes\":{},\"id\":\"1788\",\"type\":\"Selection\"},{\"attributes\":{\"data_source\":{\"id\":\"2552\"},\"glyph\":{\"id\":\"2553\"},\"hover_glyph\":null,\"muted_glyph\":null,\"nonselection_glyph\":{\"id\":\"2554\"},\"selection_glyph\":null,\"view\":{\"id\":\"2556\"}},\"id\":\"2555\",\"type\":\"GlyphRenderer\"},{\"attributes\":{},\"id\":\"3734\",\"type\":\"UnionRenderers\"},{\"attributes\":{\"source\":{\"id\":\"1880\"}},\"id\":\"1884\",\"type\":\"CDSView\"},{\"attributes\":{\"fill_alpha\":{\"value\":0.1},\"fill_color\":{\"value\":\"green\"},\"line_alpha\":{\"value\":0.1},\"line_color\":{\"value\":\"green\"},\"line_width\":{\"value\":5},\"top\":{\"value\":48.11233216124602},\"width\":{\"value\":0.5},\"x\":{\"field\":\"x\"}},\"id\":\"2554\",\"type\":\"VBar\"},{\"attributes\":{\"data\":{\"x\":[\"Oklahoma\"]},\"selected\":{\"id\":\"3917\"},\"selection_policy\":{\"id\":\"3918\"}},\"id\":\"3736\",\"type\":\"ColumnDataSource\"},{\"attributes\":{},\"id\":\"1905\",\"type\":\"UnionRenderers\"},{\"attributes\":{},\"id\":\"2608\",\"type\":\"Selection\"},{\"attributes\":{\"fill_color\":{\"value\":\"green\"},\"line_color\":{\"value\":\"green\"},\"line_width\":{\"value\":5},\"top\":{\"value\":48.11233216124602},\"width\":{\"value\":0.5},\"x\":{\"field\":\"x\"}},\"id\":\"2553\",\"type\":\"VBar\"},{\"attributes\":{},\"id\":\"1933\",\"type\":\"Selection\"},{\"attributes\":{\"source\":{\"id\":\"2552\"}},\"id\":\"2556\",\"type\":\"CDSView\"},{\"attributes\":{},\"id\":\"2609\",\"type\":\"UnionRenderers\"},{\"attributes\":{\"data_source\":{\"id\":\"3736\"},\"glyph\":{\"id\":\"3737\"},\"hover_glyph\":null,\"muted_glyph\":null,\"nonselection_glyph\":{\"id\":\"3738\"},\"selection_glyph\":null,\"view\":{\"id\":\"3740\"}},\"id\":\"3739\",\"type\":\"GlyphRenderer\"},{\"attributes\":{\"fill_alpha\":{\"value\":0.1},\"fill_color\":{\"value\":\"green\"},\"line_alpha\":{\"value\":0.1},\"line_color\":{\"value\":\"green\"},\"line_width\":{\"value\":5},\"top\":{\"value\":21.650630816162},\"width\":{\"value\":0.5},\"x\":{\"field\":\"x\"}},\"id\":\"1761\",\"type\":\"VBar\"},{\"attributes\":{\"fill_color\":{\"value\":\"green\"},\"line_color\":{\"value\":\"green\"},\"line_width\":{\"value\":5},\"top\":{\"value\":21.650630816162},\"width\":{\"value\":0.5},\"x\":{\"field\":\"x\"}},\"id\":\"1760\",\"type\":\"VBar\"},{\"attributes\":{\"fill_alpha\":{\"value\":0.1},\"fill_color\":{\"value\":\"green\"},\"line_alpha\":{\"value\":0.1},\"line_color\":{\"value\":\"green\"},\"line_width\":{\"value\":5},\"top\":{\"value\":31.546461514368332},\"width\":{\"value\":0.5},\"x\":{\"field\":\"x\"}},\"id\":\"1909\",\"type\":\"VBar\"},{\"attributes\":{\"data\":{\"x\":[\"Connecticut\"]},\"selected\":{\"id\":\"2732\"},\"selection_policy\":{\"id\":\"2733\"}},\"id\":\"2611\",\"type\":\"ColumnDataSource\"},{\"attributes\":{\"fill_alpha\":{\"value\":0.1},\"fill_color\":{\"value\":\"blue\"},\"line_alpha\":{\"value\":0.1},\"line_color\":{\"value\":\"blue\"},\"line_width\":{\"value\":5},\"top\":{\"value\":60.976775754316456},\"width\":{\"value\":0.5},\"x\":{\"field\":\"x\"}},\"id\":\"3738\",\"type\":\"VBar\"},{\"attributes\":{},\"id\":\"3824\",\"type\":\"Selection\"},{\"attributes\":{\"fill_color\":{\"value\":\"blue\"},\"line_color\":{\"value\":\"blue\"},\"line_width\":{\"value\":5},\"top\":{\"value\":60.976775754316456},\"width\":{\"value\":0.5},\"x\":{\"field\":\"x\"}},\"id\":\"3737\",\"type\":\"VBar\"},{\"attributes\":{},\"id\":\"1965\",\"type\":\"UnionRenderers\"},{\"attributes\":{\"data_source\":{\"id\":\"1759\"},\"glyph\":{\"id\":\"1760\"},\"hover_glyph\":null,\"muted_glyph\":null,\"nonselection_glyph\":{\"id\":\"1761\"},\"selection_glyph\":null,\"view\":{\"id\":\"1763\"}},\"id\":\"1762\",\"type\":\"GlyphRenderer\"},{\"attributes\":{\"source\":{\"id\":\"1907\"}},\"id\":\"1911\",\"type\":\"CDSView\"},{\"attributes\":{\"source\":{\"id\":\"3736\"}},\"id\":\"3740\",\"type\":\"CDSView\"},{\"attributes\":{\"data_source\":{\"id\":\"2611\"},\"glyph\":{\"id\":\"2612\"},\"hover_glyph\":null,\"muted_glyph\":null,\"nonselection_glyph\":{\"id\":\"2613\"},\"selection_glyph\":null,\"view\":{\"id\":\"2615\"}},\"id\":\"2614\",\"type\":\"GlyphRenderer\"},{\"attributes\":{},\"id\":\"3825\",\"type\":\"UnionRenderers\"},{\"attributes\":{\"fill_alpha\":{\"value\":0.1},\"fill_color\":{\"value\":\"green\"},\"line_alpha\":{\"value\":0.1},\"line_color\":{\"value\":\"green\"},\"line_width\":{\"value\":5},\"top\":{\"value\":51.04778381095266},\"width\":{\"value\":0.5},\"x\":{\"field\":\"x\"}},\"id\":\"2613\",\"type\":\"VBar\"},{\"attributes\":{\"data\":{\"x\":[\"Alabama\"]},\"selected\":{\"id\":\"4012\"},\"selection_policy\":{\"id\":\"4013\"}},\"id\":\"3827\",\"type\":\"ColumnDataSource\"},{\"attributes\":{},\"id\":\"2669\",\"type\":\"Selection\"},{\"attributes\":{\"fill_color\":{\"value\":\"green\"},\"line_color\":{\"value\":\"green\"},\"line_width\":{\"value\":5},\"top\":{\"value\":51.04778381095266},\"width\":{\"value\":0.5},\"x\":{\"field\":\"x\"}},\"id\":\"2612\",\"type\":\"VBar\"},{\"attributes\":{\"source\":{\"id\":\"2611\"}},\"id\":\"2615\",\"type\":\"CDSView\"},{\"attributes\":{},\"id\":\"1934\",\"type\":\"UnionRenderers\"},{\"attributes\":{},\"id\":\"1878\",\"type\":\"UnionRenderers\"},{\"attributes\":{},\"id\":\"2670\",\"type\":\"UnionRenderers\"},{\"attributes\":{\"data_source\":{\"id\":\"3827\"},\"glyph\":{\"id\":\"3828\"},\"hover_glyph\":null,\"muted_glyph\":null,\"nonselection_glyph\":{\"id\":\"3829\"},\"selection_glyph\":null,\"view\":{\"id\":\"3831\"}},\"id\":\"3830\",\"type\":\"GlyphRenderer\"},{\"attributes\":{\"data\":{\"x\":[\"Louisiana\"]},\"selected\":{\"id\":\"2797\"},\"selection_policy\":{\"id\":\"2798\"}},\"id\":\"2672\",\"type\":\"ColumnDataSource\"},{\"attributes\":{\"fill_alpha\":{\"value\":0.1},\"fill_color\":{\"value\":\"green\"},\"line_alpha\":{\"value\":0.1},\"line_color\":{\"value\":\"green\"},\"line_width\":{\"value\":5},\"top\":{\"value\":61.249303598919205},\"width\":{\"value\":0.5},\"x\":{\"field\":\"x\"}},\"id\":\"3829\",\"type\":\"VBar\"},{\"attributes\":{\"source\":{\"id\":\"1855\"}},\"id\":\"1859\",\"type\":\"CDSView\"},{\"attributes\":{},\"id\":\"3917\",\"type\":\"Selection\"},{\"attributes\":{\"fill_color\":{\"value\":\"green\"},\"line_color\":{\"value\":\"green\"},\"line_width\":{\"value\":5},\"top\":{\"value\":61.249303598919205},\"width\":{\"value\":0.5},\"x\":{\"field\":\"x\"}},\"id\":\"3828\",\"type\":\"VBar\"},{\"attributes\":{\"source\":{\"id\":\"3827\"}},\"id\":\"3831\",\"type\":\"CDSView\"},{\"attributes\":{\"data_source\":{\"id\":\"2672\"},\"glyph\":{\"id\":\"2673\"},\"hover_glyph\":null,\"muted_glyph\":null,\"nonselection_glyph\":{\"id\":\"2674\"},\"selection_glyph\":null,\"view\":{\"id\":\"2676\"}},\"id\":\"2675\",\"type\":\"GlyphRenderer\"},{\"attributes\":{},\"id\":\"1904\",\"type\":\"Selection\"},{\"attributes\":{},\"id\":\"3918\",\"type\":\"UnionRenderers\"},{\"attributes\":{\"fill_alpha\":{\"value\":0.1},\"fill_color\":{\"value\":\"green\"},\"line_alpha\":{\"value\":0.1},\"line_color\":{\"value\":\"green\"},\"line_width\":{\"value\":5},\"top\":{\"value\":52.809395296930774},\"width\":{\"value\":0.5},\"x\":{\"field\":\"x\"}},\"id\":\"2674\",\"type\":\"VBar\"},{\"attributes\":{\"data\":{\"x\":[\"Delaware\"]},\"selected\":{\"id\":\"4109\"},\"selection_policy\":{\"id\":\"4110\"}},\"id\":\"3920\",\"type\":\"ColumnDataSource\"},{\"attributes\":{},\"id\":\"2732\",\"type\":\"Selection\"},{\"attributes\":{\"fill_color\":{\"value\":\"green\"},\"line_color\":{\"value\":\"green\"},\"line_width\":{\"value\":5},\"top\":{\"value\":52.809395296930774},\"width\":{\"value\":0.5},\"x\":{\"field\":\"x\"}},\"id\":\"2673\",\"type\":\"VBar\"},{\"attributes\":{\"source\":{\"id\":\"2672\"}},\"id\":\"2676\",\"type\":\"CDSView\"},{\"attributes\":{},\"id\":\"1877\",\"type\":\"Selection\"},{\"attributes\":{},\"id\":\"2733\",\"type\":\"UnionRenderers\"},{\"attributes\":{\"data_source\":{\"id\":\"3920\"},\"glyph\":{\"id\":\"3921\"},\"hover_glyph\":null,\"muted_glyph\":null,\"nonselection_glyph\":{\"id\":\"3922\"},\"selection_glyph\":null,\"view\":{\"id\":\"3924\"}},\"id\":\"3923\",\"type\":\"GlyphRenderer\"},{\"attributes\":{\"fill_alpha\":{\"value\":0.1},\"fill_color\":{\"value\":\"blue\"},\"line_alpha\":{\"value\":0.1},\"line_color\":{\"value\":\"blue\"},\"line_width\":{\"value\":5},\"top\":{\"value\":31.21978682695028},\"width\":{\"value\":0.5},\"x\":{\"field\":\"x\"}},\"id\":\"1882\",\"type\":\"VBar\"},{\"attributes\":{\"data\":{\"x\":[\"Pennsylvania\"]},\"selected\":{\"id\":\"2864\"},\"selection_policy\":{\"id\":\"2865\"}},\"id\":\"2735\",\"type\":\"ColumnDataSource\"},{\"attributes\":{\"fill_alpha\":{\"value\":0.1},\"fill_color\":{\"value\":\"green\"},\"line_alpha\":{\"value\":0.1},\"line_color\":{\"value\":\"green\"},\"line_width\":{\"value\":5},\"top\":{\"value\":61.29137381679065},\"width\":{\"value\":0.5},\"x\":{\"field\":\"x\"}},\"id\":\"3922\",\"type\":\"VBar\"},{\"attributes\":{\"source\":{\"id\":\"1791\"}},\"id\":\"1795\",\"type\":\"CDSView\"},{\"attributes\":{\"fill_alpha\":{\"value\":0.1},\"fill_color\":{\"value\":\"green\"},\"line_alpha\":{\"value\":0.1},\"line_color\":{\"value\":\"green\"},\"line_width\":{\"value\":5},\"top\":{\"value\":52.84074737657303},\"width\":{\"value\":0.5},\"x\":{\"field\":\"x\"}},\"id\":\"2737\",\"type\":\"VBar\"},{\"attributes\":{},\"id\":\"4012\",\"type\":\"Selection\"},{\"attributes\":{\"fill_color\":{\"value\":\"green\"},\"line_color\":{\"value\":\"green\"},\"line_width\":{\"value\":5},\"top\":{\"value\":25.72271855090309},\"width\":{\"value\":0.5},\"x\":{\"field\":\"x\"}},\"id\":\"1792\",\"type\":\"VBar\"},{\"attributes\":{\"fill_color\":{\"value\":\"green\"},\"line_color\":{\"value\":\"green\"},\"line_width\":{\"value\":5},\"top\":{\"value\":61.29137381679065},\"width\":{\"value\":0.5},\"x\":{\"field\":\"x\"}},\"id\":\"3921\",\"type\":\"VBar\"},{\"attributes\":{\"source\":{\"id\":\"3920\"}},\"id\":\"3924\",\"type\":\"CDSView\"},{\"attributes\":{},\"id\":\"1807\",\"type\":\"Selection\"},{\"attributes\":{\"fill_color\":{\"value\":\"green\"},\"line_color\":{\"value\":\"green\"},\"line_width\":{\"value\":5},\"top\":{\"value\":52.84074737657303},\"width\":{\"value\":0.5},\"x\":{\"field\":\"x\"}},\"id\":\"2736\",\"type\":\"VBar\"},{\"attributes\":{\"fill_alpha\":{\"value\":0.1},\"fill_color\":{\"value\":\"green\"},\"line_alpha\":{\"value\":0.1},\"line_color\":{\"value\":\"green\"},\"line_width\":{\"value\":5},\"top\":{\"value\":25.72271855090309},\"width\":{\"value\":0.5},\"x\":{\"field\":\"x\"}},\"id\":\"1793\",\"type\":\"VBar\"},{\"attributes\":{\"axis\":{\"id\":\"1712\"},\"grid_line_color\":null,\"ticker\":null},\"id\":\"1714\",\"type\":\"Grid\"},{\"attributes\":{},\"id\":\"1808\",\"type\":\"UnionRenderers\"},{\"attributes\":{\"data_source\":{\"id\":\"2735\"},\"glyph\":{\"id\":\"2736\"},\"hover_glyph\":null,\"muted_glyph\":null,\"nonselection_glyph\":{\"id\":\"2737\"},\"selection_glyph\":null,\"view\":{\"id\":\"2739\"}},\"id\":\"2738\",\"type\":\"GlyphRenderer\"},{\"attributes\":{},\"id\":\"4013\",\"type\":\"UnionRenderers\"},{\"attributes\":{\"source\":{\"id\":\"2735\"}},\"id\":\"2739\",\"type\":\"CDSView\"},{\"attributes\":{\"data\":{\"x\":[\"Arkansas\"]},\"selected\":{\"id\":\"4208\"},\"selection_policy\":{\"id\":\"4209\"}},\"id\":\"4015\",\"type\":\"ColumnDataSource\"},{\"attributes\":{},\"id\":\"1716\",\"type\":\"BasicTicker\"},{\"attributes\":{\"axis\":{\"id\":\"1715\"},\"dimension\":1,\"ticker\":null},\"id\":\"1718\",\"type\":\"Grid\"},{\"attributes\":{},\"id\":\"2797\",\"type\":\"Selection\"},{\"attributes\":{},\"id\":\"2798\",\"type\":\"UnionRenderers\"},{\"attributes\":{\"data_source\":{\"id\":\"4015\"},\"glyph\":{\"id\":\"4016\"},\"hover_glyph\":null,\"muted_glyph\":null,\"nonselection_glyph\":{\"id\":\"4017\"},\"selection_glyph\":null,\"view\":{\"id\":\"4019\"}},\"id\":\"4018\",\"type\":\"GlyphRenderer\"},{\"attributes\":{\"data\":{\"x\":[\"Ohio\"]},\"selected\":{\"id\":\"2933\"},\"selection_policy\":{\"id\":\"2934\"}},\"id\":\"2800\",\"type\":\"ColumnDataSource\"},{\"attributes\":{\"data\":{\"x\":[\"Hawaii\"]},\"selected\":{\"id\":\"1756\"},\"selection_policy\":{\"id\":\"1757\"}},\"id\":\"1733\",\"type\":\"ColumnDataSource\"},{\"attributes\":{\"fill_alpha\":{\"value\":0.1},\"fill_color\":{\"value\":\"green\"},\"line_alpha\":{\"value\":0.1},\"line_color\":{\"value\":\"green\"},\"line_width\":{\"value\":5},\"top\":{\"value\":62.32456890286226},\"width\":{\"value\":0.5},\"x\":{\"field\":\"x\"}},\"id\":\"4017\",\"type\":\"VBar\"},{\"attributes\":{},\"id\":\"4109\",\"type\":\"Selection\"},{\"attributes\":{\"fill_color\":{\"value\":\"green\"},\"line_color\":{\"value\":\"green\"},\"line_width\":{\"value\":5},\"top\":{\"value\":62.32456890286226},\"width\":{\"value\":0.5},\"x\":{\"field\":\"x\"}},\"id\":\"4016\",\"type\":\"VBar\"},{\"attributes\":{},\"id\":\"1719\",\"type\":\"PanTool\"},{\"attributes\":{\"source\":{\"id\":\"4015\"}},\"id\":\"4019\",\"type\":\"CDSView\"},{\"attributes\":{\"data_source\":{\"id\":\"2800\"},\"glyph\":{\"id\":\"2801\"},\"hover_glyph\":null,\"muted_glyph\":null,\"nonselection_glyph\":{\"id\":\"2802\"},\"selection_glyph\":null,\"view\":{\"id\":\"2804\"}},\"id\":\"2803\",\"type\":\"GlyphRenderer\"},{\"attributes\":{},\"id\":\"1720\",\"type\":\"WheelZoomTool\"},{\"attributes\":{\"source\":{\"id\":\"1746\"}},\"id\":\"1750\",\"type\":\"CDSView\"},{\"attributes\":{},\"id\":\"4110\",\"type\":\"UnionRenderers\"},{\"attributes\":{\"fill_alpha\":{\"value\":0.1},\"fill_color\":{\"value\":\"green\"},\"line_alpha\":{\"value\":0.1},\"line_color\":{\"value\":\"green\"},\"line_width\":{\"value\":5},\"top\":{\"value\":52.895432496941595},\"width\":{\"value\":0.5},\"x\":{\"field\":\"x\"}},\"id\":\"2802\",\"type\":\"VBar\"},{\"attributes\":{\"overlay\":{\"id\":\"1725\"}},\"id\":\"1721\",\"type\":\"BoxZoomTool\"},{\"attributes\":{\"data\":{\"x\":[\"Massachusetts\"]},\"selected\":{\"id\":\"4309\"},\"selection_policy\":{\"id\":\"4310\"}},\"id\":\"4112\",\"type\":\"ColumnDataSource\"},{\"attributes\":{},\"id\":\"2864\",\"type\":\"Selection\"},{\"attributes\":{\"fill_color\":{\"value\":\"green\"},\"line_color\":{\"value\":\"green\"},\"line_width\":{\"value\":5},\"top\":{\"value\":52.895432496941595},\"width\":{\"value\":0.5},\"x\":{\"field\":\"x\"}},\"id\":\"2801\",\"type\":\"VBar\"},{\"attributes\":{},\"id\":\"1722\",\"type\":\"SaveTool\"},{\"attributes\":{\"fill_alpha\":{\"value\":0.1},\"fill_color\":{\"value\":\"green\"},\"line_alpha\":{\"value\":0.1},\"line_color\":{\"value\":\"green\"},\"line_width\":{\"value\":5},\"top\":{\"value\":13.22138691547447},\"width\":{\"value\":0.5},\"x\":{\"field\":\"x\"}},\"id\":\"1748\",\"type\":\"VBar\"},{\"attributes\":{\"source\":{\"id\":\"2800\"}},\"id\":\"2804\",\"type\":\"CDSView\"},{\"attributes\":{},\"id\":\"1723\",\"type\":\"ResetTool\"},{\"attributes\":{},\"id\":\"1756\",\"type\":\"Selection\"},{\"attributes\":{\"data_source\":{\"id\":\"1746\"},\"glyph\":{\"id\":\"1747\"},\"hover_glyph\":null,\"muted_glyph\":null,\"nonselection_glyph\":{\"id\":\"1748\"},\"selection_glyph\":null,\"view\":{\"id\":\"1750\"}},\"id\":\"1749\",\"type\":\"GlyphRenderer\"},{\"attributes\":{},\"id\":\"2865\",\"type\":\"UnionRenderers\"},{\"attributes\":{\"data_source\":{\"id\":\"4112\"},\"glyph\":{\"id\":\"4113\"},\"hover_glyph\":null,\"muted_glyph\":null,\"nonselection_glyph\":{\"id\":\"4114\"},\"selection_glyph\":null,\"view\":{\"id\":\"4116\"}},\"id\":\"4115\",\"type\":\"GlyphRenderer\"},{\"attributes\":{},\"id\":\"1724\",\"type\":\"HelpTool\"},{\"attributes\":{\"data\":{\"x\":[\"New Hampshire\"]},\"selected\":{\"id\":\"3004\"},\"selection_policy\":{\"id\":\"3005\"}},\"id\":\"2867\",\"type\":\"ColumnDataSource\"},{\"attributes\":{},\"id\":\"1757\",\"type\":\"UnionRenderers\"},{\"attributes\":{\"fill_alpha\":{\"value\":0.1},\"fill_color\":{\"value\":\"green\"},\"line_alpha\":{\"value\":0.1},\"line_color\":{\"value\":\"green\"},\"line_width\":{\"value\":5},\"top\":{\"value\":62.853315648417805},\"width\":{\"value\":0.5},\"x\":{\"field\":\"x\"}},\"id\":\"4114\",\"type\":\"VBar\"},{\"attributes\":{\"label\":{\"value\":\"Masked Mandate\"},\"renderers\":[{\"id\":\"1736\"},{\"id\":\"1749\"},{\"id\":\"1762\"},{\"id\":\"1777\"},{\"id\":\"1794\"},{\"id\":\"1835\"},{\"id\":\"1910\"},{\"id\":\"2003\"},{\"id\":\"2038\"},{\"id\":\"2075\"},{\"id\":\"2155\"},{\"id\":\"2198\"},{\"id\":\"2290\"},{\"id\":\"2390\"},{\"id\":\"2555\"},{\"id\":\"2614\"},{\"id\":\"2675\"},{\"id\":\"2738\"},{\"id\":\"2803\"},{\"id\":\"2939\"},{\"id\":\"3010\"},{\"id\":\"3158\"},{\"id\":\"3235\"},{\"id\":\"3314\"},{\"id\":\"3478\"},{\"id\":\"3650\"},{\"id\":\"3830\"},{\"id\":\"3923\"},{\"id\":\"4018\"},{\"id\":\"4115\"},{\"id\":\"4214\"},{\"id\":\"4315\"},{\"id\":\"4418\"},{\"id\":\"4630\"},{\"id\":\"4739\"}]},\"id\":\"1745\",\"type\":\"LegendItem\"},{\"attributes\":{\"active_drag\":\"auto\",\"active_inspect\":\"auto\",\"active_multi\":null,\"active_scroll\":\"auto\",\"active_tap\":\"auto\",\"tools\":[{\"id\":\"1719\"},{\"id\":\"1720\"},{\"id\":\"1721\"},{\"id\":\"1722\"},{\"id\":\"1723\"},{\"id\":\"1724\"}]},\"id\":\"1726\",\"type\":\"Toolbar\"},{\"attributes\":{},\"id\":\"4208\",\"type\":\"Selection\"},{\"attributes\":{\"fill_color\":{\"value\":\"green\"},\"line_color\":{\"value\":\"green\"},\"line_width\":{\"value\":5},\"top\":{\"value\":62.853315648417805},\"width\":{\"value\":0.5},\"x\":{\"field\":\"x\"}},\"id\":\"4113\",\"type\":\"VBar\"},{\"attributes\":{\"source\":{\"id\":\"4112\"}},\"id\":\"4116\",\"type\":\"CDSView\"},{\"attributes\":{\"data_source\":{\"id\":\"2867\"},\"glyph\":{\"id\":\"2868\"},\"hover_glyph\":null,\"muted_glyph\":null,\"nonselection_glyph\":{\"id\":\"2869\"},\"selection_glyph\":null,\"view\":{\"id\":\"2871\"}},\"id\":\"2870\",\"type\":\"GlyphRenderer\"},{\"attributes\":{},\"id\":\"1742\",\"type\":\"CategoricalTickFormatter\"},{\"attributes\":{},\"id\":\"4209\",\"type\":\"UnionRenderers\"},{\"attributes\":{\"fill_alpha\":{\"value\":0.1},\"fill_color\":{\"value\":\"blue\"},\"line_alpha\":{\"value\":0.1},\"line_color\":{\"value\":\"blue\"},\"line_width\":{\"value\":5},\"top\":{\"value\":53.19757899534043},\"width\":{\"value\":0.5},\"x\":{\"field\":\"x\"}},\"id\":\"2869\",\"type\":\"VBar\"},{\"attributes\":{\"data\":{\"x\":[\"West Virginia\"]},\"selected\":{\"id\":\"4412\"},\"selection_policy\":{\"id\":\"4413\"}},\"id\":\"4211\",\"type\":\"ColumnDataSource\"},{\"attributes\":{},\"id\":\"2933\",\"type\":\"Selection\"},{\"attributes\":{\"items\":[{\"id\":\"1745\"},{\"id\":\"1831\"}],\"location\":\"top_left\"},\"id\":\"1744\",\"type\":\"Legend\"},{\"attributes\":{\"fill_color\":{\"value\":\"blue\"},\"line_color\":{\"value\":\"blue\"},\"line_width\":{\"value\":5},\"top\":{\"value\":53.19757899534043},\"width\":{\"value\":0.5},\"x\":{\"field\":\"x\"}},\"id\":\"2868\",\"type\":\"VBar\"},{\"attributes\":{\"source\":{\"id\":\"2867\"}},\"id\":\"2871\",\"type\":\"CDSView\"},{\"attributes\":{},\"id\":\"1740\",\"type\":\"BasicTickFormatter\"},{\"attributes\":{},\"id\":\"2934\",\"type\":\"UnionRenderers\"},{\"attributes\":{\"data_source\":{\"id\":\"4211\"},\"glyph\":{\"id\":\"4212\"},\"hover_glyph\":null,\"muted_glyph\":null,\"nonselection_glyph\":{\"id\":\"4213\"},\"selection_glyph\":null,\"view\":{\"id\":\"4215\"}},\"id\":\"4214\",\"type\":\"GlyphRenderer\"},{\"attributes\":{\"bottom_units\":\"screen\",\"fill_alpha\":0.5,\"fill_color\":\"lightgrey\",\"left_units\":\"screen\",\"level\":\"overlay\",\"line_alpha\":1.0,\"line_color\":\"black\",\"line_dash\":[4,4],\"line_width\":2,\"render_mode\":\"css\",\"right_units\":\"screen\",\"top_units\":\"screen\"},\"id\":\"1725\",\"type\":\"BoxAnnotation\"},{\"attributes\":{\"data\":{\"x\":[\"Texas\"]},\"selected\":{\"id\":\"3077\"},\"selection_policy\":{\"id\":\"3078\"}},\"id\":\"2936\",\"type\":\"ColumnDataSource\"},{\"attributes\":{\"fill_alpha\":{\"value\":0.1},\"fill_color\":{\"value\":\"green\"},\"line_alpha\":{\"value\":0.1},\"line_color\":{\"value\":\"green\"},\"line_width\":{\"value\":5},\"top\":{\"value\":64.96862887549588},\"width\":{\"value\":0.5},\"x\":{\"field\":\"x\"}},\"id\":\"4213\",\"type\":\"VBar\"},{\"attributes\":{\"fill_alpha\":{\"value\":0.1},\"fill_color\":{\"value\":\"green\"},\"line_alpha\":{\"value\":0.1},\"line_color\":{\"value\":\"green\"},\"line_width\":{\"value\":5},\"top\":{\"value\":6.792045231960705},\"width\":{\"value\":0.5},\"x\":{\"field\":\"x\"}},\"id\":\"1735\",\"type\":\"VBar\"},{\"attributes\":{},\"id\":\"4309\",\"type\":\"Selection\"},{\"attributes\":{\"fill_color\":{\"value\":\"green\"},\"line_color\":{\"value\":\"green\"},\"line_width\":{\"value\":5},\"top\":{\"value\":64.96862887549588},\"width\":{\"value\":0.5},\"x\":{\"field\":\"x\"}},\"id\":\"4212\",\"type\":\"VBar\"},{\"attributes\":{\"source\":{\"id\":\"4211\"}},\"id\":\"4215\",\"type\":\"CDSView\"},{\"attributes\":{\"data_source\":{\"id\":\"2936\"},\"glyph\":{\"id\":\"2937\"},\"hover_glyph\":null,\"muted_glyph\":null,\"nonselection_glyph\":{\"id\":\"2938\"},\"selection_glyph\":null,\"view\":{\"id\":\"2940\"}},\"id\":\"2939\",\"type\":\"GlyphRenderer\"},{\"attributes\":{\"fill_color\":{\"value\":\"green\"},\"line_color\":{\"value\":\"green\"},\"line_width\":{\"value\":5},\"top\":{\"value\":6.792045231960705},\"width\":{\"value\":0.5},\"x\":{\"field\":\"x\"}},\"id\":\"1734\",\"type\":\"VBar\"},{\"attributes\":{\"source\":{\"id\":\"1733\"}},\"id\":\"1737\",\"type\":\"CDSView\"},{\"attributes\":{},\"id\":\"4310\",\"type\":\"UnionRenderers\"},{\"attributes\":{\"fill_alpha\":{\"value\":0.1},\"fill_color\":{\"value\":\"green\"},\"line_alpha\":{\"value\":0.1},\"line_color\":{\"value\":\"green\"},\"line_width\":{\"value\":5},\"top\":{\"value\":54.195053888286175},\"width\":{\"value\":0.5},\"x\":{\"field\":\"x\"}},\"id\":\"2938\",\"type\":\"VBar\"},{\"attributes\":{\"data\":{\"x\":[\"Kansas\"]},\"selected\":{\"id\":\"4517\"},\"selection_policy\":{\"id\":\"4518\"}},\"id\":\"4312\",\"type\":\"ColumnDataSource\"},{\"attributes\":{},\"id\":\"3004\",\"type\":\"Selection\"},{\"attributes\":{\"fill_color\":{\"value\":\"green\"},\"line_color\":{\"value\":\"green\"},\"line_width\":{\"value\":5},\"top\":{\"value\":54.195053888286175},\"width\":{\"value\":0.5},\"x\":{\"field\":\"x\"}},\"id\":\"2937\",\"type\":\"VBar\"},{\"attributes\":{\"data_source\":{\"id\":\"1733\"},\"glyph\":{\"id\":\"1734\"},\"hover_glyph\":null,\"muted_glyph\":null,\"nonselection_glyph\":{\"id\":\"1735\"},\"selection_glyph\":null,\"view\":{\"id\":\"1737\"}},\"id\":\"1736\",\"type\":\"GlyphRenderer\"},{\"attributes\":{\"source\":{\"id\":\"2936\"}},\"id\":\"2940\",\"type\":\"CDSView\"},{\"attributes\":{\"fill_color\":{\"value\":\"green\"},\"line_color\":{\"value\":\"green\"},\"line_width\":{\"value\":5},\"top\":{\"value\":13.22138691547447},\"width\":{\"value\":0.5},\"x\":{\"field\":\"x\"}},\"id\":\"1747\",\"type\":\"VBar\"},{\"attributes\":{},\"id\":\"3005\",\"type\":\"UnionRenderers\"},{\"attributes\":{\"data_source\":{\"id\":\"4312\"},\"glyph\":{\"id\":\"4313\"},\"hover_glyph\":null,\"muted_glyph\":null,\"nonselection_glyph\":{\"id\":\"4314\"},\"selection_glyph\":null,\"view\":{\"id\":\"4316\"}},\"id\":\"4315\",\"type\":\"GlyphRenderer\"},{\"attributes\":{\"data\":{\"x\":[\"Vermont\"]},\"selected\":{\"id\":\"1771\"},\"selection_policy\":{\"id\":\"1772\"}},\"id\":\"1746\",\"type\":\"ColumnDataSource\"},{\"attributes\":{\"data\":{\"x\":[\"Kentucky\"]},\"selected\":{\"id\":\"3152\"},\"selection_policy\":{\"id\":\"3153\"}},\"id\":\"3007\",\"type\":\"ColumnDataSource\"},{\"attributes\":{\"fill_alpha\":{\"value\":0.1},\"fill_color\":{\"value\":\"green\"},\"line_alpha\":{\"value\":0.1},\"line_color\":{\"value\":\"green\"},\"line_width\":{\"value\":5},\"top\":{\"value\":70.93296500136957},\"width\":{\"value\":0.5},\"x\":{\"field\":\"x\"}},\"id\":\"4314\",\"type\":\"VBar\"},{\"attributes\":{},\"id\":\"4412\",\"type\":\"Selection\"},{\"attributes\":{\"fill_color\":{\"value\":\"green\"},\"line_color\":{\"value\":\"green\"},\"line_width\":{\"value\":5},\"top\":{\"value\":70.93296500136957},\"width\":{\"value\":0.5},\"x\":{\"field\":\"x\"}},\"id\":\"4313\",\"type\":\"VBar\"},{\"attributes\":{\"source\":{\"id\":\"4312\"}},\"id\":\"4316\",\"type\":\"CDSView\"},{\"attributes\":{\"data_source\":{\"id\":\"3007\"},\"glyph\":{\"id\":\"3008\"},\"hover_glyph\":null,\"muted_glyph\":null,\"nonselection_glyph\":{\"id\":\"3009\"},\"selection_glyph\":null,\"view\":{\"id\":\"3011\"}},\"id\":\"3010\",\"type\":\"GlyphRenderer\"},{\"attributes\":{},\"id\":\"4413\",\"type\":\"UnionRenderers\"},{\"attributes\":{\"fill_alpha\":{\"value\":0.1},\"fill_color\":{\"value\":\"green\"},\"line_alpha\":{\"value\":0.1},\"line_color\":{\"value\":\"green\"},\"line_width\":{\"value\":5},\"top\":{\"value\":54.29000734834443},\"width\":{\"value\":0.5},\"x\":{\"field\":\"x\"}},\"id\":\"3009\",\"type\":\"VBar\"},{\"attributes\":{\"data\":{\"x\":[\"Arizona\"]},\"selected\":{\"id\":\"4624\"},\"selection_policy\":{\"id\":\"4625\"}},\"id\":\"4415\",\"type\":\"ColumnDataSource\"},{\"attributes\":{},\"id\":\"3077\",\"type\":\"Selection\"},{\"attributes\":{\"fill_color\":{\"value\":\"green\"},\"line_color\":{\"value\":\"green\"},\"line_width\":{\"value\":5},\"top\":{\"value\":54.29000734834443},\"width\":{\"value\":0.5},\"x\":{\"field\":\"x\"}},\"id\":\"3008\",\"type\":\"VBar\"},{\"attributes\":{\"source\":{\"id\":\"3007\"}},\"id\":\"3011\",\"type\":\"CDSView\"},{\"attributes\":{},\"id\":\"3078\",\"type\":\"UnionRenderers\"},{\"attributes\":{\"data_source\":{\"id\":\"4415\"},\"glyph\":{\"id\":\"4416\"},\"hover_glyph\":null,\"muted_glyph\":null,\"nonselection_glyph\":{\"id\":\"4417\"},\"selection_glyph\":null,\"view\":{\"id\":\"4419\"}},\"id\":\"4418\",\"type\":\"GlyphRenderer\"},{\"attributes\":{\"data\":{\"x\":[\"Georgia\"]},\"selected\":{\"id\":\"3229\"},\"selection_policy\":{\"id\":\"3230\"}},\"id\":\"3080\",\"type\":\"ColumnDataSource\"},{\"attributes\":{\"data\":{\"x\":[\"Oregon\"]},\"selected\":{\"id\":\"1788\"},\"selection_policy\":{\"id\":\"1789\"}},\"id\":\"1759\",\"type\":\"ColumnDataSource\"},{\"attributes\":{\"fill_alpha\":{\"value\":0.1},\"fill_color\":{\"value\":\"green\"},\"line_alpha\":{\"value\":0.1},\"line_color\":{\"value\":\"green\"},\"line_width\":{\"value\":5},\"top\":{\"value\":72.96157642434328},\"width\":{\"value\":0.5},\"x\":{\"field\":\"x\"}},\"id\":\"4417\",\"type\":\"VBar\"},{\"attributes\":{},\"id\":\"4517\",\"type\":\"Selection\"},{\"attributes\":{\"fill_color\":{\"value\":\"blue\"},\"line_color\":{\"value\":\"blue\"},\"line_width\":{\"value\":5},\"top\":{\"value\":55.110673591259705},\"width\":{\"value\":0.5},\"x\":{\"field\":\"x\"}},\"id\":\"3081\",\"type\":\"VBar\"},{\"attributes\":{\"fill_color\":{\"value\":\"green\"},\"line_color\":{\"value\":\"green\"},\"line_width\":{\"value\":5},\"top\":{\"value\":72.96157642434328},\"width\":{\"value\":0.5},\"x\":{\"field\":\"x\"}},\"id\":\"4416\",\"type\":\"VBar\"},{\"attributes\":{\"source\":{\"id\":\"4415\"}},\"id\":\"4419\",\"type\":\"CDSView\"},{\"attributes\":{\"fill_alpha\":{\"value\":0.1},\"fill_color\":{\"value\":\"blue\"},\"line_alpha\":{\"value\":0.1},\"line_color\":{\"value\":\"blue\"},\"line_width\":{\"value\":5},\"top\":{\"value\":55.110673591259705},\"width\":{\"value\":0.5},\"x\":{\"field\":\"x\"}},\"id\":\"3082\",\"type\":\"VBar\"},{\"attributes\":{},\"id\":\"4518\",\"type\":\"UnionRenderers\"},{\"attributes\":{\"data_source\":{\"id\":\"3080\"},\"glyph\":{\"id\":\"3081\"},\"hover_glyph\":null,\"muted_glyph\":null,\"nonselection_glyph\":{\"id\":\"3082\"},\"selection_glyph\":null,\"view\":{\"id\":\"3084\"}},\"id\":\"3083\",\"type\":\"GlyphRenderer\"},{\"attributes\":{\"source\":{\"id\":\"3080\"}},\"id\":\"3084\",\"type\":\"CDSView\"},{\"attributes\":{\"data\":{\"x\":[\"Tennessee\"]},\"selected\":{\"id\":\"4733\"},\"selection_policy\":{\"id\":\"4734\"}},\"id\":\"4520\",\"type\":\"ColumnDataSource\"},{\"attributes\":{\"fill_color\":{\"value\":\"blue\"},\"line_color\":{\"value\":\"blue\"},\"line_width\":{\"value\":5},\"top\":{\"value\":34.648807191948606},\"width\":{\"value\":0.5},\"x\":{\"field\":\"x\"}},\"id\":\"1968\",\"type\":\"VBar\"},{\"attributes\":{\"axis_label\":\"Cases/100,000\",\"formatter\":{\"id\":\"1740\"},\"ticker\":{\"id\":\"1716\"}},\"id\":\"1715\",\"type\":\"LinearAxis\"}],\"root_ids\":[\"1702\"]},\"title\":\"Bokeh Application\",\"version\":\"2.0.2\"}};\n",
       "  var render_items = [{\"docid\":\"8c809d5e-a7cc-4538-83a1-1497fa51d825\",\"root_ids\":[\"1702\"],\"roots\":{\"1702\":\"8da07b59-dfaf-485c-88be-3d438ec1ebfd\"}}];\n",
       "  root.Bokeh.embed.embed_items_notebook(docs_json, render_items);\n",
       "\n",
       "  }\n",
       "  if (root.Bokeh !== undefined) {\n",
       "    embed_document(root);\n",
       "  } else {\n",
       "    var attempts = 0;\n",
       "    var timer = setInterval(function(root) {\n",
       "      if (root.Bokeh !== undefined) {\n",
       "        clearInterval(timer);\n",
       "        embed_document(root);\n",
       "      } else {\n",
       "        attempts++;\n",
       "        if (attempts > 100) {\n",
       "          clearInterval(timer);\n",
       "          console.log(\"Bokeh: ERROR: Unable to run BokehJS code because BokehJS library is missing\");\n",
       "        }\n",
       "      }\n",
       "    }, 10, root)\n",
       "  }\n",
       "})(window);"
      ],
      "application/vnd.bokehjs_exec.v0+json": ""
     },
     "metadata": {
      "application/vnd.bokehjs_exec.v0+json": {
       "id": "1702"
      }
     },
     "output_type": "display_data"
    }
   ],
   "source": [
    "case_with_pop = cases_with_pop(back = 7)\n",
    "labels = [x[0] for x in case_with_pop]\n",
    "y = [x[1] for x in case_with_pop]\n",
    "masks = get_mask()\n",
    "d = {}\n",
    "for i in masks:\n",
    "    d[i[0]] = i[1]\n",
    "p = make_bar_pop(labels, y, plot_height = 450, plot_width = 750, title = None, mask_dict = d)\n",
    "show(p)\n"
   ]
  },
  {
   "cell_type": "code",
   "execution_count": 17,
   "metadata": {},
   "outputs": [],
   "source": [
    "def make_bar_pop2_(labels, y, plot_height = 450, \n",
    "             plot_width = 450, title = None, vote_dict = {}):\n",
    "    x_range = labels\n",
    "    p = figure(x_range = x_range , plot_height = plot_height, \n",
    "               plot_width = plot_width, title = title)\n",
    "    for counter, i in enumerate(labels):\n",
    "        if vote_dict.get(i) == 'D':\n",
    "            color = 'blue'\n",
    "        else:\n",
    "            color = 'red'\n",
    "        p.vbar(x=[i], top=y[counter] , line_width = 5, width = .5, color = color)\n",
    "    p.xaxis.major_label_orientation = \"vertical\"\n",
    "    p.xgrid.grid_line_color = None\n",
    "\n",
    "    return p\n",
    "    #p.y_range \n",
    "def make_bar_pop2(labels, y, plot_height = 450, \n",
    "             plot_width = 450, title = None, vote_dict = {}):\n",
    "    y_range = labels\n",
    "    p = figure(y_range = y_range , plot_height = plot_height, \n",
    "               plot_width = plot_width, title = title)\n",
    "    for counter, i in enumerate(labels):\n",
    "        if vote_dict.get(i) == 'D':\n",
    "            color = 'blue'\n",
    "        else:\n",
    "            color = 'red'\n",
    "        p.hbar(y=[i], right=y[counter] , line_width = 5, width = .5, color = color)\n",
    "    #p.xaxis.major_label_orientation = \"vertical\"\n",
    "    p.xaxis.axis_label = 'Deaths per Million'\n",
    "    p.xgrid.grid_line_color = None\n",
    "\n",
    "    return p"
   ]
  },
  {
   "cell_type": "code",
   "execution_count": 18,
   "metadata": {},
   "outputs": [
    {
     "data": {
      "text/html": [
       "\n",
       "\n",
       "\n",
       "\n",
       "\n",
       "\n",
       "  <div class=\"bk-root\" id=\"badc5e4e-9ea7-49e9-a055-160e52f644e5\" data-root-id=\"5662\"></div>\n"
      ]
     },
     "metadata": {},
     "output_type": "display_data"
    },
    {
     "data": {
      "application/javascript": [
       "(function(root) {\n",
       "  function embed_document(root) {\n",
       "    \n",
       "  var docs_json = {\"6f4d26f0-b8b2-4676-bb72-e26f49be27ee\":{\"roots\":{\"references\":[{\"attributes\":{\"below\":[{\"id\":\"5673\"}],\"center\":[{\"id\":\"5676\"},{\"id\":\"5679\"}],\"left\":[{\"id\":\"5677\"}],\"plot_height\":450,\"plot_width\":800,\"renderers\":[{\"id\":\"5697\"},{\"id\":\"5702\"},{\"id\":\"5707\"},{\"id\":\"5712\"},{\"id\":\"5717\"},{\"id\":\"5722\"},{\"id\":\"5727\"},{\"id\":\"5732\"},{\"id\":\"5737\"},{\"id\":\"5742\"},{\"id\":\"5747\"},{\"id\":\"5752\"},{\"id\":\"5757\"},{\"id\":\"5762\"},{\"id\":\"5767\"},{\"id\":\"5772\"},{\"id\":\"5777\"},{\"id\":\"5782\"},{\"id\":\"5787\"},{\"id\":\"5792\"},{\"id\":\"5797\"},{\"id\":\"5802\"},{\"id\":\"5807\"},{\"id\":\"5812\"},{\"id\":\"5817\"},{\"id\":\"5822\"},{\"id\":\"5827\"},{\"id\":\"5832\"},{\"id\":\"5837\"},{\"id\":\"5842\"},{\"id\":\"5847\"},{\"id\":\"5852\"},{\"id\":\"5857\"},{\"id\":\"5862\"},{\"id\":\"5867\"},{\"id\":\"5872\"},{\"id\":\"5877\"},{\"id\":\"5882\"},{\"id\":\"5887\"},{\"id\":\"5892\"},{\"id\":\"5897\"},{\"id\":\"5902\"},{\"id\":\"5907\"},{\"id\":\"5912\"},{\"id\":\"5917\"},{\"id\":\"5922\"},{\"id\":\"5927\"},{\"id\":\"5932\"},{\"id\":\"5937\"},{\"id\":\"5942\"},{\"id\":\"5947\"}],\"title\":{\"id\":\"5663\"},\"toolbar\":{\"id\":\"5687\"},\"x_range\":{\"id\":\"5665\"},\"x_scale\":{\"id\":\"5669\"},\"y_range\":{\"id\":\"5667\"},\"y_scale\":{\"id\":\"5671\"}},\"id\":\"5662\",\"subtype\":\"Figure\",\"type\":\"Plot\"},{\"attributes\":{},\"id\":\"6118\",\"type\":\"CategoricalTickFormatter\"},{\"attributes\":{\"data_source\":{\"id\":\"5919\"},\"glyph\":{\"id\":\"5920\"},\"hover_glyph\":null,\"muted_glyph\":null,\"nonselection_glyph\":{\"id\":\"5921\"},\"selection_glyph\":null,\"view\":{\"id\":\"5923\"}},\"id\":\"5922\",\"type\":\"GlyphRenderer\"},{\"attributes\":{\"fill_alpha\":{\"value\":0.1},\"fill_color\":{\"value\":\"red\"},\"line_alpha\":{\"value\":0.1},\"line_color\":{\"value\":\"red\"},\"line_width\":{\"value\":5},\"right\":{\"value\":1212.0817816532706},\"y\":{\"field\":\"y\"}},\"id\":\"5886\",\"type\":\"HBar\"},{\"attributes\":{\"data_source\":{\"id\":\"5884\"},\"glyph\":{\"id\":\"5885\"},\"hover_glyph\":null,\"muted_glyph\":null,\"nonselection_glyph\":{\"id\":\"5886\"},\"selection_glyph\":null,\"view\":{\"id\":\"5888\"}},\"id\":\"5887\",\"type\":\"GlyphRenderer\"},{\"attributes\":{\"source\":{\"id\":\"5919\"}},\"id\":\"5923\",\"type\":\"CDSView\"},{\"attributes\":{\"source\":{\"id\":\"5884\"}},\"id\":\"5888\",\"type\":\"CDSView\"},{\"attributes\":{\"data\":{\"y\":[\"Rhode Island\"]},\"selected\":{\"id\":\"6213\"},\"selection_policy\":{\"id\":\"6214\"}},\"id\":\"5924\",\"type\":\"ColumnDataSource\"},{\"attributes\":{\"data\":{\"y\":[\"Pennsylvania\"]},\"selected\":{\"id\":\"6199\"},\"selection_policy\":{\"id\":\"6200\"}},\"id\":\"5889\",\"type\":\"ColumnDataSource\"},{\"attributes\":{\"fill_alpha\":{\"value\":0.1},\"fill_color\":{\"value\":\"blue\"},\"line_alpha\":{\"value\":0.1},\"line_color\":{\"value\":\"blue\"},\"line_width\":{\"value\":5},\"right\":{\"value\":1677.426297551071},\"y\":{\"field\":\"y\"}},\"id\":\"5926\",\"type\":\"HBar\"},{\"attributes\":{\"fill_color\":{\"value\":\"blue\"},\"line_color\":{\"value\":\"blue\"},\"line_width\":{\"value\":5},\"right\":{\"value\":1677.426297551071},\"y\":{\"field\":\"y\"}},\"id\":\"5925\",\"type\":\"HBar\"},{\"attributes\":{\"fill_alpha\":{\"value\":0.1},\"fill_color\":{\"value\":\"blue\"},\"line_alpha\":{\"value\":0.1},\"line_color\":{\"value\":\"blue\"},\"line_width\":{\"value\":5},\"right\":{\"value\":1227.7779648146864},\"y\":{\"field\":\"y\"}},\"id\":\"5891\",\"type\":\"HBar\"},{\"attributes\":{\"fill_color\":{\"value\":\"blue\"},\"line_color\":{\"value\":\"blue\"},\"line_width\":{\"value\":5},\"right\":{\"value\":1227.7779648146864},\"y\":{\"field\":\"y\"}},\"id\":\"5890\",\"type\":\"HBar\"},{\"attributes\":{\"source\":{\"id\":\"5924\"}},\"id\":\"5928\",\"type\":\"CDSView\"},{\"attributes\":{\"data\":{\"y\":[\"North Dakota\"]},\"selected\":{\"id\":\"6215\"},\"selection_policy\":{\"id\":\"6216\"}},\"id\":\"5929\",\"type\":\"ColumnDataSource\"},{\"attributes\":{\"data_source\":{\"id\":\"5924\"},\"glyph\":{\"id\":\"5925\"},\"hover_glyph\":null,\"muted_glyph\":null,\"nonselection_glyph\":{\"id\":\"5926\"},\"selection_glyph\":null,\"view\":{\"id\":\"5928\"}},\"id\":\"5927\",\"type\":\"GlyphRenderer\"},{\"attributes\":{\"source\":{\"id\":\"5889\"}},\"id\":\"5893\",\"type\":\"CDSView\"},{\"attributes\":{\"data\":{\"y\":[\"Michigan\"]},\"selected\":{\"id\":\"6201\"},\"selection_policy\":{\"id\":\"6202\"}},\"id\":\"5894\",\"type\":\"ColumnDataSource\"},{\"attributes\":{\"data_source\":{\"id\":\"5889\"},\"glyph\":{\"id\":\"5890\"},\"hover_glyph\":null,\"muted_glyph\":null,\"nonselection_glyph\":{\"id\":\"5891\"},\"selection_glyph\":null,\"view\":{\"id\":\"5893\"}},\"id\":\"5892\",\"type\":\"GlyphRenderer\"},{\"attributes\":{\"fill_alpha\":{\"value\":0.1},\"fill_color\":{\"value\":\"red\"},\"line_alpha\":{\"value\":0.1},\"line_color\":{\"value\":\"red\"},\"line_width\":{\"value\":5},\"right\":{\"value\":1691.4634242358234},\"y\":{\"field\":\"y\"}},\"id\":\"5931\",\"type\":\"HBar\"},{\"attributes\":{\"fill_color\":{\"value\":\"red\"},\"line_color\":{\"value\":\"red\"},\"line_width\":{\"value\":5},\"right\":{\"value\":1691.4634242358234},\"y\":{\"field\":\"y\"}},\"id\":\"5930\",\"type\":\"HBar\"},{\"attributes\":{\"fill_alpha\":{\"value\":0.1},\"fill_color\":{\"value\":\"blue\"},\"line_alpha\":{\"value\":0.1},\"line_color\":{\"value\":\"blue\"},\"line_width\":{\"value\":5},\"right\":{\"value\":1302.5118913788392},\"y\":{\"field\":\"y\"}},\"id\":\"5896\",\"type\":\"HBar\"},{\"attributes\":{\"fill_color\":{\"value\":\"blue\"},\"line_color\":{\"value\":\"blue\"},\"line_width\":{\"value\":5},\"right\":{\"value\":1302.5118913788392},\"y\":{\"field\":\"y\"}},\"id\":\"5895\",\"type\":\"HBar\"},{\"attributes\":{\"source\":{\"id\":\"5929\"}},\"id\":\"5933\",\"type\":\"CDSView\"},{\"attributes\":{\"data\":{\"y\":[\"Massachusetts\"]},\"selected\":{\"id\":\"6217\"},\"selection_policy\":{\"id\":\"6218\"}},\"id\":\"5934\",\"type\":\"ColumnDataSource\"},{\"attributes\":{\"data_source\":{\"id\":\"5929\"},\"glyph\":{\"id\":\"5930\"},\"hover_glyph\":null,\"muted_glyph\":null,\"nonselection_glyph\":{\"id\":\"5931\"},\"selection_glyph\":null,\"view\":{\"id\":\"5933\"}},\"id\":\"5932\",\"type\":\"GlyphRenderer\"},{\"attributes\":{\"source\":{\"id\":\"5894\"}},\"id\":\"5898\",\"type\":\"CDSView\"},{\"attributes\":{\"data\":{\"y\":[\"Illinois\"]},\"selected\":{\"id\":\"6203\"},\"selection_policy\":{\"id\":\"6204\"}},\"id\":\"5899\",\"type\":\"ColumnDataSource\"},{\"attributes\":{\"data_source\":{\"id\":\"5894\"},\"glyph\":{\"id\":\"5895\"},\"hover_glyph\":null,\"muted_glyph\":null,\"nonselection_glyph\":{\"id\":\"5896\"},\"selection_glyph\":null,\"view\":{\"id\":\"5898\"}},\"id\":\"5897\",\"type\":\"GlyphRenderer\"},{\"attributes\":{\"fill_alpha\":{\"value\":0.1},\"fill_color\":{\"value\":\"blue\"},\"line_alpha\":{\"value\":0.1},\"line_color\":{\"value\":\"blue\"},\"line_width\":{\"value\":5},\"right\":{\"value\":1790.060882091745},\"y\":{\"field\":\"y\"}},\"id\":\"5936\",\"type\":\"HBar\"},{\"attributes\":{\"fill_color\":{\"value\":\"blue\"},\"line_color\":{\"value\":\"blue\"},\"line_width\":{\"value\":5},\"right\":{\"value\":1790.060882091745},\"y\":{\"field\":\"y\"}},\"id\":\"5935\",\"type\":\"HBar\"},{\"attributes\":{\"fill_alpha\":{\"value\":0.1},\"fill_color\":{\"value\":\"blue\"},\"line_alpha\":{\"value\":0.1},\"line_color\":{\"value\":\"blue\"},\"line_width\":{\"value\":5},\"right\":{\"value\":1405.7174576566383},\"y\":{\"field\":\"y\"}},\"id\":\"5901\",\"type\":\"HBar\"},{\"attributes\":{\"fill_color\":{\"value\":\"blue\"},\"line_color\":{\"value\":\"blue\"},\"line_width\":{\"value\":5},\"right\":{\"value\":1405.7174576566383},\"y\":{\"field\":\"y\"}},\"id\":\"5900\",\"type\":\"HBar\"},{\"attributes\":{\"source\":{\"id\":\"5934\"}},\"id\":\"5938\",\"type\":\"CDSView\"},{\"attributes\":{\"data\":{\"y\":[\"New York\"]},\"selected\":{\"id\":\"6219\"},\"selection_policy\":{\"id\":\"6220\"}},\"id\":\"5939\",\"type\":\"ColumnDataSource\"},{\"attributes\":{\"data_source\":{\"id\":\"5934\"},\"glyph\":{\"id\":\"5935\"},\"hover_glyph\":null,\"muted_glyph\":null,\"nonselection_glyph\":{\"id\":\"5936\"},\"selection_glyph\":null,\"view\":{\"id\":\"5938\"}},\"id\":\"5937\",\"type\":\"GlyphRenderer\"},{\"attributes\":{\"source\":{\"id\":\"5899\"}},\"id\":\"5903\",\"type\":\"CDSView\"},{\"attributes\":{\"data\":{\"y\":[\"Mississippi\"]},\"selected\":{\"id\":\"6205\"},\"selection_policy\":{\"id\":\"6206\"}},\"id\":\"5904\",\"type\":\"ColumnDataSource\"},{\"attributes\":{\"data_source\":{\"id\":\"5899\"},\"glyph\":{\"id\":\"5900\"},\"hover_glyph\":null,\"muted_glyph\":null,\"nonselection_glyph\":{\"id\":\"5901\"},\"selection_glyph\":null,\"view\":{\"id\":\"5903\"}},\"id\":\"5902\",\"type\":\"GlyphRenderer\"},{\"attributes\":{\"fill_alpha\":{\"value\":0.1},\"fill_color\":{\"value\":\"blue\"},\"line_alpha\":{\"value\":0.1},\"line_color\":{\"value\":\"blue\"},\"line_width\":{\"value\":5},\"right\":{\"value\":1923.1440454526553},\"y\":{\"field\":\"y\"}},\"id\":\"5941\",\"type\":\"HBar\"},{\"attributes\":{\"fill_color\":{\"value\":\"blue\"},\"line_color\":{\"value\":\"blue\"},\"line_width\":{\"value\":5},\"right\":{\"value\":1923.1440454526553},\"y\":{\"field\":\"y\"}},\"id\":\"5940\",\"type\":\"HBar\"},{\"attributes\":{\"fill_alpha\":{\"value\":0.1},\"fill_color\":{\"value\":\"red\"},\"line_alpha\":{\"value\":0.1},\"line_color\":{\"value\":\"red\"},\"line_width\":{\"value\":5},\"right\":{\"value\":1595.014228118283},\"y\":{\"field\":\"y\"}},\"id\":\"5906\",\"type\":\"HBar\"},{\"attributes\":{\"fill_color\":{\"value\":\"red\"},\"line_color\":{\"value\":\"red\"},\"line_width\":{\"value\":5},\"right\":{\"value\":1595.014228118283},\"y\":{\"field\":\"y\"}},\"id\":\"5905\",\"type\":\"HBar\"},{\"attributes\":{\"source\":{\"id\":\"5939\"}},\"id\":\"5943\",\"type\":\"CDSView\"},{\"attributes\":{\"data\":{\"y\":[\"New Jersey\"]},\"selected\":{\"id\":\"6221\"},\"selection_policy\":{\"id\":\"6222\"}},\"id\":\"5944\",\"type\":\"ColumnDataSource\"},{\"attributes\":{\"data_source\":{\"id\":\"5939\"},\"glyph\":{\"id\":\"5940\"},\"hover_glyph\":null,\"muted_glyph\":null,\"nonselection_glyph\":{\"id\":\"5941\"},\"selection_glyph\":null,\"view\":{\"id\":\"5943\"}},\"id\":\"5942\",\"type\":\"GlyphRenderer\"},{\"attributes\":{\"source\":{\"id\":\"5904\"}},\"id\":\"5908\",\"type\":\"CDSView\"},{\"attributes\":{\"data\":{\"y\":[\"Louisiana\"]},\"selected\":{\"id\":\"6207\"},\"selection_policy\":{\"id\":\"6208\"}},\"id\":\"5909\",\"type\":\"ColumnDataSource\"},{\"attributes\":{\"data_source\":{\"id\":\"5904\"},\"glyph\":{\"id\":\"5905\"},\"hover_glyph\":null,\"muted_glyph\":null,\"nonselection_glyph\":{\"id\":\"5906\"},\"selection_glyph\":null,\"view\":{\"id\":\"5908\"}},\"id\":\"5907\",\"type\":\"GlyphRenderer\"},{\"attributes\":{\"fill_alpha\":{\"value\":0.1},\"fill_color\":{\"value\":\"blue\"},\"line_alpha\":{\"value\":0.1},\"line_color\":{\"value\":\"blue\"},\"line_width\":{\"value\":5},\"right\":{\"value\":2133.7080157033342},\"y\":{\"field\":\"y\"}},\"id\":\"5946\",\"type\":\"HBar\"},{\"attributes\":{\"fill_color\":{\"value\":\"blue\"},\"line_color\":{\"value\":\"blue\"},\"line_width\":{\"value\":5},\"right\":{\"value\":2133.7080157033342},\"y\":{\"field\":\"y\"}},\"id\":\"5945\",\"type\":\"HBar\"},{\"attributes\":{\"fill_alpha\":{\"value\":0.1},\"fill_color\":{\"value\":\"red\"},\"line_alpha\":{\"value\":0.1},\"line_color\":{\"value\":\"red\"},\"line_width\":{\"value\":5},\"right\":{\"value\":1602.135951818902},\"y\":{\"field\":\"y\"}},\"id\":\"5911\",\"type\":\"HBar\"},{\"attributes\":{\"fill_color\":{\"value\":\"red\"},\"line_color\":{\"value\":\"red\"},\"line_width\":{\"value\":5},\"right\":{\"value\":1602.135951818902},\"y\":{\"field\":\"y\"}},\"id\":\"5910\",\"type\":\"HBar\"},{\"attributes\":{\"source\":{\"id\":\"5944\"}},\"id\":\"5948\",\"type\":\"CDSView\"},{\"attributes\":{},\"id\":\"6124\",\"type\":\"UnionRenderers\"},{\"attributes\":{\"data_source\":{\"id\":\"5944\"},\"glyph\":{\"id\":\"5945\"},\"hover_glyph\":null,\"muted_glyph\":null,\"nonselection_glyph\":{\"id\":\"5946\"},\"selection_glyph\":null,\"view\":{\"id\":\"5948\"}},\"id\":\"5947\",\"type\":\"GlyphRenderer\"},{\"attributes\":{\"source\":{\"id\":\"5909\"}},\"id\":\"5913\",\"type\":\"CDSView\"},{\"attributes\":{\"data\":{\"y\":[\"South Dakota\"]},\"selected\":{\"id\":\"6209\"},\"selection_policy\":{\"id\":\"6210\"}},\"id\":\"5914\",\"type\":\"ColumnDataSource\"},{\"attributes\":{\"data_source\":{\"id\":\"5909\"},\"glyph\":{\"id\":\"5910\"},\"hover_glyph\":null,\"muted_glyph\":null,\"nonselection_glyph\":{\"id\":\"5911\"},\"selection_glyph\":null,\"view\":{\"id\":\"5913\"}},\"id\":\"5912\",\"type\":\"GlyphRenderer\"},{\"attributes\":{},\"id\":\"6125\",\"type\":\"Selection\"},{\"attributes\":{},\"id\":\"6126\",\"type\":\"UnionRenderers\"},{\"attributes\":{\"fill_alpha\":{\"value\":0.1},\"fill_color\":{\"value\":\"red\"},\"line_alpha\":{\"value\":0.1},\"line_color\":{\"value\":\"red\"},\"line_width\":{\"value\":5},\"right\":{\"value\":1654.8749292100122},\"y\":{\"field\":\"y\"}},\"id\":\"5916\",\"type\":\"HBar\"},{\"attributes\":{\"fill_color\":{\"value\":\"red\"},\"line_color\":{\"value\":\"red\"},\"line_width\":{\"value\":5},\"right\":{\"value\":1654.8749292100122},\"y\":{\"field\":\"y\"}},\"id\":\"5915\",\"type\":\"HBar\"},{\"attributes\":{},\"id\":\"6127\",\"type\":\"Selection\"},{\"attributes\":{},\"id\":\"6128\",\"type\":\"UnionRenderers\"},{\"attributes\":{\"source\":{\"id\":\"5914\"}},\"id\":\"5918\",\"type\":\"CDSView\"},{\"attributes\":{},\"id\":\"6129\",\"type\":\"Selection\"},{\"attributes\":{\"data\":{\"y\":[\"Connecticut\"]},\"selected\":{\"id\":\"6211\"},\"selection_policy\":{\"id\":\"6212\"}},\"id\":\"5919\",\"type\":\"ColumnDataSource\"},{\"attributes\":{\"data_source\":{\"id\":\"5914\"},\"glyph\":{\"id\":\"5915\"},\"hover_glyph\":null,\"muted_glyph\":null,\"nonselection_glyph\":{\"id\":\"5916\"},\"selection_glyph\":null,\"view\":{\"id\":\"5918\"}},\"id\":\"5917\",\"type\":\"GlyphRenderer\"},{\"attributes\":{},\"id\":\"6130\",\"type\":\"UnionRenderers\"},{\"attributes\":{\"fill_color\":{\"value\":\"blue\"},\"line_color\":{\"value\":\"blue\"},\"line_width\":{\"value\":5},\"right\":{\"value\":1672.7966079589105},\"y\":{\"field\":\"y\"}},\"id\":\"5920\",\"type\":\"HBar\"},{\"attributes\":{},\"id\":\"6131\",\"type\":\"Selection\"},{\"attributes\":{\"fill_alpha\":{\"value\":0.1},\"fill_color\":{\"value\":\"blue\"},\"line_alpha\":{\"value\":0.1},\"line_color\":{\"value\":\"blue\"},\"line_width\":{\"value\":5},\"right\":{\"value\":1672.7966079589105},\"y\":{\"field\":\"y\"}},\"id\":\"5921\",\"type\":\"HBar\"},{\"attributes\":{},\"id\":\"6132\",\"type\":\"UnionRenderers\"},{\"attributes\":{},\"id\":\"5665\",\"type\":\"DataRange1d\"},{\"attributes\":{\"factors\":[\"Hawaii\",\"Vermont\",\"Maine\",\"Alaska\",\"Oregon\",\"Utah\",\"Washington\",\"New Hampshire\",\"Virginia\",\"Oklahoma\",\"California\",\"North Carolina\",\"Kentucky\",\"Wyoming\",\"West Virginia\",\"Ohio\",\"Idaho\",\"Colorado\",\"Nebraska\",\"Montana\",\"Wisconsin\",\"Kansas\",\"Minnesota\",\"Delaware\",\"Missouri\",\"Texas\",\"Maryland\",\"Alabama\",\"Tennessee\",\"Georgia\",\"Nevada\",\"Florida\",\"South Carolina\",\"District of Columbia\",\"New Mexico\",\"Arizona\",\"Arkansas\",\"Iowa\",\"Indiana\",\"Pennsylvania\",\"Michigan\",\"Illinois\",\"Mississippi\",\"Louisiana\",\"South Dakota\",\"Connecticut\",\"Rhode Island\",\"North Dakota\",\"Massachusetts\",\"New York\",\"New Jersey\"]},\"id\":\"5667\",\"type\":\"FactorRange\"},{\"attributes\":{},\"id\":\"5669\",\"type\":\"LinearScale\"},{\"attributes\":{},\"id\":\"5671\",\"type\":\"CategoricalScale\"},{\"attributes\":{\"axis_label\":\"Deaths per Million\",\"formatter\":{\"id\":\"6120\"},\"ticker\":{\"id\":\"5674\"}},\"id\":\"5673\",\"type\":\"LinearAxis\"},{\"attributes\":{},\"id\":\"5674\",\"type\":\"BasicTicker\"},{\"attributes\":{\"axis\":{\"id\":\"5673\"},\"grid_line_color\":null,\"ticker\":null},\"id\":\"5676\",\"type\":\"Grid\"},{\"attributes\":{\"formatter\":{\"id\":\"6118\"},\"ticker\":{\"id\":\"5678\"}},\"id\":\"5677\",\"type\":\"CategoricalAxis\"},{\"attributes\":{},\"id\":\"5678\",\"type\":\"CategoricalTicker\"},{\"attributes\":{\"axis\":{\"id\":\"5677\"},\"dimension\":1,\"ticker\":null},\"id\":\"5679\",\"type\":\"Grid\"},{\"attributes\":{\"fill_alpha\":{\"value\":0.1},\"fill_color\":{\"value\":\"blue\"},\"line_alpha\":{\"value\":0.1},\"line_color\":{\"value\":\"blue\"},\"line_width\":{\"value\":5},\"right\":{\"value\":199.87682502373096},\"y\":{\"field\":\"y\"}},\"id\":\"5696\",\"type\":\"HBar\"},{\"attributes\":{\"data\":{\"y\":[\"Hawaii\"]},\"selected\":{\"id\":\"6121\"},\"selection_policy\":{\"id\":\"6122\"}},\"id\":\"5694\",\"type\":\"ColumnDataSource\"},{\"attributes\":{},\"id\":\"5680\",\"type\":\"PanTool\"},{\"attributes\":{},\"id\":\"5681\",\"type\":\"WheelZoomTool\"},{\"attributes\":{\"overlay\":{\"id\":\"5686\"}},\"id\":\"5682\",\"type\":\"BoxZoomTool\"},{\"attributes\":{},\"id\":\"5683\",\"type\":\"SaveTool\"},{\"attributes\":{},\"id\":\"5684\",\"type\":\"ResetTool\"},{\"attributes\":{},\"id\":\"5685\",\"type\":\"HelpTool\"},{\"attributes\":{\"fill_color\":{\"value\":\"red\"},\"line_color\":{\"value\":\"red\"},\"line_width\":{\"value\":5},\"right\":{\"value\":658.7321856366839},\"y\":{\"field\":\"y\"}},\"id\":\"5755\",\"type\":\"HBar\"},{\"attributes\":{\"active_drag\":\"auto\",\"active_inspect\":\"auto\",\"active_multi\":null,\"active_scroll\":\"auto\",\"active_tap\":\"auto\",\"tools\":[{\"id\":\"5680\"},{\"id\":\"5681\"},{\"id\":\"5682\"},{\"id\":\"5683\"},{\"id\":\"5684\"},{\"id\":\"5685\"}]},\"id\":\"5687\",\"type\":\"Toolbar\"},{\"attributes\":{\"source\":{\"id\":\"5749\"}},\"id\":\"5753\",\"type\":\"CDSView\"},{\"attributes\":{\"data\":{\"y\":[\"Kentucky\"]},\"selected\":{\"id\":\"6145\"},\"selection_policy\":{\"id\":\"6146\"}},\"id\":\"5754\",\"type\":\"ColumnDataSource\"},{\"attributes\":{\"data_source\":{\"id\":\"5749\"},\"glyph\":{\"id\":\"5750\"},\"hover_glyph\":null,\"muted_glyph\":null,\"nonselection_glyph\":{\"id\":\"5751\"},\"selection_glyph\":null,\"view\":{\"id\":\"5753\"}},\"id\":\"5752\",\"type\":\"GlyphRenderer\"},{\"attributes\":{\"bottom_units\":\"screen\",\"fill_alpha\":0.5,\"fill_color\":\"lightgrey\",\"left_units\":\"screen\",\"level\":\"overlay\",\"line_alpha\":1.0,\"line_color\":\"black\",\"line_dash\":[4,4],\"line_width\":2,\"render_mode\":\"css\",\"right_units\":\"screen\",\"top_units\":\"screen\"},\"id\":\"5686\",\"type\":\"BoxAnnotation\"},{\"attributes\":{\"fill_color\":{\"value\":\"blue\"},\"line_color\":{\"value\":\"blue\"},\"line_width\":{\"value\":5},\"right\":{\"value\":199.87682502373096},\"y\":{\"field\":\"y\"}},\"id\":\"5695\",\"type\":\"HBar\"},{\"attributes\":{\"source\":{\"id\":\"5694\"}},\"id\":\"5698\",\"type\":\"CDSView\"},{\"attributes\":{\"data\":{\"y\":[\"Vermont\"]},\"selected\":{\"id\":\"6123\"},\"selection_policy\":{\"id\":\"6124\"}},\"id\":\"5699\",\"type\":\"ColumnDataSource\"},{\"attributes\":{\"data_source\":{\"id\":\"5694\"},\"glyph\":{\"id\":\"5695\"},\"hover_glyph\":null,\"muted_glyph\":null,\"nonselection_glyph\":{\"id\":\"5696\"},\"selection_glyph\":null,\"view\":{\"id\":\"5698\"}},\"id\":\"5697\",\"type\":\"GlyphRenderer\"},{\"attributes\":{\"fill_alpha\":{\"value\":0.1},\"fill_color\":{\"value\":\"blue\"},\"line_alpha\":{\"value\":0.1},\"line_color\":{\"value\":\"blue\"},\"line_width\":{\"value\":5},\"right\":{\"value\":214.74737535437322},\"y\":{\"field\":\"y\"}},\"id\":\"5701\",\"type\":\"HBar\"},{\"attributes\":{\"fill_color\":{\"value\":\"blue\"},\"line_color\":{\"value\":\"blue\"},\"line_width\":{\"value\":5},\"right\":{\"value\":214.74737535437322},\"y\":{\"field\":\"y\"}},\"id\":\"5700\",\"type\":\"HBar\"},{\"attributes\":{\"data_source\":{\"id\":\"5699\"},\"glyph\":{\"id\":\"5700\"},\"hover_glyph\":null,\"muted_glyph\":null,\"nonselection_glyph\":{\"id\":\"5701\"},\"selection_glyph\":null,\"view\":{\"id\":\"5703\"}},\"id\":\"5702\",\"type\":\"GlyphRenderer\"},{\"attributes\":{\"data\":{\"y\":[\"Missouri\"]},\"selected\":{\"id\":\"6169\"},\"selection_policy\":{\"id\":\"6170\"}},\"id\":\"5814\",\"type\":\"ColumnDataSource\"},{\"attributes\":{\"source\":{\"id\":\"5699\"}},\"id\":\"5703\",\"type\":\"CDSView\"},{\"attributes\":{\"data\":{\"y\":[\"Maine\"]},\"selected\":{\"id\":\"6125\"},\"selection_policy\":{\"id\":\"6126\"}},\"id\":\"5704\",\"type\":\"ColumnDataSource\"},{\"attributes\":{\"fill_alpha\":{\"value\":0.1},\"fill_color\":{\"value\":\"red\"},\"line_alpha\":{\"value\":0.1},\"line_color\":{\"value\":\"red\"},\"line_width\":{\"value\":5},\"right\":{\"value\":952.5162657712644},\"y\":{\"field\":\"y\"}},\"id\":\"5816\",\"type\":\"HBar\"},{\"attributes\":{\"fill_color\":{\"value\":\"red\"},\"line_color\":{\"value\":\"red\"},\"line_width\":{\"value\":5},\"right\":{\"value\":952.5162657712644},\"y\":{\"field\":\"y\"}},\"id\":\"5815\",\"type\":\"HBar\"},{\"attributes\":{\"fill_alpha\":{\"value\":0.1},\"fill_color\":{\"value\":\"blue\"},\"line_alpha\":{\"value\":0.1},\"line_color\":{\"value\":\"blue\"},\"line_width\":{\"value\":5},\"right\":{\"value\":248.47271114972935},\"y\":{\"field\":\"y\"}},\"id\":\"5706\",\"type\":\"HBar\"},{\"attributes\":{\"fill_color\":{\"value\":\"blue\"},\"line_color\":{\"value\":\"blue\"},\"line_width\":{\"value\":5},\"right\":{\"value\":248.47271114972935},\"y\":{\"field\":\"y\"}},\"id\":\"5705\",\"type\":\"HBar\"},{\"attributes\":{\"source\":{\"id\":\"5814\"}},\"id\":\"5818\",\"type\":\"CDSView\"},{\"attributes\":{\"data\":{\"y\":[\"Texas\"]},\"selected\":{\"id\":\"6171\"},\"selection_policy\":{\"id\":\"6172\"}},\"id\":\"5819\",\"type\":\"ColumnDataSource\"},{\"attributes\":{\"data_source\":{\"id\":\"5814\"},\"glyph\":{\"id\":\"5815\"},\"hover_glyph\":null,\"muted_glyph\":null,\"nonselection_glyph\":{\"id\":\"5816\"},\"selection_glyph\":null,\"view\":{\"id\":\"5818\"}},\"id\":\"5817\",\"type\":\"GlyphRenderer\"},{\"attributes\":{\"source\":{\"id\":\"5704\"}},\"id\":\"5708\",\"type\":\"CDSView\"},{\"attributes\":{\"data\":{\"y\":[\"Alaska\"]},\"selected\":{\"id\":\"6127\"},\"selection_policy\":{\"id\":\"6128\"}},\"id\":\"5709\",\"type\":\"ColumnDataSource\"},{\"attributes\":{\"data_source\":{\"id\":\"5704\"},\"glyph\":{\"id\":\"5705\"},\"hover_glyph\":null,\"muted_glyph\":null,\"nonselection_glyph\":{\"id\":\"5706\"},\"selection_glyph\":null,\"view\":{\"id\":\"5708\"}},\"id\":\"5707\",\"type\":\"GlyphRenderer\"},{\"attributes\":{\"fill_alpha\":{\"value\":0.1},\"fill_color\":{\"value\":\"red\"},\"line_alpha\":{\"value\":0.1},\"line_color\":{\"value\":\"red\"},\"line_width\":{\"value\":5},\"right\":{\"value\":959.4811069889548},\"y\":{\"field\":\"y\"}},\"id\":\"5821\",\"type\":\"HBar\"},{\"attributes\":{\"fill_color\":{\"value\":\"red\"},\"line_color\":{\"value\":\"red\"},\"line_width\":{\"value\":5},\"right\":{\"value\":959.4811069889548},\"y\":{\"field\":\"y\"}},\"id\":\"5820\",\"type\":\"HBar\"},{\"attributes\":{\"fill_alpha\":{\"value\":0.1},\"fill_color\":{\"value\":\"red\"},\"line_alpha\":{\"value\":0.1},\"line_color\":{\"value\":\"red\"},\"line_width\":{\"value\":5},\"right\":{\"value\":266.5591317007156},\"y\":{\"field\":\"y\"}},\"id\":\"5711\",\"type\":\"HBar\"},{\"attributes\":{\"fill_color\":{\"value\":\"red\"},\"line_color\":{\"value\":\"red\"},\"line_width\":{\"value\":5},\"right\":{\"value\":266.5591317007156},\"y\":{\"field\":\"y\"}},\"id\":\"5710\",\"type\":\"HBar\"},{\"attributes\":{\"source\":{\"id\":\"5819\"}},\"id\":\"5823\",\"type\":\"CDSView\"},{\"attributes\":{\"data\":{\"y\":[\"Maryland\"]},\"selected\":{\"id\":\"6173\"},\"selection_policy\":{\"id\":\"6174\"}},\"id\":\"5824\",\"type\":\"ColumnDataSource\"},{\"attributes\":{\"data_source\":{\"id\":\"5819\"},\"glyph\":{\"id\":\"5820\"},\"hover_glyph\":null,\"muted_glyph\":null,\"nonselection_glyph\":{\"id\":\"5821\"},\"selection_glyph\":null,\"view\":{\"id\":\"5823\"}},\"id\":\"5822\",\"type\":\"GlyphRenderer\"},{\"attributes\":{\"source\":{\"id\":\"5709\"}},\"id\":\"5713\",\"type\":\"CDSView\"},{\"attributes\":{\"data\":{\"y\":[\"Oregon\"]},\"selected\":{\"id\":\"6129\"},\"selection_policy\":{\"id\":\"6130\"}},\"id\":\"5714\",\"type\":\"ColumnDataSource\"},{\"attributes\":{\"data_source\":{\"id\":\"5709\"},\"glyph\":{\"id\":\"5710\"},\"hover_glyph\":null,\"muted_glyph\":null,\"nonselection_glyph\":{\"id\":\"5711\"},\"selection_glyph\":null,\"view\":{\"id\":\"5713\"}},\"id\":\"5712\",\"type\":\"GlyphRenderer\"},{\"attributes\":{\"fill_alpha\":{\"value\":0.1},\"fill_color\":{\"value\":\"blue\"},\"line_alpha\":{\"value\":0.1},\"line_color\":{\"value\":\"blue\"},\"line_width\":{\"value\":5},\"right\":{\"value\":967.3022720355692},\"y\":{\"field\":\"y\"}},\"id\":\"5826\",\"type\":\"HBar\"},{\"attributes\":{\"fill_color\":{\"value\":\"blue\"},\"line_color\":{\"value\":\"blue\"},\"line_width\":{\"value\":5},\"right\":{\"value\":967.3022720355692},\"y\":{\"field\":\"y\"}},\"id\":\"5825\",\"type\":\"HBar\"},{\"attributes\":{\"data\":{\"y\":[\"Utah\"]},\"selected\":{\"id\":\"6131\"},\"selection_policy\":{\"id\":\"6132\"}},\"id\":\"5719\",\"type\":\"ColumnDataSource\"},{\"attributes\":{\"fill_alpha\":{\"value\":0.1},\"fill_color\":{\"value\":\"blue\"},\"line_alpha\":{\"value\":0.1},\"line_color\":{\"value\":\"blue\"},\"line_width\":{\"value\":5},\"right\":{\"value\":350.4248842447976},\"y\":{\"field\":\"y\"}},\"id\":\"5716\",\"type\":\"HBar\"},{\"attributes\":{\"fill_color\":{\"value\":\"blue\"},\"line_color\":{\"value\":\"blue\"},\"line_width\":{\"value\":5},\"right\":{\"value\":350.4248842447976},\"y\":{\"field\":\"y\"}},\"id\":\"5715\",\"type\":\"HBar\"},{\"attributes\":{\"source\":{\"id\":\"5824\"}},\"id\":\"5828\",\"type\":\"CDSView\"},{\"attributes\":{\"data\":{\"y\":[\"Alabama\"]},\"selected\":{\"id\":\"6175\"},\"selection_policy\":{\"id\":\"6176\"}},\"id\":\"5829\",\"type\":\"ColumnDataSource\"},{\"attributes\":{\"data_source\":{\"id\":\"5824\"},\"glyph\":{\"id\":\"5825\"},\"hover_glyph\":null,\"muted_glyph\":null,\"nonselection_glyph\":{\"id\":\"5826\"},\"selection_glyph\":null,\"view\":{\"id\":\"5828\"}},\"id\":\"5827\",\"type\":\"GlyphRenderer\"},{\"attributes\":{\"source\":{\"id\":\"5714\"}},\"id\":\"5718\",\"type\":\"CDSView\"},{\"attributes\":{\"data_source\":{\"id\":\"5714\"},\"glyph\":{\"id\":\"5715\"},\"hover_glyph\":null,\"muted_glyph\":null,\"nonselection_glyph\":{\"id\":\"5716\"},\"selection_glyph\":null,\"view\":{\"id\":\"5718\"}},\"id\":\"5717\",\"type\":\"GlyphRenderer\"},{\"attributes\":{\"fill_alpha\":{\"value\":0.1},\"fill_color\":{\"value\":\"red\"},\"line_alpha\":{\"value\":0.1},\"line_color\":{\"value\":\"red\"},\"line_width\":{\"value\":5},\"right\":{\"value\":973.6528399397534},\"y\":{\"field\":\"y\"}},\"id\":\"5831\",\"type\":\"HBar\"},{\"attributes\":{\"fill_color\":{\"value\":\"red\"},\"line_color\":{\"value\":\"red\"},\"line_width\":{\"value\":5},\"right\":{\"value\":973.6528399397534},\"y\":{\"field\":\"y\"}},\"id\":\"5830\",\"type\":\"HBar\"},{\"attributes\":{\"fill_alpha\":{\"value\":0.1},\"fill_color\":{\"value\":\"red\"},\"line_alpha\":{\"value\":0.1},\"line_color\":{\"value\":\"red\"},\"line_width\":{\"value\":5},\"right\":{\"value\":392.7063299020137},\"y\":{\"field\":\"y\"}},\"id\":\"5721\",\"type\":\"HBar\"},{\"attributes\":{\"fill_color\":{\"value\":\"red\"},\"line_color\":{\"value\":\"red\"},\"line_width\":{\"value\":5},\"right\":{\"value\":392.7063299020137},\"y\":{\"field\":\"y\"}},\"id\":\"5720\",\"type\":\"HBar\"},{\"attributes\":{\"source\":{\"id\":\"5829\"}},\"id\":\"5833\",\"type\":\"CDSView\"},{\"attributes\":{\"data\":{\"y\":[\"Tennessee\"]},\"selected\":{\"id\":\"6177\"},\"selection_policy\":{\"id\":\"6178\"}},\"id\":\"5834\",\"type\":\"ColumnDataSource\"},{\"attributes\":{\"data_source\":{\"id\":\"5829\"},\"glyph\":{\"id\":\"5830\"},\"hover_glyph\":null,\"muted_glyph\":null,\"nonselection_glyph\":{\"id\":\"5831\"},\"selection_glyph\":null,\"view\":{\"id\":\"5833\"}},\"id\":\"5832\",\"type\":\"GlyphRenderer\"},{\"attributes\":{\"source\":{\"id\":\"5719\"}},\"id\":\"5723\",\"type\":\"CDSView\"},{\"attributes\":{\"data\":{\"y\":[\"Washington\"]},\"selected\":{\"id\":\"6133\"},\"selection_policy\":{\"id\":\"6134\"}},\"id\":\"5724\",\"type\":\"ColumnDataSource\"},{\"attributes\":{\"data_source\":{\"id\":\"5719\"},\"glyph\":{\"id\":\"5720\"},\"hover_glyph\":null,\"muted_glyph\":null,\"nonselection_glyph\":{\"id\":\"5721\"},\"selection_glyph\":null,\"view\":{\"id\":\"5723\"}},\"id\":\"5722\",\"type\":\"GlyphRenderer\"},{\"attributes\":{\"fill_alpha\":{\"value\":0.1},\"fill_color\":{\"value\":\"red\"},\"line_alpha\":{\"value\":0.1},\"line_color\":{\"value\":\"red\"},\"line_width\":{\"value\":5},\"right\":{\"value\":988.1136430262283},\"y\":{\"field\":\"y\"}},\"id\":\"5836\",\"type\":\"HBar\"},{\"attributes\":{\"fill_color\":{\"value\":\"red\"},\"line_color\":{\"value\":\"red\"},\"line_width\":{\"value\":5},\"right\":{\"value\":988.1136430262283},\"y\":{\"field\":\"y\"}},\"id\":\"5835\",\"type\":\"HBar\"},{\"attributes\":{\"fill_alpha\":{\"value\":0.1},\"fill_color\":{\"value\":\"blue\"},\"line_alpha\":{\"value\":0.1},\"line_color\":{\"value\":\"blue\"},\"line_width\":{\"value\":5},\"right\":{\"value\":457.78712845997967},\"y\":{\"field\":\"y\"}},\"id\":\"5726\",\"type\":\"HBar\"},{\"attributes\":{\"fill_color\":{\"value\":\"blue\"},\"line_color\":{\"value\":\"blue\"},\"line_width\":{\"value\":5},\"right\":{\"value\":457.78712845997967},\"y\":{\"field\":\"y\"}},\"id\":\"5725\",\"type\":\"HBar\"},{\"attributes\":{\"source\":{\"id\":\"5834\"}},\"id\":\"5838\",\"type\":\"CDSView\"},{\"attributes\":{\"data\":{\"y\":[\"Georgia\"]},\"selected\":{\"id\":\"6179\"},\"selection_policy\":{\"id\":\"6180\"}},\"id\":\"5839\",\"type\":\"ColumnDataSource\"},{\"attributes\":{\"data_source\":{\"id\":\"5834\"},\"glyph\":{\"id\":\"5835\"},\"hover_glyph\":null,\"muted_glyph\":null,\"nonselection_glyph\":{\"id\":\"5836\"},\"selection_glyph\":null,\"view\":{\"id\":\"5838\"}},\"id\":\"5837\",\"type\":\"GlyphRenderer\"},{\"attributes\":{\"source\":{\"id\":\"5724\"}},\"id\":\"5728\",\"type\":\"CDSView\"},{\"attributes\":{\"data\":{\"y\":[\"New Hampshire\"]},\"selected\":{\"id\":\"6135\"},\"selection_policy\":{\"id\":\"6136\"}},\"id\":\"5729\",\"type\":\"ColumnDataSource\"},{\"attributes\":{\"data_source\":{\"id\":\"5724\"},\"glyph\":{\"id\":\"5725\"},\"hover_glyph\":null,\"muted_glyph\":null,\"nonselection_glyph\":{\"id\":\"5726\"},\"selection_glyph\":null,\"view\":{\"id\":\"5728\"}},\"id\":\"5727\",\"type\":\"GlyphRenderer\"},{\"attributes\":{\"fill_alpha\":{\"value\":0.1},\"fill_color\":{\"value\":\"blue\"},\"line_alpha\":{\"value\":0.1},\"line_color\":{\"value\":\"blue\"},\"line_width\":{\"value\":5},\"right\":{\"value\":989.2230911399123},\"y\":{\"field\":\"y\"}},\"id\":\"5841\",\"type\":\"HBar\"},{\"attributes\":{\"fill_color\":{\"value\":\"blue\"},\"line_color\":{\"value\":\"blue\"},\"line_width\":{\"value\":5},\"right\":{\"value\":989.2230911399123},\"y\":{\"field\":\"y\"}},\"id\":\"5840\",\"type\":\"HBar\"},{\"attributes\":{\"fill_alpha\":{\"value\":0.1},\"fill_color\":{\"value\":\"blue\"},\"line_alpha\":{\"value\":0.1},\"line_color\":{\"value\":\"blue\"},\"line_width\":{\"value\":5},\"right\":{\"value\":544.9687470352155},\"y\":{\"field\":\"y\"}},\"id\":\"5731\",\"type\":\"HBar\"},{\"attributes\":{\"fill_color\":{\"value\":\"blue\"},\"line_color\":{\"value\":\"blue\"},\"line_width\":{\"value\":5},\"right\":{\"value\":544.9687470352155},\"y\":{\"field\":\"y\"}},\"id\":\"5730\",\"type\":\"HBar\"},{\"attributes\":{\"source\":{\"id\":\"5839\"}},\"id\":\"5843\",\"type\":\"CDSView\"},{\"attributes\":{\"data\":{\"y\":[\"Nevada\"]},\"selected\":{\"id\":\"6181\"},\"selection_policy\":{\"id\":\"6182\"}},\"id\":\"5844\",\"type\":\"ColumnDataSource\"},{\"attributes\":{\"data_source\":{\"id\":\"5839\"},\"glyph\":{\"id\":\"5840\"},\"hover_glyph\":null,\"muted_glyph\":null,\"nonselection_glyph\":{\"id\":\"5841\"},\"selection_glyph\":null,\"view\":{\"id\":\"5843\"}},\"id\":\"5842\",\"type\":\"GlyphRenderer\"},{\"attributes\":{\"source\":{\"id\":\"5729\"}},\"id\":\"5733\",\"type\":\"CDSView\"},{\"attributes\":{\"data\":{\"y\":[\"Virginia\"]},\"selected\":{\"id\":\"6137\"},\"selection_policy\":{\"id\":\"6138\"}},\"id\":\"5734\",\"type\":\"ColumnDataSource\"},{\"attributes\":{\"data_source\":{\"id\":\"5729\"},\"glyph\":{\"id\":\"5730\"},\"hover_glyph\":null,\"muted_glyph\":null,\"nonselection_glyph\":{\"id\":\"5731\"},\"selection_glyph\":null,\"view\":{\"id\":\"5733\"}},\"id\":\"5732\",\"type\":\"GlyphRenderer\"},{\"attributes\":{\"fill_alpha\":{\"value\":0.1},\"fill_color\":{\"value\":\"blue\"},\"line_alpha\":{\"value\":0.1},\"line_color\":{\"value\":\"blue\"},\"line_width\":{\"value\":5},\"right\":{\"value\":1000.2740120954912},\"y\":{\"field\":\"y\"}},\"id\":\"5846\",\"type\":\"HBar\"},{\"attributes\":{\"fill_color\":{\"value\":\"blue\"},\"line_color\":{\"value\":\"blue\"},\"line_width\":{\"value\":5},\"right\":{\"value\":1000.2740120954912},\"y\":{\"field\":\"y\"}},\"id\":\"5845\",\"type\":\"HBar\"},{\"attributes\":{\"fill_color\":{\"value\":\"blue\"},\"line_color\":{\"value\":\"blue\"},\"line_width\":{\"value\":5},\"right\":{\"value\":583.9129407362341},\"y\":{\"field\":\"y\"}},\"id\":\"5735\",\"type\":\"HBar\"},{\"attributes\":{\"data_source\":{\"id\":\"5734\"},\"glyph\":{\"id\":\"5735\"},\"hover_glyph\":null,\"muted_glyph\":null,\"nonselection_glyph\":{\"id\":\"5736\"},\"selection_glyph\":null,\"view\":{\"id\":\"5738\"}},\"id\":\"5737\",\"type\":\"GlyphRenderer\"},{\"attributes\":{\"source\":{\"id\":\"5734\"}},\"id\":\"5738\",\"type\":\"CDSView\"},{\"attributes\":{\"source\":{\"id\":\"5844\"}},\"id\":\"5848\",\"type\":\"CDSView\"},{\"attributes\":{\"data\":{\"y\":[\"Florida\"]},\"selected\":{\"id\":\"6183\"},\"selection_policy\":{\"id\":\"6184\"}},\"id\":\"5849\",\"type\":\"ColumnDataSource\"},{\"attributes\":{\"data_source\":{\"id\":\"5844\"},\"glyph\":{\"id\":\"5845\"},\"hover_glyph\":null,\"muted_glyph\":null,\"nonselection_glyph\":{\"id\":\"5846\"},\"selection_glyph\":null,\"view\":{\"id\":\"5848\"}},\"id\":\"5847\",\"type\":\"GlyphRenderer\"},{\"attributes\":{\"fill_alpha\":{\"value\":0.1},\"fill_color\":{\"value\":\"blue\"},\"line_alpha\":{\"value\":0.1},\"line_color\":{\"value\":\"blue\"},\"line_width\":{\"value\":5},\"right\":{\"value\":583.9129407362341},\"y\":{\"field\":\"y\"}},\"id\":\"5736\",\"type\":\"HBar\"},{\"attributes\":{},\"id\":\"6169\",\"type\":\"Selection\"},{\"attributes\":{\"data_source\":{\"id\":\"5849\"},\"glyph\":{\"id\":\"5850\"},\"hover_glyph\":null,\"muted_glyph\":null,\"nonselection_glyph\":{\"id\":\"5851\"},\"selection_glyph\":null,\"view\":{\"id\":\"5853\"}},\"id\":\"5852\",\"type\":\"GlyphRenderer\"},{\"attributes\":{\"data\":{\"y\":[\"Oklahoma\"]},\"selected\":{\"id\":\"6139\"},\"selection_policy\":{\"id\":\"6140\"}},\"id\":\"5739\",\"type\":\"ColumnDataSource\"},{\"attributes\":{},\"id\":\"6170\",\"type\":\"UnionRenderers\"},{\"attributes\":{\"source\":{\"id\":\"5849\"}},\"id\":\"5853\",\"type\":\"CDSView\"},{\"attributes\":{\"fill_alpha\":{\"value\":0.1},\"fill_color\":{\"value\":\"red\"},\"line_alpha\":{\"value\":0.1},\"line_color\":{\"value\":\"red\"},\"line_width\":{\"value\":5},\"right\":{\"value\":619.9186195703734},\"y\":{\"field\":\"y\"}},\"id\":\"5741\",\"type\":\"HBar\"},{\"attributes\":{\"fill_alpha\":{\"value\":0.1},\"fill_color\":{\"value\":\"red\"},\"line_alpha\":{\"value\":0.1},\"line_color\":{\"value\":\"red\"},\"line_width\":{\"value\":5},\"right\":{\"value\":1003.1317545233002},\"y\":{\"field\":\"y\"}},\"id\":\"5851\",\"type\":\"HBar\"},{\"attributes\":{},\"id\":\"6171\",\"type\":\"Selection\"},{\"attributes\":{\"fill_color\":{\"value\":\"red\"},\"line_color\":{\"value\":\"red\"},\"line_width\":{\"value\":5},\"right\":{\"value\":619.9186195703734},\"y\":{\"field\":\"y\"}},\"id\":\"5740\",\"type\":\"HBar\"},{\"attributes\":{\"fill_color\":{\"value\":\"red\"},\"line_color\":{\"value\":\"red\"},\"line_width\":{\"value\":5},\"right\":{\"value\":1003.1317545233002},\"y\":{\"field\":\"y\"}},\"id\":\"5850\",\"type\":\"HBar\"},{\"attributes\":{},\"id\":\"6172\",\"type\":\"UnionRenderers\"},{\"attributes\":{},\"id\":\"6173\",\"type\":\"Selection\"},{\"attributes\":{\"source\":{\"id\":\"5739\"}},\"id\":\"5743\",\"type\":\"CDSView\"},{\"attributes\":{\"data\":{\"y\":[\"South Carolina\"]},\"selected\":{\"id\":\"6185\"},\"selection_policy\":{\"id\":\"6186\"}},\"id\":\"5854\",\"type\":\"ColumnDataSource\"},{\"attributes\":{\"data\":{\"y\":[\"California\"]},\"selected\":{\"id\":\"6141\"},\"selection_policy\":{\"id\":\"6142\"}},\"id\":\"5744\",\"type\":\"ColumnDataSource\"},{\"attributes\":{},\"id\":\"6174\",\"type\":\"UnionRenderers\"},{\"attributes\":{\"data_source\":{\"id\":\"5739\"},\"glyph\":{\"id\":\"5740\"},\"hover_glyph\":null,\"muted_glyph\":null,\"nonselection_glyph\":{\"id\":\"5741\"},\"selection_glyph\":null,\"view\":{\"id\":\"5743\"}},\"id\":\"5742\",\"type\":\"GlyphRenderer\"},{\"attributes\":{\"fill_alpha\":{\"value\":0.1},\"fill_color\":{\"value\":\"red\"},\"line_alpha\":{\"value\":0.1},\"line_color\":{\"value\":\"red\"},\"line_width\":{\"value\":5},\"right\":{\"value\":1019.4778735039469},\"y\":{\"field\":\"y\"}},\"id\":\"5856\",\"type\":\"HBar\"},{\"attributes\":{\"fill_color\":{\"value\":\"red\"},\"line_color\":{\"value\":\"red\"},\"line_width\":{\"value\":5},\"right\":{\"value\":1019.4778735039469},\"y\":{\"field\":\"y\"}},\"id\":\"5855\",\"type\":\"HBar\"},{\"attributes\":{},\"id\":\"6175\",\"type\":\"Selection\"},{\"attributes\":{\"fill_alpha\":{\"value\":0.1},\"fill_color\":{\"value\":\"blue\"},\"line_alpha\":{\"value\":0.1},\"line_color\":{\"value\":\"blue\"},\"line_width\":{\"value\":5},\"right\":{\"value\":642.6112749971065},\"y\":{\"field\":\"y\"}},\"id\":\"5746\",\"type\":\"HBar\"},{\"attributes\":{},\"id\":\"6176\",\"type\":\"UnionRenderers\"},{\"attributes\":{\"fill_color\":{\"value\":\"blue\"},\"line_color\":{\"value\":\"blue\"},\"line_width\":{\"value\":5},\"right\":{\"value\":642.6112749971065},\"y\":{\"field\":\"y\"}},\"id\":\"5745\",\"type\":\"HBar\"},{\"attributes\":{\"source\":{\"id\":\"5854\"}},\"id\":\"5858\",\"type\":\"CDSView\"},{\"attributes\":{},\"id\":\"6177\",\"type\":\"Selection\"},{\"attributes\":{\"data\":{\"y\":[\"District of Columbia\"]},\"selected\":{\"id\":\"6187\"},\"selection_policy\":{\"id\":\"6188\"}},\"id\":\"5859\",\"type\":\"ColumnDataSource\"},{\"attributes\":{\"data_source\":{\"id\":\"5854\"},\"glyph\":{\"id\":\"5855\"},\"hover_glyph\":null,\"muted_glyph\":null,\"nonselection_glyph\":{\"id\":\"5856\"},\"selection_glyph\":null,\"view\":{\"id\":\"5858\"}},\"id\":\"5857\",\"type\":\"GlyphRenderer\"},{\"attributes\":{},\"id\":\"6178\",\"type\":\"UnionRenderers\"},{\"attributes\":{\"source\":{\"id\":\"5744\"}},\"id\":\"5748\",\"type\":\"CDSView\"},{\"attributes\":{\"data\":{\"y\":[\"North Carolina\"]},\"selected\":{\"id\":\"6143\"},\"selection_policy\":{\"id\":\"6144\"}},\"id\":\"5749\",\"type\":\"ColumnDataSource\"},{\"attributes\":{},\"id\":\"6179\",\"type\":\"Selection\"},{\"attributes\":{\"data_source\":{\"id\":\"5744\"},\"glyph\":{\"id\":\"5745\"},\"hover_glyph\":null,\"muted_glyph\":null,\"nonselection_glyph\":{\"id\":\"5746\"},\"selection_glyph\":null,\"view\":{\"id\":\"5748\"}},\"id\":\"5747\",\"type\":\"GlyphRenderer\"},{\"attributes\":{\"fill_alpha\":{\"value\":0.1},\"fill_color\":{\"value\":\"blue\"},\"line_alpha\":{\"value\":0.1},\"line_color\":{\"value\":\"blue\"},\"line_width\":{\"value\":5},\"right\":{\"value\":1105.2087923610234},\"y\":{\"field\":\"y\"}},\"id\":\"5861\",\"type\":\"HBar\"},{\"attributes\":{\"fill_color\":{\"value\":\"blue\"},\"line_color\":{\"value\":\"blue\"},\"line_width\":{\"value\":5},\"right\":{\"value\":1105.2087923610234},\"y\":{\"field\":\"y\"}},\"id\":\"5860\",\"type\":\"HBar\"},{\"attributes\":{},\"id\":\"6180\",\"type\":\"UnionRenderers\"},{\"attributes\":{\"fill_alpha\":{\"value\":0.1},\"fill_color\":{\"value\":\"red\"},\"line_alpha\":{\"value\":0.1},\"line_color\":{\"value\":\"red\"},\"line_width\":{\"value\":5},\"right\":{\"value\":646.447911744414},\"y\":{\"field\":\"y\"}},\"id\":\"5751\",\"type\":\"HBar\"},{\"attributes\":{},\"id\":\"6181\",\"type\":\"Selection\"},{\"attributes\":{\"fill_color\":{\"value\":\"red\"},\"line_color\":{\"value\":\"red\"},\"line_width\":{\"value\":5},\"right\":{\"value\":646.447911744414},\"y\":{\"field\":\"y\"}},\"id\":\"5750\",\"type\":\"HBar\"},{\"attributes\":{\"source\":{\"id\":\"5859\"}},\"id\":\"5863\",\"type\":\"CDSView\"},{\"attributes\":{},\"id\":\"6182\",\"type\":\"UnionRenderers\"},{\"attributes\":{\"data_source\":{\"id\":\"5754\"},\"glyph\":{\"id\":\"5755\"},\"hover_glyph\":null,\"muted_glyph\":null,\"nonselection_glyph\":{\"id\":\"5756\"},\"selection_glyph\":null,\"view\":{\"id\":\"5758\"}},\"id\":\"5757\",\"type\":\"GlyphRenderer\"},{\"attributes\":{\"data\":{\"y\":[\"New Mexico\"]},\"selected\":{\"id\":\"6189\"},\"selection_policy\":{\"id\":\"6190\"}},\"id\":\"5864\",\"type\":\"ColumnDataSource\"},{\"attributes\":{\"data_source\":{\"id\":\"5859\"},\"glyph\":{\"id\":\"5860\"},\"hover_glyph\":null,\"muted_glyph\":null,\"nonselection_glyph\":{\"id\":\"5861\"},\"selection_glyph\":null,\"view\":{\"id\":\"5863\"}},\"id\":\"5862\",\"type\":\"GlyphRenderer\"},{\"attributes\":{},\"id\":\"6183\",\"type\":\"Selection\"},{\"attributes\":{},\"id\":\"6184\",\"type\":\"UnionRenderers\"},{\"attributes\":{\"fill_alpha\":{\"value\":0.1},\"fill_color\":{\"value\":\"blue\"},\"line_alpha\":{\"value\":0.1},\"line_color\":{\"value\":\"blue\"},\"line_width\":{\"value\":5},\"right\":{\"value\":1162.70807013829},\"y\":{\"field\":\"y\"}},\"id\":\"5866\",\"type\":\"HBar\"},{\"attributes\":{\"fill_color\":{\"value\":\"blue\"},\"line_color\":{\"value\":\"blue\"},\"line_width\":{\"value\":5},\"right\":{\"value\":1162.70807013829},\"y\":{\"field\":\"y\"}},\"id\":\"5865\",\"type\":\"HBar\"},{\"attributes\":{},\"id\":\"6185\",\"type\":\"Selection\"},{\"attributes\":{\"data\":{\"y\":[\"Wyoming\"]},\"selected\":{\"id\":\"6147\"},\"selection_policy\":{\"id\":\"6148\"}},\"id\":\"5759\",\"type\":\"ColumnDataSource\"},{\"attributes\":{\"source\":{\"id\":\"5754\"}},\"id\":\"5758\",\"type\":\"CDSView\"},{\"attributes\":{},\"id\":\"6186\",\"type\":\"UnionRenderers\"},{\"attributes\":{\"fill_alpha\":{\"value\":0.1},\"fill_color\":{\"value\":\"red\"},\"line_alpha\":{\"value\":0.1},\"line_color\":{\"value\":\"red\"},\"line_width\":{\"value\":5},\"right\":{\"value\":658.7321856366839},\"y\":{\"field\":\"y\"}},\"id\":\"5756\",\"type\":\"HBar\"},{\"attributes\":{\"source\":{\"id\":\"5864\"}},\"id\":\"5868\",\"type\":\"CDSView\"},{\"attributes\":{},\"id\":\"6187\",\"type\":\"Selection\"},{\"attributes\":{\"fill_alpha\":{\"value\":0.1},\"fill_color\":{\"value\":\"red\"},\"line_alpha\":{\"value\":0.1},\"line_color\":{\"value\":\"red\"},\"line_width\":{\"value\":5},\"right\":{\"value\":699.773135277378},\"y\":{\"field\":\"y\"}},\"id\":\"5761\",\"type\":\"HBar\"},{\"attributes\":{\"data\":{\"y\":[\"Arizona\"]},\"selected\":{\"id\":\"6191\"},\"selection_policy\":{\"id\":\"6192\"}},\"id\":\"5869\",\"type\":\"ColumnDataSource\"},{\"attributes\":{\"data_source\":{\"id\":\"5864\"},\"glyph\":{\"id\":\"5865\"},\"hover_glyph\":null,\"muted_glyph\":null,\"nonselection_glyph\":{\"id\":\"5866\"},\"selection_glyph\":null,\"view\":{\"id\":\"5868\"}},\"id\":\"5867\",\"type\":\"GlyphRenderer\"},{\"attributes\":{\"fill_color\":{\"value\":\"red\"},\"line_color\":{\"value\":\"red\"},\"line_width\":{\"value\":5},\"right\":{\"value\":699.773135277378},\"y\":{\"field\":\"y\"}},\"id\":\"5760\",\"type\":\"HBar\"},{\"attributes\":{},\"id\":\"6188\",\"type\":\"UnionRenderers\"},{\"attributes\":{},\"id\":\"6189\",\"type\":\"Selection\"},{\"attributes\":{\"fill_alpha\":{\"value\":0.1},\"fill_color\":{\"value\":\"blue\"},\"line_alpha\":{\"value\":0.1},\"line_color\":{\"value\":\"blue\"},\"line_width\":{\"value\":5},\"right\":{\"value\":1198.8376522950405},\"y\":{\"field\":\"y\"}},\"id\":\"5871\",\"type\":\"HBar\"},{\"attributes\":{\"source\":{\"id\":\"5759\"}},\"id\":\"5763\",\"type\":\"CDSView\"},{\"attributes\":{\"fill_color\":{\"value\":\"blue\"},\"line_color\":{\"value\":\"blue\"},\"line_width\":{\"value\":5},\"right\":{\"value\":1198.8376522950405},\"y\":{\"field\":\"y\"}},\"id\":\"5870\",\"type\":\"HBar\"},{\"attributes\":{},\"id\":\"6190\",\"type\":\"UnionRenderers\"},{\"attributes\":{\"data\":{\"y\":[\"West Virginia\"]},\"selected\":{\"id\":\"6149\"},\"selection_policy\":{\"id\":\"6150\"}},\"id\":\"5764\",\"type\":\"ColumnDataSource\"},{\"attributes\":{\"data_source\":{\"id\":\"5759\"},\"glyph\":{\"id\":\"5760\"},\"hover_glyph\":null,\"muted_glyph\":null,\"nonselection_glyph\":{\"id\":\"5761\"},\"selection_glyph\":null,\"view\":{\"id\":\"5763\"}},\"id\":\"5762\",\"type\":\"GlyphRenderer\"},{\"attributes\":{},\"id\":\"6191\",\"type\":\"Selection\"},{\"attributes\":{\"source\":{\"id\":\"5869\"}},\"id\":\"5873\",\"type\":\"CDSView\"},{\"attributes\":{},\"id\":\"6192\",\"type\":\"UnionRenderers\"},{\"attributes\":{\"fill_alpha\":{\"value\":0.1},\"fill_color\":{\"value\":\"red\"},\"line_alpha\":{\"value\":0.1},\"line_color\":{\"value\":\"red\"},\"line_width\":{\"value\":5},\"right\":{\"value\":735.4307431254244},\"y\":{\"field\":\"y\"}},\"id\":\"5766\",\"type\":\"HBar\"},{\"attributes\":{\"data\":{\"y\":[\"Arkansas\"]},\"selected\":{\"id\":\"6193\"},\"selection_policy\":{\"id\":\"6194\"}},\"id\":\"5874\",\"type\":\"ColumnDataSource\"},{\"attributes\":{\"data_source\":{\"id\":\"5869\"},\"glyph\":{\"id\":\"5870\"},\"hover_glyph\":null,\"muted_glyph\":null,\"nonselection_glyph\":{\"id\":\"5871\"},\"selection_glyph\":null,\"view\":{\"id\":\"5873\"}},\"id\":\"5872\",\"type\":\"GlyphRenderer\"},{\"attributes\":{\"fill_color\":{\"value\":\"red\"},\"line_color\":{\"value\":\"red\"},\"line_width\":{\"value\":5},\"right\":{\"value\":735.4307431254244},\"y\":{\"field\":\"y\"}},\"id\":\"5765\",\"type\":\"HBar\"},{\"attributes\":{},\"id\":\"6193\",\"type\":\"Selection\"},{\"attributes\":{},\"id\":\"6194\",\"type\":\"UnionRenderers\"},{\"attributes\":{\"fill_alpha\":{\"value\":0.1},\"fill_color\":{\"value\":\"red\"},\"line_alpha\":{\"value\":0.1},\"line_color\":{\"value\":\"red\"},\"line_width\":{\"value\":5},\"right\":{\"value\":1205.180985908959},\"y\":{\"field\":\"y\"}},\"id\":\"5876\",\"type\":\"HBar\"},{\"attributes\":{\"source\":{\"id\":\"5764\"}},\"id\":\"5768\",\"type\":\"CDSView\"},{\"attributes\":{\"fill_color\":{\"value\":\"red\"},\"line_color\":{\"value\":\"red\"},\"line_width\":{\"value\":5},\"right\":{\"value\":1205.180985908959},\"y\":{\"field\":\"y\"}},\"id\":\"5875\",\"type\":\"HBar\"},{\"attributes\":{},\"id\":\"6195\",\"type\":\"Selection\"},{\"attributes\":{\"data\":{\"y\":[\"Ohio\"]},\"selected\":{\"id\":\"6151\"},\"selection_policy\":{\"id\":\"6152\"}},\"id\":\"5769\",\"type\":\"ColumnDataSource\"},{\"attributes\":{\"data_source\":{\"id\":\"5764\"},\"glyph\":{\"id\":\"5765\"},\"hover_glyph\":null,\"muted_glyph\":null,\"nonselection_glyph\":{\"id\":\"5766\"},\"selection_glyph\":null,\"view\":{\"id\":\"5768\"}},\"id\":\"5767\",\"type\":\"GlyphRenderer\"},{\"attributes\":{},\"id\":\"6196\",\"type\":\"UnionRenderers\"},{\"attributes\":{\"source\":{\"id\":\"5874\"}},\"id\":\"5878\",\"type\":\"CDSView\"},{\"attributes\":{},\"id\":\"6197\",\"type\":\"Selection\"},{\"attributes\":{\"fill_alpha\":{\"value\":0.1},\"fill_color\":{\"value\":\"red\"},\"line_alpha\":{\"value\":0.1},\"line_color\":{\"value\":\"red\"},\"line_width\":{\"value\":5},\"right\":{\"value\":757.5433523539023},\"y\":{\"field\":\"y\"}},\"id\":\"5771\",\"type\":\"HBar\"},{\"attributes\":{\"data\":{\"y\":[\"Iowa\"]},\"selected\":{\"id\":\"6195\"},\"selection_policy\":{\"id\":\"6196\"}},\"id\":\"5879\",\"type\":\"ColumnDataSource\"},{\"attributes\":{\"data_source\":{\"id\":\"5874\"},\"glyph\":{\"id\":\"5875\"},\"hover_glyph\":null,\"muted_glyph\":null,\"nonselection_glyph\":{\"id\":\"5876\"},\"selection_glyph\":null,\"view\":{\"id\":\"5878\"}},\"id\":\"5877\",\"type\":\"GlyphRenderer\"},{\"attributes\":{\"fill_color\":{\"value\":\"red\"},\"line_color\":{\"value\":\"red\"},\"line_width\":{\"value\":5},\"right\":{\"value\":757.5433523539023},\"y\":{\"field\":\"y\"}},\"id\":\"5770\",\"type\":\"HBar\"},{\"attributes\":{},\"id\":\"6198\",\"type\":\"UnionRenderers\"},{\"attributes\":{},\"id\":\"6199\",\"type\":\"Selection\"},{\"attributes\":{\"fill_alpha\":{\"value\":0.1},\"fill_color\":{\"value\":\"red\"},\"line_alpha\":{\"value\":0.1},\"line_color\":{\"value\":\"red\"},\"line_width\":{\"value\":5},\"right\":{\"value\":1211.3835826146487},\"y\":{\"field\":\"y\"}},\"id\":\"5881\",\"type\":\"HBar\"},{\"attributes\":{\"source\":{\"id\":\"5769\"}},\"id\":\"5773\",\"type\":\"CDSView\"},{\"attributes\":{\"fill_color\":{\"value\":\"red\"},\"line_color\":{\"value\":\"red\"},\"line_width\":{\"value\":5},\"right\":{\"value\":1211.3835826146487},\"y\":{\"field\":\"y\"}},\"id\":\"5880\",\"type\":\"HBar\"},{\"attributes\":{},\"id\":\"6200\",\"type\":\"UnionRenderers\"},{\"attributes\":{\"data\":{\"y\":[\"Idaho\"]},\"selected\":{\"id\":\"6153\"},\"selection_policy\":{\"id\":\"6154\"}},\"id\":\"5774\",\"type\":\"ColumnDataSource\"},{\"attributes\":{\"data_source\":{\"id\":\"5769\"},\"glyph\":{\"id\":\"5770\"},\"hover_glyph\":null,\"muted_glyph\":null,\"nonselection_glyph\":{\"id\":\"5771\"},\"selection_glyph\":null,\"view\":{\"id\":\"5773\"}},\"id\":\"5772\",\"type\":\"GlyphRenderer\"},{\"attributes\":{},\"id\":\"6201\",\"type\":\"Selection\"},{\"attributes\":{\"source\":{\"id\":\"5879\"}},\"id\":\"5883\",\"type\":\"CDSView\"},{\"attributes\":{},\"id\":\"6202\",\"type\":\"UnionRenderers\"},{\"attributes\":{\"data\":{\"y\":[\"Indiana\"]},\"selected\":{\"id\":\"6197\"},\"selection_policy\":{\"id\":\"6198\"}},\"id\":\"5884\",\"type\":\"ColumnDataSource\"},{\"attributes\":{\"data_source\":{\"id\":\"5879\"},\"glyph\":{\"id\":\"5880\"},\"hover_glyph\":null,\"muted_glyph\":null,\"nonselection_glyph\":{\"id\":\"5881\"},\"selection_glyph\":null,\"view\":{\"id\":\"5883\"}},\"id\":\"5882\",\"type\":\"GlyphRenderer\"},{\"attributes\":{\"fill_alpha\":{\"value\":0.1},\"fill_color\":{\"value\":\"red\"},\"line_alpha\":{\"value\":0.1},\"line_color\":{\"value\":\"red\"},\"line_width\":{\"value\":5},\"right\":{\"value\":788.4436212448904},\"y\":{\"field\":\"y\"}},\"id\":\"5776\",\"type\":\"HBar\"},{\"attributes\":{},\"id\":\"6203\",\"type\":\"Selection\"},{\"attributes\":{\"fill_color\":{\"value\":\"red\"},\"line_color\":{\"value\":\"red\"},\"line_width\":{\"value\":5},\"right\":{\"value\":1212.0817816532706},\"y\":{\"field\":\"y\"}},\"id\":\"5885\",\"type\":\"HBar\"},{\"attributes\":{\"fill_color\":{\"value\":\"red\"},\"line_color\":{\"value\":\"red\"},\"line_width\":{\"value\":5},\"right\":{\"value\":788.4436212448904},\"y\":{\"field\":\"y\"}},\"id\":\"5775\",\"type\":\"HBar\"},{\"attributes\":{},\"id\":\"6204\",\"type\":\"UnionRenderers\"},{\"attributes\":{\"data_source\":{\"id\":\"5774\"},\"glyph\":{\"id\":\"5775\"},\"hover_glyph\":null,\"muted_glyph\":null,\"nonselection_glyph\":{\"id\":\"5776\"},\"selection_glyph\":null,\"view\":{\"id\":\"5778\"}},\"id\":\"5777\",\"type\":\"GlyphRenderer\"},{\"attributes\":{\"source\":{\"id\":\"5774\"}},\"id\":\"5778\",\"type\":\"CDSView\"},{\"attributes\":{},\"id\":\"6133\",\"type\":\"Selection\"},{\"attributes\":{},\"id\":\"6205\",\"type\":\"Selection\"},{\"attributes\":{\"data\":{\"y\":[\"Colorado\"]},\"selected\":{\"id\":\"6155\"},\"selection_policy\":{\"id\":\"6156\"}},\"id\":\"5779\",\"type\":\"ColumnDataSource\"},{\"attributes\":{},\"id\":\"6134\",\"type\":\"UnionRenderers\"},{\"attributes\":{},\"id\":\"6206\",\"type\":\"UnionRenderers\"},{\"attributes\":{},\"id\":\"6135\",\"type\":\"Selection\"},{\"attributes\":{},\"id\":\"6207\",\"type\":\"Selection\"},{\"attributes\":{\"fill_alpha\":{\"value\":0.1},\"fill_color\":{\"value\":\"blue\"},\"line_alpha\":{\"value\":0.1},\"line_color\":{\"value\":\"blue\"},\"line_width\":{\"value\":5},\"right\":{\"value\":837.3365266266765},\"y\":{\"field\":\"y\"}},\"id\":\"5781\",\"type\":\"HBar\"},{\"attributes\":{\"fill_color\":{\"value\":\"blue\"},\"line_color\":{\"value\":\"blue\"},\"line_width\":{\"value\":5},\"right\":{\"value\":837.3365266266765},\"y\":{\"field\":\"y\"}},\"id\":\"5780\",\"type\":\"HBar\"},{\"attributes\":{},\"id\":\"6136\",\"type\":\"UnionRenderers\"},{\"attributes\":{},\"id\":\"6208\",\"type\":\"UnionRenderers\"},{\"attributes\":{},\"id\":\"6137\",\"type\":\"Selection\"},{\"attributes\":{},\"id\":\"6209\",\"type\":\"Selection\"},{\"attributes\":{\"source\":{\"id\":\"5779\"}},\"id\":\"5783\",\"type\":\"CDSView\"},{\"attributes\":{},\"id\":\"6138\",\"type\":\"UnionRenderers\"},{\"attributes\":{},\"id\":\"6210\",\"type\":\"UnionRenderers\"},{\"attributes\":{\"data\":{\"y\":[\"Nebraska\"]},\"selected\":{\"id\":\"6157\"},\"selection_policy\":{\"id\":\"6158\"}},\"id\":\"5784\",\"type\":\"ColumnDataSource\"},{\"attributes\":{\"data_source\":{\"id\":\"5779\"},\"glyph\":{\"id\":\"5780\"},\"hover_glyph\":null,\"muted_glyph\":null,\"nonselection_glyph\":{\"id\":\"5781\"},\"selection_glyph\":null,\"view\":{\"id\":\"5783\"}},\"id\":\"5782\",\"type\":\"GlyphRenderer\"},{\"attributes\":{},\"id\":\"6139\",\"type\":\"Selection\"},{\"attributes\":{},\"id\":\"6211\",\"type\":\"Selection\"},{\"attributes\":{},\"id\":\"6140\",\"type\":\"UnionRenderers\"},{\"attributes\":{},\"id\":\"6212\",\"type\":\"UnionRenderers\"},{\"attributes\":{\"fill_alpha\":{\"value\":0.1},\"fill_color\":{\"value\":\"red\"},\"line_alpha\":{\"value\":0.1},\"line_color\":{\"value\":\"red\"},\"line_width\":{\"value\":5},\"right\":{\"value\":847.8045996501255},\"y\":{\"field\":\"y\"}},\"id\":\"5786\",\"type\":\"HBar\"},{\"attributes\":{\"fill_color\":{\"value\":\"red\"},\"line_color\":{\"value\":\"red\"},\"line_width\":{\"value\":5},\"right\":{\"value\":847.8045996501255},\"y\":{\"field\":\"y\"}},\"id\":\"5785\",\"type\":\"HBar\"},{\"attributes\":{},\"id\":\"6141\",\"type\":\"Selection\"},{\"attributes\":{},\"id\":\"6213\",\"type\":\"Selection\"},{\"attributes\":{},\"id\":\"6142\",\"type\":\"UnionRenderers\"},{\"attributes\":{},\"id\":\"6214\",\"type\":\"UnionRenderers\"},{\"attributes\":{\"source\":{\"id\":\"5784\"}},\"id\":\"5788\",\"type\":\"CDSView\"},{\"attributes\":{},\"id\":\"6143\",\"type\":\"Selection\"},{\"attributes\":{},\"id\":\"6215\",\"type\":\"Selection\"},{\"attributes\":{\"data\":{\"y\":[\"Montana\"]},\"selected\":{\"id\":\"6159\"},\"selection_policy\":{\"id\":\"6160\"}},\"id\":\"5789\",\"type\":\"ColumnDataSource\"},{\"attributes\":{\"data_source\":{\"id\":\"5784\"},\"glyph\":{\"id\":\"5785\"},\"hover_glyph\":null,\"muted_glyph\":null,\"nonselection_glyph\":{\"id\":\"5786\"},\"selection_glyph\":null,\"view\":{\"id\":\"5788\"}},\"id\":\"5787\",\"type\":\"GlyphRenderer\"},{\"attributes\":{},\"id\":\"6144\",\"type\":\"UnionRenderers\"},{\"attributes\":{},\"id\":\"6216\",\"type\":\"UnionRenderers\"},{\"attributes\":{},\"id\":\"6145\",\"type\":\"Selection\"},{\"attributes\":{},\"id\":\"6217\",\"type\":\"Selection\"},{\"attributes\":{\"fill_alpha\":{\"value\":0.1},\"fill_color\":{\"value\":\"red\"},\"line_alpha\":{\"value\":0.1},\"line_color\":{\"value\":\"red\"},\"line_width\":{\"value\":5},\"right\":{\"value\":888.8656016497346},\"y\":{\"field\":\"y\"}},\"id\":\"5791\",\"type\":\"HBar\"},{\"attributes\":{\"fill_color\":{\"value\":\"red\"},\"line_color\":{\"value\":\"red\"},\"line_width\":{\"value\":5},\"right\":{\"value\":888.8656016497346},\"y\":{\"field\":\"y\"}},\"id\":\"5790\",\"type\":\"HBar\"},{\"attributes\":{},\"id\":\"6146\",\"type\":\"UnionRenderers\"},{\"attributes\":{},\"id\":\"6218\",\"type\":\"UnionRenderers\"},{\"attributes\":{},\"id\":\"6147\",\"type\":\"Selection\"},{\"attributes\":{},\"id\":\"6219\",\"type\":\"Selection\"},{\"attributes\":{\"source\":{\"id\":\"5789\"}},\"id\":\"5793\",\"type\":\"CDSView\"},{\"attributes\":{},\"id\":\"6148\",\"type\":\"UnionRenderers\"},{\"attributes\":{},\"id\":\"6220\",\"type\":\"UnionRenderers\"},{\"attributes\":{\"data\":{\"y\":[\"Wisconsin\"]},\"selected\":{\"id\":\"6161\"},\"selection_policy\":{\"id\":\"6162\"}},\"id\":\"5794\",\"type\":\"ColumnDataSource\"},{\"attributes\":{\"data_source\":{\"id\":\"5789\"},\"glyph\":{\"id\":\"5790\"},\"hover_glyph\":null,\"muted_glyph\":null,\"nonselection_glyph\":{\"id\":\"5791\"},\"selection_glyph\":null,\"view\":{\"id\":\"5793\"}},\"id\":\"5792\",\"type\":\"GlyphRenderer\"},{\"attributes\":{},\"id\":\"6149\",\"type\":\"Selection\"},{\"attributes\":{},\"id\":\"6221\",\"type\":\"Selection\"},{\"attributes\":{},\"id\":\"6150\",\"type\":\"UnionRenderers\"},{\"attributes\":{},\"id\":\"6222\",\"type\":\"UnionRenderers\"},{\"attributes\":{\"fill_alpha\":{\"value\":0.1},\"fill_color\":{\"value\":\"blue\"},\"line_alpha\":{\"value\":0.1},\"line_color\":{\"value\":\"blue\"},\"line_width\":{\"value\":5},\"right\":{\"value\":892.2385380409636},\"y\":{\"field\":\"y\"}},\"id\":\"5796\",\"type\":\"HBar\"},{\"attributes\":{\"fill_color\":{\"value\":\"blue\"},\"line_color\":{\"value\":\"blue\"},\"line_width\":{\"value\":5},\"right\":{\"value\":892.2385380409636},\"y\":{\"field\":\"y\"}},\"id\":\"5795\",\"type\":\"HBar\"},{\"attributes\":{},\"id\":\"6151\",\"type\":\"Selection\"},{\"attributes\":{},\"id\":\"6152\",\"type\":\"UnionRenderers\"},{\"attributes\":{\"source\":{\"id\":\"5794\"}},\"id\":\"5798\",\"type\":\"CDSView\"},{\"attributes\":{},\"id\":\"6153\",\"type\":\"Selection\"},{\"attributes\":{\"data\":{\"y\":[\"Kansas\"]},\"selected\":{\"id\":\"6163\"},\"selection_policy\":{\"id\":\"6164\"}},\"id\":\"5799\",\"type\":\"ColumnDataSource\"},{\"attributes\":{\"data_source\":{\"id\":\"5794\"},\"glyph\":{\"id\":\"5795\"},\"hover_glyph\":null,\"muted_glyph\":null,\"nonselection_glyph\":{\"id\":\"5796\"},\"selection_glyph\":null,\"view\":{\"id\":\"5798\"}},\"id\":\"5797\",\"type\":\"GlyphRenderer\"},{\"attributes\":{},\"id\":\"6154\",\"type\":\"UnionRenderers\"},{\"attributes\":{},\"id\":\"6155\",\"type\":\"Selection\"},{\"attributes\":{\"fill_alpha\":{\"value\":0.1},\"fill_color\":{\"value\":\"red\"},\"line_alpha\":{\"value\":0.1},\"line_color\":{\"value\":\"red\"},\"line_width\":{\"value\":5},\"right\":{\"value\":940.8529255686136},\"y\":{\"field\":\"y\"}},\"id\":\"5801\",\"type\":\"HBar\"},{\"attributes\":{\"fill_color\":{\"value\":\"red\"},\"line_color\":{\"value\":\"red\"},\"line_width\":{\"value\":5},\"right\":{\"value\":940.8529255686136},\"y\":{\"field\":\"y\"}},\"id\":\"5800\",\"type\":\"HBar\"},{\"attributes\":{},\"id\":\"6156\",\"type\":\"UnionRenderers\"},{\"attributes\":{},\"id\":\"6157\",\"type\":\"Selection\"},{\"attributes\":{\"source\":{\"id\":\"5799\"}},\"id\":\"5803\",\"type\":\"CDSView\"},{\"attributes\":{},\"id\":\"6158\",\"type\":\"UnionRenderers\"},{\"attributes\":{\"data\":{\"y\":[\"Minnesota\"]},\"selected\":{\"id\":\"6165\"},\"selection_policy\":{\"id\":\"6166\"}},\"id\":\"5804\",\"type\":\"ColumnDataSource\"},{\"attributes\":{\"data_source\":{\"id\":\"5799\"},\"glyph\":{\"id\":\"5800\"},\"hover_glyph\":null,\"muted_glyph\":null,\"nonselection_glyph\":{\"id\":\"5801\"},\"selection_glyph\":null,\"view\":{\"id\":\"5803\"}},\"id\":\"5802\",\"type\":\"GlyphRenderer\"},{\"attributes\":{},\"id\":\"6159\",\"type\":\"Selection\"},{\"attributes\":{},\"id\":\"6160\",\"type\":\"UnionRenderers\"},{\"attributes\":{\"fill_alpha\":{\"value\":0.1},\"fill_color\":{\"value\":\"blue\"},\"line_alpha\":{\"value\":0.1},\"line_color\":{\"value\":\"blue\"},\"line_width\":{\"value\":5},\"right\":{\"value\":943.5012780975779},\"y\":{\"field\":\"y\"}},\"id\":\"5806\",\"type\":\"HBar\"},{\"attributes\":{\"fill_color\":{\"value\":\"blue\"},\"line_color\":{\"value\":\"blue\"},\"line_width\":{\"value\":5},\"right\":{\"value\":943.5012780975779},\"y\":{\"field\":\"y\"}},\"id\":\"5805\",\"type\":\"HBar\"},{\"attributes\":{},\"id\":\"6161\",\"type\":\"Selection\"},{\"attributes\":{},\"id\":\"6162\",\"type\":\"UnionRenderers\"},{\"attributes\":{\"source\":{\"id\":\"5804\"}},\"id\":\"5808\",\"type\":\"CDSView\"},{\"attributes\":{},\"id\":\"6163\",\"type\":\"Selection\"},{\"attributes\":{\"data\":{\"y\":[\"Delaware\"]},\"selected\":{\"id\":\"6167\"},\"selection_policy\":{\"id\":\"6168\"}},\"id\":\"5809\",\"type\":\"ColumnDataSource\"},{\"attributes\":{\"data_source\":{\"id\":\"5804\"},\"glyph\":{\"id\":\"5805\"},\"hover_glyph\":null,\"muted_glyph\":null,\"nonselection_glyph\":{\"id\":\"5806\"},\"selection_glyph\":null,\"view\":{\"id\":\"5808\"}},\"id\":\"5807\",\"type\":\"GlyphRenderer\"},{\"attributes\":{},\"id\":\"6164\",\"type\":\"UnionRenderers\"},{\"attributes\":{\"fill_alpha\":{\"value\":0.1},\"fill_color\":{\"value\":\"blue\"},\"line_alpha\":{\"value\":0.1},\"line_color\":{\"value\":\"blue\"},\"line_width\":{\"value\":5},\"right\":{\"value\":945.8143862373224},\"y\":{\"field\":\"y\"}},\"id\":\"5811\",\"type\":\"HBar\"},{\"attributes\":{},\"id\":\"6165\",\"type\":\"Selection\"},{\"attributes\":{},\"id\":\"6166\",\"type\":\"UnionRenderers\"},{\"attributes\":{\"fill_color\":{\"value\":\"blue\"},\"line_color\":{\"value\":\"blue\"},\"line_width\":{\"value\":5},\"right\":{\"value\":945.8143862373224},\"y\":{\"field\":\"y\"}},\"id\":\"5810\",\"type\":\"HBar\"},{\"attributes\":{},\"id\":\"6167\",\"type\":\"Selection\"},{\"attributes\":{\"source\":{\"id\":\"5809\"}},\"id\":\"5813\",\"type\":\"CDSView\"},{\"attributes\":{\"data_source\":{\"id\":\"5809\"},\"glyph\":{\"id\":\"5810\"},\"hover_glyph\":null,\"muted_glyph\":null,\"nonselection_glyph\":{\"id\":\"5811\"},\"selection_glyph\":null,\"view\":{\"id\":\"5813\"}},\"id\":\"5812\",\"type\":\"GlyphRenderer\"},{\"attributes\":{},\"id\":\"6168\",\"type\":\"UnionRenderers\"},{\"attributes\":{},\"id\":\"6123\",\"type\":\"Selection\"},{\"attributes\":{},\"id\":\"6121\",\"type\":\"Selection\"},{\"attributes\":{\"text\":\"Misleading Graph: Deaths/million per state\"},\"id\":\"5663\",\"type\":\"Title\"},{\"attributes\":{},\"id\":\"6120\",\"type\":\"BasicTickFormatter\"},{\"attributes\":{},\"id\":\"6122\",\"type\":\"UnionRenderers\"}],\"root_ids\":[\"5662\"]},\"title\":\"Bokeh Application\",\"version\":\"2.0.2\"}};\n",
       "  var render_items = [{\"docid\":\"6f4d26f0-b8b2-4676-bb72-e26f49be27ee\",\"root_ids\":[\"5662\"],\"roots\":{\"5662\":\"badc5e4e-9ea7-49e9-a055-160e52f644e5\"}}];\n",
       "  root.Bokeh.embed.embed_items_notebook(docs_json, render_items);\n",
       "\n",
       "  }\n",
       "  if (root.Bokeh !== undefined) {\n",
       "    embed_document(root);\n",
       "  } else {\n",
       "    var attempts = 0;\n",
       "    var timer = setInterval(function(root) {\n",
       "      if (root.Bokeh !== undefined) {\n",
       "        clearInterval(timer);\n",
       "        embed_document(root);\n",
       "      } else {\n",
       "        attempts++;\n",
       "        if (attempts > 100) {\n",
       "          clearInterval(timer);\n",
       "          console.log(\"Bokeh: ERROR: Unable to run BokehJS code because BokehJS library is missing\");\n",
       "        }\n",
       "      }\n",
       "    }, 10, root)\n",
       "  }\n",
       "})(window);"
      ],
      "application/vnd.bokehjs_exec.v0+json": ""
     },
     "metadata": {
      "application/vnd.bokehjs_exec.v0+json": {
       "id": "5662"
      }
     },
     "output_type": "display_data"
    }
   ],
   "source": [
    "def by_deaths():\n",
    "    df = pd.read_csv('data/party_cases_deaths_pop.csv')\n",
    "    df = df.assign(deaths_per_million = df['deaths']/df['population'] * 1e6)\n",
    "    df.sort_values(by = 'deaths_per_million', inplace = True)\n",
    "    labels = df['state'].tolist()\n",
    "    deaths = df['deaths_per_million'].tolist()\n",
    "    party = df['party'].tolist()\n",
    "    vote_dict = {}\n",
    "    for counter, i in enumerate(labels):\n",
    "        vote_dict[i] = party[counter]\n",
    "    p = make_bar_pop2(labels, y = deaths, plot_height = 450, \n",
    "             plot_width = 800,  vote_dict = vote_dict, title = \"Misleading Graph: Deaths/million per state\")\n",
    "    return p\n",
    "\n",
    "show(by_deaths())\n",
    "    "
   ]
  },
  {
   "cell_type": "code",
   "execution_count": 19,
   "metadata": {},
   "outputs": [
    {
     "data": {
      "text/html": [
       "\n",
       "\n",
       "\n",
       "\n",
       "\n",
       "\n",
       "  <div class=\"bk-root\" id=\"4967cd49-cd70-4a43-9eeb-bafeb79fcfe9\" data-root-id=\"6872\"></div>\n"
      ]
     },
     "metadata": {},
     "output_type": "display_data"
    },
    {
     "data": {
      "application/javascript": [
       "(function(root) {\n",
       "  function embed_document(root) {\n",
       "    \n",
       "  var docs_json = {\"baddedc4-c144-41e6-b447-ef810d5c014f\":{\"roots\":{\"references\":[{\"attributes\":{\"below\":[{\"id\":\"6883\"}],\"center\":[{\"id\":\"6886\"},{\"id\":\"6890\"}],\"left\":[{\"id\":\"6887\"}],\"plot_height\":650,\"plot_width\":650,\"renderers\":[{\"id\":\"6908\"}],\"title\":{\"id\":\"6873\"},\"toolbar\":{\"id\":\"6898\"},\"x_range\":{\"id\":\"6875\"},\"x_scale\":{\"id\":\"6879\"},\"y_range\":{\"id\":\"6877\"},\"y_scale\":{\"id\":\"6881\"}},\"id\":\"6872\",\"subtype\":\"Figure\",\"type\":\"Plot\"},{\"attributes\":{},\"id\":\"6879\",\"type\":\"LinearScale\"},{\"attributes\":{\"months\":[0,4,8]},\"id\":\"7202\",\"type\":\"MonthsTicker\"},{\"attributes\":{},\"id\":\"6881\",\"type\":\"LinearScale\"},{\"attributes\":{},\"id\":\"6877\",\"type\":\"DataRange1d\"},{\"attributes\":{\"formatter\":{\"id\":\"7189\"},\"ticker\":{\"id\":\"6884\"}},\"id\":\"6883\",\"type\":\"DatetimeAxis\"},{\"attributes\":{\"num_minor_ticks\":5,\"tickers\":[{\"id\":\"7193\"},{\"id\":\"7194\"},{\"id\":\"7195\"},{\"id\":\"7196\"},{\"id\":\"7197\"},{\"id\":\"7198\"},{\"id\":\"7199\"},{\"id\":\"7200\"},{\"id\":\"7201\"},{\"id\":\"7202\"},{\"id\":\"7203\"},{\"id\":\"7204\"}]},\"id\":\"6884\",\"type\":\"DatetimeTicker\"},{\"attributes\":{\"fill_color\":{\"value\":\"#1f77b4\"},\"line_color\":{\"value\":\"#1f77b4\"},\"line_width\":{\"value\":5},\"top\":{\"field\":\"top\"},\"width\":{\"value\":0.5},\"x\":{\"field\":\"x\"}},\"id\":\"6906\",\"type\":\"VBar\"},{\"attributes\":{},\"id\":\"7189\",\"type\":\"DatetimeTickFormatter\"},{\"attributes\":{\"base\":60,\"mantissas\":[1,2,5,10,15,20,30],\"max_interval\":1800000.0,\"min_interval\":1000.0,\"num_minor_ticks\":0},\"id\":\"7194\",\"type\":\"AdaptiveTicker\"},{\"attributes\":{\"axis\":{\"id\":\"6883\"},\"ticker\":null},\"id\":\"6886\",\"type\":\"Grid\"},{\"attributes\":{},\"id\":\"6875\",\"type\":\"DataRange1d\"},{\"attributes\":{\"days\":[1,2,3,4,5,6,7,8,9,10,11,12,13,14,15,16,17,18,19,20,21,22,23,24,25,26,27,28,29,30,31]},\"id\":\"7196\",\"type\":\"DaysTicker\"},{\"attributes\":{\"formatter\":{\"id\":\"7187\"},\"ticker\":{\"id\":\"6888\"}},\"id\":\"6887\",\"type\":\"LinearAxis\"},{\"attributes\":{\"months\":[0,1,2,3,4,5,6,7,8,9,10,11]},\"id\":\"7200\",\"type\":\"MonthsTicker\"},{\"attributes\":{\"bottom_units\":\"screen\",\"fill_alpha\":0.5,\"fill_color\":\"lightgrey\",\"left_units\":\"screen\",\"level\":\"overlay\",\"line_alpha\":1.0,\"line_color\":\"black\",\"line_dash\":[4,4],\"line_width\":2,\"render_mode\":\"css\",\"right_units\":\"screen\",\"top_units\":\"screen\"},\"id\":\"6897\",\"type\":\"BoxAnnotation\"},{\"attributes\":{},\"id\":\"6888\",\"type\":\"BasicTicker\"},{\"attributes\":{\"mantissas\":[1,2,5],\"max_interval\":500.0,\"num_minor_ticks\":0},\"id\":\"7193\",\"type\":\"AdaptiveTicker\"},{\"attributes\":{\"axis\":{\"id\":\"6887\"},\"dimension\":1,\"ticker\":null},\"id\":\"6890\",\"type\":\"Grid\"},{\"attributes\":{\"data\":{\"top\":{\"__ndarray__\":\"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\",\"dtype\":\"float64\",\"shape\":[344]},\"x\":{\"__ndarray__\":\"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\",\"dtype\":\"float64\",\"shape\":[344]}},\"selected\":{\"id\":\"7190\"},\"selection_policy\":{\"id\":\"7191\"}},\"id\":\"6905\",\"type\":\"ColumnDataSource\"},{\"attributes\":{\"months\":[0,2,4,6,8,10]},\"id\":\"7201\",\"type\":\"MonthsTicker\"},{\"attributes\":{\"source\":{\"id\":\"6905\"}},\"id\":\"6909\",\"type\":\"CDSView\"},{\"attributes\":{\"data_source\":{\"id\":\"6905\"},\"glyph\":{\"id\":\"6906\"},\"hover_glyph\":null,\"muted_glyph\":null,\"nonselection_glyph\":{\"id\":\"6907\"},\"selection_glyph\":null,\"view\":{\"id\":\"6909\"}},\"id\":\"6908\",\"type\":\"GlyphRenderer\"},{\"attributes\":{\"days\":[1,8,15,22]},\"id\":\"7198\",\"type\":\"DaysTicker\"},{\"attributes\":{},\"id\":\"7191\",\"type\":\"UnionRenderers\"},{\"attributes\":{\"text\":\"wash\"},\"id\":\"6873\",\"type\":\"Title\"},{\"attributes\":{},\"id\":\"6891\",\"type\":\"PanTool\"},{\"attributes\":{\"fill_alpha\":{\"value\":0.1},\"fill_color\":{\"value\":\"#1f77b4\"},\"line_alpha\":{\"value\":0.1},\"line_color\":{\"value\":\"#1f77b4\"},\"line_width\":{\"value\":5},\"top\":{\"field\":\"top\"},\"width\":{\"value\":0.5},\"x\":{\"field\":\"x\"}},\"id\":\"6907\",\"type\":\"VBar\"},{\"attributes\":{},\"id\":\"6892\",\"type\":\"WheelZoomTool\"},{\"attributes\":{\"overlay\":{\"id\":\"6897\"}},\"id\":\"6893\",\"type\":\"BoxZoomTool\"},{\"attributes\":{\"months\":[0,6]},\"id\":\"7203\",\"type\":\"MonthsTicker\"},{\"attributes\":{},\"id\":\"7190\",\"type\":\"Selection\"},{\"attributes\":{},\"id\":\"6894\",\"type\":\"SaveTool\"},{\"attributes\":{},\"id\":\"7204\",\"type\":\"YearsTicker\"},{\"attributes\":{},\"id\":\"6895\",\"type\":\"ResetTool\"},{\"attributes\":{\"days\":[1,15]},\"id\":\"7199\",\"type\":\"DaysTicker\"},{\"attributes\":{},\"id\":\"6896\",\"type\":\"HelpTool\"},{\"attributes\":{\"base\":24,\"mantissas\":[1,2,4,6,8,12],\"max_interval\":43200000.0,\"min_interval\":3600000.0,\"num_minor_ticks\":0},\"id\":\"7195\",\"type\":\"AdaptiveTicker\"},{\"attributes\":{\"active_drag\":\"auto\",\"active_inspect\":\"auto\",\"active_multi\":null,\"active_scroll\":\"auto\",\"active_tap\":\"auto\",\"tools\":[{\"id\":\"6891\"},{\"id\":\"6892\"},{\"id\":\"6893\"},{\"id\":\"6894\"},{\"id\":\"6895\"},{\"id\":\"6896\"}]},\"id\":\"6898\",\"type\":\"Toolbar\"},{\"attributes\":{\"days\":[1,4,7,10,13,16,19,22,25,28]},\"id\":\"7197\",\"type\":\"DaysTicker\"},{\"attributes\":{},\"id\":\"7187\",\"type\":\"BasicTickFormatter\"}],\"root_ids\":[\"6872\"]},\"title\":\"Bokeh Application\",\"version\":\"2.0.2\"}};\n",
       "  var render_items = [{\"docid\":\"baddedc4-c144-41e6-b447-ef810d5c014f\",\"root_ids\":[\"6872\"],\"roots\":{\"6872\":\"4967cd49-cd70-4a43-9eeb-bafeb79fcfe9\"}}];\n",
       "  root.Bokeh.embed.embed_items_notebook(docs_json, render_items);\n",
       "\n",
       "  }\n",
       "  if (root.Bokeh !== undefined) {\n",
       "    embed_document(root);\n",
       "  } else {\n",
       "    var attempts = 0;\n",
       "    var timer = setInterval(function(root) {\n",
       "      if (root.Bokeh !== undefined) {\n",
       "        clearInterval(timer);\n",
       "        embed_document(root);\n",
       "      } else {\n",
       "        attempts++;\n",
       "        if (attempts > 100) {\n",
       "          clearInterval(timer);\n",
       "          console.log(\"Bokeh: ERROR: Unable to run BokehJS code because BokehJS library is missing\");\n",
       "        }\n",
       "      }\n",
       "    }, 10, root)\n",
       "  }\n",
       "})(window);"
      ],
      "application/vnd.bokehjs_exec.v0+json": ""
     },
     "metadata": {
      "application/vnd.bokehjs_exec.v0+json": {
       "id": "6872"
      }
     },
     "output_type": "display_data"
    }
   ],
   "source": [
    "def wash(window = 7):\n",
    "    df = pd.read_csv('data/states.csv')\n",
    "    df['date'] = pd.to_datetime(df['date'])\n",
    "\n",
    "    df_wash = df[df['state'] == 'Washington']\n",
    "    p = figure(x_axis_type = 'datetime', title = 'wash', \n",
    "                 plot_width = 650 , plot_height = 650, y_range = None)\n",
    "    cases = df_wash['cases'].rolling(window).mean()\n",
    "    dates = df_wash['date']\n",
    "    p.vbar(x=dates, top=cases , line_width = 5, width = .5)\n",
    "\n",
    "\n",
    "    return p\n",
    "show(wash())"
   ]
  },
  {
   "cell_type": "code",
   "execution_count": 20,
   "metadata": {},
   "outputs": [
    {
     "data": {
      "text/html": [
       "\n",
       "\n",
       "\n",
       "\n",
       "\n",
       "\n",
       "  <div class=\"bk-root\" id=\"a25694ed-e366-4234-a6c2-13b87fed3718\" data-root-id=\"7325\"></div>\n"
      ]
     },
     "metadata": {},
     "output_type": "display_data"
    },
    {
     "data": {
      "application/javascript": [
       "(function(root) {\n",
       "  function embed_document(root) {\n",
       "    \n",
       "  var docs_json = {\"6e6ced5e-0ef4-4180-9b7f-6ba2386294aa\":{\"roots\":{\"references\":[{\"attributes\":{\"below\":[{\"id\":\"7336\"}],\"center\":[{\"id\":\"7339\"},{\"id\":\"7343\"},{\"id\":\"7388\"}],\"left\":[{\"id\":\"7340\"}],\"plot_height\":650,\"plot_width\":650,\"renderers\":[{\"id\":\"7361\"},{\"id\":\"7366\"}],\"title\":{\"id\":\"7326\"},\"toolbar\":{\"id\":\"7351\"},\"x_range\":{\"id\":\"7328\"},\"x_scale\":{\"id\":\"7332\"},\"y_range\":{\"id\":\"7330\"},\"y_scale\":{\"id\":\"7334\"}},\"id\":\"7325\",\"subtype\":\"Figure\",\"type\":\"Plot\"},{\"attributes\":{},\"id\":\"7349\",\"type\":\"HelpTool\"},{\"attributes\":{},\"id\":\"7328\",\"type\":\"DataRange1d\"},{\"attributes\":{\"mantissas\":[1,2,5],\"max_interval\":500.0,\"num_minor_ticks\":0},\"id\":\"7376\",\"type\":\"AdaptiveTicker\"},{\"attributes\":{\"base\":60,\"mantissas\":[1,2,5,10,15,20,30],\"max_interval\":1800000.0,\"min_interval\":1000.0,\"num_minor_ticks\":0},\"id\":\"7377\",\"type\":\"AdaptiveTicker\"},{\"attributes\":{\"active_drag\":\"auto\",\"active_inspect\":\"auto\",\"active_multi\":null,\"active_scroll\":\"auto\",\"active_tap\":\"auto\",\"tools\":[{\"id\":\"7344\"},{\"id\":\"7345\"},{\"id\":\"7346\"},{\"id\":\"7347\"},{\"id\":\"7348\"},{\"id\":\"7349\"}]},\"id\":\"7351\",\"type\":\"Toolbar\"},{\"attributes\":{},\"id\":\"7330\",\"type\":\"DataRange1d\"},{\"attributes\":{\"base\":24,\"mantissas\":[1,2,4,6,8,12],\"max_interval\":43200000.0,\"min_interval\":3600000.0,\"num_minor_ticks\":0},\"id\":\"7378\",\"type\":\"AdaptiveTicker\"},{\"attributes\":{},\"id\":\"7332\",\"type\":\"LinearScale\"},{\"attributes\":{},\"id\":\"7373\",\"type\":\"Selection\"},{\"attributes\":{\"days\":[1,2,3,4,5,6,7,8,9,10,11,12,13,14,15,16,17,18,19,20,21,22,23,24,25,26,27,28,29,30,31]},\"id\":\"7379\",\"type\":\"DaysTicker\"},{\"attributes\":{},\"id\":\"7334\",\"type\":\"LinearScale\"},{\"attributes\":{\"days\":[1,4,7,10,13,16,19,22,25,28]},\"id\":\"7380\",\"type\":\"DaysTicker\"},{\"attributes\":{\"formatter\":{\"id\":\"7372\"},\"ticker\":{\"id\":\"7337\"}},\"id\":\"7336\",\"type\":\"DatetimeAxis\"},{\"attributes\":{\"days\":[1,8,15,22]},\"id\":\"7381\",\"type\":\"DaysTicker\"},{\"attributes\":{\"num_minor_ticks\":5,\"tickers\":[{\"id\":\"7376\"},{\"id\":\"7377\"},{\"id\":\"7378\"},{\"id\":\"7379\"},{\"id\":\"7380\"},{\"id\":\"7381\"},{\"id\":\"7382\"},{\"id\":\"7383\"},{\"id\":\"7384\"},{\"id\":\"7385\"},{\"id\":\"7386\"},{\"id\":\"7387\"}]},\"id\":\"7337\",\"type\":\"DatetimeTicker\"},{\"attributes\":{},\"id\":\"7374\",\"type\":\"UnionRenderers\"},{\"attributes\":{\"days\":[1,15]},\"id\":\"7382\",\"type\":\"DaysTicker\"},{\"attributes\":{\"axis\":{\"id\":\"7336\"},\"ticker\":null},\"id\":\"7339\",\"type\":\"Grid\"},{\"attributes\":{\"text\":\"Seattle 255\"},\"id\":\"7326\",\"type\":\"Title\"},{\"attributes\":{},\"id\":\"7372\",\"type\":\"DatetimeTickFormatter\"},{\"attributes\":{\"months\":[0,1,2,3,4,5,6,7,8,9,10,11]},\"id\":\"7383\",\"type\":\"MonthsTicker\"},{\"attributes\":{\"formatter\":{\"id\":\"7370\"},\"ticker\":{\"id\":\"7341\"}},\"id\":\"7340\",\"type\":\"LinearAxis\"},{\"attributes\":{\"bottom_units\":\"screen\",\"fill_alpha\":0.5,\"fill_color\":\"lightgrey\",\"left_units\":\"screen\",\"level\":\"overlay\",\"line_alpha\":1.0,\"line_color\":\"black\",\"line_dash\":[4,4],\"line_width\":2,\"render_mode\":\"css\",\"right_units\":\"screen\",\"top_units\":\"screen\"},\"id\":\"7350\",\"type\":\"BoxAnnotation\"},{\"attributes\":{\"months\":[0,2,4,6,8,10]},\"id\":\"7384\",\"type\":\"MonthsTicker\"},{\"attributes\":{},\"id\":\"7341\",\"type\":\"BasicTicker\"},{\"attributes\":{\"months\":[0,4,8]},\"id\":\"7385\",\"type\":\"MonthsTicker\"},{\"attributes\":{\"axis\":{\"id\":\"7340\"},\"dimension\":1,\"ticker\":null},\"id\":\"7343\",\"type\":\"Grid\"},{\"attributes\":{\"data_source\":{\"id\":\"7358\"},\"glyph\":{\"id\":\"7359\"},\"hover_glyph\":null,\"muted_glyph\":null,\"nonselection_glyph\":{\"id\":\"7360\"},\"selection_glyph\":null,\"view\":{\"id\":\"7362\"}},\"id\":\"7361\",\"type\":\"GlyphRenderer\"},{\"attributes\":{\"months\":[0,6]},\"id\":\"7386\",\"type\":\"MonthsTicker\"},{\"attributes\":{\"fill_alpha\":{\"value\":0.1},\"fill_color\":{\"value\":\"#1f77b4\"},\"line_alpha\":{\"value\":0.1},\"line_color\":{\"value\":\"#1f77b4\"},\"line_width\":{\"value\":5},\"top\":{\"field\":\"top\"},\"width\":{\"value\":0.5},\"x\":{\"field\":\"x\"}},\"id\":\"7360\",\"type\":\"VBar\"},{\"attributes\":{\"data\":{\"x\":{\"__ndarray__\":\"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\",\"dtype\":\"float64\",\"shape\":[306]},\"y\":{\"__ndarray__\":\"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\",\"dtype\":\"float64\",\"shape\":[306]}},\"selected\":{\"id\":\"7692\"},\"selection_policy\":{\"id\":\"7693\"}},\"id\":\"7363\",\"type\":\"ColumnDataSource\"},{\"attributes\":{},\"id\":\"7387\",\"type\":\"YearsTicker\"},{\"attributes\":{\"fill_alpha\":{\"value\":0.1},\"fill_color\":{\"value\":\"#1f77b4\"},\"line_alpha\":{\"value\":0.1},\"line_color\":{\"value\":\"#1f77b4\"},\"line_width\":{\"value\":5},\"top\":{\"field\":\"top\"},\"width\":{\"value\":0.5},\"x\":{\"field\":\"x\"}},\"id\":\"7359\",\"type\":\"VBar\"},{\"attributes\":{\"source\":{\"id\":\"7358\"}},\"id\":\"7362\",\"type\":\"CDSView\"},{\"attributes\":{\"data\":{\"top\":{\"__ndarray__\":\"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\",\"dtype\":\"float64\",\"shape\":[306]},\"x\":{\"__ndarray__\":\"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\",\"dtype\":\"float64\",\"shape\":[306]}},\"selected\":{\"id\":\"7373\"},\"selection_policy\":{\"id\":\"7374\"}},\"id\":\"7358\",\"type\":\"ColumnDataSource\"},{\"attributes\":{\"items\":[{\"id\":\"7389\"}],\"location\":\"top_left\"},\"id\":\"7388\",\"type\":\"Legend\"},{\"attributes\":{},\"id\":\"7693\",\"type\":\"UnionRenderers\"},{\"attributes\":{},\"id\":\"7370\",\"type\":\"BasicTickFormatter\"},{\"attributes\":{},\"id\":\"7344\",\"type\":\"PanTool\"},{\"attributes\":{\"label\":{\"value\":\"7\"},\"renderers\":[{\"id\":\"7366\"}]},\"id\":\"7389\",\"type\":\"LegendItem\"},{\"attributes\":{\"line_alpha\":0.1,\"line_color\":\"red\",\"x\":{\"field\":\"x\"},\"y\":{\"field\":\"y\"}},\"id\":\"7365\",\"type\":\"Line\"},{\"attributes\":{},\"id\":\"7345\",\"type\":\"WheelZoomTool\"},{\"attributes\":{\"line_color\":\"red\",\"x\":{\"field\":\"x\"},\"y\":{\"field\":\"y\"}},\"id\":\"7364\",\"type\":\"Line\"},{\"attributes\":{\"source\":{\"id\":\"7363\"}},\"id\":\"7367\",\"type\":\"CDSView\"},{\"attributes\":{\"overlay\":{\"id\":\"7350\"}},\"id\":\"7346\",\"type\":\"BoxZoomTool\"},{\"attributes\":{},\"id\":\"7347\",\"type\":\"SaveTool\"},{\"attributes\":{},\"id\":\"7692\",\"type\":\"Selection\"},{\"attributes\":{\"data_source\":{\"id\":\"7363\"},\"glyph\":{\"id\":\"7364\"},\"hover_glyph\":null,\"muted_glyph\":null,\"nonselection_glyph\":{\"id\":\"7365\"},\"selection_glyph\":null,\"view\":{\"id\":\"7367\"}},\"id\":\"7366\",\"type\":\"GlyphRenderer\"},{\"attributes\":{},\"id\":\"7348\",\"type\":\"ResetTool\"}],\"root_ids\":[\"7325\"]},\"title\":\"Bokeh Application\",\"version\":\"2.0.2\"}};\n",
       "  var render_items = [{\"docid\":\"6e6ced5e-0ef4-4180-9b7f-6ba2386294aa\",\"root_ids\":[\"7325\"],\"roots\":{\"7325\":\"a25694ed-e366-4234-a6c2-13b87fed3718\"}}];\n",
       "  root.Bokeh.embed.embed_items_notebook(docs_json, render_items);\n",
       "\n",
       "  }\n",
       "  if (root.Bokeh !== undefined) {\n",
       "    embed_document(root);\n",
       "  } else {\n",
       "    var attempts = 0;\n",
       "    var timer = setInterval(function(root) {\n",
       "      if (root.Bokeh !== undefined) {\n",
       "        clearInterval(timer);\n",
       "        embed_document(root);\n",
       "      } else {\n",
       "        attempts++;\n",
       "        if (attempts > 100) {\n",
       "          clearInterval(timer);\n",
       "          console.log(\"Bokeh: ERROR: Unable to run BokehJS code because BokehJS library is missing\");\n",
       "        }\n",
       "      }\n",
       "    }, 10, root)\n",
       "  }\n",
       "})(window);"
      ],
      "application/vnd.bokehjs_exec.v0+json": ""
     },
     "metadata": {
      "application/vnd.bokehjs_exec.v0+json": {
       "id": "7325"
      }
     },
     "output_type": "display_data"
    }
   ],
   "source": [
    "def seattle(window = 7):\n",
    "    df = pd.read_csv('data/seven_day_county.csv')\n",
    "    df['date'] = pd.to_datetime(df['date'])\n",
    "    df_seattle = df[(df['state'] == 'Washington') & (df['county']== 'King')]\n",
    "    df_seattle = df_seattle.assign(by_pop = df_seattle['new_cases']/df_seattle['population'] * 1e5)\n",
    "    cases = df_seattle['new_cases'].rolling(window).mean()\n",
    "    cases_p = df_seattle['by_pop'].rolling(window).mean()\n",
    "    cases_1 = df_seattle['new_cases']\n",
    "    last_c = cases_1.tolist()[-1]\n",
    "    cases_p_1 = df_seattle['by_pop']\n",
    "    p = figure(x_axis_type = 'datetime', title = 'Seattle {c}'.format(c = last_c), \n",
    "                 plot_width = 650 , plot_height = 650, y_range = None)\n",
    "   \n",
    "\n",
    "    dates = df_seattle['date']\n",
    "    p.vbar(x=dates, top=cases_p_1 , line_width = 5, width = .5, alpha = .1)\n",
    "\n",
    "    p.line(x = dates, y = cases_p, legend_label = '{n}'.format(n = window), color = 'red')\n",
    "    #p.line(x = dates, y = cases_p_1, legend_label = 'current', color = 'red')\n",
    "    p.legend.location = 'top_left'\n",
    "\n",
    "\n",
    "    return p\n",
    "show(seattle(window =7))"
   ]
  }
 ],
 "metadata": {
  "kernelspec": {
   "display_name": "Python 3",
   "language": "python",
   "name": "python3"
  },
  "language_info": {
   "codemirror_mode": {
    "name": "ipython",
    "version": 3
   },
   "file_extension": ".py",
   "mimetype": "text/x-python",
   "name": "python",
   "nbconvert_exporter": "python",
   "pygments_lexer": "ipython3",
   "version": "3.6.9"
  }
 },
 "nbformat": 4,
 "nbformat_minor": 4
}
