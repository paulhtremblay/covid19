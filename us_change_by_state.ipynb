{
 "cells": [
  {
   "cell_type": "code",
   "execution_count": 1,
   "metadata": {},
   "outputs": [],
   "source": [
    "import os\n",
    "import datetime\n",
    "import random\n",
    "from bokeh.io import show\n",
    "from bokeh.plotting import figure\n",
    "from bokeh.io import output_notebook\n",
    "from bokeh.layouts import gridplot\n",
    "from bokeh.models import ColumnDataSource, Band\n",
    "from bokeh.embed import components\n",
    "from bokeh.models import Range1d\n",
    "\n",
    "import numpy as np"
   ]
  },
  {
   "cell_type": "code",
   "execution_count": 2,
   "metadata": {},
   "outputs": [
    {
     "data": {
      "text/html": [
       "\n",
       "    <div class=\"bk-root\">\n",
       "        <a href=\"https://bokeh.org\" target=\"_blank\" class=\"bk-logo bk-logo-small bk-logo-notebook\"></a>\n",
       "        <span id=\"1001\">Loading BokehJS ...</span>\n",
       "    </div>"
      ]
     },
     "metadata": {},
     "output_type": "display_data"
    },
    {
     "data": {
      "application/javascript": [
       "\n",
       "(function(root) {\n",
       "  function now() {\n",
       "    return new Date();\n",
       "  }\n",
       "\n",
       "  var force = true;\n",
       "\n",
       "  if (typeof root._bokeh_onload_callbacks === \"undefined\" || force === true) {\n",
       "    root._bokeh_onload_callbacks = [];\n",
       "    root._bokeh_is_loading = undefined;\n",
       "  }\n",
       "\n",
       "  var JS_MIME_TYPE = 'application/javascript';\n",
       "  var HTML_MIME_TYPE = 'text/html';\n",
       "  var EXEC_MIME_TYPE = 'application/vnd.bokehjs_exec.v0+json';\n",
       "  var CLASS_NAME = 'output_bokeh rendered_html';\n",
       "\n",
       "  /**\n",
       "   * Render data to the DOM node\n",
       "   */\n",
       "  function render(props, node) {\n",
       "    var script = document.createElement(\"script\");\n",
       "    node.appendChild(script);\n",
       "  }\n",
       "\n",
       "  /**\n",
       "   * Handle when an output is cleared or removed\n",
       "   */\n",
       "  function handleClearOutput(event, handle) {\n",
       "    var cell = handle.cell;\n",
       "\n",
       "    var id = cell.output_area._bokeh_element_id;\n",
       "    var server_id = cell.output_area._bokeh_server_id;\n",
       "    // Clean up Bokeh references\n",
       "    if (id != null && id in Bokeh.index) {\n",
       "      Bokeh.index[id].model.document.clear();\n",
       "      delete Bokeh.index[id];\n",
       "    }\n",
       "\n",
       "    if (server_id !== undefined) {\n",
       "      // Clean up Bokeh references\n",
       "      var cmd = \"from bokeh.io.state import curstate; print(curstate().uuid_to_server['\" + server_id + \"'].get_sessions()[0].document.roots[0]._id)\";\n",
       "      cell.notebook.kernel.execute(cmd, {\n",
       "        iopub: {\n",
       "          output: function(msg) {\n",
       "            var id = msg.content.text.trim();\n",
       "            if (id in Bokeh.index) {\n",
       "              Bokeh.index[id].model.document.clear();\n",
       "              delete Bokeh.index[id];\n",
       "            }\n",
       "          }\n",
       "        }\n",
       "      });\n",
       "      // Destroy server and session\n",
       "      var cmd = \"import bokeh.io.notebook as ion; ion.destroy_server('\" + server_id + \"')\";\n",
       "      cell.notebook.kernel.execute(cmd);\n",
       "    }\n",
       "  }\n",
       "\n",
       "  /**\n",
       "   * Handle when a new output is added\n",
       "   */\n",
       "  function handleAddOutput(event, handle) {\n",
       "    var output_area = handle.output_area;\n",
       "    var output = handle.output;\n",
       "\n",
       "    // limit handleAddOutput to display_data with EXEC_MIME_TYPE content only\n",
       "    if ((output.output_type != \"display_data\") || (!output.data.hasOwnProperty(EXEC_MIME_TYPE))) {\n",
       "      return\n",
       "    }\n",
       "\n",
       "    var toinsert = output_area.element.find(\".\" + CLASS_NAME.split(' ')[0]);\n",
       "\n",
       "    if (output.metadata[EXEC_MIME_TYPE][\"id\"] !== undefined) {\n",
       "      toinsert[toinsert.length - 1].firstChild.textContent = output.data[JS_MIME_TYPE];\n",
       "      // store reference to embed id on output_area\n",
       "      output_area._bokeh_element_id = output.metadata[EXEC_MIME_TYPE][\"id\"];\n",
       "    }\n",
       "    if (output.metadata[EXEC_MIME_TYPE][\"server_id\"] !== undefined) {\n",
       "      var bk_div = document.createElement(\"div\");\n",
       "      bk_div.innerHTML = output.data[HTML_MIME_TYPE];\n",
       "      var script_attrs = bk_div.children[0].attributes;\n",
       "      for (var i = 0; i < script_attrs.length; i++) {\n",
       "        toinsert[toinsert.length - 1].firstChild.setAttribute(script_attrs[i].name, script_attrs[i].value);\n",
       "        toinsert[toinsert.length - 1].firstChild.textContent = bk_div.children[0].textContent\n",
       "      }\n",
       "      // store reference to server id on output_area\n",
       "      output_area._bokeh_server_id = output.metadata[EXEC_MIME_TYPE][\"server_id\"];\n",
       "    }\n",
       "  }\n",
       "\n",
       "  function register_renderer(events, OutputArea) {\n",
       "\n",
       "    function append_mime(data, metadata, element) {\n",
       "      // create a DOM node to render to\n",
       "      var toinsert = this.create_output_subarea(\n",
       "        metadata,\n",
       "        CLASS_NAME,\n",
       "        EXEC_MIME_TYPE\n",
       "      );\n",
       "      this.keyboard_manager.register_events(toinsert);\n",
       "      // Render to node\n",
       "      var props = {data: data, metadata: metadata[EXEC_MIME_TYPE]};\n",
       "      render(props, toinsert[toinsert.length - 1]);\n",
       "      element.append(toinsert);\n",
       "      return toinsert\n",
       "    }\n",
       "\n",
       "    /* Handle when an output is cleared or removed */\n",
       "    events.on('clear_output.CodeCell', handleClearOutput);\n",
       "    events.on('delete.Cell', handleClearOutput);\n",
       "\n",
       "    /* Handle when a new output is added */\n",
       "    events.on('output_added.OutputArea', handleAddOutput);\n",
       "\n",
       "    /**\n",
       "     * Register the mime type and append_mime function with output_area\n",
       "     */\n",
       "    OutputArea.prototype.register_mime_type(EXEC_MIME_TYPE, append_mime, {\n",
       "      /* Is output safe? */\n",
       "      safe: true,\n",
       "      /* Index of renderer in `output_area.display_order` */\n",
       "      index: 0\n",
       "    });\n",
       "  }\n",
       "\n",
       "  // register the mime type if in Jupyter Notebook environment and previously unregistered\n",
       "  if (root.Jupyter !== undefined) {\n",
       "    var events = require('base/js/events');\n",
       "    var OutputArea = require('notebook/js/outputarea').OutputArea;\n",
       "\n",
       "    if (OutputArea.prototype.mime_types().indexOf(EXEC_MIME_TYPE) == -1) {\n",
       "      register_renderer(events, OutputArea);\n",
       "    }\n",
       "  }\n",
       "\n",
       "  \n",
       "  if (typeof (root._bokeh_timeout) === \"undefined\" || force === true) {\n",
       "    root._bokeh_timeout = Date.now() + 5000;\n",
       "    root._bokeh_failed_load = false;\n",
       "  }\n",
       "\n",
       "  var NB_LOAD_WARNING = {'data': {'text/html':\n",
       "     \"<div style='background-color: #fdd'>\\n\"+\n",
       "     \"<p>\\n\"+\n",
       "     \"BokehJS does not appear to have successfully loaded. If loading BokehJS from CDN, this \\n\"+\n",
       "     \"may be due to a slow or bad network connection. Possible fixes:\\n\"+\n",
       "     \"</p>\\n\"+\n",
       "     \"<ul>\\n\"+\n",
       "     \"<li>re-rerun `output_notebook()` to attempt to load from CDN again, or</li>\\n\"+\n",
       "     \"<li>use INLINE resources instead, as so:</li>\\n\"+\n",
       "     \"</ul>\\n\"+\n",
       "     \"<code>\\n\"+\n",
       "     \"from bokeh.resources import INLINE\\n\"+\n",
       "     \"output_notebook(resources=INLINE)\\n\"+\n",
       "     \"</code>\\n\"+\n",
       "     \"</div>\"}};\n",
       "\n",
       "  function display_loaded() {\n",
       "    var el = document.getElementById(\"1001\");\n",
       "    if (el != null) {\n",
       "      el.textContent = \"BokehJS is loading...\";\n",
       "    }\n",
       "    if (root.Bokeh !== undefined) {\n",
       "      if (el != null) {\n",
       "        el.textContent = \"BokehJS \" + root.Bokeh.version + \" successfully loaded.\";\n",
       "      }\n",
       "    } else if (Date.now() < root._bokeh_timeout) {\n",
       "      setTimeout(display_loaded, 100)\n",
       "    }\n",
       "  }\n",
       "\n",
       "\n",
       "  function run_callbacks() {\n",
       "    try {\n",
       "      root._bokeh_onload_callbacks.forEach(function(callback) {\n",
       "        if (callback != null)\n",
       "          callback();\n",
       "      });\n",
       "    } finally {\n",
       "      delete root._bokeh_onload_callbacks\n",
       "    }\n",
       "    console.debug(\"Bokeh: all callbacks have finished\");\n",
       "  }\n",
       "\n",
       "  function load_libs(css_urls, js_urls, callback) {\n",
       "    if (css_urls == null) css_urls = [];\n",
       "    if (js_urls == null) js_urls = [];\n",
       "\n",
       "    root._bokeh_onload_callbacks.push(callback);\n",
       "    if (root._bokeh_is_loading > 0) {\n",
       "      console.debug(\"Bokeh: BokehJS is being loaded, scheduling callback at\", now());\n",
       "      return null;\n",
       "    }\n",
       "    if (js_urls == null || js_urls.length === 0) {\n",
       "      run_callbacks();\n",
       "      return null;\n",
       "    }\n",
       "    console.debug(\"Bokeh: BokehJS not loaded, scheduling load and callback at\", now());\n",
       "    root._bokeh_is_loading = css_urls.length + js_urls.length;\n",
       "\n",
       "    function on_load() {\n",
       "      root._bokeh_is_loading--;\n",
       "      if (root._bokeh_is_loading === 0) {\n",
       "        console.debug(\"Bokeh: all BokehJS libraries/stylesheets loaded\");\n",
       "        run_callbacks()\n",
       "      }\n",
       "    }\n",
       "\n",
       "    function on_error() {\n",
       "      console.error(\"failed to load \" + url);\n",
       "    }\n",
       "\n",
       "    for (var i = 0; i < css_urls.length; i++) {\n",
       "      var url = css_urls[i];\n",
       "      const element = document.createElement(\"link\");\n",
       "      element.onload = on_load;\n",
       "      element.onerror = on_error;\n",
       "      element.rel = \"stylesheet\";\n",
       "      element.type = \"text/css\";\n",
       "      element.href = url;\n",
       "      console.debug(\"Bokeh: injecting link tag for BokehJS stylesheet: \", url);\n",
       "      document.body.appendChild(element);\n",
       "    }\n",
       "\n",
       "    const hashes = {\"https://cdn.bokeh.org/bokeh/release/bokeh-2.0.2.min.js\": \"ufR9RFnRs6lniiaFvtJziE0YeidtAgBRH6ux2oUItHw5WTvE1zuk9uzhUU/FJXDp\", \"https://cdn.bokeh.org/bokeh/release/bokeh-widgets-2.0.2.min.js\": \"8QM/PGWBT+IssZuRcDcjzwIh1mkOmJSoNMmyYDZbCfXJg3Ap1lEvdVgFuSAwhb/J\", \"https://cdn.bokeh.org/bokeh/release/bokeh-tables-2.0.2.min.js\": \"Jm8cH3Rg0P6UeZhVY5cLy1WzKajUT9KImCY+76hEqrcJt59/d8GPvFHjCkYgnSIn\", \"https://cdn.bokeh.org/bokeh/release/bokeh-gl-2.0.2.min.js\": \"Ozhzj+SI7ywm74aOI/UajcWz+C0NjsPunEVyVIrxzYkB+jA+2tUw8x5xJCbVtK5I\"};\n",
       "\n",
       "    for (var i = 0; i < js_urls.length; i++) {\n",
       "      var url = js_urls[i];\n",
       "      var element = document.createElement('script');\n",
       "      element.onload = on_load;\n",
       "      element.onerror = on_error;\n",
       "      element.async = false;\n",
       "      element.src = url;\n",
       "      if (url in hashes) {\n",
       "        element.crossOrigin = \"anonymous\";\n",
       "        element.integrity = \"sha384-\" + hashes[url];\n",
       "      }\n",
       "      console.debug(\"Bokeh: injecting script tag for BokehJS library: \", url);\n",
       "      document.head.appendChild(element);\n",
       "    }\n",
       "  };\n",
       "\n",
       "  function inject_raw_css(css) {\n",
       "    const element = document.createElement(\"style\");\n",
       "    element.appendChild(document.createTextNode(css));\n",
       "    document.body.appendChild(element);\n",
       "  }\n",
       "\n",
       "  \n",
       "  var js_urls = [\"https://cdn.bokeh.org/bokeh/release/bokeh-2.0.2.min.js\", \"https://cdn.bokeh.org/bokeh/release/bokeh-widgets-2.0.2.min.js\", \"https://cdn.bokeh.org/bokeh/release/bokeh-tables-2.0.2.min.js\", \"https://cdn.bokeh.org/bokeh/release/bokeh-gl-2.0.2.min.js\"];\n",
       "  var css_urls = [];\n",
       "  \n",
       "\n",
       "  var inline_js = [\n",
       "    function(Bokeh) {\n",
       "      Bokeh.set_log_level(\"info\");\n",
       "    },\n",
       "    function(Bokeh) {\n",
       "    \n",
       "    \n",
       "    }\n",
       "  ];\n",
       "\n",
       "  function run_inline_js() {\n",
       "    \n",
       "    if (root.Bokeh !== undefined || force === true) {\n",
       "      \n",
       "    for (var i = 0; i < inline_js.length; i++) {\n",
       "      inline_js[i].call(root, root.Bokeh);\n",
       "    }\n",
       "    if (force === true) {\n",
       "        display_loaded();\n",
       "      }} else if (Date.now() < root._bokeh_timeout) {\n",
       "      setTimeout(run_inline_js, 100);\n",
       "    } else if (!root._bokeh_failed_load) {\n",
       "      console.log(\"Bokeh: BokehJS failed to load within specified timeout.\");\n",
       "      root._bokeh_failed_load = true;\n",
       "    } else if (force !== true) {\n",
       "      var cell = $(document.getElementById(\"1001\")).parents('.cell').data().cell;\n",
       "      cell.output_area.append_execute_result(NB_LOAD_WARNING)\n",
       "    }\n",
       "\n",
       "  }\n",
       "\n",
       "  if (root._bokeh_is_loading === 0) {\n",
       "    console.debug(\"Bokeh: BokehJS loaded, going straight to plotting\");\n",
       "    run_inline_js();\n",
       "  } else {\n",
       "    load_libs(css_urls, js_urls, function() {\n",
       "      console.debug(\"Bokeh: BokehJS plotting callback run at\", now());\n",
       "      run_inline_js();\n",
       "    });\n",
       "  }\n",
       "}(window));"
      ],
      "application/vnd.bokehjs_load.v0+json": "\n(function(root) {\n  function now() {\n    return new Date();\n  }\n\n  var force = true;\n\n  if (typeof root._bokeh_onload_callbacks === \"undefined\" || force === true) {\n    root._bokeh_onload_callbacks = [];\n    root._bokeh_is_loading = undefined;\n  }\n\n  \n\n  \n  if (typeof (root._bokeh_timeout) === \"undefined\" || force === true) {\n    root._bokeh_timeout = Date.now() + 5000;\n    root._bokeh_failed_load = false;\n  }\n\n  var NB_LOAD_WARNING = {'data': {'text/html':\n     \"<div style='background-color: #fdd'>\\n\"+\n     \"<p>\\n\"+\n     \"BokehJS does not appear to have successfully loaded. If loading BokehJS from CDN, this \\n\"+\n     \"may be due to a slow or bad network connection. Possible fixes:\\n\"+\n     \"</p>\\n\"+\n     \"<ul>\\n\"+\n     \"<li>re-rerun `output_notebook()` to attempt to load from CDN again, or</li>\\n\"+\n     \"<li>use INLINE resources instead, as so:</li>\\n\"+\n     \"</ul>\\n\"+\n     \"<code>\\n\"+\n     \"from bokeh.resources import INLINE\\n\"+\n     \"output_notebook(resources=INLINE)\\n\"+\n     \"</code>\\n\"+\n     \"</div>\"}};\n\n  function display_loaded() {\n    var el = document.getElementById(\"1001\");\n    if (el != null) {\n      el.textContent = \"BokehJS is loading...\";\n    }\n    if (root.Bokeh !== undefined) {\n      if (el != null) {\n        el.textContent = \"BokehJS \" + root.Bokeh.version + \" successfully loaded.\";\n      }\n    } else if (Date.now() < root._bokeh_timeout) {\n      setTimeout(display_loaded, 100)\n    }\n  }\n\n\n  function run_callbacks() {\n    try {\n      root._bokeh_onload_callbacks.forEach(function(callback) {\n        if (callback != null)\n          callback();\n      });\n    } finally {\n      delete root._bokeh_onload_callbacks\n    }\n    console.debug(\"Bokeh: all callbacks have finished\");\n  }\n\n  function load_libs(css_urls, js_urls, callback) {\n    if (css_urls == null) css_urls = [];\n    if (js_urls == null) js_urls = [];\n\n    root._bokeh_onload_callbacks.push(callback);\n    if (root._bokeh_is_loading > 0) {\n      console.debug(\"Bokeh: BokehJS is being loaded, scheduling callback at\", now());\n      return null;\n    }\n    if (js_urls == null || js_urls.length === 0) {\n      run_callbacks();\n      return null;\n    }\n    console.debug(\"Bokeh: BokehJS not loaded, scheduling load and callback at\", now());\n    root._bokeh_is_loading = css_urls.length + js_urls.length;\n\n    function on_load() {\n      root._bokeh_is_loading--;\n      if (root._bokeh_is_loading === 0) {\n        console.debug(\"Bokeh: all BokehJS libraries/stylesheets loaded\");\n        run_callbacks()\n      }\n    }\n\n    function on_error() {\n      console.error(\"failed to load \" + url);\n    }\n\n    for (var i = 0; i < css_urls.length; i++) {\n      var url = css_urls[i];\n      const element = document.createElement(\"link\");\n      element.onload = on_load;\n      element.onerror = on_error;\n      element.rel = \"stylesheet\";\n      element.type = \"text/css\";\n      element.href = url;\n      console.debug(\"Bokeh: injecting link tag for BokehJS stylesheet: \", url);\n      document.body.appendChild(element);\n    }\n\n    const hashes = {\"https://cdn.bokeh.org/bokeh/release/bokeh-2.0.2.min.js\": \"ufR9RFnRs6lniiaFvtJziE0YeidtAgBRH6ux2oUItHw5WTvE1zuk9uzhUU/FJXDp\", \"https://cdn.bokeh.org/bokeh/release/bokeh-widgets-2.0.2.min.js\": \"8QM/PGWBT+IssZuRcDcjzwIh1mkOmJSoNMmyYDZbCfXJg3Ap1lEvdVgFuSAwhb/J\", \"https://cdn.bokeh.org/bokeh/release/bokeh-tables-2.0.2.min.js\": \"Jm8cH3Rg0P6UeZhVY5cLy1WzKajUT9KImCY+76hEqrcJt59/d8GPvFHjCkYgnSIn\", \"https://cdn.bokeh.org/bokeh/release/bokeh-gl-2.0.2.min.js\": \"Ozhzj+SI7ywm74aOI/UajcWz+C0NjsPunEVyVIrxzYkB+jA+2tUw8x5xJCbVtK5I\"};\n\n    for (var i = 0; i < js_urls.length; i++) {\n      var url = js_urls[i];\n      var element = document.createElement('script');\n      element.onload = on_load;\n      element.onerror = on_error;\n      element.async = false;\n      element.src = url;\n      if (url in hashes) {\n        element.crossOrigin = \"anonymous\";\n        element.integrity = \"sha384-\" + hashes[url];\n      }\n      console.debug(\"Bokeh: injecting script tag for BokehJS library: \", url);\n      document.head.appendChild(element);\n    }\n  };\n\n  function inject_raw_css(css) {\n    const element = document.createElement(\"style\");\n    element.appendChild(document.createTextNode(css));\n    document.body.appendChild(element);\n  }\n\n  \n  var js_urls = [\"https://cdn.bokeh.org/bokeh/release/bokeh-2.0.2.min.js\", \"https://cdn.bokeh.org/bokeh/release/bokeh-widgets-2.0.2.min.js\", \"https://cdn.bokeh.org/bokeh/release/bokeh-tables-2.0.2.min.js\", \"https://cdn.bokeh.org/bokeh/release/bokeh-gl-2.0.2.min.js\"];\n  var css_urls = [];\n  \n\n  var inline_js = [\n    function(Bokeh) {\n      Bokeh.set_log_level(\"info\");\n    },\n    function(Bokeh) {\n    \n    \n    }\n  ];\n\n  function run_inline_js() {\n    \n    if (root.Bokeh !== undefined || force === true) {\n      \n    for (var i = 0; i < inline_js.length; i++) {\n      inline_js[i].call(root, root.Bokeh);\n    }\n    if (force === true) {\n        display_loaded();\n      }} else if (Date.now() < root._bokeh_timeout) {\n      setTimeout(run_inline_js, 100);\n    } else if (!root._bokeh_failed_load) {\n      console.log(\"Bokeh: BokehJS failed to load within specified timeout.\");\n      root._bokeh_failed_load = true;\n    } else if (force !== true) {\n      var cell = $(document.getElementById(\"1001\")).parents('.cell').data().cell;\n      cell.output_area.append_execute_result(NB_LOAD_WARNING)\n    }\n\n  }\n\n  if (root._bokeh_is_loading === 0) {\n    console.debug(\"Bokeh: BokehJS loaded, going straight to plotting\");\n    run_inline_js();\n  } else {\n    load_libs(css_urls, js_urls, function() {\n      console.debug(\"Bokeh: BokehJS plotting callback run at\", now());\n      run_inline_js();\n    });\n  }\n}(window));"
     },
     "metadata": {},
     "output_type": "display_data"
    }
   ],
   "source": [
    "output_notebook()"
   ]
  },
  {
   "cell_type": "code",
   "execution_count": 3,
   "metadata": {},
   "outputs": [],
   "source": [
    "import math\n",
    "import scipy.optimize as optim\n",
    "import pandas as pd\n",
    "import statsmodels.api as sm\n",
    "from scipy.stats import ttest_ind"
   ]
  },
  {
   "cell_type": "code",
   "execution_count": 4,
   "metadata": {},
   "outputs": [],
   "source": [
    "from bokeh.io import show\n",
    "from bokeh.plotting import figure\n",
    "from bokeh.io import output_notebook\n",
    "from bokeh.layouts import gridplot\n",
    "from bokeh.models import Arrow, NormalHead, OpenHead, VeeHead\n",
    "from bokeh.models import Label\n",
    "from bokeh.models import Span\n",
    "from bokeh.embed import components\n"
   ]
  },
  {
   "cell_type": "code",
   "execution_count": 5,
   "metadata": {},
   "outputs": [],
   "source": [
    "def get_data():\n",
    "    df = pd.read_csv('data/states.csv')\n",
    "    df = df[(df['state'] != 'Guam') & (df['state'] != 'Northern Mariana Islands')]\n",
    "    df['date'] = pd.to_datetime(df['date'])\n",
    "    df = df.sort_values(by = ['date'])\n",
    "    return df\n"
   ]
  },
  {
   "cell_type": "code",
   "execution_count": 6,
   "metadata": {},
   "outputs": [],
   "source": [
    "\n",
    "def get_pop_data():\n",
    "    df = pd.read_csv('data/seven_day_state.csv')\n",
    "    #df = df[(df['state'] != 'Guam') & (df['state'] != 'Northern Mariana Islands')]\n",
    "    df['date'] = pd.to_datetime(df['date'])\n",
    "    df = df.sort_values(by = ['date'])\n",
    "    return df\n",
    "\n",
    "def get_pop():\n",
    "    df = get_pop_data()\n",
    "    states = df['state']\n",
    "    population = df['population']\n",
    "    d = {}\n",
    "    for x in set(list(zip(states, population))):\n",
    "        d[x[0]] = x[1]\n",
    "    return d\n"
   ]
  },
  {
   "cell_type": "code",
   "execution_count": 7,
   "metadata": {},
   "outputs": [],
   "source": [
    "def get_rate(df, state, leng, key):\n",
    "    df_s = df[df['state'] == state]\n",
    "    current = df_s[key].tolist()[-1 * leng:]\n",
    "    prev = df_s[key].tolist()[-2 * leng: -1 * leng]\n",
    "    assert len(prev) == leng\n",
    "    assert len(current) == leng\n",
    "    p_value_ttest = round(ttest_ind(current, prev).pvalue,2)\n",
    "    return np.mean(current)/np.mean(prev), p_value_ttest\n"
   ]
  },
  {
   "cell_type": "code",
   "execution_count": 8,
   "metadata": {},
   "outputs": [
    {
     "data": {
      "text/plain": [
       "(1544.971428571429, 100.5098901098902, 0.22261669099531325)"
      ]
     },
     "execution_count": 8,
     "metadata": {},
     "output_type": "execute_result"
    }
   ],
   "source": [
    "def get_linear(y):\n",
    "    x = range(len(y))\n",
    "    X = list(zip(*[x]))\n",
    "    xm = sm.add_constant(X)\n",
    "    model = sm.OLS(y, xm) \n",
    "    result = model.fit()\n",
    "    slope = result.params[1]\n",
    "    p_value =result.pvalues[1]\n",
    "    return result.params[0], slope, p_value\n",
    "\n",
    "\n",
    "def get_state_linear(df, state, leng, key):\n",
    "    df_s = df[df['state'] == state]\n",
    "    y = df_s[key].tolist()[-1 * leng:]\n",
    "    assert len(y) == leng\n",
    "    return get_linear(y)\n",
    "get_state_linear(get_data(), 'Washington', 14, 'cases')\n"
   ]
  },
  {
   "cell_type": "code",
   "execution_count": 9,
   "metadata": {},
   "outputs": [
    {
     "name": "stdout",
     "output_type": "stream",
     "text": [
      "p value is 0.5273197405539972\n"
     ]
    },
    {
     "data": {
      "text/html": [
       "\n",
       "\n",
       "\n",
       "\n",
       "\n",
       "\n",
       "  <div class=\"bk-root\" id=\"0a52c14d-73c2-4351-b226-32dad008a229\" data-root-id=\"1002\"></div>\n"
      ]
     },
     "metadata": {},
     "output_type": "display_data"
    },
    {
     "data": {
      "application/javascript": [
       "(function(root) {\n",
       "  function embed_document(root) {\n",
       "    \n",
       "  var docs_json = {\"9d278dea-b902-4a48-a746-b5d16560229f\":{\"roots\":{\"references\":[{\"attributes\":{\"below\":[{\"id\":\"1011\"}],\"center\":[{\"id\":\"1014\"},{\"id\":\"1018\"}],\"left\":[{\"id\":\"1015\"}],\"renderers\":[{\"id\":\"1036\"},{\"id\":\"1041\"}],\"title\":{\"id\":\"1043\"},\"toolbar\":{\"id\":\"1026\"},\"x_range\":{\"id\":\"1003\"},\"x_scale\":{\"id\":\"1007\"},\"y_range\":{\"id\":\"1005\"},\"y_scale\":{\"id\":\"1009\"}},\"id\":\"1002\",\"subtype\":\"Figure\",\"type\":\"Plot\"},{\"attributes\":{\"mantissas\":[1,2,5],\"max_interval\":500.0,\"num_minor_ticks\":0},\"id\":\"1049\",\"type\":\"AdaptiveTicker\"},{\"attributes\":{},\"id\":\"1016\",\"type\":\"BasicTicker\"},{\"attributes\":{\"data\":{\"x\":[1605571200000.0,1605657600000.0,1605744000000.0,1605830400000.0,1605916800000.0,1606003200000.0,1606089600000.0],\"y\":[5267.857142857145,5163.714285714288,5059.57142857143,4955.4285714285725,4851.285714285716,4747.142857142859,4643.000000000001]},\"selected\":{\"id\":\"1063\"},\"selection_policy\":{\"id\":\"1064\"}},\"id\":\"1038\",\"type\":\"ColumnDataSource\"},{\"attributes\":{\"months\":[0,1,2,3,4,5,6,7,8,9,10,11]},\"id\":\"1056\",\"type\":\"MonthsTicker\"},{\"attributes\":{\"axis\":{\"id\":\"1015\"},\"dimension\":1,\"ticker\":null},\"id\":\"1018\",\"type\":\"Grid\"},{\"attributes\":{\"line_alpha\":0.1,\"line_color\":\"#1f77b4\",\"x\":{\"field\":\"x\"},\"y\":{\"field\":\"y\"}},\"id\":\"1040\",\"type\":\"Line\"},{\"attributes\":{\"days\":[1,8,15,22]},\"id\":\"1054\",\"type\":\"DaysTicker\"},{\"attributes\":{},\"id\":\"1063\",\"type\":\"Selection\"},{\"attributes\":{\"days\":[1,4,7,10,13,16,19,22,25,28]},\"id\":\"1053\",\"type\":\"DaysTicker\"},{\"attributes\":{\"data_source\":{\"id\":\"1038\"},\"glyph\":{\"id\":\"1039\"},\"hover_glyph\":null,\"muted_glyph\":null,\"nonselection_glyph\":{\"id\":\"1040\"},\"selection_glyph\":null,\"view\":{\"id\":\"1042\"}},\"id\":\"1041\",\"type\":\"GlyphRenderer\"},{\"attributes\":{\"line_alpha\":0.1,\"line_color\":\"#1f77b4\",\"x\":{\"field\":\"x\"},\"y\":{\"field\":\"y\"}},\"id\":\"1035\",\"type\":\"Line\"},{\"attributes\":{\"source\":{\"id\":\"1038\"}},\"id\":\"1042\",\"type\":\"CDSView\"},{\"attributes\":{\"line_color\":\"#1f77b4\",\"x\":{\"field\":\"x\"},\"y\":{\"field\":\"y\"}},\"id\":\"1039\",\"type\":\"Line\"},{\"attributes\":{},\"id\":\"1019\",\"type\":\"PanTool\"},{\"attributes\":{},\"id\":\"1020\",\"type\":\"WheelZoomTool\"},{\"attributes\":{\"overlay\":{\"id\":\"1025\"}},\"id\":\"1021\",\"type\":\"BoxZoomTool\"},{\"attributes\":{\"text\":\"\"},\"id\":\"1043\",\"type\":\"Title\"},{\"attributes\":{},\"id\":\"1003\",\"type\":\"DataRange1d\"},{\"attributes\":{},\"id\":\"1022\",\"type\":\"SaveTool\"},{\"attributes\":{\"months\":[0,2,4,6,8,10]},\"id\":\"1057\",\"type\":\"MonthsTicker\"},{\"attributes\":{},\"id\":\"1045\",\"type\":\"DatetimeTickFormatter\"},{\"attributes\":{},\"id\":\"1023\",\"type\":\"ResetTool\"},{\"attributes\":{},\"id\":\"1060\",\"type\":\"YearsTicker\"},{\"attributes\":{},\"id\":\"1047\",\"type\":\"BasicTickFormatter\"},{\"attributes\":{\"data\":{\"x\":[1605571200000.0,1605657600000.0,1605744000000.0,1605830400000.0,1605916800000.0,1606003200000.0,1606089600000.0],\"y\":[4330,5004,6036,5840,5120,4076,4282]},\"selected\":{\"id\":\"1061\"},\"selection_policy\":{\"id\":\"1062\"}},\"id\":\"1033\",\"type\":\"ColumnDataSource\"},{\"attributes\":{},\"id\":\"1024\",\"type\":\"HelpTool\"},{\"attributes\":{},\"id\":\"1064\",\"type\":\"UnionRenderers\"},{\"attributes\":{},\"id\":\"1005\",\"type\":\"DataRange1d\"},{\"attributes\":{\"active_drag\":\"auto\",\"active_inspect\":\"auto\",\"active_multi\":null,\"active_scroll\":\"auto\",\"active_tap\":\"auto\",\"tools\":[{\"id\":\"1019\"},{\"id\":\"1020\"},{\"id\":\"1021\"},{\"id\":\"1022\"},{\"id\":\"1023\"},{\"id\":\"1024\"}]},\"id\":\"1026\",\"type\":\"Toolbar\"},{\"attributes\":{\"months\":[0,4,8]},\"id\":\"1058\",\"type\":\"MonthsTicker\"},{\"attributes\":{},\"id\":\"1007\",\"type\":\"LinearScale\"},{\"attributes\":{\"months\":[0,6]},\"id\":\"1059\",\"type\":\"MonthsTicker\"},{\"attributes\":{},\"id\":\"1009\",\"type\":\"LinearScale\"},{\"attributes\":{},\"id\":\"1062\",\"type\":\"UnionRenderers\"},{\"attributes\":{},\"id\":\"1061\",\"type\":\"Selection\"},{\"attributes\":{\"formatter\":{\"id\":\"1045\"},\"ticker\":{\"id\":\"1012\"}},\"id\":\"1011\",\"type\":\"DatetimeAxis\"},{\"attributes\":{\"days\":[1,15]},\"id\":\"1055\",\"type\":\"DaysTicker\"},{\"attributes\":{\"base\":24,\"mantissas\":[1,2,4,6,8,12],\"max_interval\":43200000.0,\"min_interval\":3600000.0,\"num_minor_ticks\":0},\"id\":\"1051\",\"type\":\"AdaptiveTicker\"},{\"attributes\":{\"num_minor_ticks\":5,\"tickers\":[{\"id\":\"1049\"},{\"id\":\"1050\"},{\"id\":\"1051\"},{\"id\":\"1052\"},{\"id\":\"1053\"},{\"id\":\"1054\"},{\"id\":\"1055\"},{\"id\":\"1056\"},{\"id\":\"1057\"},{\"id\":\"1058\"},{\"id\":\"1059\"},{\"id\":\"1060\"}]},\"id\":\"1012\",\"type\":\"DatetimeTicker\"},{\"attributes\":{\"bottom_units\":\"screen\",\"fill_alpha\":0.5,\"fill_color\":\"lightgrey\",\"left_units\":\"screen\",\"level\":\"overlay\",\"line_alpha\":1.0,\"line_color\":\"black\",\"line_dash\":[4,4],\"line_width\":2,\"render_mode\":\"css\",\"right_units\":\"screen\",\"top_units\":\"screen\"},\"id\":\"1025\",\"type\":\"BoxAnnotation\"},{\"attributes\":{\"data_source\":{\"id\":\"1033\"},\"glyph\":{\"id\":\"1034\"},\"hover_glyph\":null,\"muted_glyph\":null,\"nonselection_glyph\":{\"id\":\"1035\"},\"selection_glyph\":null,\"view\":{\"id\":\"1037\"}},\"id\":\"1036\",\"type\":\"GlyphRenderer\"},{\"attributes\":{\"axis\":{\"id\":\"1011\"},\"ticker\":null},\"id\":\"1014\",\"type\":\"Grid\"},{\"attributes\":{\"base\":60,\"mantissas\":[1,2,5,10,15,20,30],\"max_interval\":1800000.0,\"min_interval\":1000.0,\"num_minor_ticks\":0},\"id\":\"1050\",\"type\":\"AdaptiveTicker\"},{\"attributes\":{\"source\":{\"id\":\"1033\"}},\"id\":\"1037\",\"type\":\"CDSView\"},{\"attributes\":{\"formatter\":{\"id\":\"1047\"},\"ticker\":{\"id\":\"1016\"}},\"id\":\"1015\",\"type\":\"LinearAxis\"},{\"attributes\":{\"line_color\":\"#1f77b4\",\"x\":{\"field\":\"x\"},\"y\":{\"field\":\"y\"}},\"id\":\"1034\",\"type\":\"Line\"},{\"attributes\":{\"days\":[1,2,3,4,5,6,7,8,9,10,11,12,13,14,15,16,17,18,19,20,21,22,23,24,25,26,27,28,29,30,31]},\"id\":\"1052\",\"type\":\"DaysTicker\"}],\"root_ids\":[\"1002\"]},\"title\":\"Bokeh Application\",\"version\":\"2.0.2\"}};\n",
       "  var render_items = [{\"docid\":\"9d278dea-b902-4a48-a746-b5d16560229f\",\"root_ids\":[\"1002\"],\"roots\":{\"1002\":\"0a52c14d-73c2-4351-b226-32dad008a229\"}}];\n",
       "  root.Bokeh.embed.embed_items_notebook(docs_json, render_items);\n",
       "\n",
       "  }\n",
       "  if (root.Bokeh !== undefined) {\n",
       "    embed_document(root);\n",
       "  } else {\n",
       "    var attempts = 0;\n",
       "    var timer = setInterval(function(root) {\n",
       "      if (root.Bokeh !== undefined) {\n",
       "        clearInterval(timer);\n",
       "        embed_document(root);\n",
       "      } else {\n",
       "        attempts++;\n",
       "        if (attempts > 100) {\n",
       "          clearInterval(timer);\n",
       "          console.log(\"Bokeh: ERROR: Unable to run BokehJS code because BokehJS library is missing\");\n",
       "        }\n",
       "      }\n",
       "    }, 10, root)\n",
       "  }\n",
       "})(window);"
      ],
      "application/vnd.bokehjs_exec.v0+json": ""
     },
     "metadata": {
      "application/vnd.bokehjs_exec.v0+json": {
       "id": "1002"
      }
     },
     "output_type": "display_data"
    }
   ],
   "source": [
    "def test_slope(df, state, leng, key, window = None):\n",
    "    #print('p value is {p}'.format(p = p))\n",
    "    df_s = df[df['state'] == state]\n",
    "    df_s = df_s.sort_values(by = ['date'])\n",
    "    if window:\n",
    "        y = df_s['cases'].rolling(window).mean().tolist()[-1 * leng:]\n",
    "    else:\n",
    "        y = df_s['cases'].tolist()[-1 * leng:]\n",
    "\n",
    "    inter, slope, p = get_linear(y)\n",
    "    print('p value is {p}'.format(p = p))\n",
    "    x = df_s['date'].tolist()[-1 * leng:]\n",
    "    y_hat = [x * slope + inter for x in range(leng)]\n",
    "    p = figure(x_axis_type = 'datetime')\n",
    "    p.line(x=x, y = y)\n",
    "    p.line(x = x[-1 * leng:], y = y_hat)\n",
    "    return p\n",
    "show(test_slope(get_data(), 'Colorado', 7, 'cases', window = None))\n",
    "    "
   ]
  },
  {
   "cell_type": "markdown",
   "metadata": {},
   "source": [
    "Metrics:\n",
    "* if the state is way down from its peak\n",
    "* if the state has a low # cases/million\n",
    "* if the state has a longer declining slope (how to measure?)\n",
    "* if the slope is increasing but not significant ? "
   ]
  },
  {
   "cell_type": "code",
   "execution_count": 10,
   "metadata": {},
   "outputs": [],
   "source": [
    "def all_states_info(df, leng):\n",
    "    final = []\n",
    "    for state in set(df['state'].tolist()):\n",
    "        change, p = get_rate(df, state, leng, 'cases')\n",
    "        final.append((state, change))\n",
    "    return final"
   ]
  },
  {
   "cell_type": "code",
   "execution_count": 11,
   "metadata": {},
   "outputs": [],
   "source": [
    "def make_bar(labels_neg, labels_pos, y_neg, y_pos, labels_neutral = None, y_neutral = None, plot_height = 450, \n",
    "             plot_width = 450, title = None):\n",
    "    x_range = []\n",
    "    if labels_neutral:\n",
    "        x_range = labels_neg + labels_neutral + labels_pos\n",
    "    else:\n",
    "        x_range = labels_neg  + labels_pos    \n",
    "    p = figure(x_range = x_range , plot_height = plot_height, \n",
    "               plot_width = plot_width, title = title)\n",
    "    p.vbar(x=labels_neg, top=y_neg , line_width = 5, width = .9, color = 'green')\n",
    "    if labels_neutral:\n",
    "        p.vbar(x=labels_neutral, top=y_neutral , line_width = 5, width = .9, color = 'yellow')\n",
    "    p.vbar(x=labels_pos, top=y_pos , line_width = 5, width = .9, color = 'red')\n",
    "    p.xaxis.major_label_orientation = \"vertical\"\n",
    "    p.xgrid.grid_line_color = None\n",
    "    #p.y_range = Range1d(1, max(y_pos))\n",
    "    return p"
   ]
  },
  {
   "cell_type": "code",
   "execution_count": 12,
   "metadata": {},
   "outputs": [
    {
     "data": {
      "text/html": [
       "\n",
       "\n",
       "\n",
       "\n",
       "\n",
       "\n",
       "  <div class=\"bk-root\" id=\"6c1aabfa-2055-47fd-8da7-96794c12aa65\" data-root-id=\"1204\"></div>\n"
      ]
     },
     "metadata": {},
     "output_type": "display_data"
    },
    {
     "data": {
      "application/javascript": [
       "(function(root) {\n",
       "  function embed_document(root) {\n",
       "    \n",
       "  var docs_json = {\"18b2f091-a822-43ba-8b1c-39d20c8ce765\":{\"roots\":{\"references\":[{\"attributes\":{\"below\":[{\"id\":\"1215\"}],\"center\":[{\"id\":\"1217\"},{\"id\":\"1221\"}],\"left\":[{\"id\":\"1218\"}],\"plot_height\":450,\"plot_width\":800,\"renderers\":[{\"id\":\"1239\"},{\"id\":\"1244\"},{\"id\":\"1249\"}],\"title\":{\"id\":\"1205\"},\"toolbar\":{\"id\":\"1229\"},\"x_range\":{\"id\":\"1207\"},\"x_scale\":{\"id\":\"1211\"},\"y_range\":{\"id\":\"1209\"},\"y_scale\":{\"id\":\"1213\"}},\"id\":\"1204\",\"subtype\":\"Figure\",\"type\":\"Plot\"},{\"attributes\":{},\"id\":\"1226\",\"type\":\"ResetTool\"},{\"attributes\":{\"source\":{\"id\":\"1246\"}},\"id\":\"1250\",\"type\":\"CDSView\"},{\"attributes\":{},\"id\":\"1227\",\"type\":\"HelpTool\"},{\"attributes\":{},\"id\":\"1281\",\"type\":\"Selection\"},{\"attributes\":{\"active_drag\":\"auto\",\"active_inspect\":\"auto\",\"active_multi\":null,\"active_scroll\":\"auto\",\"active_tap\":\"auto\",\"tools\":[{\"id\":\"1222\"},{\"id\":\"1223\"},{\"id\":\"1224\"},{\"id\":\"1225\"},{\"id\":\"1226\"},{\"id\":\"1227\"}]},\"id\":\"1229\",\"type\":\"Toolbar\"},{\"attributes\":{},\"id\":\"1209\",\"type\":\"DataRange1d\"},{\"attributes\":{},\"id\":\"1282\",\"type\":\"UnionRenderers\"},{\"attributes\":{},\"id\":\"1211\",\"type\":\"CategoricalScale\"},{\"attributes\":{},\"id\":\"1283\",\"type\":\"Selection\"},{\"attributes\":{},\"id\":\"1213\",\"type\":\"LinearScale\"},{\"attributes\":{},\"id\":\"1284\",\"type\":\"UnionRenderers\"},{\"attributes\":{\"formatter\":{\"id\":\"1275\"},\"major_label_orientation\":\"vertical\",\"ticker\":{\"id\":\"1216\"}},\"id\":\"1215\",\"type\":\"CategoricalAxis\"},{\"attributes\":{},\"id\":\"1277\",\"type\":\"BasicTickFormatter\"},{\"attributes\":{\"bottom_units\":\"screen\",\"fill_alpha\":0.5,\"fill_color\":\"lightgrey\",\"left_units\":\"screen\",\"level\":\"overlay\",\"line_alpha\":1.0,\"line_color\":\"black\",\"line_dash\":[4,4],\"line_width\":2,\"render_mode\":\"css\",\"right_units\":\"screen\",\"top_units\":\"screen\"},\"id\":\"1228\",\"type\":\"BoxAnnotation\"},{\"attributes\":{},\"id\":\"1216\",\"type\":\"CategoricalTicker\"},{\"attributes\":{\"axis\":{\"id\":\"1215\"},\"grid_line_color\":null,\"ticker\":null},\"id\":\"1217\",\"type\":\"Grid\"},{\"attributes\":{\"fill_color\":{\"value\":\"green\"},\"line_color\":{\"value\":\"green\"},\"line_width\":{\"value\":5},\"top\":{\"field\":\"top\"},\"width\":{\"value\":0.9},\"x\":{\"field\":\"x\"}},\"id\":\"1237\",\"type\":\"VBar\"},{\"attributes\":{\"text\":\"7 -day\"},\"id\":\"1205\",\"type\":\"Title\"},{\"attributes\":{},\"id\":\"1279\",\"type\":\"Selection\"},{\"attributes\":{\"formatter\":{\"id\":\"1277\"},\"ticker\":{\"id\":\"1219\"}},\"id\":\"1218\",\"type\":\"LinearAxis\"},{\"attributes\":{\"data_source\":{\"id\":\"1236\"},\"glyph\":{\"id\":\"1237\"},\"hover_glyph\":null,\"muted_glyph\":null,\"nonselection_glyph\":{\"id\":\"1238\"},\"selection_glyph\":null,\"view\":{\"id\":\"1240\"}},\"id\":\"1239\",\"type\":\"GlyphRenderer\"},{\"attributes\":{},\"id\":\"1280\",\"type\":\"UnionRenderers\"},{\"attributes\":{\"factors\":[\"South Dakota\",\"Tennessee\",\"Iowa\",\"Nebraska\",\"North Dakota\",\"Illinois\",\"Wisconsin\",\"Alaska\",\"Missouri\",\"Minnesota\",\"Michigan\",\"Arkansas\",\"Massachusetts\",\"Alabama\",\"Kansas\",\"Montana\",\"Indiana\",\"Colorado\",\"Idaho\",\"South Carolina\",\"Texas\",\"Rhode Island\",\"Utah\",\"New Jersey\",\"Connecticut\",\"Oklahoma\",\"Ohio\",\"Maine\",\"Mississippi\",\"Puerto Rico\",\"West Virginia\",\"Hawaii\",\"Vermont\",\"Washington\",\"Wyoming\",\"North Carolina\",\"New York\",\"District of Columbia\",\"Pennsylvania\",\"Kentucky\",\"Nevada\",\"New Hampshire\",\"Florida\",\"Delaware\",\"Maryland\",\"Georgia\",\"Oregon\",\"Louisiana\",\"California\",\"Virginia\",\"Arizona\",\"New Mexico\",\"Virgin Islands\"]},\"id\":\"1207\",\"type\":\"FactorRange\"},{\"attributes\":{},\"id\":\"1219\",\"type\":\"BasicTicker\"},{\"attributes\":{\"data\":{\"top\":[0.7595063710243803,0.8318982779335202,0.8486879779027857,0.8922118380062306,0.9028425965210013,0.9161448344386164,0.9348259119392455,0.9453832965956404,0.9508923329810967,0.9837774701505451],\"x\":[\"South Dakota\",\"Tennessee\",\"Iowa\",\"Nebraska\",\"North Dakota\",\"Illinois\",\"Wisconsin\",\"Alaska\",\"Missouri\",\"Minnesota\"]},\"selected\":{\"id\":\"1279\"},\"selection_policy\":{\"id\":\"1280\"}},\"id\":\"1236\",\"type\":\"ColumnDataSource\"},{\"attributes\":{\"axis\":{\"id\":\"1218\"},\"dimension\":1,\"ticker\":null},\"id\":\"1221\",\"type\":\"Grid\"},{\"attributes\":{\"fill_alpha\":{\"value\":0.1},\"fill_color\":{\"value\":\"green\"},\"line_alpha\":{\"value\":0.1},\"line_color\":{\"value\":\"green\"},\"line_width\":{\"value\":5},\"top\":{\"field\":\"top\"},\"width\":{\"value\":0.9},\"x\":{\"field\":\"x\"}},\"id\":\"1238\",\"type\":\"VBar\"},{\"attributes\":{},\"id\":\"1275\",\"type\":\"CategoricalTickFormatter\"},{\"attributes\":{\"data_source\":{\"id\":\"1241\"},\"glyph\":{\"id\":\"1242\"},\"hover_glyph\":null,\"muted_glyph\":null,\"nonselection_glyph\":{\"id\":\"1243\"},\"selection_glyph\":null,\"view\":{\"id\":\"1245\"}},\"id\":\"1244\",\"type\":\"GlyphRenderer\"},{\"attributes\":{\"fill_color\":{\"value\":\"yellow\"},\"line_color\":{\"value\":\"yellow\"},\"line_width\":{\"value\":5},\"top\":{\"field\":\"top\"},\"width\":{\"value\":0.9},\"x\":{\"field\":\"x\"}},\"id\":\"1242\",\"type\":\"VBar\"},{\"attributes\":{\"source\":{\"id\":\"1236\"}},\"id\":\"1240\",\"type\":\"CDSView\"},{\"attributes\":{\"source\":{\"id\":\"1241\"}},\"id\":\"1245\",\"type\":\"CDSView\"},{\"attributes\":{\"data\":{\"top\":[1.0252544289483603,1.0264366819797175,1.0266485998193315,1.032904347826087,1.0378885509562348,1.043091569585369,1.0465121778198156,1.0466161783785415,1.054715544435984,1.0693330725601409,1.0908402222163154],\"x\":[\"Michigan\",\"Arkansas\",\"Massachusetts\",\"Alabama\",\"Kansas\",\"Montana\",\"Indiana\",\"Colorado\",\"Idaho\",\"South Carolina\",\"Texas\"]},\"selected\":{\"id\":\"1281\"},\"selection_policy\":{\"id\":\"1282\"}},\"id\":\"1241\",\"type\":\"ColumnDataSource\"},{\"attributes\":{\"fill_alpha\":{\"value\":0.1},\"fill_color\":{\"value\":\"yellow\"},\"line_alpha\":{\"value\":0.1},\"line_color\":{\"value\":\"yellow\"},\"line_width\":{\"value\":5},\"top\":{\"field\":\"top\"},\"width\":{\"value\":0.9},\"x\":{\"field\":\"x\"}},\"id\":\"1243\",\"type\":\"VBar\"},{\"attributes\":{\"data\":{\"top\":[1.1244504565437943,1.130553297307637,1.1314359325308965,1.1383131714744945,1.1421041191174874,1.1498313157372495,1.161106590724166,1.167424931756142,1.1688838782412627,1.176657824933687,1.1822827938671208,1.1905564924114673,1.1917105825381,1.2035500675284583,1.2053045672720075,1.219278484627344,1.254861821903787,1.2662313905383729,1.2682207140749484,1.2799964022306172,1.2931330472103006,1.3053540422900365,1.3136998254799301,1.3177539494147499,1.327242977911099,1.3384686488984747,1.3776846068280997,1.4407888345584663,1.4696236559139786,1.5731567168692917,2.0397163120567376,2.5172413793103448],\"x\":[\"Rhode Island\",\"Utah\",\"New Jersey\",\"Connecticut\",\"Oklahoma\",\"Ohio\",\"Maine\",\"Mississippi\",\"Puerto Rico\",\"West Virginia\",\"Hawaii\",\"Vermont\",\"Washington\",\"Wyoming\",\"North Carolina\",\"New York\",\"District of Columbia\",\"Pennsylvania\",\"Kentucky\",\"Nevada\",\"New Hampshire\",\"Florida\",\"Delaware\",\"Maryland\",\"Georgia\",\"Oregon\",\"Louisiana\",\"California\",\"Virginia\",\"Arizona\",\"New Mexico\",\"Virgin Islands\"]},\"selected\":{\"id\":\"1283\"},\"selection_policy\":{\"id\":\"1284\"}},\"id\":\"1246\",\"type\":\"ColumnDataSource\"},{\"attributes\":{},\"id\":\"1222\",\"type\":\"PanTool\"},{\"attributes\":{},\"id\":\"1223\",\"type\":\"WheelZoomTool\"},{\"attributes\":{\"fill_alpha\":{\"value\":0.1},\"fill_color\":{\"value\":\"red\"},\"line_alpha\":{\"value\":0.1},\"line_color\":{\"value\":\"red\"},\"line_width\":{\"value\":5},\"top\":{\"field\":\"top\"},\"width\":{\"value\":0.9},\"x\":{\"field\":\"x\"}},\"id\":\"1248\",\"type\":\"VBar\"},{\"attributes\":{\"overlay\":{\"id\":\"1228\"}},\"id\":\"1224\",\"type\":\"BoxZoomTool\"},{\"attributes\":{\"fill_color\":{\"value\":\"red\"},\"line_color\":{\"value\":\"red\"},\"line_width\":{\"value\":5},\"top\":{\"field\":\"top\"},\"width\":{\"value\":0.9},\"x\":{\"field\":\"x\"}},\"id\":\"1247\",\"type\":\"VBar\"},{\"attributes\":{},\"id\":\"1225\",\"type\":\"SaveTool\"},{\"attributes\":{\"data_source\":{\"id\":\"1246\"},\"glyph\":{\"id\":\"1247\"},\"hover_glyph\":null,\"muted_glyph\":null,\"nonselection_glyph\":{\"id\":\"1248\"},\"selection_glyph\":null,\"view\":{\"id\":\"1250\"}},\"id\":\"1249\",\"type\":\"GlyphRenderer\"}],\"root_ids\":[\"1204\"]},\"title\":\"Bokeh Application\",\"version\":\"2.0.2\"}};\n",
       "  var render_items = [{\"docid\":\"18b2f091-a822-43ba-8b1c-39d20c8ce765\",\"root_ids\":[\"1204\"],\"roots\":{\"1204\":\"6c1aabfa-2055-47fd-8da7-96794c12aa65\"}}];\n",
       "  root.Bokeh.embed.embed_items_notebook(docs_json, render_items);\n",
       "\n",
       "  }\n",
       "  if (root.Bokeh !== undefined) {\n",
       "    embed_document(root);\n",
       "  } else {\n",
       "    var attempts = 0;\n",
       "    var timer = setInterval(function(root) {\n",
       "      if (root.Bokeh !== undefined) {\n",
       "        clearInterval(timer);\n",
       "        embed_document(root);\n",
       "      } else {\n",
       "        attempts++;\n",
       "        if (attempts > 100) {\n",
       "          clearInterval(timer);\n",
       "          console.log(\"Bokeh: ERROR: Unable to run BokehJS code because BokehJS library is missing\");\n",
       "        }\n",
       "      }\n",
       "    }, 10, root)\n",
       "  }\n",
       "})(window);"
      ],
      "application/vnd.bokehjs_exec.v0+json": ""
     },
     "metadata": {
      "application/vnd.bokehjs_exec.v0+json": {
       "id": "1204"
      }
     },
     "output_type": "display_data"
    },
    {
     "data": {
      "text/html": [
       "\n",
       "\n",
       "\n",
       "\n",
       "\n",
       "\n",
       "  <div class=\"bk-root\" id=\"8d4ad57b-bbd9-4d86-905d-7025fb4eb8d0\" data-root-id=\"1358\"></div>\n"
      ]
     },
     "metadata": {},
     "output_type": "display_data"
    },
    {
     "data": {
      "application/javascript": [
       "(function(root) {\n",
       "  function embed_document(root) {\n",
       "    \n",
       "  var docs_json = {\"cf816302-e9c5-488a-9da4-065ea2729fe4\":{\"roots\":{\"references\":[{\"attributes\":{\"below\":[{\"id\":\"1369\"}],\"center\":[{\"id\":\"1371\"},{\"id\":\"1375\"}],\"left\":[{\"id\":\"1372\"}],\"plot_height\":450,\"plot_width\":800,\"renderers\":[{\"id\":\"1393\"},{\"id\":\"1398\"},{\"id\":\"1403\"}],\"title\":{\"id\":\"1359\"},\"toolbar\":{\"id\":\"1383\"},\"x_range\":{\"id\":\"1361\"},\"x_scale\":{\"id\":\"1365\"},\"y_range\":{\"id\":\"1363\"},\"y_scale\":{\"id\":\"1367\"}},\"id\":\"1358\",\"subtype\":\"Figure\",\"type\":\"Plot\"},{\"attributes\":{\"formatter\":{\"id\":\"1441\"},\"major_label_orientation\":\"vertical\",\"ticker\":{\"id\":\"1370\"}},\"id\":\"1369\",\"type\":\"CategoricalAxis\"},{\"attributes\":{\"bottom_units\":\"screen\",\"fill_alpha\":0.5,\"fill_color\":\"lightgrey\",\"left_units\":\"screen\",\"level\":\"overlay\",\"line_alpha\":1.0,\"line_color\":\"black\",\"line_dash\":[4,4],\"line_width\":2,\"render_mode\":\"css\",\"right_units\":\"screen\",\"top_units\":\"screen\"},\"id\":\"1382\",\"type\":\"BoxAnnotation\"},{\"attributes\":{},\"id\":\"1370\",\"type\":\"CategoricalTicker\"},{\"attributes\":{\"axis\":{\"id\":\"1369\"},\"grid_line_color\":null,\"ticker\":null},\"id\":\"1371\",\"type\":\"Grid\"},{\"attributes\":{\"fill_alpha\":{\"value\":0.1},\"fill_color\":{\"value\":\"green\"},\"line_alpha\":{\"value\":0.1},\"line_color\":{\"value\":\"green\"},\"line_width\":{\"value\":5},\"top\":{\"field\":\"top\"},\"width\":{\"value\":0.9},\"x\":{\"field\":\"x\"}},\"id\":\"1392\",\"type\":\"VBar\"},{\"attributes\":{\"data\":{\"top\":[1.0118483412322274,1.0419933786373932,1.0583584791792395,1.0615826067762941],\"x\":[\"Hawaii\",\"North Dakota\",\"South Dakota\",\"Puerto Rico\"]},\"selected\":{\"id\":\"1447\"},\"selection_policy\":{\"id\":\"1448\"}},\"id\":\"1395\",\"type\":\"ColumnDataSource\"},{\"attributes\":{\"formatter\":{\"id\":\"1443\"},\"ticker\":{\"id\":\"1373\"}},\"id\":\"1372\",\"type\":\"LinearAxis\"},{\"attributes\":{},\"id\":\"1447\",\"type\":\"Selection\"},{\"attributes\":{\"source\":{\"id\":\"1390\"}},\"id\":\"1394\",\"type\":\"CDSView\"},{\"attributes\":{},\"id\":\"1373\",\"type\":\"BasicTicker\"},{\"attributes\":{},\"id\":\"1450\",\"type\":\"UnionRenderers\"},{\"attributes\":{\"axis\":{\"id\":\"1372\"},\"dimension\":1,\"ticker\":null},\"id\":\"1375\",\"type\":\"Grid\"},{\"attributes\":{},\"id\":\"1449\",\"type\":\"Selection\"},{\"attributes\":{},\"id\":\"1448\",\"type\":\"UnionRenderers\"},{\"attributes\":{\"fill_color\":{\"value\":\"green\"},\"line_color\":{\"value\":\"green\"},\"line_width\":{\"value\":5},\"top\":{\"field\":\"top\"},\"width\":{\"value\":0.9},\"x\":{\"field\":\"x\"}},\"id\":\"1391\",\"type\":\"VBar\"},{\"attributes\":{\"data_source\":{\"id\":\"1395\"},\"glyph\":{\"id\":\"1396\"},\"hover_glyph\":null,\"muted_glyph\":null,\"nonselection_glyph\":{\"id\":\"1397\"},\"selection_glyph\":null,\"view\":{\"id\":\"1399\"}},\"id\":\"1398\",\"type\":\"GlyphRenderer\"},{\"attributes\":{\"data\":{\"top\":[],\"x\":[]},\"selected\":{\"id\":\"1445\"},\"selection_policy\":{\"id\":\"1446\"}},\"id\":\"1390\",\"type\":\"ColumnDataSource\"},{\"attributes\":{\"fill_color\":{\"value\":\"yellow\"},\"line_color\":{\"value\":\"yellow\"},\"line_width\":{\"value\":5},\"top\":{\"field\":\"top\"},\"width\":{\"value\":0.9},\"x\":{\"field\":\"x\"}},\"id\":\"1396\",\"type\":\"VBar\"},{\"attributes\":{\"source\":{\"id\":\"1395\"}},\"id\":\"1399\",\"type\":\"CDSView\"},{\"attributes\":{},\"id\":\"1446\",\"type\":\"UnionRenderers\"},{\"attributes\":{\"fill_alpha\":{\"value\":0.1},\"fill_color\":{\"value\":\"yellow\"},\"line_alpha\":{\"value\":0.1},\"line_color\":{\"value\":\"yellow\"},\"line_width\":{\"value\":5},\"top\":{\"field\":\"top\"},\"width\":{\"value\":0.9},\"x\":{\"field\":\"x\"}},\"id\":\"1397\",\"type\":\"VBar\"},{\"attributes\":{},\"id\":\"1376\",\"type\":\"PanTool\"},{\"attributes\":{\"data\":{\"top\":[1.2545002018027713,1.2849316351376663,1.3197093551316985,1.352728707582104,1.3533821775430228,1.4135898769284105,1.4211551376762928,1.4353192375794186,1.4392004391181046,1.4430397368856094,1.4430981230696127,1.4535563292713254,1.4572627163083376,1.4728300510576222,1.4841020926837183,1.4959303813667775,1.505697650710224,1.515157488075058,1.5255085624396696,1.5477505645301373,1.5924672708962737,1.6254589963280295,1.6907223370906423,1.7134128878281625,1.7278431372549021,1.7303170858490944,1.7445121250430986,1.7447190319934371,1.7482014388489209,1.7821654712172563,1.7894736842105263,1.7987115246957766,1.8559200275208936,1.8701002734731083,1.872102963525836,1.8914247231367853,1.9036308529721038,1.9354014598540146,1.9541752933057281,1.9624536693847294,1.968064153066967,1.9788831448769706,1.9830326760825991,2.033058454353061,2.0928890737082857,2.09666337501217,2.3210251954821897,2.903657262277952,3.912650602409639],\"x\":[\"Wisconsin\",\"Iowa\",\"Idaho\",\"North Carolina\",\"Alaska\",\"Montana\",\"South Carolina\",\"Virginia\",\"Texas\",\"Illinois\",\"Nebraska\",\"Arkansas\",\"Mississippi\",\"Florida\",\"Tennessee\",\"Alabama\",\"Missouri\",\"Kentucky\",\"Georgia\",\"Utah\",\"Kansas\",\"Maine\",\"Nevada\",\"Massachusetts\",\"District of Columbia\",\"Indiana\",\"Oregon\",\"Michigan\",\"Wyoming\",\"Colorado\",\"Virgin Islands\",\"Rhode Island\",\"Minnesota\",\"West Virginia\",\"Oklahoma\",\"Connecticut\",\"Washington\",\"Delaware\",\"Maryland\",\"New Jersey\",\"New York\",\"Ohio\",\"Arizona\",\"New Mexico\",\"Pennsylvania\",\"California\",\"New Hampshire\",\"Louisiana\",\"Vermont\"]},\"selected\":{\"id\":\"1449\"},\"selection_policy\":{\"id\":\"1450\"}},\"id\":\"1400\",\"type\":\"ColumnDataSource\"},{\"attributes\":{},\"id\":\"1445\",\"type\":\"Selection\"},{\"attributes\":{},\"id\":\"1377\",\"type\":\"WheelZoomTool\"},{\"attributes\":{\"overlay\":{\"id\":\"1382\"}},\"id\":\"1378\",\"type\":\"BoxZoomTool\"},{\"attributes\":{},\"id\":\"1379\",\"type\":\"SaveTool\"},{\"attributes\":{\"fill_color\":{\"value\":\"red\"},\"line_color\":{\"value\":\"red\"},\"line_width\":{\"value\":5},\"top\":{\"field\":\"top\"},\"width\":{\"value\":0.9},\"x\":{\"field\":\"x\"}},\"id\":\"1401\",\"type\":\"VBar\"},{\"attributes\":{},\"id\":\"1441\",\"type\":\"CategoricalTickFormatter\"},{\"attributes\":{},\"id\":\"1380\",\"type\":\"ResetTool\"},{\"attributes\":{\"fill_alpha\":{\"value\":0.1},\"fill_color\":{\"value\":\"red\"},\"line_alpha\":{\"value\":0.1},\"line_color\":{\"value\":\"red\"},\"line_width\":{\"value\":5},\"top\":{\"field\":\"top\"},\"width\":{\"value\":0.9},\"x\":{\"field\":\"x\"}},\"id\":\"1402\",\"type\":\"VBar\"},{\"attributes\":{\"text\":\"14 -day\"},\"id\":\"1359\",\"type\":\"Title\"},{\"attributes\":{},\"id\":\"1381\",\"type\":\"HelpTool\"},{\"attributes\":{\"factors\":[\"Hawaii\",\"North Dakota\",\"South Dakota\",\"Puerto Rico\",\"Wisconsin\",\"Iowa\",\"Idaho\",\"North Carolina\",\"Alaska\",\"Montana\",\"South Carolina\",\"Virginia\",\"Texas\",\"Illinois\",\"Nebraska\",\"Arkansas\",\"Mississippi\",\"Florida\",\"Tennessee\",\"Alabama\",\"Missouri\",\"Kentucky\",\"Georgia\",\"Utah\",\"Kansas\",\"Maine\",\"Nevada\",\"Massachusetts\",\"District of Columbia\",\"Indiana\",\"Oregon\",\"Michigan\",\"Wyoming\",\"Colorado\",\"Virgin Islands\",\"Rhode Island\",\"Minnesota\",\"West Virginia\",\"Oklahoma\",\"Connecticut\",\"Washington\",\"Delaware\",\"Maryland\",\"New Jersey\",\"New York\",\"Ohio\",\"Arizona\",\"New Mexico\",\"Pennsylvania\",\"California\",\"New Hampshire\",\"Louisiana\",\"Vermont\"]},\"id\":\"1361\",\"type\":\"FactorRange\"},{\"attributes\":{},\"id\":\"1443\",\"type\":\"BasicTickFormatter\"},{\"attributes\":{\"data_source\":{\"id\":\"1390\"},\"glyph\":{\"id\":\"1391\"},\"hover_glyph\":null,\"muted_glyph\":null,\"nonselection_glyph\":{\"id\":\"1392\"},\"selection_glyph\":null,\"view\":{\"id\":\"1394\"}},\"id\":\"1393\",\"type\":\"GlyphRenderer\"},{\"attributes\":{},\"id\":\"1363\",\"type\":\"DataRange1d\"},{\"attributes\":{\"active_drag\":\"auto\",\"active_inspect\":\"auto\",\"active_multi\":null,\"active_scroll\":\"auto\",\"active_tap\":\"auto\",\"tools\":[{\"id\":\"1376\"},{\"id\":\"1377\"},{\"id\":\"1378\"},{\"id\":\"1379\"},{\"id\":\"1380\"},{\"id\":\"1381\"}]},\"id\":\"1383\",\"type\":\"Toolbar\"},{\"attributes\":{},\"id\":\"1365\",\"type\":\"CategoricalScale\"},{\"attributes\":{\"source\":{\"id\":\"1400\"}},\"id\":\"1404\",\"type\":\"CDSView\"},{\"attributes\":{},\"id\":\"1367\",\"type\":\"LinearScale\"},{\"attributes\":{\"data_source\":{\"id\":\"1400\"},\"glyph\":{\"id\":\"1401\"},\"hover_glyph\":null,\"muted_glyph\":null,\"nonselection_glyph\":{\"id\":\"1402\"},\"selection_glyph\":null,\"view\":{\"id\":\"1404\"}},\"id\":\"1403\",\"type\":\"GlyphRenderer\"}],\"root_ids\":[\"1358\"]},\"title\":\"Bokeh Application\",\"version\":\"2.0.2\"}};\n",
       "  var render_items = [{\"docid\":\"cf816302-e9c5-488a-9da4-065ea2729fe4\",\"root_ids\":[\"1358\"],\"roots\":{\"1358\":\"8d4ad57b-bbd9-4d86-905d-7025fb4eb8d0\"}}];\n",
       "  root.Bokeh.embed.embed_items_notebook(docs_json, render_items);\n",
       "\n",
       "  }\n",
       "  if (root.Bokeh !== undefined) {\n",
       "    embed_document(root);\n",
       "  } else {\n",
       "    var attempts = 0;\n",
       "    var timer = setInterval(function(root) {\n",
       "      if (root.Bokeh !== undefined) {\n",
       "        clearInterval(timer);\n",
       "        embed_document(root);\n",
       "      } else {\n",
       "        attempts++;\n",
       "        if (attempts > 100) {\n",
       "          clearInterval(timer);\n",
       "          console.log(\"Bokeh: ERROR: Unable to run BokehJS code because BokehJS library is missing\");\n",
       "        }\n",
       "      }\n",
       "    }, 10, root)\n",
       "  }\n",
       "})(window);"
      ],
      "application/vnd.bokehjs_exec.v0+json": ""
     },
     "metadata": {
      "application/vnd.bokehjs_exec.v0+json": {
       "id": "1358"
      }
     },
     "output_type": "display_data"
    },
    {
     "data": {
      "text/html": [
       "\n",
       "\n",
       "\n",
       "\n",
       "\n",
       "\n",
       "  <div class=\"bk-root\" id=\"d90c9b70-5a26-44d0-b454-50af38be1b69\" data-root-id=\"1524\"></div>\n"
      ]
     },
     "metadata": {},
     "output_type": "display_data"
    },
    {
     "data": {
      "application/javascript": [
       "(function(root) {\n",
       "  function embed_document(root) {\n",
       "    \n",
       "  var docs_json = {\"43f5dd3a-54fa-419d-bcd9-a61e53228294\":{\"roots\":{\"references\":[{\"attributes\":{\"below\":[{\"id\":\"1535\"}],\"center\":[{\"id\":\"1537\"},{\"id\":\"1541\"}],\"left\":[{\"id\":\"1538\"}],\"plot_height\":450,\"plot_width\":800,\"renderers\":[{\"id\":\"1559\"},{\"id\":\"1564\"},{\"id\":\"1569\"}],\"title\":{\"id\":\"1525\"},\"toolbar\":{\"id\":\"1549\"},\"x_range\":{\"id\":\"1527\"},\"x_scale\":{\"id\":\"1531\"},\"y_range\":{\"id\":\"1529\"},\"y_scale\":{\"id\":\"1533\"}},\"id\":\"1524\",\"subtype\":\"Figure\",\"type\":\"Plot\"},{\"attributes\":{\"fill_alpha\":{\"value\":0.1},\"fill_color\":{\"value\":\"green\"},\"line_alpha\":{\"value\":0.1},\"line_color\":{\"value\":\"green\"},\"line_width\":{\"value\":5},\"top\":{\"field\":\"top\"},\"width\":{\"value\":0.9},\"x\":{\"field\":\"x\"}},\"id\":\"1558\",\"type\":\"VBar\"},{\"attributes\":{},\"id\":\"1627\",\"type\":\"Selection\"},{\"attributes\":{},\"id\":\"1533\",\"type\":\"LinearScale\"},{\"attributes\":{},\"id\":\"1628\",\"type\":\"UnionRenderers\"},{\"attributes\":{\"formatter\":{\"id\":\"1619\"},\"major_label_orientation\":\"vertical\",\"ticker\":{\"id\":\"1536\"}},\"id\":\"1535\",\"type\":\"CategoricalAxis\"},{\"attributes\":{\"bottom_units\":\"screen\",\"fill_alpha\":0.5,\"fill_color\":\"lightgrey\",\"left_units\":\"screen\",\"level\":\"overlay\",\"line_alpha\":1.0,\"line_color\":\"black\",\"line_dash\":[4,4],\"line_width\":2,\"render_mode\":\"css\",\"right_units\":\"screen\",\"top_units\":\"screen\"},\"id\":\"1548\",\"type\":\"BoxAnnotation\"},{\"attributes\":{},\"id\":\"1536\",\"type\":\"CategoricalTicker\"},{\"attributes\":{\"axis\":{\"id\":\"1535\"},\"grid_line_color\":null,\"ticker\":null},\"id\":\"1537\",\"type\":\"Grid\"},{\"attributes\":{\"data\":{\"top\":[1.0159553250897486,1.0815929691327781],\"x\":[\"Hawaii\",\"Georgia\"]},\"selected\":{\"id\":\"1625\"},\"selection_policy\":{\"id\":\"1626\"}},\"id\":\"1561\",\"type\":\"ColumnDataSource\"},{\"attributes\":{\"formatter\":{\"id\":\"1621\"},\"ticker\":{\"id\":\"1539\"}},\"id\":\"1538\",\"type\":\"LinearAxis\"},{\"attributes\":{\"source\":{\"id\":\"1556\"}},\"id\":\"1560\",\"type\":\"CDSView\"},{\"attributes\":{},\"id\":\"1539\",\"type\":\"BasicTicker\"},{\"attributes\":{\"axis\":{\"id\":\"1538\"},\"dimension\":1,\"ticker\":null},\"id\":\"1541\",\"type\":\"Grid\"},{\"attributes\":{},\"id\":\"1623\",\"type\":\"Selection\"},{\"attributes\":{\"fill_color\":{\"value\":\"green\"},\"line_color\":{\"value\":\"green\"},\"line_width\":{\"value\":5},\"top\":{\"field\":\"top\"},\"width\":{\"value\":0.9},\"x\":{\"field\":\"x\"}},\"id\":\"1557\",\"type\":\"VBar\"},{\"attributes\":{\"data_source\":{\"id\":\"1561\"},\"glyph\":{\"id\":\"1562\"},\"hover_glyph\":null,\"muted_glyph\":null,\"nonselection_glyph\":{\"id\":\"1563\"},\"selection_glyph\":null,\"view\":{\"id\":\"1565\"}},\"id\":\"1564\",\"type\":\"GlyphRenderer\"},{\"attributes\":{\"fill_color\":{\"value\":\"yellow\"},\"line_color\":{\"value\":\"yellow\"},\"line_width\":{\"value\":5},\"top\":{\"field\":\"top\"},\"width\":{\"value\":0.9},\"x\":{\"field\":\"x\"}},\"id\":\"1562\",\"type\":\"VBar\"},{\"attributes\":{\"source\":{\"id\":\"1561\"}},\"id\":\"1565\",\"type\":\"CDSView\"},{\"attributes\":{\"fill_alpha\":{\"value\":0.1},\"fill_color\":{\"value\":\"yellow\"},\"line_alpha\":{\"value\":0.1},\"line_color\":{\"value\":\"yellow\"},\"line_width\":{\"value\":5},\"top\":{\"field\":\"top\"},\"width\":{\"value\":0.9},\"x\":{\"field\":\"x\"}},\"id\":\"1563\",\"type\":\"VBar\"},{\"attributes\":{\"data\":{\"top\":[],\"x\":[]},\"selected\":{\"id\":\"1623\"},\"selection_policy\":{\"id\":\"1624\"}},\"id\":\"1556\",\"type\":\"ColumnDataSource\"},{\"attributes\":{},\"id\":\"1542\",\"type\":\"PanTool\"},{\"attributes\":{\"data\":{\"top\":[1.1888245401896518,1.4393915196039286,1.444467220752115,1.5024046168643794,1.5077151427069482,1.599116622092552,1.6775365626540562,1.6892926811646558,1.7359431492332627,1.7461870200904597,1.858197201159679,1.8778140040366402,1.8945175804032663,1.908708825003417,2.01623074921634,2.0369061413673233,2.117057821656419,2.1283408309076473,2.136329845027735,2.2029555969891583,2.2192259074218987,2.246770025839793,2.2511652831562237,2.365473539989724,2.3706881353940177,2.5234923067853563,2.5245797653028865,2.5800381372942596,2.6228957903374193,2.6376917457998537,2.7455204056991067,2.8149307107733574,2.9413728488660107,2.9517988929889296,2.961969696969697,3.0046457607433217,3.0547897514007505,3.055804720241159,3.1120889748549323,3.125200391006843,3.137165822121265,3.2594349074878095,3.3672592867909725,3.4924623115577886,3.528214024835646,3.663131244012591,3.7400556512521534,3.8201955337494136,4.49685534591195,4.825443786982248,5.300000000000001],\"x\":[\"Puerto Rico\",\"South Carolina\",\"North Carolina\",\"Mississippi\",\"Alabama\",\"Arkansas\",\"Tennessee\",\"Virginia\",\"Montana\",\"Idaho\",\"Texas\",\"Oklahoma\",\"South Dakota\",\"Wisconsin\",\"Florida\",\"North Dakota\",\"Utah\",\"Delaware\",\"Louisiana\",\"Kentucky\",\"Missouri\",\"District of Columbia\",\"California\",\"Alaska\",\"Nevada\",\"Maryland\",\"Oregon\",\"Nebraska\",\"New York\",\"Washington\",\"Massachusetts\",\"West Virginia\",\"Indiana\",\"Arizona\",\"Rhode Island\",\"Pennsylvania\",\"Illinois\",\"New Mexico\",\"Kansas\",\"New Jersey\",\"Wyoming\",\"Iowa\",\"Ohio\",\"New Hampshire\",\"Connecticut\",\"Michigan\",\"Minnesota\",\"Colorado\",\"Maine\",\"Vermont\",\"Virgin Islands\"]},\"selected\":{\"id\":\"1627\"},\"selection_policy\":{\"id\":\"1628\"}},\"id\":\"1566\",\"type\":\"ColumnDataSource\"},{\"attributes\":{},\"id\":\"1543\",\"type\":\"WheelZoomTool\"},{\"attributes\":{\"overlay\":{\"id\":\"1548\"}},\"id\":\"1544\",\"type\":\"BoxZoomTool\"},{\"attributes\":{},\"id\":\"1619\",\"type\":\"CategoricalTickFormatter\"},{\"attributes\":{\"data_source\":{\"id\":\"1566\"},\"glyph\":{\"id\":\"1567\"},\"hover_glyph\":null,\"muted_glyph\":null,\"nonselection_glyph\":{\"id\":\"1568\"},\"selection_glyph\":null,\"view\":{\"id\":\"1570\"}},\"id\":\"1569\",\"type\":\"GlyphRenderer\"},{\"attributes\":{},\"id\":\"1545\",\"type\":\"SaveTool\"},{\"attributes\":{\"fill_color\":{\"value\":\"red\"},\"line_color\":{\"value\":\"red\"},\"line_width\":{\"value\":5},\"top\":{\"field\":\"top\"},\"width\":{\"value\":0.9},\"x\":{\"field\":\"x\"}},\"id\":\"1567\",\"type\":\"VBar\"},{\"attributes\":{\"factors\":[\"Hawaii\",\"Georgia\",\"Puerto Rico\",\"South Carolina\",\"North Carolina\",\"Mississippi\",\"Alabama\",\"Arkansas\",\"Tennessee\",\"Virginia\",\"Montana\",\"Idaho\",\"Texas\",\"Oklahoma\",\"South Dakota\",\"Wisconsin\",\"Florida\",\"North Dakota\",\"Utah\",\"Delaware\",\"Louisiana\",\"Kentucky\",\"Missouri\",\"District of Columbia\",\"California\",\"Alaska\",\"Nevada\",\"Maryland\",\"Oregon\",\"Nebraska\",\"New York\",\"Washington\",\"Massachusetts\",\"West Virginia\",\"Indiana\",\"Arizona\",\"Rhode Island\",\"Pennsylvania\",\"Illinois\",\"New Mexico\",\"Kansas\",\"New Jersey\",\"Wyoming\",\"Iowa\",\"Ohio\",\"New Hampshire\",\"Connecticut\",\"Michigan\",\"Minnesota\",\"Colorado\",\"Maine\",\"Vermont\",\"Virgin Islands\"]},\"id\":\"1527\",\"type\":\"FactorRange\"},{\"attributes\":{\"source\":{\"id\":\"1566\"}},\"id\":\"1570\",\"type\":\"CDSView\"},{\"attributes\":{},\"id\":\"1546\",\"type\":\"ResetTool\"},{\"attributes\":{\"fill_alpha\":{\"value\":0.1},\"fill_color\":{\"value\":\"red\"},\"line_alpha\":{\"value\":0.1},\"line_color\":{\"value\":\"red\"},\"line_width\":{\"value\":5},\"top\":{\"field\":\"top\"},\"width\":{\"value\":0.9},\"x\":{\"field\":\"x\"}},\"id\":\"1568\",\"type\":\"VBar\"},{\"attributes\":{},\"id\":\"1621\",\"type\":\"BasicTickFormatter\"},{\"attributes\":{\"text\":\"28 -day\"},\"id\":\"1525\",\"type\":\"Title\"},{\"attributes\":{},\"id\":\"1547\",\"type\":\"HelpTool\"},{\"attributes\":{},\"id\":\"1624\",\"type\":\"UnionRenderers\"},{\"attributes\":{},\"id\":\"1625\",\"type\":\"Selection\"},{\"attributes\":{\"data_source\":{\"id\":\"1556\"},\"glyph\":{\"id\":\"1557\"},\"hover_glyph\":null,\"muted_glyph\":null,\"nonselection_glyph\":{\"id\":\"1558\"},\"selection_glyph\":null,\"view\":{\"id\":\"1560\"}},\"id\":\"1559\",\"type\":\"GlyphRenderer\"},{\"attributes\":{},\"id\":\"1529\",\"type\":\"DataRange1d\"},{\"attributes\":{\"active_drag\":\"auto\",\"active_inspect\":\"auto\",\"active_multi\":null,\"active_scroll\":\"auto\",\"active_tap\":\"auto\",\"tools\":[{\"id\":\"1542\"},{\"id\":\"1543\"},{\"id\":\"1544\"},{\"id\":\"1545\"},{\"id\":\"1546\"},{\"id\":\"1547\"}]},\"id\":\"1549\",\"type\":\"Toolbar\"},{\"attributes\":{},\"id\":\"1626\",\"type\":\"UnionRenderers\"},{\"attributes\":{},\"id\":\"1531\",\"type\":\"CategoricalScale\"}],\"root_ids\":[\"1524\"]},\"title\":\"Bokeh Application\",\"version\":\"2.0.2\"}};\n",
       "  var render_items = [{\"docid\":\"43f5dd3a-54fa-419d-bcd9-a61e53228294\",\"root_ids\":[\"1524\"],\"roots\":{\"1524\":\"d90c9b70-5a26-44d0-b454-50af38be1b69\"}}];\n",
       "  root.Bokeh.embed.embed_items_notebook(docs_json, render_items);\n",
       "\n",
       "  }\n",
       "  if (root.Bokeh !== undefined) {\n",
       "    embed_document(root);\n",
       "  } else {\n",
       "    var attempts = 0;\n",
       "    var timer = setInterval(function(root) {\n",
       "      if (root.Bokeh !== undefined) {\n",
       "        clearInterval(timer);\n",
       "        embed_document(root);\n",
       "      } else {\n",
       "        attempts++;\n",
       "        if (attempts > 100) {\n",
       "          clearInterval(timer);\n",
       "          console.log(\"Bokeh: ERROR: Unable to run BokehJS code because BokehJS library is missing\");\n",
       "        }\n",
       "      }\n",
       "    }, 10, root)\n",
       "  }\n",
       "})(window);"
      ],
      "application/vnd.bokehjs_exec.v0+json": ""
     },
     "metadata": {
      "application/vnd.bokehjs_exec.v0+json": {
       "id": "1524"
      }
     },
     "output_type": "display_data"
    }
   ],
   "source": [
    "def all_states(leng):\n",
    "    df = get_data()\n",
    "    neutral_n = 1.1\n",
    "    data= sorted(all_states_info(df, leng), key = lambda x: x[1])\n",
    "    neg = list(filter(lambda x: x[1] <=1, data))\n",
    "    neutral = list(filter(lambda x: x[1] > 1 and x[1] <= neutral_n, data))\n",
    "    pos = list(filter(lambda x: x[1] > neutral_n, data))\n",
    "    neg_l = [x[0] for x in neg]\n",
    "    neg_y = [x[1] for x in neg]\n",
    "    assert len(neg_l) == len(neg_y)\n",
    "    p = make_bar(labels_neg = [x[0] for x in neg], \n",
    "                 y_neg = [x[1] for x in neg],\n",
    "                labels_pos = [x[0] for x in pos],\n",
    "                 y_pos = [x[1] for x in pos],\n",
    "                 labels_neutral = [x[0] for x in neutral],\n",
    "                 y_neutral = [x[1] for x in neutral],\n",
    "                 plot_width = 800,\n",
    "                 title = '{l} -day'.format(l = leng)\n",
    "                )\n",
    "    return p\n",
    "show(all_states(7))\n",
    "show(all_states(14))\n",
    "show(all_states(28))\n",
    "\n",
    "\n"
   ]
  },
  {
   "cell_type": "code",
   "execution_count": 13,
   "metadata": {},
   "outputs": [],
   "source": [
    "def make_bar_pop(labels, y, plot_height = 450, \n",
    "             plot_width = 450, title = None, mask_dict = {}):\n",
    "    x_range = labels\n",
    "    p = figure(x_range = x_range , plot_height = plot_height, \n",
    "               plot_width = plot_width, title = title)\n",
    "    for counter, i in enumerate(labels):\n",
    "        if mask_dict.get(i):\n",
    "            color = 'blue'\n",
    "        else:\n",
    "            color = 'red'\n",
    "        p.vbar(x=[i], top=y[counter] , line_width = 5, width = .5, color = color)\n",
    "    p.xaxis.major_label_orientation = \"vertical\"\n",
    "    p.xgrid.grid_line_color = None\n",
    "\n",
    "    return p\n",
    "    #p.y_range "
   ]
  },
  {
   "cell_type": "code",
   "execution_count": 14,
   "metadata": {},
   "outputs": [],
   "source": [
    "def get_mask():\n",
    "    return [('Alabama', datetime.datetime(2020, 7, 16)),\n",
    "             ('Arizona', datetime.datetime(2020,6,17)),\n",
    "             ('California', datetime.datetime(2020, 6, 18)),\n",
    "           ('Connecticut', datetime.datetime(2020,4, 20)),\n",
    "            ('Delaware', datetime.datetime(2020, 4, 28)),\n",
    "            ('Hawaii', datetime.datetime(2020, 4, 20)),\n",
    "            ('Illinois', datetime.datetime(2020,5,1)),\n",
    "            ('Kansas', datetime.datetime(2020, 7, 3)),\n",
    "            ('Kentucky', datetime.datetime(2020, 7, 10)),\n",
    "            ('Maine', datetime.datetime(2020, 5, 1)),\n",
    "            ('Maryland', datetime.datetime(2020, 4, 18)),\n",
    "            ('Massachusetts', datetime.datetime(2020, 5, 6)),\n",
    "            ('Michigan', datetime.datetime(2020, 6, 18)),\n",
    "            ('Nevada', datetime.datetime(2020, 6, 24)),\n",
    "            ('New Jersey', datetime.datetime(2020, 4, 8)),\n",
    "            ('New Mexico', datetime.datetime(2020, 5, 16)),\n",
    "            ('New York', datetime.datetime(2020, 4, 17)),\n",
    "            ('North Carolina', datetime.datetime(2020, 6, 26)),\n",
    "            ('Oregon', datetime.datetime(2020, 7, 1)),\n",
    "            ('Pennsylvania', datetime.datetime(2020, 4, 19)),\n",
    "            ('Rhode Island', datetime.datetime(2020, 5, 18)),\n",
    "            ('Texas', datetime.datetime(2020, 7, 3)),\n",
    "            ('Virginia', datetime.datetime(2020, 5, 29)),\n",
    "            ('Washington', datetime.datetime(2020, 6, 26)),\n",
    "            ('West Virginia', datetime.datetime(2020, 7, 6)),\n",
    "           ]"
   ]
  },
  {
   "cell_type": "code",
   "execution_count": 15,
   "metadata": {},
   "outputs": [],
   "source": [
    "def cases_with_pop(back = 7, per = 100000):\n",
    "    df = get_data()\n",
    "    pop = get_pop()\n",
    "    final = []\n",
    "    now = datetime.datetime.now()\n",
    "    states = set(df['state'].tolist())\n",
    "    for i in states:\n",
    "        df_ = df[(df['state'] == i) & (df['date'] >= now - datetime.timedelta(days = back))]\n",
    "        if i in [\"Puerto Rico\", \"Virgin Islands\"]:\n",
    "            continue\n",
    "        cases = np.mean(df_['cases'])/pop[i] * per\n",
    "        final.append((i, cases))\n",
    "    return sorted(final, key = lambda x: x[1])\n"
   ]
  },
  {
   "cell_type": "code",
   "execution_count": 16,
   "metadata": {},
   "outputs": [
    {
     "data": {
      "text/html": [
       "\n",
       "\n",
       "\n",
       "\n",
       "\n",
       "\n",
       "  <div class=\"bk-root\" id=\"62a18131-f66d-4dfe-a721-15a38840d0a6\" data-root-id=\"1702\"></div>\n"
      ]
     },
     "metadata": {},
     "output_type": "display_data"
    },
    {
     "data": {
      "application/javascript": [
       "(function(root) {\n",
       "  function embed_document(root) {\n",
       "    \n",
       "  var docs_json = {\"3a3d9d50-6cbe-4f55-ac20-fe6f57f7a481\":{\"roots\":{\"references\":[{\"attributes\":{\"below\":[{\"id\":\"1712\"}],\"center\":[{\"id\":\"1714\"},{\"id\":\"1718\"}],\"left\":[{\"id\":\"1715\"}],\"plot_height\":450,\"plot_width\":750,\"renderers\":[{\"id\":\"1736\"},{\"id\":\"1741\"},{\"id\":\"1746\"},{\"id\":\"1751\"},{\"id\":\"1756\"},{\"id\":\"1761\"},{\"id\":\"1766\"},{\"id\":\"1771\"},{\"id\":\"1776\"},{\"id\":\"1781\"},{\"id\":\"1786\"},{\"id\":\"1791\"},{\"id\":\"1796\"},{\"id\":\"1801\"},{\"id\":\"1806\"},{\"id\":\"1811\"},{\"id\":\"1816\"},{\"id\":\"1821\"},{\"id\":\"1826\"},{\"id\":\"1831\"},{\"id\":\"1836\"},{\"id\":\"1841\"},{\"id\":\"1846\"},{\"id\":\"1851\"},{\"id\":\"1856\"},{\"id\":\"1861\"},{\"id\":\"1866\"},{\"id\":\"1871\"},{\"id\":\"1876\"},{\"id\":\"1881\"},{\"id\":\"1886\"},{\"id\":\"1891\"},{\"id\":\"1896\"},{\"id\":\"1901\"},{\"id\":\"1906\"},{\"id\":\"1911\"},{\"id\":\"1916\"},{\"id\":\"1921\"},{\"id\":\"1926\"},{\"id\":\"1931\"},{\"id\":\"1936\"},{\"id\":\"1941\"},{\"id\":\"1946\"},{\"id\":\"1951\"},{\"id\":\"1956\"},{\"id\":\"1961\"},{\"id\":\"1966\"},{\"id\":\"1971\"},{\"id\":\"1976\"},{\"id\":\"1981\"},{\"id\":\"1986\"}],\"title\":null,\"toolbar\":{\"id\":\"1726\"},\"x_range\":{\"id\":\"1704\"},\"x_scale\":{\"id\":\"1708\"},\"y_range\":{\"id\":\"1706\"},\"y_scale\":{\"id\":\"1710\"}},\"id\":\"1702\",\"subtype\":\"Figure\",\"type\":\"Plot\"},{\"attributes\":{},\"id\":\"2129\",\"type\":\"UnionRenderers\"},{\"attributes\":{},\"id\":\"2130\",\"type\":\"Selection\"},{\"attributes\":{},\"id\":\"2131\",\"type\":\"UnionRenderers\"},{\"attributes\":{},\"id\":\"2132\",\"type\":\"Selection\"},{\"attributes\":{},\"id\":\"2133\",\"type\":\"UnionRenderers\"},{\"attributes\":{},\"id\":\"2134\",\"type\":\"Selection\"},{\"attributes\":{},\"id\":\"2135\",\"type\":\"UnionRenderers\"},{\"attributes\":{},\"id\":\"2139\",\"type\":\"UnionRenderers\"},{\"attributes\":{},\"id\":\"2140\",\"type\":\"Selection\"},{\"attributes\":{},\"id\":\"2138\",\"type\":\"Selection\"},{\"attributes\":{},\"id\":\"2137\",\"type\":\"UnionRenderers\"},{\"attributes\":{},\"id\":\"2104\",\"type\":\"Selection\"},{\"attributes\":{},\"id\":\"2136\",\"type\":\"Selection\"},{\"attributes\":{},\"id\":\"2103\",\"type\":\"UnionRenderers\"},{\"attributes\":{},\"id\":\"2105\",\"type\":\"UnionRenderers\"},{\"attributes\":{},\"id\":\"2106\",\"type\":\"Selection\"},{\"attributes\":{},\"id\":\"2107\",\"type\":\"UnionRenderers\"},{\"attributes\":{},\"id\":\"2108\",\"type\":\"Selection\"},{\"attributes\":{},\"id\":\"2109\",\"type\":\"UnionRenderers\"},{\"attributes\":{},\"id\":\"2110\",\"type\":\"Selection\"},{\"attributes\":{},\"id\":\"2111\",\"type\":\"UnionRenderers\"},{\"attributes\":{},\"id\":\"2112\",\"type\":\"Selection\"},{\"attributes\":{},\"id\":\"2113\",\"type\":\"UnionRenderers\"},{\"attributes\":{},\"id\":\"2114\",\"type\":\"Selection\"},{\"attributes\":{},\"id\":\"2115\",\"type\":\"UnionRenderers\"},{\"attributes\":{},\"id\":\"2116\",\"type\":\"Selection\"},{\"attributes\":{},\"id\":\"2117\",\"type\":\"UnionRenderers\"},{\"attributes\":{},\"id\":\"2118\",\"type\":\"Selection\"},{\"attributes\":{},\"id\":\"2119\",\"type\":\"UnionRenderers\"},{\"attributes\":{},\"id\":\"2120\",\"type\":\"Selection\"},{\"attributes\":{},\"id\":\"2121\",\"type\":\"UnionRenderers\"},{\"attributes\":{},\"id\":\"2122\",\"type\":\"Selection\"},{\"attributes\":{},\"id\":\"2126\",\"type\":\"Selection\"},{\"attributes\":{},\"id\":\"2125\",\"type\":\"UnionRenderers\"},{\"attributes\":{},\"id\":\"2124\",\"type\":\"Selection\"},{\"attributes\":{},\"id\":\"2123\",\"type\":\"UnionRenderers\"},{\"attributes\":{\"data_source\":{\"id\":\"1953\"},\"glyph\":{\"id\":\"1954\"},\"hover_glyph\":null,\"muted_glyph\":null,\"nonselection_glyph\":{\"id\":\"1955\"},\"selection_glyph\":null,\"view\":{\"id\":\"1957\"}},\"id\":\"1956\",\"type\":\"GlyphRenderer\"},{\"attributes\":{\"source\":{\"id\":\"1953\"}},\"id\":\"1957\",\"type\":\"CDSView\"},{\"attributes\":{\"fill_alpha\":{\"value\":0.1},\"fill_color\":{\"value\":\"blue\"},\"line_alpha\":{\"value\":0.1},\"line_color\":{\"value\":\"blue\"},\"line_width\":{\"value\":5},\"top\":{\"value\":26.090141226388},\"width\":{\"value\":0.5},\"x\":{\"field\":\"x\"}},\"id\":\"1760\",\"type\":\"VBar\"},{\"attributes\":{\"data\":{\"x\":[\"Wisconsin\"]},\"selected\":{\"id\":\"2142\"},\"selection_policy\":{\"id\":\"2143\"}},\"id\":\"1958\",\"type\":\"ColumnDataSource\"},{\"attributes\":{\"fill_alpha\":{\"value\":0.1},\"fill_color\":{\"value\":\"blue\"},\"line_alpha\":{\"value\":0.1},\"line_color\":{\"value\":\"blue\"},\"line_width\":{\"value\":5},\"top\":{\"value\":23.545051070618054},\"width\":{\"value\":0.5},\"x\":{\"field\":\"x\"}},\"id\":\"1755\",\"type\":\"VBar\"},{\"attributes\":{\"data_source\":{\"id\":\"1958\"},\"glyph\":{\"id\":\"1959\"},\"hover_glyph\":null,\"muted_glyph\":null,\"nonselection_glyph\":{\"id\":\"1960\"},\"selection_glyph\":null,\"view\":{\"id\":\"1962\"}},\"id\":\"1961\",\"type\":\"GlyphRenderer\"},{\"attributes\":{\"source\":{\"id\":\"1753\"}},\"id\":\"1757\",\"type\":\"CDSView\"},{\"attributes\":{\"fill_color\":{\"value\":\"red\"},\"line_color\":{\"value\":\"red\"},\"line_width\":{\"value\":5},\"top\":{\"value\":113.39561110327082},\"width\":{\"value\":0.5},\"x\":{\"field\":\"x\"}},\"id\":\"1959\",\"type\":\"VBar\"},{\"attributes\":{\"fill_color\":{\"value\":\"blue\"},\"line_color\":{\"value\":\"blue\"},\"line_width\":{\"value\":5},\"top\":{\"value\":23.545051070618054},\"width\":{\"value\":0.5},\"x\":{\"field\":\"x\"}},\"id\":\"1754\",\"type\":\"VBar\"},{\"attributes\":{\"source\":{\"id\":\"1958\"}},\"id\":\"1962\",\"type\":\"CDSView\"},{\"attributes\":{\"data_source\":{\"id\":\"1753\"},\"glyph\":{\"id\":\"1754\"},\"hover_glyph\":null,\"muted_glyph\":null,\"nonselection_glyph\":{\"id\":\"1755\"},\"selection_glyph\":null,\"view\":{\"id\":\"1757\"}},\"id\":\"1756\",\"type\":\"GlyphRenderer\"},{\"attributes\":{\"fill_alpha\":{\"value\":0.1},\"fill_color\":{\"value\":\"red\"},\"line_alpha\":{\"value\":0.1},\"line_color\":{\"value\":\"red\"},\"line_width\":{\"value\":5},\"top\":{\"value\":113.39561110327082},\"width\":{\"value\":0.5},\"x\":{\"field\":\"x\"}},\"id\":\"1960\",\"type\":\"VBar\"},{\"attributes\":{\"data\":{\"x\":[\"Minnesota\"]},\"selected\":{\"id\":\"2144\"},\"selection_policy\":{\"id\":\"2145\"}},\"id\":\"1963\",\"type\":\"ColumnDataSource\"},{\"attributes\":{\"data_source\":{\"id\":\"1963\"},\"glyph\":{\"id\":\"1964\"},\"hover_glyph\":null,\"muted_glyph\":null,\"nonselection_glyph\":{\"id\":\"1965\"},\"selection_glyph\":null,\"view\":{\"id\":\"1967\"}},\"id\":\"1966\",\"type\":\"GlyphRenderer\"},{\"attributes\":{\"source\":{\"id\":\"1748\"}},\"id\":\"1752\",\"type\":\"CDSView\"},{\"attributes\":{\"fill_color\":{\"value\":\"red\"},\"line_color\":{\"value\":\"red\"},\"line_width\":{\"value\":5},\"top\":{\"value\":118.42152930436704},\"width\":{\"value\":0.5},\"x\":{\"field\":\"x\"}},\"id\":\"1964\",\"type\":\"VBar\"},{\"attributes\":{\"source\":{\"id\":\"1963\"}},\"id\":\"1967\",\"type\":\"CDSView\"},{\"attributes\":{\"fill_alpha\":{\"value\":0.1},\"fill_color\":{\"value\":\"red\"},\"line_alpha\":{\"value\":0.1},\"line_color\":{\"value\":\"red\"},\"line_width\":{\"value\":5},\"top\":{\"value\":118.42152930436704},\"width\":{\"value\":0.5},\"x\":{\"field\":\"x\"}},\"id\":\"1965\",\"type\":\"VBar\"},{\"attributes\":{\"data\":{\"x\":[\"Virginia\"]},\"selected\":{\"id\":\"2060\"},\"selection_policy\":{\"id\":\"2061\"}},\"id\":\"1753\",\"type\":\"ColumnDataSource\"},{\"attributes\":{\"data\":{\"x\":[\"Iowa\"]},\"selected\":{\"id\":\"2146\"},\"selection_policy\":{\"id\":\"2147\"}},\"id\":\"1968\",\"type\":\"ColumnDataSource\"},{\"attributes\":{\"fill_color\":{\"value\":\"blue\"},\"line_color\":{\"value\":\"blue\"},\"line_width\":{\"value\":5},\"top\":{\"value\":26.090141226388},\"width\":{\"value\":0.5},\"x\":{\"field\":\"x\"}},\"id\":\"1759\",\"type\":\"VBar\"},{\"attributes\":{\"data_source\":{\"id\":\"1758\"},\"glyph\":{\"id\":\"1759\"},\"hover_glyph\":null,\"muted_glyph\":null,\"nonselection_glyph\":{\"id\":\"1760\"},\"selection_glyph\":null,\"view\":{\"id\":\"1762\"}},\"id\":\"1761\",\"type\":\"GlyphRenderer\"},{\"attributes\":{\"data\":{\"x\":[\"New York\"]},\"selected\":{\"id\":\"2062\"},\"selection_policy\":{\"id\":\"2063\"}},\"id\":\"1758\",\"type\":\"ColumnDataSource\"},{\"attributes\":{\"data_source\":{\"id\":\"1968\"},\"glyph\":{\"id\":\"1969\"},\"hover_glyph\":null,\"muted_glyph\":null,\"nonselection_glyph\":{\"id\":\"1970\"},\"selection_glyph\":null,\"view\":{\"id\":\"1972\"}},\"id\":\"1971\",\"type\":\"GlyphRenderer\"},{\"attributes\":{\"data\":{\"x\":[\"Oregon\"]},\"selected\":{\"id\":\"2064\"},\"selection_policy\":{\"id\":\"2065\"}},\"id\":\"1763\",\"type\":\"ColumnDataSource\"},{\"attributes\":{\"fill_color\":{\"value\":\"red\"},\"line_color\":{\"value\":\"red\"},\"line_width\":{\"value\":5},\"top\":{\"value\":124.25666040324353},\"width\":{\"value\":0.5},\"x\":{\"field\":\"x\"}},\"id\":\"1969\",\"type\":\"VBar\"},{\"attributes\":{\"source\":{\"id\":\"1968\"}},\"id\":\"1972\",\"type\":\"CDSView\"},{\"attributes\":{\"source\":{\"id\":\"1758\"}},\"id\":\"1762\",\"type\":\"CDSView\"},{\"attributes\":{\"fill_alpha\":{\"value\":0.1},\"fill_color\":{\"value\":\"red\"},\"line_alpha\":{\"value\":0.1},\"line_color\":{\"value\":\"red\"},\"line_width\":{\"value\":5},\"top\":{\"value\":124.25666040324353},\"width\":{\"value\":0.5},\"x\":{\"field\":\"x\"}},\"id\":\"1970\",\"type\":\"VBar\"},{\"attributes\":{\"data\":{\"x\":[\"Wyoming\"]},\"selected\":{\"id\":\"2148\"},\"selection_policy\":{\"id\":\"2149\"}},\"id\":\"1973\",\"type\":\"ColumnDataSource\"},{\"attributes\":{\"data_source\":{\"id\":\"1763\"},\"glyph\":{\"id\":\"1764\"},\"hover_glyph\":null,\"muted_glyph\":null,\"nonselection_glyph\":{\"id\":\"1765\"},\"selection_glyph\":null,\"view\":{\"id\":\"1767\"}},\"id\":\"1766\",\"type\":\"GlyphRenderer\"},{\"attributes\":{\"fill_color\":{\"value\":\"blue\"},\"line_color\":{\"value\":\"blue\"},\"line_width\":{\"value\":5},\"top\":{\"value\":26.308311414755934},\"width\":{\"value\":0.5},\"x\":{\"field\":\"x\"}},\"id\":\"1764\",\"type\":\"VBar\"},{\"attributes\":{\"data_source\":{\"id\":\"1973\"},\"glyph\":{\"id\":\"1974\"},\"hover_glyph\":null,\"muted_glyph\":null,\"nonselection_glyph\":{\"id\":\"1975\"},\"selection_glyph\":null,\"view\":{\"id\":\"1977\"}},\"id\":\"1976\",\"type\":\"GlyphRenderer\"},{\"attributes\":{\"fill_color\":{\"value\":\"red\"},\"line_color\":{\"value\":\"red\"},\"line_width\":{\"value\":5},\"top\":{\"value\":135.42238319736379},\"width\":{\"value\":0.5},\"x\":{\"field\":\"x\"}},\"id\":\"1974\",\"type\":\"VBar\"},{\"attributes\":{\"fill_alpha\":{\"value\":0.1},\"fill_color\":{\"value\":\"blue\"},\"line_alpha\":{\"value\":0.1},\"line_color\":{\"value\":\"blue\"},\"line_width\":{\"value\":5},\"top\":{\"value\":26.308311414755934},\"width\":{\"value\":0.5},\"x\":{\"field\":\"x\"}},\"id\":\"1765\",\"type\":\"VBar\"},{\"attributes\":{\"source\":{\"id\":\"1973\"}},\"id\":\"1977\",\"type\":\"CDSView\"},{\"attributes\":{\"data_source\":{\"id\":\"1768\"},\"glyph\":{\"id\":\"1769\"},\"hover_glyph\":null,\"muted_glyph\":null,\"nonselection_glyph\":{\"id\":\"1770\"},\"selection_glyph\":null,\"view\":{\"id\":\"1772\"}},\"id\":\"1771\",\"type\":\"GlyphRenderer\"},{\"attributes\":{\"fill_alpha\":{\"value\":0.1},\"fill_color\":{\"value\":\"red\"},\"line_alpha\":{\"value\":0.1},\"line_color\":{\"value\":\"red\"},\"line_width\":{\"value\":5},\"top\":{\"value\":135.42238319736379},\"width\":{\"value\":0.5},\"x\":{\"field\":\"x\"}},\"id\":\"1975\",\"type\":\"VBar\"},{\"attributes\":{\"source\":{\"id\":\"1768\"}},\"id\":\"1772\",\"type\":\"CDSView\"},{\"attributes\":{\"fill_alpha\":{\"value\":0.1},\"fill_color\":{\"value\":\"red\"},\"line_alpha\":{\"value\":0.1},\"line_color\":{\"value\":\"red\"},\"line_width\":{\"value\":5},\"top\":{\"value\":27.83378574283768},\"width\":{\"value\":0.5},\"x\":{\"field\":\"x\"}},\"id\":\"1775\",\"type\":\"VBar\"},{\"attributes\":{\"data\":{\"x\":[\"South Dakota\"]},\"selected\":{\"id\":\"2150\"},\"selection_policy\":{\"id\":\"2151\"}},\"id\":\"1978\",\"type\":\"ColumnDataSource\"},{\"attributes\":{\"data\":{\"x\":[\"Georgia\"]},\"selected\":{\"id\":\"2068\"},\"selection_policy\":{\"id\":\"2069\"}},\"id\":\"1773\",\"type\":\"ColumnDataSource\"},{\"attributes\":{\"data_source\":{\"id\":\"1978\"},\"glyph\":{\"id\":\"1979\"},\"hover_glyph\":null,\"muted_glyph\":null,\"nonselection_glyph\":{\"id\":\"1980\"},\"selection_glyph\":null,\"view\":{\"id\":\"1982\"}},\"id\":\"1981\",\"type\":\"GlyphRenderer\"},{\"attributes\":{\"fill_color\":{\"value\":\"red\"},\"line_color\":{\"value\":\"red\"},\"line_width\":{\"value\":5},\"top\":{\"value\":27.83378574283768},\"width\":{\"value\":0.5},\"x\":{\"field\":\"x\"}},\"id\":\"1774\",\"type\":\"VBar\"},{\"attributes\":{\"fill_color\":{\"value\":\"red\"},\"line_color\":{\"value\":\"red\"},\"line_width\":{\"value\":5},\"top\":{\"value\":143.5929202447149},\"width\":{\"value\":0.5},\"x\":{\"field\":\"x\"}},\"id\":\"1979\",\"type\":\"VBar\"},{\"attributes\":{\"source\":{\"id\":\"1978\"}},\"id\":\"1982\",\"type\":\"CDSView\"},{\"attributes\":{\"fill_alpha\":{\"value\":0.1},\"fill_color\":{\"value\":\"red\"},\"line_alpha\":{\"value\":0.1},\"line_color\":{\"value\":\"red\"},\"line_width\":{\"value\":5},\"top\":{\"value\":143.5929202447149},\"width\":{\"value\":0.5},\"x\":{\"field\":\"x\"}},\"id\":\"1980\",\"type\":\"VBar\"},{\"attributes\":{\"data\":{\"x\":[\"North Dakota\"]},\"selected\":{\"id\":\"2152\"},\"selection_policy\":{\"id\":\"2153\"}},\"id\":\"1983\",\"type\":\"ColumnDataSource\"},{\"attributes\":{},\"id\":\"2085\",\"type\":\"UnionRenderers\"},{\"attributes\":{\"data_source\":{\"id\":\"1983\"},\"glyph\":{\"id\":\"1984\"},\"hover_glyph\":null,\"muted_glyph\":null,\"nonselection_glyph\":{\"id\":\"1985\"},\"selection_glyph\":null,\"view\":{\"id\":\"1987\"}},\"id\":\"1986\",\"type\":\"GlyphRenderer\"},{\"attributes\":{\"fill_color\":{\"value\":\"red\"},\"line_color\":{\"value\":\"red\"},\"line_width\":{\"value\":5},\"top\":{\"value\":172.0635288507719},\"width\":{\"value\":0.5},\"x\":{\"field\":\"x\"}},\"id\":\"1984\",\"type\":\"VBar\"},{\"attributes\":{\"source\":{\"id\":\"1983\"}},\"id\":\"1987\",\"type\":\"CDSView\"},{\"attributes\":{\"fill_alpha\":{\"value\":0.1},\"fill_color\":{\"value\":\"red\"},\"line_alpha\":{\"value\":0.1},\"line_color\":{\"value\":\"red\"},\"line_width\":{\"value\":5},\"top\":{\"value\":172.0635288507719},\"width\":{\"value\":0.5},\"x\":{\"field\":\"x\"}},\"id\":\"1985\",\"type\":\"VBar\"},{\"attributes\":{},\"id\":\"2048\",\"type\":\"CategoricalTickFormatter\"},{\"attributes\":{},\"id\":\"2050\",\"type\":\"BasicTickFormatter\"},{\"attributes\":{},\"id\":\"2052\",\"type\":\"Selection\"},{\"attributes\":{},\"id\":\"2053\",\"type\":\"UnionRenderers\"},{\"attributes\":{\"fill_alpha\":{\"value\":0.1},\"fill_color\":{\"value\":\"red\"},\"line_alpha\":{\"value\":0.1},\"line_color\":{\"value\":\"red\"},\"line_width\":{\"value\":5},\"top\":{\"value\":85.93231890844423},\"width\":{\"value\":0.5},\"x\":{\"field\":\"x\"}},\"id\":\"1920\",\"type\":\"VBar\"},{\"attributes\":{},\"id\":\"2054\",\"type\":\"Selection\"},{\"attributes\":{},\"id\":\"1708\",\"type\":\"CategoricalScale\"},{\"attributes\":{\"data_source\":{\"id\":\"1918\"},\"glyph\":{\"id\":\"1919\"},\"hover_glyph\":null,\"muted_glyph\":null,\"nonselection_glyph\":{\"id\":\"1920\"},\"selection_glyph\":null,\"view\":{\"id\":\"1922\"}},\"id\":\"1921\",\"type\":\"GlyphRenderer\"},{\"attributes\":{},\"id\":\"2055\",\"type\":\"UnionRenderers\"},{\"attributes\":{\"source\":{\"id\":\"1918\"}},\"id\":\"1922\",\"type\":\"CDSView\"},{\"attributes\":{},\"id\":\"2056\",\"type\":\"Selection\"},{\"attributes\":{\"data\":{\"x\":[\"Illinois\"]},\"selected\":{\"id\":\"2128\"},\"selection_policy\":{\"id\":\"2129\"}},\"id\":\"1923\",\"type\":\"ColumnDataSource\"},{\"attributes\":{},\"id\":\"2057\",\"type\":\"UnionRenderers\"},{\"attributes\":{},\"id\":\"2058\",\"type\":\"Selection\"},{\"attributes\":{},\"id\":\"2059\",\"type\":\"UnionRenderers\"},{\"attributes\":{\"data_source\":{\"id\":\"1923\"},\"glyph\":{\"id\":\"1924\"},\"hover_glyph\":null,\"muted_glyph\":null,\"nonselection_glyph\":{\"id\":\"1925\"},\"selection_glyph\":null,\"view\":{\"id\":\"1927\"}},\"id\":\"1926\",\"type\":\"GlyphRenderer\"},{\"attributes\":{\"fill_color\":{\"value\":\"blue\"},\"line_color\":{\"value\":\"blue\"},\"line_width\":{\"value\":5},\"top\":{\"value\":92.98463223120146},\"width\":{\"value\":0.5},\"x\":{\"field\":\"x\"}},\"id\":\"1924\",\"type\":\"VBar\"},{\"attributes\":{},\"id\":\"2060\",\"type\":\"Selection\"},{\"attributes\":{\"source\":{\"id\":\"1923\"}},\"id\":\"1927\",\"type\":\"CDSView\"},{\"attributes\":{\"fill_alpha\":{\"value\":0.1},\"fill_color\":{\"value\":\"blue\"},\"line_alpha\":{\"value\":0.1},\"line_color\":{\"value\":\"blue\"},\"line_width\":{\"value\":5},\"top\":{\"value\":92.98463223120146},\"width\":{\"value\":0.5},\"x\":{\"field\":\"x\"}},\"id\":\"1925\",\"type\":\"VBar\"},{\"attributes\":{},\"id\":\"2061\",\"type\":\"UnionRenderers\"},{\"attributes\":{\"data\":{\"x\":[\"Indiana\"]},\"selected\":{\"id\":\"2130\"},\"selection_policy\":{\"id\":\"2131\"}},\"id\":\"1928\",\"type\":\"ColumnDataSource\"},{\"attributes\":{},\"id\":\"2062\",\"type\":\"Selection\"},{\"attributes\":{},\"id\":\"2063\",\"type\":\"UnionRenderers\"},{\"attributes\":{\"formatter\":{\"id\":\"2048\"},\"major_label_orientation\":\"vertical\",\"ticker\":{\"id\":\"1713\"}},\"id\":\"1712\",\"type\":\"CategoricalAxis\"},{\"attributes\":{},\"id\":\"2064\",\"type\":\"Selection\"},{\"attributes\":{\"data_source\":{\"id\":\"1928\"},\"glyph\":{\"id\":\"1929\"},\"hover_glyph\":null,\"muted_glyph\":null,\"nonselection_glyph\":{\"id\":\"1930\"},\"selection_glyph\":null,\"view\":{\"id\":\"1932\"}},\"id\":\"1931\",\"type\":\"GlyphRenderer\"},{\"attributes\":{},\"id\":\"1710\",\"type\":\"LinearScale\"},{\"attributes\":{\"fill_color\":{\"value\":\"red\"},\"line_color\":{\"value\":\"red\"},\"line_width\":{\"value\":5},\"top\":{\"value\":93.32961162068325},\"width\":{\"value\":0.5},\"x\":{\"field\":\"x\"}},\"id\":\"1929\",\"type\":\"VBar\"},{\"attributes\":{},\"id\":\"2065\",\"type\":\"UnionRenderers\"},{\"attributes\":{\"source\":{\"id\":\"1928\"}},\"id\":\"1932\",\"type\":\"CDSView\"},{\"attributes\":{\"fill_alpha\":{\"value\":0.1},\"fill_color\":{\"value\":\"red\"},\"line_alpha\":{\"value\":0.1},\"line_color\":{\"value\":\"red\"},\"line_width\":{\"value\":5},\"top\":{\"value\":93.32961162068325},\"width\":{\"value\":0.5},\"x\":{\"field\":\"x\"}},\"id\":\"1930\",\"type\":\"VBar\"},{\"attributes\":{},\"id\":\"2066\",\"type\":\"Selection\"},{\"attributes\":{\"data\":{\"x\":[\"New Mexico\"]},\"selected\":{\"id\":\"2132\"},\"selection_policy\":{\"id\":\"2133\"}},\"id\":\"1933\",\"type\":\"ColumnDataSource\"},{\"attributes\":{},\"id\":\"2067\",\"type\":\"UnionRenderers\"},{\"attributes\":{},\"id\":\"2068\",\"type\":\"Selection\"},{\"attributes\":{},\"id\":\"2069\",\"type\":\"UnionRenderers\"},{\"attributes\":{\"data_source\":{\"id\":\"1933\"},\"glyph\":{\"id\":\"1934\"},\"hover_glyph\":null,\"muted_glyph\":null,\"nonselection_glyph\":{\"id\":\"1935\"},\"selection_glyph\":null,\"view\":{\"id\":\"1937\"}},\"id\":\"1936\",\"type\":\"GlyphRenderer\"},{\"attributes\":{\"fill_color\":{\"value\":\"blue\"},\"line_color\":{\"value\":\"blue\"},\"line_width\":{\"value\":5},\"top\":{\"value\":97.58691668375292},\"width\":{\"value\":0.5},\"x\":{\"field\":\"x\"}},\"id\":\"1934\",\"type\":\"VBar\"},{\"attributes\":{},\"id\":\"2070\",\"type\":\"Selection\"},{\"attributes\":{\"source\":{\"id\":\"1933\"}},\"id\":\"1937\",\"type\":\"CDSView\"},{\"attributes\":{\"factors\":[\"Hawaii\",\"Maine\",\"Vermont\",\"District of Columbia\",\"Virginia\",\"New York\",\"Oregon\",\"California\",\"Georgia\",\"New Hampshire\",\"Washington\",\"South Carolina\",\"North Carolina\",\"Florida\",\"Maryland\",\"Massachusetts\",\"Texas\",\"Delaware\",\"Mississippi\",\"Arizona\",\"New Jersey\",\"Alabama\",\"Louisiana\",\"Pennsylvania\",\"West Virginia\",\"Connecticut\",\"Arkansas\",\"Tennessee\",\"Nevada\",\"Kentucky\",\"Ohio\",\"Oklahoma\",\"Michigan\",\"Idaho\",\"Missouri\",\"Alaska\",\"Rhode Island\",\"Colorado\",\"Illinois\",\"Indiana\",\"New Mexico\",\"Utah\",\"Kansas\",\"Montana\",\"Nebraska\",\"Wisconsin\",\"Minnesota\",\"Iowa\",\"Wyoming\",\"South Dakota\",\"North Dakota\"]},\"id\":\"1704\",\"type\":\"FactorRange\"},{\"attributes\":{\"fill_alpha\":{\"value\":0.1},\"fill_color\":{\"value\":\"blue\"},\"line_alpha\":{\"value\":0.1},\"line_color\":{\"value\":\"blue\"},\"line_width\":{\"value\":5},\"top\":{\"value\":97.58691668375292},\"width\":{\"value\":0.5},\"x\":{\"field\":\"x\"}},\"id\":\"1935\",\"type\":\"VBar\"},{\"attributes\":{},\"id\":\"2071\",\"type\":\"UnionRenderers\"},{\"attributes\":{\"data\":{\"x\":[\"Utah\"]},\"selected\":{\"id\":\"2134\"},\"selection_policy\":{\"id\":\"2135\"}},\"id\":\"1938\",\"type\":\"ColumnDataSource\"},{\"attributes\":{},\"id\":\"2072\",\"type\":\"Selection\"},{\"attributes\":{},\"id\":\"2073\",\"type\":\"UnionRenderers\"},{\"attributes\":{},\"id\":\"2074\",\"type\":\"Selection\"},{\"attributes\":{\"data_source\":{\"id\":\"1938\"},\"glyph\":{\"id\":\"1939\"},\"hover_glyph\":null,\"muted_glyph\":null,\"nonselection_glyph\":{\"id\":\"1940\"},\"selection_glyph\":null,\"view\":{\"id\":\"1942\"}},\"id\":\"1941\",\"type\":\"GlyphRenderer\"},{\"attributes\":{\"fill_color\":{\"value\":\"red\"},\"line_color\":{\"value\":\"red\"},\"line_width\":{\"value\":5},\"top\":{\"value\":100.52677402031323},\"width\":{\"value\":0.5},\"x\":{\"field\":\"x\"}},\"id\":\"1939\",\"type\":\"VBar\"},{\"attributes\":{},\"id\":\"2075\",\"type\":\"UnionRenderers\"},{\"attributes\":{\"source\":{\"id\":\"1938\"}},\"id\":\"1942\",\"type\":\"CDSView\"},{\"attributes\":{\"fill_alpha\":{\"value\":0.1},\"fill_color\":{\"value\":\"red\"},\"line_alpha\":{\"value\":0.1},\"line_color\":{\"value\":\"red\"},\"line_width\":{\"value\":5},\"top\":{\"value\":100.52677402031323},\"width\":{\"value\":0.5},\"x\":{\"field\":\"x\"}},\"id\":\"1940\",\"type\":\"VBar\"},{\"attributes\":{},\"id\":\"2076\",\"type\":\"Selection\"},{\"attributes\":{\"data\":{\"x\":[\"Kansas\"]},\"selected\":{\"id\":\"2136\"},\"selection_policy\":{\"id\":\"2137\"}},\"id\":\"1943\",\"type\":\"ColumnDataSource\"},{\"attributes\":{},\"id\":\"2077\",\"type\":\"UnionRenderers\"},{\"attributes\":{},\"id\":\"2078\",\"type\":\"Selection\"},{\"attributes\":{},\"id\":\"2079\",\"type\":\"UnionRenderers\"},{\"attributes\":{\"data_source\":{\"id\":\"1943\"},\"glyph\":{\"id\":\"1944\"},\"hover_glyph\":null,\"muted_glyph\":null,\"nonselection_glyph\":{\"id\":\"1945\"},\"selection_glyph\":null,\"view\":{\"id\":\"1947\"}},\"id\":\"1946\",\"type\":\"GlyphRenderer\"},{\"attributes\":{\"fill_color\":{\"value\":\"blue\"},\"line_color\":{\"value\":\"blue\"},\"line_width\":{\"value\":5},\"top\":{\"value\":103.1629799761213},\"width\":{\"value\":0.5},\"x\":{\"field\":\"x\"}},\"id\":\"1944\",\"type\":\"VBar\"},{\"attributes\":{},\"id\":\"2080\",\"type\":\"Selection\"},{\"attributes\":{\"source\":{\"id\":\"1943\"}},\"id\":\"1947\",\"type\":\"CDSView\"},{\"attributes\":{\"fill_alpha\":{\"value\":0.1},\"fill_color\":{\"value\":\"blue\"},\"line_alpha\":{\"value\":0.1},\"line_color\":{\"value\":\"blue\"},\"line_width\":{\"value\":5},\"top\":{\"value\":103.1629799761213},\"width\":{\"value\":0.5},\"x\":{\"field\":\"x\"}},\"id\":\"1945\",\"type\":\"VBar\"},{\"attributes\":{},\"id\":\"2081\",\"type\":\"UnionRenderers\"},{\"attributes\":{},\"id\":\"1706\",\"type\":\"DataRange1d\"},{\"attributes\":{\"data\":{\"x\":[\"Montana\"]},\"selected\":{\"id\":\"2138\"},\"selection_policy\":{\"id\":\"2139\"}},\"id\":\"1948\",\"type\":\"ColumnDataSource\"},{\"attributes\":{},\"id\":\"2082\",\"type\":\"Selection\"},{\"attributes\":{},\"id\":\"2083\",\"type\":\"UnionRenderers\"},{\"attributes\":{},\"id\":\"2148\",\"type\":\"Selection\"},{\"attributes\":{\"data_source\":{\"id\":\"1948\"},\"glyph\":{\"id\":\"1949\"},\"hover_glyph\":null,\"muted_glyph\":null,\"nonselection_glyph\":{\"id\":\"1950\"},\"selection_glyph\":null,\"view\":{\"id\":\"1952\"}},\"id\":\"1951\",\"type\":\"GlyphRenderer\"},{\"attributes\":{\"fill_color\":{\"value\":\"red\"},\"line_color\":{\"value\":\"red\"},\"line_width\":{\"value\":5},\"top\":{\"value\":109.46361891085678},\"width\":{\"value\":0.5},\"x\":{\"field\":\"x\"}},\"id\":\"1949\",\"type\":\"VBar\"},{\"attributes\":{},\"id\":\"2149\",\"type\":\"UnionRenderers\"},{\"attributes\":{\"source\":{\"id\":\"1948\"}},\"id\":\"1952\",\"type\":\"CDSView\"},{\"attributes\":{\"fill_alpha\":{\"value\":0.1},\"fill_color\":{\"value\":\"red\"},\"line_alpha\":{\"value\":0.1},\"line_color\":{\"value\":\"red\"},\"line_width\":{\"value\":5},\"top\":{\"value\":109.46361891085678},\"width\":{\"value\":0.5},\"x\":{\"field\":\"x\"}},\"id\":\"1950\",\"type\":\"VBar\"},{\"attributes\":{},\"id\":\"2150\",\"type\":\"Selection\"},{\"attributes\":{\"data\":{\"x\":[\"Nebraska\"]},\"selected\":{\"id\":\"2140\"},\"selection_policy\":{\"id\":\"2141\"}},\"id\":\"1953\",\"type\":\"ColumnDataSource\"},{\"attributes\":{},\"id\":\"2151\",\"type\":\"UnionRenderers\"},{\"attributes\":{},\"id\":\"2152\",\"type\":\"Selection\"},{\"attributes\":{\"fill_alpha\":{\"value\":0.1},\"fill_color\":{\"value\":\"red\"},\"line_alpha\":{\"value\":0.1},\"line_color\":{\"value\":\"red\"},\"line_width\":{\"value\":5},\"top\":{\"value\":112.09153871922015},\"width\":{\"value\":0.5},\"x\":{\"field\":\"x\"}},\"id\":\"1955\",\"type\":\"VBar\"},{\"attributes\":{\"fill_color\":{\"value\":\"red\"},\"line_color\":{\"value\":\"red\"},\"line_width\":{\"value\":5},\"top\":{\"value\":112.09153871922015},\"width\":{\"value\":0.5},\"x\":{\"field\":\"x\"}},\"id\":\"1954\",\"type\":\"VBar\"},{\"attributes\":{},\"id\":\"2153\",\"type\":\"UnionRenderers\"},{\"attributes\":{\"overlay\":{\"id\":\"1725\"}},\"id\":\"1721\",\"type\":\"BoxZoomTool\"},{\"attributes\":{\"fill_color\":{\"value\":\"red\"},\"line_color\":{\"value\":\"red\"},\"line_width\":{\"value\":5},\"top\":{\"value\":23.074230901659632},\"width\":{\"value\":0.5},\"x\":{\"field\":\"x\"}},\"id\":\"1749\",\"type\":\"VBar\"},{\"attributes\":{\"source\":{\"id\":\"1763\"}},\"id\":\"1767\",\"type\":\"CDSView\"},{\"attributes\":{\"bottom_units\":\"screen\",\"fill_alpha\":0.5,\"fill_color\":\"lightgrey\",\"left_units\":\"screen\",\"level\":\"overlay\",\"line_alpha\":1.0,\"line_color\":\"black\",\"line_dash\":[4,4],\"line_width\":2,\"render_mode\":\"css\",\"right_units\":\"screen\",\"top_units\":\"screen\"},\"id\":\"1725\",\"type\":\"BoxAnnotation\"},{\"attributes\":{\"fill_color\":{\"value\":\"red\"},\"line_color\":{\"value\":\"red\"},\"line_width\":{\"value\":5},\"top\":{\"value\":15.434197126502598},\"width\":{\"value\":0.5},\"x\":{\"field\":\"x\"}},\"id\":\"1744\",\"type\":\"VBar\"},{\"attributes\":{\"fill_alpha\":{\"value\":0.1},\"fill_color\":{\"value\":\"blue\"},\"line_alpha\":{\"value\":0.1},\"line_color\":{\"value\":\"blue\"},\"line_width\":{\"value\":5},\"top\":{\"value\":14.214790753015377},\"width\":{\"value\":0.5},\"x\":{\"field\":\"x\"}},\"id\":\"1740\",\"type\":\"VBar\"},{\"attributes\":{\"data\":{\"x\":[\"District of Columbia\"]},\"selected\":{\"id\":\"2058\"},\"selection_policy\":{\"id\":\"2059\"}},\"id\":\"1748\",\"type\":\"ColumnDataSource\"},{\"attributes\":{\"data\":{\"x\":[\"Maine\"]},\"selected\":{\"id\":\"2054\"},\"selection_policy\":{\"id\":\"2055\"}},\"id\":\"1738\",\"type\":\"ColumnDataSource\"},{\"attributes\":{\"data_source\":{\"id\":\"1733\"},\"glyph\":{\"id\":\"1734\"},\"hover_glyph\":null,\"muted_glyph\":null,\"nonselection_glyph\":{\"id\":\"1735\"},\"selection_glyph\":null,\"view\":{\"id\":\"1737\"}},\"id\":\"1736\",\"type\":\"GlyphRenderer\"},{\"attributes\":{\"source\":{\"id\":\"1733\"}},\"id\":\"1737\",\"type\":\"CDSView\"},{\"attributes\":{\"source\":{\"id\":\"1738\"}},\"id\":\"1742\",\"type\":\"CDSView\"},{\"attributes\":{\"data_source\":{\"id\":\"1743\"},\"glyph\":{\"id\":\"1744\"},\"hover_glyph\":null,\"muted_glyph\":null,\"nonselection_glyph\":{\"id\":\"1745\"},\"selection_glyph\":null,\"view\":{\"id\":\"1747\"}},\"id\":\"1746\",\"type\":\"GlyphRenderer\"},{\"attributes\":{\"data_source\":{\"id\":\"1738\"},\"glyph\":{\"id\":\"1739\"},\"hover_glyph\":null,\"muted_glyph\":null,\"nonselection_glyph\":{\"id\":\"1740\"},\"selection_glyph\":null,\"view\":{\"id\":\"1742\"}},\"id\":\"1741\",\"type\":\"GlyphRenderer\"},{\"attributes\":{\"data\":{\"x\":[\"Vermont\"]},\"selected\":{\"id\":\"2056\"},\"selection_policy\":{\"id\":\"2057\"}},\"id\":\"1743\",\"type\":\"ColumnDataSource\"},{\"attributes\":{\"fill_alpha\":{\"value\":0.1},\"fill_color\":{\"value\":\"red\"},\"line_alpha\":{\"value\":0.1},\"line_color\":{\"value\":\"red\"},\"line_width\":{\"value\":5},\"top\":{\"value\":15.434197126502598},\"width\":{\"value\":0.5},\"x\":{\"field\":\"x\"}},\"id\":\"1745\",\"type\":\"VBar\"},{\"attributes\":{\"fill_color\":{\"value\":\"blue\"},\"line_color\":{\"value\":\"blue\"},\"line_width\":{\"value\":5},\"top\":{\"value\":14.214790753015377},\"width\":{\"value\":0.5},\"x\":{\"field\":\"x\"}},\"id\":\"1739\",\"type\":\"VBar\"},{\"attributes\":{},\"id\":\"1723\",\"type\":\"ResetTool\"},{\"attributes\":{\"data\":{\"x\":[\"California\"]},\"selected\":{\"id\":\"2066\"},\"selection_policy\":{\"id\":\"2067\"}},\"id\":\"1768\",\"type\":\"ColumnDataSource\"},{\"attributes\":{\"active_drag\":\"auto\",\"active_inspect\":\"auto\",\"active_multi\":null,\"active_scroll\":\"auto\",\"active_tap\":\"auto\",\"tools\":[{\"id\":\"1719\"},{\"id\":\"1720\"},{\"id\":\"1721\"},{\"id\":\"1722\"},{\"id\":\"1723\"},{\"id\":\"1724\"}]},\"id\":\"1726\",\"type\":\"Toolbar\"},{\"attributes\":{},\"id\":\"1713\",\"type\":\"CategoricalTicker\"},{\"attributes\":{},\"id\":\"1724\",\"type\":\"HelpTool\"},{\"attributes\":{\"fill_color\":{\"value\":\"blue\"},\"line_color\":{\"value\":\"blue\"},\"line_width\":{\"value\":5},\"top\":{\"value\":27.645778215165315},\"width\":{\"value\":0.5},\"x\":{\"field\":\"x\"}},\"id\":\"1769\",\"type\":\"VBar\"},{\"attributes\":{\"fill_color\":{\"value\":\"blue\"},\"line_color\":{\"value\":\"blue\"},\"line_width\":{\"value\":5},\"top\":{\"value\":6.584689098362651},\"width\":{\"value\":0.5},\"x\":{\"field\":\"x\"}},\"id\":\"1734\",\"type\":\"VBar\"},{\"attributes\":{\"fill_alpha\":{\"value\":0.1},\"fill_color\":{\"value\":\"blue\"},\"line_alpha\":{\"value\":0.1},\"line_color\":{\"value\":\"blue\"},\"line_width\":{\"value\":5},\"top\":{\"value\":6.584689098362651},\"width\":{\"value\":0.5},\"x\":{\"field\":\"x\"}},\"id\":\"1735\",\"type\":\"VBar\"},{\"attributes\":{\"source\":{\"id\":\"1743\"}},\"id\":\"1747\",\"type\":\"CDSView\"},{\"attributes\":{\"fill_alpha\":{\"value\":0.1},\"fill_color\":{\"value\":\"red\"},\"line_alpha\":{\"value\":0.1},\"line_color\":{\"value\":\"red\"},\"line_width\":{\"value\":5},\"top\":{\"value\":23.074230901659632},\"width\":{\"value\":0.5},\"x\":{\"field\":\"x\"}},\"id\":\"1750\",\"type\":\"VBar\"},{\"attributes\":{},\"id\":\"1716\",\"type\":\"BasicTicker\"},{\"attributes\":{\"formatter\":{\"id\":\"2050\"},\"ticker\":{\"id\":\"1716\"}},\"id\":\"1715\",\"type\":\"LinearAxis\"},{\"attributes\":{},\"id\":\"1722\",\"type\":\"SaveTool\"},{\"attributes\":{\"axis\":{\"id\":\"1712\"},\"grid_line_color\":null,\"ticker\":null},\"id\":\"1714\",\"type\":\"Grid\"},{\"attributes\":{\"fill_alpha\":{\"value\":0.1},\"fill_color\":{\"value\":\"blue\"},\"line_alpha\":{\"value\":0.1},\"line_color\":{\"value\":\"blue\"},\"line_width\":{\"value\":5},\"top\":{\"value\":27.645778215165315},\"width\":{\"value\":0.5},\"x\":{\"field\":\"x\"}},\"id\":\"1770\",\"type\":\"VBar\"},{\"attributes\":{},\"id\":\"1720\",\"type\":\"WheelZoomTool\"},{\"attributes\":{\"data_source\":{\"id\":\"1748\"},\"glyph\":{\"id\":\"1749\"},\"hover_glyph\":null,\"muted_glyph\":null,\"nonselection_glyph\":{\"id\":\"1750\"},\"selection_glyph\":null,\"view\":{\"id\":\"1752\"}},\"id\":\"1751\",\"type\":\"GlyphRenderer\"},{\"attributes\":{},\"id\":\"2084\",\"type\":\"Selection\"},{\"attributes\":{\"axis\":{\"id\":\"1715\"},\"dimension\":1,\"ticker\":null},\"id\":\"1718\",\"type\":\"Grid\"},{\"attributes\":{\"data\":{\"x\":[\"Hawaii\"]},\"selected\":{\"id\":\"2052\"},\"selection_policy\":{\"id\":\"2053\"}},\"id\":\"1733\",\"type\":\"ColumnDataSource\"},{\"attributes\":{},\"id\":\"1719\",\"type\":\"PanTool\"},{\"attributes\":{},\"id\":\"2102\",\"type\":\"Selection\"},{\"attributes\":{},\"id\":\"2142\",\"type\":\"Selection\"},{\"attributes\":{},\"id\":\"2086\",\"type\":\"Selection\"},{\"attributes\":{\"data_source\":{\"id\":\"1883\"},\"glyph\":{\"id\":\"1884\"},\"hover_glyph\":null,\"muted_glyph\":null,\"nonselection_glyph\":{\"id\":\"1885\"},\"selection_glyph\":null,\"view\":{\"id\":\"1887\"}},\"id\":\"1886\",\"type\":\"GlyphRenderer\"},{\"attributes\":{\"fill_color\":{\"value\":\"red\"},\"line_color\":{\"value\":\"red\"},\"line_width\":{\"value\":5},\"top\":{\"value\":67.00654061015423},\"width\":{\"value\":0.5},\"x\":{\"field\":\"x\"}},\"id\":\"1884\",\"type\":\"VBar\"},{\"attributes\":{\"source\":{\"id\":\"1883\"}},\"id\":\"1887\",\"type\":\"CDSView\"},{\"attributes\":{\"fill_alpha\":{\"value\":0.1},\"fill_color\":{\"value\":\"red\"},\"line_alpha\":{\"value\":0.1},\"line_color\":{\"value\":\"red\"},\"line_width\":{\"value\":5},\"top\":{\"value\":67.00654061015423},\"width\":{\"value\":0.5},\"x\":{\"field\":\"x\"}},\"id\":\"1885\",\"type\":\"VBar\"},{\"attributes\":{\"data\":{\"x\":[\"Oklahoma\"]},\"selected\":{\"id\":\"2114\"},\"selection_policy\":{\"id\":\"2115\"}},\"id\":\"1888\",\"type\":\"ColumnDataSource\"},{\"attributes\":{\"data_source\":{\"id\":\"1888\"},\"glyph\":{\"id\":\"1889\"},\"hover_glyph\":null,\"muted_glyph\":null,\"nonselection_glyph\":{\"id\":\"1890\"},\"selection_glyph\":null,\"view\":{\"id\":\"1892\"}},\"id\":\"1891\",\"type\":\"GlyphRenderer\"},{\"attributes\":{\"fill_color\":{\"value\":\"red\"},\"line_color\":{\"value\":\"red\"},\"line_width\":{\"value\":5},\"top\":{\"value\":73.32142925251897},\"width\":{\"value\":0.5},\"x\":{\"field\":\"x\"}},\"id\":\"1889\",\"type\":\"VBar\"},{\"attributes\":{\"source\":{\"id\":\"1888\"}},\"id\":\"1892\",\"type\":\"CDSView\"},{\"attributes\":{\"fill_alpha\":{\"value\":0.1},\"fill_color\":{\"value\":\"red\"},\"line_alpha\":{\"value\":0.1},\"line_color\":{\"value\":\"red\"},\"line_width\":{\"value\":5},\"top\":{\"value\":73.32142925251897},\"width\":{\"value\":0.5},\"x\":{\"field\":\"x\"}},\"id\":\"1890\",\"type\":\"VBar\"},{\"attributes\":{\"data\":{\"x\":[\"Michigan\"]},\"selected\":{\"id\":\"2116\"},\"selection_policy\":{\"id\":\"2117\"}},\"id\":\"1893\",\"type\":\"ColumnDataSource\"},{\"attributes\":{\"data_source\":{\"id\":\"1893\"},\"glyph\":{\"id\":\"1894\"},\"hover_glyph\":null,\"muted_glyph\":null,\"nonselection_glyph\":{\"id\":\"1895\"},\"selection_glyph\":null,\"view\":{\"id\":\"1897\"}},\"id\":\"1896\",\"type\":\"GlyphRenderer\"},{\"attributes\":{\"fill_color\":{\"value\":\"blue\"},\"line_color\":{\"value\":\"blue\"},\"line_width\":{\"value\":5},\"top\":{\"value\":73.34100747073417},\"width\":{\"value\":0.5},\"x\":{\"field\":\"x\"}},\"id\":\"1894\",\"type\":\"VBar\"},{\"attributes\":{\"source\":{\"id\":\"1893\"}},\"id\":\"1897\",\"type\":\"CDSView\"},{\"attributes\":{\"fill_alpha\":{\"value\":0.1},\"fill_color\":{\"value\":\"blue\"},\"line_alpha\":{\"value\":0.1},\"line_color\":{\"value\":\"blue\"},\"line_width\":{\"value\":5},\"top\":{\"value\":73.34100747073417},\"width\":{\"value\":0.5},\"x\":{\"field\":\"x\"}},\"id\":\"1895\",\"type\":\"VBar\"},{\"attributes\":{\"data\":{\"x\":[\"Idaho\"]},\"selected\":{\"id\":\"2118\"},\"selection_policy\":{\"id\":\"2119\"}},\"id\":\"1898\",\"type\":\"ColumnDataSource\"},{\"attributes\":{},\"id\":\"2141\",\"type\":\"UnionRenderers\"},{\"attributes\":{},\"id\":\"2101\",\"type\":\"UnionRenderers\"},{\"attributes\":{\"data_source\":{\"id\":\"1898\"},\"glyph\":{\"id\":\"1899\"},\"hover_glyph\":null,\"muted_glyph\":null,\"nonselection_glyph\":{\"id\":\"1900\"},\"selection_glyph\":null,\"view\":{\"id\":\"1902\"}},\"id\":\"1901\",\"type\":\"GlyphRenderer\"},{\"attributes\":{\"fill_color\":{\"value\":\"red\"},\"line_color\":{\"value\":\"red\"},\"line_width\":{\"value\":5},\"top\":{\"value\":75.72364571130704},\"width\":{\"value\":0.5},\"x\":{\"field\":\"x\"}},\"id\":\"1899\",\"type\":\"VBar\"},{\"attributes\":{\"source\":{\"id\":\"1898\"}},\"id\":\"1902\",\"type\":\"CDSView\"},{\"attributes\":{\"fill_alpha\":{\"value\":0.1},\"fill_color\":{\"value\":\"red\"},\"line_alpha\":{\"value\":0.1},\"line_color\":{\"value\":\"red\"},\"line_width\":{\"value\":5},\"top\":{\"value\":75.72364571130704},\"width\":{\"value\":0.5},\"x\":{\"field\":\"x\"}},\"id\":\"1900\",\"type\":\"VBar\"},{\"attributes\":{\"data\":{\"x\":[\"Missouri\"]},\"selected\":{\"id\":\"2120\"},\"selection_policy\":{\"id\":\"2121\"}},\"id\":\"1903\",\"type\":\"ColumnDataSource\"},{\"attributes\":{\"data_source\":{\"id\":\"1903\"},\"glyph\":{\"id\":\"1904\"},\"hover_glyph\":null,\"muted_glyph\":null,\"nonselection_glyph\":{\"id\":\"1905\"},\"selection_glyph\":null,\"view\":{\"id\":\"1907\"}},\"id\":\"1906\",\"type\":\"GlyphRenderer\"},{\"attributes\":{\"fill_color\":{\"value\":\"red\"},\"line_color\":{\"value\":\"red\"},\"line_width\":{\"value\":5},\"top\":{\"value\":77.66345220731652},\"width\":{\"value\":0.5},\"x\":{\"field\":\"x\"}},\"id\":\"1904\",\"type\":\"VBar\"},{\"attributes\":{\"source\":{\"id\":\"1903\"}},\"id\":\"1907\",\"type\":\"CDSView\"},{\"attributes\":{\"fill_alpha\":{\"value\":0.1},\"fill_color\":{\"value\":\"red\"},\"line_alpha\":{\"value\":0.1},\"line_color\":{\"value\":\"red\"},\"line_width\":{\"value\":5},\"top\":{\"value\":77.66345220731652},\"width\":{\"value\":0.5},\"x\":{\"field\":\"x\"}},\"id\":\"1905\",\"type\":\"VBar\"},{\"attributes\":{\"data\":{\"x\":[\"Alaska\"]},\"selected\":{\"id\":\"2122\"},\"selection_policy\":{\"id\":\"2123\"}},\"id\":\"1908\",\"type\":\"ColumnDataSource\"},{\"attributes\":{\"data_source\":{\"id\":\"1908\"},\"glyph\":{\"id\":\"1909\"},\"hover_glyph\":null,\"muted_glyph\":null,\"nonselection_glyph\":{\"id\":\"1910\"},\"selection_glyph\":null,\"view\":{\"id\":\"1912\"}},\"id\":\"1911\",\"type\":\"GlyphRenderer\"},{\"attributes\":{\"fill_color\":{\"value\":\"red\"},\"line_color\":{\"value\":\"red\"},\"line_width\":{\"value\":5},\"top\":{\"value\":77.94883011035128},\"width\":{\"value\":0.5},\"x\":{\"field\":\"x\"}},\"id\":\"1909\",\"type\":\"VBar\"},{\"attributes\":{\"source\":{\"id\":\"1908\"}},\"id\":\"1912\",\"type\":\"CDSView\"},{\"attributes\":{\"fill_alpha\":{\"value\":0.1},\"fill_color\":{\"value\":\"red\"},\"line_alpha\":{\"value\":0.1},\"line_color\":{\"value\":\"red\"},\"line_width\":{\"value\":5},\"top\":{\"value\":77.94883011035128},\"width\":{\"value\":0.5},\"x\":{\"field\":\"x\"}},\"id\":\"1910\",\"type\":\"VBar\"},{\"attributes\":{\"data\":{\"x\":[\"Rhode Island\"]},\"selected\":{\"id\":\"2124\"},\"selection_policy\":{\"id\":\"2125\"}},\"id\":\"1913\",\"type\":\"ColumnDataSource\"},{\"attributes\":{},\"id\":\"2143\",\"type\":\"UnionRenderers\"},{\"attributes\":{\"data_source\":{\"id\":\"1913\"},\"glyph\":{\"id\":\"1914\"},\"hover_glyph\":null,\"muted_glyph\":null,\"nonselection_glyph\":{\"id\":\"1915\"},\"selection_glyph\":null,\"view\":{\"id\":\"1917\"}},\"id\":\"1916\",\"type\":\"GlyphRenderer\"},{\"attributes\":{\"fill_color\":{\"value\":\"blue\"},\"line_color\":{\"value\":\"blue\"},\"line_width\":{\"value\":5},\"top\":{\"value\":85.50147029853193},\"width\":{\"value\":0.5},\"x\":{\"field\":\"x\"}},\"id\":\"1914\",\"type\":\"VBar\"},{\"attributes\":{\"source\":{\"id\":\"1913\"}},\"id\":\"1917\",\"type\":\"CDSView\"},{\"attributes\":{},\"id\":\"2146\",\"type\":\"Selection\"},{\"attributes\":{\"fill_alpha\":{\"value\":0.1},\"fill_color\":{\"value\":\"blue\"},\"line_alpha\":{\"value\":0.1},\"line_color\":{\"value\":\"blue\"},\"line_width\":{\"value\":5},\"top\":{\"value\":85.50147029853193},\"width\":{\"value\":0.5},\"x\":{\"field\":\"x\"}},\"id\":\"1915\",\"type\":\"VBar\"},{\"attributes\":{},\"id\":\"2144\",\"type\":\"Selection\"},{\"attributes\":{\"data\":{\"x\":[\"Colorado\"]},\"selected\":{\"id\":\"2126\"},\"selection_policy\":{\"id\":\"2127\"}},\"id\":\"1918\",\"type\":\"ColumnDataSource\"},{\"attributes\":{},\"id\":\"2147\",\"type\":\"UnionRenderers\"},{\"attributes\":{\"fill_color\":{\"value\":\"red\"},\"line_color\":{\"value\":\"red\"},\"line_width\":{\"value\":5},\"top\":{\"value\":85.93231890844423},\"width\":{\"value\":0.5},\"x\":{\"field\":\"x\"}},\"id\":\"1919\",\"type\":\"VBar\"},{\"attributes\":{},\"id\":\"2145\",\"type\":\"UnionRenderers\"},{\"attributes\":{\"data_source\":{\"id\":\"1773\"},\"glyph\":{\"id\":\"1774\"},\"hover_glyph\":null,\"muted_glyph\":null,\"nonselection_glyph\":{\"id\":\"1775\"},\"selection_glyph\":null,\"view\":{\"id\":\"1777\"}},\"id\":\"1776\",\"type\":\"GlyphRenderer\"},{\"attributes\":{\"source\":{\"id\":\"1808\"}},\"id\":\"1812\",\"type\":\"CDSView\"},{\"attributes\":{\"data\":{\"x\":[\"Pennsylvania\"]},\"selected\":{\"id\":\"2098\"},\"selection_policy\":{\"id\":\"2099\"}},\"id\":\"1848\",\"type\":\"ColumnDataSource\"},{\"attributes\":{\"source\":{\"id\":\"1773\"}},\"id\":\"1777\",\"type\":\"CDSView\"},{\"attributes\":{\"data\":{\"x\":[\"Texas\"]},\"selected\":{\"id\":\"2084\"},\"selection_policy\":{\"id\":\"2085\"}},\"id\":\"1813\",\"type\":\"ColumnDataSource\"},{\"attributes\":{\"data\":{\"x\":[\"New Hampshire\"]},\"selected\":{\"id\":\"2070\"},\"selection_policy\":{\"id\":\"2071\"}},\"id\":\"1778\",\"type\":\"ColumnDataSource\"},{\"attributes\":{\"data_source\":{\"id\":\"1848\"},\"glyph\":{\"id\":\"1849\"},\"hover_glyph\":null,\"muted_glyph\":null,\"nonselection_glyph\":{\"id\":\"1850\"},\"selection_glyph\":null,\"view\":{\"id\":\"1852\"}},\"id\":\"1851\",\"type\":\"GlyphRenderer\"},{\"attributes\":{\"fill_color\":{\"value\":\"blue\"},\"line_color\":{\"value\":\"blue\"},\"line_width\":{\"value\":5},\"top\":{\"value\":45.788557964283164},\"width\":{\"value\":0.5},\"x\":{\"field\":\"x\"}},\"id\":\"1849\",\"type\":\"VBar\"},{\"attributes\":{\"data_source\":{\"id\":\"1813\"},\"glyph\":{\"id\":\"1814\"},\"hover_glyph\":null,\"muted_glyph\":null,\"nonselection_glyph\":{\"id\":\"1815\"},\"selection_glyph\":null,\"view\":{\"id\":\"1817\"}},\"id\":\"1816\",\"type\":\"GlyphRenderer\"},{\"attributes\":{\"source\":{\"id\":\"1848\"}},\"id\":\"1852\",\"type\":\"CDSView\"},{\"attributes\":{\"fill_color\":{\"value\":\"blue\"},\"line_color\":{\"value\":\"blue\"},\"line_width\":{\"value\":5},\"top\":{\"value\":38.64235857393782},\"width\":{\"value\":0.5},\"x\":{\"field\":\"x\"}},\"id\":\"1814\",\"type\":\"VBar\"},{\"attributes\":{\"fill_alpha\":{\"value\":0.1},\"fill_color\":{\"value\":\"blue\"},\"line_alpha\":{\"value\":0.1},\"line_color\":{\"value\":\"blue\"},\"line_width\":{\"value\":5},\"top\":{\"value\":45.788557964283164},\"width\":{\"value\":0.5},\"x\":{\"field\":\"x\"}},\"id\":\"1850\",\"type\":\"VBar\"},{\"attributes\":{\"data_source\":{\"id\":\"1778\"},\"glyph\":{\"id\":\"1779\"},\"hover_glyph\":null,\"muted_glyph\":null,\"nonselection_glyph\":{\"id\":\"1780\"},\"selection_glyph\":null,\"view\":{\"id\":\"1782\"}},\"id\":\"1781\",\"type\":\"GlyphRenderer\"},{\"attributes\":{\"source\":{\"id\":\"1813\"}},\"id\":\"1817\",\"type\":\"CDSView\"},{\"attributes\":{\"fill_color\":{\"value\":\"red\"},\"line_color\":{\"value\":\"red\"},\"line_width\":{\"value\":5},\"top\":{\"value\":28.98240310455112},\"width\":{\"value\":0.5},\"x\":{\"field\":\"x\"}},\"id\":\"1779\",\"type\":\"VBar\"},{\"attributes\":{\"fill_alpha\":{\"value\":0.1},\"fill_color\":{\"value\":\"blue\"},\"line_alpha\":{\"value\":0.1},\"line_color\":{\"value\":\"blue\"},\"line_width\":{\"value\":5},\"top\":{\"value\":38.64235857393782},\"width\":{\"value\":0.5},\"x\":{\"field\":\"x\"}},\"id\":\"1815\",\"type\":\"VBar\"},{\"attributes\":{\"data\":{\"x\":[\"West Virginia\"]},\"selected\":{\"id\":\"2100\"},\"selection_policy\":{\"id\":\"2101\"}},\"id\":\"1853\",\"type\":\"ColumnDataSource\"},{\"attributes\":{\"source\":{\"id\":\"1778\"}},\"id\":\"1782\",\"type\":\"CDSView\"},{\"attributes\":{\"fill_alpha\":{\"value\":0.1},\"fill_color\":{\"value\":\"red\"},\"line_alpha\":{\"value\":0.1},\"line_color\":{\"value\":\"red\"},\"line_width\":{\"value\":5},\"top\":{\"value\":28.98240310455112},\"width\":{\"value\":0.5},\"x\":{\"field\":\"x\"}},\"id\":\"1780\",\"type\":\"VBar\"},{\"attributes\":{\"data\":{\"x\":[\"Delaware\"]},\"selected\":{\"id\":\"2086\"},\"selection_policy\":{\"id\":\"2087\"}},\"id\":\"1818\",\"type\":\"ColumnDataSource\"},{\"attributes\":{\"data\":{\"x\":[\"Washington\"]},\"selected\":{\"id\":\"2072\"},\"selection_policy\":{\"id\":\"2073\"}},\"id\":\"1783\",\"type\":\"ColumnDataSource\"},{\"attributes\":{\"data_source\":{\"id\":\"1853\"},\"glyph\":{\"id\":\"1854\"},\"hover_glyph\":null,\"muted_glyph\":null,\"nonselection_glyph\":{\"id\":\"1855\"},\"selection_glyph\":null,\"view\":{\"id\":\"1857\"}},\"id\":\"1856\",\"type\":\"GlyphRenderer\"},{\"attributes\":{},\"id\":\"2087\",\"type\":\"UnionRenderers\"},{\"attributes\":{\"fill_color\":{\"value\":\"blue\"},\"line_color\":{\"value\":\"blue\"},\"line_width\":{\"value\":5},\"top\":{\"value\":50.63973332201329},\"width\":{\"value\":0.5},\"x\":{\"field\":\"x\"}},\"id\":\"1854\",\"type\":\"VBar\"},{\"attributes\":{},\"id\":\"2099\",\"type\":\"UnionRenderers\"},{\"attributes\":{\"data_source\":{\"id\":\"1818\"},\"glyph\":{\"id\":\"1819\"},\"hover_glyph\":null,\"muted_glyph\":null,\"nonselection_glyph\":{\"id\":\"1820\"},\"selection_glyph\":null,\"view\":{\"id\":\"1822\"}},\"id\":\"1821\",\"type\":\"GlyphRenderer\"},{\"attributes\":{\"source\":{\"id\":\"1853\"}},\"id\":\"1857\",\"type\":\"CDSView\"},{\"attributes\":{\"fill_color\":{\"value\":\"blue\"},\"line_color\":{\"value\":\"blue\"},\"line_width\":{\"value\":5},\"top\":{\"value\":40.27985931198619},\"width\":{\"value\":0.5},\"x\":{\"field\":\"x\"}},\"id\":\"1819\",\"type\":\"VBar\"},{\"attributes\":{\"fill_alpha\":{\"value\":0.1},\"fill_color\":{\"value\":\"blue\"},\"line_alpha\":{\"value\":0.1},\"line_color\":{\"value\":\"blue\"},\"line_width\":{\"value\":5},\"top\":{\"value\":50.63973332201329},\"width\":{\"value\":0.5},\"x\":{\"field\":\"x\"}},\"id\":\"1855\",\"type\":\"VBar\"},{\"attributes\":{\"data_source\":{\"id\":\"1783\"},\"glyph\":{\"id\":\"1784\"},\"hover_glyph\":null,\"muted_glyph\":null,\"nonselection_glyph\":{\"id\":\"1785\"},\"selection_glyph\":null,\"view\":{\"id\":\"1787\"}},\"id\":\"1786\",\"type\":\"GlyphRenderer\"},{\"attributes\":{\"source\":{\"id\":\"1818\"}},\"id\":\"1822\",\"type\":\"CDSView\"},{\"attributes\":{\"fill_color\":{\"value\":\"blue\"},\"line_color\":{\"value\":\"blue\"},\"line_width\":{\"value\":5},\"top\":{\"value\":29.542311160713417},\"width\":{\"value\":0.5},\"x\":{\"field\":\"x\"}},\"id\":\"1784\",\"type\":\"VBar\"},{\"attributes\":{\"fill_alpha\":{\"value\":0.1},\"fill_color\":{\"value\":\"blue\"},\"line_alpha\":{\"value\":0.1},\"line_color\":{\"value\":\"blue\"},\"line_width\":{\"value\":5},\"top\":{\"value\":40.27985931198619},\"width\":{\"value\":0.5},\"x\":{\"field\":\"x\"}},\"id\":\"1820\",\"type\":\"VBar\"},{\"attributes\":{\"data\":{\"x\":[\"Connecticut\"]},\"selected\":{\"id\":\"2102\"},\"selection_policy\":{\"id\":\"2103\"}},\"id\":\"1858\",\"type\":\"ColumnDataSource\"},{\"attributes\":{\"source\":{\"id\":\"1783\"}},\"id\":\"1787\",\"type\":\"CDSView\"},{\"attributes\":{\"fill_alpha\":{\"value\":0.1},\"fill_color\":{\"value\":\"blue\"},\"line_alpha\":{\"value\":0.1},\"line_color\":{\"value\":\"blue\"},\"line_width\":{\"value\":5},\"top\":{\"value\":29.542311160713417},\"width\":{\"value\":0.5},\"x\":{\"field\":\"x\"}},\"id\":\"1785\",\"type\":\"VBar\"},{\"attributes\":{\"data\":{\"x\":[\"Mississippi\"]},\"selected\":{\"id\":\"2088\"},\"selection_policy\":{\"id\":\"2089\"}},\"id\":\"1823\",\"type\":\"ColumnDataSource\"},{\"attributes\":{\"data\":{\"x\":[\"South Carolina\"]},\"selected\":{\"id\":\"2074\"},\"selection_policy\":{\"id\":\"2075\"}},\"id\":\"1788\",\"type\":\"ColumnDataSource\"},{\"attributes\":{\"data_source\":{\"id\":\"1858\"},\"glyph\":{\"id\":\"1859\"},\"hover_glyph\":null,\"muted_glyph\":null,\"nonselection_glyph\":{\"id\":\"1860\"},\"selection_glyph\":null,\"view\":{\"id\":\"1862\"}},\"id\":\"1861\",\"type\":\"GlyphRenderer\"},{\"attributes\":{\"fill_color\":{\"value\":\"blue\"},\"line_color\":{\"value\":\"blue\"},\"line_width\":{\"value\":5},\"top\":{\"value\":51.24843655374298},\"width\":{\"value\":0.5},\"x\":{\"field\":\"x\"}},\"id\":\"1859\",\"type\":\"VBar\"},{\"attributes\":{\"data_source\":{\"id\":\"1823\"},\"glyph\":{\"id\":\"1824\"},\"hover_glyph\":null,\"muted_glyph\":null,\"nonselection_glyph\":{\"id\":\"1825\"},\"selection_glyph\":null,\"view\":{\"id\":\"1827\"}},\"id\":\"1826\",\"type\":\"GlyphRenderer\"},{\"attributes\":{\"source\":{\"id\":\"1858\"}},\"id\":\"1862\",\"type\":\"CDSView\"},{\"attributes\":{\"fill_color\":{\"value\":\"red\"},\"line_color\":{\"value\":\"red\"},\"line_width\":{\"value\":5},\"top\":{\"value\":40.68499775535948},\"width\":{\"value\":0.5},\"x\":{\"field\":\"x\"}},\"id\":\"1824\",\"type\":\"VBar\"},{\"attributes\":{\"fill_alpha\":{\"value\":0.1},\"fill_color\":{\"value\":\"blue\"},\"line_alpha\":{\"value\":0.1},\"line_color\":{\"value\":\"blue\"},\"line_width\":{\"value\":5},\"top\":{\"value\":51.24843655374298},\"width\":{\"value\":0.5},\"x\":{\"field\":\"x\"}},\"id\":\"1860\",\"type\":\"VBar\"},{\"attributes\":{\"data_source\":{\"id\":\"1788\"},\"glyph\":{\"id\":\"1789\"},\"hover_glyph\":null,\"muted_glyph\":null,\"nonselection_glyph\":{\"id\":\"1790\"},\"selection_glyph\":null,\"view\":{\"id\":\"1792\"}},\"id\":\"1791\",\"type\":\"GlyphRenderer\"},{\"attributes\":{\"source\":{\"id\":\"1823\"}},\"id\":\"1827\",\"type\":\"CDSView\"},{\"attributes\":{\"fill_color\":{\"value\":\"red\"},\"line_color\":{\"value\":\"red\"},\"line_width\":{\"value\":5},\"top\":{\"value\":29.602612344632973},\"width\":{\"value\":0.5},\"x\":{\"field\":\"x\"}},\"id\":\"1789\",\"type\":\"VBar\"},{\"attributes\":{\"fill_alpha\":{\"value\":0.1},\"fill_color\":{\"value\":\"red\"},\"line_alpha\":{\"value\":0.1},\"line_color\":{\"value\":\"red\"},\"line_width\":{\"value\":5},\"top\":{\"value\":40.68499775535948},\"width\":{\"value\":0.5},\"x\":{\"field\":\"x\"}},\"id\":\"1825\",\"type\":\"VBar\"},{\"attributes\":{\"data\":{\"x\":[\"Arkansas\"]},\"selected\":{\"id\":\"2104\"},\"selection_policy\":{\"id\":\"2105\"}},\"id\":\"1863\",\"type\":\"ColumnDataSource\"},{\"attributes\":{\"source\":{\"id\":\"1788\"}},\"id\":\"1792\",\"type\":\"CDSView\"},{\"attributes\":{\"fill_alpha\":{\"value\":0.1},\"fill_color\":{\"value\":\"red\"},\"line_alpha\":{\"value\":0.1},\"line_color\":{\"value\":\"red\"},\"line_width\":{\"value\":5},\"top\":{\"value\":29.602612344632973},\"width\":{\"value\":0.5},\"x\":{\"field\":\"x\"}},\"id\":\"1790\",\"type\":\"VBar\"},{\"attributes\":{\"data\":{\"x\":[\"Arizona\"]},\"selected\":{\"id\":\"2090\"},\"selection_policy\":{\"id\":\"2091\"}},\"id\":\"1828\",\"type\":\"ColumnDataSource\"},{\"attributes\":{\"data\":{\"x\":[\"North Carolina\"]},\"selected\":{\"id\":\"2076\"},\"selection_policy\":{\"id\":\"2077\"}},\"id\":\"1793\",\"type\":\"ColumnDataSource\"},{\"attributes\":{\"data_source\":{\"id\":\"1863\"},\"glyph\":{\"id\":\"1864\"},\"hover_glyph\":null,\"muted_glyph\":null,\"nonselection_glyph\":{\"id\":\"1865\"},\"selection_glyph\":null,\"view\":{\"id\":\"1867\"}},\"id\":\"1866\",\"type\":\"GlyphRenderer\"},{\"attributes\":{\"fill_color\":{\"value\":\"red\"},\"line_color\":{\"value\":\"red\"},\"line_width\":{\"value\":5},\"top\":{\"value\":55.96275151885788},\"width\":{\"value\":0.5},\"x\":{\"field\":\"x\"}},\"id\":\"1864\",\"type\":\"VBar\"},{\"attributes\":{\"data_source\":{\"id\":\"1828\"},\"glyph\":{\"id\":\"1829\"},\"hover_glyph\":null,\"muted_glyph\":null,\"nonselection_glyph\":{\"id\":\"1830\"},\"selection_glyph\":null,\"view\":{\"id\":\"1832\"}},\"id\":\"1831\",\"type\":\"GlyphRenderer\"},{\"attributes\":{\"source\":{\"id\":\"1863\"}},\"id\":\"1867\",\"type\":\"CDSView\"},{\"attributes\":{\"fill_color\":{\"value\":\"blue\"},\"line_color\":{\"value\":\"blue\"},\"line_width\":{\"value\":5},\"top\":{\"value\":42.0012736606444},\"width\":{\"value\":0.5},\"x\":{\"field\":\"x\"}},\"id\":\"1829\",\"type\":\"VBar\"},{\"attributes\":{\"fill_alpha\":{\"value\":0.1},\"fill_color\":{\"value\":\"red\"},\"line_alpha\":{\"value\":0.1},\"line_color\":{\"value\":\"red\"},\"line_width\":{\"value\":5},\"top\":{\"value\":55.96275151885788},\"width\":{\"value\":0.5},\"x\":{\"field\":\"x\"}},\"id\":\"1865\",\"type\":\"VBar\"},{\"attributes\":{},\"id\":\"2090\",\"type\":\"Selection\"},{\"attributes\":{\"data_source\":{\"id\":\"1793\"},\"glyph\":{\"id\":\"1794\"},\"hover_glyph\":null,\"muted_glyph\":null,\"nonselection_glyph\":{\"id\":\"1795\"},\"selection_glyph\":null,\"view\":{\"id\":\"1797\"}},\"id\":\"1796\",\"type\":\"GlyphRenderer\"},{\"attributes\":{\"source\":{\"id\":\"1828\"}},\"id\":\"1832\",\"type\":\"CDSView\"},{\"attributes\":{\"fill_color\":{\"value\":\"blue\"},\"line_color\":{\"value\":\"blue\"},\"line_width\":{\"value\":5},\"top\":{\"value\":30.498347531277474},\"width\":{\"value\":0.5},\"x\":{\"field\":\"x\"}},\"id\":\"1794\",\"type\":\"VBar\"},{\"attributes\":{\"fill_alpha\":{\"value\":0.1},\"fill_color\":{\"value\":\"blue\"},\"line_alpha\":{\"value\":0.1},\"line_color\":{\"value\":\"blue\"},\"line_width\":{\"value\":5},\"top\":{\"value\":42.0012736606444},\"width\":{\"value\":0.5},\"x\":{\"field\":\"x\"}},\"id\":\"1830\",\"type\":\"VBar\"},{\"attributes\":{\"data\":{\"x\":[\"Tennessee\"]},\"selected\":{\"id\":\"2106\"},\"selection_policy\":{\"id\":\"2107\"}},\"id\":\"1868\",\"type\":\"ColumnDataSource\"},{\"attributes\":{\"source\":{\"id\":\"1793\"}},\"id\":\"1797\",\"type\":\"CDSView\"},{\"attributes\":{\"fill_alpha\":{\"value\":0.1},\"fill_color\":{\"value\":\"blue\"},\"line_alpha\":{\"value\":0.1},\"line_color\":{\"value\":\"blue\"},\"line_width\":{\"value\":5},\"top\":{\"value\":30.498347531277474},\"width\":{\"value\":0.5},\"x\":{\"field\":\"x\"}},\"id\":\"1795\",\"type\":\"VBar\"},{\"attributes\":{\"data\":{\"x\":[\"New Jersey\"]},\"selected\":{\"id\":\"2092\"},\"selection_policy\":{\"id\":\"2093\"}},\"id\":\"1833\",\"type\":\"ColumnDataSource\"},{\"attributes\":{\"data\":{\"x\":[\"Florida\"]},\"selected\":{\"id\":\"2078\"},\"selection_policy\":{\"id\":\"2079\"}},\"id\":\"1798\",\"type\":\"ColumnDataSource\"},{\"attributes\":{\"data_source\":{\"id\":\"1868\"},\"glyph\":{\"id\":\"1869\"},\"hover_glyph\":null,\"muted_glyph\":null,\"nonselection_glyph\":{\"id\":\"1870\"},\"selection_glyph\":null,\"view\":{\"id\":\"1872\"}},\"id\":\"1871\",\"type\":\"GlyphRenderer\"},{\"attributes\":{\"fill_color\":{\"value\":\"red\"},\"line_color\":{\"value\":\"red\"},\"line_width\":{\"value\":5},\"top\":{\"value\":59.59950421755027},\"width\":{\"value\":0.5},\"x\":{\"field\":\"x\"}},\"id\":\"1869\",\"type\":\"VBar\"},{\"attributes\":{\"data_source\":{\"id\":\"1833\"},\"glyph\":{\"id\":\"1834\"},\"hover_glyph\":null,\"muted_glyph\":null,\"nonselection_glyph\":{\"id\":\"1835\"},\"selection_glyph\":null,\"view\":{\"id\":\"1837\"}},\"id\":\"1836\",\"type\":\"GlyphRenderer\"},{\"attributes\":{\"source\":{\"id\":\"1868\"}},\"id\":\"1872\",\"type\":\"CDSView\"},{\"attributes\":{\"fill_color\":{\"value\":\"blue\"},\"line_color\":{\"value\":\"blue\"},\"line_width\":{\"value\":5},\"top\":{\"value\":42.583053191923305},\"width\":{\"value\":0.5},\"x\":{\"field\":\"x\"}},\"id\":\"1834\",\"type\":\"VBar\"},{\"attributes\":{\"fill_alpha\":{\"value\":0.1},\"fill_color\":{\"value\":\"red\"},\"line_alpha\":{\"value\":0.1},\"line_color\":{\"value\":\"red\"},\"line_width\":{\"value\":5},\"top\":{\"value\":59.59950421755027},\"width\":{\"value\":0.5},\"x\":{\"field\":\"x\"}},\"id\":\"1870\",\"type\":\"VBar\"},{\"attributes\":{\"data_source\":{\"id\":\"1798\"},\"glyph\":{\"id\":\"1799\"},\"hover_glyph\":null,\"muted_glyph\":null,\"nonselection_glyph\":{\"id\":\"1800\"},\"selection_glyph\":null,\"view\":{\"id\":\"1802\"}},\"id\":\"1801\",\"type\":\"GlyphRenderer\"},{\"attributes\":{\"source\":{\"id\":\"1833\"}},\"id\":\"1837\",\"type\":\"CDSView\"},{\"attributes\":{\"fill_color\":{\"value\":\"red\"},\"line_color\":{\"value\":\"red\"},\"line_width\":{\"value\":5},\"top\":{\"value\":33.154545815726095},\"width\":{\"value\":0.5},\"x\":{\"field\":\"x\"}},\"id\":\"1799\",\"type\":\"VBar\"},{\"attributes\":{\"fill_alpha\":{\"value\":0.1},\"fill_color\":{\"value\":\"blue\"},\"line_alpha\":{\"value\":0.1},\"line_color\":{\"value\":\"blue\"},\"line_width\":{\"value\":5},\"top\":{\"value\":42.583053191923305},\"width\":{\"value\":0.5},\"x\":{\"field\":\"x\"}},\"id\":\"1835\",\"type\":\"VBar\"},{\"attributes\":{\"data\":{\"x\":[\"Nevada\"]},\"selected\":{\"id\":\"2108\"},\"selection_policy\":{\"id\":\"2109\"}},\"id\":\"1873\",\"type\":\"ColumnDataSource\"},{\"attributes\":{},\"id\":\"2088\",\"type\":\"Selection\"},{\"attributes\":{\"source\":{\"id\":\"1798\"}},\"id\":\"1802\",\"type\":\"CDSView\"},{\"attributes\":{\"fill_alpha\":{\"value\":0.1},\"fill_color\":{\"value\":\"red\"},\"line_alpha\":{\"value\":0.1},\"line_color\":{\"value\":\"red\"},\"line_width\":{\"value\":5},\"top\":{\"value\":33.154545815726095},\"width\":{\"value\":0.5},\"x\":{\"field\":\"x\"}},\"id\":\"1800\",\"type\":\"VBar\"},{\"attributes\":{\"data\":{\"x\":[\"Alabama\"]},\"selected\":{\"id\":\"2094\"},\"selection_policy\":{\"id\":\"2095\"}},\"id\":\"1838\",\"type\":\"ColumnDataSource\"},{\"attributes\":{},\"id\":\"2095\",\"type\":\"UnionRenderers\"},{\"attributes\":{\"data\":{\"x\":[\"Maryland\"]},\"selected\":{\"id\":\"2080\"},\"selection_policy\":{\"id\":\"2081\"}},\"id\":\"1803\",\"type\":\"ColumnDataSource\"},{\"attributes\":{},\"id\":\"2094\",\"type\":\"Selection\"},{\"attributes\":{\"data_source\":{\"id\":\"1873\"},\"glyph\":{\"id\":\"1874\"},\"hover_glyph\":null,\"muted_glyph\":null,\"nonselection_glyph\":{\"id\":\"1875\"},\"selection_glyph\":null,\"view\":{\"id\":\"1877\"}},\"id\":\"1876\",\"type\":\"GlyphRenderer\"},{\"attributes\":{\"fill_color\":{\"value\":\"blue\"},\"line_color\":{\"value\":\"blue\"},\"line_width\":{\"value\":5},\"top\":{\"value\":60.111840489197995},\"width\":{\"value\":0.5},\"x\":{\"field\":\"x\"}},\"id\":\"1874\",\"type\":\"VBar\"},{\"attributes\":{\"data_source\":{\"id\":\"1838\"},\"glyph\":{\"id\":\"1839\"},\"hover_glyph\":null,\"muted_glyph\":null,\"nonselection_glyph\":{\"id\":\"1840\"},\"selection_glyph\":null,\"view\":{\"id\":\"1842\"}},\"id\":\"1841\",\"type\":\"GlyphRenderer\"},{\"attributes\":{\"source\":{\"id\":\"1873\"}},\"id\":\"1877\",\"type\":\"CDSView\"},{\"attributes\":{},\"id\":\"2091\",\"type\":\"UnionRenderers\"},{\"attributes\":{\"fill_color\":{\"value\":\"blue\"},\"line_color\":{\"value\":\"blue\"},\"line_width\":{\"value\":5},\"top\":{\"value\":43.16346650972002},\"width\":{\"value\":0.5},\"x\":{\"field\":\"x\"}},\"id\":\"1839\",\"type\":\"VBar\"},{\"attributes\":{\"fill_alpha\":{\"value\":0.1},\"fill_color\":{\"value\":\"blue\"},\"line_alpha\":{\"value\":0.1},\"line_color\":{\"value\":\"blue\"},\"line_width\":{\"value\":5},\"top\":{\"value\":60.111840489197995},\"width\":{\"value\":0.5},\"x\":{\"field\":\"x\"}},\"id\":\"1875\",\"type\":\"VBar\"},{\"attributes\":{},\"id\":\"2093\",\"type\":\"UnionRenderers\"},{\"attributes\":{\"data_source\":{\"id\":\"1803\"},\"glyph\":{\"id\":\"1804\"},\"hover_glyph\":null,\"muted_glyph\":null,\"nonselection_glyph\":{\"id\":\"1805\"},\"selection_glyph\":null,\"view\":{\"id\":\"1807\"}},\"id\":\"1806\",\"type\":\"GlyphRenderer\"},{\"attributes\":{\"source\":{\"id\":\"1838\"}},\"id\":\"1842\",\"type\":\"CDSView\"},{\"attributes\":{\"fill_color\":{\"value\":\"blue\"},\"line_color\":{\"value\":\"blue\"},\"line_width\":{\"value\":5},\"top\":{\"value\":34.34238612084611},\"width\":{\"value\":0.5},\"x\":{\"field\":\"x\"}},\"id\":\"1804\",\"type\":\"VBar\"},{\"attributes\":{\"fill_alpha\":{\"value\":0.1},\"fill_color\":{\"value\":\"blue\"},\"line_alpha\":{\"value\":0.1},\"line_color\":{\"value\":\"blue\"},\"line_width\":{\"value\":5},\"top\":{\"value\":43.16346650972002},\"width\":{\"value\":0.5},\"x\":{\"field\":\"x\"}},\"id\":\"1840\",\"type\":\"VBar\"},{\"attributes\":{\"data\":{\"x\":[\"Kentucky\"]},\"selected\":{\"id\":\"2110\"},\"selection_policy\":{\"id\":\"2111\"}},\"id\":\"1878\",\"type\":\"ColumnDataSource\"},{\"attributes\":{\"source\":{\"id\":\"1803\"}},\"id\":\"1807\",\"type\":\"CDSView\"},{\"attributes\":{},\"id\":\"2092\",\"type\":\"Selection\"},{\"attributes\":{\"fill_alpha\":{\"value\":0.1},\"fill_color\":{\"value\":\"blue\"},\"line_alpha\":{\"value\":0.1},\"line_color\":{\"value\":\"blue\"},\"line_width\":{\"value\":5},\"top\":{\"value\":34.34238612084611},\"width\":{\"value\":0.5},\"x\":{\"field\":\"x\"}},\"id\":\"1805\",\"type\":\"VBar\"},{\"attributes\":{\"data\":{\"x\":[\"Louisiana\"]},\"selected\":{\"id\":\"2096\"},\"selection_policy\":{\"id\":\"2097\"}},\"id\":\"1843\",\"type\":\"ColumnDataSource\"},{\"attributes\":{\"data\":{\"x\":[\"Massachusetts\"]},\"selected\":{\"id\":\"2082\"},\"selection_policy\":{\"id\":\"2083\"}},\"id\":\"1808\",\"type\":\"ColumnDataSource\"},{\"attributes\":{},\"id\":\"2089\",\"type\":\"UnionRenderers\"},{\"attributes\":{\"data_source\":{\"id\":\"1878\"},\"glyph\":{\"id\":\"1879\"},\"hover_glyph\":null,\"muted_glyph\":null,\"nonselection_glyph\":{\"id\":\"1880\"},\"selection_glyph\":null,\"view\":{\"id\":\"1882\"}},\"id\":\"1881\",\"type\":\"GlyphRenderer\"},{\"attributes\":{\"fill_color\":{\"value\":\"blue\"},\"line_color\":{\"value\":\"blue\"},\"line_width\":{\"value\":5},\"top\":{\"value\":62.49166125012008},\"width\":{\"value\":0.5},\"x\":{\"field\":\"x\"}},\"id\":\"1879\",\"type\":\"VBar\"},{\"attributes\":{},\"id\":\"2096\",\"type\":\"Selection\"},{\"attributes\":{\"data_source\":{\"id\":\"1843\"},\"glyph\":{\"id\":\"1844\"},\"hover_glyph\":null,\"muted_glyph\":null,\"nonselection_glyph\":{\"id\":\"1845\"},\"selection_glyph\":null,\"view\":{\"id\":\"1847\"}},\"id\":\"1846\",\"type\":\"GlyphRenderer\"},{\"attributes\":{\"source\":{\"id\":\"1878\"}},\"id\":\"1882\",\"type\":\"CDSView\"},{\"attributes\":{},\"id\":\"2100\",\"type\":\"Selection\"},{\"attributes\":{\"fill_alpha\":{\"value\":0.1},\"fill_color\":{\"value\":\"blue\"},\"line_alpha\":{\"value\":0.1},\"line_color\":{\"value\":\"blue\"},\"line_width\":{\"value\":5},\"top\":{\"value\":37.65741504266972},\"width\":{\"value\":0.5},\"x\":{\"field\":\"x\"}},\"id\":\"1810\",\"type\":\"VBar\"},{\"attributes\":{\"fill_color\":{\"value\":\"red\"},\"line_color\":{\"value\":\"red\"},\"line_width\":{\"value\":5},\"top\":{\"value\":43.77975813148032},\"width\":{\"value\":0.5},\"x\":{\"field\":\"x\"}},\"id\":\"1844\",\"type\":\"VBar\"},{\"attributes\":{\"fill_alpha\":{\"value\":0.1},\"fill_color\":{\"value\":\"blue\"},\"line_alpha\":{\"value\":0.1},\"line_color\":{\"value\":\"blue\"},\"line_width\":{\"value\":5},\"top\":{\"value\":62.49166125012008},\"width\":{\"value\":0.5},\"x\":{\"field\":\"x\"}},\"id\":\"1880\",\"type\":\"VBar\"},{\"attributes\":{\"source\":{\"id\":\"1843\"}},\"id\":\"1847\",\"type\":\"CDSView\"},{\"attributes\":{},\"id\":\"2097\",\"type\":\"UnionRenderers\"},{\"attributes\":{\"fill_color\":{\"value\":\"blue\"},\"line_color\":{\"value\":\"blue\"},\"line_width\":{\"value\":5},\"top\":{\"value\":37.65741504266972},\"width\":{\"value\":0.5},\"x\":{\"field\":\"x\"}},\"id\":\"1809\",\"type\":\"VBar\"},{\"attributes\":{\"fill_alpha\":{\"value\":0.1},\"fill_color\":{\"value\":\"red\"},\"line_alpha\":{\"value\":0.1},\"line_color\":{\"value\":\"red\"},\"line_width\":{\"value\":5},\"top\":{\"value\":43.77975813148032},\"width\":{\"value\":0.5},\"x\":{\"field\":\"x\"}},\"id\":\"1845\",\"type\":\"VBar\"},{\"attributes\":{\"data\":{\"x\":[\"Ohio\"]},\"selected\":{\"id\":\"2112\"},\"selection_policy\":{\"id\":\"2113\"}},\"id\":\"1883\",\"type\":\"ColumnDataSource\"},{\"attributes\":{\"data_source\":{\"id\":\"1808\"},\"glyph\":{\"id\":\"1809\"},\"hover_glyph\":null,\"muted_glyph\":null,\"nonselection_glyph\":{\"id\":\"1810\"},\"selection_glyph\":null,\"view\":{\"id\":\"1812\"}},\"id\":\"1811\",\"type\":\"GlyphRenderer\"},{\"attributes\":{},\"id\":\"2098\",\"type\":\"Selection\"},{\"attributes\":{},\"id\":\"2127\",\"type\":\"UnionRenderers\"},{\"attributes\":{},\"id\":\"2128\",\"type\":\"Selection\"}],\"root_ids\":[\"1702\"]},\"title\":\"Bokeh Application\",\"version\":\"2.0.2\"}};\n",
       "  var render_items = [{\"docid\":\"3a3d9d50-6cbe-4f55-ac20-fe6f57f7a481\",\"root_ids\":[\"1702\"],\"roots\":{\"1702\":\"62a18131-f66d-4dfe-a721-15a38840d0a6\"}}];\n",
       "  root.Bokeh.embed.embed_items_notebook(docs_json, render_items);\n",
       "\n",
       "  }\n",
       "  if (root.Bokeh !== undefined) {\n",
       "    embed_document(root);\n",
       "  } else {\n",
       "    var attempts = 0;\n",
       "    var timer = setInterval(function(root) {\n",
       "      if (root.Bokeh !== undefined) {\n",
       "        clearInterval(timer);\n",
       "        embed_document(root);\n",
       "      } else {\n",
       "        attempts++;\n",
       "        if (attempts > 100) {\n",
       "          clearInterval(timer);\n",
       "          console.log(\"Bokeh: ERROR: Unable to run BokehJS code because BokehJS library is missing\");\n",
       "        }\n",
       "      }\n",
       "    }, 10, root)\n",
       "  }\n",
       "})(window);"
      ],
      "application/vnd.bokehjs_exec.v0+json": ""
     },
     "metadata": {
      "application/vnd.bokehjs_exec.v0+json": {
       "id": "1702"
      }
     },
     "output_type": "display_data"
    }
   ],
   "source": [
    "case_with_pop = cases_with_pop(back = 14)\n",
    "labels = [x[0] for x in case_with_pop]\n",
    "y = [x[1] for x in case_with_pop]\n",
    "masks = get_mask()\n",
    "d = {}\n",
    "for i in masks:\n",
    "    d[i[0]] = i[1]\n",
    "p = make_bar_pop(labels, y, plot_height = 450, plot_width = 750, title = None, mask_dict = d)\n",
    "show(p)\n"
   ]
  },
  {
   "cell_type": "code",
   "execution_count": 30,
   "metadata": {},
   "outputs": [],
   "source": [
    "def make_bar_pop2_(labels, y, plot_height = 450, \n",
    "             plot_width = 450, title = None, vote_dict = {}):\n",
    "    x_range = labels\n",
    "    p = figure(x_range = x_range , plot_height = plot_height, \n",
    "               plot_width = plot_width, title = title)\n",
    "    for counter, i in enumerate(labels):\n",
    "        if vote_dict.get(i) == 'D':\n",
    "            color = 'blue'\n",
    "        else:\n",
    "            color = 'red'\n",
    "        p.vbar(x=[i], top=y[counter] , line_width = 5, width = .5, color = color)\n",
    "    p.xaxis.major_label_orientation = \"vertical\"\n",
    "    p.xgrid.grid_line_color = None\n",
    "\n",
    "    return p\n",
    "    #p.y_range \n",
    "def make_bar_pop2(labels, y, plot_height = 450, \n",
    "             plot_width = 450, title = None, vote_dict = {}):\n",
    "    y_range = labels\n",
    "    p = figure(y_range = y_range , plot_height = plot_height, \n",
    "               plot_width = plot_width, title = title)\n",
    "    for counter, i in enumerate(labels):\n",
    "        if vote_dict.get(i) == 'D':\n",
    "            color = 'blue'\n",
    "        else:\n",
    "            color = 'red'\n",
    "        p.hbar(y=[i], right=y[counter] , line_width = 5, width = .5, color = color)\n",
    "    #p.xaxis.major_label_orientation = \"vertical\"\n",
    "    p.xaxis.axis_label = 'Deaths per Million'\n",
    "    p.xgrid.grid_line_color = None\n",
    "\n",
    "    return p"
   ]
  },
  {
   "cell_type": "code",
   "execution_count": 34,
   "metadata": {},
   "outputs": [
    {
     "data": {
      "text/html": [
       "\n",
       "\n",
       "\n",
       "\n",
       "\n",
       "\n",
       "  <div class=\"bk-root\" id=\"a5662ab4-79ac-43b8-a266-3e2adf49dcf4\" data-root-id=\"12325\"></div>\n"
      ]
     },
     "metadata": {},
     "output_type": "display_data"
    },
    {
     "data": {
      "application/javascript": [
       "(function(root) {\n",
       "  function embed_document(root) {\n",
       "    \n",
       "  var docs_json = {\"9e884d4a-96d3-49ff-8c84-a467a99ed06d\":{\"roots\":{\"references\":[{\"attributes\":{\"below\":[{\"id\":\"12336\"}],\"center\":[{\"id\":\"12339\"},{\"id\":\"12342\"}],\"left\":[{\"id\":\"12340\"}],\"plot_height\":450,\"plot_width\":800,\"renderers\":[{\"id\":\"12360\"},{\"id\":\"12365\"},{\"id\":\"12370\"},{\"id\":\"12375\"},{\"id\":\"12380\"},{\"id\":\"12385\"},{\"id\":\"12390\"},{\"id\":\"12395\"},{\"id\":\"12400\"},{\"id\":\"12405\"},{\"id\":\"12410\"},{\"id\":\"12415\"},{\"id\":\"12420\"},{\"id\":\"12425\"},{\"id\":\"12430\"},{\"id\":\"12435\"},{\"id\":\"12440\"},{\"id\":\"12445\"},{\"id\":\"12450\"},{\"id\":\"12455\"},{\"id\":\"12460\"},{\"id\":\"12465\"},{\"id\":\"12470\"},{\"id\":\"12475\"},{\"id\":\"12480\"},{\"id\":\"12485\"},{\"id\":\"12490\"},{\"id\":\"12495\"},{\"id\":\"12500\"},{\"id\":\"12505\"},{\"id\":\"12510\"},{\"id\":\"12515\"},{\"id\":\"12520\"},{\"id\":\"12525\"},{\"id\":\"12530\"},{\"id\":\"12535\"},{\"id\":\"12540\"},{\"id\":\"12545\"},{\"id\":\"12550\"},{\"id\":\"12555\"},{\"id\":\"12560\"},{\"id\":\"12565\"},{\"id\":\"12570\"},{\"id\":\"12575\"},{\"id\":\"12580\"},{\"id\":\"12585\"},{\"id\":\"12590\"},{\"id\":\"12595\"},{\"id\":\"12600\"},{\"id\":\"12605\"},{\"id\":\"12610\"}],\"title\":{\"id\":\"12326\"},\"toolbar\":{\"id\":\"12350\"},\"x_range\":{\"id\":\"12328\"},\"x_scale\":{\"id\":\"12332\"},\"y_range\":{\"id\":\"12330\"},\"y_scale\":{\"id\":\"12334\"}},\"id\":\"12325\",\"subtype\":\"Figure\",\"type\":\"Plot\"},{\"attributes\":{},\"id\":\"13430\",\"type\":\"BasicTickFormatter\"},{\"attributes\":{},\"id\":\"13434\",\"type\":\"Selection\"},{\"attributes\":{},\"id\":\"13432\",\"type\":\"CategoricalTickFormatter\"},{\"attributes\":{\"source\":{\"id\":\"12472\"}},\"id\":\"12476\",\"type\":\"CDSView\"},{\"attributes\":{\"fill_color\":{\"value\":\"blue\"},\"line_color\":{\"value\":\"blue\"},\"line_width\":{\"value\":5},\"right\":{\"value\":888.2059846536142},\"y\":{\"field\":\"y\"}},\"id\":\"12548\",\"type\":\"HBar\"},{\"attributes\":{\"source\":{\"id\":\"12582\"}},\"id\":\"12586\",\"type\":\"CDSView\"},{\"attributes\":{\"data_source\":{\"id\":\"12582\"},\"glyph\":{\"id\":\"12583\"},\"hover_glyph\":null,\"muted_glyph\":null,\"nonselection_glyph\":{\"id\":\"12584\"},\"selection_glyph\":null,\"view\":{\"id\":\"12586\"}},\"id\":\"12585\",\"type\":\"GlyphRenderer\"},{\"attributes\":{},\"id\":\"13446\",\"type\":\"Selection\"},{\"attributes\":{},\"id\":\"13482\",\"type\":\"Selection\"},{\"attributes\":{\"data\":{\"y\":[\"Tennessee\"]},\"selected\":{\"id\":\"13482\"},\"selection_policy\":{\"id\":\"13483\"}},\"id\":\"12477\",\"type\":\"ColumnDataSource\"},{\"attributes\":{\"fill_alpha\":{\"value\":0.1},\"fill_color\":{\"value\":\"blue\"},\"line_alpha\":{\"value\":0.1},\"line_color\":{\"value\":\"blue\"},\"line_width\":{\"value\":5},\"right\":{\"value\":888.2059846536142},\"y\":{\"field\":\"y\"}},\"id\":\"12549\",\"type\":\"HBar\"},{\"attributes\":{\"data\":{\"y\":[\"Louisiana\"]},\"selected\":{\"id\":\"13526\"},\"selection_policy\":{\"id\":\"13527\"}},\"id\":\"12587\",\"type\":\"ColumnDataSource\"},{\"attributes\":{},\"id\":\"13447\",\"type\":\"UnionRenderers\"},{\"attributes\":{},\"id\":\"13483\",\"type\":\"UnionRenderers\"},{\"attributes\":{\"data_source\":{\"id\":\"12547\"},\"glyph\":{\"id\":\"12548\"},\"hover_glyph\":null,\"muted_glyph\":null,\"nonselection_glyph\":{\"id\":\"12549\"},\"selection_glyph\":null,\"view\":{\"id\":\"12551\"}},\"id\":\"12550\",\"type\":\"GlyphRenderer\"},{\"attributes\":{\"fill_alpha\":{\"value\":0.1},\"fill_color\":{\"value\":\"red\"},\"line_alpha\":{\"value\":0.1},\"line_color\":{\"value\":\"red\"},\"line_width\":{\"value\":5},\"right\":{\"value\":622.915743543802},\"y\":{\"field\":\"y\"}},\"id\":\"12479\",\"type\":\"HBar\"},{\"attributes\":{\"fill_alpha\":{\"value\":0.1},\"fill_color\":{\"value\":\"blue\"},\"line_alpha\":{\"value\":0.1},\"line_color\":{\"value\":\"blue\"},\"line_width\":{\"value\":5},\"right\":{\"value\":1235.6505478302486},\"y\":{\"field\":\"y\"}},\"id\":\"12584\",\"type\":\"HBar\"},{\"attributes\":{},\"id\":\"13448\",\"type\":\"Selection\"},{\"attributes\":{},\"id\":\"13484\",\"type\":\"Selection\"},{\"attributes\":{\"source\":{\"id\":\"12547\"}},\"id\":\"12551\",\"type\":\"CDSView\"},{\"attributes\":{\"data_source\":{\"id\":\"12477\"},\"glyph\":{\"id\":\"12478\"},\"hover_glyph\":null,\"muted_glyph\":null,\"nonselection_glyph\":{\"id\":\"12479\"},\"selection_glyph\":null,\"view\":{\"id\":\"12481\"}},\"id\":\"12480\",\"type\":\"GlyphRenderer\"},{\"attributes\":{},\"id\":\"13449\",\"type\":\"UnionRenderers\"},{\"attributes\":{},\"id\":\"13485\",\"type\":\"UnionRenderers\"},{\"attributes\":{\"source\":{\"id\":\"12477\"}},\"id\":\"12481\",\"type\":\"CDSView\"},{\"attributes\":{\"data\":{\"y\":[\"Michigan\"]},\"selected\":{\"id\":\"13512\"},\"selection_policy\":{\"id\":\"13513\"}},\"id\":\"12552\",\"type\":\"ColumnDataSource\"},{\"attributes\":{\"fill_alpha\":{\"value\":0.1},\"fill_color\":{\"value\":\"red\"},\"line_alpha\":{\"value\":0.1},\"line_color\":{\"value\":\"red\"},\"line_width\":{\"value\":5},\"right\":{\"value\":1351.7484319589125},\"y\":{\"field\":\"y\"}},\"id\":\"12589\",\"type\":\"HBar\"},{\"attributes\":{\"data\":{\"y\":[\"Nevada\"]},\"selected\":{\"id\":\"13484\"},\"selection_policy\":{\"id\":\"13485\"}},\"id\":\"12482\",\"type\":\"ColumnDataSource\"},{\"attributes\":{},\"id\":\"13450\",\"type\":\"Selection\"},{\"attributes\":{},\"id\":\"13486\",\"type\":\"Selection\"},{\"attributes\":{\"fill_color\":{\"value\":\"red\"},\"line_color\":{\"value\":\"red\"},\"line_width\":{\"value\":5},\"right\":{\"value\":622.915743543802},\"y\":{\"field\":\"y\"}},\"id\":\"12478\",\"type\":\"HBar\"},{\"attributes\":{\"fill_alpha\":{\"value\":0.1},\"fill_color\":{\"value\":\"blue\"},\"line_alpha\":{\"value\":0.1},\"line_color\":{\"value\":\"blue\"},\"line_width\":{\"value\":5},\"right\":{\"value\":894.8761357051574},\"y\":{\"field\":\"y\"}},\"id\":\"12554\",\"type\":\"HBar\"},{\"attributes\":{\"data_source\":{\"id\":\"12587\"},\"glyph\":{\"id\":\"12588\"},\"hover_glyph\":null,\"muted_glyph\":null,\"nonselection_glyph\":{\"id\":\"12589\"},\"selection_glyph\":null,\"view\":{\"id\":\"12591\"}},\"id\":\"12590\",\"type\":\"GlyphRenderer\"},{\"attributes\":{},\"id\":\"13451\",\"type\":\"UnionRenderers\"},{\"attributes\":{},\"id\":\"13487\",\"type\":\"UnionRenderers\"},{\"attributes\":{\"source\":{\"id\":\"12587\"}},\"id\":\"12591\",\"type\":\"CDSView\"},{\"attributes\":{\"data_source\":{\"id\":\"12552\"},\"glyph\":{\"id\":\"12553\"},\"hover_glyph\":null,\"muted_glyph\":null,\"nonselection_glyph\":{\"id\":\"12554\"},\"selection_glyph\":null,\"view\":{\"id\":\"12556\"}},\"id\":\"12555\",\"type\":\"GlyphRenderer\"},{\"attributes\":{\"data\":{\"y\":[\"Connecticut\"]},\"selected\":{\"id\":\"13528\"},\"selection_policy\":{\"id\":\"13529\"}},\"id\":\"12592\",\"type\":\"ColumnDataSource\"},{\"attributes\":{},\"id\":\"13452\",\"type\":\"Selection\"},{\"attributes\":{\"fill_alpha\":{\"value\":0.1},\"fill_color\":{\"value\":\"blue\"},\"line_alpha\":{\"value\":0.1},\"line_color\":{\"value\":\"blue\"},\"line_width\":{\"value\":5},\"right\":{\"value\":659.0575282550624},\"y\":{\"field\":\"y\"}},\"id\":\"12484\",\"type\":\"HBar\"},{\"attributes\":{\"source\":{\"id\":\"12552\"}},\"id\":\"12556\",\"type\":\"CDSView\"},{\"attributes\":{\"fill_color\":{\"value\":\"red\"},\"line_color\":{\"value\":\"red\"},\"line_width\":{\"value\":5},\"right\":{\"value\":1351.7484319589125},\"y\":{\"field\":\"y\"}},\"id\":\"12588\",\"type\":\"HBar\"},{\"attributes\":{},\"id\":\"13488\",\"type\":\"Selection\"},{\"attributes\":{\"data\":{\"y\":[\"South Dakota\"]},\"selected\":{\"id\":\"13514\"},\"selection_policy\":{\"id\":\"13515\"}},\"id\":\"12557\",\"type\":\"ColumnDataSource\"},{\"attributes\":{},\"id\":\"13453\",\"type\":\"UnionRenderers\"},{\"attributes\":{},\"id\":\"13489\",\"type\":\"UnionRenderers\"},{\"attributes\":{\"fill_color\":{\"value\":\"blue\"},\"line_color\":{\"value\":\"blue\"},\"line_width\":{\"value\":5},\"right\":{\"value\":894.8761357051574},\"y\":{\"field\":\"y\"}},\"id\":\"12553\",\"type\":\"HBar\"},{\"attributes\":{\"data_source\":{\"id\":\"12482\"},\"glyph\":{\"id\":\"12483\"},\"hover_glyph\":null,\"muted_glyph\":null,\"nonselection_glyph\":{\"id\":\"12484\"},\"selection_glyph\":null,\"view\":{\"id\":\"12486\"}},\"id\":\"12485\",\"type\":\"GlyphRenderer\"},{\"attributes\":{},\"id\":\"13454\",\"type\":\"Selection\"},{\"attributes\":{},\"id\":\"13490\",\"type\":\"Selection\"},{\"attributes\":{\"source\":{\"id\":\"12482\"}},\"id\":\"12486\",\"type\":\"CDSView\"},{\"attributes\":{\"fill_alpha\":{\"value\":0.1},\"fill_color\":{\"value\":\"blue\"},\"line_alpha\":{\"value\":0.1},\"line_color\":{\"value\":\"blue\"},\"line_width\":{\"value\":5},\"right\":{\"value\":1366.2294227645627},\"y\":{\"field\":\"y\"}},\"id\":\"12594\",\"type\":\"HBar\"},{\"attributes\":{\"data\":{\"y\":[\"New Mexico\"]},\"selected\":{\"id\":\"13486\"},\"selection_policy\":{\"id\":\"13487\"}},\"id\":\"12487\",\"type\":\"ColumnDataSource\"},{\"attributes\":{},\"id\":\"13455\",\"type\":\"UnionRenderers\"},{\"attributes\":{},\"id\":\"13491\",\"type\":\"UnionRenderers\"},{\"attributes\":{\"fill_color\":{\"value\":\"blue\"},\"line_color\":{\"value\":\"blue\"},\"line_width\":{\"value\":5},\"right\":{\"value\":659.0575282550624},\"y\":{\"field\":\"y\"}},\"id\":\"12483\",\"type\":\"HBar\"},{\"attributes\":{\"fill_alpha\":{\"value\":0.1},\"fill_color\":{\"value\":\"red\"},\"line_alpha\":{\"value\":0.1},\"line_color\":{\"value\":\"red\"},\"line_width\":{\"value\":5},\"right\":{\"value\":925.7804419556011},\"y\":{\"field\":\"y\"}},\"id\":\"12559\",\"type\":\"HBar\"},{\"attributes\":{\"data_source\":{\"id\":\"12592\"},\"glyph\":{\"id\":\"12593\"},\"hover_glyph\":null,\"muted_glyph\":null,\"nonselection_glyph\":{\"id\":\"12594\"},\"selection_glyph\":null,\"view\":{\"id\":\"12596\"}},\"id\":\"12595\",\"type\":\"GlyphRenderer\"},{\"attributes\":{},\"id\":\"13456\",\"type\":\"Selection\"},{\"attributes\":{},\"id\":\"13492\",\"type\":\"Selection\"},{\"attributes\":{\"source\":{\"id\":\"12592\"}},\"id\":\"12596\",\"type\":\"CDSView\"},{\"attributes\":{\"data_source\":{\"id\":\"12557\"},\"glyph\":{\"id\":\"12558\"},\"hover_glyph\":null,\"muted_glyph\":null,\"nonselection_glyph\":{\"id\":\"12559\"},\"selection_glyph\":null,\"view\":{\"id\":\"12561\"}},\"id\":\"12560\",\"type\":\"GlyphRenderer\"},{\"attributes\":{\"data\":{\"y\":[\"Massachusetts\"]},\"selected\":{\"id\":\"13530\"},\"selection_policy\":{\"id\":\"13531\"}},\"id\":\"12597\",\"type\":\"ColumnDataSource\"},{\"attributes\":{},\"id\":\"13457\",\"type\":\"UnionRenderers\"},{\"attributes\":{\"fill_alpha\":{\"value\":0.1},\"fill_color\":{\"value\":\"blue\"},\"line_alpha\":{\"value\":0.1},\"line_color\":{\"value\":\"blue\"},\"line_width\":{\"value\":5},\"right\":{\"value\":668.6286769211987},\"y\":{\"field\":\"y\"}},\"id\":\"12489\",\"type\":\"HBar\"},{\"attributes\":{\"source\":{\"id\":\"12557\"}},\"id\":\"12561\",\"type\":\"CDSView\"},{\"attributes\":{\"fill_color\":{\"value\":\"blue\"},\"line_color\":{\"value\":\"blue\"},\"line_width\":{\"value\":5},\"right\":{\"value\":1366.2294227645627},\"y\":{\"field\":\"y\"}},\"id\":\"12593\",\"type\":\"HBar\"},{\"attributes\":{},\"id\":\"13493\",\"type\":\"UnionRenderers\"},{\"attributes\":{\"data\":{\"y\":[\"District of Columbia\"]},\"selected\":{\"id\":\"13516\"},\"selection_policy\":{\"id\":\"13517\"}},\"id\":\"12562\",\"type\":\"ColumnDataSource\"},{\"attributes\":{},\"id\":\"13458\",\"type\":\"Selection\"},{\"attributes\":{},\"id\":\"13494\",\"type\":\"Selection\"},{\"attributes\":{\"fill_color\":{\"value\":\"red\"},\"line_color\":{\"value\":\"red\"},\"line_width\":{\"value\":5},\"right\":{\"value\":925.7804419556011},\"y\":{\"field\":\"y\"}},\"id\":\"12558\",\"type\":\"HBar\"},{\"attributes\":{\"data_source\":{\"id\":\"12487\"},\"glyph\":{\"id\":\"12488\"},\"hover_glyph\":null,\"muted_glyph\":null,\"nonselection_glyph\":{\"id\":\"12489\"},\"selection_glyph\":null,\"view\":{\"id\":\"12491\"}},\"id\":\"12490\",\"type\":\"GlyphRenderer\"},{\"attributes\":{},\"id\":\"13459\",\"type\":\"UnionRenderers\"},{\"attributes\":{},\"id\":\"13495\",\"type\":\"UnionRenderers\"},{\"attributes\":{\"source\":{\"id\":\"12487\"}},\"id\":\"12491\",\"type\":\"CDSView\"},{\"attributes\":{\"fill_alpha\":{\"value\":0.1},\"fill_color\":{\"value\":\"blue\"},\"line_alpha\":{\"value\":0.1},\"line_color\":{\"value\":\"blue\"},\"line_width\":{\"value\":5},\"right\":{\"value\":1527.8919719004834},\"y\":{\"field\":\"y\"}},\"id\":\"12599\",\"type\":\"HBar\"},{\"attributes\":{\"data\":{\"y\":[\"Iowa\"]},\"selected\":{\"id\":\"13488\"},\"selection_policy\":{\"id\":\"13489\"}},\"id\":\"12492\",\"type\":\"ColumnDataSource\"},{\"attributes\":{},\"id\":\"13460\",\"type\":\"Selection\"},{\"attributes\":{},\"id\":\"13496\",\"type\":\"Selection\"},{\"attributes\":{\"fill_color\":{\"value\":\"blue\"},\"line_color\":{\"value\":\"blue\"},\"line_width\":{\"value\":5},\"right\":{\"value\":668.6286769211987},\"y\":{\"field\":\"y\"}},\"id\":\"12488\",\"type\":\"HBar\"},{\"attributes\":{\"fill_alpha\":{\"value\":0.1},\"fill_color\":{\"value\":\"blue\"},\"line_alpha\":{\"value\":0.1},\"line_color\":{\"value\":\"blue\"},\"line_width\":{\"value\":5},\"right\":{\"value\":952.1798826494972},\"y\":{\"field\":\"y\"}},\"id\":\"12564\",\"type\":\"HBar\"},{\"attributes\":{\"data_source\":{\"id\":\"12597\"},\"glyph\":{\"id\":\"12598\"},\"hover_glyph\":null,\"muted_glyph\":null,\"nonselection_glyph\":{\"id\":\"12599\"},\"selection_glyph\":null,\"view\":{\"id\":\"12601\"}},\"id\":\"12600\",\"type\":\"GlyphRenderer\"},{\"attributes\":{},\"id\":\"13461\",\"type\":\"UnionRenderers\"},{\"attributes\":{},\"id\":\"13497\",\"type\":\"UnionRenderers\"},{\"attributes\":{\"source\":{\"id\":\"12597\"}},\"id\":\"12601\",\"type\":\"CDSView\"},{\"attributes\":{\"data_source\":{\"id\":\"12562\"},\"glyph\":{\"id\":\"12563\"},\"hover_glyph\":null,\"muted_glyph\":null,\"nonselection_glyph\":{\"id\":\"12564\"},\"selection_glyph\":null,\"view\":{\"id\":\"12566\"}},\"id\":\"12565\",\"type\":\"GlyphRenderer\"},{\"attributes\":{\"data\":{\"y\":[\"New York\"]},\"selected\":{\"id\":\"13532\"},\"selection_policy\":{\"id\":\"13533\"}},\"id\":\"12602\",\"type\":\"ColumnDataSource\"},{\"attributes\":{},\"id\":\"13462\",\"type\":\"Selection\"},{\"attributes\":{\"fill_alpha\":{\"value\":0.1},\"fill_color\":{\"value\":\"red\"},\"line_alpha\":{\"value\":0.1},\"line_color\":{\"value\":\"red\"},\"line_width\":{\"value\":5},\"right\":{\"value\":704.2632968523677},\"y\":{\"field\":\"y\"}},\"id\":\"12494\",\"type\":\"HBar\"},{\"attributes\":{\"source\":{\"id\":\"12562\"}},\"id\":\"12566\",\"type\":\"CDSView\"},{\"attributes\":{\"fill_color\":{\"value\":\"blue\"},\"line_color\":{\"value\":\"blue\"},\"line_width\":{\"value\":5},\"right\":{\"value\":1527.8919719004834},\"y\":{\"field\":\"y\"}},\"id\":\"12598\",\"type\":\"HBar\"},{\"attributes\":{},\"id\":\"13498\",\"type\":\"Selection\"},{\"attributes\":{\"data\":{\"y\":[\"Illinois\"]},\"selected\":{\"id\":\"13518\"},\"selection_policy\":{\"id\":\"13519\"}},\"id\":\"12567\",\"type\":\"ColumnDataSource\"},{\"attributes\":{},\"id\":\"13463\",\"type\":\"UnionRenderers\"},{\"attributes\":{},\"id\":\"13499\",\"type\":\"UnionRenderers\"},{\"attributes\":{\"fill_color\":{\"value\":\"blue\"},\"line_color\":{\"value\":\"blue\"},\"line_width\":{\"value\":5},\"right\":{\"value\":952.1798826494972},\"y\":{\"field\":\"y\"}},\"id\":\"12563\",\"type\":\"HBar\"},{\"attributes\":{\"data_source\":{\"id\":\"12492\"},\"glyph\":{\"id\":\"12493\"},\"hover_glyph\":null,\"muted_glyph\":null,\"nonselection_glyph\":{\"id\":\"12494\"},\"selection_glyph\":null,\"view\":{\"id\":\"12496\"}},\"id\":\"12495\",\"type\":\"GlyphRenderer\"},{\"attributes\":{},\"id\":\"13464\",\"type\":\"Selection\"},{\"attributes\":{},\"id\":\"13500\",\"type\":\"Selection\"},{\"attributes\":{\"source\":{\"id\":\"12492\"}},\"id\":\"12496\",\"type\":\"CDSView\"},{\"attributes\":{\"fill_alpha\":{\"value\":0.1},\"fill_color\":{\"value\":\"blue\"},\"line_alpha\":{\"value\":0.1},\"line_color\":{\"value\":\"blue\"},\"line_width\":{\"value\":5},\"right\":{\"value\":1737.6767163605675},\"y\":{\"field\":\"y\"}},\"id\":\"12604\",\"type\":\"HBar\"},{\"attributes\":{\"data\":{\"y\":[\"Alabama\"]},\"selected\":{\"id\":\"13490\"},\"selection_policy\":{\"id\":\"13491\"}},\"id\":\"12497\",\"type\":\"ColumnDataSource\"},{\"attributes\":{},\"id\":\"13465\",\"type\":\"UnionRenderers\"},{\"attributes\":{},\"id\":\"13501\",\"type\":\"UnionRenderers\"},{\"attributes\":{\"fill_color\":{\"value\":\"red\"},\"line_color\":{\"value\":\"red\"},\"line_width\":{\"value\":5},\"right\":{\"value\":704.2632968523677},\"y\":{\"field\":\"y\"}},\"id\":\"12493\",\"type\":\"HBar\"},{\"attributes\":{\"fill_alpha\":{\"value\":0.1},\"fill_color\":{\"value\":\"blue\"},\"line_alpha\":{\"value\":0.1},\"line_color\":{\"value\":\"blue\"},\"line_width\":{\"value\":5},\"right\":{\"value\":958.1101248194716},\"y\":{\"field\":\"y\"}},\"id\":\"12569\",\"type\":\"HBar\"},{\"attributes\":{\"data_source\":{\"id\":\"12602\"},\"glyph\":{\"id\":\"12603\"},\"hover_glyph\":null,\"muted_glyph\":null,\"nonselection_glyph\":{\"id\":\"12604\"},\"selection_glyph\":null,\"view\":{\"id\":\"12606\"}},\"id\":\"12605\",\"type\":\"GlyphRenderer\"},{\"attributes\":{},\"id\":\"13466\",\"type\":\"Selection\"},{\"attributes\":{},\"id\":\"13502\",\"type\":\"Selection\"},{\"attributes\":{\"source\":{\"id\":\"12602\"}},\"id\":\"12606\",\"type\":\"CDSView\"},{\"attributes\":{\"data_source\":{\"id\":\"12567\"},\"glyph\":{\"id\":\"12568\"},\"hover_glyph\":null,\"muted_glyph\":null,\"nonselection_glyph\":{\"id\":\"12569\"},\"selection_glyph\":null,\"view\":{\"id\":\"12571\"}},\"id\":\"12570\",\"type\":\"GlyphRenderer\"},{\"attributes\":{\"data\":{\"y\":[\"New Jersey\"]},\"selected\":{\"id\":\"13534\"},\"selection_policy\":{\"id\":\"13535\"}},\"id\":\"12607\",\"type\":\"ColumnDataSource\"},{\"attributes\":{},\"id\":\"13467\",\"type\":\"UnionRenderers\"},{\"attributes\":{\"fill_alpha\":{\"value\":0.1},\"fill_color\":{\"value\":\"red\"},\"line_alpha\":{\"value\":0.1},\"line_color\":{\"value\":\"red\"},\"line_width\":{\"value\":5},\"right\":{\"value\":705.4598184649367},\"y\":{\"field\":\"y\"}},\"id\":\"12499\",\"type\":\"HBar\"},{\"attributes\":{\"source\":{\"id\":\"12567\"}},\"id\":\"12571\",\"type\":\"CDSView\"},{\"attributes\":{\"fill_color\":{\"value\":\"blue\"},\"line_color\":{\"value\":\"blue\"},\"line_width\":{\"value\":5},\"right\":{\"value\":1737.6767163605675},\"y\":{\"field\":\"y\"}},\"id\":\"12603\",\"type\":\"HBar\"},{\"attributes\":{},\"id\":\"13503\",\"type\":\"UnionRenderers\"},{\"attributes\":{\"data\":{\"y\":[\"North Dakota\"]},\"selected\":{\"id\":\"13520\"},\"selection_policy\":{\"id\":\"13521\"}},\"id\":\"12572\",\"type\":\"ColumnDataSource\"},{\"attributes\":{},\"id\":\"13468\",\"type\":\"Selection\"},{\"attributes\":{},\"id\":\"13504\",\"type\":\"Selection\"},{\"attributes\":{\"fill_color\":{\"value\":\"blue\"},\"line_color\":{\"value\":\"blue\"},\"line_width\":{\"value\":5},\"right\":{\"value\":958.1101248194716},\"y\":{\"field\":\"y\"}},\"id\":\"12568\",\"type\":\"HBar\"},{\"attributes\":{\"data_source\":{\"id\":\"12497\"},\"glyph\":{\"id\":\"12498\"},\"hover_glyph\":null,\"muted_glyph\":null,\"nonselection_glyph\":{\"id\":\"12499\"},\"selection_glyph\":null,\"view\":{\"id\":\"12501\"}},\"id\":\"12500\",\"type\":\"GlyphRenderer\"},{\"attributes\":{},\"id\":\"13469\",\"type\":\"UnionRenderers\"},{\"attributes\":{},\"id\":\"13505\",\"type\":\"UnionRenderers\"},{\"attributes\":{\"source\":{\"id\":\"12497\"}},\"id\":\"12501\",\"type\":\"CDSView\"},{\"attributes\":{\"fill_alpha\":{\"value\":0.1},\"fill_color\":{\"value\":\"blue\"},\"line_alpha\":{\"value\":0.1},\"line_color\":{\"value\":\"blue\"},\"line_width\":{\"value\":5},\"right\":{\"value\":1888.2730497771383},\"y\":{\"field\":\"y\"}},\"id\":\"12609\",\"type\":\"HBar\"},{\"attributes\":{\"data\":{\"y\":[\"Texas\"]},\"selected\":{\"id\":\"13492\"},\"selection_policy\":{\"id\":\"13493\"}},\"id\":\"12502\",\"type\":\"ColumnDataSource\"},{\"attributes\":{},\"id\":\"13470\",\"type\":\"Selection\"},{\"attributes\":{},\"id\":\"13506\",\"type\":\"Selection\"},{\"attributes\":{\"fill_color\":{\"value\":\"red\"},\"line_color\":{\"value\":\"red\"},\"line_width\":{\"value\":5},\"right\":{\"value\":705.4598184649367},\"y\":{\"field\":\"y\"}},\"id\":\"12498\",\"type\":\"HBar\"},{\"attributes\":{\"fill_alpha\":{\"value\":0.1},\"fill_color\":{\"value\":\"red\"},\"line_alpha\":{\"value\":0.1},\"line_color\":{\"value\":\"red\"},\"line_width\":{\"value\":5},\"right\":{\"value\":1118.0192687734066},\"y\":{\"field\":\"y\"}},\"id\":\"12574\",\"type\":\"HBar\"},{\"attributes\":{\"data_source\":{\"id\":\"12607\"},\"glyph\":{\"id\":\"12608\"},\"hover_glyph\":null,\"muted_glyph\":null,\"nonselection_glyph\":{\"id\":\"12609\"},\"selection_glyph\":null,\"view\":{\"id\":\"12611\"}},\"id\":\"12610\",\"type\":\"GlyphRenderer\"},{\"attributes\":{},\"id\":\"13471\",\"type\":\"UnionRenderers\"},{\"attributes\":{},\"id\":\"13507\",\"type\":\"UnionRenderers\"},{\"attributes\":{\"source\":{\"id\":\"12607\"}},\"id\":\"12611\",\"type\":\"CDSView\"},{\"attributes\":{\"data_source\":{\"id\":\"12572\"},\"glyph\":{\"id\":\"12573\"},\"hover_glyph\":null,\"muted_glyph\":null,\"nonselection_glyph\":{\"id\":\"12574\"},\"selection_glyph\":null,\"view\":{\"id\":\"12576\"}},\"id\":\"12575\",\"type\":\"GlyphRenderer\"},{\"attributes\":{},\"id\":\"13472\",\"type\":\"Selection\"},{\"attributes\":{},\"id\":\"13508\",\"type\":\"Selection\"},{\"attributes\":{\"fill_alpha\":{\"value\":0.1},\"fill_color\":{\"value\":\"red\"},\"line_alpha\":{\"value\":0.1},\"line_color\":{\"value\":\"red\"},\"line_width\":{\"value\":5},\"right\":{\"value\":729.2070208178881},\"y\":{\"field\":\"y\"}},\"id\":\"12504\",\"type\":\"HBar\"},{\"attributes\":{\"source\":{\"id\":\"12572\"}},\"id\":\"12576\",\"type\":\"CDSView\"},{\"attributes\":{\"fill_color\":{\"value\":\"blue\"},\"line_color\":{\"value\":\"blue\"},\"line_width\":{\"value\":5},\"right\":{\"value\":1888.2730497771383},\"y\":{\"field\":\"y\"}},\"id\":\"12608\",\"type\":\"HBar\"},{\"attributes\":{\"data\":{\"y\":[\"Mississippi\"]},\"selected\":{\"id\":\"13522\"},\"selection_policy\":{\"id\":\"13523\"}},\"id\":\"12577\",\"type\":\"ColumnDataSource\"},{\"attributes\":{},\"id\":\"13473\",\"type\":\"UnionRenderers\"},{\"attributes\":{},\"id\":\"13509\",\"type\":\"UnionRenderers\"},{\"attributes\":{\"fill_color\":{\"value\":\"red\"},\"line_color\":{\"value\":\"red\"},\"line_width\":{\"value\":5},\"right\":{\"value\":1118.0192687734066},\"y\":{\"field\":\"y\"}},\"id\":\"12573\",\"type\":\"HBar\"},{\"attributes\":{\"data_source\":{\"id\":\"12502\"},\"glyph\":{\"id\":\"12503\"},\"hover_glyph\":null,\"muted_glyph\":null,\"nonselection_glyph\":{\"id\":\"12504\"},\"selection_glyph\":null,\"view\":{\"id\":\"12506\"}},\"id\":\"12505\",\"type\":\"GlyphRenderer\"},{\"attributes\":{},\"id\":\"13438\",\"type\":\"Selection\"},{\"attributes\":{},\"id\":\"13474\",\"type\":\"Selection\"},{\"attributes\":{\"source\":{\"id\":\"12502\"}},\"id\":\"12506\",\"type\":\"CDSView\"},{\"attributes\":{},\"id\":\"13510\",\"type\":\"Selection\"},{\"attributes\":{\"data\":{\"y\":[\"Maryland\"]},\"selected\":{\"id\":\"13494\"},\"selection_policy\":{\"id\":\"13495\"}},\"id\":\"12507\",\"type\":\"ColumnDataSource\"},{\"attributes\":{},\"id\":\"13439\",\"type\":\"UnionRenderers\"},{\"attributes\":{},\"id\":\"13475\",\"type\":\"UnionRenderers\"},{\"attributes\":{\"fill_color\":{\"value\":\"red\"},\"line_color\":{\"value\":\"red\"},\"line_width\":{\"value\":5},\"right\":{\"value\":729.2070208178881},\"y\":{\"field\":\"y\"}},\"id\":\"12503\",\"type\":\"HBar\"},{\"attributes\":{\"fill_alpha\":{\"value\":0.1},\"fill_color\":{\"value\":\"red\"},\"line_alpha\":{\"value\":0.1},\"line_color\":{\"value\":\"red\"},\"line_width\":{\"value\":5},\"right\":{\"value\":1235.1532130951778},\"y\":{\"field\":\"y\"}},\"id\":\"12579\",\"type\":\"HBar\"},{\"attributes\":{},\"id\":\"13511\",\"type\":\"UnionRenderers\"},{\"attributes\":{},\"id\":\"13440\",\"type\":\"Selection\"},{\"attributes\":{},\"id\":\"13476\",\"type\":\"Selection\"},{\"attributes\":{},\"id\":\"13512\",\"type\":\"Selection\"},{\"attributes\":{\"data_source\":{\"id\":\"12577\"},\"glyph\":{\"id\":\"12578\"},\"hover_glyph\":null,\"muted_glyph\":null,\"nonselection_glyph\":{\"id\":\"12579\"},\"selection_glyph\":null,\"view\":{\"id\":\"12581\"}},\"id\":\"12580\",\"type\":\"GlyphRenderer\"},{\"attributes\":{},\"id\":\"13441\",\"type\":\"UnionRenderers\"},{\"attributes\":{},\"id\":\"13477\",\"type\":\"UnionRenderers\"},{\"attributes\":{\"source\":{\"id\":\"12577\"}},\"id\":\"12581\",\"type\":\"CDSView\"},{\"attributes\":{},\"id\":\"13513\",\"type\":\"UnionRenderers\"},{\"attributes\":{\"data\":{\"y\":[\"Rhode Island\"]},\"selected\":{\"id\":\"13524\"},\"selection_policy\":{\"id\":\"13525\"}},\"id\":\"12582\",\"type\":\"ColumnDataSource\"},{\"attributes\":{},\"id\":\"13442\",\"type\":\"Selection\"},{\"attributes\":{},\"id\":\"13478\",\"type\":\"Selection\"},{\"attributes\":{\"fill_color\":{\"value\":\"red\"},\"line_color\":{\"value\":\"red\"},\"line_width\":{\"value\":5},\"right\":{\"value\":1235.1532130951778},\"y\":{\"field\":\"y\"}},\"id\":\"12578\",\"type\":\"HBar\"},{\"attributes\":{},\"id\":\"13514\",\"type\":\"Selection\"},{\"attributes\":{\"data_source\":{\"id\":\"12507\"},\"glyph\":{\"id\":\"12508\"},\"hover_glyph\":null,\"muted_glyph\":null,\"nonselection_glyph\":{\"id\":\"12509\"},\"selection_glyph\":null,\"view\":{\"id\":\"12511\"}},\"id\":\"12510\",\"type\":\"GlyphRenderer\"},{\"attributes\":{},\"id\":\"13443\",\"type\":\"UnionRenderers\"},{\"attributes\":{},\"id\":\"13479\",\"type\":\"UnionRenderers\"},{\"attributes\":{\"fill_color\":{\"value\":\"blue\"},\"line_color\":{\"value\":\"blue\"},\"line_width\":{\"value\":5},\"right\":{\"value\":735.7319606727448},\"y\":{\"field\":\"y\"}},\"id\":\"12508\",\"type\":\"HBar\"},{\"attributes\":{},\"id\":\"13515\",\"type\":\"UnionRenderers\"},{\"attributes\":{\"source\":{\"id\":\"12507\"}},\"id\":\"12511\",\"type\":\"CDSView\"},{\"attributes\":{},\"id\":\"13444\",\"type\":\"Selection\"},{\"attributes\":{},\"id\":\"13480\",\"type\":\"Selection\"},{\"attributes\":{\"fill_alpha\":{\"value\":0.1},\"fill_color\":{\"value\":\"blue\"},\"line_alpha\":{\"value\":0.1},\"line_color\":{\"value\":\"blue\"},\"line_width\":{\"value\":5},\"right\":{\"value\":735.7319606727448},\"y\":{\"field\":\"y\"}},\"id\":\"12509\",\"type\":\"HBar\"},{\"attributes\":{\"fill_color\":{\"value\":\"blue\"},\"line_color\":{\"value\":\"blue\"},\"line_width\":{\"value\":5},\"right\":{\"value\":1235.6505478302486},\"y\":{\"field\":\"y\"}},\"id\":\"12583\",\"type\":\"HBar\"},{\"attributes\":{},\"id\":\"13516\",\"type\":\"Selection\"},{\"attributes\":{},\"id\":\"13445\",\"type\":\"UnionRenderers\"},{\"attributes\":{},\"id\":\"13481\",\"type\":\"UnionRenderers\"},{\"attributes\":{},\"id\":\"13517\",\"type\":\"UnionRenderers\"},{\"attributes\":{\"data_source\":{\"id\":\"12437\"},\"glyph\":{\"id\":\"12438\"},\"hover_glyph\":null,\"muted_glyph\":null,\"nonselection_glyph\":{\"id\":\"12439\"},\"selection_glyph\":null,\"view\":{\"id\":\"12441\"}},\"id\":\"12440\",\"type\":\"GlyphRenderer\"},{\"attributes\":{\"source\":{\"id\":\"12437\"}},\"id\":\"12441\",\"type\":\"CDSView\"},{\"attributes\":{\"data\":{\"y\":[\"Nebraska\"]},\"selected\":{\"id\":\"13468\"},\"selection_policy\":{\"id\":\"13469\"}},\"id\":\"12442\",\"type\":\"ColumnDataSource\"},{\"attributes\":{\"fill_alpha\":{\"value\":0.1},\"fill_color\":{\"value\":\"red\"},\"line_alpha\":{\"value\":0.1},\"line_color\":{\"value\":\"red\"},\"line_width\":{\"value\":5},\"right\":{\"value\":495.2419551614757},\"y\":{\"field\":\"y\"}},\"id\":\"12444\",\"type\":\"HBar\"},{\"attributes\":{\"data_source\":{\"id\":\"12442\"},\"glyph\":{\"id\":\"12443\"},\"hover_glyph\":null,\"muted_glyph\":null,\"nonselection_glyph\":{\"id\":\"12444\"},\"selection_glyph\":null,\"view\":{\"id\":\"12446\"}},\"id\":\"12445\",\"type\":\"GlyphRenderer\"},{\"attributes\":{\"source\":{\"id\":\"12442\"}},\"id\":\"12446\",\"type\":\"CDSView\"},{\"attributes\":{\"data\":{\"y\":[\"Kansas\"]},\"selected\":{\"id\":\"13470\"},\"selection_policy\":{\"id\":\"13471\"}},\"id\":\"12447\",\"type\":\"ColumnDataSource\"},{\"attributes\":{\"fill_color\":{\"value\":\"red\"},\"line_color\":{\"value\":\"red\"},\"line_width\":{\"value\":5},\"right\":{\"value\":495.2419551614757},\"y\":{\"field\":\"y\"}},\"id\":\"12443\",\"type\":\"HBar\"},{\"attributes\":{\"fill_alpha\":{\"value\":0.1},\"fill_color\":{\"value\":\"red\"},\"line_alpha\":{\"value\":0.1},\"line_color\":{\"value\":\"red\"},\"line_width\":{\"value\":5},\"right\":{\"value\":499.77448362929636},\"y\":{\"field\":\"y\"}},\"id\":\"12449\",\"type\":\"HBar\"},{\"attributes\":{\"data_source\":{\"id\":\"12447\"},\"glyph\":{\"id\":\"12448\"},\"hover_glyph\":null,\"muted_glyph\":null,\"nonselection_glyph\":{\"id\":\"12449\"},\"selection_glyph\":null,\"view\":{\"id\":\"12451\"}},\"id\":\"12450\",\"type\":\"GlyphRenderer\"},{\"attributes\":{\"source\":{\"id\":\"12447\"}},\"id\":\"12451\",\"type\":\"CDSView\"},{\"attributes\":{\"data\":{\"y\":[\"Ohio\"]},\"selected\":{\"id\":\"13472\"},\"selection_policy\":{\"id\":\"13473\"}},\"id\":\"12452\",\"type\":\"ColumnDataSource\"},{\"attributes\":{\"fill_color\":{\"value\":\"red\"},\"line_color\":{\"value\":\"red\"},\"line_width\":{\"value\":5},\"right\":{\"value\":499.77448362929636},\"y\":{\"field\":\"y\"}},\"id\":\"12448\",\"type\":\"HBar\"},{\"attributes\":{\"fill_alpha\":{\"value\":0.1},\"fill_color\":{\"value\":\"red\"},\"line_alpha\":{\"value\":0.1},\"line_color\":{\"value\":\"red\"},\"line_width\":{\"value\":5},\"right\":{\"value\":515.0097099006766},\"y\":{\"field\":\"y\"}},\"id\":\"12454\",\"type\":\"HBar\"},{\"attributes\":{\"data_source\":{\"id\":\"12452\"},\"glyph\":{\"id\":\"12453\"},\"hover_glyph\":null,\"muted_glyph\":null,\"nonselection_glyph\":{\"id\":\"12454\"},\"selection_glyph\":null,\"view\":{\"id\":\"12456\"}},\"id\":\"12455\",\"type\":\"GlyphRenderer\"},{\"attributes\":{\"source\":{\"id\":\"12452\"}},\"id\":\"12456\",\"type\":\"CDSView\"},{\"attributes\":{\"data\":{\"y\":[\"Wisconsin\"]},\"selected\":{\"id\":\"13474\"},\"selection_policy\":{\"id\":\"13475\"}},\"id\":\"12457\",\"type\":\"ColumnDataSource\"},{\"attributes\":{\"fill_color\":{\"value\":\"red\"},\"line_color\":{\"value\":\"red\"},\"line_width\":{\"value\":5},\"right\":{\"value\":515.0097099006766},\"y\":{\"field\":\"y\"}},\"id\":\"12453\",\"type\":\"HBar\"},{\"attributes\":{\"fill_alpha\":{\"value\":0.1},\"fill_color\":{\"value\":\"blue\"},\"line_alpha\":{\"value\":0.1},\"line_color\":{\"value\":\"blue\"},\"line_width\":{\"value\":5},\"right\":{\"value\":545.304592546691},\"y\":{\"field\":\"y\"}},\"id\":\"12459\",\"type\":\"HBar\"},{\"attributes\":{\"data_source\":{\"id\":\"12457\"},\"glyph\":{\"id\":\"12458\"},\"hover_glyph\":null,\"muted_glyph\":null,\"nonselection_glyph\":{\"id\":\"12459\"},\"selection_glyph\":null,\"view\":{\"id\":\"12461\"}},\"id\":\"12460\",\"type\":\"GlyphRenderer\"},{\"attributes\":{\"source\":{\"id\":\"12457\"}},\"id\":\"12461\",\"type\":\"CDSView\"},{\"attributes\":{\"data\":{\"y\":[\"Montana\"]},\"selected\":{\"id\":\"13476\"},\"selection_policy\":{\"id\":\"13477\"}},\"id\":\"12462\",\"type\":\"ColumnDataSource\"},{\"attributes\":{\"fill_color\":{\"value\":\"blue\"},\"line_color\":{\"value\":\"blue\"},\"line_width\":{\"value\":5},\"right\":{\"value\":545.304592546691},\"y\":{\"field\":\"y\"}},\"id\":\"12458\",\"type\":\"HBar\"},{\"attributes\":{\"fill_alpha\":{\"value\":0.1},\"fill_color\":{\"value\":\"red\"},\"line_alpha\":{\"value\":0.1},\"line_color\":{\"value\":\"red\"},\"line_width\":{\"value\":5},\"right\":{\"value\":575.4235210679861},\"y\":{\"field\":\"y\"}},\"id\":\"12464\",\"type\":\"HBar\"},{\"attributes\":{\"data_source\":{\"id\":\"12462\"},\"glyph\":{\"id\":\"12463\"},\"hover_glyph\":null,\"muted_glyph\":null,\"nonselection_glyph\":{\"id\":\"12464\"},\"selection_glyph\":null,\"view\":{\"id\":\"12466\"}},\"id\":\"12465\",\"type\":\"GlyphRenderer\"},{\"attributes\":{\"source\":{\"id\":\"12462\"}},\"id\":\"12466\",\"type\":\"CDSView\"},{\"attributes\":{\"data\":{\"y\":[\"Minnesota\"]},\"selected\":{\"id\":\"13478\"},\"selection_policy\":{\"id\":\"13479\"}},\"id\":\"12467\",\"type\":\"ColumnDataSource\"},{\"attributes\":{\"fill_color\":{\"value\":\"red\"},\"line_color\":{\"value\":\"red\"},\"line_width\":{\"value\":5},\"right\":{\"value\":575.4235210679861},\"y\":{\"field\":\"y\"}},\"id\":\"12463\",\"type\":\"HBar\"},{\"attributes\":{\"fill_alpha\":{\"value\":0.1},\"fill_color\":{\"value\":\"blue\"},\"line_alpha\":{\"value\":0.1},\"line_color\":{\"value\":\"blue\"},\"line_width\":{\"value\":5},\"right\":{\"value\":588.8682098406423},\"y\":{\"field\":\"y\"}},\"id\":\"12469\",\"type\":\"HBar\"},{\"attributes\":{\"data_source\":{\"id\":\"12467\"},\"glyph\":{\"id\":\"12468\"},\"hover_glyph\":null,\"muted_glyph\":null,\"nonselection_glyph\":{\"id\":\"12469\"},\"selection_glyph\":null,\"view\":{\"id\":\"12471\"}},\"id\":\"12470\",\"type\":\"GlyphRenderer\"},{\"attributes\":{\"source\":{\"id\":\"12467\"}},\"id\":\"12471\",\"type\":\"CDSView\"},{\"attributes\":{\"data\":{\"y\":[\"Missouri\"]},\"selected\":{\"id\":\"13480\"},\"selection_policy\":{\"id\":\"13481\"}},\"id\":\"12472\",\"type\":\"ColumnDataSource\"},{\"attributes\":{\"fill_color\":{\"value\":\"blue\"},\"line_color\":{\"value\":\"blue\"},\"line_width\":{\"value\":5},\"right\":{\"value\":588.8682098406423},\"y\":{\"field\":\"y\"}},\"id\":\"12468\",\"type\":\"HBar\"},{\"attributes\":{\"fill_alpha\":{\"value\":0.1},\"fill_color\":{\"value\":\"red\"},\"line_alpha\":{\"value\":0.1},\"line_color\":{\"value\":\"red\"},\"line_width\":{\"value\":5},\"right\":{\"value\":602.3695919528507},\"y\":{\"field\":\"y\"}},\"id\":\"12474\",\"type\":\"HBar\"},{\"attributes\":{\"fill_color\":{\"value\":\"red\"},\"line_color\":{\"value\":\"red\"},\"line_width\":{\"value\":5},\"right\":{\"value\":602.3695919528507},\"y\":{\"field\":\"y\"}},\"id\":\"12473\",\"type\":\"HBar\"},{\"attributes\":{\"data_source\":{\"id\":\"12472\"},\"glyph\":{\"id\":\"12473\"},\"hover_glyph\":null,\"muted_glyph\":null,\"nonselection_glyph\":{\"id\":\"12474\"},\"selection_glyph\":null,\"view\":{\"id\":\"12476\"}},\"id\":\"12475\",\"type\":\"GlyphRenderer\"},{\"attributes\":{\"fill_alpha\":{\"value\":0.1},\"fill_color\":{\"value\":\"red\"},\"line_alpha\":{\"value\":0.1},\"line_color\":{\"value\":\"red\"},\"line_width\":{\"value\":5},\"right\":{\"value\":132.59608089727905},\"y\":{\"field\":\"y\"}},\"id\":\"12369\",\"type\":\"HBar\"},{\"attributes\":{\"data\":{\"y\":[\"Delaware\"]},\"selected\":{\"id\":\"13496\"},\"selection_policy\":{\"id\":\"13497\"}},\"id\":\"12512\",\"type\":\"ColumnDataSource\"},{\"attributes\":{\"fill_alpha\":{\"value\":0.1},\"fill_color\":{\"value\":\"blue\"},\"line_alpha\":{\"value\":0.1},\"line_color\":{\"value\":\"blue\"},\"line_width\":{\"value\":5},\"right\":{\"value\":772.2610406628299},\"y\":{\"field\":\"y\"}},\"id\":\"12514\",\"type\":\"HBar\"},{\"attributes\":{\"data_source\":{\"id\":\"12367\"},\"glyph\":{\"id\":\"12368\"},\"hover_glyph\":null,\"muted_glyph\":null,\"nonselection_glyph\":{\"id\":\"12369\"},\"selection_glyph\":null,\"view\":{\"id\":\"12371\"}},\"id\":\"12370\",\"type\":\"GlyphRenderer\"},{\"attributes\":{\"source\":{\"id\":\"12367\"}},\"id\":\"12371\",\"type\":\"CDSView\"},{\"attributes\":{\"data_source\":{\"id\":\"12512\"},\"glyph\":{\"id\":\"12513\"},\"hover_glyph\":null,\"muted_glyph\":null,\"nonselection_glyph\":{\"id\":\"12514\"},\"selection_glyph\":null,\"view\":{\"id\":\"12516\"}},\"id\":\"12515\",\"type\":\"GlyphRenderer\"},{\"attributes\":{\"data\":{\"y\":[\"Hawaii\"]},\"selected\":{\"id\":\"13440\"},\"selection_policy\":{\"id\":\"13441\"}},\"id\":\"12372\",\"type\":\"ColumnDataSource\"},{\"attributes\":{\"fill_color\":{\"value\":\"red\"},\"line_color\":{\"value\":\"red\"},\"line_width\":{\"value\":5},\"right\":{\"value\":132.59608089727905},\"y\":{\"field\":\"y\"}},\"id\":\"12368\",\"type\":\"HBar\"},{\"attributes\":{\"source\":{\"id\":\"12512\"}},\"id\":\"12516\",\"type\":\"CDSView\"},{\"attributes\":{\"data\":{\"y\":[\"Pennsylvania\"]},\"selected\":{\"id\":\"13498\"},\"selection_policy\":{\"id\":\"13499\"}},\"id\":\"12517\",\"type\":\"ColumnDataSource\"},{\"attributes\":{\"fill_color\":{\"value\":\"blue\"},\"line_color\":{\"value\":\"blue\"},\"line_width\":{\"value\":5},\"right\":{\"value\":772.2610406628299},\"y\":{\"field\":\"y\"}},\"id\":\"12513\",\"type\":\"HBar\"},{\"attributes\":{\"fill_alpha\":{\"value\":0.1},\"fill_color\":{\"value\":\"blue\"},\"line_alpha\":{\"value\":0.1},\"line_color\":{\"value\":\"blue\"},\"line_width\":{\"value\":5},\"right\":{\"value\":163.15034127378746},\"y\":{\"field\":\"y\"}},\"id\":\"12374\",\"type\":\"HBar\"},{\"attributes\":{\"fill_alpha\":{\"value\":0.1},\"fill_color\":{\"value\":\"blue\"},\"line_alpha\":{\"value\":0.1},\"line_color\":{\"value\":\"blue\"},\"line_width\":{\"value\":5},\"right\":{\"value\":775.8169453199812},\"y\":{\"field\":\"y\"}},\"id\":\"12519\",\"type\":\"HBar\"},{\"attributes\":{\"data_source\":{\"id\":\"12372\"},\"glyph\":{\"id\":\"12373\"},\"hover_glyph\":null,\"muted_glyph\":null,\"nonselection_glyph\":{\"id\":\"12374\"},\"selection_glyph\":null,\"view\":{\"id\":\"12376\"}},\"id\":\"12375\",\"type\":\"GlyphRenderer\"},{\"attributes\":{\"source\":{\"id\":\"12372\"}},\"id\":\"12376\",\"type\":\"CDSView\"},{\"attributes\":{\"data_source\":{\"id\":\"12517\"},\"glyph\":{\"id\":\"12518\"},\"hover_glyph\":null,\"muted_glyph\":null,\"nonselection_glyph\":{\"id\":\"12519\"},\"selection_glyph\":null,\"view\":{\"id\":\"12521\"}},\"id\":\"12520\",\"type\":\"GlyphRenderer\"},{\"attributes\":{\"data\":{\"y\":[\"Oregon\"]},\"selected\":{\"id\":\"13442\"},\"selection_policy\":{\"id\":\"13443\"}},\"id\":\"12377\",\"type\":\"ColumnDataSource\"},{\"attributes\":{\"fill_color\":{\"value\":\"blue\"},\"line_color\":{\"value\":\"blue\"},\"line_width\":{\"value\":5},\"right\":{\"value\":163.15034127378746},\"y\":{\"field\":\"y\"}},\"id\":\"12373\",\"type\":\"HBar\"},{\"attributes\":{\"source\":{\"id\":\"12517\"}},\"id\":\"12521\",\"type\":\"CDSView\"},{\"attributes\":{\"data\":{\"y\":[\"Arkansas\"]},\"selected\":{\"id\":\"13500\"},\"selection_policy\":{\"id\":\"13501\"}},\"id\":\"12522\",\"type\":\"ColumnDataSource\"},{\"attributes\":{\"fill_color\":{\"value\":\"blue\"},\"line_color\":{\"value\":\"blue\"},\"line_width\":{\"value\":5},\"right\":{\"value\":775.8169453199812},\"y\":{\"field\":\"y\"}},\"id\":\"12518\",\"type\":\"HBar\"},{\"attributes\":{\"fill_alpha\":{\"value\":0.1},\"fill_color\":{\"value\":\"blue\"},\"line_alpha\":{\"value\":0.1},\"line_color\":{\"value\":\"blue\"},\"line_width\":{\"value\":5},\"right\":{\"value\":196.78799318212586},\"y\":{\"field\":\"y\"}},\"id\":\"12379\",\"type\":\"HBar\"},{\"attributes\":{\"fill_alpha\":{\"value\":0.1},\"fill_color\":{\"value\":\"red\"},\"line_alpha\":{\"value\":0.1},\"line_color\":{\"value\":\"red\"},\"line_width\":{\"value\":5},\"right\":{\"value\":790.9725084863034},\"y\":{\"field\":\"y\"}},\"id\":\"12524\",\"type\":\"HBar\"},{\"attributes\":{\"data_source\":{\"id\":\"12377\"},\"glyph\":{\"id\":\"12378\"},\"hover_glyph\":null,\"muted_glyph\":null,\"nonselection_glyph\":{\"id\":\"12379\"},\"selection_glyph\":null,\"view\":{\"id\":\"12381\"}},\"id\":\"12380\",\"type\":\"GlyphRenderer\"},{\"attributes\":{\"source\":{\"id\":\"12377\"}},\"id\":\"12381\",\"type\":\"CDSView\"},{\"attributes\":{\"data_source\":{\"id\":\"12522\"},\"glyph\":{\"id\":\"12523\"},\"hover_glyph\":null,\"muted_glyph\":null,\"nonselection_glyph\":{\"id\":\"12524\"},\"selection_glyph\":null,\"view\":{\"id\":\"12526\"}},\"id\":\"12525\",\"type\":\"GlyphRenderer\"},{\"attributes\":{\"fill_color\":{\"value\":\"blue\"},\"line_color\":{\"value\":\"blue\"},\"line_width\":{\"value\":5},\"right\":{\"value\":196.78799318212586},\"y\":{\"field\":\"y\"}},\"id\":\"12378\",\"type\":\"HBar\"},{\"attributes\":{\"source\":{\"id\":\"12522\"}},\"id\":\"12526\",\"type\":\"CDSView\"},{\"attributes\":{\"data\":{\"y\":[\"Indiana\"]},\"selected\":{\"id\":\"13502\"},\"selection_policy\":{\"id\":\"13503\"}},\"id\":\"12527\",\"type\":\"ColumnDataSource\"},{\"attributes\":{\"fill_color\":{\"value\":\"red\"},\"line_color\":{\"value\":\"red\"},\"line_width\":{\"value\":5},\"right\":{\"value\":790.9725084863034},\"y\":{\"field\":\"y\"}},\"id\":\"12523\",\"type\":\"HBar\"},{\"attributes\":{\"data\":{\"y\":[\"Utah\"]},\"selected\":{\"id\":\"13444\"},\"selection_policy\":{\"id\":\"13445\"}},\"id\":\"12382\",\"type\":\"ColumnDataSource\"},{\"attributes\":{\"fill_alpha\":{\"value\":0.1},\"fill_color\":{\"value\":\"red\"},\"line_alpha\":{\"value\":0.1},\"line_color\":{\"value\":\"red\"},\"line_width\":{\"value\":5},\"right\":{\"value\":249.22347703868854},\"y\":{\"field\":\"y\"}},\"id\":\"12384\",\"type\":\"HBar\"},{\"attributes\":{\"fill_alpha\":{\"value\":0.1},\"fill_color\":{\"value\":\"red\"},\"line_alpha\":{\"value\":0.1},\"line_color\":{\"value\":\"red\"},\"line_width\":{\"value\":5},\"right\":{\"value\":792.0122622273578},\"y\":{\"field\":\"y\"}},\"id\":\"12529\",\"type\":\"HBar\"},{\"attributes\":{\"data_source\":{\"id\":\"12382\"},\"glyph\":{\"id\":\"12383\"},\"hover_glyph\":null,\"muted_glyph\":null,\"nonselection_glyph\":{\"id\":\"12384\"},\"selection_glyph\":null,\"view\":{\"id\":\"12386\"}},\"id\":\"12385\",\"type\":\"GlyphRenderer\"},{\"attributes\":{\"source\":{\"id\":\"12382\"}},\"id\":\"12386\",\"type\":\"CDSView\"},{\"attributes\":{\"data_source\":{\"id\":\"12527\"},\"glyph\":{\"id\":\"12528\"},\"hover_glyph\":null,\"muted_glyph\":null,\"nonselection_glyph\":{\"id\":\"12529\"},\"selection_glyph\":null,\"view\":{\"id\":\"12531\"}},\"id\":\"12530\",\"type\":\"GlyphRenderer\"},{\"attributes\":{\"data\":{\"y\":[\"Wyoming\"]},\"selected\":{\"id\":\"13446\"},\"selection_policy\":{\"id\":\"13447\"}},\"id\":\"12387\",\"type\":\"ColumnDataSource\"},{\"attributes\":{\"fill_color\":{\"value\":\"red\"},\"line_color\":{\"value\":\"red\"},\"line_width\":{\"value\":5},\"right\":{\"value\":249.22347703868854},\"y\":{\"field\":\"y\"}},\"id\":\"12383\",\"type\":\"HBar\"},{\"attributes\":{\"source\":{\"id\":\"12527\"}},\"id\":\"12531\",\"type\":\"CDSView\"},{\"attributes\":{\"data\":{\"y\":[\"South Carolina\"]},\"selected\":{\"id\":\"13504\"},\"selection_policy\":{\"id\":\"13505\"}},\"id\":\"12532\",\"type\":\"ColumnDataSource\"},{\"attributes\":{\"fill_color\":{\"value\":\"red\"},\"line_color\":{\"value\":\"red\"},\"line_width\":{\"value\":5},\"right\":{\"value\":792.0122622273578},\"y\":{\"field\":\"y\"}},\"id\":\"12528\",\"type\":\"HBar\"},{\"attributes\":{\"fill_alpha\":{\"value\":0.1},\"fill_color\":{\"value\":\"red\"},\"line_alpha\":{\"value\":0.1},\"line_color\":{\"value\":\"red\"},\"line_width\":{\"value\":5},\"right\":{\"value\":349.02265018772925},\"y\":{\"field\":\"y\"}},\"id\":\"12389\",\"type\":\"HBar\"},{\"attributes\":{\"fill_alpha\":{\"value\":0.1},\"fill_color\":{\"value\":\"red\"},\"line_alpha\":{\"value\":0.1},\"line_color\":{\"value\":\"red\"},\"line_width\":{\"value\":5},\"right\":{\"value\":832.8293239826488},\"y\":{\"field\":\"y\"}},\"id\":\"12534\",\"type\":\"HBar\"},{\"attributes\":{\"data_source\":{\"id\":\"12387\"},\"glyph\":{\"id\":\"12388\"},\"hover_glyph\":null,\"muted_glyph\":null,\"nonselection_glyph\":{\"id\":\"12389\"},\"selection_glyph\":null,\"view\":{\"id\":\"12391\"}},\"id\":\"12390\",\"type\":\"GlyphRenderer\"},{\"attributes\":{\"source\":{\"id\":\"12387\"}},\"id\":\"12391\",\"type\":\"CDSView\"},{\"attributes\":{\"data_source\":{\"id\":\"12532\"},\"glyph\":{\"id\":\"12533\"},\"hover_glyph\":null,\"muted_glyph\":null,\"nonselection_glyph\":{\"id\":\"12534\"},\"selection_glyph\":null,\"view\":{\"id\":\"12536\"}},\"id\":\"12535\",\"type\":\"GlyphRenderer\"},{\"attributes\":{\"data\":{\"y\":[\"Washington\"]},\"selected\":{\"id\":\"13448\"},\"selection_policy\":{\"id\":\"13449\"}},\"id\":\"12392\",\"type\":\"ColumnDataSource\"},{\"attributes\":{\"fill_color\":{\"value\":\"red\"},\"line_color\":{\"value\":\"red\"},\"line_width\":{\"value\":5},\"right\":{\"value\":349.02265018772925},\"y\":{\"field\":\"y\"}},\"id\":\"12388\",\"type\":\"HBar\"},{\"attributes\":{\"source\":{\"id\":\"12532\"}},\"id\":\"12536\",\"type\":\"CDSView\"},{\"attributes\":{\"data\":{\"y\":[\"Florida\"]},\"selected\":{\"id\":\"13506\"},\"selection_policy\":{\"id\":\"13507\"}},\"id\":\"12537\",\"type\":\"ColumnDataSource\"},{\"attributes\":{\"fill_color\":{\"value\":\"red\"},\"line_color\":{\"value\":\"red\"},\"line_width\":{\"value\":5},\"right\":{\"value\":832.8293239826488},\"y\":{\"field\":\"y\"}},\"id\":\"12533\",\"type\":\"HBar\"},{\"attributes\":{\"fill_alpha\":{\"value\":0.1},\"fill_color\":{\"value\":\"blue\"},\"line_alpha\":{\"value\":0.1},\"line_color\":{\"value\":\"blue\"},\"line_width\":{\"value\":5},\"right\":{\"value\":364.41746456581865},\"y\":{\"field\":\"y\"}},\"id\":\"12394\",\"type\":\"HBar\"},{\"attributes\":{\"fill_alpha\":{\"value\":0.1},\"fill_color\":{\"value\":\"red\"},\"line_alpha\":{\"value\":0.1},\"line_color\":{\"value\":\"red\"},\"line_width\":{\"value\":5},\"right\":{\"value\":841.9881480064684},\"y\":{\"field\":\"y\"}},\"id\":\"12539\",\"type\":\"HBar\"},{\"attributes\":{\"data_source\":{\"id\":\"12392\"},\"glyph\":{\"id\":\"12393\"},\"hover_glyph\":null,\"muted_glyph\":null,\"nonselection_glyph\":{\"id\":\"12394\"},\"selection_glyph\":null,\"view\":{\"id\":\"12396\"}},\"id\":\"12395\",\"type\":\"GlyphRenderer\"},{\"attributes\":{\"source\":{\"id\":\"12392\"}},\"id\":\"12396\",\"type\":\"CDSView\"},{\"attributes\":{\"data_source\":{\"id\":\"12537\"},\"glyph\":{\"id\":\"12538\"},\"hover_glyph\":null,\"muted_glyph\":null,\"nonselection_glyph\":{\"id\":\"12539\"},\"selection_glyph\":null,\"view\":{\"id\":\"12541\"}},\"id\":\"12540\",\"type\":\"GlyphRenderer\"},{\"attributes\":{\"data\":{\"y\":[\"West Virginia\"]},\"selected\":{\"id\":\"13450\"},\"selection_policy\":{\"id\":\"13451\"}},\"id\":\"12397\",\"type\":\"ColumnDataSource\"},{\"attributes\":{\"fill_color\":{\"value\":\"blue\"},\"line_color\":{\"value\":\"blue\"},\"line_width\":{\"value\":5},\"right\":{\"value\":364.41746456581865},\"y\":{\"field\":\"y\"}},\"id\":\"12393\",\"type\":\"HBar\"},{\"attributes\":{\"source\":{\"id\":\"12537\"}},\"id\":\"12541\",\"type\":\"CDSView\"},{\"attributes\":{\"data\":{\"y\":[\"Georgia\"]},\"selected\":{\"id\":\"13508\"},\"selection_policy\":{\"id\":\"13509\"}},\"id\":\"12542\",\"type\":\"ColumnDataSource\"},{\"attributes\":{\"fill_color\":{\"value\":\"red\"},\"line_color\":{\"value\":\"red\"},\"line_width\":{\"value\":5},\"right\":{\"value\":841.9881480064684},\"y\":{\"field\":\"y\"}},\"id\":\"12538\",\"type\":\"HBar\"},{\"attributes\":{\"fill_alpha\":{\"value\":0.1},\"fill_color\":{\"value\":\"red\"},\"line_alpha\":{\"value\":0.1},\"line_color\":{\"value\":\"red\"},\"line_width\":{\"value\":5},\"right\":{\"value\":372.1792910960987},\"y\":{\"field\":\"y\"}},\"id\":\"12399\",\"type\":\"HBar\"},{\"attributes\":{\"fill_alpha\":{\"value\":0.1},\"fill_color\":{\"value\":\"blue\"},\"line_alpha\":{\"value\":0.1},\"line_color\":{\"value\":\"blue\"},\"line_width\":{\"value\":5},\"right\":{\"value\":845.0261424076257},\"y\":{\"field\":\"y\"}},\"id\":\"12544\",\"type\":\"HBar\"},{\"attributes\":{\"data_source\":{\"id\":\"12397\"},\"glyph\":{\"id\":\"12398\"},\"hover_glyph\":null,\"muted_glyph\":null,\"nonselection_glyph\":{\"id\":\"12399\"},\"selection_glyph\":null,\"view\":{\"id\":\"12401\"}},\"id\":\"12400\",\"type\":\"GlyphRenderer\"},{\"attributes\":{\"source\":{\"id\":\"12397\"}},\"id\":\"12401\",\"type\":\"CDSView\"},{\"attributes\":{\"data_source\":{\"id\":\"12542\"},\"glyph\":{\"id\":\"12543\"},\"hover_glyph\":null,\"muted_glyph\":null,\"nonselection_glyph\":{\"id\":\"12544\"},\"selection_glyph\":null,\"view\":{\"id\":\"12546\"}},\"id\":\"12545\",\"type\":\"GlyphRenderer\"},{\"attributes\":{\"data\":{\"y\":[\"New Hampshire\"]},\"selected\":{\"id\":\"13452\"},\"selection_policy\":{\"id\":\"13453\"}},\"id\":\"12402\",\"type\":\"ColumnDataSource\"},{\"attributes\":{\"fill_color\":{\"value\":\"red\"},\"line_color\":{\"value\":\"red\"},\"line_width\":{\"value\":5},\"right\":{\"value\":372.1792910960987},\"y\":{\"field\":\"y\"}},\"id\":\"12398\",\"type\":\"HBar\"},{\"attributes\":{\"source\":{\"id\":\"12542\"}},\"id\":\"12546\",\"type\":\"CDSView\"},{\"attributes\":{\"data\":{\"y\":[\"Arizona\"]},\"selected\":{\"id\":\"13510\"},\"selection_policy\":{\"id\":\"13511\"}},\"id\":\"12547\",\"type\":\"ColumnDataSource\"},{\"attributes\":{\"fill_color\":{\"value\":\"blue\"},\"line_color\":{\"value\":\"blue\"},\"line_width\":{\"value\":5},\"right\":{\"value\":845.0261424076257},\"y\":{\"field\":\"y\"}},\"id\":\"12543\",\"type\":\"HBar\"},{\"attributes\":{\"fill_color\":{\"value\":\"blue\"},\"line_color\":{\"value\":\"blue\"},\"line_width\":{\"value\":5},\"right\":{\"value\":376.5506052389074},\"y\":{\"field\":\"y\"}},\"id\":\"12403\",\"type\":\"HBar\"},{\"attributes\":{},\"id\":\"13518\",\"type\":\"Selection\"},{\"attributes\":{},\"id\":\"13519\",\"type\":\"UnionRenderers\"},{\"attributes\":{},\"id\":\"13520\",\"type\":\"Selection\"},{\"attributes\":{},\"id\":\"13436\",\"type\":\"Selection\"},{\"attributes\":{},\"id\":\"13521\",\"type\":\"UnionRenderers\"},{\"attributes\":{},\"id\":\"13435\",\"type\":\"UnionRenderers\"},{\"attributes\":{},\"id\":\"13522\",\"type\":\"Selection\"},{\"attributes\":{\"text\":\"Misleading Graph: Deaths/million per state\"},\"id\":\"12326\",\"type\":\"Title\"},{\"attributes\":{},\"id\":\"13523\",\"type\":\"UnionRenderers\"},{\"attributes\":{},\"id\":\"13524\",\"type\":\"Selection\"},{\"attributes\":{},\"id\":\"12328\",\"type\":\"DataRange1d\"},{\"attributes\":{},\"id\":\"13525\",\"type\":\"UnionRenderers\"},{\"attributes\":{\"factors\":[\"Vermont\",\"Maine\",\"Alaska\",\"Hawaii\",\"Oregon\",\"Utah\",\"Wyoming\",\"Washington\",\"West Virginia\",\"New Hampshire\",\"Oklahoma\",\"Kentucky\",\"Virginia\",\"California\",\"North Carolina\",\"Idaho\",\"Colorado\",\"Nebraska\",\"Kansas\",\"Ohio\",\"Wisconsin\",\"Montana\",\"Minnesota\",\"Missouri\",\"Tennessee\",\"Nevada\",\"New Mexico\",\"Iowa\",\"Alabama\",\"Texas\",\"Maryland\",\"Delaware\",\"Pennsylvania\",\"Arkansas\",\"Indiana\",\"South Carolina\",\"Florida\",\"Georgia\",\"Arizona\",\"Michigan\",\"South Dakota\",\"District of Columbia\",\"Illinois\",\"North Dakota\",\"Mississippi\",\"Rhode Island\",\"Louisiana\",\"Connecticut\",\"Massachusetts\",\"New York\",\"New Jersey\"]},\"id\":\"12330\",\"type\":\"FactorRange\"},{\"attributes\":{},\"id\":\"13526\",\"type\":\"Selection\"},{\"attributes\":{},\"id\":\"12332\",\"type\":\"LinearScale\"},{\"attributes\":{},\"id\":\"13527\",\"type\":\"UnionRenderers\"},{\"attributes\":{},\"id\":\"12334\",\"type\":\"CategoricalScale\"},{\"attributes\":{},\"id\":\"13528\",\"type\":\"Selection\"},{\"attributes\":{\"axis_label\":\"Deaths per Million\",\"formatter\":{\"id\":\"13430\"},\"ticker\":{\"id\":\"12337\"}},\"id\":\"12336\",\"type\":\"LinearAxis\"},{\"attributes\":{},\"id\":\"13529\",\"type\":\"UnionRenderers\"},{\"attributes\":{},\"id\":\"12337\",\"type\":\"BasicTicker\"},{\"attributes\":{},\"id\":\"13530\",\"type\":\"Selection\"},{\"attributes\":{\"axis\":{\"id\":\"12336\"},\"grid_line_color\":null,\"ticker\":null},\"id\":\"12339\",\"type\":\"Grid\"},{\"attributes\":{},\"id\":\"13531\",\"type\":\"UnionRenderers\"},{\"attributes\":{\"formatter\":{\"id\":\"13432\"},\"ticker\":{\"id\":\"12341\"}},\"id\":\"12340\",\"type\":\"CategoricalAxis\"},{\"attributes\":{},\"id\":\"13532\",\"type\":\"Selection\"},{\"attributes\":{},\"id\":\"12341\",\"type\":\"CategoricalTicker\"},{\"attributes\":{},\"id\":\"13533\",\"type\":\"UnionRenderers\"},{\"attributes\":{\"axis\":{\"id\":\"12340\"},\"dimension\":1,\"ticker\":null},\"id\":\"12342\",\"type\":\"Grid\"},{\"attributes\":{},\"id\":\"13534\",\"type\":\"Selection\"},{\"attributes\":{\"fill_alpha\":{\"value\":0.1},\"fill_color\":{\"value\":\"blue\"},\"line_alpha\":{\"value\":0.1},\"line_color\":{\"value\":\"blue\"},\"line_width\":{\"value\":5},\"right\":{\"value\":100.96331826362324},\"y\":{\"field\":\"y\"}},\"id\":\"12359\",\"type\":\"HBar\"},{\"attributes\":{},\"id\":\"13535\",\"type\":\"UnionRenderers\"},{\"attributes\":{\"data\":{\"y\":[\"Vermont\"]},\"selected\":{\"id\":\"13434\"},\"selection_policy\":{\"id\":\"13435\"}},\"id\":\"12357\",\"type\":\"ColumnDataSource\"},{\"attributes\":{},\"id\":\"13437\",\"type\":\"UnionRenderers\"},{\"attributes\":{},\"id\":\"12343\",\"type\":\"PanTool\"},{\"attributes\":{},\"id\":\"12344\",\"type\":\"WheelZoomTool\"},{\"attributes\":{\"overlay\":{\"id\":\"12349\"}},\"id\":\"12345\",\"type\":\"BoxZoomTool\"},{\"attributes\":{},\"id\":\"12346\",\"type\":\"SaveTool\"},{\"attributes\":{},\"id\":\"12347\",\"type\":\"ResetTool\"},{\"attributes\":{},\"id\":\"12348\",\"type\":\"HelpTool\"},{\"attributes\":{\"active_drag\":\"auto\",\"active_inspect\":\"auto\",\"active_multi\":null,\"active_scroll\":\"auto\",\"active_tap\":\"auto\",\"tools\":[{\"id\":\"12343\"},{\"id\":\"12344\"},{\"id\":\"12345\"},{\"id\":\"12346\"},{\"id\":\"12347\"},{\"id\":\"12348\"}]},\"id\":\"12350\",\"type\":\"Toolbar\"},{\"attributes\":{\"fill_color\":{\"value\":\"blue\"},\"line_color\":{\"value\":\"blue\"},\"line_width\":{\"value\":5},\"right\":{\"value\":100.96331826362324},\"y\":{\"field\":\"y\"}},\"id\":\"12358\",\"type\":\"HBar\"},{\"attributes\":{\"data\":{\"y\":[\"Maine\"]},\"selected\":{\"id\":\"13436\"},\"selection_policy\":{\"id\":\"13437\"}},\"id\":\"12362\",\"type\":\"ColumnDataSource\"},{\"attributes\":{\"data_source\":{\"id\":\"12357\"},\"glyph\":{\"id\":\"12358\"},\"hover_glyph\":null,\"muted_glyph\":null,\"nonselection_glyph\":{\"id\":\"12359\"},\"selection_glyph\":null,\"view\":{\"id\":\"12361\"}},\"id\":\"12360\",\"type\":\"GlyphRenderer\"},{\"attributes\":{\"source\":{\"id\":\"12357\"}},\"id\":\"12361\",\"type\":\"CDSView\"},{\"attributes\":{\"bottom_units\":\"screen\",\"fill_alpha\":0.5,\"fill_color\":\"lightgrey\",\"left_units\":\"screen\",\"level\":\"overlay\",\"line_alpha\":1.0,\"line_color\":\"black\",\"line_dash\":[4,4],\"line_width\":2,\"render_mode\":\"css\",\"right_units\":\"screen\",\"top_units\":\"screen\"},\"id\":\"12349\",\"type\":\"BoxAnnotation\"},{\"attributes\":{\"fill_alpha\":{\"value\":0.1},\"fill_color\":{\"value\":\"blue\"},\"line_alpha\":{\"value\":0.1},\"line_color\":{\"value\":\"blue\"},\"line_width\":{\"value\":5},\"right\":{\"value\":131.6756583038985},\"y\":{\"field\":\"y\"}},\"id\":\"12364\",\"type\":\"HBar\"},{\"attributes\":{\"data_source\":{\"id\":\"12362\"},\"glyph\":{\"id\":\"12363\"},\"hover_glyph\":null,\"muted_glyph\":null,\"nonselection_glyph\":{\"id\":\"12364\"},\"selection_glyph\":null,\"view\":{\"id\":\"12366\"}},\"id\":\"12365\",\"type\":\"GlyphRenderer\"},{\"attributes\":{\"source\":{\"id\":\"12362\"}},\"id\":\"12366\",\"type\":\"CDSView\"},{\"attributes\":{\"data\":{\"y\":[\"Alaska\"]},\"selected\":{\"id\":\"13438\"},\"selection_policy\":{\"id\":\"13439\"}},\"id\":\"12367\",\"type\":\"ColumnDataSource\"},{\"attributes\":{\"fill_color\":{\"value\":\"blue\"},\"line_color\":{\"value\":\"blue\"},\"line_width\":{\"value\":5},\"right\":{\"value\":131.6756583038985},\"y\":{\"field\":\"y\"}},\"id\":\"12363\",\"type\":\"HBar\"},{\"attributes\":{\"source\":{\"id\":\"12402\"}},\"id\":\"12406\",\"type\":\"CDSView\"},{\"attributes\":{\"data_source\":{\"id\":\"12402\"},\"glyph\":{\"id\":\"12403\"},\"hover_glyph\":null,\"muted_glyph\":null,\"nonselection_glyph\":{\"id\":\"12404\"},\"selection_glyph\":null,\"view\":{\"id\":\"12406\"}},\"id\":\"12405\",\"type\":\"GlyphRenderer\"},{\"attributes\":{\"data\":{\"y\":[\"Oklahoma\"]},\"selected\":{\"id\":\"13454\"},\"selection_policy\":{\"id\":\"13455\"}},\"id\":\"12407\",\"type\":\"ColumnDataSource\"},{\"attributes\":{\"fill_alpha\":{\"value\":0.1},\"fill_color\":{\"value\":\"blue\"},\"line_alpha\":{\"value\":0.1},\"line_color\":{\"value\":\"blue\"},\"line_width\":{\"value\":5},\"right\":{\"value\":376.5506052389074},\"y\":{\"field\":\"y\"}},\"id\":\"12404\",\"type\":\"HBar\"},{\"attributes\":{\"fill_alpha\":{\"value\":0.1},\"fill_color\":{\"value\":\"red\"},\"line_alpha\":{\"value\":0.1},\"line_color\":{\"value\":\"red\"},\"line_width\":{\"value\":5},\"right\":{\"value\":416.7328999884002},\"y\":{\"field\":\"y\"}},\"id\":\"12409\",\"type\":\"HBar\"},{\"attributes\":{\"source\":{\"id\":\"12407\"}},\"id\":\"12411\",\"type\":\"CDSView\"},{\"attributes\":{\"data_source\":{\"id\":\"12407\"},\"glyph\":{\"id\":\"12408\"},\"hover_glyph\":null,\"muted_glyph\":null,\"nonselection_glyph\":{\"id\":\"12409\"},\"selection_glyph\":null,\"view\":{\"id\":\"12411\"}},\"id\":\"12410\",\"type\":\"GlyphRenderer\"},{\"attributes\":{\"data\":{\"y\":[\"Kentucky\"]},\"selected\":{\"id\":\"13456\"},\"selection_policy\":{\"id\":\"13457\"}},\"id\":\"12412\",\"type\":\"ColumnDataSource\"},{\"attributes\":{\"fill_color\":{\"value\":\"red\"},\"line_color\":{\"value\":\"red\"},\"line_width\":{\"value\":5},\"right\":{\"value\":416.7328999884002},\"y\":{\"field\":\"y\"}},\"id\":\"12408\",\"type\":\"HBar\"},{\"attributes\":{\"fill_alpha\":{\"value\":0.1},\"fill_color\":{\"value\":\"red\"},\"line_alpha\":{\"value\":0.1},\"line_color\":{\"value\":\"red\"},\"line_width\":{\"value\":5},\"right\":{\"value\":426.6203009933807},\"y\":{\"field\":\"y\"}},\"id\":\"12414\",\"type\":\"HBar\"},{\"attributes\":{\"data_source\":{\"id\":\"12412\"},\"glyph\":{\"id\":\"12413\"},\"hover_glyph\":null,\"muted_glyph\":null,\"nonselection_glyph\":{\"id\":\"12414\"},\"selection_glyph\":null,\"view\":{\"id\":\"12416\"}},\"id\":\"12415\",\"type\":\"GlyphRenderer\"},{\"attributes\":{\"source\":{\"id\":\"12412\"}},\"id\":\"12416\",\"type\":\"CDSView\"},{\"attributes\":{\"data\":{\"y\":[\"Virginia\"]},\"selected\":{\"id\":\"13458\"},\"selection_policy\":{\"id\":\"13459\"}},\"id\":\"12417\",\"type\":\"ColumnDataSource\"},{\"attributes\":{\"fill_color\":{\"value\":\"blue\"},\"line_color\":{\"value\":\"blue\"},\"line_width\":{\"value\":5},\"right\":{\"value\":461.8348339450712},\"y\":{\"field\":\"y\"}},\"id\":\"12418\",\"type\":\"HBar\"},{\"attributes\":{\"fill_color\":{\"value\":\"red\"},\"line_color\":{\"value\":\"red\"},\"line_width\":{\"value\":5},\"right\":{\"value\":426.6203009933807},\"y\":{\"field\":\"y\"}},\"id\":\"12413\",\"type\":\"HBar\"},{\"attributes\":{\"fill_alpha\":{\"value\":0.1},\"fill_color\":{\"value\":\"blue\"},\"line_alpha\":{\"value\":0.1},\"line_color\":{\"value\":\"blue\"},\"line_width\":{\"value\":5},\"right\":{\"value\":461.8348339450712},\"y\":{\"field\":\"y\"}},\"id\":\"12419\",\"type\":\"HBar\"},{\"attributes\":{\"data_source\":{\"id\":\"12417\"},\"glyph\":{\"id\":\"12418\"},\"hover_glyph\":null,\"muted_glyph\":null,\"nonselection_glyph\":{\"id\":\"12419\"},\"selection_glyph\":null,\"view\":{\"id\":\"12421\"}},\"id\":\"12420\",\"type\":\"GlyphRenderer\"},{\"attributes\":{\"source\":{\"id\":\"12417\"}},\"id\":\"12421\",\"type\":\"CDSView\"},{\"attributes\":{\"data\":{\"y\":[\"California\"]},\"selected\":{\"id\":\"13460\"},\"selection_policy\":{\"id\":\"13461\"}},\"id\":\"12422\",\"type\":\"ColumnDataSource\"},{\"attributes\":{\"data_source\":{\"id\":\"12422\"},\"glyph\":{\"id\":\"12423\"},\"hover_glyph\":null,\"muted_glyph\":null,\"nonselection_glyph\":{\"id\":\"12424\"},\"selection_glyph\":null,\"view\":{\"id\":\"12426\"}},\"id\":\"12425\",\"type\":\"GlyphRenderer\"},{\"attributes\":{\"fill_alpha\":{\"value\":0.1},\"fill_color\":{\"value\":\"blue\"},\"line_alpha\":{\"value\":0.1},\"line_color\":{\"value\":\"blue\"},\"line_width\":{\"value\":5},\"right\":{\"value\":474.99225745916647},\"y\":{\"field\":\"y\"}},\"id\":\"12424\",\"type\":\"HBar\"},{\"attributes\":{\"source\":{\"id\":\"12422\"}},\"id\":\"12426\",\"type\":\"CDSView\"},{\"attributes\":{\"data\":{\"y\":[\"North Carolina\"]},\"selected\":{\"id\":\"13462\"},\"selection_policy\":{\"id\":\"13463\"}},\"id\":\"12427\",\"type\":\"ColumnDataSource\"},{\"attributes\":{\"fill_color\":{\"value\":\"blue\"},\"line_color\":{\"value\":\"blue\"},\"line_width\":{\"value\":5},\"right\":{\"value\":474.99225745916647},\"y\":{\"field\":\"y\"}},\"id\":\"12423\",\"type\":\"HBar\"},{\"attributes\":{\"fill_alpha\":{\"value\":0.1},\"fill_color\":{\"value\":\"red\"},\"line_alpha\":{\"value\":0.1},\"line_color\":{\"value\":\"red\"},\"line_width\":{\"value\":5},\"right\":{\"value\":483.9778171113046},\"y\":{\"field\":\"y\"}},\"id\":\"12429\",\"type\":\"HBar\"},{\"attributes\":{\"data_source\":{\"id\":\"12427\"},\"glyph\":{\"id\":\"12428\"},\"hover_glyph\":null,\"muted_glyph\":null,\"nonselection_glyph\":{\"id\":\"12429\"},\"selection_glyph\":null,\"view\":{\"id\":\"12431\"}},\"id\":\"12430\",\"type\":\"GlyphRenderer\"},{\"attributes\":{\"source\":{\"id\":\"12427\"}},\"id\":\"12431\",\"type\":\"CDSView\"},{\"attributes\":{\"data\":{\"y\":[\"Idaho\"]},\"selected\":{\"id\":\"13464\"},\"selection_policy\":{\"id\":\"13465\"}},\"id\":\"12432\",\"type\":\"ColumnDataSource\"},{\"attributes\":{\"fill_color\":{\"value\":\"red\"},\"line_color\":{\"value\":\"red\"},\"line_width\":{\"value\":5},\"right\":{\"value\":486.272183720234},\"y\":{\"field\":\"y\"}},\"id\":\"12433\",\"type\":\"HBar\"},{\"attributes\":{\"fill_color\":{\"value\":\"red\"},\"line_color\":{\"value\":\"red\"},\"line_width\":{\"value\":5},\"right\":{\"value\":483.9778171113046},\"y\":{\"field\":\"y\"}},\"id\":\"12428\",\"type\":\"HBar\"},{\"attributes\":{\"data_source\":{\"id\":\"12432\"},\"glyph\":{\"id\":\"12433\"},\"hover_glyph\":null,\"muted_glyph\":null,\"nonselection_glyph\":{\"id\":\"12434\"},\"selection_glyph\":null,\"view\":{\"id\":\"12436\"}},\"id\":\"12435\",\"type\":\"GlyphRenderer\"},{\"attributes\":{\"fill_alpha\":{\"value\":0.1},\"fill_color\":{\"value\":\"red\"},\"line_alpha\":{\"value\":0.1},\"line_color\":{\"value\":\"red\"},\"line_width\":{\"value\":5},\"right\":{\"value\":486.272183720234},\"y\":{\"field\":\"y\"}},\"id\":\"12434\",\"type\":\"HBar\"},{\"attributes\":{\"source\":{\"id\":\"12432\"}},\"id\":\"12436\",\"type\":\"CDSView\"},{\"attributes\":{\"data\":{\"y\":[\"Colorado\"]},\"selected\":{\"id\":\"13466\"},\"selection_policy\":{\"id\":\"13467\"}},\"id\":\"12437\",\"type\":\"ColumnDataSource\"},{\"attributes\":{\"fill_color\":{\"value\":\"blue\"},\"line_color\":{\"value\":\"blue\"},\"line_width\":{\"value\":5},\"right\":{\"value\":489.8644424748764},\"y\":{\"field\":\"y\"}},\"id\":\"12438\",\"type\":\"HBar\"},{\"attributes\":{\"fill_alpha\":{\"value\":0.1},\"fill_color\":{\"value\":\"blue\"},\"line_alpha\":{\"value\":0.1},\"line_color\":{\"value\":\"blue\"},\"line_width\":{\"value\":5},\"right\":{\"value\":489.8644424748764},\"y\":{\"field\":\"y\"}},\"id\":\"12439\",\"type\":\"HBar\"}],\"root_ids\":[\"12325\"]},\"title\":\"Bokeh Application\",\"version\":\"2.0.2\"}};\n",
       "  var render_items = [{\"docid\":\"9e884d4a-96d3-49ff-8c84-a467a99ed06d\",\"root_ids\":[\"12325\"],\"roots\":{\"12325\":\"a5662ab4-79ac-43b8-a266-3e2adf49dcf4\"}}];\n",
       "  root.Bokeh.embed.embed_items_notebook(docs_json, render_items);\n",
       "\n",
       "  }\n",
       "  if (root.Bokeh !== undefined) {\n",
       "    embed_document(root);\n",
       "  } else {\n",
       "    var attempts = 0;\n",
       "    var timer = setInterval(function(root) {\n",
       "      if (root.Bokeh !== undefined) {\n",
       "        clearInterval(timer);\n",
       "        embed_document(root);\n",
       "      } else {\n",
       "        attempts++;\n",
       "        if (attempts > 100) {\n",
       "          clearInterval(timer);\n",
       "          console.log(\"Bokeh: ERROR: Unable to run BokehJS code because BokehJS library is missing\");\n",
       "        }\n",
       "      }\n",
       "    }, 10, root)\n",
       "  }\n",
       "})(window);"
      ],
      "application/vnd.bokehjs_exec.v0+json": ""
     },
     "metadata": {
      "application/vnd.bokehjs_exec.v0+json": {
       "id": "12325"
      }
     },
     "output_type": "display_data"
    }
   ],
   "source": [
    "def by_deaths():\n",
    "    df = pd.read_csv('/home/henry/Downloads/by_party2.csv')\n",
    "    labels = df['state']\n",
    "    deaths = df['deaths_a']\n",
    "    party = df['party']\n",
    "    vote_dict = {}\n",
    "    for counter, i in enumerate(labels):\n",
    "        vote_dict[i] = party[counter]\n",
    "    p = make_bar_pop2(labels, y = deaths, plot_height = 450, \n",
    "             plot_width = 800,  vote_dict = vote_dict, title = \"Misleading Graph: Deaths/million per state\")\n",
    "    return p\n",
    "\n",
    "show(by_deaths())\n",
    "    "
   ]
  }
 ],
 "metadata": {
  "kernelspec": {
   "display_name": "Python 3",
   "language": "python",
   "name": "python3"
  },
  "language_info": {
   "codemirror_mode": {
    "name": "ipython",
    "version": 3
   },
   "file_extension": ".py",
   "mimetype": "text/x-python",
   "name": "python",
   "nbconvert_exporter": "python",
   "pygments_lexer": "ipython3",
   "version": "3.6.9"
  }
 },
 "nbformat": 4,
 "nbformat_minor": 4
}
