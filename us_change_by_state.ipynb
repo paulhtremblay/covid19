{
 "cells": [
  {
   "cell_type": "code",
   "execution_count": 1,
   "metadata": {},
   "outputs": [],
   "source": [
    "import os\n",
    "import datetime\n",
    "import random\n",
    "from bokeh.io import show\n",
    "from bokeh.plotting import figure\n",
    "from bokeh.io import output_notebook\n",
    "from bokeh.layouts import gridplot\n",
    "from bokeh.models import ColumnDataSource, Band\n",
    "from bokeh.embed import components\n",
    "from bokeh.models import Range1d\n",
    "\n",
    "import numpy as np"
   ]
  },
  {
   "cell_type": "code",
   "execution_count": 2,
   "metadata": {},
   "outputs": [
    {
     "data": {
      "text/html": [
       "\n",
       "    <div class=\"bk-root\">\n",
       "        <a href=\"https://bokeh.org\" target=\"_blank\" class=\"bk-logo bk-logo-small bk-logo-notebook\"></a>\n",
       "        <span id=\"1001\">Loading BokehJS ...</span>\n",
       "    </div>"
      ]
     },
     "metadata": {},
     "output_type": "display_data"
    },
    {
     "data": {
      "application/javascript": [
       "\n",
       "(function(root) {\n",
       "  function now() {\n",
       "    return new Date();\n",
       "  }\n",
       "\n",
       "  var force = true;\n",
       "\n",
       "  if (typeof root._bokeh_onload_callbacks === \"undefined\" || force === true) {\n",
       "    root._bokeh_onload_callbacks = [];\n",
       "    root._bokeh_is_loading = undefined;\n",
       "  }\n",
       "\n",
       "  var JS_MIME_TYPE = 'application/javascript';\n",
       "  var HTML_MIME_TYPE = 'text/html';\n",
       "  var EXEC_MIME_TYPE = 'application/vnd.bokehjs_exec.v0+json';\n",
       "  var CLASS_NAME = 'output_bokeh rendered_html';\n",
       "\n",
       "  /**\n",
       "   * Render data to the DOM node\n",
       "   */\n",
       "  function render(props, node) {\n",
       "    var script = document.createElement(\"script\");\n",
       "    node.appendChild(script);\n",
       "  }\n",
       "\n",
       "  /**\n",
       "   * Handle when an output is cleared or removed\n",
       "   */\n",
       "  function handleClearOutput(event, handle) {\n",
       "    var cell = handle.cell;\n",
       "\n",
       "    var id = cell.output_area._bokeh_element_id;\n",
       "    var server_id = cell.output_area._bokeh_server_id;\n",
       "    // Clean up Bokeh references\n",
       "    if (id != null && id in Bokeh.index) {\n",
       "      Bokeh.index[id].model.document.clear();\n",
       "      delete Bokeh.index[id];\n",
       "    }\n",
       "\n",
       "    if (server_id !== undefined) {\n",
       "      // Clean up Bokeh references\n",
       "      var cmd = \"from bokeh.io.state import curstate; print(curstate().uuid_to_server['\" + server_id + \"'].get_sessions()[0].document.roots[0]._id)\";\n",
       "      cell.notebook.kernel.execute(cmd, {\n",
       "        iopub: {\n",
       "          output: function(msg) {\n",
       "            var id = msg.content.text.trim();\n",
       "            if (id in Bokeh.index) {\n",
       "              Bokeh.index[id].model.document.clear();\n",
       "              delete Bokeh.index[id];\n",
       "            }\n",
       "          }\n",
       "        }\n",
       "      });\n",
       "      // Destroy server and session\n",
       "      var cmd = \"import bokeh.io.notebook as ion; ion.destroy_server('\" + server_id + \"')\";\n",
       "      cell.notebook.kernel.execute(cmd);\n",
       "    }\n",
       "  }\n",
       "\n",
       "  /**\n",
       "   * Handle when a new output is added\n",
       "   */\n",
       "  function handleAddOutput(event, handle) {\n",
       "    var output_area = handle.output_area;\n",
       "    var output = handle.output;\n",
       "\n",
       "    // limit handleAddOutput to display_data with EXEC_MIME_TYPE content only\n",
       "    if ((output.output_type != \"display_data\") || (!output.data.hasOwnProperty(EXEC_MIME_TYPE))) {\n",
       "      return\n",
       "    }\n",
       "\n",
       "    var toinsert = output_area.element.find(\".\" + CLASS_NAME.split(' ')[0]);\n",
       "\n",
       "    if (output.metadata[EXEC_MIME_TYPE][\"id\"] !== undefined) {\n",
       "      toinsert[toinsert.length - 1].firstChild.textContent = output.data[JS_MIME_TYPE];\n",
       "      // store reference to embed id on output_area\n",
       "      output_area._bokeh_element_id = output.metadata[EXEC_MIME_TYPE][\"id\"];\n",
       "    }\n",
       "    if (output.metadata[EXEC_MIME_TYPE][\"server_id\"] !== undefined) {\n",
       "      var bk_div = document.createElement(\"div\");\n",
       "      bk_div.innerHTML = output.data[HTML_MIME_TYPE];\n",
       "      var script_attrs = bk_div.children[0].attributes;\n",
       "      for (var i = 0; i < script_attrs.length; i++) {\n",
       "        toinsert[toinsert.length - 1].firstChild.setAttribute(script_attrs[i].name, script_attrs[i].value);\n",
       "        toinsert[toinsert.length - 1].firstChild.textContent = bk_div.children[0].textContent\n",
       "      }\n",
       "      // store reference to server id on output_area\n",
       "      output_area._bokeh_server_id = output.metadata[EXEC_MIME_TYPE][\"server_id\"];\n",
       "    }\n",
       "  }\n",
       "\n",
       "  function register_renderer(events, OutputArea) {\n",
       "\n",
       "    function append_mime(data, metadata, element) {\n",
       "      // create a DOM node to render to\n",
       "      var toinsert = this.create_output_subarea(\n",
       "        metadata,\n",
       "        CLASS_NAME,\n",
       "        EXEC_MIME_TYPE\n",
       "      );\n",
       "      this.keyboard_manager.register_events(toinsert);\n",
       "      // Render to node\n",
       "      var props = {data: data, metadata: metadata[EXEC_MIME_TYPE]};\n",
       "      render(props, toinsert[toinsert.length - 1]);\n",
       "      element.append(toinsert);\n",
       "      return toinsert\n",
       "    }\n",
       "\n",
       "    /* Handle when an output is cleared or removed */\n",
       "    events.on('clear_output.CodeCell', handleClearOutput);\n",
       "    events.on('delete.Cell', handleClearOutput);\n",
       "\n",
       "    /* Handle when a new output is added */\n",
       "    events.on('output_added.OutputArea', handleAddOutput);\n",
       "\n",
       "    /**\n",
       "     * Register the mime type and append_mime function with output_area\n",
       "     */\n",
       "    OutputArea.prototype.register_mime_type(EXEC_MIME_TYPE, append_mime, {\n",
       "      /* Is output safe? */\n",
       "      safe: true,\n",
       "      /* Index of renderer in `output_area.display_order` */\n",
       "      index: 0\n",
       "    });\n",
       "  }\n",
       "\n",
       "  // register the mime type if in Jupyter Notebook environment and previously unregistered\n",
       "  if (root.Jupyter !== undefined) {\n",
       "    var events = require('base/js/events');\n",
       "    var OutputArea = require('notebook/js/outputarea').OutputArea;\n",
       "\n",
       "    if (OutputArea.prototype.mime_types().indexOf(EXEC_MIME_TYPE) == -1) {\n",
       "      register_renderer(events, OutputArea);\n",
       "    }\n",
       "  }\n",
       "\n",
       "  \n",
       "  if (typeof (root._bokeh_timeout) === \"undefined\" || force === true) {\n",
       "    root._bokeh_timeout = Date.now() + 5000;\n",
       "    root._bokeh_failed_load = false;\n",
       "  }\n",
       "\n",
       "  var NB_LOAD_WARNING = {'data': {'text/html':\n",
       "     \"<div style='background-color: #fdd'>\\n\"+\n",
       "     \"<p>\\n\"+\n",
       "     \"BokehJS does not appear to have successfully loaded. If loading BokehJS from CDN, this \\n\"+\n",
       "     \"may be due to a slow or bad network connection. Possible fixes:\\n\"+\n",
       "     \"</p>\\n\"+\n",
       "     \"<ul>\\n\"+\n",
       "     \"<li>re-rerun `output_notebook()` to attempt to load from CDN again, or</li>\\n\"+\n",
       "     \"<li>use INLINE resources instead, as so:</li>\\n\"+\n",
       "     \"</ul>\\n\"+\n",
       "     \"<code>\\n\"+\n",
       "     \"from bokeh.resources import INLINE\\n\"+\n",
       "     \"output_notebook(resources=INLINE)\\n\"+\n",
       "     \"</code>\\n\"+\n",
       "     \"</div>\"}};\n",
       "\n",
       "  function display_loaded() {\n",
       "    var el = document.getElementById(\"1001\");\n",
       "    if (el != null) {\n",
       "      el.textContent = \"BokehJS is loading...\";\n",
       "    }\n",
       "    if (root.Bokeh !== undefined) {\n",
       "      if (el != null) {\n",
       "        el.textContent = \"BokehJS \" + root.Bokeh.version + \" successfully loaded.\";\n",
       "      }\n",
       "    } else if (Date.now() < root._bokeh_timeout) {\n",
       "      setTimeout(display_loaded, 100)\n",
       "    }\n",
       "  }\n",
       "\n",
       "\n",
       "  function run_callbacks() {\n",
       "    try {\n",
       "      root._bokeh_onload_callbacks.forEach(function(callback) {\n",
       "        if (callback != null)\n",
       "          callback();\n",
       "      });\n",
       "    } finally {\n",
       "      delete root._bokeh_onload_callbacks\n",
       "    }\n",
       "    console.debug(\"Bokeh: all callbacks have finished\");\n",
       "  }\n",
       "\n",
       "  function load_libs(css_urls, js_urls, callback) {\n",
       "    if (css_urls == null) css_urls = [];\n",
       "    if (js_urls == null) js_urls = [];\n",
       "\n",
       "    root._bokeh_onload_callbacks.push(callback);\n",
       "    if (root._bokeh_is_loading > 0) {\n",
       "      console.debug(\"Bokeh: BokehJS is being loaded, scheduling callback at\", now());\n",
       "      return null;\n",
       "    }\n",
       "    if (js_urls == null || js_urls.length === 0) {\n",
       "      run_callbacks();\n",
       "      return null;\n",
       "    }\n",
       "    console.debug(\"Bokeh: BokehJS not loaded, scheduling load and callback at\", now());\n",
       "    root._bokeh_is_loading = css_urls.length + js_urls.length;\n",
       "\n",
       "    function on_load() {\n",
       "      root._bokeh_is_loading--;\n",
       "      if (root._bokeh_is_loading === 0) {\n",
       "        console.debug(\"Bokeh: all BokehJS libraries/stylesheets loaded\");\n",
       "        run_callbacks()\n",
       "      }\n",
       "    }\n",
       "\n",
       "    function on_error() {\n",
       "      console.error(\"failed to load \" + url);\n",
       "    }\n",
       "\n",
       "    for (var i = 0; i < css_urls.length; i++) {\n",
       "      var url = css_urls[i];\n",
       "      const element = document.createElement(\"link\");\n",
       "      element.onload = on_load;\n",
       "      element.onerror = on_error;\n",
       "      element.rel = \"stylesheet\";\n",
       "      element.type = \"text/css\";\n",
       "      element.href = url;\n",
       "      console.debug(\"Bokeh: injecting link tag for BokehJS stylesheet: \", url);\n",
       "      document.body.appendChild(element);\n",
       "    }\n",
       "\n",
       "    const hashes = {\"https://cdn.bokeh.org/bokeh/release/bokeh-2.0.2.min.js\": \"ufR9RFnRs6lniiaFvtJziE0YeidtAgBRH6ux2oUItHw5WTvE1zuk9uzhUU/FJXDp\", \"https://cdn.bokeh.org/bokeh/release/bokeh-widgets-2.0.2.min.js\": \"8QM/PGWBT+IssZuRcDcjzwIh1mkOmJSoNMmyYDZbCfXJg3Ap1lEvdVgFuSAwhb/J\", \"https://cdn.bokeh.org/bokeh/release/bokeh-tables-2.0.2.min.js\": \"Jm8cH3Rg0P6UeZhVY5cLy1WzKajUT9KImCY+76hEqrcJt59/d8GPvFHjCkYgnSIn\", \"https://cdn.bokeh.org/bokeh/release/bokeh-gl-2.0.2.min.js\": \"Ozhzj+SI7ywm74aOI/UajcWz+C0NjsPunEVyVIrxzYkB+jA+2tUw8x5xJCbVtK5I\"};\n",
       "\n",
       "    for (var i = 0; i < js_urls.length; i++) {\n",
       "      var url = js_urls[i];\n",
       "      var element = document.createElement('script');\n",
       "      element.onload = on_load;\n",
       "      element.onerror = on_error;\n",
       "      element.async = false;\n",
       "      element.src = url;\n",
       "      if (url in hashes) {\n",
       "        element.crossOrigin = \"anonymous\";\n",
       "        element.integrity = \"sha384-\" + hashes[url];\n",
       "      }\n",
       "      console.debug(\"Bokeh: injecting script tag for BokehJS library: \", url);\n",
       "      document.head.appendChild(element);\n",
       "    }\n",
       "  };\n",
       "\n",
       "  function inject_raw_css(css) {\n",
       "    const element = document.createElement(\"style\");\n",
       "    element.appendChild(document.createTextNode(css));\n",
       "    document.body.appendChild(element);\n",
       "  }\n",
       "\n",
       "  \n",
       "  var js_urls = [\"https://cdn.bokeh.org/bokeh/release/bokeh-2.0.2.min.js\", \"https://cdn.bokeh.org/bokeh/release/bokeh-widgets-2.0.2.min.js\", \"https://cdn.bokeh.org/bokeh/release/bokeh-tables-2.0.2.min.js\", \"https://cdn.bokeh.org/bokeh/release/bokeh-gl-2.0.2.min.js\"];\n",
       "  var css_urls = [];\n",
       "  \n",
       "\n",
       "  var inline_js = [\n",
       "    function(Bokeh) {\n",
       "      Bokeh.set_log_level(\"info\");\n",
       "    },\n",
       "    function(Bokeh) {\n",
       "    \n",
       "    \n",
       "    }\n",
       "  ];\n",
       "\n",
       "  function run_inline_js() {\n",
       "    \n",
       "    if (root.Bokeh !== undefined || force === true) {\n",
       "      \n",
       "    for (var i = 0; i < inline_js.length; i++) {\n",
       "      inline_js[i].call(root, root.Bokeh);\n",
       "    }\n",
       "    if (force === true) {\n",
       "        display_loaded();\n",
       "      }} else if (Date.now() < root._bokeh_timeout) {\n",
       "      setTimeout(run_inline_js, 100);\n",
       "    } else if (!root._bokeh_failed_load) {\n",
       "      console.log(\"Bokeh: BokehJS failed to load within specified timeout.\");\n",
       "      root._bokeh_failed_load = true;\n",
       "    } else if (force !== true) {\n",
       "      var cell = $(document.getElementById(\"1001\")).parents('.cell').data().cell;\n",
       "      cell.output_area.append_execute_result(NB_LOAD_WARNING)\n",
       "    }\n",
       "\n",
       "  }\n",
       "\n",
       "  if (root._bokeh_is_loading === 0) {\n",
       "    console.debug(\"Bokeh: BokehJS loaded, going straight to plotting\");\n",
       "    run_inline_js();\n",
       "  } else {\n",
       "    load_libs(css_urls, js_urls, function() {\n",
       "      console.debug(\"Bokeh: BokehJS plotting callback run at\", now());\n",
       "      run_inline_js();\n",
       "    });\n",
       "  }\n",
       "}(window));"
      ],
      "application/vnd.bokehjs_load.v0+json": "\n(function(root) {\n  function now() {\n    return new Date();\n  }\n\n  var force = true;\n\n  if (typeof root._bokeh_onload_callbacks === \"undefined\" || force === true) {\n    root._bokeh_onload_callbacks = [];\n    root._bokeh_is_loading = undefined;\n  }\n\n  \n\n  \n  if (typeof (root._bokeh_timeout) === \"undefined\" || force === true) {\n    root._bokeh_timeout = Date.now() + 5000;\n    root._bokeh_failed_load = false;\n  }\n\n  var NB_LOAD_WARNING = {'data': {'text/html':\n     \"<div style='background-color: #fdd'>\\n\"+\n     \"<p>\\n\"+\n     \"BokehJS does not appear to have successfully loaded. If loading BokehJS from CDN, this \\n\"+\n     \"may be due to a slow or bad network connection. Possible fixes:\\n\"+\n     \"</p>\\n\"+\n     \"<ul>\\n\"+\n     \"<li>re-rerun `output_notebook()` to attempt to load from CDN again, or</li>\\n\"+\n     \"<li>use INLINE resources instead, as so:</li>\\n\"+\n     \"</ul>\\n\"+\n     \"<code>\\n\"+\n     \"from bokeh.resources import INLINE\\n\"+\n     \"output_notebook(resources=INLINE)\\n\"+\n     \"</code>\\n\"+\n     \"</div>\"}};\n\n  function display_loaded() {\n    var el = document.getElementById(\"1001\");\n    if (el != null) {\n      el.textContent = \"BokehJS is loading...\";\n    }\n    if (root.Bokeh !== undefined) {\n      if (el != null) {\n        el.textContent = \"BokehJS \" + root.Bokeh.version + \" successfully loaded.\";\n      }\n    } else if (Date.now() < root._bokeh_timeout) {\n      setTimeout(display_loaded, 100)\n    }\n  }\n\n\n  function run_callbacks() {\n    try {\n      root._bokeh_onload_callbacks.forEach(function(callback) {\n        if (callback != null)\n          callback();\n      });\n    } finally {\n      delete root._bokeh_onload_callbacks\n    }\n    console.debug(\"Bokeh: all callbacks have finished\");\n  }\n\n  function load_libs(css_urls, js_urls, callback) {\n    if (css_urls == null) css_urls = [];\n    if (js_urls == null) js_urls = [];\n\n    root._bokeh_onload_callbacks.push(callback);\n    if (root._bokeh_is_loading > 0) {\n      console.debug(\"Bokeh: BokehJS is being loaded, scheduling callback at\", now());\n      return null;\n    }\n    if (js_urls == null || js_urls.length === 0) {\n      run_callbacks();\n      return null;\n    }\n    console.debug(\"Bokeh: BokehJS not loaded, scheduling load and callback at\", now());\n    root._bokeh_is_loading = css_urls.length + js_urls.length;\n\n    function on_load() {\n      root._bokeh_is_loading--;\n      if (root._bokeh_is_loading === 0) {\n        console.debug(\"Bokeh: all BokehJS libraries/stylesheets loaded\");\n        run_callbacks()\n      }\n    }\n\n    function on_error() {\n      console.error(\"failed to load \" + url);\n    }\n\n    for (var i = 0; i < css_urls.length; i++) {\n      var url = css_urls[i];\n      const element = document.createElement(\"link\");\n      element.onload = on_load;\n      element.onerror = on_error;\n      element.rel = \"stylesheet\";\n      element.type = \"text/css\";\n      element.href = url;\n      console.debug(\"Bokeh: injecting link tag for BokehJS stylesheet: \", url);\n      document.body.appendChild(element);\n    }\n\n    const hashes = {\"https://cdn.bokeh.org/bokeh/release/bokeh-2.0.2.min.js\": \"ufR9RFnRs6lniiaFvtJziE0YeidtAgBRH6ux2oUItHw5WTvE1zuk9uzhUU/FJXDp\", \"https://cdn.bokeh.org/bokeh/release/bokeh-widgets-2.0.2.min.js\": \"8QM/PGWBT+IssZuRcDcjzwIh1mkOmJSoNMmyYDZbCfXJg3Ap1lEvdVgFuSAwhb/J\", \"https://cdn.bokeh.org/bokeh/release/bokeh-tables-2.0.2.min.js\": \"Jm8cH3Rg0P6UeZhVY5cLy1WzKajUT9KImCY+76hEqrcJt59/d8GPvFHjCkYgnSIn\", \"https://cdn.bokeh.org/bokeh/release/bokeh-gl-2.0.2.min.js\": \"Ozhzj+SI7ywm74aOI/UajcWz+C0NjsPunEVyVIrxzYkB+jA+2tUw8x5xJCbVtK5I\"};\n\n    for (var i = 0; i < js_urls.length; i++) {\n      var url = js_urls[i];\n      var element = document.createElement('script');\n      element.onload = on_load;\n      element.onerror = on_error;\n      element.async = false;\n      element.src = url;\n      if (url in hashes) {\n        element.crossOrigin = \"anonymous\";\n        element.integrity = \"sha384-\" + hashes[url];\n      }\n      console.debug(\"Bokeh: injecting script tag for BokehJS library: \", url);\n      document.head.appendChild(element);\n    }\n  };\n\n  function inject_raw_css(css) {\n    const element = document.createElement(\"style\");\n    element.appendChild(document.createTextNode(css));\n    document.body.appendChild(element);\n  }\n\n  \n  var js_urls = [\"https://cdn.bokeh.org/bokeh/release/bokeh-2.0.2.min.js\", \"https://cdn.bokeh.org/bokeh/release/bokeh-widgets-2.0.2.min.js\", \"https://cdn.bokeh.org/bokeh/release/bokeh-tables-2.0.2.min.js\", \"https://cdn.bokeh.org/bokeh/release/bokeh-gl-2.0.2.min.js\"];\n  var css_urls = [];\n  \n\n  var inline_js = [\n    function(Bokeh) {\n      Bokeh.set_log_level(\"info\");\n    },\n    function(Bokeh) {\n    \n    \n    }\n  ];\n\n  function run_inline_js() {\n    \n    if (root.Bokeh !== undefined || force === true) {\n      \n    for (var i = 0; i < inline_js.length; i++) {\n      inline_js[i].call(root, root.Bokeh);\n    }\n    if (force === true) {\n        display_loaded();\n      }} else if (Date.now() < root._bokeh_timeout) {\n      setTimeout(run_inline_js, 100);\n    } else if (!root._bokeh_failed_load) {\n      console.log(\"Bokeh: BokehJS failed to load within specified timeout.\");\n      root._bokeh_failed_load = true;\n    } else if (force !== true) {\n      var cell = $(document.getElementById(\"1001\")).parents('.cell').data().cell;\n      cell.output_area.append_execute_result(NB_LOAD_WARNING)\n    }\n\n  }\n\n  if (root._bokeh_is_loading === 0) {\n    console.debug(\"Bokeh: BokehJS loaded, going straight to plotting\");\n    run_inline_js();\n  } else {\n    load_libs(css_urls, js_urls, function() {\n      console.debug(\"Bokeh: BokehJS plotting callback run at\", now());\n      run_inline_js();\n    });\n  }\n}(window));"
     },
     "metadata": {},
     "output_type": "display_data"
    }
   ],
   "source": [
    "output_notebook()"
   ]
  },
  {
   "cell_type": "code",
   "execution_count": 3,
   "metadata": {},
   "outputs": [],
   "source": [
    "import math\n",
    "import scipy.optimize as optim\n",
    "import pandas as pd\n",
    "import statsmodels.api as sm\n",
    "from scipy.stats import ttest_ind"
   ]
  },
  {
   "cell_type": "code",
   "execution_count": 4,
   "metadata": {},
   "outputs": [],
   "source": [
    "from bokeh.io import show\n",
    "from bokeh.plotting import figure\n",
    "from bokeh.io import output_notebook\n",
    "from bokeh.layouts import gridplot\n",
    "from bokeh.models import Arrow, NormalHead, OpenHead, VeeHead\n",
    "from bokeh.models import Label\n",
    "from bokeh.models import Span\n",
    "from bokeh.embed import components\n"
   ]
  },
  {
   "cell_type": "code",
   "execution_count": 5,
   "metadata": {},
   "outputs": [],
   "source": [
    "def get_data():\n",
    "    df = pd.read_csv('data/states.csv')\n",
    "    df = df[(df['state'] != 'Guam') & (df['state'] != 'Northern Mariana Islands')]\n",
    "    df['date'] = pd.to_datetime(df['date'])\n",
    "    df = df.sort_values(by = ['date'])\n",
    "    return df\n"
   ]
  },
  {
   "cell_type": "code",
   "execution_count": 6,
   "metadata": {},
   "outputs": [],
   "source": [
    "\n",
    "def get_pop_data():\n",
    "    df = pd.read_csv('data/seven_day_state.csv')\n",
    "    #df = df[(df['state'] != 'Guam') & (df['state'] != 'Northern Mariana Islands')]\n",
    "    df['date'] = pd.to_datetime(df['date'])\n",
    "    df = df.sort_values(by = ['date'])\n",
    "    return df\n",
    "\n",
    "def get_pop():\n",
    "    df = get_pop_data()\n",
    "    states = df['state']\n",
    "    population = df['population']\n",
    "    d = {}\n",
    "    for x in set(list(zip(states, population))):\n",
    "        d[x[0]] = x[1]\n",
    "    return d\n"
   ]
  },
  {
   "cell_type": "code",
   "execution_count": 7,
   "metadata": {},
   "outputs": [],
   "source": [
    "def get_rate(df, state, leng, key):\n",
    "    df_s = df[df['state'] == state]\n",
    "    current = df_s[key].tolist()[-1 * leng:]\n",
    "    prev = df_s[key].tolist()[-2 * leng: -1 * leng]\n",
    "    assert len(prev) == leng\n",
    "    assert len(current) == leng\n",
    "    p_value_ttest = round(ttest_ind(current, prev).pvalue,2)\n",
    "    return np.mean(current)/np.mean(prev), p_value_ttest\n"
   ]
  },
  {
   "cell_type": "code",
   "execution_count": 8,
   "metadata": {},
   "outputs": [
    {
     "data": {
      "text/plain": [
       "(1861.1428571428576, -55.395604395604366, 0.22128937124490597)"
      ]
     },
     "execution_count": 8,
     "metadata": {},
     "output_type": "execute_result"
    }
   ],
   "source": [
    "def get_linear(y):\n",
    "    x = range(len(y))\n",
    "    X = list(zip(*[x]))\n",
    "    xm = sm.add_constant(X)\n",
    "    model = sm.OLS(y, xm) \n",
    "    result = model.fit()\n",
    "    slope = result.params[1]\n",
    "    p_value =result.pvalues[1]\n",
    "    return result.params[0], slope, p_value\n",
    "\n",
    "\n",
    "def get_state_linear(df, state, leng, key):\n",
    "    df_s = df[df['state'] == state]\n",
    "    y = df_s[key].tolist()[-1 * leng:]\n",
    "    assert len(y) == leng\n",
    "    return get_linear(y)\n",
    "get_state_linear(get_data(), 'Washington', 14, 'cases')\n"
   ]
  },
  {
   "cell_type": "code",
   "execution_count": 9,
   "metadata": {},
   "outputs": [
    {
     "name": "stdout",
     "output_type": "stream",
     "text": [
      "p value is 0.8359615405641408\n"
     ]
    },
    {
     "data": {
      "text/html": [
       "\n",
       "\n",
       "\n",
       "\n",
       "\n",
       "\n",
       "  <div class=\"bk-root\" id=\"88c4cbaa-6d59-4a49-9186-efdd51b64c63\" data-root-id=\"1002\"></div>\n"
      ]
     },
     "metadata": {},
     "output_type": "display_data"
    },
    {
     "data": {
      "application/javascript": [
       "(function(root) {\n",
       "  function embed_document(root) {\n",
       "    \n",
       "  var docs_json = {\"ab44720e-f61f-40d1-b0e3-dfa5b80267dd\":{\"roots\":{\"references\":[{\"attributes\":{\"below\":[{\"id\":\"1011\"}],\"center\":[{\"id\":\"1014\"},{\"id\":\"1018\"}],\"left\":[{\"id\":\"1015\"}],\"renderers\":[{\"id\":\"1036\"},{\"id\":\"1041\"}],\"title\":{\"id\":\"1043\"},\"toolbar\":{\"id\":\"1026\"},\"x_range\":{\"id\":\"1003\"},\"x_scale\":{\"id\":\"1007\"},\"y_range\":{\"id\":\"1005\"},\"y_scale\":{\"id\":\"1009\"}},\"id\":\"1002\",\"subtype\":\"Figure\",\"type\":\"Plot\"},{\"attributes\":{\"axis\":{\"id\":\"1015\"},\"dimension\":1,\"ticker\":null},\"id\":\"1018\",\"type\":\"Grid\"},{\"attributes\":{\"source\":{\"id\":\"1033\"}},\"id\":\"1037\",\"type\":\"CDSView\"},{\"attributes\":{},\"id\":\"1046\",\"type\":\"DatetimeTickFormatter\"},{\"attributes\":{\"formatter\":{\"id\":\"1048\"},\"ticker\":{\"id\":\"1016\"}},\"id\":\"1015\",\"type\":\"LinearAxis\"},{\"attributes\":{\"line_color\":\"#1f77b4\",\"x\":{\"field\":\"x\"},\"y\":{\"field\":\"y\"}},\"id\":\"1034\",\"type\":\"Line\"},{\"attributes\":{\"bottom_units\":\"screen\",\"fill_alpha\":0.5,\"fill_color\":\"lightgrey\",\"left_units\":\"screen\",\"level\":\"overlay\",\"line_alpha\":1.0,\"line_color\":\"black\",\"line_dash\":[4,4],\"line_width\":2,\"render_mode\":\"css\",\"right_units\":\"screen\",\"top_units\":\"screen\"},\"id\":\"1025\",\"type\":\"BoxAnnotation\"},{\"attributes\":{\"text\":\"\"},\"id\":\"1043\",\"type\":\"Title\"},{\"attributes\":{\"data\":{\"x\":[1611792000000.0,1611878400000.0,1611964800000.0,1612051200000.0,1612137600000.0,1612224000000.0,1612310400000.0],\"y\":[2220,1104,348,1018,2246,999,1368]},\"selected\":{\"id\":\"1061\"},\"selection_policy\":{\"id\":\"1062\"}},\"id\":\"1033\",\"type\":\"ColumnDataSource\"},{\"attributes\":{\"data_source\":{\"id\":\"1033\"},\"glyph\":{\"id\":\"1034\"},\"hover_glyph\":null,\"muted_glyph\":null,\"nonselection_glyph\":{\"id\":\"1035\"},\"selection_glyph\":null,\"view\":{\"id\":\"1037\"}},\"id\":\"1036\",\"type\":\"GlyphRenderer\"},{\"attributes\":{},\"id\":\"1019\",\"type\":\"PanTool\"},{\"attributes\":{\"data\":{\"x\":[1611792000000.0,1611878400000.0,1611964800000.0,1612051200000.0,1612137600000.0,1612224000000.0,1612310400000.0],\"y\":[1422.0000000000005,1391.0000000000005,1360.0000000000005,1329.0000000000002,1298.0000000000002,1267.0000000000002,1236.0]},\"selected\":{\"id\":\"1063\"},\"selection_policy\":{\"id\":\"1064\"}},\"id\":\"1038\",\"type\":\"ColumnDataSource\"},{\"attributes\":{},\"id\":\"1020\",\"type\":\"WheelZoomTool\"},{\"attributes\":{\"line_color\":\"#1f77b4\",\"x\":{\"field\":\"x\"},\"y\":{\"field\":\"y\"}},\"id\":\"1039\",\"type\":\"Line\"},{\"attributes\":{},\"id\":\"1048\",\"type\":\"BasicTickFormatter\"},{\"attributes\":{\"overlay\":{\"id\":\"1025\"}},\"id\":\"1021\",\"type\":\"BoxZoomTool\"},{\"attributes\":{\"base\":60,\"mantissas\":[1,2,5,10,15,20,30],\"max_interval\":1800000.0,\"min_interval\":1000.0,\"num_minor_ticks\":0},\"id\":\"1050\",\"type\":\"AdaptiveTicker\"},{\"attributes\":{\"source\":{\"id\":\"1038\"}},\"id\":\"1042\",\"type\":\"CDSView\"},{\"attributes\":{},\"id\":\"1022\",\"type\":\"SaveTool\"},{\"attributes\":{\"line_alpha\":0.1,\"line_color\":\"#1f77b4\",\"x\":{\"field\":\"x\"},\"y\":{\"field\":\"y\"}},\"id\":\"1035\",\"type\":\"Line\"},{\"attributes\":{\"line_alpha\":0.1,\"line_color\":\"#1f77b4\",\"x\":{\"field\":\"x\"},\"y\":{\"field\":\"y\"}},\"id\":\"1040\",\"type\":\"Line\"},{\"attributes\":{},\"id\":\"1023\",\"type\":\"ResetTool\"},{\"attributes\":{\"mantissas\":[1,2,5],\"max_interval\":500.0,\"num_minor_ticks\":0},\"id\":\"1049\",\"type\":\"AdaptiveTicker\"},{\"attributes\":{},\"id\":\"1024\",\"type\":\"HelpTool\"},{\"attributes\":{},\"id\":\"1063\",\"type\":\"Selection\"},{\"attributes\":{},\"id\":\"1003\",\"type\":\"DataRange1d\"},{\"attributes\":{},\"id\":\"1064\",\"type\":\"UnionRenderers\"},{\"attributes\":{\"days\":[1,8,15,22]},\"id\":\"1054\",\"type\":\"DaysTicker\"},{\"attributes\":{},\"id\":\"1005\",\"type\":\"DataRange1d\"},{\"attributes\":{\"active_drag\":\"auto\",\"active_inspect\":\"auto\",\"active_multi\":null,\"active_scroll\":\"auto\",\"active_tap\":\"auto\",\"tools\":[{\"id\":\"1019\"},{\"id\":\"1020\"},{\"id\":\"1021\"},{\"id\":\"1022\"},{\"id\":\"1023\"},{\"id\":\"1024\"}]},\"id\":\"1026\",\"type\":\"Toolbar\"},{\"attributes\":{},\"id\":\"1007\",\"type\":\"LinearScale\"},{\"attributes\":{\"days\":[1,2,3,4,5,6,7,8,9,10,11,12,13,14,15,16,17,18,19,20,21,22,23,24,25,26,27,28,29,30,31]},\"id\":\"1052\",\"type\":\"DaysTicker\"},{\"attributes\":{\"months\":[0,2,4,6,8,10]},\"id\":\"1057\",\"type\":\"MonthsTicker\"},{\"attributes\":{},\"id\":\"1062\",\"type\":\"UnionRenderers\"},{\"attributes\":{},\"id\":\"1009\",\"type\":\"LinearScale\"},{\"attributes\":{\"months\":[0,1,2,3,4,5,6,7,8,9,10,11]},\"id\":\"1056\",\"type\":\"MonthsTicker\"},{\"attributes\":{\"formatter\":{\"id\":\"1046\"},\"ticker\":{\"id\":\"1012\"}},\"id\":\"1011\",\"type\":\"DatetimeAxis\"},{\"attributes\":{\"num_minor_ticks\":5,\"tickers\":[{\"id\":\"1049\"},{\"id\":\"1050\"},{\"id\":\"1051\"},{\"id\":\"1052\"},{\"id\":\"1053\"},{\"id\":\"1054\"},{\"id\":\"1055\"},{\"id\":\"1056\"},{\"id\":\"1057\"},{\"id\":\"1058\"},{\"id\":\"1059\"},{\"id\":\"1060\"}]},\"id\":\"1012\",\"type\":\"DatetimeTicker\"},{\"attributes\":{\"months\":[0,4,8]},\"id\":\"1058\",\"type\":\"MonthsTicker\"},{\"attributes\":{\"days\":[1,4,7,10,13,16,19,22,25,28]},\"id\":\"1053\",\"type\":\"DaysTicker\"},{\"attributes\":{\"days\":[1,15]},\"id\":\"1055\",\"type\":\"DaysTicker\"},{\"attributes\":{\"axis\":{\"id\":\"1011\"},\"ticker\":null},\"id\":\"1014\",\"type\":\"Grid\"},{\"attributes\":{\"base\":24,\"mantissas\":[1,2,4,6,8,12],\"max_interval\":43200000.0,\"min_interval\":3600000.0,\"num_minor_ticks\":0},\"id\":\"1051\",\"type\":\"AdaptiveTicker\"},{\"attributes\":{},\"id\":\"1061\",\"type\":\"Selection\"},{\"attributes\":{\"data_source\":{\"id\":\"1038\"},\"glyph\":{\"id\":\"1039\"},\"hover_glyph\":null,\"muted_glyph\":null,\"nonselection_glyph\":{\"id\":\"1040\"},\"selection_glyph\":null,\"view\":{\"id\":\"1042\"}},\"id\":\"1041\",\"type\":\"GlyphRenderer\"},{\"attributes\":{},\"id\":\"1060\",\"type\":\"YearsTicker\"},{\"attributes\":{},\"id\":\"1016\",\"type\":\"BasicTicker\"},{\"attributes\":{\"months\":[0,6]},\"id\":\"1059\",\"type\":\"MonthsTicker\"}],\"root_ids\":[\"1002\"]},\"title\":\"Bokeh Application\",\"version\":\"2.0.2\"}};\n",
       "  var render_items = [{\"docid\":\"ab44720e-f61f-40d1-b0e3-dfa5b80267dd\",\"root_ids\":[\"1002\"],\"roots\":{\"1002\":\"88c4cbaa-6d59-4a49-9186-efdd51b64c63\"}}];\n",
       "  root.Bokeh.embed.embed_items_notebook(docs_json, render_items);\n",
       "\n",
       "  }\n",
       "  if (root.Bokeh !== undefined) {\n",
       "    embed_document(root);\n",
       "  } else {\n",
       "    var attempts = 0;\n",
       "    var timer = setInterval(function(root) {\n",
       "      if (root.Bokeh !== undefined) {\n",
       "        clearInterval(timer);\n",
       "        embed_document(root);\n",
       "      } else {\n",
       "        attempts++;\n",
       "        if (attempts > 100) {\n",
       "          clearInterval(timer);\n",
       "          console.log(\"Bokeh: ERROR: Unable to run BokehJS code because BokehJS library is missing\");\n",
       "        }\n",
       "      }\n",
       "    }, 10, root)\n",
       "  }\n",
       "})(window);"
      ],
      "application/vnd.bokehjs_exec.v0+json": ""
     },
     "metadata": {
      "application/vnd.bokehjs_exec.v0+json": {
       "id": "1002"
      }
     },
     "output_type": "display_data"
    }
   ],
   "source": [
    "def test_slope(df, state, leng, key, window = None):\n",
    "    #print('p value is {p}'.format(p = p))\n",
    "    df_s = df[df['state'] == state]\n",
    "    df_s = df_s.sort_values(by = ['date'])\n",
    "    if window:\n",
    "        y = df_s['cases'].rolling(window).mean().tolist()[-1 * leng:]\n",
    "    else:\n",
    "        y = df_s['cases'].tolist()[-1 * leng:]\n",
    "\n",
    "    inter, slope, p = get_linear(y)\n",
    "    print('p value is {p}'.format(p = p))\n",
    "    x = df_s['date'].tolist()[-1 * leng:]\n",
    "    y_hat = [x * slope + inter for x in range(leng)]\n",
    "    p = figure(x_axis_type = 'datetime')\n",
    "    p.line(x=x, y = y)\n",
    "    p.line(x = x[-1 * leng:], y = y_hat)\n",
    "    return p\n",
    "show(test_slope(get_data(), 'Colorado', 7, 'cases', window = None))\n",
    "    "
   ]
  },
  {
   "cell_type": "markdown",
   "metadata": {},
   "source": [
    "Metrics:\n",
    "* if the state is way down from its peak\n",
    "* if the state has a low # cases/million\n",
    "* if the state has a longer declining slope (how to measure?)\n",
    "* if the slope is increasing but not significant ? "
   ]
  },
  {
   "cell_type": "code",
   "execution_count": 10,
   "metadata": {},
   "outputs": [],
   "source": [
    "def all_states_info(df, leng):\n",
    "    final = []\n",
    "    for state in set(df['state'].tolist()):\n",
    "        change, p = get_rate(df, state, leng, 'cases')\n",
    "        final.append((state, change))\n",
    "    return final"
   ]
  },
  {
   "cell_type": "code",
   "execution_count": 11,
   "metadata": {},
   "outputs": [],
   "source": [
    "def make_bar(labels_neg, labels_pos, y_neg, y_pos, labels_neutral = None, y_neutral = None, plot_height = 450, \n",
    "             plot_width = 450, title = None):\n",
    "    x_range = []\n",
    "    if labels_neutral:\n",
    "        x_range = labels_neg + labels_neutral + labels_pos\n",
    "    else:\n",
    "        x_range = labels_neg  + labels_pos    \n",
    "    p = figure(x_range = x_range , plot_height = plot_height, \n",
    "               plot_width = plot_width, title = title)\n",
    "    p.vbar(x=labels_neg, top=y_neg , line_width = 5, width = .9, color = 'green')\n",
    "    if labels_neutral:\n",
    "        p.vbar(x=labels_neutral, top=y_neutral , line_width = 5, width = .9, color = 'yellow')\n",
    "    p.vbar(x=labels_pos, top=y_pos , line_width = 5, width = .9, color = 'red')\n",
    "    p.xaxis.major_label_orientation = \"vertical\"\n",
    "    p.xgrid.grid_line_color = None\n",
    "    #p.y_range = Range1d(1, max(y_pos))\n",
    "    return p"
   ]
  },
  {
   "cell_type": "code",
   "execution_count": 12,
   "metadata": {},
   "outputs": [
    {
     "data": {
      "text/html": [
       "\n",
       "\n",
       "\n",
       "\n",
       "\n",
       "\n",
       "  <div class=\"bk-root\" id=\"8437d4b8-31a2-42af-ab20-071149dd25bf\" data-root-id=\"1204\"></div>\n"
      ]
     },
     "metadata": {},
     "output_type": "display_data"
    },
    {
     "data": {
      "application/javascript": [
       "(function(root) {\n",
       "  function embed_document(root) {\n",
       "    \n",
       "  var docs_json = {\"633a9139-d287-4ac5-859c-894395932f80\":{\"roots\":{\"references\":[{\"attributes\":{\"below\":[{\"id\":\"1215\"}],\"center\":[{\"id\":\"1217\"},{\"id\":\"1221\"}],\"left\":[{\"id\":\"1218\"}],\"plot_height\":450,\"plot_width\":800,\"renderers\":[{\"id\":\"1239\"},{\"id\":\"1244\"},{\"id\":\"1249\"}],\"title\":{\"id\":\"1205\"},\"toolbar\":{\"id\":\"1229\"},\"x_range\":{\"id\":\"1207\"},\"x_scale\":{\"id\":\"1211\"},\"y_range\":{\"id\":\"1209\"},\"y_scale\":{\"id\":\"1213\"}},\"id\":\"1204\",\"subtype\":\"Figure\",\"type\":\"Plot\"},{\"attributes\":{\"bottom_units\":\"screen\",\"fill_alpha\":0.5,\"fill_color\":\"lightgrey\",\"left_units\":\"screen\",\"level\":\"overlay\",\"line_alpha\":1.0,\"line_color\":\"black\",\"line_dash\":[4,4],\"line_width\":2,\"render_mode\":\"css\",\"right_units\":\"screen\",\"top_units\":\"screen\"},\"id\":\"1228\",\"type\":\"BoxAnnotation\"},{\"attributes\":{},\"id\":\"1211\",\"type\":\"CategoricalScale\"},{\"attributes\":{},\"id\":\"1283\",\"type\":\"Selection\"},{\"attributes\":{},\"id\":\"1213\",\"type\":\"LinearScale\"},{\"attributes\":{},\"id\":\"1284\",\"type\":\"UnionRenderers\"},{\"attributes\":{\"formatter\":{\"id\":\"1276\"},\"major_label_orientation\":\"vertical\",\"ticker\":{\"id\":\"1216\"}},\"id\":\"1215\",\"type\":\"CategoricalAxis\"},{\"attributes\":{\"active_drag\":\"auto\",\"active_inspect\":\"auto\",\"active_multi\":null,\"active_scroll\":\"auto\",\"active_tap\":\"auto\",\"tools\":[{\"id\":\"1222\"},{\"id\":\"1223\"},{\"id\":\"1224\"},{\"id\":\"1225\"},{\"id\":\"1226\"},{\"id\":\"1227\"}]},\"id\":\"1229\",\"type\":\"Toolbar\"},{\"attributes\":{},\"id\":\"1216\",\"type\":\"CategoricalTicker\"},{\"attributes\":{\"fill_alpha\":{\"value\":0.1},\"fill_color\":{\"value\":\"green\"},\"line_alpha\":{\"value\":0.1},\"line_color\":{\"value\":\"green\"},\"line_width\":{\"value\":5},\"top\":{\"field\":\"top\"},\"width\":{\"value\":0.9},\"x\":{\"field\":\"x\"}},\"id\":\"1238\",\"type\":\"VBar\"},{\"attributes\":{\"data_source\":{\"id\":\"1236\"},\"glyph\":{\"id\":\"1237\"},\"hover_glyph\":null,\"muted_glyph\":null,\"nonselection_glyph\":{\"id\":\"1238\"},\"selection_glyph\":null,\"view\":{\"id\":\"1240\"}},\"id\":\"1239\",\"type\":\"GlyphRenderer\"},{\"attributes\":{\"text\":\"7 -day\"},\"id\":\"1205\",\"type\":\"Title\"},{\"attributes\":{\"axis\":{\"id\":\"1215\"},\"grid_line_color\":null,\"ticker\":null},\"id\":\"1217\",\"type\":\"Grid\"},{\"attributes\":{\"source\":{\"id\":\"1236\"}},\"id\":\"1240\",\"type\":\"CDSView\"},{\"attributes\":{\"formatter\":{\"id\":\"1278\"},\"ticker\":{\"id\":\"1219\"}},\"id\":\"1218\",\"type\":\"LinearAxis\"},{\"attributes\":{\"data\":{\"top\":[1.0004405286343614,1.0462555066079295,1.0558701938012283],\"x\":[\"Montana\",\"Vermont\",\"North Carolina\"]},\"selected\":{\"id\":\"1281\"},\"selection_policy\":{\"id\":\"1282\"}},\"id\":\"1241\",\"type\":\"ColumnDataSource\"},{\"attributes\":{\"factors\":[\"Arizona\",\"Maine\",\"Puerto Rico\",\"South Dakota\",\"Kansas\",\"California\",\"Rhode Island\",\"Illinois\",\"Mississippi\",\"Connecticut\",\"Wyoming\",\"Georgia\",\"Indiana\",\"Virginia\",\"Utah\",\"Massachusetts\",\"New Hampshire\",\"West Virginia\",\"Maryland\",\"Nevada\",\"Louisiana\",\"Delaware\",\"Hawaii\",\"Nebraska\",\"Missouri\",\"Ohio\",\"Idaho\",\"Michigan\",\"Oklahoma\",\"Wisconsin\",\"Alabama\",\"Minnesota\",\"North Dakota\",\"New Jersey\",\"Kentucky\",\"Virgin Islands\",\"New York\",\"Colorado\",\"Tennessee\",\"Iowa\",\"South Carolina\",\"New Mexico\",\"Washington\",\"Arkansas\",\"Alaska\",\"Florida\",\"District of Columbia\",\"Oregon\",\"Pennsylvania\",\"Montana\",\"Vermont\",\"North Carolina\",\"Texas\"]},\"id\":\"1207\",\"type\":\"FactorRange\"},{\"attributes\":{},\"id\":\"1219\",\"type\":\"BasicTicker\"},{\"attributes\":{\"fill_color\":{\"value\":\"yellow\"},\"line_color\":{\"value\":\"yellow\"},\"line_width\":{\"value\":5},\"top\":{\"field\":\"top\"},\"width\":{\"value\":0.9},\"x\":{\"field\":\"x\"}},\"id\":\"1242\",\"type\":\"VBar\"},{\"attributes\":{\"data\":{\"top\":[0.6119889962254493,0.6432803242906142,0.6480836236933798,0.6673139158576051,0.6941521102310947,0.7013370120152485,0.7198519384375609,0.7252478476389251,0.7302659349936683,0.731919727375994,0.7395498392282958,0.7454836357744654,0.7512569462820853,0.7519567987379405,0.7571521456436932,0.7593718160418789,0.7653902084343189,0.769924565431289,0.7707392776523703,0.7733212134984662,0.7748682292250757,0.7764357899926054,0.7779141104294478,0.7806343104276791,0.7864680787366215,0.7933669911578478,0.7969094922737308,0.8024509803921569,0.8092266666666666,0.8137168496114093,0.8218825587977975,0.8241533546325879,0.8246546227417642,0.826906234991666,0.8366318441912962,0.8382352941176471,0.8387761732447542,0.8431212615551931,0.8437165384989779,0.8453664528456394,0.8603402950197168,0.8835379892555641,0.8903481154987857,0.892295719844358,0.9065269943593877,0.9106971793507185,0.9124487004103967,0.9231707317073171,0.9983516639668061],\"x\":[\"Arizona\",\"Maine\",\"Puerto Rico\",\"South Dakota\",\"Kansas\",\"California\",\"Rhode Island\",\"Illinois\",\"Mississippi\",\"Connecticut\",\"Wyoming\",\"Georgia\",\"Indiana\",\"Virginia\",\"Utah\",\"Massachusetts\",\"New Hampshire\",\"West Virginia\",\"Maryland\",\"Nevada\",\"Louisiana\",\"Delaware\",\"Hawaii\",\"Nebraska\",\"Missouri\",\"Ohio\",\"Idaho\",\"Michigan\",\"Oklahoma\",\"Wisconsin\",\"Alabama\",\"Minnesota\",\"North Dakota\",\"New Jersey\",\"Kentucky\",\"Virgin Islands\",\"New York\",\"Colorado\",\"Tennessee\",\"Iowa\",\"South Carolina\",\"New Mexico\",\"Washington\",\"Arkansas\",\"Alaska\",\"Florida\",\"District of Columbia\",\"Oregon\",\"Pennsylvania\"]},\"selected\":{\"id\":\"1279\"},\"selection_policy\":{\"id\":\"1280\"}},\"id\":\"1236\",\"type\":\"ColumnDataSource\"},{\"attributes\":{\"axis\":{\"id\":\"1218\"},\"dimension\":1,\"ticker\":null},\"id\":\"1221\",\"type\":\"Grid\"},{\"attributes\":{},\"id\":\"1282\",\"type\":\"UnionRenderers\"},{\"attributes\":{},\"id\":\"1276\",\"type\":\"CategoricalTickFormatter\"},{\"attributes\":{\"data_source\":{\"id\":\"1241\"},\"glyph\":{\"id\":\"1242\"},\"hover_glyph\":null,\"muted_glyph\":null,\"nonselection_glyph\":{\"id\":\"1243\"},\"selection_glyph\":null,\"view\":{\"id\":\"1245\"}},\"id\":\"1244\",\"type\":\"GlyphRenderer\"},{\"attributes\":{\"fill_alpha\":{\"value\":0.1},\"fill_color\":{\"value\":\"yellow\"},\"line_alpha\":{\"value\":0.1},\"line_color\":{\"value\":\"yellow\"},\"line_width\":{\"value\":5},\"top\":{\"field\":\"top\"},\"width\":{\"value\":0.9},\"x\":{\"field\":\"x\"}},\"id\":\"1243\",\"type\":\"VBar\"},{\"attributes\":{\"source\":{\"id\":\"1241\"}},\"id\":\"1245\",\"type\":\"CDSView\"},{\"attributes\":{\"fill_color\":{\"value\":\"green\"},\"line_color\":{\"value\":\"green\"},\"line_width\":{\"value\":5},\"top\":{\"field\":\"top\"},\"width\":{\"value\":0.9},\"x\":{\"field\":\"x\"}},\"id\":\"1237\",\"type\":\"VBar\"},{\"attributes\":{\"data\":{\"top\":[1.1440719542109565],\"x\":[\"Texas\"]},\"selected\":{\"id\":\"1283\"},\"selection_policy\":{\"id\":\"1284\"}},\"id\":\"1246\",\"type\":\"ColumnDataSource\"},{\"attributes\":{},\"id\":\"1222\",\"type\":\"PanTool\"},{\"attributes\":{\"fill_color\":{\"value\":\"red\"},\"line_color\":{\"value\":\"red\"},\"line_width\":{\"value\":5},\"top\":{\"field\":\"top\"},\"width\":{\"value\":0.9},\"x\":{\"field\":\"x\"}},\"id\":\"1247\",\"type\":\"VBar\"},{\"attributes\":{},\"id\":\"1223\",\"type\":\"WheelZoomTool\"},{\"attributes\":{\"overlay\":{\"id\":\"1228\"}},\"id\":\"1224\",\"type\":\"BoxZoomTool\"},{\"attributes\":{\"data_source\":{\"id\":\"1246\"},\"glyph\":{\"id\":\"1247\"},\"hover_glyph\":null,\"muted_glyph\":null,\"nonselection_glyph\":{\"id\":\"1248\"},\"selection_glyph\":null,\"view\":{\"id\":\"1250\"}},\"id\":\"1249\",\"type\":\"GlyphRenderer\"},{\"attributes\":{},\"id\":\"1279\",\"type\":\"Selection\"},{\"attributes\":{},\"id\":\"1225\",\"type\":\"SaveTool\"},{\"attributes\":{\"fill_alpha\":{\"value\":0.1},\"fill_color\":{\"value\":\"red\"},\"line_alpha\":{\"value\":0.1},\"line_color\":{\"value\":\"red\"},\"line_width\":{\"value\":5},\"top\":{\"field\":\"top\"},\"width\":{\"value\":0.9},\"x\":{\"field\":\"x\"}},\"id\":\"1248\",\"type\":\"VBar\"},{\"attributes\":{\"source\":{\"id\":\"1246\"}},\"id\":\"1250\",\"type\":\"CDSView\"},{\"attributes\":{},\"id\":\"1226\",\"type\":\"ResetTool\"},{\"attributes\":{},\"id\":\"1227\",\"type\":\"HelpTool\"},{\"attributes\":{},\"id\":\"1278\",\"type\":\"BasicTickFormatter\"},{\"attributes\":{},\"id\":\"1281\",\"type\":\"Selection\"},{\"attributes\":{},\"id\":\"1280\",\"type\":\"UnionRenderers\"},{\"attributes\":{},\"id\":\"1209\",\"type\":\"DataRange1d\"}],\"root_ids\":[\"1204\"]},\"title\":\"Bokeh Application\",\"version\":\"2.0.2\"}};\n",
       "  var render_items = [{\"docid\":\"633a9139-d287-4ac5-859c-894395932f80\",\"root_ids\":[\"1204\"],\"roots\":{\"1204\":\"8437d4b8-31a2-42af-ab20-071149dd25bf\"}}];\n",
       "  root.Bokeh.embed.embed_items_notebook(docs_json, render_items);\n",
       "\n",
       "  }\n",
       "  if (root.Bokeh !== undefined) {\n",
       "    embed_document(root);\n",
       "  } else {\n",
       "    var attempts = 0;\n",
       "    var timer = setInterval(function(root) {\n",
       "      if (root.Bokeh !== undefined) {\n",
       "        clearInterval(timer);\n",
       "        embed_document(root);\n",
       "      } else {\n",
       "        attempts++;\n",
       "        if (attempts > 100) {\n",
       "          clearInterval(timer);\n",
       "          console.log(\"Bokeh: ERROR: Unable to run BokehJS code because BokehJS library is missing\");\n",
       "        }\n",
       "      }\n",
       "    }, 10, root)\n",
       "  }\n",
       "})(window);"
      ],
      "application/vnd.bokehjs_exec.v0+json": ""
     },
     "metadata": {
      "application/vnd.bokehjs_exec.v0+json": {
       "id": "1204"
      }
     },
     "output_type": "display_data"
    },
    {
     "data": {
      "text/html": [
       "\n",
       "\n",
       "\n",
       "\n",
       "\n",
       "\n",
       "  <div class=\"bk-root\" id=\"f8ab2567-52bf-4e3e-ba4d-c07564b21731\" data-root-id=\"1358\"></div>\n"
      ]
     },
     "metadata": {},
     "output_type": "display_data"
    },
    {
     "data": {
      "application/javascript": [
       "(function(root) {\n",
       "  function embed_document(root) {\n",
       "    \n",
       "  var docs_json = {\"5504b0e0-3992-4151-812d-6ab872272200\":{\"roots\":{\"references\":[{\"attributes\":{\"below\":[{\"id\":\"1369\"}],\"center\":[{\"id\":\"1371\"},{\"id\":\"1375\"}],\"left\":[{\"id\":\"1372\"}],\"plot_height\":450,\"plot_width\":800,\"renderers\":[{\"id\":\"1393\"},{\"id\":\"1398\"}],\"title\":{\"id\":\"1359\"},\"toolbar\":{\"id\":\"1383\"},\"x_range\":{\"id\":\"1361\"},\"x_scale\":{\"id\":\"1365\"},\"y_range\":{\"id\":\"1363\"},\"y_scale\":{\"id\":\"1367\"}},\"id\":\"1358\",\"subtype\":\"Figure\",\"type\":\"Plot\"},{\"attributes\":{},\"id\":\"1373\",\"type\":\"BasicTicker\"},{\"attributes\":{\"data\":{\"top\":[],\"x\":[]},\"selected\":{\"id\":\"1442\"},\"selection_policy\":{\"id\":\"1443\"}},\"id\":\"1395\",\"type\":\"ColumnDataSource\"},{\"attributes\":{\"axis\":{\"id\":\"1372\"},\"dimension\":1,\"ticker\":null},\"id\":\"1375\",\"type\":\"Grid\"},{\"attributes\":{},\"id\":\"1440\",\"type\":\"Selection\"},{\"attributes\":{\"fill_color\":{\"value\":\"red\"},\"line_color\":{\"value\":\"red\"},\"line_width\":{\"value\":5},\"top\":{\"field\":\"top\"},\"width\":{\"value\":0.9},\"x\":{\"field\":\"x\"}},\"id\":\"1396\",\"type\":\"VBar\"},{\"attributes\":{\"data_source\":{\"id\":\"1395\"},\"glyph\":{\"id\":\"1396\"},\"hover_glyph\":null,\"muted_glyph\":null,\"nonselection_glyph\":{\"id\":\"1397\"},\"selection_glyph\":null,\"view\":{\"id\":\"1399\"}},\"id\":\"1398\",\"type\":\"GlyphRenderer\"},{\"attributes\":{\"data\":{\"top\":[0.47528517110266166,0.5098469119397614,0.5111006140765234,0.5327548379837983,0.559472482881055,0.5684988890103085,0.570077912982579,0.5882621603105732,0.59456269276168,0.6062815479528884,0.6098329741379309,0.6177377677752772,0.6193300107248754,0.6244342707652061,0.6349197011588916,0.63503355704698,0.6358317079966564,0.6427195155518856,0.6437532703001984,0.6454184066816576,0.6504604673516309,0.6509433962264151,0.6516320474777448,0.6568389770861031,0.6574625150067691,0.6591365787256109,0.6594579008073818,0.6693763495490919,0.6867924528301886,0.6872346447778093,0.6908212560386473,0.6953286736220714,0.7040964482762073,0.704603611926388,0.7111898815757673,0.7130833970925785,0.7139293139293139,0.7168088975937325,0.7173999601831575,0.7253960204051193,0.7319859402460457,0.7331288343558281,0.7376071323651506,0.7507079007273333,0.7514612385861176,0.7615792941525841,0.7649381455680999,0.7709338009644893,0.7710477053500101,0.7785401684590179,0.7892771625948385,0.803285776048422,0.8771161069986654],\"x\":[\"Virgin Islands\",\"California\",\"Wyoming\",\"Tennessee\",\"Indiana\",\"Nevada\",\"Idaho\",\"South Dakota\",\"Kansas\",\"Utah\",\"Wisconsin\",\"Nebraska\",\"New Mexico\",\"Missouri\",\"West Virginia\",\"Oregon\",\"Maryland\",\"Washington\",\"Illinois\",\"Ohio\",\"Massachusetts\",\"Hawaii\",\"Minnesota\",\"Arizona\",\"Michigan\",\"Colorado\",\"Connecticut\",\"Maine\",\"Alaska\",\"New Hampshire\",\"Puerto Rico\",\"Oklahoma\",\"Pennsylvania\",\"Georgia\",\"Rhode Island\",\"District of Columbia\",\"North Dakota\",\"Mississippi\",\"Delaware\",\"Arkansas\",\"Kentucky\",\"Montana\",\"Virginia\",\"Iowa\",\"Florida\",\"New York\",\"South Carolina\",\"Louisiana\",\"New Jersey\",\"Alabama\",\"North Carolina\",\"Vermont\",\"Texas\"]},\"selected\":{\"id\":\"1440\"},\"selection_policy\":{\"id\":\"1441\"}},\"id\":\"1390\",\"type\":\"ColumnDataSource\"},{\"attributes\":{},\"id\":\"1439\",\"type\":\"BasicTickFormatter\"},{\"attributes\":{\"fill_alpha\":{\"value\":0.1},\"fill_color\":{\"value\":\"red\"},\"line_alpha\":{\"value\":0.1},\"line_color\":{\"value\":\"red\"},\"line_width\":{\"value\":5},\"top\":{\"field\":\"top\"},\"width\":{\"value\":0.9},\"x\":{\"field\":\"x\"}},\"id\":\"1397\",\"type\":\"VBar\"},{\"attributes\":{\"source\":{\"id\":\"1395\"}},\"id\":\"1399\",\"type\":\"CDSView\"},{\"attributes\":{},\"id\":\"1376\",\"type\":\"PanTool\"},{\"attributes\":{\"text\":\"14 -day\"},\"id\":\"1359\",\"type\":\"Title\"},{\"attributes\":{},\"id\":\"1377\",\"type\":\"WheelZoomTool\"},{\"attributes\":{\"overlay\":{\"id\":\"1382\"}},\"id\":\"1378\",\"type\":\"BoxZoomTool\"},{\"attributes\":{},\"id\":\"1441\",\"type\":\"UnionRenderers\"},{\"attributes\":{},\"id\":\"1379\",\"type\":\"SaveTool\"},{\"attributes\":{},\"id\":\"1380\",\"type\":\"ResetTool\"},{\"attributes\":{},\"id\":\"1437\",\"type\":\"CategoricalTickFormatter\"},{\"attributes\":{},\"id\":\"1381\",\"type\":\"HelpTool\"},{\"attributes\":{\"factors\":[\"Virgin Islands\",\"California\",\"Wyoming\",\"Tennessee\",\"Indiana\",\"Nevada\",\"Idaho\",\"South Dakota\",\"Kansas\",\"Utah\",\"Wisconsin\",\"Nebraska\",\"New Mexico\",\"Missouri\",\"West Virginia\",\"Oregon\",\"Maryland\",\"Washington\",\"Illinois\",\"Ohio\",\"Massachusetts\",\"Hawaii\",\"Minnesota\",\"Arizona\",\"Michigan\",\"Colorado\",\"Connecticut\",\"Maine\",\"Alaska\",\"New Hampshire\",\"Puerto Rico\",\"Oklahoma\",\"Pennsylvania\",\"Georgia\",\"Rhode Island\",\"District of Columbia\",\"North Dakota\",\"Mississippi\",\"Delaware\",\"Arkansas\",\"Kentucky\",\"Montana\",\"Virginia\",\"Iowa\",\"Florida\",\"New York\",\"South Carolina\",\"Louisiana\",\"New Jersey\",\"Alabama\",\"North Carolina\",\"Vermont\",\"Texas\"]},\"id\":\"1361\",\"type\":\"FactorRange\"},{\"attributes\":{\"active_drag\":\"auto\",\"active_inspect\":\"auto\",\"active_multi\":null,\"active_scroll\":\"auto\",\"active_tap\":\"auto\",\"tools\":[{\"id\":\"1376\"},{\"id\":\"1377\"},{\"id\":\"1378\"},{\"id\":\"1379\"},{\"id\":\"1380\"},{\"id\":\"1381\"}]},\"id\":\"1383\",\"type\":\"Toolbar\"},{\"attributes\":{},\"id\":\"1363\",\"type\":\"DataRange1d\"},{\"attributes\":{},\"id\":\"1443\",\"type\":\"UnionRenderers\"},{\"attributes\":{},\"id\":\"1365\",\"type\":\"CategoricalScale\"},{\"attributes\":{},\"id\":\"1442\",\"type\":\"Selection\"},{\"attributes\":{},\"id\":\"1367\",\"type\":\"LinearScale\"},{\"attributes\":{\"formatter\":{\"id\":\"1437\"},\"major_label_orientation\":\"vertical\",\"ticker\":{\"id\":\"1370\"}},\"id\":\"1369\",\"type\":\"CategoricalAxis\"},{\"attributes\":{\"bottom_units\":\"screen\",\"fill_alpha\":0.5,\"fill_color\":\"lightgrey\",\"left_units\":\"screen\",\"level\":\"overlay\",\"line_alpha\":1.0,\"line_color\":\"black\",\"line_dash\":[4,4],\"line_width\":2,\"render_mode\":\"css\",\"right_units\":\"screen\",\"top_units\":\"screen\"},\"id\":\"1382\",\"type\":\"BoxAnnotation\"},{\"attributes\":{},\"id\":\"1370\",\"type\":\"CategoricalTicker\"},{\"attributes\":{\"fill_alpha\":{\"value\":0.1},\"fill_color\":{\"value\":\"green\"},\"line_alpha\":{\"value\":0.1},\"line_color\":{\"value\":\"green\"},\"line_width\":{\"value\":5},\"top\":{\"field\":\"top\"},\"width\":{\"value\":0.9},\"x\":{\"field\":\"x\"}},\"id\":\"1392\",\"type\":\"VBar\"},{\"attributes\":{\"axis\":{\"id\":\"1369\"},\"grid_line_color\":null,\"ticker\":null},\"id\":\"1371\",\"type\":\"Grid\"},{\"attributes\":{\"data_source\":{\"id\":\"1390\"},\"glyph\":{\"id\":\"1391\"},\"hover_glyph\":null,\"muted_glyph\":null,\"nonselection_glyph\":{\"id\":\"1392\"},\"selection_glyph\":null,\"view\":{\"id\":\"1394\"}},\"id\":\"1393\",\"type\":\"GlyphRenderer\"},{\"attributes\":{\"fill_color\":{\"value\":\"green\"},\"line_color\":{\"value\":\"green\"},\"line_width\":{\"value\":5},\"top\":{\"field\":\"top\"},\"width\":{\"value\":0.9},\"x\":{\"field\":\"x\"}},\"id\":\"1391\",\"type\":\"VBar\"},{\"attributes\":{\"formatter\":{\"id\":\"1439\"},\"ticker\":{\"id\":\"1373\"}},\"id\":\"1372\",\"type\":\"LinearAxis\"},{\"attributes\":{\"source\":{\"id\":\"1390\"}},\"id\":\"1394\",\"type\":\"CDSView\"}],\"root_ids\":[\"1358\"]},\"title\":\"Bokeh Application\",\"version\":\"2.0.2\"}};\n",
       "  var render_items = [{\"docid\":\"5504b0e0-3992-4151-812d-6ab872272200\",\"root_ids\":[\"1358\"],\"roots\":{\"1358\":\"f8ab2567-52bf-4e3e-ba4d-c07564b21731\"}}];\n",
       "  root.Bokeh.embed.embed_items_notebook(docs_json, render_items);\n",
       "\n",
       "  }\n",
       "  if (root.Bokeh !== undefined) {\n",
       "    embed_document(root);\n",
       "  } else {\n",
       "    var attempts = 0;\n",
       "    var timer = setInterval(function(root) {\n",
       "      if (root.Bokeh !== undefined) {\n",
       "        clearInterval(timer);\n",
       "        embed_document(root);\n",
       "      } else {\n",
       "        attempts++;\n",
       "        if (attempts > 100) {\n",
       "          clearInterval(timer);\n",
       "          console.log(\"Bokeh: ERROR: Unable to run BokehJS code because BokehJS library is missing\");\n",
       "        }\n",
       "      }\n",
       "    }, 10, root)\n",
       "  }\n",
       "})(window);"
      ],
      "application/vnd.bokehjs_exec.v0+json": ""
     },
     "metadata": {
      "application/vnd.bokehjs_exec.v0+json": {
       "id": "1358"
      }
     },
     "output_type": "display_data"
    },
    {
     "data": {
      "text/html": [
       "\n",
       "\n",
       "\n",
       "\n",
       "\n",
       "\n",
       "  <div class=\"bk-root\" id=\"d5d01104-b8e6-41ee-864b-dd1d952e466a\" data-root-id=\"1505\"></div>\n"
      ]
     },
     "metadata": {},
     "output_type": "display_data"
    },
    {
     "data": {
      "application/javascript": [
       "(function(root) {\n",
       "  function embed_document(root) {\n",
       "    \n",
       "  var docs_json = {\"2f8abeab-6fc1-4c09-9d16-a3c3d4ef84af\":{\"roots\":{\"references\":[{\"attributes\":{\"below\":[{\"id\":\"1516\"}],\"center\":[{\"id\":\"1518\"},{\"id\":\"1522\"}],\"left\":[{\"id\":\"1519\"}],\"plot_height\":450,\"plot_width\":800,\"renderers\":[{\"id\":\"1540\"},{\"id\":\"1545\"},{\"id\":\"1550\"}],\"title\":{\"id\":\"1506\"},\"toolbar\":{\"id\":\"1530\"},\"x_range\":{\"id\":\"1508\"},\"x_scale\":{\"id\":\"1512\"},\"y_range\":{\"id\":\"1510\"},\"y_scale\":{\"id\":\"1514\"}},\"id\":\"1505\",\"subtype\":\"Figure\",\"type\":\"Plot\"},{\"attributes\":{\"formatter\":{\"id\":\"1601\"},\"ticker\":{\"id\":\"1520\"}},\"id\":\"1519\",\"type\":\"LinearAxis\"},{\"attributes\":{\"data\":{\"top\":[1.0134278817139408,1.0250165368219903,1.0381355932203389,1.0401234567901236,1.0751607247223847,1.0925601819344155],\"x\":[\"District of Columbia\",\"Florida\",\"Hawaii\",\"Maine\",\"Kentucky\",\"Georgia\"]},\"selected\":{\"id\":\"1604\"},\"selection_policy\":{\"id\":\"1605\"}},\"id\":\"1542\",\"type\":\"ColumnDataSource\"},{\"attributes\":{},\"id\":\"1520\",\"type\":\"BasicTicker\"},{\"attributes\":{},\"id\":\"1602\",\"type\":\"Selection\"},{\"attributes\":{\"fill_color\":{\"value\":\"yellow\"},\"line_color\":{\"value\":\"yellow\"},\"line_width\":{\"value\":5},\"top\":{\"field\":\"top\"},\"width\":{\"value\":0.9},\"x\":{\"field\":\"x\"}},\"id\":\"1543\",\"type\":\"VBar\"},{\"attributes\":{},\"id\":\"1601\",\"type\":\"BasicTickFormatter\"},{\"attributes\":{\"fill_alpha\":{\"value\":0.1},\"fill_color\":{\"value\":\"green\"},\"line_alpha\":{\"value\":0.1},\"line_color\":{\"value\":\"green\"},\"line_width\":{\"value\":5},\"top\":{\"field\":\"top\"},\"width\":{\"value\":0.9},\"x\":{\"field\":\"x\"}},\"id\":\"1539\",\"type\":\"VBar\"},{\"attributes\":{\"fill_color\":{\"value\":\"green\"},\"line_color\":{\"value\":\"green\"},\"line_width\":{\"value\":5},\"top\":{\"field\":\"top\"},\"width\":{\"value\":0.9},\"x\":{\"field\":\"x\"}},\"id\":\"1538\",\"type\":\"VBar\"},{\"attributes\":{\"data\":{\"top\":[0.5091135348803162,0.5360208062418725,0.5523709605481896,0.566385396934734,0.5738692474817302,0.6049924101872154,0.6383472700442696,0.6540747149259658,0.6717450069548329,0.67546027216093,0.6930928336123562,0.7045848741695847,0.7129290494995169,0.7150305872071527,0.7166814787456286,0.7186550687628016,0.7288135593220338,0.7359960485844503,0.7401032093878128,0.7496728612271827,0.7508691717864457,0.7628620635666197,0.7673956262425448,0.7687625322257233,0.7776378164754753,0.7819540568399352,0.7920138018490939,0.7992504684572141,0.8162451015318846,0.8417113809658289,0.8527526362420306,0.8540625700765309,0.877102258079192,0.8922734795200662,0.9211644890740002,0.9337322194626327,0.943724422724133,0.9745476477683955,0.9769802736563338,0.9809241596444116],\"x\":[\"South Dakota\",\"North Dakota\",\"Tennessee\",\"Minnesota\",\"Alaska\",\"Idaho\",\"Michigan\",\"Indiana\",\"Colorado\",\"Nebraska\",\"New Mexico\",\"Nevada\",\"Wisconsin\",\"Pennsylvania\",\"Missouri\",\"Illinois\",\"Puerto Rico\",\"Ohio\",\"Kansas\",\"California\",\"Iowa\",\"Oregon\",\"West Virginia\",\"Montana\",\"Alabama\",\"Rhode Island\",\"Washington\",\"Wyoming\",\"Utah\",\"New Hampshire\",\"Mississippi\",\"New Jersey\",\"Arkansas\",\"Delaware\",\"Maryland\",\"Oklahoma\",\"Massachusetts\",\"Louisiana\",\"Connecticut\",\"Arizona\"]},\"selected\":{\"id\":\"1602\"},\"selection_policy\":{\"id\":\"1603\"}},\"id\":\"1537\",\"type\":\"ColumnDataSource\"},{\"attributes\":{\"data_source\":{\"id\":\"1542\"},\"glyph\":{\"id\":\"1543\"},\"hover_glyph\":null,\"muted_glyph\":null,\"nonselection_glyph\":{\"id\":\"1544\"},\"selection_glyph\":null,\"view\":{\"id\":\"1546\"}},\"id\":\"1545\",\"type\":\"GlyphRenderer\"},{\"attributes\":{\"fill_alpha\":{\"value\":0.1},\"fill_color\":{\"value\":\"yellow\"},\"line_alpha\":{\"value\":0.1},\"line_color\":{\"value\":\"yellow\"},\"line_width\":{\"value\":5},\"top\":{\"field\":\"top\"},\"width\":{\"value\":0.9},\"x\":{\"field\":\"x\"}},\"id\":\"1544\",\"type\":\"VBar\"},{\"attributes\":{\"source\":{\"id\":\"1542\"}},\"id\":\"1546\",\"type\":\"CDSView\"},{\"attributes\":{},\"id\":\"1599\",\"type\":\"CategoricalTickFormatter\"},{\"attributes\":{},\"id\":\"1523\",\"type\":\"PanTool\"},{\"attributes\":{\"text\":\"28 -day\"},\"id\":\"1506\",\"type\":\"Title\"},{\"attributes\":{\"data\":{\"top\":[1.1246392669905247,1.127906976744186,1.1302722625960568,1.165960805510938,1.2347874233017464,1.2534145067223934,1.4517925513400627],\"x\":[\"Texas\",\"Virgin Islands\",\"North Carolina\",\"New York\",\"Virginia\",\"South Carolina\",\"Vermont\"]},\"selected\":{\"id\":\"1606\"},\"selection_policy\":{\"id\":\"1607\"}},\"id\":\"1547\",\"type\":\"ColumnDataSource\"},{\"attributes\":{},\"id\":\"1524\",\"type\":\"WheelZoomTool\"},{\"attributes\":{\"fill_color\":{\"value\":\"red\"},\"line_color\":{\"value\":\"red\"},\"line_width\":{\"value\":5},\"top\":{\"field\":\"top\"},\"width\":{\"value\":0.9},\"x\":{\"field\":\"x\"}},\"id\":\"1548\",\"type\":\"VBar\"},{\"attributes\":{\"overlay\":{\"id\":\"1529\"}},\"id\":\"1525\",\"type\":\"BoxZoomTool\"},{\"attributes\":{},\"id\":\"1526\",\"type\":\"SaveTool\"},{\"attributes\":{\"data_source\":{\"id\":\"1547\"},\"glyph\":{\"id\":\"1548\"},\"hover_glyph\":null,\"muted_glyph\":null,\"nonselection_glyph\":{\"id\":\"1549\"},\"selection_glyph\":null,\"view\":{\"id\":\"1551\"}},\"id\":\"1550\",\"type\":\"GlyphRenderer\"},{\"attributes\":{},\"id\":\"1527\",\"type\":\"ResetTool\"},{\"attributes\":{\"fill_alpha\":{\"value\":0.1},\"fill_color\":{\"value\":\"red\"},\"line_alpha\":{\"value\":0.1},\"line_color\":{\"value\":\"red\"},\"line_width\":{\"value\":5},\"top\":{\"field\":\"top\"},\"width\":{\"value\":0.9},\"x\":{\"field\":\"x\"}},\"id\":\"1549\",\"type\":\"VBar\"},{\"attributes\":{\"source\":{\"id\":\"1547\"}},\"id\":\"1551\",\"type\":\"CDSView\"},{\"attributes\":{},\"id\":\"1528\",\"type\":\"HelpTool\"},{\"attributes\":{},\"id\":\"1603\",\"type\":\"UnionRenderers\"},{\"attributes\":{\"active_drag\":\"auto\",\"active_inspect\":\"auto\",\"active_multi\":null,\"active_scroll\":\"auto\",\"active_tap\":\"auto\",\"tools\":[{\"id\":\"1523\"},{\"id\":\"1524\"},{\"id\":\"1525\"},{\"id\":\"1526\"},{\"id\":\"1527\"},{\"id\":\"1528\"}]},\"id\":\"1530\",\"type\":\"Toolbar\"},{\"attributes\":{\"factors\":[\"South Dakota\",\"North Dakota\",\"Tennessee\",\"Minnesota\",\"Alaska\",\"Idaho\",\"Michigan\",\"Indiana\",\"Colorado\",\"Nebraska\",\"New Mexico\",\"Nevada\",\"Wisconsin\",\"Pennsylvania\",\"Missouri\",\"Illinois\",\"Puerto Rico\",\"Ohio\",\"Kansas\",\"California\",\"Iowa\",\"Oregon\",\"West Virginia\",\"Montana\",\"Alabama\",\"Rhode Island\",\"Washington\",\"Wyoming\",\"Utah\",\"New Hampshire\",\"Mississippi\",\"New Jersey\",\"Arkansas\",\"Delaware\",\"Maryland\",\"Oklahoma\",\"Massachusetts\",\"Louisiana\",\"Connecticut\",\"Arizona\",\"District of Columbia\",\"Florida\",\"Hawaii\",\"Maine\",\"Kentucky\",\"Georgia\",\"Texas\",\"Virgin Islands\",\"North Carolina\",\"New York\",\"Virginia\",\"South Carolina\",\"Vermont\"]},\"id\":\"1508\",\"type\":\"FactorRange\"},{\"attributes\":{},\"id\":\"1604\",\"type\":\"Selection\"},{\"attributes\":{},\"id\":\"1510\",\"type\":\"DataRange1d\"},{\"attributes\":{},\"id\":\"1605\",\"type\":\"UnionRenderers\"},{\"attributes\":{},\"id\":\"1512\",\"type\":\"CategoricalScale\"},{\"attributes\":{\"axis\":{\"id\":\"1519\"},\"dimension\":1,\"ticker\":null},\"id\":\"1522\",\"type\":\"Grid\"},{\"attributes\":{},\"id\":\"1606\",\"type\":\"Selection\"},{\"attributes\":{},\"id\":\"1514\",\"type\":\"LinearScale\"},{\"attributes\":{},\"id\":\"1607\",\"type\":\"UnionRenderers\"},{\"attributes\":{\"bottom_units\":\"screen\",\"fill_alpha\":0.5,\"fill_color\":\"lightgrey\",\"left_units\":\"screen\",\"level\":\"overlay\",\"line_alpha\":1.0,\"line_color\":\"black\",\"line_dash\":[4,4],\"line_width\":2,\"render_mode\":\"css\",\"right_units\":\"screen\",\"top_units\":\"screen\"},\"id\":\"1529\",\"type\":\"BoxAnnotation\"},{\"attributes\":{\"formatter\":{\"id\":\"1599\"},\"major_label_orientation\":\"vertical\",\"ticker\":{\"id\":\"1517\"}},\"id\":\"1516\",\"type\":\"CategoricalAxis\"},{\"attributes\":{},\"id\":\"1517\",\"type\":\"CategoricalTicker\"},{\"attributes\":{\"data_source\":{\"id\":\"1537\"},\"glyph\":{\"id\":\"1538\"},\"hover_glyph\":null,\"muted_glyph\":null,\"nonselection_glyph\":{\"id\":\"1539\"},\"selection_glyph\":null,\"view\":{\"id\":\"1541\"}},\"id\":\"1540\",\"type\":\"GlyphRenderer\"},{\"attributes\":{\"source\":{\"id\":\"1537\"}},\"id\":\"1541\",\"type\":\"CDSView\"},{\"attributes\":{\"axis\":{\"id\":\"1516\"},\"grid_line_color\":null,\"ticker\":null},\"id\":\"1518\",\"type\":\"Grid\"}],\"root_ids\":[\"1505\"]},\"title\":\"Bokeh Application\",\"version\":\"2.0.2\"}};\n",
       "  var render_items = [{\"docid\":\"2f8abeab-6fc1-4c09-9d16-a3c3d4ef84af\",\"root_ids\":[\"1505\"],\"roots\":{\"1505\":\"d5d01104-b8e6-41ee-864b-dd1d952e466a\"}}];\n",
       "  root.Bokeh.embed.embed_items_notebook(docs_json, render_items);\n",
       "\n",
       "  }\n",
       "  if (root.Bokeh !== undefined) {\n",
       "    embed_document(root);\n",
       "  } else {\n",
       "    var attempts = 0;\n",
       "    var timer = setInterval(function(root) {\n",
       "      if (root.Bokeh !== undefined) {\n",
       "        clearInterval(timer);\n",
       "        embed_document(root);\n",
       "      } else {\n",
       "        attempts++;\n",
       "        if (attempts > 100) {\n",
       "          clearInterval(timer);\n",
       "          console.log(\"Bokeh: ERROR: Unable to run BokehJS code because BokehJS library is missing\");\n",
       "        }\n",
       "      }\n",
       "    }, 10, root)\n",
       "  }\n",
       "})(window);"
      ],
      "application/vnd.bokehjs_exec.v0+json": ""
     },
     "metadata": {
      "application/vnd.bokehjs_exec.v0+json": {
       "id": "1505"
      }
     },
     "output_type": "display_data"
    }
   ],
   "source": [
    "def all_states(leng):\n",
    "    df = get_data()\n",
    "    neutral_n = 1.1\n",
    "    data= sorted(all_states_info(df, leng), key = lambda x: x[1])\n",
    "    neg = list(filter(lambda x: x[1] <=1, data))\n",
    "    neutral = list(filter(lambda x: x[1] > 1 and x[1] <= neutral_n, data))\n",
    "    pos = list(filter(lambda x: x[1] > neutral_n, data))\n",
    "    neg_l = [x[0] for x in neg]\n",
    "    neg_y = [x[1] for x in neg]\n",
    "    assert len(neg_l) == len(neg_y)\n",
    "    p = make_bar(labels_neg = [x[0] for x in neg], \n",
    "                 y_neg = [x[1] for x in neg],\n",
    "                labels_pos = [x[0] for x in pos],\n",
    "                 y_pos = [x[1] for x in pos],\n",
    "                 labels_neutral = [x[0] for x in neutral],\n",
    "                 y_neutral = [x[1] for x in neutral],\n",
    "                 plot_width = 800,\n",
    "                 title = '{l} -day'.format(l = leng)\n",
    "                )\n",
    "    return p\n",
    "show(all_states(7))\n",
    "show(all_states(14))\n",
    "show(all_states(28))\n",
    "\n",
    "\n"
   ]
  },
  {
   "cell_type": "code",
   "execution_count": null,
   "metadata": {},
   "outputs": [],
   "source": []
  },
  {
   "cell_type": "code",
   "execution_count": 13,
   "metadata": {},
   "outputs": [],
   "source": [
    "def make_bar_pop(labels, y, plot_height = 450, \n",
    "             plot_width = 450, title = None, mask_dict = {}):\n",
    "    x_range = labels\n",
    "    p = figure(x_range = x_range , plot_height = plot_height, \n",
    "               plot_width = plot_width, title = title)\n",
    "    for counter, i in enumerate(labels):\n",
    "        if mask_dict.get(i):\n",
    "            color = 'green'\n",
    "            legend_label = 'Masked Mandate'\n",
    "        else:\n",
    "            color = 'blue'\n",
    "            legend_label = 'No Mandate'\n",
    "        p.vbar(x=[i], top=y[counter] , line_width = 5, width = .5, color = color, legend_label = legend_label)\n",
    "    p.xaxis.major_label_orientation = \"vertical\"\n",
    "    p.xgrid.grid_line_color = None\n",
    "    p.yaxis.axis_label = 'Cases/100,000'\n",
    "    p.legend.location = 'top_left'\n",
    "\n",
    "    return p\n",
    "    #p.y_range "
   ]
  },
  {
   "cell_type": "code",
   "execution_count": 14,
   "metadata": {},
   "outputs": [],
   "source": [
    "def get_mask():\n",
    "    final = []\n",
    "    df = pd.read_csv('data/masks_states.csv')\n",
    "    df['date'] = pd.to_datetime(df['date'])\n",
    "    states = df['state']\n",
    "    dates = df['date']\n",
    "    for counter, i in enumerate(states):\n",
    "        final.append((i, dates[counter]))\n",
    "    return final\n",
    "\n"
   ]
  },
  {
   "cell_type": "code",
   "execution_count": 15,
   "metadata": {},
   "outputs": [],
   "source": [
    "def cases_with_pop(back = 7, per = 100000):\n",
    "    df = get_data()\n",
    "    pop = get_pop()\n",
    "    final = []\n",
    "    now = datetime.datetime.now()\n",
    "    states = set(df['state'].tolist())\n",
    "    for i in states:\n",
    "        df_ = df[(df['state'] == i) & (df['date'] >= now - datetime.timedelta(days = back))]\n",
    "        if i in [\"Puerto Rico\", \"Virgin Islands\"]:\n",
    "            continue\n",
    "        cases = np.mean(df_['cases'])/pop[i] * per\n",
    "        final.append((i, cases))\n",
    "    return sorted(final, key = lambda x: x[1])\n"
   ]
  },
  {
   "cell_type": "code",
   "execution_count": 16,
   "metadata": {},
   "outputs": [
    {
     "data": {
      "text/html": [
       "\n",
       "\n",
       "\n",
       "\n",
       "\n",
       "\n",
       "  <div class=\"bk-root\" id=\"165280b3-70df-49fc-b519-eec10f173fe9\" data-root-id=\"1681\"></div>\n"
      ]
     },
     "metadata": {},
     "output_type": "display_data"
    },
    {
     "data": {
      "application/javascript": [
       "(function(root) {\n",
       "  function embed_document(root) {\n",
       "    \n",
       "  var docs_json = {\"fbb33c20-a2d7-41c6-a879-5196c0d8afdc\":{\"roots\":{\"references\":[{\"attributes\":{\"below\":[{\"id\":\"1691\"}],\"center\":[{\"id\":\"1693\"},{\"id\":\"1697\"},{\"id\":\"1723\"}],\"left\":[{\"id\":\"1694\"}],\"plot_height\":450,\"plot_width\":750,\"renderers\":[{\"id\":\"1715\"},{\"id\":\"1728\"},{\"id\":\"1742\"},{\"id\":\"1757\"},{\"id\":\"1774\"},{\"id\":\"1793\"},{\"id\":\"1814\"},{\"id\":\"1837\"},{\"id\":\"1862\"},{\"id\":\"1889\"},{\"id\":\"1918\"},{\"id\":\"1949\"},{\"id\":\"1982\"},{\"id\":\"2017\"},{\"id\":\"2054\"},{\"id\":\"2093\"},{\"id\":\"2134\"},{\"id\":\"2177\"},{\"id\":\"2222\"},{\"id\":\"2269\"},{\"id\":\"2318\"},{\"id\":\"2369\"},{\"id\":\"2422\"},{\"id\":\"2477\"},{\"id\":\"2534\"},{\"id\":\"2593\"},{\"id\":\"2654\"},{\"id\":\"2717\"},{\"id\":\"2782\"},{\"id\":\"2849\"},{\"id\":\"2918\"},{\"id\":\"2989\"},{\"id\":\"3062\"},{\"id\":\"3137\"},{\"id\":\"3214\"},{\"id\":\"3293\"},{\"id\":\"3374\"},{\"id\":\"3457\"},{\"id\":\"3542\"},{\"id\":\"3629\"},{\"id\":\"3718\"},{\"id\":\"3809\"},{\"id\":\"3902\"},{\"id\":\"3997\"},{\"id\":\"4094\"},{\"id\":\"4193\"},{\"id\":\"4294\"},{\"id\":\"4397\"},{\"id\":\"4502\"},{\"id\":\"4609\"},{\"id\":\"4718\"}],\"title\":null,\"toolbar\":{\"id\":\"1705\"},\"x_range\":{\"id\":\"1683\"},\"x_scale\":{\"id\":\"1687\"},\"y_range\":{\"id\":\"1685\"},\"y_scale\":{\"id\":\"1689\"}},\"id\":\"1681\",\"subtype\":\"Figure\",\"type\":\"Plot\"},{\"attributes\":{\"fill_color\":{\"value\":\"green\"},\"line_color\":{\"value\":\"green\"},\"line_width\":{\"value\":5},\"top\":{\"value\":15.169429494690435},\"width\":{\"value\":0.5},\"x\":{\"field\":\"x\"}},\"id\":\"1755\",\"type\":\"VBar\"},{\"attributes\":{},\"id\":\"1752\",\"type\":\"UnionRenderers\"},{\"attributes\":{\"data\":{\"x\":[\"Minnesota\"]},\"selected\":{\"id\":\"1787\"},\"selection_policy\":{\"id\":\"1788\"}},\"id\":\"1754\",\"type\":\"ColumnDataSource\"},{\"attributes\":{\"formatter\":{\"id\":\"1719\"},\"major_label_orientation\":\"vertical\",\"ticker\":{\"id\":\"1692\"}},\"id\":\"1691\",\"type\":\"CategoricalAxis\"},{\"attributes\":{},\"id\":\"1719\",\"type\":\"CategoricalTickFormatter\"},{\"attributes\":{},\"id\":\"1689\",\"type\":\"LinearScale\"},{\"attributes\":{},\"id\":\"1692\",\"type\":\"CategoricalTicker\"},{\"attributes\":{},\"id\":\"1768\",\"type\":\"Selection\"},{\"attributes\":{\"axis\":{\"id\":\"1691\"},\"grid_line_color\":null,\"ticker\":null},\"id\":\"1693\",\"type\":\"Grid\"},{\"attributes\":{\"axis_label\":\"Cases/100,000\",\"formatter\":{\"id\":\"1721\"},\"ticker\":{\"id\":\"1695\"}},\"id\":\"1694\",\"type\":\"LinearAxis\"},{\"attributes\":{},\"id\":\"1695\",\"type\":\"BasicTicker\"},{\"attributes\":{\"axis\":{\"id\":\"1694\"},\"dimension\":1,\"ticker\":null},\"id\":\"1697\",\"type\":\"Grid\"},{\"attributes\":{\"data\":{\"x\":[\"Hawaii\"]},\"selected\":{\"id\":\"1735\"},\"selection_policy\":{\"id\":\"1736\"}},\"id\":\"1712\",\"type\":\"ColumnDataSource\"},{\"attributes\":{},\"id\":\"1769\",\"type\":\"UnionRenderers\"},{\"attributes\":{\"fill_alpha\":{\"value\":0.1},\"fill_color\":{\"value\":\"green\"},\"line_alpha\":{\"value\":0.1},\"line_color\":{\"value\":\"green\"},\"line_width\":{\"value\":5},\"top\":{\"value\":15.169429494690435},\"width\":{\"value\":0.5},\"x\":{\"field\":\"x\"}},\"id\":\"1756\",\"type\":\"VBar\"},{\"attributes\":{},\"id\":\"1698\",\"type\":\"PanTool\"},{\"attributes\":{\"source\":{\"id\":\"1754\"}},\"id\":\"1758\",\"type\":\"CDSView\"},{\"attributes\":{},\"id\":\"1699\",\"type\":\"WheelZoomTool\"},{\"attributes\":{\"data_source\":{\"id\":\"1754\"},\"glyph\":{\"id\":\"1755\"},\"hover_glyph\":null,\"muted_glyph\":null,\"nonselection_glyph\":{\"id\":\"1756\"},\"selection_glyph\":null,\"view\":{\"id\":\"1758\"}},\"id\":\"1757\",\"type\":\"GlyphRenderer\"},{\"attributes\":{\"overlay\":{\"id\":\"1704\"}},\"id\":\"1700\",\"type\":\"BoxZoomTool\"},{\"attributes\":{},\"id\":\"1701\",\"type\":\"SaveTool\"},{\"attributes\":{},\"id\":\"1702\",\"type\":\"ResetTool\"},{\"attributes\":{\"fill_color\":{\"value\":\"blue\"},\"line_color\":{\"value\":\"blue\"},\"line_width\":{\"value\":5},\"top\":{\"value\":13.800276967840762},\"width\":{\"value\":0.5},\"x\":{\"field\":\"x\"}},\"id\":\"1726\",\"type\":\"VBar\"},{\"attributes\":{},\"id\":\"1703\",\"type\":\"HelpTool\"},{\"attributes\":{},\"id\":\"1735\",\"type\":\"Selection\"},{\"attributes\":{\"data\":{\"x\":[\"North Dakota\"]},\"selected\":{\"id\":\"1751\"},\"selection_policy\":{\"id\":\"1752\"}},\"id\":\"1725\",\"type\":\"ColumnDataSource\"},{\"attributes\":{\"data_source\":{\"id\":\"1725\"},\"glyph\":{\"id\":\"1726\"},\"hover_glyph\":null,\"muted_glyph\":null,\"nonselection_glyph\":{\"id\":\"1727\"},\"selection_glyph\":null,\"view\":{\"id\":\"1729\"}},\"id\":\"1728\",\"type\":\"GlyphRenderer\"},{\"attributes\":{\"active_drag\":\"auto\",\"active_inspect\":\"auto\",\"active_multi\":null,\"active_scroll\":\"auto\",\"active_tap\":\"auto\",\"tools\":[{\"id\":\"1698\"},{\"id\":\"1699\"},{\"id\":\"1700\"},{\"id\":\"1701\"},{\"id\":\"1702\"},{\"id\":\"1703\"}]},\"id\":\"1705\",\"type\":\"Toolbar\"},{\"attributes\":{\"fill_alpha\":{\"value\":0.1},\"fill_color\":{\"value\":\"blue\"},\"line_alpha\":{\"value\":0.1},\"line_color\":{\"value\":\"blue\"},\"line_width\":{\"value\":5},\"top\":{\"value\":13.800276967840762},\"width\":{\"value\":0.5},\"x\":{\"field\":\"x\"}},\"id\":\"1727\",\"type\":\"VBar\"},{\"attributes\":{\"source\":{\"id\":\"1725\"}},\"id\":\"1729\",\"type\":\"CDSView\"},{\"attributes\":{\"items\":[{\"id\":\"1724\"},{\"id\":\"1738\"}],\"location\":\"top_left\"},\"id\":\"1723\",\"type\":\"Legend\"},{\"attributes\":{},\"id\":\"1736\",\"type\":\"UnionRenderers\"},{\"attributes\":{\"label\":{\"value\":\"Masked Mandate\"},\"renderers\":[{\"id\":\"1715\"},{\"id\":\"1742\"},{\"id\":\"1757\"},{\"id\":\"1774\"},{\"id\":\"1814\"},{\"id\":\"1889\"},{\"id\":\"1918\"},{\"id\":\"1949\"},{\"id\":\"2054\"},{\"id\":\"2093\"},{\"id\":\"2134\"},{\"id\":\"2318\"},{\"id\":\"2369\"},{\"id\":\"2477\"},{\"id\":\"2534\"},{\"id\":\"2593\"},{\"id\":\"2654\"},{\"id\":\"2782\"},{\"id\":\"2849\"},{\"id\":\"2989\"},{\"id\":\"3062\"},{\"id\":\"3214\"},{\"id\":\"3293\"},{\"id\":\"3374\"},{\"id\":\"3457\"},{\"id\":\"3542\"},{\"id\":\"3718\"},{\"id\":\"3902\"},{\"id\":\"3997\"},{\"id\":\"4094\"},{\"id\":\"4193\"},{\"id\":\"4294\"},{\"id\":\"4502\"},{\"id\":\"4609\"},{\"id\":\"4718\"}]},\"id\":\"1724\",\"type\":\"LegendItem\"},{\"attributes\":{},\"id\":\"1751\",\"type\":\"Selection\"},{\"attributes\":{\"source\":{\"id\":\"1739\"}},\"id\":\"1743\",\"type\":\"CDSView\"},{\"attributes\":{\"fill_alpha\":{\"value\":0.1},\"fill_color\":{\"value\":\"green\"},\"line_alpha\":{\"value\":0.1},\"line_color\":{\"value\":\"green\"},\"line_width\":{\"value\":5},\"top\":{\"value\":6.3565068028748355},\"width\":{\"value\":0.5},\"x\":{\"field\":\"x\"}},\"id\":\"1714\",\"type\":\"VBar\"},{\"attributes\":{\"fill_alpha\":{\"value\":0.1},\"fill_color\":{\"value\":\"green\"},\"line_alpha\":{\"value\":0.1},\"line_color\":{\"value\":\"green\"},\"line_width\":{\"value\":5},\"top\":{\"value\":15.102885741808937},\"width\":{\"value\":0.5},\"x\":{\"field\":\"x\"}},\"id\":\"1741\",\"type\":\"VBar\"},{\"attributes\":{\"data_source\":{\"id\":\"1739\"},\"glyph\":{\"id\":\"1740\"},\"hover_glyph\":null,\"muted_glyph\":null,\"nonselection_glyph\":{\"id\":\"1741\"},\"selection_glyph\":null,\"view\":{\"id\":\"1743\"}},\"id\":\"1742\",\"type\":\"GlyphRenderer\"},{\"attributes\":{\"source\":{\"id\":\"1712\"}},\"id\":\"1716\",\"type\":\"CDSView\"},{\"attributes\":{\"fill_color\":{\"value\":\"green\"},\"line_color\":{\"value\":\"green\"},\"line_width\":{\"value\":5},\"top\":{\"value\":6.3565068028748355},\"width\":{\"value\":0.5},\"x\":{\"field\":\"x\"}},\"id\":\"1713\",\"type\":\"VBar\"},{\"attributes\":{\"data\":{\"x\":[\"Oregon\"]},\"selected\":{\"id\":\"1768\"},\"selection_policy\":{\"id\":\"1769\"}},\"id\":\"1739\",\"type\":\"ColumnDataSource\"},{\"attributes\":{\"fill_color\":{\"value\":\"green\"},\"line_color\":{\"value\":\"green\"},\"line_width\":{\"value\":5},\"top\":{\"value\":15.102885741808937},\"width\":{\"value\":0.5},\"x\":{\"field\":\"x\"}},\"id\":\"1740\",\"type\":\"VBar\"},{\"attributes\":{\"bottom_units\":\"screen\",\"fill_alpha\":0.5,\"fill_color\":\"lightgrey\",\"left_units\":\"screen\",\"level\":\"overlay\",\"line_alpha\":1.0,\"line_color\":\"black\",\"line_dash\":[4,4],\"line_width\":2,\"render_mode\":\"css\",\"right_units\":\"screen\",\"top_units\":\"screen\"},\"id\":\"1704\",\"type\":\"BoxAnnotation\"},{\"attributes\":{\"data_source\":{\"id\":\"1712\"},\"glyph\":{\"id\":\"1713\"},\"hover_glyph\":null,\"muted_glyph\":null,\"nonselection_glyph\":{\"id\":\"1714\"},\"selection_glyph\":null,\"view\":{\"id\":\"1716\"}},\"id\":\"1715\",\"type\":\"GlyphRenderer\"},{\"attributes\":{\"label\":{\"value\":\"No Mandate\"},\"renderers\":[{\"id\":\"1728\"},{\"id\":\"1793\"},{\"id\":\"1837\"},{\"id\":\"1862\"},{\"id\":\"1982\"},{\"id\":\"2017\"},{\"id\":\"2177\"},{\"id\":\"2222\"},{\"id\":\"2269\"},{\"id\":\"2422\"},{\"id\":\"2717\"},{\"id\":\"2918\"},{\"id\":\"3137\"},{\"id\":\"3629\"},{\"id\":\"3809\"},{\"id\":\"4397\"}]},\"id\":\"1738\",\"type\":\"LegendItem\"},{\"attributes\":{},\"id\":\"1721\",\"type\":\"BasicTickFormatter\"},{\"attributes\":{},\"id\":\"2363\",\"type\":\"Selection\"},{\"attributes\":{\"data_source\":{\"id\":\"2315\"},\"glyph\":{\"id\":\"2316\"},\"hover_glyph\":null,\"muted_glyph\":null,\"nonselection_glyph\":{\"id\":\"2317\"},\"selection_glyph\":null,\"view\":{\"id\":\"2319\"}},\"id\":\"2318\",\"type\":\"GlyphRenderer\"},{\"attributes\":{\"fill_alpha\":{\"value\":0.1},\"fill_color\":{\"value\":\"blue\"},\"line_alpha\":{\"value\":0.1},\"line_color\":{\"value\":\"blue\"},\"line_width\":{\"value\":5},\"top\":{\"value\":15.900665303429532},\"width\":{\"value\":0.5},\"x\":{\"field\":\"x\"}},\"id\":\"1792\",\"type\":\"VBar\"},{\"attributes\":{\"fill_color\":{\"value\":\"green\"},\"line_color\":{\"value\":\"green\"},\"line_width\":{\"value\":5},\"top\":{\"value\":53.39997877831126},\"width\":{\"value\":0.5},\"x\":{\"field\":\"x\"}},\"id\":\"4292\",\"type\":\"VBar\"},{\"attributes\":{\"fill_color\":{\"value\":\"blue\"},\"line_color\":{\"value\":\"blue\"},\"line_width\":{\"value\":5},\"top\":{\"value\":20.499290121998996},\"width\":{\"value\":0.5},\"x\":{\"field\":\"x\"}},\"id\":\"1835\",\"type\":\"VBar\"},{\"attributes\":{},\"id\":\"3369\",\"type\":\"UnionRenderers\"},{\"attributes\":{\"data\":{\"x\":[\"Massachusetts\"]},\"selected\":{\"id\":\"3536\"},\"selection_policy\":{\"id\":\"3537\"}},\"id\":\"3371\",\"type\":\"ColumnDataSource\"},{\"attributes\":{},\"id\":\"1809\",\"type\":\"UnionRenderers\"},{\"attributes\":{\"source\":{\"id\":\"2315\"}},\"id\":\"2319\",\"type\":\"CDSView\"},{\"attributes\":{},\"id\":\"1856\",\"type\":\"Selection\"},{\"attributes\":{\"data_source\":{\"id\":\"4291\"},\"glyph\":{\"id\":\"4292\"},\"hover_glyph\":null,\"muted_glyph\":null,\"nonselection_glyph\":{\"id\":\"4293\"},\"selection_glyph\":null,\"view\":{\"id\":\"4295\"}},\"id\":\"4294\",\"type\":\"GlyphRenderer\"},{\"attributes\":{\"fill_color\":{\"value\":\"green\"},\"line_color\":{\"value\":\"green\"},\"line_width\":{\"value\":5},\"top\":{\"value\":41.06635862182432},\"width\":{\"value\":0.5},\"x\":{\"field\":\"x\"}},\"id\":\"3372\",\"type\":\"VBar\"},{\"attributes\":{},\"id\":\"1832\",\"type\":\"UnionRenderers\"},{\"attributes\":{\"fill_alpha\":{\"value\":0.1},\"fill_color\":{\"value\":\"green\"},\"line_alpha\":{\"value\":0.1},\"line_color\":{\"value\":\"green\"},\"line_width\":{\"value\":5},\"top\":{\"value\":53.39997877831126},\"width\":{\"value\":0.5},\"x\":{\"field\":\"x\"}},\"id\":\"4293\",\"type\":\"VBar\"},{\"attributes\":{\"data_source\":{\"id\":\"1790\"},\"glyph\":{\"id\":\"1791\"},\"hover_glyph\":null,\"muted_glyph\":null,\"nonselection_glyph\":{\"id\":\"1792\"},\"selection_glyph\":null,\"view\":{\"id\":\"1794\"}},\"id\":\"1793\",\"type\":\"GlyphRenderer\"},{\"attributes\":{\"source\":{\"id\":\"4291\"}},\"id\":\"4295\",\"type\":\"CDSView\"},{\"attributes\":{},\"id\":\"2364\",\"type\":\"UnionRenderers\"},{\"attributes\":{\"data_source\":{\"id\":\"3371\"},\"glyph\":{\"id\":\"3372\"},\"hover_glyph\":null,\"muted_glyph\":null,\"nonselection_glyph\":{\"id\":\"3373\"},\"selection_glyph\":null,\"view\":{\"id\":\"3375\"}},\"id\":\"3374\",\"type\":\"GlyphRenderer\"},{\"attributes\":{\"data\":{\"x\":[\"Montana\"]},\"selected\":{\"id\":\"2471\"},\"selection_policy\":{\"id\":\"2472\"}},\"id\":\"2366\",\"type\":\"ColumnDataSource\"},{\"attributes\":{},\"id\":\"1787\",\"type\":\"Selection\"},{\"attributes\":{\"data_source\":{\"id\":\"1811\"},\"glyph\":{\"id\":\"1812\"},\"hover_glyph\":null,\"muted_glyph\":null,\"nonselection_glyph\":{\"id\":\"1813\"},\"selection_glyph\":null,\"view\":{\"id\":\"1815\"}},\"id\":\"1814\",\"type\":\"GlyphRenderer\"},{\"attributes\":{\"fill_alpha\":{\"value\":0.1},\"fill_color\":{\"value\":\"green\"},\"line_alpha\":{\"value\":0.1},\"line_color\":{\"value\":\"green\"},\"line_width\":{\"value\":5},\"top\":{\"value\":41.06635862182432},\"width\":{\"value\":0.5},\"x\":{\"field\":\"x\"}},\"id\":\"3373\",\"type\":\"VBar\"},{\"attributes\":{},\"id\":\"4391\",\"type\":\"Selection\"},{\"attributes\":{\"fill_color\":{\"value\":\"green\"},\"line_color\":{\"value\":\"green\"},\"line_width\":{\"value\":5},\"top\":{\"value\":29.192217654180755},\"width\":{\"value\":0.5},\"x\":{\"field\":\"x\"}},\"id\":\"2367\",\"type\":\"VBar\"},{\"attributes\":{\"source\":{\"id\":\"3371\"}},\"id\":\"3375\",\"type\":\"CDSView\"},{\"attributes\":{},\"id\":\"4392\",\"type\":\"UnionRenderers\"},{\"attributes\":{\"data\":{\"x\":[\"Oklahoma\"]},\"selected\":{\"id\":\"4603\"},\"selection_policy\":{\"id\":\"4604\"}},\"id\":\"4394\",\"type\":\"ColumnDataSource\"},{\"attributes\":{},\"id\":\"3451\",\"type\":\"Selection\"},{\"attributes\":{\"data_source\":{\"id\":\"2366\"},\"glyph\":{\"id\":\"2367\"},\"hover_glyph\":null,\"muted_glyph\":null,\"nonselection_glyph\":{\"id\":\"2368\"},\"selection_glyph\":null,\"view\":{\"id\":\"2370\"}},\"id\":\"2369\",\"type\":\"GlyphRenderer\"},{\"attributes\":{\"data\":{\"x\":[\"Washington\"]},\"selected\":{\"id\":\"1856\"},\"selection_policy\":{\"id\":\"1857\"}},\"id\":\"1811\",\"type\":\"ColumnDataSource\"},{\"attributes\":{\"data\":{\"x\":[\"Alaska\"]},\"selected\":{\"id\":\"1912\"},\"selection_policy\":{\"id\":\"1913\"}},\"id\":\"1859\",\"type\":\"ColumnDataSource\"},{\"attributes\":{\"data\":{\"x\":[\"Colorado\"]},\"selected\":{\"id\":\"1883\"},\"selection_policy\":{\"id\":\"1884\"}},\"id\":\"1834\",\"type\":\"ColumnDataSource\"},{\"attributes\":{\"fill_alpha\":{\"value\":0.1},\"fill_color\":{\"value\":\"green\"},\"line_alpha\":{\"value\":0.1},\"line_color\":{\"value\":\"green\"},\"line_width\":{\"value\":5},\"top\":{\"value\":29.192217654180755},\"width\":{\"value\":0.5},\"x\":{\"field\":\"x\"}},\"id\":\"2368\",\"type\":\"VBar\"},{\"attributes\":{\"fill_color\":{\"value\":\"blue\"},\"line_color\":{\"value\":\"blue\"},\"line_width\":{\"value\":5},\"top\":{\"value\":54.136526819798945},\"width\":{\"value\":0.5},\"x\":{\"field\":\"x\"}},\"id\":\"4395\",\"type\":\"VBar\"},{\"attributes\":{},\"id\":\"3452\",\"type\":\"UnionRenderers\"},{\"attributes\":{\"source\":{\"id\":\"2366\"}},\"id\":\"2370\",\"type\":\"CDSView\"},{\"attributes\":{\"data\":{\"x\":[\"Alabama\"]},\"selected\":{\"id\":\"3623\"},\"selection_policy\":{\"id\":\"3624\"}},\"id\":\"3454\",\"type\":\"ColumnDataSource\"},{\"attributes\":{\"data_source\":{\"id\":\"4394\"},\"glyph\":{\"id\":\"4395\"},\"hover_glyph\":null,\"muted_glyph\":null,\"nonselection_glyph\":{\"id\":\"4396\"},\"selection_glyph\":null,\"view\":{\"id\":\"4398\"}},\"id\":\"4397\",\"type\":\"GlyphRenderer\"},{\"attributes\":{\"fill_color\":{\"value\":\"green\"},\"line_color\":{\"value\":\"green\"},\"line_width\":{\"value\":5},\"top\":{\"value\":41.8843398049771},\"width\":{\"value\":0.5},\"x\":{\"field\":\"x\"}},\"id\":\"3455\",\"type\":\"VBar\"},{\"attributes\":{},\"id\":\"2416\",\"type\":\"Selection\"},{\"attributes\":{\"fill_alpha\":{\"value\":0.1},\"fill_color\":{\"value\":\"blue\"},\"line_alpha\":{\"value\":0.1},\"line_color\":{\"value\":\"blue\"},\"line_width\":{\"value\":5},\"top\":{\"value\":54.136526819798945},\"width\":{\"value\":0.5},\"x\":{\"field\":\"x\"}},\"id\":\"4396\",\"type\":\"VBar\"},{\"attributes\":{\"source\":{\"id\":\"4394\"}},\"id\":\"4398\",\"type\":\"CDSView\"},{\"attributes\":{},\"id\":\"2417\",\"type\":\"UnionRenderers\"},{\"attributes\":{\"data_source\":{\"id\":\"1834\"},\"glyph\":{\"id\":\"1835\"},\"hover_glyph\":null,\"muted_glyph\":null,\"nonselection_glyph\":{\"id\":\"1836\"},\"selection_glyph\":null,\"view\":{\"id\":\"1838\"}},\"id\":\"1837\",\"type\":\"GlyphRenderer\"},{\"attributes\":{\"data_source\":{\"id\":\"3454\"},\"glyph\":{\"id\":\"3455\"},\"hover_glyph\":null,\"muted_glyph\":null,\"nonselection_glyph\":{\"id\":\"3456\"},\"selection_glyph\":null,\"view\":{\"id\":\"3458\"}},\"id\":\"3457\",\"type\":\"GlyphRenderer\"},{\"attributes\":{\"data\":{\"x\":[\"New Hampshire\"]},\"selected\":{\"id\":\"2528\"},\"selection_policy\":{\"id\":\"2529\"}},\"id\":\"2419\",\"type\":\"ColumnDataSource\"},{\"attributes\":{\"fill_alpha\":{\"value\":0.1},\"fill_color\":{\"value\":\"green\"},\"line_alpha\":{\"value\":0.1},\"line_color\":{\"value\":\"green\"},\"line_width\":{\"value\":5},\"top\":{\"value\":41.8843398049771},\"width\":{\"value\":0.5},\"x\":{\"field\":\"x\"}},\"id\":\"3456\",\"type\":\"VBar\"},{\"attributes\":{},\"id\":\"4496\",\"type\":\"Selection\"},{\"attributes\":{\"fill_color\":{\"value\":\"blue\"},\"line_color\":{\"value\":\"blue\"},\"line_width\":{\"value\":5},\"top\":{\"value\":30.19023895518974},\"width\":{\"value\":0.5},\"x\":{\"field\":\"x\"}},\"id\":\"2420\",\"type\":\"VBar\"},{\"attributes\":{\"source\":{\"id\":\"3454\"}},\"id\":\"3458\",\"type\":\"CDSView\"},{\"attributes\":{},\"id\":\"4497\",\"type\":\"UnionRenderers\"},{\"attributes\":{},\"id\":\"1883\",\"type\":\"Selection\"},{\"attributes\":{\"data\":{\"x\":[\"North Carolina\"]},\"selected\":{\"id\":\"4712\"},\"selection_policy\":{\"id\":\"4713\"}},\"id\":\"4499\",\"type\":\"ColumnDataSource\"},{\"attributes\":{},\"id\":\"3536\",\"type\":\"Selection\"},{\"attributes\":{\"fill_color\":{\"value\":\"green\"},\"line_color\":{\"value\":\"green\"},\"line_width\":{\"value\":5},\"top\":{\"value\":60.614820908502764},\"width\":{\"value\":0.5},\"x\":{\"field\":\"x\"}},\"id\":\"4500\",\"type\":\"VBar\"},{\"attributes\":{\"data_source\":{\"id\":\"2419\"},\"glyph\":{\"id\":\"2420\"},\"hover_glyph\":null,\"muted_glyph\":null,\"nonselection_glyph\":{\"id\":\"2421\"},\"selection_glyph\":null,\"view\":{\"id\":\"2423\"}},\"id\":\"2422\",\"type\":\"GlyphRenderer\"},{\"attributes\":{},\"id\":\"3537\",\"type\":\"UnionRenderers\"},{\"attributes\":{\"fill_color\":{\"value\":\"green\"},\"line_color\":{\"value\":\"green\"},\"line_width\":{\"value\":5},\"top\":{\"value\":16.327653367333372},\"width\":{\"value\":0.5},\"x\":{\"field\":\"x\"}},\"id\":\"1812\",\"type\":\"VBar\"},{\"attributes\":{\"fill_alpha\":{\"value\":0.1},\"fill_color\":{\"value\":\"blue\"},\"line_alpha\":{\"value\":0.1},\"line_color\":{\"value\":\"blue\"},\"line_width\":{\"value\":5},\"top\":{\"value\":30.19023895518974},\"width\":{\"value\":0.5},\"x\":{\"field\":\"x\"}},\"id\":\"2421\",\"type\":\"VBar\"},{\"attributes\":{\"source\":{\"id\":\"2419\"}},\"id\":\"2423\",\"type\":\"CDSView\"},{\"attributes\":{\"data\":{\"x\":[\"Delaware\"]},\"selected\":{\"id\":\"3712\"},\"selection_policy\":{\"id\":\"3713\"}},\"id\":\"3539\",\"type\":\"ColumnDataSource\"},{\"attributes\":{\"source\":{\"id\":\"1811\"}},\"id\":\"1815\",\"type\":\"CDSView\"},{\"attributes\":{\"data_source\":{\"id\":\"4499\"},\"glyph\":{\"id\":\"4500\"},\"hover_glyph\":null,\"muted_glyph\":null,\"nonselection_glyph\":{\"id\":\"4501\"},\"selection_glyph\":null,\"view\":{\"id\":\"4503\"}},\"id\":\"4502\",\"type\":\"GlyphRenderer\"},{\"attributes\":{\"fill_color\":{\"value\":\"green\"},\"line_color\":{\"value\":\"green\"},\"line_width\":{\"value\":5},\"top\":{\"value\":42.56678209504562},\"width\":{\"value\":0.5},\"x\":{\"field\":\"x\"}},\"id\":\"3540\",\"type\":\"VBar\"},{\"attributes\":{},\"id\":\"2471\",\"type\":\"Selection\"},{\"attributes\":{\"source\":{\"id\":\"1790\"}},\"id\":\"1794\",\"type\":\"CDSView\"},{\"attributes\":{\"fill_alpha\":{\"value\":0.1},\"fill_color\":{\"value\":\"green\"},\"line_alpha\":{\"value\":0.1},\"line_color\":{\"value\":\"green\"},\"line_width\":{\"value\":5},\"top\":{\"value\":60.614820908502764},\"width\":{\"value\":0.5},\"x\":{\"field\":\"x\"}},\"id\":\"4501\",\"type\":\"VBar\"},{\"attributes\":{\"source\":{\"id\":\"4499\"}},\"id\":\"4503\",\"type\":\"CDSView\"},{\"attributes\":{},\"id\":\"2472\",\"type\":\"UnionRenderers\"},{\"attributes\":{},\"id\":\"1808\",\"type\":\"Selection\"},{\"attributes\":{\"data_source\":{\"id\":\"3539\"},\"glyph\":{\"id\":\"3540\"},\"hover_glyph\":null,\"muted_glyph\":null,\"nonselection_glyph\":{\"id\":\"3541\"},\"selection_glyph\":null,\"view\":{\"id\":\"3543\"}},\"id\":\"3542\",\"type\":\"GlyphRenderer\"},{\"attributes\":{\"data\":{\"x\":[\"Nevada\"]},\"selected\":{\"id\":\"2587\"},\"selection_policy\":{\"id\":\"2588\"}},\"id\":\"2474\",\"type\":\"ColumnDataSource\"},{\"attributes\":{},\"id\":\"4603\",\"type\":\"Selection\"},{\"attributes\":{\"fill_alpha\":{\"value\":0.1},\"fill_color\":{\"value\":\"green\"},\"line_alpha\":{\"value\":0.1},\"line_color\":{\"value\":\"green\"},\"line_width\":{\"value\":5},\"top\":{\"value\":42.56678209504562},\"width\":{\"value\":0.5},\"x\":{\"field\":\"x\"}},\"id\":\"3541\",\"type\":\"VBar\"},{\"attributes\":{\"fill_color\":{\"value\":\"green\"},\"line_color\":{\"value\":\"green\"},\"line_width\":{\"value\":5},\"top\":{\"value\":30.8967035002989},\"width\":{\"value\":0.5},\"x\":{\"field\":\"x\"}},\"id\":\"2475\",\"type\":\"VBar\"},{\"attributes\":{\"source\":{\"id\":\"3539\"}},\"id\":\"3543\",\"type\":\"CDSView\"},{\"attributes\":{},\"id\":\"4604\",\"type\":\"UnionRenderers\"},{\"attributes\":{\"data\":{\"x\":[\"South Carolina\"]},\"selected\":{\"id\":\"4823\"},\"selection_policy\":{\"id\":\"4824\"}},\"id\":\"4606\",\"type\":\"ColumnDataSource\"},{\"attributes\":{},\"id\":\"3623\",\"type\":\"Selection\"},{\"attributes\":{\"data_source\":{\"id\":\"2474\"},\"glyph\":{\"id\":\"2475\"},\"hover_glyph\":null,\"muted_glyph\":null,\"nonselection_glyph\":{\"id\":\"2476\"},\"selection_glyph\":null,\"view\":{\"id\":\"2478\"}},\"id\":\"2477\",\"type\":\"GlyphRenderer\"},{\"attributes\":{\"fill_color\":{\"value\":\"blue\"},\"line_color\":{\"value\":\"blue\"},\"line_width\":{\"value\":5},\"top\":{\"value\":15.900665303429532},\"width\":{\"value\":0.5},\"x\":{\"field\":\"x\"}},\"id\":\"1791\",\"type\":\"VBar\"},{\"attributes\":{\"fill_color\":{\"value\":\"green\"},\"line_color\":{\"value\":\"green\"},\"line_width\":{\"value\":5},\"top\":{\"value\":63.52719015531517},\"width\":{\"value\":0.5},\"x\":{\"field\":\"x\"}},\"id\":\"4607\",\"type\":\"VBar\"},{\"attributes\":{\"fill_alpha\":{\"value\":0.1},\"fill_color\":{\"value\":\"blue\"},\"line_alpha\":{\"value\":0.1},\"line_color\":{\"value\":\"blue\"},\"line_width\":{\"value\":5},\"top\":{\"value\":20.499290121998996},\"width\":{\"value\":0.5},\"x\":{\"field\":\"x\"}},\"id\":\"1836\",\"type\":\"VBar\"},{\"attributes\":{\"fill_alpha\":{\"value\":0.1},\"fill_color\":{\"value\":\"green\"},\"line_alpha\":{\"value\":0.1},\"line_color\":{\"value\":\"green\"},\"line_width\":{\"value\":5},\"top\":{\"value\":30.8967035002989},\"width\":{\"value\":0.5},\"x\":{\"field\":\"x\"}},\"id\":\"2476\",\"type\":\"VBar\"},{\"attributes\":{},\"id\":\"3624\",\"type\":\"UnionRenderers\"},{\"attributes\":{\"source\":{\"id\":\"2474\"}},\"id\":\"2478\",\"type\":\"CDSView\"},{\"attributes\":{\"data\":{\"x\":[\"Florida\"]},\"selected\":{\"id\":\"3803\"},\"selection_policy\":{\"id\":\"3804\"}},\"id\":\"3626\",\"type\":\"ColumnDataSource\"},{\"attributes\":{\"data_source\":{\"id\":\"4606\"},\"glyph\":{\"id\":\"4607\"},\"hover_glyph\":null,\"muted_glyph\":null,\"nonselection_glyph\":{\"id\":\"4608\"},\"selection_glyph\":null,\"view\":{\"id\":\"4610\"}},\"id\":\"4609\",\"type\":\"GlyphRenderer\"},{\"attributes\":{\"source\":{\"id\":\"1834\"}},\"id\":\"1838\",\"type\":\"CDSView\"},{\"attributes\":{\"fill_color\":{\"value\":\"blue\"},\"line_color\":{\"value\":\"blue\"},\"line_width\":{\"value\":5},\"top\":{\"value\":44.25124800935344},\"width\":{\"value\":0.5},\"x\":{\"field\":\"x\"}},\"id\":\"3627\",\"type\":\"VBar\"},{\"attributes\":{\"fill_color\":{\"value\":\"blue\"},\"line_color\":{\"value\":\"blue\"},\"line_width\":{\"value\":5},\"top\":{\"value\":21.028553723056454},\"width\":{\"value\":0.5},\"x\":{\"field\":\"x\"}},\"id\":\"1860\",\"type\":\"VBar\"},{\"attributes\":{\"fill_alpha\":{\"value\":0.1},\"fill_color\":{\"value\":\"green\"},\"line_alpha\":{\"value\":0.1},\"line_color\":{\"value\":\"green\"},\"line_width\":{\"value\":5},\"top\":{\"value\":63.52719015531517},\"width\":{\"value\":0.5},\"x\":{\"field\":\"x\"}},\"id\":\"4608\",\"type\":\"VBar\"},{\"attributes\":{},\"id\":\"2528\",\"type\":\"Selection\"},{\"attributes\":{\"source\":{\"id\":\"4606\"}},\"id\":\"4610\",\"type\":\"CDSView\"},{\"attributes\":{},\"id\":\"1831\",\"type\":\"Selection\"},{\"attributes\":{},\"id\":\"1857\",\"type\":\"UnionRenderers\"},{\"attributes\":{},\"id\":\"2529\",\"type\":\"UnionRenderers\"},{\"attributes\":{\"data_source\":{\"id\":\"3626\"},\"glyph\":{\"id\":\"3627\"},\"hover_glyph\":null,\"muted_glyph\":null,\"nonselection_glyph\":{\"id\":\"3628\"},\"selection_glyph\":null,\"view\":{\"id\":\"3630\"}},\"id\":\"3629\",\"type\":\"GlyphRenderer\"},{\"attributes\":{\"fill_alpha\":{\"value\":0.1},\"fill_color\":{\"value\":\"green\"},\"line_alpha\":{\"value\":0.1},\"line_color\":{\"value\":\"green\"},\"line_width\":{\"value\":5},\"top\":{\"value\":16.327653367333372},\"width\":{\"value\":0.5},\"x\":{\"field\":\"x\"}},\"id\":\"1813\",\"type\":\"VBar\"},{\"attributes\":{\"data\":{\"x\":[\"New Mexico\"]},\"selected\":{\"id\":\"2648\"},\"selection_policy\":{\"id\":\"2649\"}},\"id\":\"2531\",\"type\":\"ColumnDataSource\"},{\"attributes\":{\"fill_alpha\":{\"value\":0.1},\"fill_color\":{\"value\":\"blue\"},\"line_alpha\":{\"value\":0.1},\"line_color\":{\"value\":\"blue\"},\"line_width\":{\"value\":5},\"top\":{\"value\":44.25124800935344},\"width\":{\"value\":0.5},\"x\":{\"field\":\"x\"}},\"id\":\"3628\",\"type\":\"VBar\"},{\"attributes\":{},\"id\":\"4712\",\"type\":\"Selection\"},{\"attributes\":{\"fill_alpha\":{\"value\":0.1},\"fill_color\":{\"value\":\"blue\"},\"line_alpha\":{\"value\":0.1},\"line_color\":{\"value\":\"blue\"},\"line_width\":{\"value\":5},\"top\":{\"value\":21.028553723056454},\"width\":{\"value\":0.5},\"x\":{\"field\":\"x\"}},\"id\":\"1861\",\"type\":\"VBar\"},{\"attributes\":{\"fill_color\":{\"value\":\"green\"},\"line_color\":{\"value\":\"green\"},\"line_width\":{\"value\":5},\"top\":{\"value\":31.261490565038923},\"width\":{\"value\":0.5},\"x\":{\"field\":\"x\"}},\"id\":\"2532\",\"type\":\"VBar\"},{\"attributes\":{\"source\":{\"id\":\"3626\"}},\"id\":\"3630\",\"type\":\"CDSView\"},{\"attributes\":{},\"id\":\"4713\",\"type\":\"UnionRenderers\"},{\"attributes\":{\"data\":{\"x\":[\"Texas\"]},\"selected\":{\"id\":\"4988\"},\"selection_policy\":{\"id\":\"4989\"}},\"id\":\"4715\",\"type\":\"ColumnDataSource\"},{\"attributes\":{},\"id\":\"3712\",\"type\":\"Selection\"},{\"attributes\":{\"data_source\":{\"id\":\"2531\"},\"glyph\":{\"id\":\"2532\"},\"hover_glyph\":null,\"muted_glyph\":null,\"nonselection_glyph\":{\"id\":\"2533\"},\"selection_glyph\":null,\"view\":{\"id\":\"2535\"}},\"id\":\"2534\",\"type\":\"GlyphRenderer\"},{\"attributes\":{\"source\":{\"id\":\"1859\"}},\"id\":\"1863\",\"type\":\"CDSView\"},{\"attributes\":{\"fill_color\":{\"value\":\"green\"},\"line_color\":{\"value\":\"green\"},\"line_width\":{\"value\":5},\"top\":{\"value\":69.31904109644631},\"width\":{\"value\":0.5},\"x\":{\"field\":\"x\"}},\"id\":\"4716\",\"type\":\"VBar\"},{\"attributes\":{\"fill_alpha\":{\"value\":0.1},\"fill_color\":{\"value\":\"green\"},\"line_alpha\":{\"value\":0.1},\"line_color\":{\"value\":\"green\"},\"line_width\":{\"value\":5},\"top\":{\"value\":31.261490565038923},\"width\":{\"value\":0.5},\"x\":{\"field\":\"x\"}},\"id\":\"2533\",\"type\":\"VBar\"},{\"attributes\":{},\"id\":\"3713\",\"type\":\"UnionRenderers\"},{\"attributes\":{\"source\":{\"id\":\"2531\"}},\"id\":\"2535\",\"type\":\"CDSView\"},{\"attributes\":{\"data\":{\"x\":[\"New Jersey\"]},\"selected\":{\"id\":\"3896\"},\"selection_policy\":{\"id\":\"3897\"}},\"id\":\"3715\",\"type\":\"ColumnDataSource\"},{\"attributes\":{\"data_source\":{\"id\":\"1859\"},\"glyph\":{\"id\":\"1860\"},\"hover_glyph\":null,\"muted_glyph\":null,\"nonselection_glyph\":{\"id\":\"1861\"},\"selection_glyph\":null,\"view\":{\"id\":\"1863\"}},\"id\":\"1862\",\"type\":\"GlyphRenderer\"},{\"attributes\":{\"data\":{\"x\":[\"South Dakota\"]},\"selected\":{\"id\":\"1831\"},\"selection_policy\":{\"id\":\"1832\"}},\"id\":\"1790\",\"type\":\"ColumnDataSource\"},{\"attributes\":{\"data_source\":{\"id\":\"4715\"},\"glyph\":{\"id\":\"4716\"},\"hover_glyph\":null,\"muted_glyph\":null,\"nonselection_glyph\":{\"id\":\"4717\"},\"selection_glyph\":null,\"view\":{\"id\":\"4719\"}},\"id\":\"4718\",\"type\":\"GlyphRenderer\"},{\"attributes\":{\"fill_color\":{\"value\":\"green\"},\"line_color\":{\"value\":\"green\"},\"line_width\":{\"value\":5},\"top\":{\"value\":46.017179697049194},\"width\":{\"value\":0.5},\"x\":{\"field\":\"x\"}},\"id\":\"3716\",\"type\":\"VBar\"},{\"attributes\":{},\"id\":\"2587\",\"type\":\"Selection\"},{\"attributes\":{\"fill_alpha\":{\"value\":0.1},\"fill_color\":{\"value\":\"green\"},\"line_alpha\":{\"value\":0.1},\"line_color\":{\"value\":\"green\"},\"line_width\":{\"value\":5},\"top\":{\"value\":69.31904109644631},\"width\":{\"value\":0.5},\"x\":{\"field\":\"x\"}},\"id\":\"4717\",\"type\":\"VBar\"},{\"attributes\":{},\"id\":\"1788\",\"type\":\"UnionRenderers\"},{\"attributes\":{\"source\":{\"id\":\"4715\"}},\"id\":\"4719\",\"type\":\"CDSView\"},{\"attributes\":{},\"id\":\"2588\",\"type\":\"UnionRenderers\"},{\"attributes\":{\"data_source\":{\"id\":\"3715\"},\"glyph\":{\"id\":\"3716\"},\"hover_glyph\":null,\"muted_glyph\":null,\"nonselection_glyph\":{\"id\":\"3717\"},\"selection_glyph\":null,\"view\":{\"id\":\"3719\"}},\"id\":\"3718\",\"type\":\"GlyphRenderer\"},{\"attributes\":{\"data\":{\"x\":[\"Ohio\"]},\"selected\":{\"id\":\"2711\"},\"selection_policy\":{\"id\":\"2712\"}},\"id\":\"2590\",\"type\":\"ColumnDataSource\"},{\"attributes\":{},\"id\":\"4823\",\"type\":\"Selection\"},{\"attributes\":{\"fill_alpha\":{\"value\":0.1},\"fill_color\":{\"value\":\"green\"},\"line_alpha\":{\"value\":0.1},\"line_color\":{\"value\":\"green\"},\"line_width\":{\"value\":5},\"top\":{\"value\":46.017179697049194},\"width\":{\"value\":0.5},\"x\":{\"field\":\"x\"}},\"id\":\"3717\",\"type\":\"VBar\"},{\"attributes\":{\"source\":{\"id\":\"3715\"}},\"id\":\"3719\",\"type\":\"CDSView\"},{\"attributes\":{},\"id\":\"4824\",\"type\":\"UnionRenderers\"},{\"attributes\":{\"fill_alpha\":{\"value\":0.1},\"fill_color\":{\"value\":\"green\"},\"line_alpha\":{\"value\":0.1},\"line_color\":{\"value\":\"green\"},\"line_width\":{\"value\":5},\"top\":{\"value\":32.80976864486288},\"width\":{\"value\":0.5},\"x\":{\"field\":\"x\"}},\"id\":\"2592\",\"type\":\"VBar\"},{\"attributes\":{},\"id\":\"3803\",\"type\":\"Selection\"},{\"attributes\":{},\"id\":\"4988\",\"type\":\"Selection\"},{\"attributes\":{\"fill_color\":{\"value\":\"green\"},\"line_color\":{\"value\":\"green\"},\"line_width\":{\"value\":5},\"top\":{\"value\":32.80976864486288},\"width\":{\"value\":0.5},\"x\":{\"field\":\"x\"}},\"id\":\"2591\",\"type\":\"VBar\"},{\"attributes\":{\"data_source\":{\"id\":\"2590\"},\"glyph\":{\"id\":\"2591\"},\"hover_glyph\":null,\"muted_glyph\":null,\"nonselection_glyph\":{\"id\":\"2592\"},\"selection_glyph\":null,\"view\":{\"id\":\"2594\"}},\"id\":\"2593\",\"type\":\"GlyphRenderer\"},{\"attributes\":{},\"id\":\"3804\",\"type\":\"UnionRenderers\"},{\"attributes\":{},\"id\":\"4989\",\"type\":\"UnionRenderers\"},{\"attributes\":{},\"id\":\"1912\",\"type\":\"Selection\"},{\"attributes\":{\"fill_color\":{\"value\":\"green\"},\"line_color\":{\"value\":\"green\"},\"line_width\":{\"value\":5},\"top\":{\"value\":22.057532591585254},\"width\":{\"value\":0.5},\"x\":{\"field\":\"x\"}},\"id\":\"1947\",\"type\":\"VBar\"},{\"attributes\":{},\"id\":\"1913\",\"type\":\"UnionRenderers\"},{\"attributes\":{},\"id\":\"1943\",\"type\":\"Selection\"},{\"attributes\":{\"data\":{\"x\":[\"Maine\"]},\"selected\":{\"id\":\"2011\"},\"selection_policy\":{\"id\":\"2012\"}},\"id\":\"1946\",\"type\":\"ColumnDataSource\"},{\"attributes\":{},\"id\":\"1944\",\"type\":\"UnionRenderers\"},{\"attributes\":{\"data_source\":{\"id\":\"1886\"},\"glyph\":{\"id\":\"1887\"},\"hover_glyph\":null,\"muted_glyph\":null,\"nonselection_glyph\":{\"id\":\"1888\"},\"selection_glyph\":null,\"view\":{\"id\":\"1890\"}},\"id\":\"1889\",\"type\":\"GlyphRenderer\"},{\"attributes\":{\"data\":{\"x\":[\"Nebraska\"]},\"selected\":{\"id\":\"1943\"},\"selection_policy\":{\"id\":\"1944\"}},\"id\":\"1886\",\"type\":\"ColumnDataSource\"},{\"attributes\":{\"source\":{\"id\":\"1915\"}},\"id\":\"1919\",\"type\":\"CDSView\"},{\"attributes\":{\"fill_alpha\":{\"value\":0.1},\"fill_color\":{\"value\":\"green\"},\"line_alpha\":{\"value\":0.1},\"line_color\":{\"value\":\"green\"},\"line_width\":{\"value\":5},\"top\":{\"value\":21.528157280550353},\"width\":{\"value\":0.5},\"x\":{\"field\":\"x\"}},\"id\":\"1917\",\"type\":\"VBar\"},{\"attributes\":{\"data_source\":{\"id\":\"1915\"},\"glyph\":{\"id\":\"1916\"},\"hover_glyph\":null,\"muted_glyph\":null,\"nonselection_glyph\":{\"id\":\"1917\"},\"selection_glyph\":null,\"view\":{\"id\":\"1919\"}},\"id\":\"1918\",\"type\":\"GlyphRenderer\"},{\"attributes\":{\"source\":{\"id\":\"1946\"}},\"id\":\"1950\",\"type\":\"CDSView\"},{\"attributes\":{\"fill_color\":{\"value\":\"green\"},\"line_color\":{\"value\":\"green\"},\"line_width\":{\"value\":5},\"top\":{\"value\":21.528157280550353},\"width\":{\"value\":0.5},\"x\":{\"field\":\"x\"}},\"id\":\"1916\",\"type\":\"VBar\"},{\"attributes\":{\"data\":{\"x\":[\"Vermont\"]},\"selected\":{\"id\":\"1976\"},\"selection_policy\":{\"id\":\"1977\"}},\"id\":\"1915\",\"type\":\"ColumnDataSource\"},{\"attributes\":{\"source\":{\"id\":\"1886\"}},\"id\":\"1890\",\"type\":\"CDSView\"},{\"attributes\":{\"fill_color\":{\"value\":\"green\"},\"line_color\":{\"value\":\"green\"},\"line_width\":{\"value\":5},\"top\":{\"value\":21.51390330616223},\"width\":{\"value\":0.5},\"x\":{\"field\":\"x\"}},\"id\":\"1887\",\"type\":\"VBar\"},{\"attributes\":{\"fill_alpha\":{\"value\":0.1},\"fill_color\":{\"value\":\"green\"},\"line_alpha\":{\"value\":0.1},\"line_color\":{\"value\":\"green\"},\"line_width\":{\"value\":5},\"top\":{\"value\":21.51390330616223},\"width\":{\"value\":0.5},\"x\":{\"field\":\"x\"}},\"id\":\"1888\",\"type\":\"VBar\"},{\"attributes\":{\"fill_alpha\":{\"value\":0.1},\"fill_color\":{\"value\":\"green\"},\"line_alpha\":{\"value\":0.1},\"line_color\":{\"value\":\"green\"},\"line_width\":{\"value\":5},\"top\":{\"value\":22.057532591585254},\"width\":{\"value\":0.5},\"x\":{\"field\":\"x\"}},\"id\":\"1948\",\"type\":\"VBar\"},{\"attributes\":{\"data_source\":{\"id\":\"1946\"},\"glyph\":{\"id\":\"1947\"},\"hover_glyph\":null,\"muted_glyph\":null,\"nonselection_glyph\":{\"id\":\"1948\"},\"selection_glyph\":null,\"view\":{\"id\":\"1950\"}},\"id\":\"1949\",\"type\":\"GlyphRenderer\"},{\"attributes\":{},\"id\":\"1884\",\"type\":\"UnionRenderers\"},{\"attributes\":{\"data\":{\"x\":[\"Idaho\"]},\"selected\":{\"id\":\"2048\"},\"selection_policy\":{\"id\":\"2049\"}},\"id\":\"1979\",\"type\":\"ColumnDataSource\"},{\"attributes\":{\"fill_color\":{\"value\":\"blue\"},\"line_color\":{\"value\":\"blue\"},\"line_width\":{\"value\":5},\"top\":{\"value\":22.327111772655165},\"width\":{\"value\":0.5},\"x\":{\"field\":\"x\"}},\"id\":\"1980\",\"type\":\"VBar\"},{\"attributes\":{},\"id\":\"1977\",\"type\":\"UnionRenderers\"},{\"attributes\":{},\"id\":\"1976\",\"type\":\"Selection\"},{\"attributes\":{\"source\":{\"id\":\"2590\"}},\"id\":\"2594\",\"type\":\"CDSView\"},{\"attributes\":{\"data\":{\"x\":[\"Georgia\"]},\"selected\":{\"id\":\"3991\"},\"selection_policy\":{\"id\":\"3992\"}},\"id\":\"3806\",\"type\":\"ColumnDataSource\"},{\"attributes\":{},\"id\":\"2648\",\"type\":\"Selection\"},{\"attributes\":{\"fill_color\":{\"value\":\"blue\"},\"line_color\":{\"value\":\"blue\"},\"line_width\":{\"value\":5},\"top\":{\"value\":46.266719648763484},\"width\":{\"value\":0.5},\"x\":{\"field\":\"x\"}},\"id\":\"3807\",\"type\":\"VBar\"},{\"attributes\":{},\"id\":\"2649\",\"type\":\"UnionRenderers\"},{\"attributes\":{\"data_source\":{\"id\":\"3806\"},\"glyph\":{\"id\":\"3807\"},\"hover_glyph\":null,\"muted_glyph\":null,\"nonselection_glyph\":{\"id\":\"3808\"},\"selection_glyph\":null,\"view\":{\"id\":\"3810\"}},\"id\":\"3809\",\"type\":\"GlyphRenderer\"},{\"attributes\":{\"data\":{\"x\":[\"Kansas\"]},\"selected\":{\"id\":\"2776\"},\"selection_policy\":{\"id\":\"2777\"}},\"id\":\"2651\",\"type\":\"ColumnDataSource\"},{\"attributes\":{\"fill_alpha\":{\"value\":0.1},\"fill_color\":{\"value\":\"blue\"},\"line_alpha\":{\"value\":0.1},\"line_color\":{\"value\":\"blue\"},\"line_width\":{\"value\":5},\"top\":{\"value\":46.266719648763484},\"width\":{\"value\":0.5},\"x\":{\"field\":\"x\"}},\"id\":\"3808\",\"type\":\"VBar\"},{\"attributes\":{\"fill_color\":{\"value\":\"green\"},\"line_color\":{\"value\":\"green\"},\"line_width\":{\"value\":5},\"top\":{\"value\":35.932732734381986},\"width\":{\"value\":0.5},\"x\":{\"field\":\"x\"}},\"id\":\"2652\",\"type\":\"VBar\"},{\"attributes\":{\"source\":{\"id\":\"3806\"}},\"id\":\"3810\",\"type\":\"CDSView\"},{\"attributes\":{},\"id\":\"3896\",\"type\":\"Selection\"},{\"attributes\":{\"data_source\":{\"id\":\"2651\"},\"glyph\":{\"id\":\"2652\"},\"hover_glyph\":null,\"muted_glyph\":null,\"nonselection_glyph\":{\"id\":\"2653\"},\"selection_glyph\":null,\"view\":{\"id\":\"2655\"}},\"id\":\"2654\",\"type\":\"GlyphRenderer\"},{\"attributes\":{},\"id\":\"3897\",\"type\":\"UnionRenderers\"},{\"attributes\":{\"fill_alpha\":{\"value\":0.1},\"fill_color\":{\"value\":\"green\"},\"line_alpha\":{\"value\":0.1},\"line_color\":{\"value\":\"green\"},\"line_width\":{\"value\":5},\"top\":{\"value\":35.932732734381986},\"width\":{\"value\":0.5},\"x\":{\"field\":\"x\"}},\"id\":\"2653\",\"type\":\"VBar\"},{\"attributes\":{\"source\":{\"id\":\"2651\"}},\"id\":\"2655\",\"type\":\"CDSView\"},{\"attributes\":{\"data\":{\"x\":[\"Rhode Island\"]},\"selected\":{\"id\":\"4088\"},\"selection_policy\":{\"id\":\"4089\"}},\"id\":\"3899\",\"type\":\"ColumnDataSource\"},{\"attributes\":{},\"id\":\"2711\",\"type\":\"Selection\"},{\"attributes\":{\"fill_color\":{\"value\":\"green\"},\"line_color\":{\"value\":\"green\"},\"line_width\":{\"value\":5},\"top\":{\"value\":46.41162612807784},\"width\":{\"value\":0.5},\"x\":{\"field\":\"x\"}},\"id\":\"3900\",\"type\":\"VBar\"},{\"attributes\":{},\"id\":\"2712\",\"type\":\"UnionRenderers\"},{\"attributes\":{\"data_source\":{\"id\":\"3899\"},\"glyph\":{\"id\":\"3900\"},\"hover_glyph\":null,\"muted_glyph\":null,\"nonselection_glyph\":{\"id\":\"3901\"},\"selection_glyph\":null,\"view\":{\"id\":\"3903\"}},\"id\":\"3902\",\"type\":\"GlyphRenderer\"},{\"attributes\":{\"data\":{\"x\":[\"Tennessee\"]},\"selected\":{\"id\":\"2843\"},\"selection_policy\":{\"id\":\"2844\"}},\"id\":\"2714\",\"type\":\"ColumnDataSource\"},{\"attributes\":{\"fill_alpha\":{\"value\":0.1},\"fill_color\":{\"value\":\"green\"},\"line_alpha\":{\"value\":0.1},\"line_color\":{\"value\":\"green\"},\"line_width\":{\"value\":5},\"top\":{\"value\":46.41162612807784},\"width\":{\"value\":0.5},\"x\":{\"field\":\"x\"}},\"id\":\"3901\",\"type\":\"VBar\"},{\"attributes\":{\"fill_color\":{\"value\":\"blue\"},\"line_color\":{\"value\":\"blue\"},\"line_width\":{\"value\":5},\"top\":{\"value\":36.28550099909594},\"width\":{\"value\":0.5},\"x\":{\"field\":\"x\"}},\"id\":\"2715\",\"type\":\"VBar\"},{\"attributes\":{\"source\":{\"id\":\"3899\"}},\"id\":\"3903\",\"type\":\"CDSView\"},{\"attributes\":{},\"id\":\"3991\",\"type\":\"Selection\"},{\"attributes\":{\"data_source\":{\"id\":\"2714\"},\"glyph\":{\"id\":\"2715\"},\"hover_glyph\":null,\"muted_glyph\":null,\"nonselection_glyph\":{\"id\":\"2716\"},\"selection_glyph\":null,\"view\":{\"id\":\"2718\"}},\"id\":\"2717\",\"type\":\"GlyphRenderer\"},{\"attributes\":{},\"id\":\"3992\",\"type\":\"UnionRenderers\"},{\"attributes\":{\"fill_alpha\":{\"value\":0.1},\"fill_color\":{\"value\":\"blue\"},\"line_alpha\":{\"value\":0.1},\"line_color\":{\"value\":\"blue\"},\"line_width\":{\"value\":5},\"top\":{\"value\":36.28550099909594},\"width\":{\"value\":0.5},\"x\":{\"field\":\"x\"}},\"id\":\"2716\",\"type\":\"VBar\"},{\"attributes\":{\"source\":{\"id\":\"2714\"}},\"id\":\"2718\",\"type\":\"CDSView\"},{\"attributes\":{\"data\":{\"x\":[\"Kentucky\"]},\"selected\":{\"id\":\"4187\"},\"selection_policy\":{\"id\":\"4188\"}},\"id\":\"3994\",\"type\":\"ColumnDataSource\"},{\"attributes\":{\"fill_color\":{\"value\":\"green\"},\"line_color\":{\"value\":\"green\"},\"line_width\":{\"value\":5},\"top\":{\"value\":47.73551391667802},\"width\":{\"value\":0.5},\"x\":{\"field\":\"x\"}},\"id\":\"3995\",\"type\":\"VBar\"},{\"attributes\":{},\"id\":\"2776\",\"type\":\"Selection\"},{\"attributes\":{},\"id\":\"2777\",\"type\":\"UnionRenderers\"},{\"attributes\":{\"data_source\":{\"id\":\"3994\"},\"glyph\":{\"id\":\"3995\"},\"hover_glyph\":null,\"muted_glyph\":null,\"nonselection_glyph\":{\"id\":\"3996\"},\"selection_glyph\":null,\"view\":{\"id\":\"3998\"}},\"id\":\"3997\",\"type\":\"GlyphRenderer\"},{\"attributes\":{\"data\":{\"x\":[\"West Virginia\"]},\"selected\":{\"id\":\"2912\"},\"selection_policy\":{\"id\":\"2913\"}},\"id\":\"2779\",\"type\":\"ColumnDataSource\"},{\"attributes\":{\"fill_alpha\":{\"value\":0.1},\"fill_color\":{\"value\":\"green\"},\"line_alpha\":{\"value\":0.1},\"line_color\":{\"value\":\"green\"},\"line_width\":{\"value\":5},\"top\":{\"value\":47.73551391667802},\"width\":{\"value\":0.5},\"x\":{\"field\":\"x\"}},\"id\":\"3996\",\"type\":\"VBar\"},{\"attributes\":{\"fill_color\":{\"value\":\"green\"},\"line_color\":{\"value\":\"green\"},\"line_width\":{\"value\":5},\"top\":{\"value\":36.34374486765502},\"width\":{\"value\":0.5},\"x\":{\"field\":\"x\"}},\"id\":\"2780\",\"type\":\"VBar\"},{\"attributes\":{\"source\":{\"id\":\"3994\"}},\"id\":\"3998\",\"type\":\"CDSView\"},{\"attributes\":{},\"id\":\"4088\",\"type\":\"Selection\"},{\"attributes\":{\"data_source\":{\"id\":\"2779\"},\"glyph\":{\"id\":\"2780\"},\"hover_glyph\":null,\"muted_glyph\":null,\"nonselection_glyph\":{\"id\":\"2781\"},\"selection_glyph\":null,\"view\":{\"id\":\"2783\"}},\"id\":\"2782\",\"type\":\"GlyphRenderer\"},{\"attributes\":{},\"id\":\"4089\",\"type\":\"UnionRenderers\"},{\"attributes\":{\"fill_alpha\":{\"value\":0.1},\"fill_color\":{\"value\":\"green\"},\"line_alpha\":{\"value\":0.1},\"line_color\":{\"value\":\"green\"},\"line_width\":{\"value\":5},\"top\":{\"value\":36.34374486765502},\"width\":{\"value\":0.5},\"x\":{\"field\":\"x\"}},\"id\":\"2781\",\"type\":\"VBar\"},{\"attributes\":{\"source\":{\"id\":\"2779\"}},\"id\":\"2783\",\"type\":\"CDSView\"},{\"attributes\":{\"data\":{\"x\":[\"New York\"]},\"selected\":{\"id\":\"4288\"},\"selection_policy\":{\"id\":\"4289\"}},\"id\":\"4091\",\"type\":\"ColumnDataSource\"},{\"attributes\":{},\"id\":\"2843\",\"type\":\"Selection\"},{\"attributes\":{\"fill_color\":{\"value\":\"green\"},\"line_color\":{\"value\":\"green\"},\"line_width\":{\"value\":5},\"top\":{\"value\":52.33574802405928},\"width\":{\"value\":0.5},\"x\":{\"field\":\"x\"}},\"id\":\"4092\",\"type\":\"VBar\"},{\"attributes\":{},\"id\":\"2844\",\"type\":\"UnionRenderers\"},{\"attributes\":{\"data_source\":{\"id\":\"4091\"},\"glyph\":{\"id\":\"4092\"},\"hover_glyph\":null,\"muted_glyph\":null,\"nonselection_glyph\":{\"id\":\"4093\"},\"selection_glyph\":null,\"view\":{\"id\":\"4095\"}},\"id\":\"4094\",\"type\":\"GlyphRenderer\"},{\"attributes\":{\"data\":{\"x\":[\"Pennsylvania\"]},\"selected\":{\"id\":\"2983\"},\"selection_policy\":{\"id\":\"2984\"}},\"id\":\"2846\",\"type\":\"ColumnDataSource\"},{\"attributes\":{\"fill_alpha\":{\"value\":0.1},\"fill_color\":{\"value\":\"green\"},\"line_alpha\":{\"value\":0.1},\"line_color\":{\"value\":\"green\"},\"line_width\":{\"value\":5},\"top\":{\"value\":52.33574802405928},\"width\":{\"value\":0.5},\"x\":{\"field\":\"x\"}},\"id\":\"4093\",\"type\":\"VBar\"},{\"attributes\":{\"fill_color\":{\"value\":\"green\"},\"line_color\":{\"value\":\"green\"},\"line_width\":{\"value\":5},\"top\":{\"value\":37.81964401521253},\"width\":{\"value\":0.5},\"x\":{\"field\":\"x\"}},\"id\":\"2847\",\"type\":\"VBar\"},{\"attributes\":{\"source\":{\"id\":\"4091\"}},\"id\":\"4095\",\"type\":\"CDSView\"},{\"attributes\":{},\"id\":\"4187\",\"type\":\"Selection\"},{\"attributes\":{\"data_source\":{\"id\":\"2846\"},\"glyph\":{\"id\":\"2847\"},\"hover_glyph\":null,\"muted_glyph\":null,\"nonselection_glyph\":{\"id\":\"2848\"},\"selection_glyph\":null,\"view\":{\"id\":\"2850\"}},\"id\":\"2849\",\"type\":\"GlyphRenderer\"},{\"attributes\":{},\"id\":\"4188\",\"type\":\"UnionRenderers\"},{\"attributes\":{\"fill_alpha\":{\"value\":0.1},\"fill_color\":{\"value\":\"green\"},\"line_alpha\":{\"value\":0.1},\"line_color\":{\"value\":\"green\"},\"line_width\":{\"value\":5},\"top\":{\"value\":37.81964401521253},\"width\":{\"value\":0.5},\"x\":{\"field\":\"x\"}},\"id\":\"2848\",\"type\":\"VBar\"},{\"attributes\":{\"source\":{\"id\":\"2846\"}},\"id\":\"2850\",\"type\":\"CDSView\"},{\"attributes\":{\"data\":{\"x\":[\"Arkansas\"]},\"selected\":{\"id\":\"4391\"},\"selection_policy\":{\"id\":\"4392\"}},\"id\":\"4190\",\"type\":\"ColumnDataSource\"},{\"attributes\":{},\"id\":\"2912\",\"type\":\"Selection\"},{\"attributes\":{\"fill_color\":{\"value\":\"green\"},\"line_color\":{\"value\":\"green\"},\"line_width\":{\"value\":5},\"top\":{\"value\":52.875092837926736},\"width\":{\"value\":0.5},\"x\":{\"field\":\"x\"}},\"id\":\"4191\",\"type\":\"VBar\"},{\"attributes\":{},\"id\":\"2913\",\"type\":\"UnionRenderers\"},{\"attributes\":{\"data_source\":{\"id\":\"4190\"},\"glyph\":{\"id\":\"4191\"},\"hover_glyph\":null,\"muted_glyph\":null,\"nonselection_glyph\":{\"id\":\"4192\"},\"selection_glyph\":null,\"view\":{\"id\":\"4194\"}},\"id\":\"4193\",\"type\":\"GlyphRenderer\"},{\"attributes\":{\"data\":{\"x\":[\"Mississippi\"]},\"selected\":{\"id\":\"3056\"},\"selection_policy\":{\"id\":\"3057\"}},\"id\":\"2915\",\"type\":\"ColumnDataSource\"},{\"attributes\":{\"fill_alpha\":{\"value\":0.1},\"fill_color\":{\"value\":\"green\"},\"line_alpha\":{\"value\":0.1},\"line_color\":{\"value\":\"green\"},\"line_width\":{\"value\":5},\"top\":{\"value\":52.875092837926736},\"width\":{\"value\":0.5},\"x\":{\"field\":\"x\"}},\"id\":\"4192\",\"type\":\"VBar\"},{\"attributes\":{\"fill_color\":{\"value\":\"blue\"},\"line_color\":{\"value\":\"blue\"},\"line_width\":{\"value\":5},\"top\":{\"value\":38.33813428023933},\"width\":{\"value\":0.5},\"x\":{\"field\":\"x\"}},\"id\":\"2916\",\"type\":\"VBar\"},{\"attributes\":{\"source\":{\"id\":\"4190\"}},\"id\":\"4194\",\"type\":\"CDSView\"},{\"attributes\":{\"fill_alpha\":{\"value\":0.1},\"fill_color\":{\"value\":\"blue\"},\"line_alpha\":{\"value\":0.1},\"line_color\":{\"value\":\"blue\"},\"line_width\":{\"value\":5},\"top\":{\"value\":38.33813428023933},\"width\":{\"value\":0.5},\"x\":{\"field\":\"x\"}},\"id\":\"2917\",\"type\":\"VBar\"},{\"attributes\":{},\"id\":\"4288\",\"type\":\"Selection\"},{\"attributes\":{\"data_source\":{\"id\":\"2915\"},\"glyph\":{\"id\":\"2916\"},\"hover_glyph\":null,\"muted_glyph\":null,\"nonselection_glyph\":{\"id\":\"2917\"},\"selection_glyph\":null,\"view\":{\"id\":\"2919\"}},\"id\":\"2918\",\"type\":\"GlyphRenderer\"},{\"attributes\":{},\"id\":\"4289\",\"type\":\"UnionRenderers\"},{\"attributes\":{\"source\":{\"id\":\"2915\"}},\"id\":\"2919\",\"type\":\"CDSView\"},{\"attributes\":{\"data\":{\"x\":[\"Arizona\"]},\"selected\":{\"id\":\"4496\"},\"selection_policy\":{\"id\":\"4497\"}},\"id\":\"4291\",\"type\":\"ColumnDataSource\"},{\"attributes\":{\"factors\":[\"Hawaii\",\"North Dakota\",\"Oregon\",\"Minnesota\",\"Michigan\",\"South Dakota\",\"Washington\",\"Colorado\",\"Alaska\",\"Nebraska\",\"Vermont\",\"Maine\",\"Idaho\",\"Missouri\",\"Wisconsin\",\"Illinois\",\"Maryland\",\"Wyoming\",\"District of Columbia\",\"Iowa\",\"Indiana\",\"Montana\",\"New Hampshire\",\"Nevada\",\"New Mexico\",\"Ohio\",\"Kansas\",\"Tennessee\",\"West Virginia\",\"Pennsylvania\",\"Mississippi\",\"Virginia\",\"Connecticut\",\"Utah\",\"California\",\"Louisiana\",\"Massachusetts\",\"Alabama\",\"Delaware\",\"Florida\",\"New Jersey\",\"Georgia\",\"Rhode Island\",\"Kentucky\",\"New York\",\"Arkansas\",\"Arizona\",\"Oklahoma\",\"North Carolina\",\"South Carolina\",\"Texas\"]},\"id\":\"1683\",\"type\":\"FactorRange\"},{\"attributes\":{},\"id\":\"1687\",\"type\":\"CategoricalScale\"},{\"attributes\":{},\"id\":\"1685\",\"type\":\"DataRange1d\"},{\"attributes\":{},\"id\":\"2983\",\"type\":\"Selection\"},{\"attributes\":{},\"id\":\"2984\",\"type\":\"UnionRenderers\"},{\"attributes\":{\"data\":{\"x\":[\"Virginia\"]},\"selected\":{\"id\":\"3131\"},\"selection_policy\":{\"id\":\"3132\"}},\"id\":\"2986\",\"type\":\"ColumnDataSource\"},{\"attributes\":{\"fill_color\":{\"value\":\"green\"},\"line_color\":{\"value\":\"green\"},\"line_width\":{\"value\":5},\"top\":{\"value\":38.39836804299774},\"width\":{\"value\":0.5},\"x\":{\"field\":\"x\"}},\"id\":\"2987\",\"type\":\"VBar\"},{\"attributes\":{\"data_source\":{\"id\":\"2986\"},\"glyph\":{\"id\":\"2987\"},\"hover_glyph\":null,\"muted_glyph\":null,\"nonselection_glyph\":{\"id\":\"2988\"},\"selection_glyph\":null,\"view\":{\"id\":\"2990\"}},\"id\":\"2989\",\"type\":\"GlyphRenderer\"},{\"attributes\":{\"fill_alpha\":{\"value\":0.1},\"fill_color\":{\"value\":\"green\"},\"line_alpha\":{\"value\":0.1},\"line_color\":{\"value\":\"green\"},\"line_width\":{\"value\":5},\"top\":{\"value\":38.39836804299774},\"width\":{\"value\":0.5},\"x\":{\"field\":\"x\"}},\"id\":\"2988\",\"type\":\"VBar\"},{\"attributes\":{\"source\":{\"id\":\"2986\"}},\"id\":\"2990\",\"type\":\"CDSView\"},{\"attributes\":{},\"id\":\"3056\",\"type\":\"Selection\"},{\"attributes\":{},\"id\":\"3057\",\"type\":\"UnionRenderers\"},{\"attributes\":{\"data\":{\"x\":[\"Connecticut\"]},\"selected\":{\"id\":\"3208\"},\"selection_policy\":{\"id\":\"3209\"}},\"id\":\"3059\",\"type\":\"ColumnDataSource\"},{\"attributes\":{\"source\":{\"id\":\"1771\"}},\"id\":\"1775\",\"type\":\"CDSView\"},{\"attributes\":{\"fill_color\":{\"value\":\"green\"},\"line_color\":{\"value\":\"green\"},\"line_width\":{\"value\":5},\"top\":{\"value\":38.51489842659698},\"width\":{\"value\":0.5},\"x\":{\"field\":\"x\"}},\"id\":\"3060\",\"type\":\"VBar\"},{\"attributes\":{\"data_source\":{\"id\":\"3059\"},\"glyph\":{\"id\":\"3060\"},\"hover_glyph\":null,\"muted_glyph\":null,\"nonselection_glyph\":{\"id\":\"3061\"},\"selection_glyph\":null,\"view\":{\"id\":\"3063\"}},\"id\":\"3062\",\"type\":\"GlyphRenderer\"},{\"attributes\":{\"fill_alpha\":{\"value\":0.1},\"fill_color\":{\"value\":\"green\"},\"line_alpha\":{\"value\":0.1},\"line_color\":{\"value\":\"green\"},\"line_width\":{\"value\":5},\"top\":{\"value\":38.51489842659698},\"width\":{\"value\":0.5},\"x\":{\"field\":\"x\"}},\"id\":\"3061\",\"type\":\"VBar\"},{\"attributes\":{\"source\":{\"id\":\"3059\"}},\"id\":\"3063\",\"type\":\"CDSView\"},{\"attributes\":{},\"id\":\"3131\",\"type\":\"Selection\"},{\"attributes\":{},\"id\":\"3132\",\"type\":\"UnionRenderers\"},{\"attributes\":{\"data\":{\"x\":[\"Utah\"]},\"selected\":{\"id\":\"3287\"},\"selection_policy\":{\"id\":\"3288\"}},\"id\":\"3134\",\"type\":\"ColumnDataSource\"},{\"attributes\":{\"fill_color\":{\"value\":\"blue\"},\"line_color\":{\"value\":\"blue\"},\"line_width\":{\"value\":5},\"top\":{\"value\":39.27583164429062},\"width\":{\"value\":0.5},\"x\":{\"field\":\"x\"}},\"id\":\"3135\",\"type\":\"VBar\"},{\"attributes\":{\"data_source\":{\"id\":\"3134\"},\"glyph\":{\"id\":\"3135\"},\"hover_glyph\":null,\"muted_glyph\":null,\"nonselection_glyph\":{\"id\":\"3136\"},\"selection_glyph\":null,\"view\":{\"id\":\"3138\"}},\"id\":\"3137\",\"type\":\"GlyphRenderer\"},{\"attributes\":{\"fill_alpha\":{\"value\":0.1},\"fill_color\":{\"value\":\"blue\"},\"line_alpha\":{\"value\":0.1},\"line_color\":{\"value\":\"blue\"},\"line_width\":{\"value\":5},\"top\":{\"value\":39.27583164429062},\"width\":{\"value\":0.5},\"x\":{\"field\":\"x\"}},\"id\":\"3136\",\"type\":\"VBar\"},{\"attributes\":{\"source\":{\"id\":\"3134\"}},\"id\":\"3138\",\"type\":\"CDSView\"},{\"attributes\":{},\"id\":\"3208\",\"type\":\"Selection\"},{\"attributes\":{\"data\":{\"x\":[\"Michigan\"]},\"selected\":{\"id\":\"1808\"},\"selection_policy\":{\"id\":\"1809\"}},\"id\":\"1771\",\"type\":\"ColumnDataSource\"},{\"attributes\":{},\"id\":\"3209\",\"type\":\"UnionRenderers\"},{\"attributes\":{\"data\":{\"x\":[\"California\"]},\"selected\":{\"id\":\"3368\"},\"selection_policy\":{\"id\":\"3369\"}},\"id\":\"3211\",\"type\":\"ColumnDataSource\"},{\"attributes\":{\"fill_color\":{\"value\":\"green\"},\"line_color\":{\"value\":\"green\"},\"line_width\":{\"value\":5},\"top\":{\"value\":15.358519034900901},\"width\":{\"value\":0.5},\"x\":{\"field\":\"x\"}},\"id\":\"1772\",\"type\":\"VBar\"},{\"attributes\":{\"fill_color\":{\"value\":\"green\"},\"line_color\":{\"value\":\"green\"},\"line_width\":{\"value\":5},\"top\":{\"value\":39.75478676560415},\"width\":{\"value\":0.5},\"x\":{\"field\":\"x\"}},\"id\":\"3212\",\"type\":\"VBar\"},{\"attributes\":{\"data_source\":{\"id\":\"3211\"},\"glyph\":{\"id\":\"3212\"},\"hover_glyph\":null,\"muted_glyph\":null,\"nonselection_glyph\":{\"id\":\"3213\"},\"selection_glyph\":null,\"view\":{\"id\":\"3215\"}},\"id\":\"3214\",\"type\":\"GlyphRenderer\"},{\"attributes\":{\"data_source\":{\"id\":\"1771\"},\"glyph\":{\"id\":\"1772\"},\"hover_glyph\":null,\"muted_glyph\":null,\"nonselection_glyph\":{\"id\":\"1773\"},\"selection_glyph\":null,\"view\":{\"id\":\"1775\"}},\"id\":\"1774\",\"type\":\"GlyphRenderer\"},{\"attributes\":{\"fill_alpha\":{\"value\":0.1},\"fill_color\":{\"value\":\"green\"},\"line_alpha\":{\"value\":0.1},\"line_color\":{\"value\":\"green\"},\"line_width\":{\"value\":5},\"top\":{\"value\":39.75478676560415},\"width\":{\"value\":0.5},\"x\":{\"field\":\"x\"}},\"id\":\"3213\",\"type\":\"VBar\"},{\"attributes\":{\"source\":{\"id\":\"3211\"}},\"id\":\"3215\",\"type\":\"CDSView\"},{\"attributes\":{\"fill_alpha\":{\"value\":0.1},\"fill_color\":{\"value\":\"green\"},\"line_alpha\":{\"value\":0.1},\"line_color\":{\"value\":\"green\"},\"line_width\":{\"value\":5},\"top\":{\"value\":15.358519034900901},\"width\":{\"value\":0.5},\"x\":{\"field\":\"x\"}},\"id\":\"1773\",\"type\":\"VBar\"},{\"attributes\":{},\"id\":\"3287\",\"type\":\"Selection\"},{\"attributes\":{},\"id\":\"3288\",\"type\":\"UnionRenderers\"},{\"attributes\":{\"data\":{\"x\":[\"Louisiana\"]},\"selected\":{\"id\":\"3451\"},\"selection_policy\":{\"id\":\"3452\"}},\"id\":\"3290\",\"type\":\"ColumnDataSource\"},{\"attributes\":{\"fill_color\":{\"value\":\"green\"},\"line_color\":{\"value\":\"green\"},\"line_width\":{\"value\":5},\"top\":{\"value\":40.60551331520964},\"width\":{\"value\":0.5},\"x\":{\"field\":\"x\"}},\"id\":\"3291\",\"type\":\"VBar\"},{\"attributes\":{\"data_source\":{\"id\":\"3290\"},\"glyph\":{\"id\":\"3291\"},\"hover_glyph\":null,\"muted_glyph\":null,\"nonselection_glyph\":{\"id\":\"3292\"},\"selection_glyph\":null,\"view\":{\"id\":\"3294\"}},\"id\":\"3293\",\"type\":\"GlyphRenderer\"},{\"attributes\":{\"fill_alpha\":{\"value\":0.1},\"fill_color\":{\"value\":\"green\"},\"line_alpha\":{\"value\":0.1},\"line_color\":{\"value\":\"green\"},\"line_width\":{\"value\":5},\"top\":{\"value\":40.60551331520964},\"width\":{\"value\":0.5},\"x\":{\"field\":\"x\"}},\"id\":\"3292\",\"type\":\"VBar\"},{\"attributes\":{\"source\":{\"id\":\"3290\"}},\"id\":\"3294\",\"type\":\"CDSView\"},{\"attributes\":{},\"id\":\"3368\",\"type\":\"Selection\"},{\"attributes\":{\"fill_alpha\":{\"value\":0.1},\"fill_color\":{\"value\":\"green\"},\"line_alpha\":{\"value\":0.1},\"line_color\":{\"value\":\"green\"},\"line_width\":{\"value\":5},\"top\":{\"value\":23.717980233464473},\"width\":{\"value\":0.5},\"x\":{\"field\":\"x\"}},\"id\":\"2092\",\"type\":\"VBar\"},{\"attributes\":{},\"id\":\"2012\",\"type\":\"UnionRenderers\"},{\"attributes\":{\"data_source\":{\"id\":\"2090\"},\"glyph\":{\"id\":\"2091\"},\"hover_glyph\":null,\"muted_glyph\":null,\"nonselection_glyph\":{\"id\":\"2092\"},\"selection_glyph\":null,\"view\":{\"id\":\"2094\"}},\"id\":\"2093\",\"type\":\"GlyphRenderer\"},{\"attributes\":{\"source\":{\"id\":\"1979\"}},\"id\":\"1983\",\"type\":\"CDSView\"},{\"attributes\":{\"data\":{\"x\":[\"Missouri\"]},\"selected\":{\"id\":\"2087\"},\"selection_policy\":{\"id\":\"2088\"}},\"id\":\"2014\",\"type\":\"ColumnDataSource\"},{\"attributes\":{\"source\":{\"id\":\"2090\"}},\"id\":\"2094\",\"type\":\"CDSView\"},{\"attributes\":{\"fill_alpha\":{\"value\":0.1},\"fill_color\":{\"value\":\"blue\"},\"line_alpha\":{\"value\":0.1},\"line_color\":{\"value\":\"blue\"},\"line_width\":{\"value\":5},\"top\":{\"value\":22.62076774396919},\"width\":{\"value\":0.5},\"x\":{\"field\":\"x\"}},\"id\":\"2016\",\"type\":\"VBar\"},{\"attributes\":{},\"id\":\"2128\",\"type\":\"Selection\"},{\"attributes\":{},\"id\":\"2129\",\"type\":\"UnionRenderers\"},{\"attributes\":{\"data_source\":{\"id\":\"2014\"},\"glyph\":{\"id\":\"2015\"},\"hover_glyph\":null,\"muted_glyph\":null,\"nonselection_glyph\":{\"id\":\"2016\"},\"selection_glyph\":null,\"view\":{\"id\":\"2018\"}},\"id\":\"2017\",\"type\":\"GlyphRenderer\"},{\"attributes\":{\"data\":{\"x\":[\"Maryland\"]},\"selected\":{\"id\":\"2216\"},\"selection_policy\":{\"id\":\"2217\"}},\"id\":\"2131\",\"type\":\"ColumnDataSource\"},{\"attributes\":{\"data\":{\"x\":[\"Wisconsin\"]},\"selected\":{\"id\":\"2128\"},\"selection_policy\":{\"id\":\"2129\"}},\"id\":\"2051\",\"type\":\"ColumnDataSource\"},{\"attributes\":{\"fill_color\":{\"value\":\"green\"},\"line_color\":{\"value\":\"green\"},\"line_width\":{\"value\":5},\"top\":{\"value\":24.080555592312745},\"width\":{\"value\":0.5},\"x\":{\"field\":\"x\"}},\"id\":\"2132\",\"type\":\"VBar\"},{\"attributes\":{\"source\":{\"id\":\"2014\"}},\"id\":\"2018\",\"type\":\"CDSView\"},{\"attributes\":{\"data_source\":{\"id\":\"2131\"},\"glyph\":{\"id\":\"2132\"},\"hover_glyph\":null,\"muted_glyph\":null,\"nonselection_glyph\":{\"id\":\"2133\"},\"selection_glyph\":null,\"view\":{\"id\":\"2135\"}},\"id\":\"2134\",\"type\":\"GlyphRenderer\"},{\"attributes\":{},\"id\":\"2048\",\"type\":\"Selection\"},{\"attributes\":{\"fill_color\":{\"value\":\"blue\"},\"line_color\":{\"value\":\"blue\"},\"line_width\":{\"value\":5},\"top\":{\"value\":22.62076774396919},\"width\":{\"value\":0.5},\"x\":{\"field\":\"x\"}},\"id\":\"2015\",\"type\":\"VBar\"},{\"attributes\":{\"fill_alpha\":{\"value\":0.1},\"fill_color\":{\"value\":\"green\"},\"line_alpha\":{\"value\":0.1},\"line_color\":{\"value\":\"green\"},\"line_width\":{\"value\":5},\"top\":{\"value\":24.080555592312745},\"width\":{\"value\":0.5},\"x\":{\"field\":\"x\"}},\"id\":\"2133\",\"type\":\"VBar\"},{\"attributes\":{\"source\":{\"id\":\"2131\"}},\"id\":\"2135\",\"type\":\"CDSView\"},{\"attributes\":{},\"id\":\"2049\",\"type\":\"UnionRenderers\"},{\"attributes\":{\"fill_color\":{\"value\":\"green\"},\"line_color\":{\"value\":\"green\"},\"line_width\":{\"value\":5},\"top\":{\"value\":23.403728864366116},\"width\":{\"value\":0.5},\"x\":{\"field\":\"x\"}},\"id\":\"2052\",\"type\":\"VBar\"},{\"attributes\":{},\"id\":\"2171\",\"type\":\"Selection\"},{\"attributes\":{},\"id\":\"2172\",\"type\":\"UnionRenderers\"},{\"attributes\":{},\"id\":\"2088\",\"type\":\"UnionRenderers\"},{\"attributes\":{\"fill_alpha\":{\"value\":0.1},\"fill_color\":{\"value\":\"green\"},\"line_alpha\":{\"value\":0.1},\"line_color\":{\"value\":\"green\"},\"line_width\":{\"value\":5},\"top\":{\"value\":23.403728864366116},\"width\":{\"value\":0.5},\"x\":{\"field\":\"x\"}},\"id\":\"2053\",\"type\":\"VBar\"},{\"attributes\":{\"data\":{\"x\":[\"Wyoming\"]},\"selected\":{\"id\":\"2263\"},\"selection_policy\":{\"id\":\"2264\"}},\"id\":\"2174\",\"type\":\"ColumnDataSource\"},{\"attributes\":{\"data_source\":{\"id\":\"2051\"},\"glyph\":{\"id\":\"2052\"},\"hover_glyph\":null,\"muted_glyph\":null,\"nonselection_glyph\":{\"id\":\"2053\"},\"selection_glyph\":null,\"view\":{\"id\":\"2055\"}},\"id\":\"2054\",\"type\":\"GlyphRenderer\"},{\"attributes\":{\"fill_color\":{\"value\":\"blue\"},\"line_color\":{\"value\":\"blue\"},\"line_width\":{\"value\":5},\"top\":{\"value\":24.708039097448165},\"width\":{\"value\":0.5},\"x\":{\"field\":\"x\"}},\"id\":\"2175\",\"type\":\"VBar\"},{\"attributes\":{\"source\":{\"id\":\"2051\"}},\"id\":\"2055\",\"type\":\"CDSView\"},{\"attributes\":{\"data\":{\"x\":[\"Illinois\"]},\"selected\":{\"id\":\"2171\"},\"selection_policy\":{\"id\":\"2172\"}},\"id\":\"2090\",\"type\":\"ColumnDataSource\"},{\"attributes\":{\"data_source\":{\"id\":\"2174\"},\"glyph\":{\"id\":\"2175\"},\"hover_glyph\":null,\"muted_glyph\":null,\"nonselection_glyph\":{\"id\":\"2176\"},\"selection_glyph\":null,\"view\":{\"id\":\"2178\"}},\"id\":\"2177\",\"type\":\"GlyphRenderer\"},{\"attributes\":{\"fill_alpha\":{\"value\":0.1},\"fill_color\":{\"value\":\"blue\"},\"line_alpha\":{\"value\":0.1},\"line_color\":{\"value\":\"blue\"},\"line_width\":{\"value\":5},\"top\":{\"value\":24.708039097448165},\"width\":{\"value\":0.5},\"x\":{\"field\":\"x\"}},\"id\":\"2176\",\"type\":\"VBar\"},{\"attributes\":{},\"id\":\"2087\",\"type\":\"Selection\"},{\"attributes\":{\"source\":{\"id\":\"2174\"}},\"id\":\"2178\",\"type\":\"CDSView\"},{\"attributes\":{},\"id\":\"2216\",\"type\":\"Selection\"},{\"attributes\":{},\"id\":\"2217\",\"type\":\"UnionRenderers\"},{\"attributes\":{\"fill_alpha\":{\"value\":0.1},\"fill_color\":{\"value\":\"blue\"},\"line_alpha\":{\"value\":0.1},\"line_color\":{\"value\":\"blue\"},\"line_width\":{\"value\":5},\"top\":{\"value\":22.327111772655165},\"width\":{\"value\":0.5},\"x\":{\"field\":\"x\"}},\"id\":\"1981\",\"type\":\"VBar\"},{\"attributes\":{\"data_source\":{\"id\":\"1979\"},\"glyph\":{\"id\":\"1980\"},\"hover_glyph\":null,\"muted_glyph\":null,\"nonselection_glyph\":{\"id\":\"1981\"},\"selection_glyph\":null,\"view\":{\"id\":\"1983\"}},\"id\":\"1982\",\"type\":\"GlyphRenderer\"},{\"attributes\":{\"data\":{\"x\":[\"District of Columbia\"]},\"selected\":{\"id\":\"2312\"},\"selection_policy\":{\"id\":\"2313\"}},\"id\":\"2219\",\"type\":\"ColumnDataSource\"},{\"attributes\":{\"fill_color\":{\"value\":\"blue\"},\"line_color\":{\"value\":\"blue\"},\"line_width\":{\"value\":5},\"top\":{\"value\":25.197815842931885},\"width\":{\"value\":0.5},\"x\":{\"field\":\"x\"}},\"id\":\"2220\",\"type\":\"VBar\"},{\"attributes\":{},\"id\":\"2011\",\"type\":\"Selection\"},{\"attributes\":{\"data_source\":{\"id\":\"2219\"},\"glyph\":{\"id\":\"2220\"},\"hover_glyph\":null,\"muted_glyph\":null,\"nonselection_glyph\":{\"id\":\"2221\"},\"selection_glyph\":null,\"view\":{\"id\":\"2223\"}},\"id\":\"2222\",\"type\":\"GlyphRenderer\"},{\"attributes\":{\"fill_alpha\":{\"value\":0.1},\"fill_color\":{\"value\":\"blue\"},\"line_alpha\":{\"value\":0.1},\"line_color\":{\"value\":\"blue\"},\"line_width\":{\"value\":5},\"top\":{\"value\":25.197815842931885},\"width\":{\"value\":0.5},\"x\":{\"field\":\"x\"}},\"id\":\"2221\",\"type\":\"VBar\"},{\"attributes\":{\"source\":{\"id\":\"2219\"}},\"id\":\"2223\",\"type\":\"CDSView\"},{\"attributes\":{},\"id\":\"2263\",\"type\":\"Selection\"},{\"attributes\":{},\"id\":\"2264\",\"type\":\"UnionRenderers\"},{\"attributes\":{\"fill_color\":{\"value\":\"green\"},\"line_color\":{\"value\":\"green\"},\"line_width\":{\"value\":5},\"top\":{\"value\":23.717980233464473},\"width\":{\"value\":0.5},\"x\":{\"field\":\"x\"}},\"id\":\"2091\",\"type\":\"VBar\"},{\"attributes\":{\"data\":{\"x\":[\"Iowa\"]},\"selected\":{\"id\":\"2363\"},\"selection_policy\":{\"id\":\"2364\"}},\"id\":\"2266\",\"type\":\"ColumnDataSource\"},{\"attributes\":{\"fill_color\":{\"value\":\"blue\"},\"line_color\":{\"value\":\"blue\"},\"line_width\":{\"value\":5},\"top\":{\"value\":27.384495431163174},\"width\":{\"value\":0.5},\"x\":{\"field\":\"x\"}},\"id\":\"2267\",\"type\":\"VBar\"},{\"attributes\":{\"data_source\":{\"id\":\"2266\"},\"glyph\":{\"id\":\"2267\"},\"hover_glyph\":null,\"muted_glyph\":null,\"nonselection_glyph\":{\"id\":\"2268\"},\"selection_glyph\":null,\"view\":{\"id\":\"2270\"}},\"id\":\"2269\",\"type\":\"GlyphRenderer\"},{\"attributes\":{\"fill_alpha\":{\"value\":0.1},\"fill_color\":{\"value\":\"blue\"},\"line_alpha\":{\"value\":0.1},\"line_color\":{\"value\":\"blue\"},\"line_width\":{\"value\":5},\"top\":{\"value\":27.384495431163174},\"width\":{\"value\":0.5},\"x\":{\"field\":\"x\"}},\"id\":\"2268\",\"type\":\"VBar\"},{\"attributes\":{\"source\":{\"id\":\"2266\"}},\"id\":\"2270\",\"type\":\"CDSView\"},{\"attributes\":{},\"id\":\"2312\",\"type\":\"Selection\"},{\"attributes\":{},\"id\":\"2313\",\"type\":\"UnionRenderers\"},{\"attributes\":{\"data\":{\"x\":[\"Indiana\"]},\"selected\":{\"id\":\"2416\"},\"selection_policy\":{\"id\":\"2417\"}},\"id\":\"2315\",\"type\":\"ColumnDataSource\"},{\"attributes\":{\"fill_alpha\":{\"value\":0.1},\"fill_color\":{\"value\":\"green\"},\"line_alpha\":{\"value\":0.1},\"line_color\":{\"value\":\"green\"},\"line_width\":{\"value\":5},\"top\":{\"value\":28.163076691355403},\"width\":{\"value\":0.5},\"x\":{\"field\":\"x\"}},\"id\":\"2317\",\"type\":\"VBar\"},{\"attributes\":{\"fill_color\":{\"value\":\"green\"},\"line_color\":{\"value\":\"green\"},\"line_width\":{\"value\":5},\"top\":{\"value\":28.163076691355403},\"width\":{\"value\":0.5},\"x\":{\"field\":\"x\"}},\"id\":\"2316\",\"type\":\"VBar\"}],\"root_ids\":[\"1681\"]},\"title\":\"Bokeh Application\",\"version\":\"2.0.2\"}};\n",
       "  var render_items = [{\"docid\":\"fbb33c20-a2d7-41c6-a879-5196c0d8afdc\",\"root_ids\":[\"1681\"],\"roots\":{\"1681\":\"165280b3-70df-49fc-b519-eec10f173fe9\"}}];\n",
       "  root.Bokeh.embed.embed_items_notebook(docs_json, render_items);\n",
       "\n",
       "  }\n",
       "  if (root.Bokeh !== undefined) {\n",
       "    embed_document(root);\n",
       "  } else {\n",
       "    var attempts = 0;\n",
       "    var timer = setInterval(function(root) {\n",
       "      if (root.Bokeh !== undefined) {\n",
       "        clearInterval(timer);\n",
       "        embed_document(root);\n",
       "      } else {\n",
       "        attempts++;\n",
       "        if (attempts > 100) {\n",
       "          clearInterval(timer);\n",
       "          console.log(\"Bokeh: ERROR: Unable to run BokehJS code because BokehJS library is missing\");\n",
       "        }\n",
       "      }\n",
       "    }, 10, root)\n",
       "  }\n",
       "})(window);"
      ],
      "application/vnd.bokehjs_exec.v0+json": ""
     },
     "metadata": {
      "application/vnd.bokehjs_exec.v0+json": {
       "id": "1681"
      }
     },
     "output_type": "display_data"
    }
   ],
   "source": [
    "case_with_pop = cases_with_pop(back = 7)\n",
    "labels = [x[0] for x in case_with_pop]\n",
    "y = [x[1] for x in case_with_pop]\n",
    "masks = get_mask()\n",
    "d = {}\n",
    "for i in masks:\n",
    "    d[i[0]] = i[1]\n",
    "p = make_bar_pop(labels, y, plot_height = 450, plot_width = 750, title = None, mask_dict = d)\n",
    "show(p)\n"
   ]
  },
  {
   "cell_type": "code",
   "execution_count": 17,
   "metadata": {},
   "outputs": [],
   "source": [
    "def make_bar_pop2_(labels, y, plot_height = 450, \n",
    "             plot_width = 450, title = None, vote_dict = {}):\n",
    "    x_range = labels\n",
    "    p = figure(x_range = x_range , plot_height = plot_height, \n",
    "               plot_width = plot_width, title = title)\n",
    "    for counter, i in enumerate(labels):\n",
    "        if vote_dict.get(i) == 'D':\n",
    "            color = 'blue'\n",
    "        else:\n",
    "            color = 'red'\n",
    "        p.vbar(x=[i], top=y[counter] , line_width = 5, width = .5, color = color)\n",
    "    p.xaxis.major_label_orientation = \"vertical\"\n",
    "    p.xgrid.grid_line_color = None\n",
    "\n",
    "    return p\n",
    "    #p.y_range \n",
    "def make_bar_pop2(labels, y, plot_height = 450, \n",
    "             plot_width = 450, title = None, vote_dict = {}):\n",
    "    y_range = labels\n",
    "    p = figure(y_range = y_range , plot_height = plot_height, \n",
    "               plot_width = plot_width, title = title)\n",
    "    for counter, i in enumerate(labels):\n",
    "        if vote_dict.get(i) == 'D':\n",
    "            color = 'blue'\n",
    "        else:\n",
    "            color = 'red'\n",
    "        p.hbar(y=[i], right=y[counter] , line_width = 5, width = .5, color = color)\n",
    "    #p.xaxis.major_label_orientation = \"vertical\"\n",
    "    p.xaxis.axis_label = 'Deaths per Million'\n",
    "    p.xgrid.grid_line_color = None\n",
    "\n",
    "    return p"
   ]
  },
  {
   "cell_type": "code",
   "execution_count": 18,
   "metadata": {},
   "outputs": [
    {
     "data": {
      "text/html": [
       "\n",
       "\n",
       "\n",
       "\n",
       "\n",
       "\n",
       "  <div class=\"bk-root\" id=\"6e897ef9-bd0e-4bcb-8a74-b86889573924\" data-root-id=\"5639\"></div>\n"
      ]
     },
     "metadata": {},
     "output_type": "display_data"
    },
    {
     "data": {
      "application/javascript": [
       "(function(root) {\n",
       "  function embed_document(root) {\n",
       "    \n",
       "  var docs_json = {\"389c6f4b-0f97-4b72-af8a-4c168831b078\":{\"roots\":{\"references\":[{\"attributes\":{\"below\":[{\"id\":\"5650\"}],\"center\":[{\"id\":\"5653\"},{\"id\":\"5656\"}],\"left\":[{\"id\":\"5654\"}],\"plot_height\":450,\"plot_width\":800,\"renderers\":[{\"id\":\"5674\"},{\"id\":\"5679\"},{\"id\":\"5684\"},{\"id\":\"5689\"},{\"id\":\"5694\"},{\"id\":\"5699\"},{\"id\":\"5704\"},{\"id\":\"5709\"},{\"id\":\"5714\"},{\"id\":\"5719\"},{\"id\":\"5724\"},{\"id\":\"5729\"},{\"id\":\"5734\"},{\"id\":\"5739\"},{\"id\":\"5744\"},{\"id\":\"5749\"},{\"id\":\"5754\"},{\"id\":\"5759\"},{\"id\":\"5764\"},{\"id\":\"5769\"},{\"id\":\"5774\"},{\"id\":\"5779\"},{\"id\":\"5784\"},{\"id\":\"5789\"},{\"id\":\"5794\"},{\"id\":\"5799\"},{\"id\":\"5804\"},{\"id\":\"5809\"},{\"id\":\"5814\"},{\"id\":\"5819\"},{\"id\":\"5824\"},{\"id\":\"5829\"},{\"id\":\"5834\"},{\"id\":\"5839\"},{\"id\":\"5844\"},{\"id\":\"5849\"},{\"id\":\"5854\"},{\"id\":\"5859\"},{\"id\":\"5864\"},{\"id\":\"5869\"},{\"id\":\"5874\"},{\"id\":\"5879\"},{\"id\":\"5884\"},{\"id\":\"5889\"},{\"id\":\"5894\"},{\"id\":\"5899\"},{\"id\":\"5904\"},{\"id\":\"5909\"},{\"id\":\"5914\"},{\"id\":\"5919\"},{\"id\":\"5924\"}],\"title\":{\"id\":\"5640\"},\"toolbar\":{\"id\":\"5664\"},\"x_range\":{\"id\":\"5642\"},\"x_scale\":{\"id\":\"5646\"},\"y_range\":{\"id\":\"5644\"},\"y_scale\":{\"id\":\"5648\"}},\"id\":\"5639\",\"subtype\":\"Figure\",\"type\":\"Plot\"},{\"attributes\":{\"fill_alpha\":{\"value\":0.1},\"fill_color\":{\"value\":\"red\"},\"line_alpha\":{\"value\":0.1},\"line_color\":{\"value\":\"red\"},\"line_width\":{\"value\":5},\"right\":{\"value\":1576.8271385420926},\"y\":{\"field\":\"y\"}},\"id\":\"5848\",\"type\":\"HBar\"},{\"attributes\":{\"data_source\":{\"id\":\"5846\"},\"glyph\":{\"id\":\"5847\"},\"hover_glyph\":null,\"muted_glyph\":null,\"nonselection_glyph\":{\"id\":\"5848\"},\"selection_glyph\":null,\"view\":{\"id\":\"5850\"}},\"id\":\"5849\",\"type\":\"GlyphRenderer\"},{\"attributes\":{\"source\":{\"id\":\"5846\"}},\"id\":\"5850\",\"type\":\"CDSView\"},{\"attributes\":{\"fill_color\":{\"value\":\"red\"},\"line_color\":{\"value\":\"red\"},\"line_width\":{\"value\":5},\"right\":{\"value\":1576.8271385420926},\"y\":{\"field\":\"y\"}},\"id\":\"5847\",\"type\":\"HBar\"},{\"attributes\":{\"data\":{\"y\":[\"New Mexico\"]},\"selected\":{\"id\":\"6168\"},\"selection_policy\":{\"id\":\"6169\"}},\"id\":\"5851\",\"type\":\"ColumnDataSource\"},{\"attributes\":{\"fill_alpha\":{\"value\":0.1},\"fill_color\":{\"value\":\"blue\"},\"line_alpha\":{\"value\":0.1},\"line_color\":{\"value\":\"blue\"},\"line_width\":{\"value\":5},\"right\":{\"value\":1592.8814414527842},\"y\":{\"field\":\"y\"}},\"id\":\"5853\",\"type\":\"HBar\"},{\"attributes\":{\"data_source\":{\"id\":\"5851\"},\"glyph\":{\"id\":\"5852\"},\"hover_glyph\":null,\"muted_glyph\":null,\"nonselection_glyph\":{\"id\":\"5853\"},\"selection_glyph\":null,\"view\":{\"id\":\"5855\"}},\"id\":\"5854\",\"type\":\"GlyphRenderer\"},{\"attributes\":{\"source\":{\"id\":\"5851\"}},\"id\":\"5855\",\"type\":\"CDSView\"},{\"attributes\":{\"fill_color\":{\"value\":\"blue\"},\"line_color\":{\"value\":\"blue\"},\"line_width\":{\"value\":5},\"right\":{\"value\":1592.8814414527842},\"y\":{\"field\":\"y\"}},\"id\":\"5852\",\"type\":\"HBar\"},{\"attributes\":{\"data\":{\"y\":[\"Arkansas\"]},\"selected\":{\"id\":\"6170\"},\"selection_policy\":{\"id\":\"6171\"}},\"id\":\"5856\",\"type\":\"ColumnDataSource\"},{\"attributes\":{\"fill_alpha\":{\"value\":0.1},\"fill_color\":{\"value\":\"red\"},\"line_alpha\":{\"value\":0.1},\"line_color\":{\"value\":\"red\"},\"line_width\":{\"value\":5},\"right\":{\"value\":1651.8634079615508},\"y\":{\"field\":\"y\"}},\"id\":\"5858\",\"type\":\"HBar\"},{\"attributes\":{\"data_source\":{\"id\":\"5856\"},\"glyph\":{\"id\":\"5857\"},\"hover_glyph\":null,\"muted_glyph\":null,\"nonselection_glyph\":{\"id\":\"5858\"},\"selection_glyph\":null,\"view\":{\"id\":\"5860\"}},\"id\":\"5859\",\"type\":\"GlyphRenderer\"},{\"attributes\":{\"source\":{\"id\":\"5856\"}},\"id\":\"5860\",\"type\":\"CDSView\"},{\"attributes\":{\"fill_color\":{\"value\":\"red\"},\"line_color\":{\"value\":\"red\"},\"line_width\":{\"value\":5},\"right\":{\"value\":1651.8634079615508},\"y\":{\"field\":\"y\"}},\"id\":\"5857\",\"type\":\"HBar\"},{\"attributes\":{\"data\":{\"y\":[\"Alabama\"]},\"selected\":{\"id\":\"6172\"},\"selection_policy\":{\"id\":\"6173\"}},\"id\":\"5861\",\"type\":\"ColumnDataSource\"},{\"attributes\":{\"fill_alpha\":{\"value\":0.1},\"fill_color\":{\"value\":\"red\"},\"line_alpha\":{\"value\":0.1},\"line_color\":{\"value\":\"red\"},\"line_width\":{\"value\":5},\"right\":{\"value\":1672.9941864318805},\"y\":{\"field\":\"y\"}},\"id\":\"5863\",\"type\":\"HBar\"},{\"attributes\":{\"data_source\":{\"id\":\"5861\"},\"glyph\":{\"id\":\"5862\"},\"hover_glyph\":null,\"muted_glyph\":null,\"nonselection_glyph\":{\"id\":\"5863\"},\"selection_glyph\":null,\"view\":{\"id\":\"5865\"}},\"id\":\"5864\",\"type\":\"GlyphRenderer\"},{\"attributes\":{\"source\":{\"id\":\"5861\"}},\"id\":\"5865\",\"type\":\"CDSView\"},{\"attributes\":{\"fill_color\":{\"value\":\"red\"},\"line_color\":{\"value\":\"red\"},\"line_width\":{\"value\":5},\"right\":{\"value\":1672.9941864318805},\"y\":{\"field\":\"y\"}},\"id\":\"5862\",\"type\":\"HBar\"},{\"attributes\":{\"data\":{\"y\":[\"Illinois\"]},\"selected\":{\"id\":\"6174\"},\"selection_policy\":{\"id\":\"6175\"}},\"id\":\"5866\",\"type\":\"ColumnDataSource\"},{\"attributes\":{\"fill_alpha\":{\"value\":0.1},\"fill_color\":{\"value\":\"blue\"},\"line_alpha\":{\"value\":0.1},\"line_color\":{\"value\":\"blue\"},\"line_width\":{\"value\":5},\"right\":{\"value\":1690.3647865606688},\"y\":{\"field\":\"y\"}},\"id\":\"5868\",\"type\":\"HBar\"},{\"attributes\":{\"data_source\":{\"id\":\"5866\"},\"glyph\":{\"id\":\"5867\"},\"hover_glyph\":null,\"muted_glyph\":null,\"nonselection_glyph\":{\"id\":\"5868\"},\"selection_glyph\":null,\"view\":{\"id\":\"5870\"}},\"id\":\"5869\",\"type\":\"GlyphRenderer\"},{\"attributes\":{\"source\":{\"id\":\"5866\"}},\"id\":\"5870\",\"type\":\"CDSView\"},{\"attributes\":{\"fill_color\":{\"value\":\"blue\"},\"line_color\":{\"value\":\"blue\"},\"line_width\":{\"value\":5},\"right\":{\"value\":1690.3647865606688},\"y\":{\"field\":\"y\"}},\"id\":\"5867\",\"type\":\"HBar\"},{\"attributes\":{\"data\":{\"y\":[\"Pennsylvania\"]},\"selected\":{\"id\":\"6176\"},\"selection_policy\":{\"id\":\"6177\"}},\"id\":\"5871\",\"type\":\"ColumnDataSource\"},{\"attributes\":{\"fill_alpha\":{\"value\":0.1},\"fill_color\":{\"value\":\"blue\"},\"line_alpha\":{\"value\":0.1},\"line_color\":{\"value\":\"blue\"},\"line_width\":{\"value\":5},\"right\":{\"value\":1719.26409247813},\"y\":{\"field\":\"y\"}},\"id\":\"5873\",\"type\":\"HBar\"},{\"attributes\":{\"data_source\":{\"id\":\"5871\"},\"glyph\":{\"id\":\"5872\"},\"hover_glyph\":null,\"muted_glyph\":null,\"nonselection_glyph\":{\"id\":\"5873\"},\"selection_glyph\":null,\"view\":{\"id\":\"5875\"}},\"id\":\"5874\",\"type\":\"GlyphRenderer\"},{\"attributes\":{\"source\":{\"id\":\"5871\"}},\"id\":\"5875\",\"type\":\"CDSView\"},{\"attributes\":{\"fill_color\":{\"value\":\"blue\"},\"line_color\":{\"value\":\"blue\"},\"line_width\":{\"value\":5},\"right\":{\"value\":1719.26409247813},\"y\":{\"field\":\"y\"}},\"id\":\"5872\",\"type\":\"HBar\"},{\"attributes\":{\"data\":{\"y\":[\"Arizona\"]},\"selected\":{\"id\":\"6178\"},\"selection_policy\":{\"id\":\"6179\"}},\"id\":\"5876\",\"type\":\"ColumnDataSource\"},{\"attributes\":{\"fill_alpha\":{\"value\":0.1},\"fill_color\":{\"value\":\"blue\"},\"line_alpha\":{\"value\":0.1},\"line_color\":{\"value\":\"blue\"},\"line_width\":{\"value\":5},\"right\":{\"value\":1867.4994507960675},\"y\":{\"field\":\"y\"}},\"id\":\"5878\",\"type\":\"HBar\"},{\"attributes\":{\"data_source\":{\"id\":\"5876\"},\"glyph\":{\"id\":\"5877\"},\"hover_glyph\":null,\"muted_glyph\":null,\"nonselection_glyph\":{\"id\":\"5878\"},\"selection_glyph\":null,\"view\":{\"id\":\"5880\"}},\"id\":\"5879\",\"type\":\"GlyphRenderer\"},{\"attributes\":{\"source\":{\"id\":\"5876\"}},\"id\":\"5880\",\"type\":\"CDSView\"},{\"attributes\":{\"fill_color\":{\"value\":\"blue\"},\"line_color\":{\"value\":\"blue\"},\"line_width\":{\"value\":5},\"right\":{\"value\":1867.4994507960675},\"y\":{\"field\":\"y\"}},\"id\":\"5877\",\"type\":\"HBar\"},{\"attributes\":{\"data\":{\"y\":[\"North Dakota\"]},\"selected\":{\"id\":\"6180\"},\"selection_policy\":{\"id\":\"6181\"}},\"id\":\"5881\",\"type\":\"ColumnDataSource\"},{\"attributes\":{\"fill_color\":{\"value\":\"red\"},\"line_color\":{\"value\":\"red\"},\"line_width\":{\"value\":5},\"right\":{\"value\":1898.79563605061},\"y\":{\"field\":\"y\"}},\"id\":\"5882\",\"type\":\"HBar\"},{\"attributes\":{\"data\":{\"y\":[\"Georgia\"]},\"selected\":{\"id\":\"6152\"},\"selection_policy\":{\"id\":\"6153\"}},\"id\":\"5811\",\"type\":\"ColumnDataSource\"},{\"attributes\":{\"data_source\":{\"id\":\"5811\"},\"glyph\":{\"id\":\"5812\"},\"hover_glyph\":null,\"muted_glyph\":null,\"nonselection_glyph\":{\"id\":\"5813\"},\"selection_glyph\":null,\"view\":{\"id\":\"5815\"}},\"id\":\"5814\",\"type\":\"GlyphRenderer\"},{\"attributes\":{\"fill_alpha\":{\"value\":0.1},\"fill_color\":{\"value\":\"blue\"},\"line_alpha\":{\"value\":0.1},\"line_color\":{\"value\":\"blue\"},\"line_width\":{\"value\":5},\"right\":{\"value\":1332.9976586597331},\"y\":{\"field\":\"y\"}},\"id\":\"5813\",\"type\":\"HBar\"},{\"attributes\":{\"fill_color\":{\"value\":\"blue\"},\"line_color\":{\"value\":\"blue\"},\"line_width\":{\"value\":5},\"right\":{\"value\":1332.9976586597331},\"y\":{\"field\":\"y\"}},\"id\":\"5812\",\"type\":\"HBar\"},{\"attributes\":{\"source\":{\"id\":\"5811\"}},\"id\":\"5815\",\"type\":\"CDSView\"},{\"attributes\":{\"fill_alpha\":{\"value\":0.1},\"fill_color\":{\"value\":\"red\"},\"line_alpha\":{\"value\":0.1},\"line_color\":{\"value\":\"red\"},\"line_width\":{\"value\":5},\"right\":{\"value\":1336.9653940495257},\"y\":{\"field\":\"y\"}},\"id\":\"5818\",\"type\":\"HBar\"},{\"attributes\":{\"data\":{\"y\":[\"Kansas\"]},\"selected\":{\"id\":\"6154\"},\"selection_policy\":{\"id\":\"6155\"}},\"id\":\"5816\",\"type\":\"ColumnDataSource\"},{\"attributes\":{\"data_source\":{\"id\":\"5816\"},\"glyph\":{\"id\":\"5817\"},\"hover_glyph\":null,\"muted_glyph\":null,\"nonselection_glyph\":{\"id\":\"5818\"},\"selection_glyph\":null,\"view\":{\"id\":\"5820\"}},\"id\":\"5819\",\"type\":\"GlyphRenderer\"},{\"attributes\":{\"data\":{\"y\":[\"Nevada\"]},\"selected\":{\"id\":\"6156\"},\"selection_policy\":{\"id\":\"6157\"}},\"id\":\"5821\",\"type\":\"ColumnDataSource\"},{\"attributes\":{\"fill_color\":{\"value\":\"red\"},\"line_color\":{\"value\":\"red\"},\"line_width\":{\"value\":5},\"right\":{\"value\":1336.9653940495257},\"y\":{\"field\":\"y\"}},\"id\":\"5817\",\"type\":\"HBar\"},{\"attributes\":{\"source\":{\"id\":\"5816\"}},\"id\":\"5820\",\"type\":\"CDSView\"},{\"attributes\":{\"fill_alpha\":{\"value\":0.1},\"fill_color\":{\"value\":\"blue\"},\"line_alpha\":{\"value\":0.1},\"line_color\":{\"value\":\"blue\"},\"line_width\":{\"value\":5},\"right\":{\"value\":1420.707262878893},\"y\":{\"field\":\"y\"}},\"id\":\"5823\",\"type\":\"HBar\"},{\"attributes\":{\"data_source\":{\"id\":\"5821\"},\"glyph\":{\"id\":\"5822\"},\"hover_glyph\":null,\"muted_glyph\":null,\"nonselection_glyph\":{\"id\":\"5823\"},\"selection_glyph\":null,\"view\":{\"id\":\"5825\"}},\"id\":\"5824\",\"type\":\"GlyphRenderer\"},{\"attributes\":{\"fill_color\":{\"value\":\"blue\"},\"line_color\":{\"value\":\"blue\"},\"line_width\":{\"value\":5},\"right\":{\"value\":1420.707262878893},\"y\":{\"field\":\"y\"}},\"id\":\"5822\",\"type\":\"HBar\"},{\"attributes\":{\"source\":{\"id\":\"5821\"}},\"id\":\"5825\",\"type\":\"CDSView\"},{\"attributes\":{\"data\":{\"y\":[\"South Carolina\"]},\"selected\":{\"id\":\"6158\"},\"selection_policy\":{\"id\":\"6159\"}},\"id\":\"5826\",\"type\":\"ColumnDataSource\"},{\"attributes\":{\"source\":{\"id\":\"5826\"}},\"id\":\"5830\",\"type\":\"CDSView\"},{\"attributes\":{\"data_source\":{\"id\":\"5826\"},\"glyph\":{\"id\":\"5827\"},\"hover_glyph\":null,\"muted_glyph\":null,\"nonselection_glyph\":{\"id\":\"5828\"},\"selection_glyph\":null,\"view\":{\"id\":\"5830\"}},\"id\":\"5829\",\"type\":\"GlyphRenderer\"},{\"attributes\":{\"fill_alpha\":{\"value\":0.1},\"fill_color\":{\"value\":\"red\"},\"line_alpha\":{\"value\":0.1},\"line_color\":{\"value\":\"red\"},\"line_width\":{\"value\":5},\"right\":{\"value\":1436.086758751797},\"y\":{\"field\":\"y\"}},\"id\":\"5828\",\"type\":\"HBar\"},{\"attributes\":{\"data\":{\"y\":[\"Tennessee\"]},\"selected\":{\"id\":\"6160\"},\"selection_policy\":{\"id\":\"6161\"}},\"id\":\"5831\",\"type\":\"ColumnDataSource\"},{\"attributes\":{\"fill_color\":{\"value\":\"red\"},\"line_color\":{\"value\":\"red\"},\"line_width\":{\"value\":5},\"right\":{\"value\":1436.086758751797},\"y\":{\"field\":\"y\"}},\"id\":\"5827\",\"type\":\"HBar\"},{\"attributes\":{\"data_source\":{\"id\":\"5831\"},\"glyph\":{\"id\":\"5832\"},\"hover_glyph\":null,\"muted_glyph\":null,\"nonselection_glyph\":{\"id\":\"5833\"},\"selection_glyph\":null,\"view\":{\"id\":\"5835\"}},\"id\":\"5834\",\"type\":\"GlyphRenderer\"},{\"attributes\":{\"fill_alpha\":{\"value\":0.1},\"fill_color\":{\"value\":\"red\"},\"line_alpha\":{\"value\":0.1},\"line_color\":{\"value\":\"red\"},\"line_width\":{\"value\":5},\"right\":{\"value\":1455.3736659806882},\"y\":{\"field\":\"y\"}},\"id\":\"5833\",\"type\":\"HBar\"},{\"attributes\":{\"fill_color\":{\"value\":\"red\"},\"line_color\":{\"value\":\"red\"},\"line_width\":{\"value\":5},\"right\":{\"value\":1455.3736659806882},\"y\":{\"field\":\"y\"}},\"id\":\"5832\",\"type\":\"HBar\"},{\"attributes\":{\"source\":{\"id\":\"5831\"}},\"id\":\"5835\",\"type\":\"CDSView\"},{\"attributes\":{\"data\":{\"y\":[\"Indiana\"]},\"selected\":{\"id\":\"6162\"},\"selection_policy\":{\"id\":\"6163\"}},\"id\":\"5836\",\"type\":\"ColumnDataSource\"},{\"attributes\":{\"data_source\":{\"id\":\"5836\"},\"glyph\":{\"id\":\"5837\"},\"hover_glyph\":null,\"muted_glyph\":null,\"nonselection_glyph\":{\"id\":\"5838\"},\"selection_glyph\":null,\"view\":{\"id\":\"5840\"}},\"id\":\"5839\",\"type\":\"GlyphRenderer\"},{\"attributes\":{\"fill_alpha\":{\"value\":0.1},\"fill_color\":{\"value\":\"red\"},\"line_alpha\":{\"value\":0.1},\"line_color\":{\"value\":\"red\"},\"line_width\":{\"value\":5},\"right\":{\"value\":1498.9114287577395},\"y\":{\"field\":\"y\"}},\"id\":\"5838\",\"type\":\"HBar\"},{\"attributes\":{\"data\":{\"y\":[\"Michigan\"]},\"selected\":{\"id\":\"6164\"},\"selection_policy\":{\"id\":\"6165\"}},\"id\":\"5841\",\"type\":\"ColumnDataSource\"},{\"attributes\":{\"fill_color\":{\"value\":\"red\"},\"line_color\":{\"value\":\"red\"},\"line_width\":{\"value\":5},\"right\":{\"value\":1498.9114287577395},\"y\":{\"field\":\"y\"}},\"id\":\"5837\",\"type\":\"HBar\"},{\"attributes\":{\"source\":{\"id\":\"5836\"}},\"id\":\"5840\",\"type\":\"CDSView\"},{\"attributes\":{\"fill_alpha\":{\"value\":0.1},\"fill_color\":{\"value\":\"blue\"},\"line_alpha\":{\"value\":0.1},\"line_color\":{\"value\":\"blue\"},\"line_width\":{\"value\":5},\"right\":{\"value\":1565.357349164006},\"y\":{\"field\":\"y\"}},\"id\":\"5843\",\"type\":\"HBar\"},{\"attributes\":{\"source\":{\"id\":\"5841\"}},\"id\":\"5845\",\"type\":\"CDSView\"},{\"attributes\":{\"data_source\":{\"id\":\"5841\"},\"glyph\":{\"id\":\"5842\"},\"hover_glyph\":null,\"muted_glyph\":null,\"nonselection_glyph\":{\"id\":\"5843\"},\"selection_glyph\":null,\"view\":{\"id\":\"5845\"}},\"id\":\"5844\",\"type\":\"GlyphRenderer\"},{\"attributes\":{\"fill_color\":{\"value\":\"blue\"},\"line_color\":{\"value\":\"blue\"},\"line_width\":{\"value\":5},\"right\":{\"value\":1565.357349164006},\"y\":{\"field\":\"y\"}},\"id\":\"5842\",\"type\":\"HBar\"},{\"attributes\":{\"data\":{\"y\":[\"Iowa\"]},\"selected\":{\"id\":\"6166\"},\"selection_policy\":{\"id\":\"6167\"}},\"id\":\"5846\",\"type\":\"ColumnDataSource\"},{\"attributes\":{\"data\":{\"y\":[\"Delaware\"]},\"selected\":{\"id\":\"6138\"},\"selection_policy\":{\"id\":\"6139\"}},\"id\":\"5776\",\"type\":\"ColumnDataSource\"},{\"attributes\":{},\"id\":\"6095\",\"type\":\"CategoricalTickFormatter\"},{\"attributes\":{\"source\":{\"id\":\"5771\"}},\"id\":\"5775\",\"type\":\"CDSView\"},{\"attributes\":{\"fill_alpha\":{\"value\":0.1},\"fill_color\":{\"value\":\"blue\"},\"line_alpha\":{\"value\":0.1},\"line_color\":{\"value\":\"blue\"},\"line_width\":{\"value\":5},\"right\":{\"value\":1160.4454467406886},\"y\":{\"field\":\"y\"}},\"id\":\"5778\",\"type\":\"HBar\"},{\"attributes\":{\"data_source\":{\"id\":\"5776\"},\"glyph\":{\"id\":\"5777\"},\"hover_glyph\":null,\"muted_glyph\":null,\"nonselection_glyph\":{\"id\":\"5778\"},\"selection_glyph\":null,\"view\":{\"id\":\"5780\"}},\"id\":\"5779\",\"type\":\"GlyphRenderer\"},{\"attributes\":{\"source\":{\"id\":\"5776\"}},\"id\":\"5780\",\"type\":\"CDSView\"},{\"attributes\":{\"fill_color\":{\"value\":\"blue\"},\"line_color\":{\"value\":\"blue\"},\"line_width\":{\"value\":5},\"right\":{\"value\":1160.4454467406886},\"y\":{\"field\":\"y\"}},\"id\":\"5777\",\"type\":\"HBar\"},{\"attributes\":{\"data\":{\"y\":[\"Maryland\"]},\"selected\":{\"id\":\"6140\"},\"selection_policy\":{\"id\":\"6141\"}},\"id\":\"5781\",\"type\":\"ColumnDataSource\"},{\"attributes\":{\"fill_alpha\":{\"value\":0.1},\"fill_color\":{\"value\":\"blue\"},\"line_alpha\":{\"value\":0.1},\"line_color\":{\"value\":\"blue\"},\"line_width\":{\"value\":5},\"right\":{\"value\":1194.241177171137},\"y\":{\"field\":\"y\"}},\"id\":\"5783\",\"type\":\"HBar\"},{\"attributes\":{\"data_source\":{\"id\":\"5781\"},\"glyph\":{\"id\":\"5782\"},\"hover_glyph\":null,\"muted_glyph\":null,\"nonselection_glyph\":{\"id\":\"5783\"},\"selection_glyph\":null,\"view\":{\"id\":\"5785\"}},\"id\":\"5784\",\"type\":\"GlyphRenderer\"},{\"attributes\":{\"source\":{\"id\":\"5781\"}},\"id\":\"5785\",\"type\":\"CDSView\"},{\"attributes\":{\"fill_color\":{\"value\":\"blue\"},\"line_color\":{\"value\":\"blue\"},\"line_width\":{\"value\":5},\"right\":{\"value\":1194.241177171137},\"y\":{\"field\":\"y\"}},\"id\":\"5782\",\"type\":\"HBar\"},{\"attributes\":{\"data\":{\"y\":[\"Montana\"]},\"selected\":{\"id\":\"6142\"},\"selection_policy\":{\"id\":\"6143\"}},\"id\":\"5786\",\"type\":\"ColumnDataSource\"},{\"attributes\":{\"fill_alpha\":{\"value\":0.1},\"fill_color\":{\"value\":\"red\"},\"line_alpha\":{\"value\":0.1},\"line_color\":{\"value\":\"red\"},\"line_width\":{\"value\":5},\"right\":{\"value\":1220.0849942644777},\"y\":{\"field\":\"y\"}},\"id\":\"5788\",\"type\":\"HBar\"},{\"attributes\":{\"data_source\":{\"id\":\"5786\"},\"glyph\":{\"id\":\"5787\"},\"hover_glyph\":null,\"muted_glyph\":null,\"nonselection_glyph\":{\"id\":\"5788\"},\"selection_glyph\":null,\"view\":{\"id\":\"5790\"}},\"id\":\"5789\",\"type\":\"GlyphRenderer\"},{\"attributes\":{\"source\":{\"id\":\"5786\"}},\"id\":\"5790\",\"type\":\"CDSView\"},{\"attributes\":{\"fill_color\":{\"value\":\"red\"},\"line_color\":{\"value\":\"red\"},\"line_width\":{\"value\":5},\"right\":{\"value\":1220.0849942644777},\"y\":{\"field\":\"y\"}},\"id\":\"5787\",\"type\":\"HBar\"},{\"attributes\":{\"data\":{\"y\":[\"Missouri\"]},\"selected\":{\"id\":\"6144\"},\"selection_policy\":{\"id\":\"6145\"}},\"id\":\"5791\",\"type\":\"ColumnDataSource\"},{\"attributes\":{\"fill_alpha\":{\"value\":0.1},\"fill_color\":{\"value\":\"red\"},\"line_alpha\":{\"value\":0.1},\"line_color\":{\"value\":\"red\"},\"line_width\":{\"value\":5},\"right\":{\"value\":1220.5438499645127},\"y\":{\"field\":\"y\"}},\"id\":\"5793\",\"type\":\"HBar\"},{\"attributes\":{\"data_source\":{\"id\":\"5791\"},\"glyph\":{\"id\":\"5792\"},\"hover_glyph\":null,\"muted_glyph\":null,\"nonselection_glyph\":{\"id\":\"5793\"},\"selection_glyph\":null,\"view\":{\"id\":\"5795\"}},\"id\":\"5794\",\"type\":\"GlyphRenderer\"},{\"attributes\":{},\"id\":\"6093\",\"type\":\"BasicTickFormatter\"},{\"attributes\":{\"source\":{\"id\":\"5791\"}},\"id\":\"5795\",\"type\":\"CDSView\"},{\"attributes\":{\"fill_color\":{\"value\":\"red\"},\"line_color\":{\"value\":\"red\"},\"line_width\":{\"value\":5},\"right\":{\"value\":1220.5438499645127},\"y\":{\"field\":\"y\"}},\"id\":\"5792\",\"type\":\"HBar\"},{\"attributes\":{\"data\":{\"y\":[\"Florida\"]},\"selected\":{\"id\":\"6146\"},\"selection_policy\":{\"id\":\"6147\"}},\"id\":\"5796\",\"type\":\"ColumnDataSource\"},{\"attributes\":{\"fill_alpha\":{\"value\":0.1},\"fill_color\":{\"value\":\"red\"},\"line_alpha\":{\"value\":0.1},\"line_color\":{\"value\":\"red\"},\"line_width\":{\"value\":5},\"right\":{\"value\":1257.9537592810639},\"y\":{\"field\":\"y\"}},\"id\":\"5798\",\"type\":\"HBar\"},{\"attributes\":{\"data_source\":{\"id\":\"5796\"},\"glyph\":{\"id\":\"5797\"},\"hover_glyph\":null,\"muted_glyph\":null,\"nonselection_glyph\":{\"id\":\"5798\"},\"selection_glyph\":null,\"view\":{\"id\":\"5800\"}},\"id\":\"5799\",\"type\":\"GlyphRenderer\"},{\"attributes\":{},\"id\":\"6097\",\"type\":\"UnionRenderers\"},{\"attributes\":{\"source\":{\"id\":\"5796\"}},\"id\":\"5800\",\"type\":\"CDSView\"},{\"attributes\":{\"fill_color\":{\"value\":\"red\"},\"line_color\":{\"value\":\"red\"},\"line_width\":{\"value\":5},\"right\":{\"value\":1257.9537592810639},\"y\":{\"field\":\"y\"}},\"id\":\"5797\",\"type\":\"HBar\"},{\"attributes\":{\"data\":{\"y\":[\"District of Columbia\"]},\"selected\":{\"id\":\"6148\"},\"selection_policy\":{\"id\":\"6149\"}},\"id\":\"5801\",\"type\":\"ColumnDataSource\"},{\"attributes\":{\"fill_alpha\":{\"value\":0.1},\"fill_color\":{\"value\":\"blue\"},\"line_alpha\":{\"value\":0.1},\"line_color\":{\"value\":\"blue\"},\"line_width\":{\"value\":5},\"right\":{\"value\":1312.0812073414202},\"y\":{\"field\":\"y\"}},\"id\":\"5803\",\"type\":\"HBar\"},{\"attributes\":{\"data_source\":{\"id\":\"5801\"},\"glyph\":{\"id\":\"5802\"},\"hover_glyph\":null,\"muted_glyph\":null,\"nonselection_glyph\":{\"id\":\"5803\"},\"selection_glyph\":null,\"view\":{\"id\":\"5805\"}},\"id\":\"5804\",\"type\":\"GlyphRenderer\"},{\"attributes\":{\"source\":{\"id\":\"5801\"}},\"id\":\"5805\",\"type\":\"CDSView\"},{\"attributes\":{\"fill_color\":{\"value\":\"blue\"},\"line_color\":{\"value\":\"blue\"},\"line_width\":{\"value\":5},\"right\":{\"value\":1312.0812073414202},\"y\":{\"field\":\"y\"}},\"id\":\"5802\",\"type\":\"HBar\"},{\"attributes\":{},\"id\":\"6096\",\"type\":\"Selection\"},{\"attributes\":{\"data\":{\"y\":[\"Texas\"]},\"selected\":{\"id\":\"6150\"},\"selection_policy\":{\"id\":\"6151\"}},\"id\":\"5806\",\"type\":\"ColumnDataSource\"},{\"attributes\":{\"fill_alpha\":{\"value\":0.1},\"fill_color\":{\"value\":\"red\"},\"line_alpha\":{\"value\":0.1},\"line_color\":{\"value\":\"red\"},\"line_width\":{\"value\":5},\"right\":{\"value\":1317.5319625570264},\"y\":{\"field\":\"y\"}},\"id\":\"5808\",\"type\":\"HBar\"},{\"attributes\":{\"text\":\"Misleading Graph: Deaths/million per state\"},\"id\":\"5640\",\"type\":\"Title\"},{\"attributes\":{\"fill_color\":{\"value\":\"red\"},\"line_color\":{\"value\":\"red\"},\"line_width\":{\"value\":5},\"right\":{\"value\":1317.5319625570264},\"y\":{\"field\":\"y\"}},\"id\":\"5807\",\"type\":\"HBar\"},{\"attributes\":{\"source\":{\"id\":\"5806\"}},\"id\":\"5810\",\"type\":\"CDSView\"},{\"attributes\":{\"data_source\":{\"id\":\"5806\"},\"glyph\":{\"id\":\"5807\"},\"hover_glyph\":null,\"muted_glyph\":null,\"nonselection_glyph\":{\"id\":\"5808\"},\"selection_glyph\":null,\"view\":{\"id\":\"5810\"}},\"id\":\"5809\",\"type\":\"GlyphRenderer\"},{\"attributes\":{\"data_source\":{\"id\":\"5736\"},\"glyph\":{\"id\":\"5737\"},\"hover_glyph\":null,\"muted_glyph\":null,\"nonselection_glyph\":{\"id\":\"5738\"},\"selection_glyph\":null,\"view\":{\"id\":\"5740\"}},\"id\":\"5739\",\"type\":\"GlyphRenderer\"},{\"attributes\":{\"data\":{\"y\":[\"Rhode Island\"]},\"selected\":{\"id\":\"6190\"},\"selection_policy\":{\"id\":\"6191\"}},\"id\":\"5906\",\"type\":\"ColumnDataSource\"},{\"attributes\":{\"source\":{\"id\":\"5736\"}},\"id\":\"5740\",\"type\":\"CDSView\"},{\"attributes\":{\"data\":{\"y\":[\"Colorado\"]},\"selected\":{\"id\":\"6124\"},\"selection_policy\":{\"id\":\"6125\"}},\"id\":\"5741\",\"type\":\"ColumnDataSource\"},{\"attributes\":{\"fill_alpha\":{\"value\":0.1},\"fill_color\":{\"value\":\"blue\"},\"line_alpha\":{\"value\":0.1},\"line_color\":{\"value\":\"blue\"},\"line_width\":{\"value\":5},\"right\":{\"value\":1000.0458433934112},\"y\":{\"field\":\"y\"}},\"id\":\"5743\",\"type\":\"HBar\"},{\"attributes\":{\"data_source\":{\"id\":\"5741\"},\"glyph\":{\"id\":\"5742\"},\"hover_glyph\":null,\"muted_glyph\":null,\"nonselection_glyph\":{\"id\":\"5743\"},\"selection_glyph\":null,\"view\":{\"id\":\"5745\"}},\"id\":\"5744\",\"type\":\"GlyphRenderer\"},{\"attributes\":{\"source\":{\"id\":\"5741\"}},\"id\":\"5745\",\"type\":\"CDSView\"},{\"attributes\":{\"fill_color\":{\"value\":\"blue\"},\"line_color\":{\"value\":\"blue\"},\"line_width\":{\"value\":5},\"right\":{\"value\":1000.0458433934112},\"y\":{\"field\":\"y\"}},\"id\":\"5742\",\"type\":\"HBar\"},{\"attributes\":{\"data\":{\"y\":[\"Nebraska\"]},\"selected\":{\"id\":\"6126\"},\"selection_policy\":{\"id\":\"6127\"}},\"id\":\"5746\",\"type\":\"ColumnDataSource\"},{\"attributes\":{\"fill_alpha\":{\"value\":0.1},\"fill_color\":{\"value\":\"red\"},\"line_alpha\":{\"value\":0.1},\"line_color\":{\"value\":\"red\"},\"line_width\":{\"value\":5},\"right\":{\"value\":1048.3827610307649},\"y\":{\"field\":\"y\"}},\"id\":\"5748\",\"type\":\"HBar\"},{\"attributes\":{\"data_source\":{\"id\":\"5746\"},\"glyph\":{\"id\":\"5747\"},\"hover_glyph\":null,\"muted_glyph\":null,\"nonselection_glyph\":{\"id\":\"5748\"},\"selection_glyph\":null,\"view\":{\"id\":\"5750\"}},\"id\":\"5749\",\"type\":\"GlyphRenderer\"},{\"attributes\":{\"source\":{\"id\":\"5746\"}},\"id\":\"5750\",\"type\":\"CDSView\"},{\"attributes\":{\"fill_color\":{\"value\":\"red\"},\"line_color\":{\"value\":\"red\"},\"line_width\":{\"value\":5},\"right\":{\"value\":1048.3827610307649},\"y\":{\"field\":\"y\"}},\"id\":\"5747\",\"type\":\"HBar\"},{\"attributes\":{\"data\":{\"y\":[\"California\"]},\"selected\":{\"id\":\"6128\"},\"selection_policy\":{\"id\":\"6129\"}},\"id\":\"5751\",\"type\":\"ColumnDataSource\"},{\"attributes\":{\"fill_alpha\":{\"value\":0.1},\"fill_color\":{\"value\":\"blue\"},\"line_alpha\":{\"value\":0.1},\"line_color\":{\"value\":\"blue\"},\"line_width\":{\"value\":5},\"right\":{\"value\":1073.9461558515702},\"y\":{\"field\":\"y\"}},\"id\":\"5753\",\"type\":\"HBar\"},{\"attributes\":{},\"id\":\"6098\",\"type\":\"Selection\"},{\"attributes\":{\"data_source\":{\"id\":\"5751\"},\"glyph\":{\"id\":\"5752\"},\"hover_glyph\":null,\"muted_glyph\":null,\"nonselection_glyph\":{\"id\":\"5753\"},\"selection_glyph\":null,\"view\":{\"id\":\"5755\"}},\"id\":\"5754\",\"type\":\"GlyphRenderer\"},{\"attributes\":{\"source\":{\"id\":\"5751\"}},\"id\":\"5755\",\"type\":\"CDSView\"},{\"attributes\":{\"fill_color\":{\"value\":\"blue\"},\"line_color\":{\"value\":\"blue\"},\"line_width\":{\"value\":5},\"right\":{\"value\":1073.9461558515702},\"y\":{\"field\":\"y\"}},\"id\":\"5752\",\"type\":\"HBar\"},{\"attributes\":{},\"id\":\"5642\",\"type\":\"DataRange1d\"},{\"attributes\":{\"data\":{\"y\":[\"Wyoming\"]},\"selected\":{\"id\":\"6130\"},\"selection_policy\":{\"id\":\"6131\"}},\"id\":\"5756\",\"type\":\"ColumnDataSource\"},{\"attributes\":{\"fill_alpha\":{\"value\":0.1},\"fill_color\":{\"value\":\"red\"},\"line_alpha\":{\"value\":0.1},\"line_color\":{\"value\":\"red\"},\"line_width\":{\"value\":5},\"right\":{\"value\":1078.168978797738},\"y\":{\"field\":\"y\"}},\"id\":\"5758\",\"type\":\"HBar\"},{\"attributes\":{\"factors\":[\"Vermont\",\"Hawaii\",\"Alaska\",\"Maine\",\"Oregon\",\"Utah\",\"Washington\",\"Virginia\",\"New Hampshire\",\"Kentucky\",\"North Carolina\",\"Oklahoma\",\"Ohio\",\"Idaho\",\"Colorado\",\"Nebraska\",\"California\",\"Wyoming\",\"Wisconsin\",\"Minnesota\",\"West Virginia\",\"Delaware\",\"Maryland\",\"Montana\",\"Missouri\",\"Florida\",\"District of Columbia\",\"Texas\",\"Georgia\",\"Kansas\",\"Nevada\",\"South Carolina\",\"Tennessee\",\"Indiana\",\"Michigan\",\"Iowa\",\"New Mexico\",\"Arkansas\",\"Alabama\",\"Illinois\",\"Pennsylvania\",\"Arizona\",\"North Dakota\",\"Louisiana\",\"Connecticut\",\"South Dakota\",\"Mississippi\",\"Rhode Island\",\"Massachusetts\",\"New York\",\"New Jersey\"]},\"id\":\"5644\",\"type\":\"FactorRange\"},{\"attributes\":{\"data_source\":{\"id\":\"5756\"},\"glyph\":{\"id\":\"5757\"},\"hover_glyph\":null,\"muted_glyph\":null,\"nonselection_glyph\":{\"id\":\"5758\"},\"selection_glyph\":null,\"view\":{\"id\":\"5760\"}},\"id\":\"5759\",\"type\":\"GlyphRenderer\"},{\"attributes\":{},\"id\":\"5646\",\"type\":\"LinearScale\"},{\"attributes\":{\"source\":{\"id\":\"5756\"}},\"id\":\"5760\",\"type\":\"CDSView\"},{\"attributes\":{\"fill_color\":{\"value\":\"red\"},\"line_color\":{\"value\":\"red\"},\"line_width\":{\"value\":5},\"right\":{\"value\":1078.168978797738},\"y\":{\"field\":\"y\"}},\"id\":\"5757\",\"type\":\"HBar\"},{\"attributes\":{},\"id\":\"5648\",\"type\":\"CategoricalScale\"},{\"attributes\":{\"data\":{\"y\":[\"Wisconsin\"]},\"selected\":{\"id\":\"6132\"},\"selection_policy\":{\"id\":\"6133\"}},\"id\":\"5761\",\"type\":\"ColumnDataSource\"},{\"attributes\":{\"axis_label\":\"Deaths per Million\",\"formatter\":{\"id\":\"6093\"},\"ticker\":{\"id\":\"5651\"}},\"id\":\"5650\",\"type\":\"LinearAxis\"},{\"attributes\":{},\"id\":\"5651\",\"type\":\"BasicTicker\"},{\"attributes\":{\"fill_alpha\":{\"value\":0.1},\"fill_color\":{\"value\":\"blue\"},\"line_alpha\":{\"value\":0.1},\"line_color\":{\"value\":\"blue\"},\"line_width\":{\"value\":5},\"right\":{\"value\":1116.3716067885011},\"y\":{\"field\":\"y\"}},\"id\":\"5763\",\"type\":\"HBar\"},{\"attributes\":{\"axis\":{\"id\":\"5650\"},\"grid_line_color\":null,\"ticker\":null},\"id\":\"5653\",\"type\":\"Grid\"},{\"attributes\":{\"data_source\":{\"id\":\"5761\"},\"glyph\":{\"id\":\"5762\"},\"hover_glyph\":null,\"muted_glyph\":null,\"nonselection_glyph\":{\"id\":\"5763\"},\"selection_glyph\":null,\"view\":{\"id\":\"5765\"}},\"id\":\"5764\",\"type\":\"GlyphRenderer\"},{\"attributes\":{\"formatter\":{\"id\":\"6095\"},\"ticker\":{\"id\":\"5655\"}},\"id\":\"5654\",\"type\":\"CategoricalAxis\"},{\"attributes\":{\"source\":{\"id\":\"5761\"}},\"id\":\"5765\",\"type\":\"CDSView\"},{\"attributes\":{\"fill_color\":{\"value\":\"blue\"},\"line_color\":{\"value\":\"blue\"},\"line_width\":{\"value\":5},\"right\":{\"value\":1116.3716067885011},\"y\":{\"field\":\"y\"}},\"id\":\"5762\",\"type\":\"HBar\"},{\"attributes\":{},\"id\":\"5655\",\"type\":\"CategoricalTicker\"},{\"attributes\":{\"data\":{\"y\":[\"Minnesota\"]},\"selected\":{\"id\":\"6134\"},\"selection_policy\":{\"id\":\"6135\"}},\"id\":\"5766\",\"type\":\"ColumnDataSource\"},{\"attributes\":{\"axis\":{\"id\":\"5654\"},\"dimension\":1,\"ticker\":null},\"id\":\"5656\",\"type\":\"Grid\"},{\"attributes\":{\"fill_color\":{\"value\":\"blue\"},\"line_color\":{\"value\":\"blue\"},\"line_width\":{\"value\":5},\"right\":{\"value\":286.86403125696125},\"y\":{\"field\":\"y\"}},\"id\":\"5672\",\"type\":\"HBar\"},{\"attributes\":{\"fill_alpha\":{\"value\":0.1},\"fill_color\":{\"value\":\"blue\"},\"line_alpha\":{\"value\":0.1},\"line_color\":{\"value\":\"blue\"},\"line_width\":{\"value\":5},\"right\":{\"value\":1117.448798077605},\"y\":{\"field\":\"y\"}},\"id\":\"5768\",\"type\":\"HBar\"},{\"attributes\":{\"data_source\":{\"id\":\"5766\"},\"glyph\":{\"id\":\"5767\"},\"hover_glyph\":null,\"muted_glyph\":null,\"nonselection_glyph\":{\"id\":\"5768\"},\"selection_glyph\":null,\"view\":{\"id\":\"5770\"}},\"id\":\"5769\",\"type\":\"GlyphRenderer\"},{\"attributes\":{\"data\":{\"y\":[\"Vermont\"]},\"selected\":{\"id\":\"6096\"},\"selection_policy\":{\"id\":\"6097\"}},\"id\":\"5671\",\"type\":\"ColumnDataSource\"},{\"attributes\":{\"source\":{\"id\":\"5766\"}},\"id\":\"5770\",\"type\":\"CDSView\"},{\"attributes\":{\"fill_color\":{\"value\":\"blue\"},\"line_color\":{\"value\":\"blue\"},\"line_width\":{\"value\":5},\"right\":{\"value\":1117.448798077605},\"y\":{\"field\":\"y\"}},\"id\":\"5767\",\"type\":\"HBar\"},{\"attributes\":{},\"id\":\"5657\",\"type\":\"PanTool\"},{\"attributes\":{\"data\":{\"y\":[\"West Virginia\"]},\"selected\":{\"id\":\"6136\"},\"selection_policy\":{\"id\":\"6137\"}},\"id\":\"5771\",\"type\":\"ColumnDataSource\"},{\"attributes\":{},\"id\":\"5658\",\"type\":\"WheelZoomTool\"},{\"attributes\":{\"overlay\":{\"id\":\"5663\"}},\"id\":\"5659\",\"type\":\"BoxZoomTool\"},{\"attributes\":{\"fill_alpha\":{\"value\":0.1},\"fill_color\":{\"value\":\"red\"},\"line_alpha\":{\"value\":0.1},\"line_color\":{\"value\":\"red\"},\"line_width\":{\"value\":5},\"right\":{\"value\":1148.3432999636748},\"y\":{\"field\":\"y\"}},\"id\":\"5773\",\"type\":\"HBar\"},{\"attributes\":{},\"id\":\"5660\",\"type\":\"SaveTool\"},{\"attributes\":{\"fill_color\":{\"value\":\"red\"},\"line_color\":{\"value\":\"red\"},\"line_width\":{\"value\":5},\"right\":{\"value\":1148.3432999636748},\"y\":{\"field\":\"y\"}},\"id\":\"5772\",\"type\":\"HBar\"},{\"attributes\":{},\"id\":\"5661\",\"type\":\"ResetTool\"},{\"attributes\":{\"data_source\":{\"id\":\"5771\"},\"glyph\":{\"id\":\"5772\"},\"hover_glyph\":null,\"muted_glyph\":null,\"nonselection_glyph\":{\"id\":\"5773\"},\"selection_glyph\":null,\"view\":{\"id\":\"5775\"}},\"id\":\"5774\",\"type\":\"GlyphRenderer\"},{\"attributes\":{},\"id\":\"6129\",\"type\":\"UnionRenderers\"},{\"attributes\":{\"source\":{\"id\":\"5696\"}},\"id\":\"5700\",\"type\":\"CDSView\"},{\"attributes\":{},\"id\":\"6130\",\"type\":\"Selection\"},{\"attributes\":{\"data\":{\"y\":[\"Washington\"]},\"selected\":{\"id\":\"6108\"},\"selection_policy\":{\"id\":\"6109\"}},\"id\":\"5701\",\"type\":\"ColumnDataSource\"},{\"attributes\":{},\"id\":\"6131\",\"type\":\"UnionRenderers\"},{\"attributes\":{},\"id\":\"6132\",\"type\":\"Selection\"},{\"attributes\":{\"fill_alpha\":{\"value\":0.1},\"fill_color\":{\"value\":\"blue\"},\"line_alpha\":{\"value\":0.1},\"line_color\":{\"value\":\"blue\"},\"line_width\":{\"value\":5},\"right\":{\"value\":586.4823051354759},\"y\":{\"field\":\"y\"}},\"id\":\"5703\",\"type\":\"HBar\"},{\"attributes\":{},\"id\":\"6133\",\"type\":\"UnionRenderers\"},{\"attributes\":{\"data_source\":{\"id\":\"5701\"},\"glyph\":{\"id\":\"5702\"},\"hover_glyph\":null,\"muted_glyph\":null,\"nonselection_glyph\":{\"id\":\"5703\"},\"selection_glyph\":null,\"view\":{\"id\":\"5705\"}},\"id\":\"5704\",\"type\":\"GlyphRenderer\"},{\"attributes\":{},\"id\":\"6134\",\"type\":\"Selection\"},{\"attributes\":{\"source\":{\"id\":\"5701\"}},\"id\":\"5705\",\"type\":\"CDSView\"},{\"attributes\":{\"fill_color\":{\"value\":\"blue\"},\"line_color\":{\"value\":\"blue\"},\"line_width\":{\"value\":5},\"right\":{\"value\":586.4823051354759},\"y\":{\"field\":\"y\"}},\"id\":\"5702\",\"type\":\"HBar\"},{\"attributes\":{},\"id\":\"6135\",\"type\":\"UnionRenderers\"},{\"attributes\":{\"data\":{\"y\":[\"Virginia\"]},\"selected\":{\"id\":\"6110\"},\"selection_policy\":{\"id\":\"6111\"}},\"id\":\"5706\",\"type\":\"ColumnDataSource\"},{\"attributes\":{},\"id\":\"6136\",\"type\":\"Selection\"},{\"attributes\":{},\"id\":\"6137\",\"type\":\"UnionRenderers\"},{\"attributes\":{\"fill_alpha\":{\"value\":0.1},\"fill_color\":{\"value\":\"blue\"},\"line_alpha\":{\"value\":0.1},\"line_color\":{\"value\":\"blue\"},\"line_width\":{\"value\":5},\"right\":{\"value\":770.3105107023955},\"y\":{\"field\":\"y\"}},\"id\":\"5708\",\"type\":\"HBar\"},{\"attributes\":{},\"id\":\"6138\",\"type\":\"Selection\"},{\"attributes\":{\"data_source\":{\"id\":\"5706\"},\"glyph\":{\"id\":\"5707\"},\"hover_glyph\":null,\"muted_glyph\":null,\"nonselection_glyph\":{\"id\":\"5708\"},\"selection_glyph\":null,\"view\":{\"id\":\"5710\"}},\"id\":\"5709\",\"type\":\"GlyphRenderer\"},{\"attributes\":{},\"id\":\"6139\",\"type\":\"UnionRenderers\"},{\"attributes\":{\"source\":{\"id\":\"5706\"}},\"id\":\"5710\",\"type\":\"CDSView\"},{\"attributes\":{\"fill_color\":{\"value\":\"blue\"},\"line_color\":{\"value\":\"blue\"},\"line_width\":{\"value\":5},\"right\":{\"value\":770.3105107023955},\"y\":{\"field\":\"y\"}},\"id\":\"5707\",\"type\":\"HBar\"},{\"attributes\":{},\"id\":\"6140\",\"type\":\"Selection\"},{\"attributes\":{\"data\":{\"y\":[\"New Hampshire\"]},\"selected\":{\"id\":\"6112\"},\"selection_policy\":{\"id\":\"6113\"}},\"id\":\"5711\",\"type\":\"ColumnDataSource\"},{\"attributes\":{},\"id\":\"6141\",\"type\":\"UnionRenderers\"},{\"attributes\":{},\"id\":\"6142\",\"type\":\"Selection\"},{\"attributes\":{\"fill_alpha\":{\"value\":0.1},\"fill_color\":{\"value\":\"blue\"},\"line_alpha\":{\"value\":0.1},\"line_color\":{\"value\":\"blue\"},\"line_width\":{\"value\":5},\"right\":{\"value\":791.3446313223914},\"y\":{\"field\":\"y\"}},\"id\":\"5713\",\"type\":\"HBar\"},{\"attributes\":{},\"id\":\"6143\",\"type\":\"UnionRenderers\"},{\"attributes\":{\"data_source\":{\"id\":\"5711\"},\"glyph\":{\"id\":\"5712\"},\"hover_glyph\":null,\"muted_glyph\":null,\"nonselection_glyph\":{\"id\":\"5713\"},\"selection_glyph\":null,\"view\":{\"id\":\"5715\"}},\"id\":\"5714\",\"type\":\"GlyphRenderer\"},{\"attributes\":{},\"id\":\"6144\",\"type\":\"Selection\"},{\"attributes\":{\"source\":{\"id\":\"5711\"}},\"id\":\"5715\",\"type\":\"CDSView\"},{\"attributes\":{\"fill_color\":{\"value\":\"blue\"},\"line_color\":{\"value\":\"blue\"},\"line_width\":{\"value\":5},\"right\":{\"value\":791.3446313223914},\"y\":{\"field\":\"y\"}},\"id\":\"5712\",\"type\":\"HBar\"},{\"attributes\":{},\"id\":\"6145\",\"type\":\"UnionRenderers\"},{\"attributes\":{\"data\":{\"y\":[\"Kentucky\"]},\"selected\":{\"id\":\"6114\"},\"selection_policy\":{\"id\":\"6115\"}},\"id\":\"5716\",\"type\":\"ColumnDataSource\"},{\"attributes\":{},\"id\":\"6146\",\"type\":\"Selection\"},{\"attributes\":{},\"id\":\"6147\",\"type\":\"UnionRenderers\"},{\"attributes\":{\"fill_alpha\":{\"value\":0.1},\"fill_color\":{\"value\":\"red\"},\"line_alpha\":{\"value\":0.1},\"line_color\":{\"value\":\"red\"},\"line_width\":{\"value\":5},\"right\":{\"value\":910.3172949318359},\"y\":{\"field\":\"y\"}},\"id\":\"5718\",\"type\":\"HBar\"},{\"attributes\":{},\"id\":\"6148\",\"type\":\"Selection\"},{\"attributes\":{\"data_source\":{\"id\":\"5716\"},\"glyph\":{\"id\":\"5717\"},\"hover_glyph\":null,\"muted_glyph\":null,\"nonselection_glyph\":{\"id\":\"5718\"},\"selection_glyph\":null,\"view\":{\"id\":\"5720\"}},\"id\":\"5719\",\"type\":\"GlyphRenderer\"},{\"attributes\":{},\"id\":\"6149\",\"type\":\"UnionRenderers\"},{\"attributes\":{\"source\":{\"id\":\"5716\"}},\"id\":\"5720\",\"type\":\"CDSView\"},{\"attributes\":{\"fill_color\":{\"value\":\"red\"},\"line_color\":{\"value\":\"red\"},\"line_width\":{\"value\":5},\"right\":{\"value\":910.3172949318359},\"y\":{\"field\":\"y\"}},\"id\":\"5717\",\"type\":\"HBar\"},{\"attributes\":{},\"id\":\"6150\",\"type\":\"Selection\"},{\"attributes\":{\"data\":{\"y\":[\"North Carolina\"]},\"selected\":{\"id\":\"6116\"},\"selection_policy\":{\"id\":\"6117\"}},\"id\":\"5721\",\"type\":\"ColumnDataSource\"},{\"attributes\":{},\"id\":\"6151\",\"type\":\"UnionRenderers\"},{\"attributes\":{},\"id\":\"6152\",\"type\":\"Selection\"},{\"attributes\":{\"fill_alpha\":{\"value\":0.1},\"fill_color\":{\"value\":\"red\"},\"line_alpha\":{\"value\":0.1},\"line_color\":{\"value\":\"red\"},\"line_width\":{\"value\":5},\"right\":{\"value\":917.7081342979327},\"y\":{\"field\":\"y\"}},\"id\":\"5723\",\"type\":\"HBar\"},{\"attributes\":{},\"id\":\"6153\",\"type\":\"UnionRenderers\"},{\"attributes\":{\"data_source\":{\"id\":\"5721\"},\"glyph\":{\"id\":\"5722\"},\"hover_glyph\":null,\"muted_glyph\":null,\"nonselection_glyph\":{\"id\":\"5723\"},\"selection_glyph\":null,\"view\":{\"id\":\"5725\"}},\"id\":\"5724\",\"type\":\"GlyphRenderer\"},{\"attributes\":{},\"id\":\"6154\",\"type\":\"Selection\"},{\"attributes\":{\"source\":{\"id\":\"5721\"}},\"id\":\"5725\",\"type\":\"CDSView\"},{\"attributes\":{\"fill_color\":{\"value\":\"red\"},\"line_color\":{\"value\":\"red\"},\"line_width\":{\"value\":5},\"right\":{\"value\":917.7081342979327},\"y\":{\"field\":\"y\"}},\"id\":\"5722\",\"type\":\"HBar\"},{\"attributes\":{},\"id\":\"6155\",\"type\":\"UnionRenderers\"},{\"attributes\":{\"data\":{\"y\":[\"Oklahoma\"]},\"selected\":{\"id\":\"6118\"},\"selection_policy\":{\"id\":\"6119\"}},\"id\":\"5726\",\"type\":\"ColumnDataSource\"},{\"attributes\":{},\"id\":\"6156\",\"type\":\"Selection\"},{\"attributes\":{\"data_source\":{\"id\":\"5731\"},\"glyph\":{\"id\":\"5732\"},\"hover_glyph\":null,\"muted_glyph\":null,\"nonselection_glyph\":{\"id\":\"5733\"},\"selection_glyph\":null,\"view\":{\"id\":\"5735\"}},\"id\":\"5734\",\"type\":\"GlyphRenderer\"},{\"attributes\":{},\"id\":\"6157\",\"type\":\"UnionRenderers\"},{\"attributes\":{\"fill_alpha\":{\"value\":0.1},\"fill_color\":{\"value\":\"red\"},\"line_alpha\":{\"value\":0.1},\"line_color\":{\"value\":\"red\"},\"line_width\":{\"value\":5},\"right\":{\"value\":923.4336061598632},\"y\":{\"field\":\"y\"}},\"id\":\"5728\",\"type\":\"HBar\"},{\"attributes\":{},\"id\":\"6158\",\"type\":\"Selection\"},{\"attributes\":{},\"id\":\"6159\",\"type\":\"UnionRenderers\"},{\"attributes\":{\"fill_alpha\":{\"value\":0.1},\"fill_color\":{\"value\":\"red\"},\"line_alpha\":{\"value\":0.1},\"line_color\":{\"value\":\"red\"},\"line_width\":{\"value\":5},\"right\":{\"value\":977.9196003114012},\"y\":{\"field\":\"y\"}},\"id\":\"5733\",\"type\":\"HBar\"},{\"attributes\":{\"fill_color\":{\"value\":\"red\"},\"line_color\":{\"value\":\"red\"},\"line_width\":{\"value\":5},\"right\":{\"value\":923.4336061598632},\"y\":{\"field\":\"y\"}},\"id\":\"5727\",\"type\":\"HBar\"},{\"attributes\":{},\"id\":\"6160\",\"type\":\"Selection\"},{\"attributes\":{},\"id\":\"6161\",\"type\":\"UnionRenderers\"},{\"attributes\":{\"data\":{\"y\":[\"Idaho\"]},\"selected\":{\"id\":\"6122\"},\"selection_policy\":{\"id\":\"6123\"}},\"id\":\"5736\",\"type\":\"ColumnDataSource\"},{\"attributes\":{},\"id\":\"6162\",\"type\":\"Selection\"},{\"attributes\":{\"source\":{\"id\":\"5731\"}},\"id\":\"5735\",\"type\":\"CDSView\"},{\"attributes\":{},\"id\":\"6163\",\"type\":\"UnionRenderers\"},{\"attributes\":{\"fill_alpha\":{\"value\":0.1},\"fill_color\":{\"value\":\"red\"},\"line_alpha\":{\"value\":0.1},\"line_color\":{\"value\":\"red\"},\"line_width\":{\"value\":5},\"right\":{\"value\":979.2592882743494},\"y\":{\"field\":\"y\"}},\"id\":\"5738\",\"type\":\"HBar\"},{\"attributes\":{\"fill_color\":{\"value\":\"red\"},\"line_color\":{\"value\":\"red\"},\"line_width\":{\"value\":5},\"right\":{\"value\":979.2592882743494},\"y\":{\"field\":\"y\"}},\"id\":\"5737\",\"type\":\"HBar\"},{\"attributes\":{},\"id\":\"6164\",\"type\":\"Selection\"},{\"attributes\":{\"fill_alpha\":{\"value\":0.1},\"fill_color\":{\"value\":\"red\"},\"line_alpha\":{\"value\":0.1},\"line_color\":{\"value\":\"red\"},\"line_width\":{\"value\":5},\"right\":{\"value\":1898.79563605061},\"y\":{\"field\":\"y\"}},\"id\":\"5883\",\"type\":\"HBar\"},{\"attributes\":{\"source\":{\"id\":\"5916\"}},\"id\":\"5920\",\"type\":\"CDSView\"},{\"attributes\":{},\"id\":\"6165\",\"type\":\"UnionRenderers\"},{\"attributes\":{},\"id\":\"5662\",\"type\":\"HelpTool\"},{\"attributes\":{\"data_source\":{\"id\":\"5881\"},\"glyph\":{\"id\":\"5882\"},\"hover_glyph\":null,\"muted_glyph\":null,\"nonselection_glyph\":{\"id\":\"5883\"},\"selection_glyph\":null,\"view\":{\"id\":\"5885\"}},\"id\":\"5884\",\"type\":\"GlyphRenderer\"},{\"attributes\":{\"data\":{\"y\":[\"New Jersey\"]},\"selected\":{\"id\":\"6196\"},\"selection_policy\":{\"id\":\"6197\"}},\"id\":\"5921\",\"type\":\"ColumnDataSource\"},{\"attributes\":{},\"id\":\"6166\",\"type\":\"Selection\"},{\"attributes\":{\"fill_color\":{\"value\":\"red\"},\"line_color\":{\"value\":\"red\"},\"line_width\":{\"value\":5},\"right\":{\"value\":977.9196003114012},\"y\":{\"field\":\"y\"}},\"id\":\"5732\",\"type\":\"HBar\"},{\"attributes\":{\"active_drag\":\"auto\",\"active_inspect\":\"auto\",\"active_multi\":null,\"active_scroll\":\"auto\",\"active_tap\":\"auto\",\"tools\":[{\"id\":\"5657\"},{\"id\":\"5658\"},{\"id\":\"5659\"},{\"id\":\"5660\"},{\"id\":\"5661\"},{\"id\":\"5662\"}]},\"id\":\"5664\",\"type\":\"Toolbar\"},{\"attributes\":{\"source\":{\"id\":\"5881\"}},\"id\":\"5885\",\"type\":\"CDSView\"},{\"attributes\":{},\"id\":\"6167\",\"type\":\"UnionRenderers\"},{\"attributes\":{\"data\":{\"y\":[\"Louisiana\"]},\"selected\":{\"id\":\"6182\"},\"selection_policy\":{\"id\":\"6183\"}},\"id\":\"5886\",\"type\":\"ColumnDataSource\"},{\"attributes\":{\"fill_alpha\":{\"value\":0.1},\"fill_color\":{\"value\":\"blue\"},\"line_alpha\":{\"value\":0.1},\"line_color\":{\"value\":\"blue\"},\"line_width\":{\"value\":5},\"right\":{\"value\":2442.303080659162},\"y\":{\"field\":\"y\"}},\"id\":\"5923\",\"type\":\"HBar\"},{\"attributes\":{},\"id\":\"6168\",\"type\":\"Selection\"},{\"attributes\":{\"source\":{\"id\":\"5726\"}},\"id\":\"5730\",\"type\":\"CDSView\"},{\"attributes\":{\"data_source\":{\"id\":\"5921\"},\"glyph\":{\"id\":\"5922\"},\"hover_glyph\":null,\"muted_glyph\":null,\"nonselection_glyph\":{\"id\":\"5923\"},\"selection_glyph\":null,\"view\":{\"id\":\"5925\"}},\"id\":\"5924\",\"type\":\"GlyphRenderer\"},{\"attributes\":{},\"id\":\"6169\",\"type\":\"UnionRenderers\"},{\"attributes\":{\"fill_alpha\":{\"value\":0.1},\"fill_color\":{\"value\":\"red\"},\"line_alpha\":{\"value\":0.1},\"line_color\":{\"value\":\"red\"},\"line_width\":{\"value\":5},\"right\":{\"value\":1937.2766356177538},\"y\":{\"field\":\"y\"}},\"id\":\"5888\",\"type\":\"HBar\"},{\"attributes\":{\"source\":{\"id\":\"5921\"}},\"id\":\"5925\",\"type\":\"CDSView\"},{\"attributes\":{},\"id\":\"6170\",\"type\":\"Selection\"},{\"attributes\":{\"fill_color\":{\"value\":\"blue\"},\"line_color\":{\"value\":\"blue\"},\"line_width\":{\"value\":5},\"right\":{\"value\":2442.303080659162},\"y\":{\"field\":\"y\"}},\"id\":\"5922\",\"type\":\"HBar\"},{\"attributes\":{\"data_source\":{\"id\":\"5886\"},\"glyph\":{\"id\":\"5887\"},\"hover_glyph\":null,\"muted_glyph\":null,\"nonselection_glyph\":{\"id\":\"5888\"},\"selection_glyph\":null,\"view\":{\"id\":\"5890\"}},\"id\":\"5889\",\"type\":\"GlyphRenderer\"},{\"attributes\":{},\"id\":\"6171\",\"type\":\"UnionRenderers\"},{\"attributes\":{\"data\":{\"y\":[\"Ohio\"]},\"selected\":{\"id\":\"6120\"},\"selection_policy\":{\"id\":\"6121\"}},\"id\":\"5731\",\"type\":\"ColumnDataSource\"},{\"attributes\":{},\"id\":\"6099\",\"type\":\"UnionRenderers\"},{\"attributes\":{\"source\":{\"id\":\"5886\"}},\"id\":\"5890\",\"type\":\"CDSView\"},{\"attributes\":{},\"id\":\"6100\",\"type\":\"Selection\"},{\"attributes\":{},\"id\":\"6172\",\"type\":\"Selection\"},{\"attributes\":{\"data_source\":{\"id\":\"5726\"},\"glyph\":{\"id\":\"5727\"},\"hover_glyph\":null,\"muted_glyph\":null,\"nonselection_glyph\":{\"id\":\"5728\"},\"selection_glyph\":null,\"view\":{\"id\":\"5730\"}},\"id\":\"5729\",\"type\":\"GlyphRenderer\"},{\"attributes\":{\"fill_color\":{\"value\":\"red\"},\"line_color\":{\"value\":\"red\"},\"line_width\":{\"value\":5},\"right\":{\"value\":1937.2766356177538},\"y\":{\"field\":\"y\"}},\"id\":\"5887\",\"type\":\"HBar\"},{\"attributes\":{},\"id\":\"6101\",\"type\":\"UnionRenderers\"},{\"attributes\":{},\"id\":\"6173\",\"type\":\"UnionRenderers\"},{\"attributes\":{\"data\":{\"y\":[\"Connecticut\"]},\"selected\":{\"id\":\"6184\"},\"selection_policy\":{\"id\":\"6185\"}},\"id\":\"5891\",\"type\":\"ColumnDataSource\"},{\"attributes\":{\"bottom_units\":\"screen\",\"fill_alpha\":0.5,\"fill_color\":\"lightgrey\",\"left_units\":\"screen\",\"level\":\"overlay\",\"line_alpha\":1.0,\"line_color\":\"black\",\"line_dash\":[4,4],\"line_width\":2,\"render_mode\":\"css\",\"right_units\":\"screen\",\"top_units\":\"screen\"},\"id\":\"5663\",\"type\":\"BoxAnnotation\"},{\"attributes\":{},\"id\":\"6102\",\"type\":\"Selection\"},{\"attributes\":{},\"id\":\"6174\",\"type\":\"Selection\"},{\"attributes\":{\"data_source\":{\"id\":\"5671\"},\"glyph\":{\"id\":\"5672\"},\"hover_glyph\":null,\"muted_glyph\":null,\"nonselection_glyph\":{\"id\":\"5673\"},\"selection_glyph\":null,\"view\":{\"id\":\"5675\"}},\"id\":\"5674\",\"type\":\"GlyphRenderer\"},{\"attributes\":{\"fill_alpha\":{\"value\":0.1},\"fill_color\":{\"value\":\"blue\"},\"line_alpha\":{\"value\":0.1},\"line_color\":{\"value\":\"blue\"},\"line_width\":{\"value\":5},\"right\":{\"value\":2007.4120260164186},\"y\":{\"field\":\"y\"}},\"id\":\"5893\",\"type\":\"HBar\"},{\"attributes\":{},\"id\":\"6103\",\"type\":\"UnionRenderers\"},{\"attributes\":{},\"id\":\"6175\",\"type\":\"UnionRenderers\"},{\"attributes\":{\"source\":{\"id\":\"5671\"}},\"id\":\"5675\",\"type\":\"CDSView\"},{\"attributes\":{\"data_source\":{\"id\":\"5891\"},\"glyph\":{\"id\":\"5892\"},\"hover_glyph\":null,\"muted_glyph\":null,\"nonselection_glyph\":{\"id\":\"5893\"},\"selection_glyph\":null,\"view\":{\"id\":\"5895\"}},\"id\":\"5894\",\"type\":\"GlyphRenderer\"},{\"attributes\":{},\"id\":\"6104\",\"type\":\"Selection\"},{\"attributes\":{},\"id\":\"6176\",\"type\":\"Selection\"},{\"attributes\":{\"data\":{\"y\":[\"Hawaii\"]},\"selected\":{\"id\":\"6098\"},\"selection_policy\":{\"id\":\"6099\"}},\"id\":\"5676\",\"type\":\"ColumnDataSource\"},{\"attributes\":{\"source\":{\"id\":\"5891\"}},\"id\":\"5895\",\"type\":\"CDSView\"},{\"attributes\":{},\"id\":\"6105\",\"type\":\"UnionRenderers\"},{\"attributes\":{},\"id\":\"6177\",\"type\":\"UnionRenderers\"},{\"attributes\":{\"fill_color\":{\"value\":\"blue\"},\"line_color\":{\"value\":\"blue\"},\"line_width\":{\"value\":5},\"right\":{\"value\":2007.4120260164186},\"y\":{\"field\":\"y\"}},\"id\":\"5892\",\"type\":\"HBar\"},{\"attributes\":{\"fill_alpha\":{\"value\":0.1},\"fill_color\":{\"value\":\"blue\"},\"line_alpha\":{\"value\":0.1},\"line_color\":{\"value\":\"blue\"},\"line_width\":{\"value\":5},\"right\":{\"value\":286.86403125696125},\"y\":{\"field\":\"y\"}},\"id\":\"5673\",\"type\":\"HBar\"},{\"attributes\":{},\"id\":\"6106\",\"type\":\"Selection\"},{\"attributes\":{},\"id\":\"6178\",\"type\":\"Selection\"},{\"attributes\":{\"data\":{\"y\":[\"South Dakota\"]},\"selected\":{\"id\":\"6186\"},\"selection_policy\":{\"id\":\"6187\"}},\"id\":\"5896\",\"type\":\"ColumnDataSource\"},{\"attributes\":{},\"id\":\"6107\",\"type\":\"UnionRenderers\"},{\"attributes\":{},\"id\":\"6179\",\"type\":\"UnionRenderers\"},{\"attributes\":{\"fill_alpha\":{\"value\":0.1},\"fill_color\":{\"value\":\"blue\"},\"line_alpha\":{\"value\":0.1},\"line_color\":{\"value\":\"blue\"},\"line_width\":{\"value\":5},\"right\":{\"value\":290.28047733128415},\"y\":{\"field\":\"y\"}},\"id\":\"5678\",\"type\":\"HBar\"},{\"attributes\":{\"fill_alpha\":{\"value\":0.1},\"fill_color\":{\"value\":\"red\"},\"line_alpha\":{\"value\":0.1},\"line_color\":{\"value\":\"red\"},\"line_width\":{\"value\":5},\"right\":{\"value\":2014.3354671121865},\"y\":{\"field\":\"y\"}},\"id\":\"5898\",\"type\":\"HBar\"},{\"attributes\":{},\"id\":\"6108\",\"type\":\"Selection\"},{\"attributes\":{},\"id\":\"6180\",\"type\":\"Selection\"},{\"attributes\":{\"data_source\":{\"id\":\"5676\"},\"glyph\":{\"id\":\"5677\"},\"hover_glyph\":null,\"muted_glyph\":null,\"nonselection_glyph\":{\"id\":\"5678\"},\"selection_glyph\":null,\"view\":{\"id\":\"5680\"}},\"id\":\"5679\",\"type\":\"GlyphRenderer\"},{\"attributes\":{\"data_source\":{\"id\":\"5896\"},\"glyph\":{\"id\":\"5897\"},\"hover_glyph\":null,\"muted_glyph\":null,\"nonselection_glyph\":{\"id\":\"5898\"},\"selection_glyph\":null,\"view\":{\"id\":\"5900\"}},\"id\":\"5899\",\"type\":\"GlyphRenderer\"},{\"attributes\":{},\"id\":\"6109\",\"type\":\"UnionRenderers\"},{\"attributes\":{},\"id\":\"6181\",\"type\":\"UnionRenderers\"},{\"attributes\":{\"source\":{\"id\":\"5676\"}},\"id\":\"5680\",\"type\":\"CDSView\"},{\"attributes\":{\"fill_color\":{\"value\":\"blue\"},\"line_color\":{\"value\":\"blue\"},\"line_width\":{\"value\":5},\"right\":{\"value\":290.28047733128415},\"y\":{\"field\":\"y\"}},\"id\":\"5677\",\"type\":\"HBar\"},{\"attributes\":{\"source\":{\"id\":\"5896\"}},\"id\":\"5900\",\"type\":\"CDSView\"},{\"attributes\":{},\"id\":\"6110\",\"type\":\"Selection\"},{\"attributes\":{},\"id\":\"6182\",\"type\":\"Selection\"},{\"attributes\":{\"fill_color\":{\"value\":\"red\"},\"line_color\":{\"value\":\"red\"},\"line_width\":{\"value\":5},\"right\":{\"value\":2014.3354671121865},\"y\":{\"field\":\"y\"}},\"id\":\"5897\",\"type\":\"HBar\"},{\"attributes\":{\"data\":{\"y\":[\"Alaska\"]},\"selected\":{\"id\":\"6100\"},\"selection_policy\":{\"id\":\"6101\"}},\"id\":\"5681\",\"type\":\"ColumnDataSource\"},{\"attributes\":{},\"id\":\"6111\",\"type\":\"UnionRenderers\"},{\"attributes\":{},\"id\":\"6183\",\"type\":\"UnionRenderers\"},{\"attributes\":{\"data\":{\"y\":[\"Mississippi\"]},\"selected\":{\"id\":\"6188\"},\"selection_policy\":{\"id\":\"6189\"}},\"id\":\"5901\",\"type\":\"ColumnDataSource\"},{\"attributes\":{},\"id\":\"6112\",\"type\":\"Selection\"},{\"attributes\":{},\"id\":\"6184\",\"type\":\"Selection\"},{\"attributes\":{\"fill_alpha\":{\"value\":0.1},\"fill_color\":{\"value\":\"red\"},\"line_alpha\":{\"value\":0.1},\"line_color\":{\"value\":\"red\"},\"line_width\":{\"value\":5},\"right\":{\"value\":367.7149047563718},\"y\":{\"field\":\"y\"}},\"id\":\"5683\",\"type\":\"HBar\"},{\"attributes\":{\"fill_alpha\":{\"value\":0.1},\"fill_color\":{\"value\":\"red\"},\"line_alpha\":{\"value\":0.1},\"line_color\":{\"value\":\"red\"},\"line_width\":{\"value\":5},\"right\":{\"value\":2069.1168352122154},\"y\":{\"field\":\"y\"}},\"id\":\"5903\",\"type\":\"HBar\"},{\"attributes\":{},\"id\":\"6113\",\"type\":\"UnionRenderers\"},{\"attributes\":{},\"id\":\"6185\",\"type\":\"UnionRenderers\"},{\"attributes\":{\"data_source\":{\"id\":\"5681\"},\"glyph\":{\"id\":\"5682\"},\"hover_glyph\":null,\"muted_glyph\":null,\"nonselection_glyph\":{\"id\":\"5683\"},\"selection_glyph\":null,\"view\":{\"id\":\"5685\"}},\"id\":\"5684\",\"type\":\"GlyphRenderer\"},{\"attributes\":{\"data_source\":{\"id\":\"5901\"},\"glyph\":{\"id\":\"5902\"},\"hover_glyph\":null,\"muted_glyph\":null,\"nonselection_glyph\":{\"id\":\"5903\"},\"selection_glyph\":null,\"view\":{\"id\":\"5905\"}},\"id\":\"5904\",\"type\":\"GlyphRenderer\"},{\"attributes\":{},\"id\":\"6114\",\"type\":\"Selection\"},{\"attributes\":{},\"id\":\"6186\",\"type\":\"Selection\"},{\"attributes\":{\"source\":{\"id\":\"5681\"}},\"id\":\"5685\",\"type\":\"CDSView\"},{\"attributes\":{\"fill_color\":{\"value\":\"red\"},\"line_color\":{\"value\":\"red\"},\"line_width\":{\"value\":5},\"right\":{\"value\":367.7149047563718},\"y\":{\"field\":\"y\"}},\"id\":\"5682\",\"type\":\"HBar\"},{\"attributes\":{\"source\":{\"id\":\"5901\"}},\"id\":\"5905\",\"type\":\"CDSView\"},{\"attributes\":{},\"id\":\"6115\",\"type\":\"UnionRenderers\"},{\"attributes\":{},\"id\":\"6187\",\"type\":\"UnionRenderers\"},{\"attributes\":{\"fill_color\":{\"value\":\"red\"},\"line_color\":{\"value\":\"red\"},\"line_width\":{\"value\":5},\"right\":{\"value\":2069.1168352122154},\"y\":{\"field\":\"y\"}},\"id\":\"5902\",\"type\":\"HBar\"},{\"attributes\":{\"data\":{\"y\":[\"Maine\"]},\"selected\":{\"id\":\"6102\"},\"selection_policy\":{\"id\":\"6103\"}},\"id\":\"5686\",\"type\":\"ColumnDataSource\"},{\"attributes\":{},\"id\":\"6116\",\"type\":\"Selection\"},{\"attributes\":{},\"id\":\"6188\",\"type\":\"Selection\"},{\"attributes\":{\"fill_alpha\":{\"value\":0.1},\"fill_color\":{\"value\":\"blue\"},\"line_alpha\":{\"value\":0.1},\"line_color\":{\"value\":\"blue\"},\"line_width\":{\"value\":5},\"right\":{\"value\":2074.8356792443747},\"y\":{\"field\":\"y\"}},\"id\":\"5908\",\"type\":\"HBar\"},{\"attributes\":{},\"id\":\"6117\",\"type\":\"UnionRenderers\"},{\"attributes\":{},\"id\":\"6189\",\"type\":\"UnionRenderers\"},{\"attributes\":{\"fill_alpha\":{\"value\":0.1},\"fill_color\":{\"value\":\"blue\"},\"line_alpha\":{\"value\":0.1},\"line_color\":{\"value\":\"blue\"},\"line_width\":{\"value\":5},\"right\":{\"value\":466.4442811104201},\"y\":{\"field\":\"y\"}},\"id\":\"5688\",\"type\":\"HBar\"},{\"attributes\":{\"data_source\":{\"id\":\"5906\"},\"glyph\":{\"id\":\"5907\"},\"hover_glyph\":null,\"muted_glyph\":null,\"nonselection_glyph\":{\"id\":\"5908\"},\"selection_glyph\":null,\"view\":{\"id\":\"5910\"}},\"id\":\"5909\",\"type\":\"GlyphRenderer\"},{\"attributes\":{},\"id\":\"6118\",\"type\":\"Selection\"},{\"attributes\":{},\"id\":\"6190\",\"type\":\"Selection\"},{\"attributes\":{\"data_source\":{\"id\":\"5686\"},\"glyph\":{\"id\":\"5687\"},\"hover_glyph\":null,\"muted_glyph\":null,\"nonselection_glyph\":{\"id\":\"5688\"},\"selection_glyph\":null,\"view\":{\"id\":\"5690\"}},\"id\":\"5689\",\"type\":\"GlyphRenderer\"},{\"attributes\":{\"source\":{\"id\":\"5906\"}},\"id\":\"5910\",\"type\":\"CDSView\"},{\"attributes\":{},\"id\":\"6119\",\"type\":\"UnionRenderers\"},{\"attributes\":{},\"id\":\"6191\",\"type\":\"UnionRenderers\"},{\"attributes\":{\"source\":{\"id\":\"5686\"}},\"id\":\"5690\",\"type\":\"CDSView\"},{\"attributes\":{\"fill_color\":{\"value\":\"blue\"},\"line_color\":{\"value\":\"blue\"},\"line_width\":{\"value\":5},\"right\":{\"value\":2074.8356792443747},\"y\":{\"field\":\"y\"}},\"id\":\"5907\",\"type\":\"HBar\"},{\"attributes\":{\"fill_color\":{\"value\":\"blue\"},\"line_color\":{\"value\":\"blue\"},\"line_width\":{\"value\":5},\"right\":{\"value\":466.4442811104201},\"y\":{\"field\":\"y\"}},\"id\":\"5687\",\"type\":\"HBar\"},{\"attributes\":{},\"id\":\"6120\",\"type\":\"Selection\"},{\"attributes\":{},\"id\":\"6192\",\"type\":\"Selection\"},{\"attributes\":{\"data\":{\"y\":[\"Massachusetts\"]},\"selected\":{\"id\":\"6192\"},\"selection_policy\":{\"id\":\"6193\"}},\"id\":\"5911\",\"type\":\"ColumnDataSource\"},{\"attributes\":{\"data\":{\"y\":[\"Oregon\"]},\"selected\":{\"id\":\"6104\"},\"selection_policy\":{\"id\":\"6105\"}},\"id\":\"5691\",\"type\":\"ColumnDataSource\"},{\"attributes\":{},\"id\":\"6121\",\"type\":\"UnionRenderers\"},{\"attributes\":{},\"id\":\"6193\",\"type\":\"UnionRenderers\"},{\"attributes\":{\"fill_alpha\":{\"value\":0.1},\"fill_color\":{\"value\":\"blue\"},\"line_alpha\":{\"value\":0.1},\"line_color\":{\"value\":\"blue\"},\"line_width\":{\"value\":5},\"right\":{\"value\":2133.9127454859286},\"y\":{\"field\":\"y\"}},\"id\":\"5913\",\"type\":\"HBar\"},{\"attributes\":{},\"id\":\"6122\",\"type\":\"Selection\"},{\"attributes\":{},\"id\":\"6194\",\"type\":\"Selection\"},{\"attributes\":{\"fill_alpha\":{\"value\":0.1},\"fill_color\":{\"value\":\"blue\"},\"line_alpha\":{\"value\":0.1},\"line_color\":{\"value\":\"blue\"},\"line_width\":{\"value\":5},\"right\":{\"value\":476.79596902319895},\"y\":{\"field\":\"y\"}},\"id\":\"5693\",\"type\":\"HBar\"},{\"attributes\":{\"data_source\":{\"id\":\"5911\"},\"glyph\":{\"id\":\"5912\"},\"hover_glyph\":null,\"muted_glyph\":null,\"nonselection_glyph\":{\"id\":\"5913\"},\"selection_glyph\":null,\"view\":{\"id\":\"5915\"}},\"id\":\"5914\",\"type\":\"GlyphRenderer\"},{\"attributes\":{},\"id\":\"6123\",\"type\":\"UnionRenderers\"},{\"attributes\":{},\"id\":\"6195\",\"type\":\"UnionRenderers\"},{\"attributes\":{\"data_source\":{\"id\":\"5691\"},\"glyph\":{\"id\":\"5692\"},\"hover_glyph\":null,\"muted_glyph\":null,\"nonselection_glyph\":{\"id\":\"5693\"},\"selection_glyph\":null,\"view\":{\"id\":\"5695\"}},\"id\":\"5694\",\"type\":\"GlyphRenderer\"},{\"attributes\":{\"source\":{\"id\":\"5911\"}},\"id\":\"5915\",\"type\":\"CDSView\"},{\"attributes\":{},\"id\":\"6124\",\"type\":\"Selection\"},{\"attributes\":{},\"id\":\"6196\",\"type\":\"Selection\"},{\"attributes\":{\"source\":{\"id\":\"5691\"}},\"id\":\"5695\",\"type\":\"CDSView\"},{\"attributes\":{\"fill_color\":{\"value\":\"blue\"},\"line_color\":{\"value\":\"blue\"},\"line_width\":{\"value\":5},\"right\":{\"value\":2133.9127454859286},\"y\":{\"field\":\"y\"}},\"id\":\"5912\",\"type\":\"HBar\"},{\"attributes\":{\"fill_color\":{\"value\":\"blue\"},\"line_color\":{\"value\":\"blue\"},\"line_width\":{\"value\":5},\"right\":{\"value\":476.79596902319895},\"y\":{\"field\":\"y\"}},\"id\":\"5692\",\"type\":\"HBar\"},{\"attributes\":{},\"id\":\"6125\",\"type\":\"UnionRenderers\"},{\"attributes\":{},\"id\":\"6197\",\"type\":\"UnionRenderers\"},{\"attributes\":{\"data\":{\"y\":[\"Utah\"]},\"selected\":{\"id\":\"6106\"},\"selection_policy\":{\"id\":\"6107\"}},\"id\":\"5696\",\"type\":\"ColumnDataSource\"},{\"attributes\":{\"data\":{\"y\":[\"New York\"]},\"selected\":{\"id\":\"6194\"},\"selection_policy\":{\"id\":\"6195\"}},\"id\":\"5916\",\"type\":\"ColumnDataSource\"},{\"attributes\":{},\"id\":\"6126\",\"type\":\"Selection\"},{\"attributes\":{},\"id\":\"6127\",\"type\":\"UnionRenderers\"},{\"attributes\":{\"fill_alpha\":{\"value\":0.1},\"fill_color\":{\"value\":\"red\"},\"line_alpha\":{\"value\":0.1},\"line_color\":{\"value\":\"red\"},\"line_width\":{\"value\":5},\"right\":{\"value\":529.9507978582377},\"y\":{\"field\":\"y\"}},\"id\":\"5698\",\"type\":\"HBar\"},{\"attributes\":{\"fill_alpha\":{\"value\":0.1},\"fill_color\":{\"value\":\"blue\"},\"line_alpha\":{\"value\":0.1},\"line_color\":{\"value\":\"blue\"},\"line_width\":{\"value\":5},\"right\":{\"value\":2245.7070970194095},\"y\":{\"field\":\"y\"}},\"id\":\"5918\",\"type\":\"HBar\"},{\"attributes\":{\"fill_color\":{\"value\":\"red\"},\"line_color\":{\"value\":\"red\"},\"line_width\":{\"value\":5},\"right\":{\"value\":529.9507978582377},\"y\":{\"field\":\"y\"}},\"id\":\"5697\",\"type\":\"HBar\"},{\"attributes\":{\"fill_color\":{\"value\":\"blue\"},\"line_color\":{\"value\":\"blue\"},\"line_width\":{\"value\":5},\"right\":{\"value\":2245.7070970194095},\"y\":{\"field\":\"y\"}},\"id\":\"5917\",\"type\":\"HBar\"},{\"attributes\":{},\"id\":\"6128\",\"type\":\"Selection\"},{\"attributes\":{\"data_source\":{\"id\":\"5916\"},\"glyph\":{\"id\":\"5917\"},\"hover_glyph\":null,\"muted_glyph\":null,\"nonselection_glyph\":{\"id\":\"5918\"},\"selection_glyph\":null,\"view\":{\"id\":\"5920\"}},\"id\":\"5919\",\"type\":\"GlyphRenderer\"},{\"attributes\":{\"data_source\":{\"id\":\"5696\"},\"glyph\":{\"id\":\"5697\"},\"hover_glyph\":null,\"muted_glyph\":null,\"nonselection_glyph\":{\"id\":\"5698\"},\"selection_glyph\":null,\"view\":{\"id\":\"5700\"}},\"id\":\"5699\",\"type\":\"GlyphRenderer\"}],\"root_ids\":[\"5639\"]},\"title\":\"Bokeh Application\",\"version\":\"2.0.2\"}};\n",
       "  var render_items = [{\"docid\":\"389c6f4b-0f97-4b72-af8a-4c168831b078\",\"root_ids\":[\"5639\"],\"roots\":{\"5639\":\"6e897ef9-bd0e-4bcb-8a74-b86889573924\"}}];\n",
       "  root.Bokeh.embed.embed_items_notebook(docs_json, render_items);\n",
       "\n",
       "  }\n",
       "  if (root.Bokeh !== undefined) {\n",
       "    embed_document(root);\n",
       "  } else {\n",
       "    var attempts = 0;\n",
       "    var timer = setInterval(function(root) {\n",
       "      if (root.Bokeh !== undefined) {\n",
       "        clearInterval(timer);\n",
       "        embed_document(root);\n",
       "      } else {\n",
       "        attempts++;\n",
       "        if (attempts > 100) {\n",
       "          clearInterval(timer);\n",
       "          console.log(\"Bokeh: ERROR: Unable to run BokehJS code because BokehJS library is missing\");\n",
       "        }\n",
       "      }\n",
       "    }, 10, root)\n",
       "  }\n",
       "})(window);"
      ],
      "application/vnd.bokehjs_exec.v0+json": ""
     },
     "metadata": {
      "application/vnd.bokehjs_exec.v0+json": {
       "id": "5639"
      }
     },
     "output_type": "display_data"
    }
   ],
   "source": [
    "def by_deaths():\n",
    "    df = pd.read_csv('data/party_cases_deaths_pop.csv')\n",
    "    df = df.assign(deaths_per_million = df['deaths']/df['population'] * 1e6)\n",
    "    df.sort_values(by = 'deaths_per_million', inplace = True)\n",
    "    labels = df['state'].tolist()\n",
    "    deaths = df['deaths_per_million'].tolist()\n",
    "    party = df['party'].tolist()\n",
    "    vote_dict = {}\n",
    "    for counter, i in enumerate(labels):\n",
    "        vote_dict[i] = party[counter]\n",
    "    p = make_bar_pop2(labels, y = deaths, plot_height = 450, \n",
    "             plot_width = 800,  vote_dict = vote_dict, title = \"Misleading Graph: Deaths/million per state\")\n",
    "    return p\n",
    "\n",
    "show(by_deaths())\n",
    "    "
   ]
  },
  {
   "cell_type": "code",
   "execution_count": null,
   "metadata": {},
   "outputs": [],
   "source": []
  },
  {
   "cell_type": "code",
   "execution_count": 19,
   "metadata": {},
   "outputs": [
    {
     "data": {
      "text/html": [
       "\n",
       "\n",
       "\n",
       "\n",
       "\n",
       "\n",
       "  <div class=\"bk-root\" id=\"39b1ecaf-77f5-4bf3-a1d5-28cfbf3bd71d\" data-root-id=\"6847\"></div>\n"
      ]
     },
     "metadata": {},
     "output_type": "display_data"
    },
    {
     "data": {
      "application/javascript": [
       "(function(root) {\n",
       "  function embed_document(root) {\n",
       "    \n",
       "  var docs_json = {\"9be0eb7d-2b23-4a73-ae54-cf67a52b44ac\":{\"roots\":{\"references\":[{\"attributes\":{\"below\":[{\"id\":\"6858\"}],\"center\":[{\"id\":\"6860\"},{\"id\":\"6864\"}],\"left\":[{\"id\":\"6861\"}],\"plot_height\":450,\"plot_width\":800,\"renderers\":[{\"id\":\"6882\"}],\"title\":{\"id\":\"6848\"},\"toolbar\":{\"id\":\"6872\"},\"x_range\":{\"id\":\"6850\"},\"x_scale\":{\"id\":\"6854\"},\"y_range\":{\"id\":\"6852\"},\"y_scale\":{\"id\":\"6856\"}},\"id\":\"6847\",\"subtype\":\"Figure\",\"type\":\"Plot\"},{\"attributes\":{\"axis\":{\"id\":\"6858\"},\"grid_line_color\":null,\"ticker\":null},\"id\":\"6860\",\"type\":\"Grid\"},{\"attributes\":{\"axis_label\":\"Deaths/1,000,000\",\"formatter\":{\"id\":\"7161\"},\"ticker\":{\"id\":\"6862\"}},\"id\":\"6861\",\"type\":\"LinearAxis\"},{\"attributes\":{},\"id\":\"6862\",\"type\":\"BasicTicker\"},{\"attributes\":{\"axis\":{\"id\":\"6861\"},\"dimension\":1,\"ticker\":null},\"id\":\"6864\",\"type\":\"Grid\"},{\"attributes\":{\"bottom_units\":\"screen\",\"fill_alpha\":0.5,\"fill_color\":\"lightgrey\",\"left_units\":\"screen\",\"level\":\"overlay\",\"line_alpha\":1.0,\"line_color\":\"black\",\"line_dash\":[4,4],\"line_width\":2,\"render_mode\":\"css\",\"right_units\":\"screen\",\"top_units\":\"screen\"},\"id\":\"6871\",\"type\":\"BoxAnnotation\"},{\"attributes\":{\"fill_alpha\":{\"value\":0.1},\"fill_color\":{\"value\":\"#1f77b4\"},\"line_alpha\":{\"value\":0.1},\"line_color\":{\"value\":\"#1f77b4\"},\"line_width\":{\"value\":3},\"top\":{\"field\":\"top\"},\"width\":{\"value\":0.5},\"x\":{\"field\":\"x\"}},\"id\":\"6881\",\"type\":\"VBar\"},{\"attributes\":{\"fill_color\":{\"value\":\"#1f77b4\"},\"line_color\":{\"value\":\"#1f77b4\"},\"line_width\":{\"value\":3},\"top\":{\"field\":\"top\"},\"width\":{\"value\":0.5},\"x\":{\"field\":\"x\"}},\"id\":\"6880\",\"type\":\"VBar\"},{\"attributes\":{\"data\":{\"top\":[1.0089693337896564,1.1247678760295843,1.602592353390845,2.3632183962372837,2.540292510956874,2.7179441470471732,2.753580448407925,2.786402679161639,3.2267595318054467,3.31978405781111,3.520231483292759,4.7204898541009594,4.7599141036696535,5.220100110061355,5.293035688293128,5.298595769531241,5.807664252335279,6.110698978413344,6.2749949749435405,6.907923962674256,6.9113396076778075,6.9437570214705815,7.25247164033158,7.35450400857241,7.382349237229621,7.8885671906947845,8.369849125099671,8.373487209840272,8.37764344627985,8.495687494631197,8.508955235266745,8.679364560673612,8.682091958669703,9.071519368347653,9.201400196087494,9.538212224268168,9.603305154371867,9.772119699984863,10.09887715773809,10.735514961097898,10.992022110939464,11.503161144423466,11.568161213894678,12.526580131544161,12.679620683452814,13.6337280253042,14.83132722723338,18.154690880667175,20.004995422157844,21.507333547953884,30.038783828412406],\"x\":[\"Hawaii\",\"North Dakota\",\"Vermont\",\"Nebraska\",\"Oregon\",\"Idaho\",\"Colorado\",\"Minnesota\",\"Washington\",\"Alaska\",\"Utah\",\"Michigan\",\"Wisconsin\",\"Indiana\",\"Maryland\",\"Illinois\",\"Virginia\",\"Ohio\",\"District of Columbia\",\"Maine\",\"Wyoming\",\"South Dakota\",\"Connecticut\",\"New Hampshire\",\"New Jersey\",\"Florida\",\"West Virginia\",\"Massachusetts\",\"Kentucky\",\"Rhode Island\",\"Delaware\",\"Kansas\",\"Missouri\",\"North Carolina\",\"New York\",\"New Mexico\",\"Oklahoma\",\"Louisiana\",\"Pennsylvania\",\"Texas\",\"Nevada\",\"Arkansas\",\"Mississippi\",\"Georgia\",\"California\",\"Montana\",\"Tennessee\",\"Arizona\",\"South Carolina\",\"Iowa\",\"Alabama\"]},\"selected\":{\"id\":\"7162\"},\"selection_policy\":{\"id\":\"7163\"}},\"id\":\"6879\",\"type\":\"ColumnDataSource\"},{\"attributes\":{\"data_source\":{\"id\":\"6879\"},\"glyph\":{\"id\":\"6880\"},\"hover_glyph\":null,\"muted_glyph\":null,\"nonselection_glyph\":{\"id\":\"6881\"},\"selection_glyph\":null,\"view\":{\"id\":\"6883\"}},\"id\":\"6882\",\"type\":\"GlyphRenderer\"},{\"attributes\":{},\"id\":\"7161\",\"type\":\"BasicTickFormatter\"},{\"attributes\":{\"source\":{\"id\":\"6879\"}},\"id\":\"6883\",\"type\":\"CDSView\"},{\"attributes\":{},\"id\":\"6865\",\"type\":\"PanTool\"},{\"attributes\":{},\"id\":\"7162\",\"type\":\"Selection\"},{\"attributes\":{},\"id\":\"6866\",\"type\":\"WheelZoomTool\"},{\"attributes\":{\"overlay\":{\"id\":\"6871\"}},\"id\":\"6867\",\"type\":\"BoxZoomTool\"},{\"attributes\":{},\"id\":\"7163\",\"type\":\"UnionRenderers\"},{\"attributes\":{},\"id\":\"6868\",\"type\":\"SaveTool\"},{\"attributes\":{},\"id\":\"6869\",\"type\":\"ResetTool\"},{\"attributes\":{\"text\":\"Mean Deaths last 7 days\"},\"id\":\"6848\",\"type\":\"Title\"},{\"attributes\":{},\"id\":\"6870\",\"type\":\"HelpTool\"},{\"attributes\":{},\"id\":\"7159\",\"type\":\"CategoricalTickFormatter\"},{\"attributes\":{\"factors\":[\"Hawaii\",\"North Dakota\",\"Vermont\",\"Nebraska\",\"Oregon\",\"Idaho\",\"Colorado\",\"Minnesota\",\"Washington\",\"Alaska\",\"Utah\",\"Michigan\",\"Wisconsin\",\"Indiana\",\"Maryland\",\"Illinois\",\"Virginia\",\"Ohio\",\"District of Columbia\",\"Maine\",\"Wyoming\",\"South Dakota\",\"Connecticut\",\"New Hampshire\",\"New Jersey\",\"Florida\",\"West Virginia\",\"Massachusetts\",\"Kentucky\",\"Rhode Island\",\"Delaware\",\"Kansas\",\"Missouri\",\"North Carolina\",\"New York\",\"New Mexico\",\"Oklahoma\",\"Louisiana\",\"Pennsylvania\",\"Texas\",\"Nevada\",\"Arkansas\",\"Mississippi\",\"Georgia\",\"California\",\"Montana\",\"Tennessee\",\"Arizona\",\"South Carolina\",\"Iowa\",\"Alabama\"]},\"id\":\"6850\",\"type\":\"FactorRange\"},{\"attributes\":{},\"id\":\"6852\",\"type\":\"DataRange1d\"},{\"attributes\":{\"active_drag\":\"auto\",\"active_inspect\":\"auto\",\"active_multi\":null,\"active_scroll\":\"auto\",\"active_tap\":\"auto\",\"tools\":[{\"id\":\"6865\"},{\"id\":\"6866\"},{\"id\":\"6867\"},{\"id\":\"6868\"},{\"id\":\"6869\"},{\"id\":\"6870\"}]},\"id\":\"6872\",\"type\":\"Toolbar\"},{\"attributes\":{},\"id\":\"6854\",\"type\":\"CategoricalScale\"},{\"attributes\":{},\"id\":\"6856\",\"type\":\"LinearScale\"},{\"attributes\":{\"formatter\":{\"id\":\"7159\"},\"major_label_orientation\":\"vertical\",\"ticker\":{\"id\":\"6859\"}},\"id\":\"6858\",\"type\":\"CategoricalAxis\"},{\"attributes\":{},\"id\":\"6859\",\"type\":\"CategoricalTicker\"}],\"root_ids\":[\"6847\"]},\"title\":\"Bokeh Application\",\"version\":\"2.0.2\"}};\n",
       "  var render_items = [{\"docid\":\"9be0eb7d-2b23-4a73-ae54-cf67a52b44ac\",\"root_ids\":[\"6847\"],\"roots\":{\"6847\":\"39b1ecaf-77f5-4bf3-a1d5-28cfbf3bd71d\"}}];\n",
       "  root.Bokeh.embed.embed_items_notebook(docs_json, render_items);\n",
       "\n",
       "  }\n",
       "  if (root.Bokeh !== undefined) {\n",
       "    embed_document(root);\n",
       "  } else {\n",
       "    var attempts = 0;\n",
       "    var timer = setInterval(function(root) {\n",
       "      if (root.Bokeh !== undefined) {\n",
       "        clearInterval(timer);\n",
       "        embed_document(root);\n",
       "      } else {\n",
       "        attempts++;\n",
       "        if (attempts > 100) {\n",
       "          clearInterval(timer);\n",
       "          console.log(\"Bokeh: ERROR: Unable to run BokehJS code because BokehJS library is missing\");\n",
       "        }\n",
       "      }\n",
       "    }, 10, root)\n",
       "  }\n",
       "})(window);"
      ],
      "application/vnd.bokehjs_exec.v0+json": ""
     },
     "metadata": {
      "application/vnd.bokehjs_exec.v0+json": {
       "id": "6847"
      }
     },
     "output_type": "display_data"
    }
   ],
   "source": [
    "def make_bar_pop3(labels, y, plot_height = 450, \n",
    "             plot_width = 450, title = None):\n",
    "    x_range = labels\n",
    "    p = figure(x_range = x_range , plot_height = plot_height, \n",
    "               plot_width = plot_width, title = title)\n",
    "    p.vbar(x=labels, top=y , line_width = 3, width = .5)\n",
    "    p.xaxis.major_label_orientation = \"vertical\"\n",
    "    p.xgrid.grid_line_color = None\n",
    "    p.yaxis.axis_label = 'Deaths/1,000,000'\n",
    "    #p.legend.location = 'top_left'\n",
    "\n",
    "    return p\n",
    "    #p.y_range \n",
    "\n",
    "def deaths_recent(back = 7):\n",
    "    df = pd.read_csv('data/seven_day_state.csv')\n",
    "    df['date'] = pd.to_datetime(df['date'])\n",
    "    df = df[df['date'] > datetime.datetime.now() - datetime.timedelta(days = back)]\n",
    "    dates = set(list(df['date'].tolist()))\n",
    "    states = list(set(df['state']))\n",
    "    data = []\n",
    "    for i in sorted(states):\n",
    "        df_ = df[df['state'] == i]\n",
    "        death_million = list(set((np.mean(df_['new_deaths'])/df_['population'] * 1e6).tolist()))[0]\n",
    "        data.append((i, death_million))\n",
    "    data = sorted(data, key = lambda x: x[1])\n",
    "    return make_bar_pop3(labels = [x[0] for x in data], y = [x[1] for x in data],\n",
    "                        plot_width = 800, title = 'Mean Deaths last {x} days'.format(x = back -1))\n",
    "    \n",
    "\n",
    "show(deaths_recent(back = 8))\n"
   ]
  },
  {
   "cell_type": "code",
   "execution_count": 20,
   "metadata": {},
   "outputs": [
    {
     "data": {
      "text/html": [
       "\n",
       "\n",
       "\n",
       "\n",
       "\n",
       "\n",
       "  <div class=\"bk-root\" id=\"73830a41-3d72-4b09-abc3-96c7f0c8393f\" data-root-id=\"7213\"></div>\n"
      ]
     },
     "metadata": {},
     "output_type": "display_data"
    },
    {
     "data": {
      "application/javascript": [
       "(function(root) {\n",
       "  function embed_document(root) {\n",
       "    \n",
       "  var docs_json = {\"b5e74d95-3c1d-4aa0-b6de-0bcc5dd8610e\":{\"roots\":{\"references\":[{\"attributes\":{\"below\":[{\"id\":\"7224\"}],\"center\":[{\"id\":\"7227\"},{\"id\":\"7231\"}],\"left\":[{\"id\":\"7228\"}],\"plot_height\":650,\"plot_width\":650,\"renderers\":[{\"id\":\"7249\"}],\"title\":{\"id\":\"7214\"},\"toolbar\":{\"id\":\"7239\"},\"x_range\":{\"id\":\"7216\"},\"x_scale\":{\"id\":\"7220\"},\"y_range\":{\"id\":\"7218\"},\"y_scale\":{\"id\":\"7222\"}},\"id\":\"7213\",\"subtype\":\"Figure\",\"type\":\"Plot\"},{\"attributes\":{},\"id\":\"7222\",\"type\":\"LinearScale\"},{\"attributes\":{\"base\":24,\"mantissas\":[1,2,4,6,8,12],\"max_interval\":43200000.0,\"min_interval\":3600000.0,\"num_minor_ticks\":0},\"id\":\"7539\",\"type\":\"AdaptiveTicker\"},{\"attributes\":{},\"id\":\"7220\",\"type\":\"LinearScale\"},{\"attributes\":{\"months\":[0,4,8]},\"id\":\"7546\",\"type\":\"MonthsTicker\"},{\"attributes\":{},\"id\":\"7235\",\"type\":\"SaveTool\"},{\"attributes\":{\"days\":[1,8,15,22]},\"id\":\"7542\",\"type\":\"DaysTicker\"},{\"attributes\":{\"months\":[0,6]},\"id\":\"7547\",\"type\":\"MonthsTicker\"},{\"attributes\":{},\"id\":\"7236\",\"type\":\"ResetTool\"},{\"attributes\":{\"overlay\":{\"id\":\"7238\"}},\"id\":\"7234\",\"type\":\"BoxZoomTool\"},{\"attributes\":{\"fill_color\":{\"value\":\"#1f77b4\"},\"line_color\":{\"value\":\"#1f77b4\"},\"line_width\":{\"value\":5},\"top\":{\"field\":\"top\"},\"width\":{\"value\":0.5},\"x\":{\"field\":\"x\"}},\"id\":\"7247\",\"type\":\"VBar\"},{\"attributes\":{},\"id\":\"7550\",\"type\":\"UnionRenderers\"},{\"attributes\":{},\"id\":\"7548\",\"type\":\"YearsTicker\"},{\"attributes\":{},\"id\":\"7237\",\"type\":\"HelpTool\"},{\"attributes\":{},\"id\":\"7216\",\"type\":\"DataRange1d\"},{\"attributes\":{\"mantissas\":[1,2,5],\"max_interval\":500.0,\"num_minor_ticks\":0},\"id\":\"7537\",\"type\":\"AdaptiveTicker\"},{\"attributes\":{\"active_drag\":\"auto\",\"active_inspect\":\"auto\",\"active_multi\":null,\"active_scroll\":\"auto\",\"active_tap\":\"auto\",\"tools\":[{\"id\":\"7232\"},{\"id\":\"7233\"},{\"id\":\"7234\"},{\"id\":\"7235\"},{\"id\":\"7236\"},{\"id\":\"7237\"}]},\"id\":\"7239\",\"type\":\"Toolbar\"},{\"attributes\":{},\"id\":\"7534\",\"type\":\"DatetimeTickFormatter\"},{\"attributes\":{},\"id\":\"7233\",\"type\":\"WheelZoomTool\"},{\"attributes\":{\"source\":{\"id\":\"7246\"}},\"id\":\"7250\",\"type\":\"CDSView\"},{\"attributes\":{},\"id\":\"7218\",\"type\":\"DataRange1d\"},{\"attributes\":{},\"id\":\"7549\",\"type\":\"Selection\"},{\"attributes\":{},\"id\":\"7536\",\"type\":\"BasicTickFormatter\"},{\"attributes\":{},\"id\":\"7232\",\"type\":\"PanTool\"},{\"attributes\":{\"days\":[1,2,3,4,5,6,7,8,9,10,11,12,13,14,15,16,17,18,19,20,21,22,23,24,25,26,27,28,29,30,31]},\"id\":\"7540\",\"type\":\"DaysTicker\"},{\"attributes\":{\"text\":\"wash\"},\"id\":\"7214\",\"type\":\"Title\"},{\"attributes\":{\"data_source\":{\"id\":\"7246\"},\"glyph\":{\"id\":\"7247\"},\"hover_glyph\":null,\"muted_glyph\":null,\"nonselection_glyph\":{\"id\":\"7248\"},\"selection_glyph\":null,\"view\":{\"id\":\"7250\"}},\"id\":\"7249\",\"type\":\"GlyphRenderer\"},{\"attributes\":{\"axis\":{\"id\":\"7228\"},\"dimension\":1,\"ticker\":null},\"id\":\"7231\",\"type\":\"Grid\"},{\"attributes\":{\"base\":60,\"mantissas\":[1,2,5,10,15,20,30],\"max_interval\":1800000.0,\"min_interval\":1000.0,\"num_minor_ticks\":0},\"id\":\"7538\",\"type\":\"AdaptiveTicker\"},{\"attributes\":{},\"id\":\"7229\",\"type\":\"BasicTicker\"},{\"attributes\":{\"days\":[1,4,7,10,13,16,19,22,25,28]},\"id\":\"7541\",\"type\":\"DaysTicker\"},{\"attributes\":{\"data\":{\"top\":{\"__ndarray__\":\"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\",\"dtype\":\"float64\",\"shape\":[379]},\"x\":{\"__ndarray__\":\"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\",\"dtype\":\"float64\",\"shape\":[379]}},\"selected\":{\"id\":\"7549\"},\"selection_policy\":{\"id\":\"7550\"}},\"id\":\"7246\",\"type\":\"ColumnDataSource\"},{\"attributes\":{\"months\":[0,1,2,3,4,5,6,7,8,9,10,11]},\"id\":\"7544\",\"type\":\"MonthsTicker\"},{\"attributes\":{\"bottom_units\":\"screen\",\"fill_alpha\":0.5,\"fill_color\":\"lightgrey\",\"left_units\":\"screen\",\"level\":\"overlay\",\"line_alpha\":1.0,\"line_color\":\"black\",\"line_dash\":[4,4],\"line_width\":2,\"render_mode\":\"css\",\"right_units\":\"screen\",\"top_units\":\"screen\"},\"id\":\"7238\",\"type\":\"BoxAnnotation\"},{\"attributes\":{\"formatter\":{\"id\":\"7536\"},\"ticker\":{\"id\":\"7229\"}},\"id\":\"7228\",\"type\":\"LinearAxis\"},{\"attributes\":{\"days\":[1,15]},\"id\":\"7543\",\"type\":\"DaysTicker\"},{\"attributes\":{\"axis\":{\"id\":\"7224\"},\"ticker\":null},\"id\":\"7227\",\"type\":\"Grid\"},{\"attributes\":{\"months\":[0,2,4,6,8,10]},\"id\":\"7545\",\"type\":\"MonthsTicker\"},{\"attributes\":{\"num_minor_ticks\":5,\"tickers\":[{\"id\":\"7537\"},{\"id\":\"7538\"},{\"id\":\"7539\"},{\"id\":\"7540\"},{\"id\":\"7541\"},{\"id\":\"7542\"},{\"id\":\"7543\"},{\"id\":\"7544\"},{\"id\":\"7545\"},{\"id\":\"7546\"},{\"id\":\"7547\"},{\"id\":\"7548\"}]},\"id\":\"7225\",\"type\":\"DatetimeTicker\"},{\"attributes\":{\"fill_alpha\":{\"value\":0.1},\"fill_color\":{\"value\":\"#1f77b4\"},\"line_alpha\":{\"value\":0.1},\"line_color\":{\"value\":\"#1f77b4\"},\"line_width\":{\"value\":5},\"top\":{\"field\":\"top\"},\"width\":{\"value\":0.5},\"x\":{\"field\":\"x\"}},\"id\":\"7248\",\"type\":\"VBar\"},{\"attributes\":{\"formatter\":{\"id\":\"7534\"},\"ticker\":{\"id\":\"7225\"}},\"id\":\"7224\",\"type\":\"DatetimeAxis\"}],\"root_ids\":[\"7213\"]},\"title\":\"Bokeh Application\",\"version\":\"2.0.2\"}};\n",
       "  var render_items = [{\"docid\":\"b5e74d95-3c1d-4aa0-b6de-0bcc5dd8610e\",\"root_ids\":[\"7213\"],\"roots\":{\"7213\":\"73830a41-3d72-4b09-abc3-96c7f0c8393f\"}}];\n",
       "  root.Bokeh.embed.embed_items_notebook(docs_json, render_items);\n",
       "\n",
       "  }\n",
       "  if (root.Bokeh !== undefined) {\n",
       "    embed_document(root);\n",
       "  } else {\n",
       "    var attempts = 0;\n",
       "    var timer = setInterval(function(root) {\n",
       "      if (root.Bokeh !== undefined) {\n",
       "        clearInterval(timer);\n",
       "        embed_document(root);\n",
       "      } else {\n",
       "        attempts++;\n",
       "        if (attempts > 100) {\n",
       "          clearInterval(timer);\n",
       "          console.log(\"Bokeh: ERROR: Unable to run BokehJS code because BokehJS library is missing\");\n",
       "        }\n",
       "      }\n",
       "    }, 10, root)\n",
       "  }\n",
       "})(window);"
      ],
      "application/vnd.bokehjs_exec.v0+json": ""
     },
     "metadata": {
      "application/vnd.bokehjs_exec.v0+json": {
       "id": "7213"
      }
     },
     "output_type": "display_data"
    }
   ],
   "source": [
    "def wash(window = 7):\n",
    "    df = pd.read_csv('data/states.csv')\n",
    "    df['date'] = pd.to_datetime(df['date'])\n",
    "\n",
    "    df_wash = df[df['state'] == 'Washington']\n",
    "    p = figure(x_axis_type = 'datetime', title = 'wash', \n",
    "                 plot_width = 650 , plot_height = 650, y_range = None)\n",
    "    cases = df_wash['cases'].rolling(window).mean()\n",
    "    dates = df_wash['date']\n",
    "    p.vbar(x=dates, top=cases , line_width = 5, width = .5)\n",
    "\n",
    "\n",
    "    return p\n",
    "show(wash())"
   ]
  },
  {
   "cell_type": "code",
   "execution_count": 21,
   "metadata": {},
   "outputs": [
    {
     "data": {
      "text/html": [
       "\n",
       "\n",
       "\n",
       "\n",
       "\n",
       "\n",
       "  <div class=\"bk-root\" id=\"9537f54c-61e2-4a2a-953e-10d33c86034b\" data-root-id=\"7672\"></div>\n"
      ]
     },
     "metadata": {},
     "output_type": "display_data"
    },
    {
     "data": {
      "application/javascript": [
       "(function(root) {\n",
       "  function embed_document(root) {\n",
       "    \n",
       "  var docs_json = {\"de349550-4782-4e93-92c3-5aad5907b18d\":{\"roots\":{\"references\":[{\"attributes\":{\"below\":[{\"id\":\"7683\"}],\"center\":[{\"id\":\"7686\"},{\"id\":\"7690\"},{\"id\":\"7735\"}],\"left\":[{\"id\":\"7687\"}],\"plot_height\":650,\"plot_width\":650,\"renderers\":[{\"id\":\"7708\"},{\"id\":\"7713\"}],\"title\":{\"id\":\"7673\"},\"toolbar\":{\"id\":\"7698\"},\"x_range\":{\"id\":\"7675\"},\"x_scale\":{\"id\":\"7679\"},\"y_range\":{\"id\":\"7677\"},\"y_scale\":{\"id\":\"7681\"}},\"id\":\"7672\",\"subtype\":\"Figure\",\"type\":\"Plot\"},{\"attributes\":{\"data\":{\"x\":{\"__ndarray__\":\"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\",\"dtype\":\"float64\",\"shape\":[341]},\"y\":{\"__ndarray__\":\"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\",\"dtype\":\"float64\",\"shape\":[341]}},\"selected\":{\"id\":\"8057\"},\"selection_policy\":{\"id\":\"8058\"}},\"id\":\"7710\",\"type\":\"ColumnDataSource\"},{\"attributes\":{},\"id\":\"7731\",\"type\":\"YearsTicker\"},{\"attributes\":{},\"id\":\"7675\",\"type\":\"DataRange1d\"},{\"attributes\":{},\"id\":\"7691\",\"type\":\"PanTool\"},{\"attributes\":{\"line_color\":\"red\",\"x\":{\"field\":\"x\"},\"y\":{\"field\":\"y\"}},\"id\":\"7711\",\"type\":\"Line\"},{\"attributes\":{},\"id\":\"7732\",\"type\":\"Selection\"},{\"attributes\":{},\"id\":\"7692\",\"type\":\"WheelZoomTool\"},{\"attributes\":{\"source\":{\"id\":\"7710\"}},\"id\":\"7714\",\"type\":\"CDSView\"},{\"attributes\":{\"overlay\":{\"id\":\"7697\"}},\"id\":\"7693\",\"type\":\"BoxZoomTool\"},{\"attributes\":{\"line_alpha\":0.1,\"line_color\":\"red\",\"x\":{\"field\":\"x\"},\"y\":{\"field\":\"y\"}},\"id\":\"7712\",\"type\":\"Line\"},{\"attributes\":{},\"id\":\"7694\",\"type\":\"SaveTool\"},{\"attributes\":{\"data_source\":{\"id\":\"7710\"},\"glyph\":{\"id\":\"7711\"},\"hover_glyph\":null,\"muted_glyph\":null,\"nonselection_glyph\":{\"id\":\"7712\"},\"selection_glyph\":null,\"view\":{\"id\":\"7714\"}},\"id\":\"7713\",\"type\":\"GlyphRenderer\"},{\"attributes\":{\"text\":\"Seattle 383 (357.0)\"},\"id\":\"7673\",\"type\":\"Title\"},{\"attributes\":{},\"id\":\"7695\",\"type\":\"ResetTool\"},{\"attributes\":{},\"id\":\"7717\",\"type\":\"DatetimeTickFormatter\"},{\"attributes\":{},\"id\":\"7696\",\"type\":\"HelpTool\"},{\"attributes\":{},\"id\":\"7719\",\"type\":\"BasicTickFormatter\"},{\"attributes\":{\"mantissas\":[1,2,5],\"max_interval\":500.0,\"num_minor_ticks\":0},\"id\":\"7720\",\"type\":\"AdaptiveTicker\"},{\"attributes\":{\"active_drag\":\"auto\",\"active_inspect\":\"auto\",\"active_multi\":null,\"active_scroll\":\"auto\",\"active_tap\":\"auto\",\"tools\":[{\"id\":\"7691\"},{\"id\":\"7692\"},{\"id\":\"7693\"},{\"id\":\"7694\"},{\"id\":\"7695\"},{\"id\":\"7696\"}]},\"id\":\"7698\",\"type\":\"Toolbar\"},{\"attributes\":{},\"id\":\"7677\",\"type\":\"DataRange1d\"},{\"attributes\":{},\"id\":\"7679\",\"type\":\"LinearScale\"},{\"attributes\":{\"items\":[{\"id\":\"7736\"}],\"location\":\"top_left\"},\"id\":\"7735\",\"type\":\"Legend\"},{\"attributes\":{\"base\":60,\"mantissas\":[1,2,5,10,15,20,30],\"max_interval\":1800000.0,\"min_interval\":1000.0,\"num_minor_ticks\":0},\"id\":\"7721\",\"type\":\"AdaptiveTicker\"},{\"attributes\":{},\"id\":\"7681\",\"type\":\"LinearScale\"},{\"attributes\":{\"base\":24,\"mantissas\":[1,2,4,6,8,12],\"max_interval\":43200000.0,\"min_interval\":3600000.0,\"num_minor_ticks\":0},\"id\":\"7722\",\"type\":\"AdaptiveTicker\"},{\"attributes\":{\"formatter\":{\"id\":\"7717\"},\"ticker\":{\"id\":\"7684\"}},\"id\":\"7683\",\"type\":\"DatetimeAxis\"},{\"attributes\":{\"days\":[1,2,3,4,5,6,7,8,9,10,11,12,13,14,15,16,17,18,19,20,21,22,23,24,25,26,27,28,29,30,31]},\"id\":\"7723\",\"type\":\"DaysTicker\"},{\"attributes\":{\"num_minor_ticks\":5,\"tickers\":[{\"id\":\"7720\"},{\"id\":\"7721\"},{\"id\":\"7722\"},{\"id\":\"7723\"},{\"id\":\"7724\"},{\"id\":\"7725\"},{\"id\":\"7726\"},{\"id\":\"7727\"},{\"id\":\"7728\"},{\"id\":\"7729\"},{\"id\":\"7730\"},{\"id\":\"7731\"}]},\"id\":\"7684\",\"type\":\"DatetimeTicker\"},{\"attributes\":{\"label\":{\"value\":\"7\"},\"renderers\":[{\"id\":\"7713\"}]},\"id\":\"7736\",\"type\":\"LegendItem\"},{\"attributes\":{\"days\":[1,4,7,10,13,16,19,22,25,28]},\"id\":\"7724\",\"type\":\"DaysTicker\"},{\"attributes\":{\"axis\":{\"id\":\"7683\"},\"ticker\":null},\"id\":\"7686\",\"type\":\"Grid\"},{\"attributes\":{\"days\":[1,8,15,22]},\"id\":\"7725\",\"type\":\"DaysTicker\"},{\"attributes\":{},\"id\":\"7733\",\"type\":\"UnionRenderers\"},{\"attributes\":{\"formatter\":{\"id\":\"7719\"},\"ticker\":{\"id\":\"7688\"}},\"id\":\"7687\",\"type\":\"LinearAxis\"},{\"attributes\":{\"days\":[1,15]},\"id\":\"7726\",\"type\":\"DaysTicker\"},{\"attributes\":{},\"id\":\"8058\",\"type\":\"UnionRenderers\"},{\"attributes\":{\"bottom_units\":\"screen\",\"fill_alpha\":0.5,\"fill_color\":\"lightgrey\",\"left_units\":\"screen\",\"level\":\"overlay\",\"line_alpha\":1.0,\"line_color\":\"black\",\"line_dash\":[4,4],\"line_width\":2,\"render_mode\":\"css\",\"right_units\":\"screen\",\"top_units\":\"screen\"},\"id\":\"7697\",\"type\":\"BoxAnnotation\"},{\"attributes\":{\"months\":[0,6]},\"id\":\"7730\",\"type\":\"MonthsTicker\"},{\"attributes\":{},\"id\":\"7688\",\"type\":\"BasicTicker\"},{\"attributes\":{\"months\":[0,1,2,3,4,5,6,7,8,9,10,11]},\"id\":\"7727\",\"type\":\"MonthsTicker\"},{\"attributes\":{},\"id\":\"8057\",\"type\":\"Selection\"},{\"attributes\":{\"data_source\":{\"id\":\"7705\"},\"glyph\":{\"id\":\"7706\"},\"hover_glyph\":null,\"muted_glyph\":null,\"nonselection_glyph\":{\"id\":\"7707\"},\"selection_glyph\":null,\"view\":{\"id\":\"7709\"}},\"id\":\"7708\",\"type\":\"GlyphRenderer\"},{\"attributes\":{\"axis\":{\"id\":\"7687\"},\"dimension\":1,\"ticker\":null},\"id\":\"7690\",\"type\":\"Grid\"},{\"attributes\":{\"months\":[0,2,4,6,8,10]},\"id\":\"7728\",\"type\":\"MonthsTicker\"},{\"attributes\":{\"fill_alpha\":{\"value\":0.1},\"fill_color\":{\"value\":\"#1f77b4\"},\"line_alpha\":{\"value\":0.1},\"line_color\":{\"value\":\"#1f77b4\"},\"line_width\":{\"value\":5},\"top\":{\"field\":\"top\"},\"width\":{\"value\":0.5},\"x\":{\"field\":\"x\"}},\"id\":\"7707\",\"type\":\"VBar\"},{\"attributes\":{\"months\":[0,4,8]},\"id\":\"7729\",\"type\":\"MonthsTicker\"},{\"attributes\":{\"fill_alpha\":{\"value\":0.1},\"fill_color\":{\"value\":\"#1f77b4\"},\"line_alpha\":{\"value\":0.1},\"line_color\":{\"value\":\"#1f77b4\"},\"line_width\":{\"value\":5},\"top\":{\"field\":\"top\"},\"width\":{\"value\":0.5},\"x\":{\"field\":\"x\"}},\"id\":\"7706\",\"type\":\"VBar\"},{\"attributes\":{\"source\":{\"id\":\"7705\"}},\"id\":\"7709\",\"type\":\"CDSView\"},{\"attributes\":{\"data\":{\"top\":{\"__ndarray__\":\"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\",\"dtype\":\"float64\",\"shape\":[341]},\"x\":{\"__ndarray__\":\"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\",\"dtype\":\"float64\",\"shape\":[341]}},\"selected\":{\"id\":\"7732\"},\"selection_policy\":{\"id\":\"7733\"}},\"id\":\"7705\",\"type\":\"ColumnDataSource\"}],\"root_ids\":[\"7672\"]},\"title\":\"Bokeh Application\",\"version\":\"2.0.2\"}};\n",
       "  var render_items = [{\"docid\":\"de349550-4782-4e93-92c3-5aad5907b18d\",\"root_ids\":[\"7672\"],\"roots\":{\"7672\":\"9537f54c-61e2-4a2a-953e-10d33c86034b\"}}];\n",
       "  root.Bokeh.embed.embed_items_notebook(docs_json, render_items);\n",
       "\n",
       "  }\n",
       "  if (root.Bokeh !== undefined) {\n",
       "    embed_document(root);\n",
       "  } else {\n",
       "    var attempts = 0;\n",
       "    var timer = setInterval(function(root) {\n",
       "      if (root.Bokeh !== undefined) {\n",
       "        clearInterval(timer);\n",
       "        embed_document(root);\n",
       "      } else {\n",
       "        attempts++;\n",
       "        if (attempts > 100) {\n",
       "          clearInterval(timer);\n",
       "          console.log(\"Bokeh: ERROR: Unable to run BokehJS code because BokehJS library is missing\");\n",
       "        }\n",
       "      }\n",
       "    }, 10, root)\n",
       "  }\n",
       "})(window);"
      ],
      "application/vnd.bokehjs_exec.v0+json": ""
     },
     "metadata": {
      "application/vnd.bokehjs_exec.v0+json": {
       "id": "7672"
      }
     },
     "output_type": "display_data"
    }
   ],
   "source": [
    "def seattle(window = 7):\n",
    "    df = pd.read_csv('data/seven_day_county.csv')\n",
    "    df['date'] = pd.to_datetime(df['date'])\n",
    "    df_seattle = df[(df['state'] == 'Washington') & (df['county']== 'King')]\n",
    "    df_seattle = df_seattle.assign(by_pop = df_seattle['new_cases']/df_seattle['population'] * 1e5)\n",
    "    cases = df_seattle['new_cases'].rolling(window).mean()\n",
    "    cases_p = df_seattle['by_pop'].rolling(window).mean()\n",
    "    cases_1 = df_seattle['new_cases']\n",
    "    last_c = cases_1.tolist()[-1]\n",
    "    last_7 = round(np.mean(cases_1.tolist()[-7:]))\n",
    "    cases_p_1 = df_seattle['by_pop']\n",
    "    p = figure(x_axis_type = 'datetime', title = 'Seattle {c} ({c2})'.format(c = last_c, c2 =last_7), \n",
    "                 plot_width = 650 , plot_height = 650, y_range = None)\n",
    "   \n",
    "\n",
    "    dates = df_seattle['date']\n",
    "    p.vbar(x=dates, top=cases_p_1 , line_width = 5, width = .5, alpha = .1)\n",
    "\n",
    "    p.line(x = dates, y = cases_p, legend_label = '{n}'.format(n = window), color = 'red')\n",
    "    #p.line(x = dates, y = cases_p_1, legend_label = 'current', color = 'red')\n",
    "    p.legend.location = 'top_left'\n",
    "\n",
    "\n",
    "    return p\n",
    "show(seattle(window =7))"
   ]
  },
  {
   "cell_type": "code",
   "execution_count": null,
   "metadata": {},
   "outputs": [],
   "source": []
  }
 ],
 "metadata": {
  "kernelspec": {
   "display_name": "Python 3",
   "language": "python",
   "name": "python3"
  },
  "language_info": {
   "codemirror_mode": {
    "name": "ipython",
    "version": 3
   },
   "file_extension": ".py",
   "mimetype": "text/x-python",
   "name": "python",
   "nbconvert_exporter": "python",
   "pygments_lexer": "ipython3",
   "version": "3.6.9"
  }
 },
 "nbformat": 4,
 "nbformat_minor": 4
}
