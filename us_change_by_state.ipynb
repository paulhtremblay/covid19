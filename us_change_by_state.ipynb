{
 "cells": [
  {
   "cell_type": "code",
   "execution_count": 1,
   "metadata": {},
   "outputs": [],
   "source": [
    "import os\n",
    "import datetime\n",
    "import random\n",
    "from bokeh.io import show\n",
    "from bokeh.plotting import figure\n",
    "from bokeh.io import output_notebook\n",
    "from bokeh.layouts import gridplot\n",
    "from bokeh.models import ColumnDataSource, Band\n",
    "from bokeh.embed import components\n",
    "from bokeh.models import Range1d\n",
    "\n",
    "import numpy as np"
   ]
  },
  {
   "cell_type": "code",
   "execution_count": 2,
   "metadata": {},
   "outputs": [
    {
     "data": {
      "text/html": [
       "\n",
       "    <div class=\"bk-root\">\n",
       "        <a href=\"https://bokeh.org\" target=\"_blank\" class=\"bk-logo bk-logo-small bk-logo-notebook\"></a>\n",
       "        <span id=\"1001\">Loading BokehJS ...</span>\n",
       "    </div>"
      ]
     },
     "metadata": {},
     "output_type": "display_data"
    },
    {
     "data": {
      "application/javascript": [
       "\n",
       "(function(root) {\n",
       "  function now() {\n",
       "    return new Date();\n",
       "  }\n",
       "\n",
       "  var force = true;\n",
       "\n",
       "  if (typeof root._bokeh_onload_callbacks === \"undefined\" || force === true) {\n",
       "    root._bokeh_onload_callbacks = [];\n",
       "    root._bokeh_is_loading = undefined;\n",
       "  }\n",
       "\n",
       "  var JS_MIME_TYPE = 'application/javascript';\n",
       "  var HTML_MIME_TYPE = 'text/html';\n",
       "  var EXEC_MIME_TYPE = 'application/vnd.bokehjs_exec.v0+json';\n",
       "  var CLASS_NAME = 'output_bokeh rendered_html';\n",
       "\n",
       "  /**\n",
       "   * Render data to the DOM node\n",
       "   */\n",
       "  function render(props, node) {\n",
       "    var script = document.createElement(\"script\");\n",
       "    node.appendChild(script);\n",
       "  }\n",
       "\n",
       "  /**\n",
       "   * Handle when an output is cleared or removed\n",
       "   */\n",
       "  function handleClearOutput(event, handle) {\n",
       "    var cell = handle.cell;\n",
       "\n",
       "    var id = cell.output_area._bokeh_element_id;\n",
       "    var server_id = cell.output_area._bokeh_server_id;\n",
       "    // Clean up Bokeh references\n",
       "    if (id != null && id in Bokeh.index) {\n",
       "      Bokeh.index[id].model.document.clear();\n",
       "      delete Bokeh.index[id];\n",
       "    }\n",
       "\n",
       "    if (server_id !== undefined) {\n",
       "      // Clean up Bokeh references\n",
       "      var cmd = \"from bokeh.io.state import curstate; print(curstate().uuid_to_server['\" + server_id + \"'].get_sessions()[0].document.roots[0]._id)\";\n",
       "      cell.notebook.kernel.execute(cmd, {\n",
       "        iopub: {\n",
       "          output: function(msg) {\n",
       "            var id = msg.content.text.trim();\n",
       "            if (id in Bokeh.index) {\n",
       "              Bokeh.index[id].model.document.clear();\n",
       "              delete Bokeh.index[id];\n",
       "            }\n",
       "          }\n",
       "        }\n",
       "      });\n",
       "      // Destroy server and session\n",
       "      var cmd = \"import bokeh.io.notebook as ion; ion.destroy_server('\" + server_id + \"')\";\n",
       "      cell.notebook.kernel.execute(cmd);\n",
       "    }\n",
       "  }\n",
       "\n",
       "  /**\n",
       "   * Handle when a new output is added\n",
       "   */\n",
       "  function handleAddOutput(event, handle) {\n",
       "    var output_area = handle.output_area;\n",
       "    var output = handle.output;\n",
       "\n",
       "    // limit handleAddOutput to display_data with EXEC_MIME_TYPE content only\n",
       "    if ((output.output_type != \"display_data\") || (!output.data.hasOwnProperty(EXEC_MIME_TYPE))) {\n",
       "      return\n",
       "    }\n",
       "\n",
       "    var toinsert = output_area.element.find(\".\" + CLASS_NAME.split(' ')[0]);\n",
       "\n",
       "    if (output.metadata[EXEC_MIME_TYPE][\"id\"] !== undefined) {\n",
       "      toinsert[toinsert.length - 1].firstChild.textContent = output.data[JS_MIME_TYPE];\n",
       "      // store reference to embed id on output_area\n",
       "      output_area._bokeh_element_id = output.metadata[EXEC_MIME_TYPE][\"id\"];\n",
       "    }\n",
       "    if (output.metadata[EXEC_MIME_TYPE][\"server_id\"] !== undefined) {\n",
       "      var bk_div = document.createElement(\"div\");\n",
       "      bk_div.innerHTML = output.data[HTML_MIME_TYPE];\n",
       "      var script_attrs = bk_div.children[0].attributes;\n",
       "      for (var i = 0; i < script_attrs.length; i++) {\n",
       "        toinsert[toinsert.length - 1].firstChild.setAttribute(script_attrs[i].name, script_attrs[i].value);\n",
       "        toinsert[toinsert.length - 1].firstChild.textContent = bk_div.children[0].textContent\n",
       "      }\n",
       "      // store reference to server id on output_area\n",
       "      output_area._bokeh_server_id = output.metadata[EXEC_MIME_TYPE][\"server_id\"];\n",
       "    }\n",
       "  }\n",
       "\n",
       "  function register_renderer(events, OutputArea) {\n",
       "\n",
       "    function append_mime(data, metadata, element) {\n",
       "      // create a DOM node to render to\n",
       "      var toinsert = this.create_output_subarea(\n",
       "        metadata,\n",
       "        CLASS_NAME,\n",
       "        EXEC_MIME_TYPE\n",
       "      );\n",
       "      this.keyboard_manager.register_events(toinsert);\n",
       "      // Render to node\n",
       "      var props = {data: data, metadata: metadata[EXEC_MIME_TYPE]};\n",
       "      render(props, toinsert[toinsert.length - 1]);\n",
       "      element.append(toinsert);\n",
       "      return toinsert\n",
       "    }\n",
       "\n",
       "    /* Handle when an output is cleared or removed */\n",
       "    events.on('clear_output.CodeCell', handleClearOutput);\n",
       "    events.on('delete.Cell', handleClearOutput);\n",
       "\n",
       "    /* Handle when a new output is added */\n",
       "    events.on('output_added.OutputArea', handleAddOutput);\n",
       "\n",
       "    /**\n",
       "     * Register the mime type and append_mime function with output_area\n",
       "     */\n",
       "    OutputArea.prototype.register_mime_type(EXEC_MIME_TYPE, append_mime, {\n",
       "      /* Is output safe? */\n",
       "      safe: true,\n",
       "      /* Index of renderer in `output_area.display_order` */\n",
       "      index: 0\n",
       "    });\n",
       "  }\n",
       "\n",
       "  // register the mime type if in Jupyter Notebook environment and previously unregistered\n",
       "  if (root.Jupyter !== undefined) {\n",
       "    var events = require('base/js/events');\n",
       "    var OutputArea = require('notebook/js/outputarea').OutputArea;\n",
       "\n",
       "    if (OutputArea.prototype.mime_types().indexOf(EXEC_MIME_TYPE) == -1) {\n",
       "      register_renderer(events, OutputArea);\n",
       "    }\n",
       "  }\n",
       "\n",
       "  \n",
       "  if (typeof (root._bokeh_timeout) === \"undefined\" || force === true) {\n",
       "    root._bokeh_timeout = Date.now() + 5000;\n",
       "    root._bokeh_failed_load = false;\n",
       "  }\n",
       "\n",
       "  var NB_LOAD_WARNING = {'data': {'text/html':\n",
       "     \"<div style='background-color: #fdd'>\\n\"+\n",
       "     \"<p>\\n\"+\n",
       "     \"BokehJS does not appear to have successfully loaded. If loading BokehJS from CDN, this \\n\"+\n",
       "     \"may be due to a slow or bad network connection. Possible fixes:\\n\"+\n",
       "     \"</p>\\n\"+\n",
       "     \"<ul>\\n\"+\n",
       "     \"<li>re-rerun `output_notebook()` to attempt to load from CDN again, or</li>\\n\"+\n",
       "     \"<li>use INLINE resources instead, as so:</li>\\n\"+\n",
       "     \"</ul>\\n\"+\n",
       "     \"<code>\\n\"+\n",
       "     \"from bokeh.resources import INLINE\\n\"+\n",
       "     \"output_notebook(resources=INLINE)\\n\"+\n",
       "     \"</code>\\n\"+\n",
       "     \"</div>\"}};\n",
       "\n",
       "  function display_loaded() {\n",
       "    var el = document.getElementById(\"1001\");\n",
       "    if (el != null) {\n",
       "      el.textContent = \"BokehJS is loading...\";\n",
       "    }\n",
       "    if (root.Bokeh !== undefined) {\n",
       "      if (el != null) {\n",
       "        el.textContent = \"BokehJS \" + root.Bokeh.version + \" successfully loaded.\";\n",
       "      }\n",
       "    } else if (Date.now() < root._bokeh_timeout) {\n",
       "      setTimeout(display_loaded, 100)\n",
       "    }\n",
       "  }\n",
       "\n",
       "\n",
       "  function run_callbacks() {\n",
       "    try {\n",
       "      root._bokeh_onload_callbacks.forEach(function(callback) {\n",
       "        if (callback != null)\n",
       "          callback();\n",
       "      });\n",
       "    } finally {\n",
       "      delete root._bokeh_onload_callbacks\n",
       "    }\n",
       "    console.debug(\"Bokeh: all callbacks have finished\");\n",
       "  }\n",
       "\n",
       "  function load_libs(css_urls, js_urls, callback) {\n",
       "    if (css_urls == null) css_urls = [];\n",
       "    if (js_urls == null) js_urls = [];\n",
       "\n",
       "    root._bokeh_onload_callbacks.push(callback);\n",
       "    if (root._bokeh_is_loading > 0) {\n",
       "      console.debug(\"Bokeh: BokehJS is being loaded, scheduling callback at\", now());\n",
       "      return null;\n",
       "    }\n",
       "    if (js_urls == null || js_urls.length === 0) {\n",
       "      run_callbacks();\n",
       "      return null;\n",
       "    }\n",
       "    console.debug(\"Bokeh: BokehJS not loaded, scheduling load and callback at\", now());\n",
       "    root._bokeh_is_loading = css_urls.length + js_urls.length;\n",
       "\n",
       "    function on_load() {\n",
       "      root._bokeh_is_loading--;\n",
       "      if (root._bokeh_is_loading === 0) {\n",
       "        console.debug(\"Bokeh: all BokehJS libraries/stylesheets loaded\");\n",
       "        run_callbacks()\n",
       "      }\n",
       "    }\n",
       "\n",
       "    function on_error() {\n",
       "      console.error(\"failed to load \" + url);\n",
       "    }\n",
       "\n",
       "    for (var i = 0; i < css_urls.length; i++) {\n",
       "      var url = css_urls[i];\n",
       "      const element = document.createElement(\"link\");\n",
       "      element.onload = on_load;\n",
       "      element.onerror = on_error;\n",
       "      element.rel = \"stylesheet\";\n",
       "      element.type = \"text/css\";\n",
       "      element.href = url;\n",
       "      console.debug(\"Bokeh: injecting link tag for BokehJS stylesheet: \", url);\n",
       "      document.body.appendChild(element);\n",
       "    }\n",
       "\n",
       "    const hashes = {\"https://cdn.bokeh.org/bokeh/release/bokeh-2.0.2.min.js\": \"ufR9RFnRs6lniiaFvtJziE0YeidtAgBRH6ux2oUItHw5WTvE1zuk9uzhUU/FJXDp\", \"https://cdn.bokeh.org/bokeh/release/bokeh-widgets-2.0.2.min.js\": \"8QM/PGWBT+IssZuRcDcjzwIh1mkOmJSoNMmyYDZbCfXJg3Ap1lEvdVgFuSAwhb/J\", \"https://cdn.bokeh.org/bokeh/release/bokeh-tables-2.0.2.min.js\": \"Jm8cH3Rg0P6UeZhVY5cLy1WzKajUT9KImCY+76hEqrcJt59/d8GPvFHjCkYgnSIn\", \"https://cdn.bokeh.org/bokeh/release/bokeh-gl-2.0.2.min.js\": \"Ozhzj+SI7ywm74aOI/UajcWz+C0NjsPunEVyVIrxzYkB+jA+2tUw8x5xJCbVtK5I\"};\n",
       "\n",
       "    for (var i = 0; i < js_urls.length; i++) {\n",
       "      var url = js_urls[i];\n",
       "      var element = document.createElement('script');\n",
       "      element.onload = on_load;\n",
       "      element.onerror = on_error;\n",
       "      element.async = false;\n",
       "      element.src = url;\n",
       "      if (url in hashes) {\n",
       "        element.crossOrigin = \"anonymous\";\n",
       "        element.integrity = \"sha384-\" + hashes[url];\n",
       "      }\n",
       "      console.debug(\"Bokeh: injecting script tag for BokehJS library: \", url);\n",
       "      document.head.appendChild(element);\n",
       "    }\n",
       "  };\n",
       "\n",
       "  function inject_raw_css(css) {\n",
       "    const element = document.createElement(\"style\");\n",
       "    element.appendChild(document.createTextNode(css));\n",
       "    document.body.appendChild(element);\n",
       "  }\n",
       "\n",
       "  \n",
       "  var js_urls = [\"https://cdn.bokeh.org/bokeh/release/bokeh-2.0.2.min.js\", \"https://cdn.bokeh.org/bokeh/release/bokeh-widgets-2.0.2.min.js\", \"https://cdn.bokeh.org/bokeh/release/bokeh-tables-2.0.2.min.js\", \"https://cdn.bokeh.org/bokeh/release/bokeh-gl-2.0.2.min.js\"];\n",
       "  var css_urls = [];\n",
       "  \n",
       "\n",
       "  var inline_js = [\n",
       "    function(Bokeh) {\n",
       "      Bokeh.set_log_level(\"info\");\n",
       "    },\n",
       "    function(Bokeh) {\n",
       "    \n",
       "    \n",
       "    }\n",
       "  ];\n",
       "\n",
       "  function run_inline_js() {\n",
       "    \n",
       "    if (root.Bokeh !== undefined || force === true) {\n",
       "      \n",
       "    for (var i = 0; i < inline_js.length; i++) {\n",
       "      inline_js[i].call(root, root.Bokeh);\n",
       "    }\n",
       "    if (force === true) {\n",
       "        display_loaded();\n",
       "      }} else if (Date.now() < root._bokeh_timeout) {\n",
       "      setTimeout(run_inline_js, 100);\n",
       "    } else if (!root._bokeh_failed_load) {\n",
       "      console.log(\"Bokeh: BokehJS failed to load within specified timeout.\");\n",
       "      root._bokeh_failed_load = true;\n",
       "    } else if (force !== true) {\n",
       "      var cell = $(document.getElementById(\"1001\")).parents('.cell').data().cell;\n",
       "      cell.output_area.append_execute_result(NB_LOAD_WARNING)\n",
       "    }\n",
       "\n",
       "  }\n",
       "\n",
       "  if (root._bokeh_is_loading === 0) {\n",
       "    console.debug(\"Bokeh: BokehJS loaded, going straight to plotting\");\n",
       "    run_inline_js();\n",
       "  } else {\n",
       "    load_libs(css_urls, js_urls, function() {\n",
       "      console.debug(\"Bokeh: BokehJS plotting callback run at\", now());\n",
       "      run_inline_js();\n",
       "    });\n",
       "  }\n",
       "}(window));"
      ],
      "application/vnd.bokehjs_load.v0+json": "\n(function(root) {\n  function now() {\n    return new Date();\n  }\n\n  var force = true;\n\n  if (typeof root._bokeh_onload_callbacks === \"undefined\" || force === true) {\n    root._bokeh_onload_callbacks = [];\n    root._bokeh_is_loading = undefined;\n  }\n\n  \n\n  \n  if (typeof (root._bokeh_timeout) === \"undefined\" || force === true) {\n    root._bokeh_timeout = Date.now() + 5000;\n    root._bokeh_failed_load = false;\n  }\n\n  var NB_LOAD_WARNING = {'data': {'text/html':\n     \"<div style='background-color: #fdd'>\\n\"+\n     \"<p>\\n\"+\n     \"BokehJS does not appear to have successfully loaded. If loading BokehJS from CDN, this \\n\"+\n     \"may be due to a slow or bad network connection. Possible fixes:\\n\"+\n     \"</p>\\n\"+\n     \"<ul>\\n\"+\n     \"<li>re-rerun `output_notebook()` to attempt to load from CDN again, or</li>\\n\"+\n     \"<li>use INLINE resources instead, as so:</li>\\n\"+\n     \"</ul>\\n\"+\n     \"<code>\\n\"+\n     \"from bokeh.resources import INLINE\\n\"+\n     \"output_notebook(resources=INLINE)\\n\"+\n     \"</code>\\n\"+\n     \"</div>\"}};\n\n  function display_loaded() {\n    var el = document.getElementById(\"1001\");\n    if (el != null) {\n      el.textContent = \"BokehJS is loading...\";\n    }\n    if (root.Bokeh !== undefined) {\n      if (el != null) {\n        el.textContent = \"BokehJS \" + root.Bokeh.version + \" successfully loaded.\";\n      }\n    } else if (Date.now() < root._bokeh_timeout) {\n      setTimeout(display_loaded, 100)\n    }\n  }\n\n\n  function run_callbacks() {\n    try {\n      root._bokeh_onload_callbacks.forEach(function(callback) {\n        if (callback != null)\n          callback();\n      });\n    } finally {\n      delete root._bokeh_onload_callbacks\n    }\n    console.debug(\"Bokeh: all callbacks have finished\");\n  }\n\n  function load_libs(css_urls, js_urls, callback) {\n    if (css_urls == null) css_urls = [];\n    if (js_urls == null) js_urls = [];\n\n    root._bokeh_onload_callbacks.push(callback);\n    if (root._bokeh_is_loading > 0) {\n      console.debug(\"Bokeh: BokehJS is being loaded, scheduling callback at\", now());\n      return null;\n    }\n    if (js_urls == null || js_urls.length === 0) {\n      run_callbacks();\n      return null;\n    }\n    console.debug(\"Bokeh: BokehJS not loaded, scheduling load and callback at\", now());\n    root._bokeh_is_loading = css_urls.length + js_urls.length;\n\n    function on_load() {\n      root._bokeh_is_loading--;\n      if (root._bokeh_is_loading === 0) {\n        console.debug(\"Bokeh: all BokehJS libraries/stylesheets loaded\");\n        run_callbacks()\n      }\n    }\n\n    function on_error() {\n      console.error(\"failed to load \" + url);\n    }\n\n    for (var i = 0; i < css_urls.length; i++) {\n      var url = css_urls[i];\n      const element = document.createElement(\"link\");\n      element.onload = on_load;\n      element.onerror = on_error;\n      element.rel = \"stylesheet\";\n      element.type = \"text/css\";\n      element.href = url;\n      console.debug(\"Bokeh: injecting link tag for BokehJS stylesheet: \", url);\n      document.body.appendChild(element);\n    }\n\n    const hashes = {\"https://cdn.bokeh.org/bokeh/release/bokeh-2.0.2.min.js\": \"ufR9RFnRs6lniiaFvtJziE0YeidtAgBRH6ux2oUItHw5WTvE1zuk9uzhUU/FJXDp\", \"https://cdn.bokeh.org/bokeh/release/bokeh-widgets-2.0.2.min.js\": \"8QM/PGWBT+IssZuRcDcjzwIh1mkOmJSoNMmyYDZbCfXJg3Ap1lEvdVgFuSAwhb/J\", \"https://cdn.bokeh.org/bokeh/release/bokeh-tables-2.0.2.min.js\": \"Jm8cH3Rg0P6UeZhVY5cLy1WzKajUT9KImCY+76hEqrcJt59/d8GPvFHjCkYgnSIn\", \"https://cdn.bokeh.org/bokeh/release/bokeh-gl-2.0.2.min.js\": \"Ozhzj+SI7ywm74aOI/UajcWz+C0NjsPunEVyVIrxzYkB+jA+2tUw8x5xJCbVtK5I\"};\n\n    for (var i = 0; i < js_urls.length; i++) {\n      var url = js_urls[i];\n      var element = document.createElement('script');\n      element.onload = on_load;\n      element.onerror = on_error;\n      element.async = false;\n      element.src = url;\n      if (url in hashes) {\n        element.crossOrigin = \"anonymous\";\n        element.integrity = \"sha384-\" + hashes[url];\n      }\n      console.debug(\"Bokeh: injecting script tag for BokehJS library: \", url);\n      document.head.appendChild(element);\n    }\n  };\n\n  function inject_raw_css(css) {\n    const element = document.createElement(\"style\");\n    element.appendChild(document.createTextNode(css));\n    document.body.appendChild(element);\n  }\n\n  \n  var js_urls = [\"https://cdn.bokeh.org/bokeh/release/bokeh-2.0.2.min.js\", \"https://cdn.bokeh.org/bokeh/release/bokeh-widgets-2.0.2.min.js\", \"https://cdn.bokeh.org/bokeh/release/bokeh-tables-2.0.2.min.js\", \"https://cdn.bokeh.org/bokeh/release/bokeh-gl-2.0.2.min.js\"];\n  var css_urls = [];\n  \n\n  var inline_js = [\n    function(Bokeh) {\n      Bokeh.set_log_level(\"info\");\n    },\n    function(Bokeh) {\n    \n    \n    }\n  ];\n\n  function run_inline_js() {\n    \n    if (root.Bokeh !== undefined || force === true) {\n      \n    for (var i = 0; i < inline_js.length; i++) {\n      inline_js[i].call(root, root.Bokeh);\n    }\n    if (force === true) {\n        display_loaded();\n      }} else if (Date.now() < root._bokeh_timeout) {\n      setTimeout(run_inline_js, 100);\n    } else if (!root._bokeh_failed_load) {\n      console.log(\"Bokeh: BokehJS failed to load within specified timeout.\");\n      root._bokeh_failed_load = true;\n    } else if (force !== true) {\n      var cell = $(document.getElementById(\"1001\")).parents('.cell').data().cell;\n      cell.output_area.append_execute_result(NB_LOAD_WARNING)\n    }\n\n  }\n\n  if (root._bokeh_is_loading === 0) {\n    console.debug(\"Bokeh: BokehJS loaded, going straight to plotting\");\n    run_inline_js();\n  } else {\n    load_libs(css_urls, js_urls, function() {\n      console.debug(\"Bokeh: BokehJS plotting callback run at\", now());\n      run_inline_js();\n    });\n  }\n}(window));"
     },
     "metadata": {},
     "output_type": "display_data"
    }
   ],
   "source": [
    "output_notebook()"
   ]
  },
  {
   "cell_type": "code",
   "execution_count": 3,
   "metadata": {},
   "outputs": [],
   "source": [
    "import math\n",
    "import scipy.optimize as optim\n",
    "import pandas as pd\n",
    "import statsmodels.api as sm\n",
    "from scipy.stats import ttest_ind"
   ]
  },
  {
   "cell_type": "code",
   "execution_count": 4,
   "metadata": {},
   "outputs": [],
   "source": [
    "from bokeh.io import show\n",
    "from bokeh.plotting import figure\n",
    "from bokeh.io import output_notebook\n",
    "from bokeh.layouts import gridplot\n",
    "from bokeh.models import Arrow, NormalHead, OpenHead, VeeHead\n",
    "from bokeh.models import Label\n",
    "from bokeh.models import Span\n",
    "from bokeh.embed import components\n"
   ]
  },
  {
   "cell_type": "code",
   "execution_count": 5,
   "metadata": {},
   "outputs": [],
   "source": [
    "def get_data():\n",
    "    df = pd.read_csv('data/states.csv')\n",
    "    df = df[(df['state'] != 'Guam') & (df['state'] != 'Northern Mariana Islands')]\n",
    "    df['date'] = pd.to_datetime(df['date'])\n",
    "    df = df.sort_values(by = ['date'])\n",
    "    return df\n"
   ]
  },
  {
   "cell_type": "code",
   "execution_count": 6,
   "metadata": {},
   "outputs": [],
   "source": [
    "\n",
    "def get_pop_data():\n",
    "    df = pd.read_csv('data/seven_day_state.csv')\n",
    "    #df = df[(df['state'] != 'Guam') & (df['state'] != 'Northern Mariana Islands')]\n",
    "    df['date'] = pd.to_datetime(df['date'])\n",
    "    df = df.sort_values(by = ['date'])\n",
    "    return df\n",
    "\n",
    "def get_pop():\n",
    "    df = get_pop_data()\n",
    "    states = df['state']\n",
    "    population = df['population']\n",
    "    d = {}\n",
    "    for x in set(list(zip(states, population))):\n",
    "        d[x[0]] = x[1]\n",
    "    return d\n"
   ]
  },
  {
   "cell_type": "code",
   "execution_count": 7,
   "metadata": {},
   "outputs": [],
   "source": [
    "def get_rate(df, state, leng, key):\n",
    "    df_s = df[df['state'] == state]\n",
    "    current = df_s[key].tolist()[-1 * leng:]\n",
    "    prev = df_s[key].tolist()[-2 * leng: -1 * leng]\n",
    "    assert len(prev) == leng\n",
    "    assert len(current) == leng\n",
    "    p_value_ttest = round(ttest_ind(current, prev).pvalue,2)\n",
    "    return np.mean(current)/np.mean(prev), p_value_ttest\n"
   ]
  },
  {
   "cell_type": "code",
   "execution_count": 8,
   "metadata": {},
   "outputs": [
    {
     "data": {
      "text/plain": [
       "(1322.0000000000005, 12.417582417582437, 0.7743636352458999)"
      ]
     },
     "execution_count": 8,
     "metadata": {},
     "output_type": "execute_result"
    }
   ],
   "source": [
    "def get_linear(y):\n",
    "    x = range(len(y))\n",
    "    X = list(zip(*[x]))\n",
    "    xm = sm.add_constant(X)\n",
    "    model = sm.OLS(y, xm) \n",
    "    result = model.fit()\n",
    "    slope = result.params[1]\n",
    "    p_value =result.pvalues[1]\n",
    "    return result.params[0], slope, p_value\n",
    "\n",
    "\n",
    "def get_state_linear(df, state, leng, key):\n",
    "    df_s = df[df['state'] == state]\n",
    "    y = df_s[key].tolist()[-1 * leng:]\n",
    "    assert len(y) == leng\n",
    "    return get_linear(y)\n",
    "get_state_linear(get_data(), 'Washington', 14, 'cases')\n"
   ]
  },
  {
   "cell_type": "code",
   "execution_count": 9,
   "metadata": {},
   "outputs": [
    {
     "name": "stdout",
     "output_type": "stream",
     "text": [
      "p value is 0.5328573001560631\n"
     ]
    },
    {
     "data": {
      "text/html": [
       "\n",
       "\n",
       "\n",
       "\n",
       "\n",
       "\n",
       "  <div class=\"bk-root\" id=\"20d0224e-3cfa-4919-abc9-3fba194def86\" data-root-id=\"1002\"></div>\n"
      ]
     },
     "metadata": {},
     "output_type": "display_data"
    },
    {
     "data": {
      "application/javascript": [
       "(function(root) {\n",
       "  function embed_document(root) {\n",
       "    \n",
       "  var docs_json = {\"81db6226-fa83-4764-822f-66e4cdac49f3\":{\"roots\":{\"references\":[{\"attributes\":{\"below\":[{\"id\":\"1011\"}],\"center\":[{\"id\":\"1014\"},{\"id\":\"1018\"}],\"left\":[{\"id\":\"1015\"}],\"renderers\":[{\"id\":\"1036\"},{\"id\":\"1041\"}],\"title\":{\"id\":\"1044\"},\"toolbar\":{\"id\":\"1026\"},\"x_range\":{\"id\":\"1003\"},\"x_scale\":{\"id\":\"1007\"},\"y_range\":{\"id\":\"1005\"},\"y_scale\":{\"id\":\"1009\"}},\"id\":\"1002\",\"subtype\":\"Figure\",\"type\":\"Plot\"},{\"attributes\":{\"data_source\":{\"id\":\"1038\"},\"glyph\":{\"id\":\"1039\"},\"hover_glyph\":null,\"muted_glyph\":null,\"nonselection_glyph\":{\"id\":\"1040\"},\"selection_glyph\":null,\"view\":{\"id\":\"1042\"}},\"id\":\"1041\",\"type\":\"GlyphRenderer\"},{\"attributes\":{\"text\":\"\"},\"id\":\"1044\",\"type\":\"Title\"},{\"attributes\":{},\"id\":\"1047\",\"type\":\"BasicTickFormatter\"},{\"attributes\":{},\"id\":\"1061\",\"type\":\"Selection\"},{\"attributes\":{},\"id\":\"1062\",\"type\":\"UnionRenderers\"},{\"attributes\":{\"data\":{\"x\":[1619136000000.0,1619222400000.0,1619308800000.0,1619395200000.0,1619481600000.0,1619568000000.0,1619654400000.0],\"y\":[1989,1202,1791,1031,2582,822,2984]},\"selected\":{\"id\":\"1061\"},\"selection_policy\":{\"id\":\"1062\"}},\"id\":\"1033\",\"type\":\"ColumnDataSource\"},{\"attributes\":{},\"id\":\"1045\",\"type\":\"DatetimeTickFormatter\"},{\"attributes\":{},\"id\":\"1019\",\"type\":\"PanTool\"},{\"attributes\":{},\"id\":\"1063\",\"type\":\"Selection\"},{\"attributes\":{},\"id\":\"1020\",\"type\":\"WheelZoomTool\"},{\"attributes\":{},\"id\":\"1064\",\"type\":\"UnionRenderers\"},{\"attributes\":{\"overlay\":{\"id\":\"1025\"}},\"id\":\"1021\",\"type\":\"BoxZoomTool\"},{\"attributes\":{},\"id\":\"1022\",\"type\":\"SaveTool\"},{\"attributes\":{},\"id\":\"1003\",\"type\":\"DataRange1d\"},{\"attributes\":{},\"id\":\"1023\",\"type\":\"ResetTool\"},{\"attributes\":{\"mantissas\":[1,2,5],\"max_interval\":500.0,\"num_minor_ticks\":0},\"id\":\"1049\",\"type\":\"AdaptiveTicker\"},{\"attributes\":{},\"id\":\"1024\",\"type\":\"HelpTool\"},{\"attributes\":{\"base\":24,\"mantissas\":[1,2,4,6,8,12],\"max_interval\":43200000.0,\"min_interval\":3600000.0,\"num_minor_ticks\":0},\"id\":\"1051\",\"type\":\"AdaptiveTicker\"},{\"attributes\":{\"base\":60,\"mantissas\":[1,2,5,10,15,20,30],\"max_interval\":1800000.0,\"min_interval\":1000.0,\"num_minor_ticks\":0},\"id\":\"1050\",\"type\":\"AdaptiveTicker\"},{\"attributes\":{},\"id\":\"1060\",\"type\":\"YearsTicker\"},{\"attributes\":{\"active_drag\":\"auto\",\"active_inspect\":\"auto\",\"active_multi\":null,\"active_scroll\":\"auto\",\"active_tap\":\"auto\",\"tools\":[{\"id\":\"1019\"},{\"id\":\"1020\"},{\"id\":\"1021\"},{\"id\":\"1022\"},{\"id\":\"1023\"},{\"id\":\"1024\"}]},\"id\":\"1026\",\"type\":\"Toolbar\"},{\"attributes\":{\"months\":[0,6]},\"id\":\"1059\",\"type\":\"MonthsTicker\"},{\"attributes\":{},\"id\":\"1005\",\"type\":\"DataRange1d\"},{\"attributes\":{\"line_alpha\":0.1,\"line_color\":\"#1f77b4\",\"x\":{\"field\":\"x\"},\"y\":{\"field\":\"y\"}},\"id\":\"1040\",\"type\":\"Line\"},{\"attributes\":{\"axis\":{\"id\":\"1011\"},\"ticker\":null},\"id\":\"1014\",\"type\":\"Grid\"},{\"attributes\":{},\"id\":\"1007\",\"type\":\"LinearScale\"},{\"attributes\":{\"line_color\":\"#1f77b4\",\"x\":{\"field\":\"x\"},\"y\":{\"field\":\"y\"}},\"id\":\"1039\",\"type\":\"Line\"},{\"attributes\":{\"days\":[1,2,3,4,5,6,7,8,9,10,11,12,13,14,15,16,17,18,19,20,21,22,23,24,25,26,27,28,29,30,31]},\"id\":\"1052\",\"type\":\"DaysTicker\"},{\"attributes\":{},\"id\":\"1009\",\"type\":\"LinearScale\"},{\"attributes\":{\"months\":[0,2,4,6,8,10]},\"id\":\"1057\",\"type\":\"MonthsTicker\"},{\"attributes\":{\"bottom_units\":\"screen\",\"fill_alpha\":0.5,\"fill_color\":\"lightgrey\",\"left_units\":\"screen\",\"level\":\"overlay\",\"line_alpha\":1.0,\"line_color\":\"black\",\"line_dash\":[4,4],\"line_width\":2,\"render_mode\":\"css\",\"right_units\":\"screen\",\"top_units\":\"screen\"},\"id\":\"1025\",\"type\":\"BoxAnnotation\"},{\"attributes\":{\"formatter\":{\"id\":\"1045\"},\"ticker\":{\"id\":\"1012\"}},\"id\":\"1011\",\"type\":\"DatetimeAxis\"},{\"attributes\":{\"line_color\":\"#1f77b4\",\"x\":{\"field\":\"x\"},\"y\":{\"field\":\"y\"}},\"id\":\"1034\",\"type\":\"Line\"},{\"attributes\":{\"days\":[1,8,15,22]},\"id\":\"1054\",\"type\":\"DaysTicker\"},{\"attributes\":{\"num_minor_ticks\":5,\"tickers\":[{\"id\":\"1049\"},{\"id\":\"1050\"},{\"id\":\"1051\"},{\"id\":\"1052\"},{\"id\":\"1053\"},{\"id\":\"1054\"},{\"id\":\"1055\"},{\"id\":\"1056\"},{\"id\":\"1057\"},{\"id\":\"1058\"},{\"id\":\"1059\"},{\"id\":\"1060\"}]},\"id\":\"1012\",\"type\":\"DatetimeTicker\"},{\"attributes\":{\"data_source\":{\"id\":\"1033\"},\"glyph\":{\"id\":\"1034\"},\"hover_glyph\":null,\"muted_glyph\":null,\"nonselection_glyph\":{\"id\":\"1035\"},\"selection_glyph\":null,\"view\":{\"id\":\"1037\"}},\"id\":\"1036\",\"type\":\"GlyphRenderer\"},{\"attributes\":{\"days\":[1,15]},\"id\":\"1055\",\"type\":\"DaysTicker\"},{\"attributes\":{\"line_alpha\":0.1,\"line_color\":\"#1f77b4\",\"x\":{\"field\":\"x\"},\"y\":{\"field\":\"y\"}},\"id\":\"1035\",\"type\":\"Line\"},{\"attributes\":{\"months\":[0,1,2,3,4,5,6,7,8,9,10,11]},\"id\":\"1056\",\"type\":\"MonthsTicker\"},{\"attributes\":{\"formatter\":{\"id\":\"1047\"},\"ticker\":{\"id\":\"1016\"}},\"id\":\"1015\",\"type\":\"LinearAxis\"},{\"attributes\":{\"days\":[1,4,7,10,13,16,19,22,25,28]},\"id\":\"1053\",\"type\":\"DaysTicker\"},{\"attributes\":{\"source\":{\"id\":\"1033\"}},\"id\":\"1037\",\"type\":\"CDSView\"},{\"attributes\":{\"data\":{\"x\":[1619136000000.0,1619222400000.0,1619308800000.0,1619395200000.0,1619481600000.0,1619568000000.0,1619654400000.0],\"y\":[1448.4285714285718,1556.1428571428576,1663.8571428571433,1771.5714285714291,1879.285714285715,1987.0000000000007,2094.7142857142862]},\"selected\":{\"id\":\"1063\"},\"selection_policy\":{\"id\":\"1064\"}},\"id\":\"1038\",\"type\":\"ColumnDataSource\"},{\"attributes\":{},\"id\":\"1016\",\"type\":\"BasicTicker\"},{\"attributes\":{\"months\":[0,4,8]},\"id\":\"1058\",\"type\":\"MonthsTicker\"},{\"attributes\":{\"source\":{\"id\":\"1038\"}},\"id\":\"1042\",\"type\":\"CDSView\"},{\"attributes\":{\"axis\":{\"id\":\"1015\"},\"dimension\":1,\"ticker\":null},\"id\":\"1018\",\"type\":\"Grid\"}],\"root_ids\":[\"1002\"]},\"title\":\"Bokeh Application\",\"version\":\"2.0.2\"}};\n",
       "  var render_items = [{\"docid\":\"81db6226-fa83-4764-822f-66e4cdac49f3\",\"root_ids\":[\"1002\"],\"roots\":{\"1002\":\"20d0224e-3cfa-4919-abc9-3fba194def86\"}}];\n",
       "  root.Bokeh.embed.embed_items_notebook(docs_json, render_items);\n",
       "\n",
       "  }\n",
       "  if (root.Bokeh !== undefined) {\n",
       "    embed_document(root);\n",
       "  } else {\n",
       "    var attempts = 0;\n",
       "    var timer = setInterval(function(root) {\n",
       "      if (root.Bokeh !== undefined) {\n",
       "        clearInterval(timer);\n",
       "        embed_document(root);\n",
       "      } else {\n",
       "        attempts++;\n",
       "        if (attempts > 100) {\n",
       "          clearInterval(timer);\n",
       "          console.log(\"Bokeh: ERROR: Unable to run BokehJS code because BokehJS library is missing\");\n",
       "        }\n",
       "      }\n",
       "    }, 10, root)\n",
       "  }\n",
       "})(window);"
      ],
      "application/vnd.bokehjs_exec.v0+json": ""
     },
     "metadata": {
      "application/vnd.bokehjs_exec.v0+json": {
       "id": "1002"
      }
     },
     "output_type": "display_data"
    }
   ],
   "source": [
    "def test_slope(df, state, leng, key, window = None):\n",
    "    #print('p value is {p}'.format(p = p))\n",
    "    df_s = df[df['state'] == state]\n",
    "    df_s = df_s.sort_values(by = ['date'])\n",
    "    if window:\n",
    "        y = df_s['cases'].rolling(window).mean().tolist()[-1 * leng:]\n",
    "    else:\n",
    "        y = df_s['cases'].tolist()[-1 * leng:]\n",
    "\n",
    "    inter, slope, p = get_linear(y)\n",
    "    print('p value is {p}'.format(p = p))\n",
    "    x = df_s['date'].tolist()[-1 * leng:]\n",
    "    y_hat = [x * slope + inter for x in range(leng)]\n",
    "    p = figure(x_axis_type = 'datetime')\n",
    "    p.line(x=x, y = y)\n",
    "    p.line(x = x[-1 * leng:], y = y_hat)\n",
    "    return p\n",
    "show(test_slope(get_data(), 'Colorado', 7, 'cases', window = None))\n",
    "    "
   ]
  },
  {
   "cell_type": "markdown",
   "metadata": {},
   "source": [
    "Metrics:\n",
    "* if the state is way down from its peak\n",
    "* if the state has a low # cases/million\n",
    "* if the state has a longer declining slope (how to measure?)\n",
    "* if the slope is increasing but not significant ? "
   ]
  },
  {
   "cell_type": "code",
   "execution_count": 10,
   "metadata": {},
   "outputs": [],
   "source": [
    "def all_states_info(df, leng):\n",
    "    final = []\n",
    "    for state in set(df['state'].tolist()):\n",
    "        change, p = get_rate(df, state, leng, 'cases')\n",
    "        final.append((state, change))\n",
    "    return final"
   ]
  },
  {
   "cell_type": "code",
   "execution_count": 11,
   "metadata": {},
   "outputs": [],
   "source": [
    "def make_bar(labels_neg, labels_pos, y_neg, y_pos, labels_neutral = None, y_neutral = None, plot_height = 450, \n",
    "             plot_width = 450, title = None):\n",
    "    x_range = []\n",
    "    if labels_neutral:\n",
    "        x_range = labels_neg + labels_neutral + labels_pos\n",
    "    else:\n",
    "        x_range = labels_neg  + labels_pos    \n",
    "    p = figure(x_range = x_range , plot_height = plot_height, \n",
    "               plot_width = plot_width, title = title)\n",
    "    p.vbar(x=labels_neg, top=y_neg , line_width = 5, width = .9, color = 'green')\n",
    "    if labels_neutral:\n",
    "        p.vbar(x=labels_neutral, top=y_neutral , line_width = 5, width = .9, color = 'yellow')\n",
    "    p.vbar(x=labels_pos, top=y_pos , line_width = 5, width = .9, color = 'red')\n",
    "    p.xaxis.major_label_orientation = \"vertical\"\n",
    "    p.xgrid.grid_line_color = None\n",
    "    #p.y_range = Range1d(1, max(y_pos))\n",
    "    return p"
   ]
  },
  {
   "cell_type": "code",
   "execution_count": 12,
   "metadata": {},
   "outputs": [
    {
     "data": {
      "text/html": [
       "\n",
       "\n",
       "\n",
       "\n",
       "\n",
       "\n",
       "  <div class=\"bk-root\" id=\"7c4664ea-9603-4533-b1ea-b036e42d29c6\" data-root-id=\"1204\"></div>\n"
      ]
     },
     "metadata": {},
     "output_type": "display_data"
    },
    {
     "data": {
      "application/javascript": [
       "(function(root) {\n",
       "  function embed_document(root) {\n",
       "    \n",
       "  var docs_json = {\"b315c7f1-689d-4569-bd64-9033e577213d\":{\"roots\":{\"references\":[{\"attributes\":{\"below\":[{\"id\":\"1215\"}],\"center\":[{\"id\":\"1217\"},{\"id\":\"1221\"}],\"left\":[{\"id\":\"1218\"}],\"plot_height\":450,\"plot_width\":800,\"renderers\":[{\"id\":\"1239\"},{\"id\":\"1244\"},{\"id\":\"1249\"}],\"title\":{\"id\":\"1205\"},\"toolbar\":{\"id\":\"1229\"},\"x_range\":{\"id\":\"1207\"},\"x_scale\":{\"id\":\"1211\"},\"y_range\":{\"id\":\"1209\"},\"y_scale\":{\"id\":\"1213\"}},\"id\":\"1204\",\"subtype\":\"Figure\",\"type\":\"Plot\"},{\"attributes\":{},\"id\":\"1211\",\"type\":\"CategoricalScale\"},{\"attributes\":{},\"id\":\"1283\",\"type\":\"Selection\"},{\"attributes\":{},\"id\":\"1213\",\"type\":\"LinearScale\"},{\"attributes\":{},\"id\":\"1284\",\"type\":\"UnionRenderers\"},{\"attributes\":{\"formatter\":{\"id\":\"1275\"},\"major_label_orientation\":\"vertical\",\"ticker\":{\"id\":\"1216\"}},\"id\":\"1215\",\"type\":\"CategoricalAxis\"},{\"attributes\":{\"bottom_units\":\"screen\",\"fill_alpha\":0.5,\"fill_color\":\"lightgrey\",\"left_units\":\"screen\",\"level\":\"overlay\",\"line_alpha\":1.0,\"line_color\":\"black\",\"line_dash\":[4,4],\"line_width\":2,\"render_mode\":\"css\",\"right_units\":\"screen\",\"top_units\":\"screen\"},\"id\":\"1228\",\"type\":\"BoxAnnotation\"},{\"attributes\":{},\"id\":\"1216\",\"type\":\"CategoricalTicker\"},{\"attributes\":{},\"id\":\"1279\",\"type\":\"Selection\"},{\"attributes\":{\"text\":\"7 -day\"},\"id\":\"1205\",\"type\":\"Title\"},{\"attributes\":{\"axis\":{\"id\":\"1215\"},\"grid_line_color\":null,\"ticker\":null},\"id\":\"1217\",\"type\":\"Grid\"},{\"attributes\":{},\"id\":\"1277\",\"type\":\"BasicTickFormatter\"},{\"attributes\":{},\"id\":\"1280\",\"type\":\"UnionRenderers\"},{\"attributes\":{\"formatter\":{\"id\":\"1277\"},\"ticker\":{\"id\":\"1219\"}},\"id\":\"1218\",\"type\":\"LinearAxis\"},{\"attributes\":{\"source\":{\"id\":\"1236\"}},\"id\":\"1240\",\"type\":\"CDSView\"},{\"attributes\":{\"data_source\":{\"id\":\"1236\"},\"glyph\":{\"id\":\"1237\"},\"hover_glyph\":null,\"muted_glyph\":null,\"nonselection_glyph\":{\"id\":\"1238\"},\"selection_glyph\":null,\"view\":{\"id\":\"1240\"}},\"id\":\"1239\",\"type\":\"GlyphRenderer\"},{\"attributes\":{\"data\":{\"top\":[-1.7146118721461185,0.20643686095172353,0.5434782608695653,0.6336359292881032,0.6403326403326404,0.6558287073750991,0.6981673306772909,0.7125214408233276,0.7327404035947332,0.7368714737429475,0.7397317686504611,0.7401030368763557,0.7529761904761905,0.7549167927382754,0.786745056119722,0.7891911675003049,0.7917241379310345,0.8006773920406435,0.8168706293706295,0.8173144876325089,0.8217934165720772,0.8225750174459177,0.8487475915221581,0.849141503848431,0.8510433386837881,0.8565275016567262,0.8728339985912186,0.8869275603663613,0.9082466567607727,0.9084577114427859,0.91604447974583,0.9307100085543198,0.9387376237623762,0.941008046601175,0.9421875,0.9492547454244341,0.9505805515239477,0.9693935386359342,0.9739326324822999,0.9803994082840237],\"x\":[\"Missouri\",\"New Jersey\",\"Virgin Islands\",\"Tennessee\",\"Alabama\",\"Nebraska\",\"New York\",\"Maine\",\"Michigan\",\"California\",\"New Hampshire\",\"Puerto Rico\",\"Delaware\",\"Vermont\",\"Virginia\",\"Maryland\",\"District of Columbia\",\"Pennsylvania\",\"Rhode Island\",\"Massachusetts\",\"Louisiana\",\"Connecticut\",\"South Dakota\",\"Indiana\",\"South Carolina\",\"Iowa\",\"Florida\",\"Ohio\",\"West Virginia\",\"North Dakota\",\"Minnesota\",\"Alaska\",\"Mississippi\",\"Illinois\",\"Hawaii\",\"Texas\",\"North Carolina\",\"Wisconsin\",\"Georgia\",\"Utah\"]},\"selected\":{\"id\":\"1279\"},\"selection_policy\":{\"id\":\"1280\"}},\"id\":\"1236\",\"type\":\"ColumnDataSource\"},{\"attributes\":{},\"id\":\"1219\",\"type\":\"BasicTicker\"},{\"attributes\":{\"data\":{\"top\":[1.017512077294686,1.0267085624509034,1.0275300504071345,1.0368477676169983,1.0456570155902005,1.0519855595667869,1.053539684199519,1.054225352112676,1.091445168104207],\"x\":[\"Oklahoma\",\"Arkansas\",\"Nevada\",\"Kentucky\",\"Montana\",\"New Mexico\",\"Washington\",\"Idaho\",\"Colorado\"]},\"selected\":{\"id\":\"1281\"},\"selection_policy\":{\"id\":\"1282\"}},\"id\":\"1241\",\"type\":\"ColumnDataSource\"},{\"attributes\":{\"axis\":{\"id\":\"1218\"},\"dimension\":1,\"ticker\":null},\"id\":\"1221\",\"type\":\"Grid\"},{\"attributes\":{\"fill_alpha\":{\"value\":0.1},\"fill_color\":{\"value\":\"yellow\"},\"line_alpha\":{\"value\":0.1},\"line_color\":{\"value\":\"yellow\"},\"line_width\":{\"value\":5},\"top\":{\"field\":\"top\"},\"width\":{\"value\":0.9},\"x\":{\"field\":\"x\"}},\"id\":\"1243\",\"type\":\"VBar\"},{\"attributes\":{\"data\":{\"top\":[1.1017421602787456,1.1035214255409418,1.104673619157976,1.1121951219512194],\"x\":[\"Kansas\",\"Arizona\",\"Oregon\",\"Wyoming\"]},\"selected\":{\"id\":\"1283\"},\"selection_policy\":{\"id\":\"1284\"}},\"id\":\"1246\",\"type\":\"ColumnDataSource\"},{\"attributes\":{\"fill_alpha\":{\"value\":0.1},\"fill_color\":{\"value\":\"green\"},\"line_alpha\":{\"value\":0.1},\"line_color\":{\"value\":\"green\"},\"line_width\":{\"value\":5},\"top\":{\"field\":\"top\"},\"width\":{\"value\":0.9},\"x\":{\"field\":\"x\"}},\"id\":\"1238\",\"type\":\"VBar\"},{\"attributes\":{\"fill_color\":{\"value\":\"yellow\"},\"line_color\":{\"value\":\"yellow\"},\"line_width\":{\"value\":5},\"top\":{\"field\":\"top\"},\"width\":{\"value\":0.9},\"x\":{\"field\":\"x\"}},\"id\":\"1242\",\"type\":\"VBar\"},{\"attributes\":{\"fill_color\":{\"value\":\"green\"},\"line_color\":{\"value\":\"green\"},\"line_width\":{\"value\":5},\"top\":{\"field\":\"top\"},\"width\":{\"value\":0.9},\"x\":{\"field\":\"x\"}},\"id\":\"1237\",\"type\":\"VBar\"},{\"attributes\":{},\"id\":\"1275\",\"type\":\"CategoricalTickFormatter\"},{\"attributes\":{\"source\":{\"id\":\"1241\"}},\"id\":\"1245\",\"type\":\"CDSView\"},{\"attributes\":{},\"id\":\"1222\",\"type\":\"PanTool\"},{\"attributes\":{\"data_source\":{\"id\":\"1241\"},\"glyph\":{\"id\":\"1242\"},\"hover_glyph\":null,\"muted_glyph\":null,\"nonselection_glyph\":{\"id\":\"1243\"},\"selection_glyph\":null,\"view\":{\"id\":\"1245\"}},\"id\":\"1244\",\"type\":\"GlyphRenderer\"},{\"attributes\":{},\"id\":\"1223\",\"type\":\"WheelZoomTool\"},{\"attributes\":{\"fill_alpha\":{\"value\":0.1},\"fill_color\":{\"value\":\"red\"},\"line_alpha\":{\"value\":0.1},\"line_color\":{\"value\":\"red\"},\"line_width\":{\"value\":5},\"top\":{\"field\":\"top\"},\"width\":{\"value\":0.9},\"x\":{\"field\":\"x\"}},\"id\":\"1248\",\"type\":\"VBar\"},{\"attributes\":{\"overlay\":{\"id\":\"1228\"}},\"id\":\"1224\",\"type\":\"BoxZoomTool\"},{\"attributes\":{},\"id\":\"1281\",\"type\":\"Selection\"},{\"attributes\":{\"fill_color\":{\"value\":\"red\"},\"line_color\":{\"value\":\"red\"},\"line_width\":{\"value\":5},\"top\":{\"field\":\"top\"},\"width\":{\"value\":0.9},\"x\":{\"field\":\"x\"}},\"id\":\"1247\",\"type\":\"VBar\"},{\"attributes\":{},\"id\":\"1225\",\"type\":\"SaveTool\"},{\"attributes\":{},\"id\":\"1226\",\"type\":\"ResetTool\"},{\"attributes\":{\"source\":{\"id\":\"1246\"}},\"id\":\"1250\",\"type\":\"CDSView\"},{\"attributes\":{},\"id\":\"1227\",\"type\":\"HelpTool\"},{\"attributes\":{\"data_source\":{\"id\":\"1246\"},\"glyph\":{\"id\":\"1247\"},\"hover_glyph\":null,\"muted_glyph\":null,\"nonselection_glyph\":{\"id\":\"1248\"},\"selection_glyph\":null,\"view\":{\"id\":\"1250\"}},\"id\":\"1249\",\"type\":\"GlyphRenderer\"},{\"attributes\":{},\"id\":\"1282\",\"type\":\"UnionRenderers\"},{\"attributes\":{\"factors\":[\"Missouri\",\"New Jersey\",\"Virgin Islands\",\"Tennessee\",\"Alabama\",\"Nebraska\",\"New York\",\"Maine\",\"Michigan\",\"California\",\"New Hampshire\",\"Puerto Rico\",\"Delaware\",\"Vermont\",\"Virginia\",\"Maryland\",\"District of Columbia\",\"Pennsylvania\",\"Rhode Island\",\"Massachusetts\",\"Louisiana\",\"Connecticut\",\"South Dakota\",\"Indiana\",\"South Carolina\",\"Iowa\",\"Florida\",\"Ohio\",\"West Virginia\",\"North Dakota\",\"Minnesota\",\"Alaska\",\"Mississippi\",\"Illinois\",\"Hawaii\",\"Texas\",\"North Carolina\",\"Wisconsin\",\"Georgia\",\"Utah\",\"Oklahoma\",\"Arkansas\",\"Nevada\",\"Kentucky\",\"Montana\",\"New Mexico\",\"Washington\",\"Idaho\",\"Colorado\",\"Kansas\",\"Arizona\",\"Oregon\",\"Wyoming\"]},\"id\":\"1207\",\"type\":\"FactorRange\"},{\"attributes\":{},\"id\":\"1209\",\"type\":\"DataRange1d\"},{\"attributes\":{\"active_drag\":\"auto\",\"active_inspect\":\"auto\",\"active_multi\":null,\"active_scroll\":\"auto\",\"active_tap\":\"auto\",\"tools\":[{\"id\":\"1222\"},{\"id\":\"1223\"},{\"id\":\"1224\"},{\"id\":\"1225\"},{\"id\":\"1226\"},{\"id\":\"1227\"}]},\"id\":\"1229\",\"type\":\"Toolbar\"}],\"root_ids\":[\"1204\"]},\"title\":\"Bokeh Application\",\"version\":\"2.0.2\"}};\n",
       "  var render_items = [{\"docid\":\"b315c7f1-689d-4569-bd64-9033e577213d\",\"root_ids\":[\"1204\"],\"roots\":{\"1204\":\"7c4664ea-9603-4533-b1ea-b036e42d29c6\"}}];\n",
       "  root.Bokeh.embed.embed_items_notebook(docs_json, render_items);\n",
       "\n",
       "  }\n",
       "  if (root.Bokeh !== undefined) {\n",
       "    embed_document(root);\n",
       "  } else {\n",
       "    var attempts = 0;\n",
       "    var timer = setInterval(function(root) {\n",
       "      if (root.Bokeh !== undefined) {\n",
       "        clearInterval(timer);\n",
       "        embed_document(root);\n",
       "      } else {\n",
       "        attempts++;\n",
       "        if (attempts > 100) {\n",
       "          clearInterval(timer);\n",
       "          console.log(\"Bokeh: ERROR: Unable to run BokehJS code because BokehJS library is missing\");\n",
       "        }\n",
       "      }\n",
       "    }, 10, root)\n",
       "  }\n",
       "})(window);"
      ],
      "application/vnd.bokehjs_exec.v0+json": ""
     },
     "metadata": {
      "application/vnd.bokehjs_exec.v0+json": {
       "id": "1204"
      }
     },
     "output_type": "display_data"
    },
    {
     "data": {
      "text/html": [
       "\n",
       "\n",
       "\n",
       "\n",
       "\n",
       "\n",
       "  <div class=\"bk-root\" id=\"b7b016f8-472b-46f6-b982-95fb2f6a7f25\" data-root-id=\"1358\"></div>\n"
      ]
     },
     "metadata": {},
     "output_type": "display_data"
    },
    {
     "data": {
      "application/javascript": [
       "(function(root) {\n",
       "  function embed_document(root) {\n",
       "    \n",
       "  var docs_json = {\"ce8c7bbe-460e-401b-8b37-74c38bd482f3\":{\"roots\":{\"references\":[{\"attributes\":{\"below\":[{\"id\":\"1369\"}],\"center\":[{\"id\":\"1371\"},{\"id\":\"1375\"}],\"left\":[{\"id\":\"1372\"}],\"plot_height\":450,\"plot_width\":800,\"renderers\":[{\"id\":\"1393\"},{\"id\":\"1398\"},{\"id\":\"1403\"}],\"title\":{\"id\":\"1359\"},\"toolbar\":{\"id\":\"1383\"},\"x_range\":{\"id\":\"1361\"},\"x_scale\":{\"id\":\"1365\"},\"y_range\":{\"id\":\"1363\"},\"y_scale\":{\"id\":\"1367\"}},\"id\":\"1358\",\"subtype\":\"Figure\",\"type\":\"Plot\"},{\"attributes\":{},\"id\":\"1441\",\"type\":\"CategoricalTickFormatter\"},{\"attributes\":{\"fill_alpha\":{\"value\":0.1},\"fill_color\":{\"value\":\"yellow\"},\"line_alpha\":{\"value\":0.1},\"line_color\":{\"value\":\"yellow\"},\"line_width\":{\"value\":5},\"top\":{\"field\":\"top\"},\"width\":{\"value\":0.9},\"x\":{\"field\":\"x\"}},\"id\":\"1397\",\"type\":\"VBar\"},{\"attributes\":{\"axis\":{\"id\":\"1372\"},\"dimension\":1,\"ticker\":null},\"id\":\"1375\",\"type\":\"Grid\"},{\"attributes\":{\"text\":\"14 -day\"},\"id\":\"1359\",\"type\":\"Title\"},{\"attributes\":{\"data\":{\"top\":[1.1025641025641026,1.1831302717900656,1.2349390013834738,1.2381825197761915,1.471112311015119],\"x\":[\"Arkansas\",\"Alabama\",\"Washington\",\"Puerto Rico\",\"Oregon\"]},\"selected\":{\"id\":\"1449\"},\"selection_policy\":{\"id\":\"1450\"}},\"id\":\"1400\",\"type\":\"ColumnDataSource\"},{\"attributes\":{\"fill_color\":{\"value\":\"yellow\"},\"line_color\":{\"value\":\"yellow\"},\"line_width\":{\"value\":5},\"top\":{\"field\":\"top\"},\"width\":{\"value\":0.9},\"x\":{\"field\":\"x\"}},\"id\":\"1396\",\"type\":\"VBar\"},{\"attributes\":{\"fill_color\":{\"value\":\"green\"},\"line_color\":{\"value\":\"green\"},\"line_width\":{\"value\":5},\"top\":{\"field\":\"top\"},\"width\":{\"value\":0.9},\"x\":{\"field\":\"x\"}},\"id\":\"1391\",\"type\":\"VBar\"},{\"attributes\":{\"data\":{\"top\":[1.0093427835051545,1.022719565954561,1.039739960155185,1.0427512899096092,1.0638820638820639,1.0687531213584152,1.0688228657389998,1.0908965707202865,1.0970929859462233],\"x\":[\"Mississippi\",\"Kansas\",\"Arizona\",\"North Carolina\",\"Wyoming\",\"Louisiana\",\"New Mexico\",\"Colorado\",\"Tennessee\"]},\"selected\":{\"id\":\"1447\"},\"selection_policy\":{\"id\":\"1448\"}},\"id\":\"1395\",\"type\":\"ColumnDataSource\"},{\"attributes\":{\"fill_alpha\":{\"value\":0.1},\"fill_color\":{\"value\":\"green\"},\"line_alpha\":{\"value\":0.1},\"line_color\":{\"value\":\"green\"},\"line_width\":{\"value\":5},\"top\":{\"field\":\"top\"},\"width\":{\"value\":0.9},\"x\":{\"field\":\"x\"}},\"id\":\"1392\",\"type\":\"VBar\"},{\"attributes\":{\"data\":{\"top\":[0.2157380815623205,0.5278118570808403,0.5418028958430641,0.5747462583863754,0.6173913043478261,0.6535685809498498,0.6726113829513263,0.6934513865686602,0.6999650192394183,0.7055329260013579,0.7158467324149047,0.7161207226650885,0.7313262195121952,0.7772948908204368,0.783001808318264,0.7987758224942616,0.8018141836173722,0.802641056422569,0.8073963232150492,0.8261078998073217,0.8317992874109263,0.8494825197620406,0.8565493732911977,0.857832988267771,0.8646622178900802,0.872223397503702,0.8853437211501655,0.8870111057460165,0.9221153846153846,0.9341887417218543,0.9391163793103449,0.9419154228855721,0.9504426676834717,0.9535679121106908,0.957859407048294,0.9665053242981606,0.9725753723211042,0.9805819020763906,0.9984016367239945],\"x\":[\"Missouri\",\"New Jersey\",\"Vermont\",\"Oklahoma\",\"Virgin Islands\",\"New York\",\"Connecticut\",\"New Hampshire\",\"California\",\"Rhode Island\",\"Michigan\",\"Massachusetts\",\"South Dakota\",\"Maryland\",\"District of Columbia\",\"Nebraska\",\"Idaho\",\"Virginia\",\"Ohio\",\"Pennsylvania\",\"Iowa\",\"Wisconsin\",\"Minnesota\",\"Hawaii\",\"South Carolina\",\"Delaware\",\"Illinois\",\"Montana\",\"North Dakota\",\"Alaska\",\"Nevada\",\"Kentucky\",\"Florida\",\"Georgia\",\"West Virginia\",\"Maine\",\"Utah\",\"Texas\",\"Indiana\"]},\"selected\":{\"id\":\"1445\"},\"selection_policy\":{\"id\":\"1446\"}},\"id\":\"1390\",\"type\":\"ColumnDataSource\"},{\"attributes\":{\"source\":{\"id\":\"1395\"}},\"id\":\"1399\",\"type\":\"CDSView\"},{\"attributes\":{\"data_source\":{\"id\":\"1395\"},\"glyph\":{\"id\":\"1396\"},\"hover_glyph\":null,\"muted_glyph\":null,\"nonselection_glyph\":{\"id\":\"1397\"},\"selection_glyph\":null,\"view\":{\"id\":\"1399\"}},\"id\":\"1398\",\"type\":\"GlyphRenderer\"},{\"attributes\":{},\"id\":\"1376\",\"type\":\"PanTool\"},{\"attributes\":{},\"id\":\"1443\",\"type\":\"BasicTickFormatter\"},{\"attributes\":{},\"id\":\"1377\",\"type\":\"WheelZoomTool\"},{\"attributes\":{\"fill_alpha\":{\"value\":0.1},\"fill_color\":{\"value\":\"red\"},\"line_alpha\":{\"value\":0.1},\"line_color\":{\"value\":\"red\"},\"line_width\":{\"value\":5},\"top\":{\"field\":\"top\"},\"width\":{\"value\":0.9},\"x\":{\"field\":\"x\"}},\"id\":\"1402\",\"type\":\"VBar\"},{\"attributes\":{},\"id\":\"1445\",\"type\":\"Selection\"},{\"attributes\":{},\"id\":\"1450\",\"type\":\"UnionRenderers\"},{\"attributes\":{\"overlay\":{\"id\":\"1382\"}},\"id\":\"1378\",\"type\":\"BoxZoomTool\"},{\"attributes\":{\"fill_color\":{\"value\":\"red\"},\"line_color\":{\"value\":\"red\"},\"line_width\":{\"value\":5},\"top\":{\"field\":\"top\"},\"width\":{\"value\":0.9},\"x\":{\"field\":\"x\"}},\"id\":\"1401\",\"type\":\"VBar\"},{\"attributes\":{},\"id\":\"1379\",\"type\":\"SaveTool\"},{\"attributes\":{},\"id\":\"1380\",\"type\":\"ResetTool\"},{\"attributes\":{},\"id\":\"1449\",\"type\":\"Selection\"},{\"attributes\":{\"data_source\":{\"id\":\"1400\"},\"glyph\":{\"id\":\"1401\"},\"hover_glyph\":null,\"muted_glyph\":null,\"nonselection_glyph\":{\"id\":\"1402\"},\"selection_glyph\":null,\"view\":{\"id\":\"1404\"}},\"id\":\"1403\",\"type\":\"GlyphRenderer\"},{\"attributes\":{},\"id\":\"1381\",\"type\":\"HelpTool\"},{\"attributes\":{},\"id\":\"1363\",\"type\":\"DataRange1d\"},{\"attributes\":{\"active_drag\":\"auto\",\"active_inspect\":\"auto\",\"active_multi\":null,\"active_scroll\":\"auto\",\"active_tap\":\"auto\",\"tools\":[{\"id\":\"1376\"},{\"id\":\"1377\"},{\"id\":\"1378\"},{\"id\":\"1379\"},{\"id\":\"1380\"},{\"id\":\"1381\"}]},\"id\":\"1383\",\"type\":\"Toolbar\"},{\"attributes\":{},\"id\":\"1365\",\"type\":\"CategoricalScale\"},{\"attributes\":{},\"id\":\"1447\",\"type\":\"Selection\"},{\"attributes\":{},\"id\":\"1367\",\"type\":\"LinearScale\"},{\"attributes\":{\"source\":{\"id\":\"1400\"}},\"id\":\"1404\",\"type\":\"CDSView\"},{\"attributes\":{\"formatter\":{\"id\":\"1441\"},\"major_label_orientation\":\"vertical\",\"ticker\":{\"id\":\"1370\"}},\"id\":\"1369\",\"type\":\"CategoricalAxis\"},{\"attributes\":{},\"id\":\"1448\",\"type\":\"UnionRenderers\"},{\"attributes\":{\"bottom_units\":\"screen\",\"fill_alpha\":0.5,\"fill_color\":\"lightgrey\",\"left_units\":\"screen\",\"level\":\"overlay\",\"line_alpha\":1.0,\"line_color\":\"black\",\"line_dash\":[4,4],\"line_width\":2,\"render_mode\":\"css\",\"right_units\":\"screen\",\"top_units\":\"screen\"},\"id\":\"1382\",\"type\":\"BoxAnnotation\"},{\"attributes\":{},\"id\":\"1370\",\"type\":\"CategoricalTicker\"},{\"attributes\":{\"axis\":{\"id\":\"1369\"},\"grid_line_color\":null,\"ticker\":null},\"id\":\"1371\",\"type\":\"Grid\"},{\"attributes\":{\"factors\":[\"Missouri\",\"New Jersey\",\"Vermont\",\"Oklahoma\",\"Virgin Islands\",\"New York\",\"Connecticut\",\"New Hampshire\",\"California\",\"Rhode Island\",\"Michigan\",\"Massachusetts\",\"South Dakota\",\"Maryland\",\"District of Columbia\",\"Nebraska\",\"Idaho\",\"Virginia\",\"Ohio\",\"Pennsylvania\",\"Iowa\",\"Wisconsin\",\"Minnesota\",\"Hawaii\",\"South Carolina\",\"Delaware\",\"Illinois\",\"Montana\",\"North Dakota\",\"Alaska\",\"Nevada\",\"Kentucky\",\"Florida\",\"Georgia\",\"West Virginia\",\"Maine\",\"Utah\",\"Texas\",\"Indiana\",\"Mississippi\",\"Kansas\",\"Arizona\",\"North Carolina\",\"Wyoming\",\"Louisiana\",\"New Mexico\",\"Colorado\",\"Tennessee\",\"Arkansas\",\"Alabama\",\"Washington\",\"Puerto Rico\",\"Oregon\"]},\"id\":\"1361\",\"type\":\"FactorRange\"},{\"attributes\":{\"formatter\":{\"id\":\"1443\"},\"ticker\":{\"id\":\"1373\"}},\"id\":\"1372\",\"type\":\"LinearAxis\"},{\"attributes\":{\"source\":{\"id\":\"1390\"}},\"id\":\"1394\",\"type\":\"CDSView\"},{\"attributes\":{},\"id\":\"1446\",\"type\":\"UnionRenderers\"},{\"attributes\":{\"data_source\":{\"id\":\"1390\"},\"glyph\":{\"id\":\"1391\"},\"hover_glyph\":null,\"muted_glyph\":null,\"nonselection_glyph\":{\"id\":\"1392\"},\"selection_glyph\":null,\"view\":{\"id\":\"1394\"}},\"id\":\"1393\",\"type\":\"GlyphRenderer\"},{\"attributes\":{},\"id\":\"1373\",\"type\":\"BasicTicker\"}],\"root_ids\":[\"1358\"]},\"title\":\"Bokeh Application\",\"version\":\"2.0.2\"}};\n",
       "  var render_items = [{\"docid\":\"ce8c7bbe-460e-401b-8b37-74c38bd482f3\",\"root_ids\":[\"1358\"],\"roots\":{\"1358\":\"b7b016f8-472b-46f6-b982-95fb2f6a7f25\"}}];\n",
       "  root.Bokeh.embed.embed_items_notebook(docs_json, render_items);\n",
       "\n",
       "  }\n",
       "  if (root.Bokeh !== undefined) {\n",
       "    embed_document(root);\n",
       "  } else {\n",
       "    var attempts = 0;\n",
       "    var timer = setInterval(function(root) {\n",
       "      if (root.Bokeh !== undefined) {\n",
       "        clearInterval(timer);\n",
       "        embed_document(root);\n",
       "      } else {\n",
       "        attempts++;\n",
       "        if (attempts > 100) {\n",
       "          clearInterval(timer);\n",
       "          console.log(\"Bokeh: ERROR: Unable to run BokehJS code because BokehJS library is missing\");\n",
       "        }\n",
       "      }\n",
       "    }, 10, root)\n",
       "  }\n",
       "})(window);"
      ],
      "application/vnd.bokehjs_exec.v0+json": ""
     },
     "metadata": {
      "application/vnd.bokehjs_exec.v0+json": {
       "id": "1358"
      }
     },
     "output_type": "display_data"
    },
    {
     "data": {
      "text/html": [
       "\n",
       "\n",
       "\n",
       "\n",
       "\n",
       "\n",
       "  <div class=\"bk-root\" id=\"72cddc05-dbf5-4158-b8ba-c1de8eb1f6b7\" data-root-id=\"1524\"></div>\n"
      ]
     },
     "metadata": {},
     "output_type": "display_data"
    },
    {
     "data": {
      "application/javascript": [
       "(function(root) {\n",
       "  function embed_document(root) {\n",
       "    \n",
       "  var docs_json = {\"4d04efe8-056f-4cdb-810c-70198f416e49\":{\"roots\":{\"references\":[{\"attributes\":{\"below\":[{\"id\":\"1535\"}],\"center\":[{\"id\":\"1537\"},{\"id\":\"1541\"}],\"left\":[{\"id\":\"1538\"}],\"plot_height\":450,\"plot_width\":800,\"renderers\":[{\"id\":\"1559\"},{\"id\":\"1564\"},{\"id\":\"1569\"}],\"title\":{\"id\":\"1525\"},\"toolbar\":{\"id\":\"1549\"},\"x_range\":{\"id\":\"1527\"},\"x_scale\":{\"id\":\"1531\"},\"y_range\":{\"id\":\"1529\"},\"y_scale\":{\"id\":\"1533\"}},\"id\":\"1524\",\"subtype\":\"Figure\",\"type\":\"Plot\"},{\"attributes\":{\"active_drag\":\"auto\",\"active_inspect\":\"auto\",\"active_multi\":null,\"active_scroll\":\"auto\",\"active_tap\":\"auto\",\"tools\":[{\"id\":\"1542\"},{\"id\":\"1543\"},{\"id\":\"1544\"},{\"id\":\"1545\"},{\"id\":\"1546\"},{\"id\":\"1547\"}]},\"id\":\"1549\",\"type\":\"Toolbar\"},{\"attributes\":{},\"id\":\"1625\",\"type\":\"Selection\"},{\"attributes\":{},\"id\":\"1531\",\"type\":\"CategoricalScale\"},{\"attributes\":{},\"id\":\"1626\",\"type\":\"UnionRenderers\"},{\"attributes\":{},\"id\":\"1533\",\"type\":\"LinearScale\"},{\"attributes\":{},\"id\":\"1627\",\"type\":\"Selection\"},{\"attributes\":{\"formatter\":{\"id\":\"1619\"},\"major_label_orientation\":\"vertical\",\"ticker\":{\"id\":\"1536\"}},\"id\":\"1535\",\"type\":\"CategoricalAxis\"},{\"attributes\":{},\"id\":\"1628\",\"type\":\"UnionRenderers\"},{\"attributes\":{\"bottom_units\":\"screen\",\"fill_alpha\":0.5,\"fill_color\":\"lightgrey\",\"left_units\":\"screen\",\"level\":\"overlay\",\"line_alpha\":1.0,\"line_color\":\"black\",\"line_dash\":[4,4],\"line_width\":2,\"render_mode\":\"css\",\"right_units\":\"screen\",\"top_units\":\"screen\"},\"id\":\"1548\",\"type\":\"BoxAnnotation\"},{\"attributes\":{\"text\":\"28 -day\"},\"id\":\"1525\",\"type\":\"Title\"},{\"attributes\":{},\"id\":\"1536\",\"type\":\"CategoricalTicker\"},{\"attributes\":{\"axis\":{\"id\":\"1535\"},\"grid_line_color\":null,\"ticker\":null},\"id\":\"1537\",\"type\":\"Grid\"},{\"attributes\":{\"source\":{\"id\":\"1556\"}},\"id\":\"1560\",\"type\":\"CDSView\"},{\"attributes\":{\"formatter\":{\"id\":\"1621\"},\"ticker\":{\"id\":\"1539\"}},\"id\":\"1538\",\"type\":\"LinearAxis\"},{\"attributes\":{\"data_source\":{\"id\":\"1556\"},\"glyph\":{\"id\":\"1557\"},\"hover_glyph\":null,\"muted_glyph\":null,\"nonselection_glyph\":{\"id\":\"1558\"},\"selection_glyph\":null,\"view\":{\"id\":\"1560\"}},\"id\":\"1559\",\"type\":\"GlyphRenderer\"},{\"attributes\":{},\"id\":\"1539\",\"type\":\"BasicTicker\"},{\"attributes\":{\"fill_alpha\":{\"value\":0.1},\"fill_color\":{\"value\":\"yellow\"},\"line_alpha\":{\"value\":0.1},\"line_color\":{\"value\":\"yellow\"},\"line_width\":{\"value\":5},\"top\":{\"field\":\"top\"},\"width\":{\"value\":0.9},\"x\":{\"field\":\"x\"}},\"id\":\"1563\",\"type\":\"VBar\"},{\"attributes\":{\"axis\":{\"id\":\"1538\"},\"dimension\":1,\"ticker\":null},\"id\":\"1541\",\"type\":\"Grid\"},{\"attributes\":{\"data\":{\"top\":[1.1134522947257524,1.1501353679547133,1.172962226640159,1.178633975481611,1.1905843925300006,1.2043502509760178,1.2124147829207033,1.2188796139783904,1.2318574796960962,1.2826435675328842,1.321397379912664,1.338386024052478,1.3396048514978787,1.473027166882277,1.5198765656198947,1.5242398624027054,1.6140605840410553,1.779012284279107,1.826470059341845,2.0778660612939843,3.5137058912615475],\"x\":[\"Ohio\",\"Alaska\",\"Delaware\",\"Hawaii\",\"Maryland\",\"Nevada\",\"New Hampshire\",\"Florida\",\"Nebraska\",\"North Dakota\",\"Wisconsin\",\"Pennsylvania\",\"Indiana\",\"Colorado\",\"Illinois\",\"Minnesota\",\"Washington\",\"Michigan\",\"Maine\",\"Oregon\",\"Puerto Rico\"]},\"selected\":{\"id\":\"1627\"},\"selection_policy\":{\"id\":\"1628\"}},\"id\":\"1566\",\"type\":\"ColumnDataSource\"},{\"attributes\":{\"fill_color\":{\"value\":\"yellow\"},\"line_color\":{\"value\":\"yellow\"},\"line_width\":{\"value\":5},\"top\":{\"field\":\"top\"},\"width\":{\"value\":0.9},\"x\":{\"field\":\"x\"}},\"id\":\"1562\",\"type\":\"VBar\"},{\"attributes\":{\"fill_color\":{\"value\":\"green\"},\"line_color\":{\"value\":\"green\"},\"line_width\":{\"value\":5},\"top\":{\"field\":\"top\"},\"width\":{\"value\":0.9},\"x\":{\"field\":\"x\"}},\"id\":\"1557\",\"type\":\"VBar\"},{\"attributes\":{\"data\":{\"top\":[1.069396210321087,1.0987861029719548],\"x\":[\"North Carolina\",\"West Virginia\"]},\"selected\":{\"id\":\"1625\"},\"selection_policy\":{\"id\":\"1626\"}},\"id\":\"1561\",\"type\":\"ColumnDataSource\"},{\"attributes\":{\"fill_alpha\":{\"value\":0.1},\"fill_color\":{\"value\":\"green\"},\"line_alpha\":{\"value\":0.1},\"line_color\":{\"value\":\"green\"},\"line_width\":{\"value\":5},\"top\":{\"field\":\"top\"},\"width\":{\"value\":0.9},\"x\":{\"field\":\"x\"}},\"id\":\"1558\",\"type\":\"VBar\"},{\"attributes\":{},\"id\":\"1529\",\"type\":\"DataRange1d\"},{\"attributes\":{\"source\":{\"id\":\"1561\"}},\"id\":\"1565\",\"type\":\"CDSView\"},{\"attributes\":{},\"id\":\"1619\",\"type\":\"CategoricalTickFormatter\"},{\"attributes\":{\"data_source\":{\"id\":\"1561\"},\"glyph\":{\"id\":\"1562\"},\"hover_glyph\":null,\"muted_glyph\":null,\"nonselection_glyph\":{\"id\":\"1563\"},\"selection_glyph\":null,\"view\":{\"id\":\"1565\"}},\"id\":\"1564\",\"type\":\"GlyphRenderer\"},{\"attributes\":{},\"id\":\"1542\",\"type\":\"PanTool\"},{\"attributes\":{},\"id\":\"1543\",\"type\":\"WheelZoomTool\"},{\"attributes\":{\"fill_alpha\":{\"value\":0.1},\"fill_color\":{\"value\":\"red\"},\"line_alpha\":{\"value\":0.1},\"line_color\":{\"value\":\"red\"},\"line_width\":{\"value\":5},\"top\":{\"field\":\"top\"},\"width\":{\"value\":0.9},\"x\":{\"field\":\"x\"}},\"id\":\"1568\",\"type\":\"VBar\"},{\"attributes\":{},\"id\":\"1621\",\"type\":\"BasicTickFormatter\"},{\"attributes\":{},\"id\":\"1623\",\"type\":\"Selection\"},{\"attributes\":{},\"id\":\"1624\",\"type\":\"UnionRenderers\"},{\"attributes\":{\"overlay\":{\"id\":\"1548\"}},\"id\":\"1544\",\"type\":\"BoxZoomTool\"},{\"attributes\":{\"fill_color\":{\"value\":\"red\"},\"line_color\":{\"value\":\"red\"},\"line_width\":{\"value\":5},\"top\":{\"field\":\"top\"},\"width\":{\"value\":0.9},\"x\":{\"field\":\"x\"}},\"id\":\"1567\",\"type\":\"VBar\"},{\"attributes\":{},\"id\":\"1545\",\"type\":\"SaveTool\"},{\"attributes\":{},\"id\":\"1546\",\"type\":\"ResetTool\"},{\"attributes\":{\"source\":{\"id\":\"1566\"}},\"id\":\"1570\",\"type\":\"CDSView\"},{\"attributes\":{\"data_source\":{\"id\":\"1566\"},\"glyph\":{\"id\":\"1567\"},\"hover_glyph\":null,\"muted_glyph\":null,\"nonselection_glyph\":{\"id\":\"1568\"},\"selection_glyph\":null,\"view\":{\"id\":\"1570\"}},\"id\":\"1569\",\"type\":\"GlyphRenderer\"},{\"attributes\":{},\"id\":\"1547\",\"type\":\"HelpTool\"},{\"attributes\":{\"factors\":[\"Missouri\",\"Alabama\",\"Mississippi\",\"Arkansas\",\"New Jersey\",\"Oklahoma\",\"New York\",\"Idaho\",\"South Carolina\",\"California\",\"Kentucky\",\"District of Columbia\",\"Texas\",\"Utah\",\"Georgia\",\"Vermont\",\"Iowa\",\"Virgin Islands\",\"Kansas\",\"South Dakota\",\"Montana\",\"Connecticut\",\"Arizona\",\"Massachusetts\",\"New Mexico\",\"Virginia\",\"Louisiana\",\"Tennessee\",\"Wyoming\",\"Rhode Island\",\"North Carolina\",\"West Virginia\",\"Ohio\",\"Alaska\",\"Delaware\",\"Hawaii\",\"Maryland\",\"Nevada\",\"New Hampshire\",\"Florida\",\"Nebraska\",\"North Dakota\",\"Wisconsin\",\"Pennsylvania\",\"Indiana\",\"Colorado\",\"Illinois\",\"Minnesota\",\"Washington\",\"Michigan\",\"Maine\",\"Oregon\",\"Puerto Rico\"]},\"id\":\"1527\",\"type\":\"FactorRange\"},{\"attributes\":{\"data\":{\"top\":[0.16868026777175646,0.6546936481169195,0.6733239771132463,0.7179337516416169,0.7243335630106219,0.7542847725774555,0.7710479277389832,0.7895687786075645,0.7991837521691625,0.8106375627018074,0.8118240432612313,0.8121911037891267,0.8132466712278301,0.8439661201336546,0.8509514457912914,0.8603075319259839,0.9106945162004576,0.9162561576354681,0.922375135302304,0.9226238830219333,0.9249704142011835,0.928883009153318,0.9385795619029239,0.9475292625266678,0.9500863557858378,0.9529611859975123,0.960207077731417,0.9796744311538806,0.9859154929577465,0.9928860784507461],\"x\":[\"Missouri\",\"Alabama\",\"Mississippi\",\"Arkansas\",\"New Jersey\",\"Oklahoma\",\"New York\",\"Idaho\",\"South Carolina\",\"California\",\"Kentucky\",\"District of Columbia\",\"Texas\",\"Utah\",\"Georgia\",\"Vermont\",\"Iowa\",\"Virgin Islands\",\"Kansas\",\"South Dakota\",\"Montana\",\"Connecticut\",\"Arizona\",\"Massachusetts\",\"New Mexico\",\"Virginia\",\"Louisiana\",\"Tennessee\",\"Wyoming\",\"Rhode Island\"]},\"selected\":{\"id\":\"1623\"},\"selection_policy\":{\"id\":\"1624\"}},\"id\":\"1556\",\"type\":\"ColumnDataSource\"}],\"root_ids\":[\"1524\"]},\"title\":\"Bokeh Application\",\"version\":\"2.0.2\"}};\n",
       "  var render_items = [{\"docid\":\"4d04efe8-056f-4cdb-810c-70198f416e49\",\"root_ids\":[\"1524\"],\"roots\":{\"1524\":\"72cddc05-dbf5-4158-b8ba-c1de8eb1f6b7\"}}];\n",
       "  root.Bokeh.embed.embed_items_notebook(docs_json, render_items);\n",
       "\n",
       "  }\n",
       "  if (root.Bokeh !== undefined) {\n",
       "    embed_document(root);\n",
       "  } else {\n",
       "    var attempts = 0;\n",
       "    var timer = setInterval(function(root) {\n",
       "      if (root.Bokeh !== undefined) {\n",
       "        clearInterval(timer);\n",
       "        embed_document(root);\n",
       "      } else {\n",
       "        attempts++;\n",
       "        if (attempts > 100) {\n",
       "          clearInterval(timer);\n",
       "          console.log(\"Bokeh: ERROR: Unable to run BokehJS code because BokehJS library is missing\");\n",
       "        }\n",
       "      }\n",
       "    }, 10, root)\n",
       "  }\n",
       "})(window);"
      ],
      "application/vnd.bokehjs_exec.v0+json": ""
     },
     "metadata": {
      "application/vnd.bokehjs_exec.v0+json": {
       "id": "1524"
      }
     },
     "output_type": "display_data"
    }
   ],
   "source": [
    "def all_states(leng):\n",
    "    df = get_data()\n",
    "    neutral_n = 1.1\n",
    "    data= sorted(all_states_info(df, leng), key = lambda x: x[1])\n",
    "    neg = list(filter(lambda x: x[1] <=1, data))\n",
    "    neutral = list(filter(lambda x: x[1] > 1 and x[1] <= neutral_n, data))\n",
    "    pos = list(filter(lambda x: x[1] > neutral_n, data))\n",
    "    neg_l = [x[0] for x in neg]\n",
    "    neg_y = [x[1] for x in neg]\n",
    "    assert len(neg_l) == len(neg_y)\n",
    "    p = make_bar(labels_neg = [x[0] for x in neg], \n",
    "                 y_neg = [x[1] for x in neg],\n",
    "                labels_pos = [x[0] for x in pos],\n",
    "                 y_pos = [x[1] for x in pos],\n",
    "                 labels_neutral = [x[0] for x in neutral],\n",
    "                 y_neutral = [x[1] for x in neutral],\n",
    "                 plot_width = 800,\n",
    "                 title = '{l} -day'.format(l = leng)\n",
    "                )\n",
    "    return p\n",
    "show(all_states(7))\n",
    "show(all_states(14))\n",
    "show(all_states(28))\n",
    "\n",
    "\n"
   ]
  },
  {
   "cell_type": "code",
   "execution_count": null,
   "metadata": {},
   "outputs": [],
   "source": []
  },
  {
   "cell_type": "code",
   "execution_count": 13,
   "metadata": {},
   "outputs": [],
   "source": [
    "def make_bar_pop(labels, y, plot_height = 450, \n",
    "             plot_width = 450, title = None, mask_dict = {}):\n",
    "    x_range = labels\n",
    "    p = figure(x_range = x_range , plot_height = plot_height, \n",
    "               plot_width = plot_width, title = title)\n",
    "    for counter, i in enumerate(labels):\n",
    "        if mask_dict.get(i):\n",
    "            color = 'green'\n",
    "            legend_label = 'Masked Mandate'\n",
    "        else:\n",
    "            color = 'blue'\n",
    "            legend_label = 'No Mandate'\n",
    "        p.vbar(x=[i], top=y[counter] , line_width = 5, width = .5, color = color, legend_label = legend_label)\n",
    "    p.xaxis.major_label_orientation = \"vertical\"\n",
    "    p.xgrid.grid_line_color = None\n",
    "    p.yaxis.axis_label = 'Cases/100,000'\n",
    "    p.legend.location = 'top_left'\n",
    "\n",
    "    return p\n",
    "    #p.y_range "
   ]
  },
  {
   "cell_type": "code",
   "execution_count": 14,
   "metadata": {},
   "outputs": [],
   "source": [
    "def get_mask():\n",
    "    final = []\n",
    "    df = pd.read_csv('data/masks_states.csv')\n",
    "    df['date'] = pd.to_datetime(df['date'])\n",
    "    states = df['state']\n",
    "    dates = df['date']\n",
    "    for counter, i in enumerate(states):\n",
    "        final.append((i, dates[counter]))\n",
    "    return final\n",
    "\n"
   ]
  },
  {
   "cell_type": "code",
   "execution_count": 15,
   "metadata": {},
   "outputs": [],
   "source": [
    "def cases_with_pop(back = 7, per = 100000):\n",
    "    df = get_data()\n",
    "    pop = get_pop()\n",
    "    final = []\n",
    "    now = datetime.datetime.now()\n",
    "    states = set(df['state'].tolist())\n",
    "    for i in states:\n",
    "        df_ = df[(df['state'] == i) & (df['date'] >= now - datetime.timedelta(days = back))]\n",
    "        if i in [\"Puerto Rico\", \"Virgin Islands\"]:\n",
    "            continue\n",
    "        cases = np.mean(df_['cases'])/pop[i] * per\n",
    "        final.append((i, cases))\n",
    "    return sorted(final, key = lambda x: x[1])\n"
   ]
  },
  {
   "cell_type": "code",
   "execution_count": 16,
   "metadata": {},
   "outputs": [],
   "source": [
    "case_with_pop = cases_with_pop(back = 7)\n",
    "labels = [x[0] for x in case_with_pop]\n",
    "y = [x[1] for x in case_with_pop]\n",
    "masks = get_mask()\n",
    "d = {}\n",
    "for i in masks:\n",
    "    d[i[0]] = i[1]\n",
    "#p = make_bar_pop(labels, y, plot_height = 450, plot_width = 750, title = None, mask_dict = d)\n",
    "#show(p)\n"
   ]
  },
  {
   "cell_type": "code",
   "execution_count": 17,
   "metadata": {},
   "outputs": [],
   "source": [
    "def make_bar_pop2_(labels, y, plot_height = 450, \n",
    "             plot_width = 450, title = None, vote_dict = {}):\n",
    "    x_range = labels\n",
    "    p = figure(x_range = x_range , plot_height = plot_height, \n",
    "               plot_width = plot_width, title = title)\n",
    "    for counter, i in enumerate(labels):\n",
    "        if vote_dict.get(i) == 'D':\n",
    "            color = 'blue'\n",
    "        else:\n",
    "            color = 'red'\n",
    "        p.vbar(x=[i], top=y[counter] , line_width = 5, width = .5, color = color)\n",
    "    p.xaxis.major_label_orientation = \"vertical\"\n",
    "    p.xgrid.grid_line_color = None\n",
    "\n",
    "    return p\n",
    "    #p.y_range \n",
    "def make_bar_pop2(labels, y, plot_height = 450, \n",
    "             plot_width = 450, title = None, vote_dict = {}):\n",
    "    y_range = labels\n",
    "    p = figure(y_range = y_range , plot_height = plot_height, \n",
    "               plot_width = plot_width, title = title)\n",
    "    for counter, i in enumerate(labels):\n",
    "        if vote_dict.get(i) == 'D':\n",
    "            color = 'blue'\n",
    "        else:\n",
    "            color = 'red'\n",
    "        p.hbar(y=[i], right=y[counter] , line_width = 5, width = .5, color = color)\n",
    "    #p.xaxis.major_label_orientation = \"vertical\"\n",
    "    p.xaxis.axis_label = 'Deaths per Million'\n",
    "    p.xgrid.grid_line_color = None\n",
    "\n",
    "    return p"
   ]
  },
  {
   "cell_type": "code",
   "execution_count": 26,
   "metadata": {},
   "outputs": [
    {
     "data": {
      "text/html": [
       "\n",
       "\n",
       "\n",
       "\n",
       "\n",
       "\n",
       "  <div class=\"bk-root\" id=\"4fe9a43a-496d-4652-8597-78a78765611a\" data-root-id=\"4785\"></div>\n"
      ]
     },
     "metadata": {},
     "output_type": "display_data"
    },
    {
     "data": {
      "application/javascript": [
       "(function(root) {\n",
       "  function embed_document(root) {\n",
       "    \n",
       "  var docs_json = {\"09caad33-caba-4326-ad2f-b532dce53f44\":{\"roots\":{\"references\":[{\"attributes\":{\"below\":[{\"id\":\"4796\"}],\"center\":[{\"id\":\"4799\"},{\"id\":\"4802\"}],\"left\":[{\"id\":\"4800\"}],\"plot_height\":650,\"plot_width\":800,\"renderers\":[{\"id\":\"4820\"},{\"id\":\"4825\"},{\"id\":\"4830\"},{\"id\":\"4835\"},{\"id\":\"4840\"},{\"id\":\"4845\"},{\"id\":\"4850\"},{\"id\":\"4855\"},{\"id\":\"4860\"},{\"id\":\"4865\"},{\"id\":\"4870\"},{\"id\":\"4875\"},{\"id\":\"4880\"},{\"id\":\"4885\"},{\"id\":\"4890\"},{\"id\":\"4895\"},{\"id\":\"4900\"},{\"id\":\"4905\"},{\"id\":\"4910\"},{\"id\":\"4915\"},{\"id\":\"4920\"},{\"id\":\"4925\"},{\"id\":\"4930\"},{\"id\":\"4935\"},{\"id\":\"4940\"},{\"id\":\"4945\"},{\"id\":\"4950\"},{\"id\":\"4955\"},{\"id\":\"4960\"},{\"id\":\"4965\"},{\"id\":\"4970\"},{\"id\":\"4975\"},{\"id\":\"4980\"},{\"id\":\"4985\"},{\"id\":\"4990\"},{\"id\":\"4995\"},{\"id\":\"5000\"},{\"id\":\"5005\"},{\"id\":\"5010\"},{\"id\":\"5015\"},{\"id\":\"5020\"},{\"id\":\"5025\"},{\"id\":\"5030\"},{\"id\":\"5035\"},{\"id\":\"5040\"},{\"id\":\"5045\"},{\"id\":\"5050\"},{\"id\":\"5055\"},{\"id\":\"5060\"},{\"id\":\"5065\"},{\"id\":\"5070\"}],\"title\":{\"id\":\"4786\"},\"toolbar\":{\"id\":\"4810\"},\"x_range\":{\"id\":\"4788\"},\"x_scale\":{\"id\":\"4792\"},\"y_range\":{\"id\":\"4790\"},\"y_scale\":{\"id\":\"4794\"}},\"id\":\"4785\",\"subtype\":\"Figure\",\"type\":\"Plot\"},{\"attributes\":{\"fill_color\":{\"value\":\"blue\"},\"line_color\":{\"value\":\"blue\"},\"line_width\":{\"value\":5},\"right\":{\"value\":956.8209715152705},\"y\":{\"field\":\"y\"}},\"id\":\"4853\",\"type\":\"HBar\"},{\"attributes\":{},\"id\":\"5400\",\"type\":\"Selection\"},{\"attributes\":{\"source\":{\"id\":\"4847\"}},\"id\":\"4851\",\"type\":\"CDSView\"},{\"attributes\":{},\"id\":\"5401\",\"type\":\"UnionRenderers\"},{\"attributes\":{},\"id\":\"5402\",\"type\":\"Selection\"},{\"attributes\":{\"fill_alpha\":{\"value\":0.1},\"fill_color\":{\"value\":\"blue\"},\"line_alpha\":{\"value\":0.1},\"line_color\":{\"value\":\"blue\"},\"line_width\":{\"value\":5},\"right\":{\"value\":956.8209715152705},\"y\":{\"field\":\"y\"}},\"id\":\"4854\",\"type\":\"HBar\"},{\"attributes\":{},\"id\":\"5403\",\"type\":\"UnionRenderers\"},{\"attributes\":{},\"id\":\"5404\",\"type\":\"Selection\"},{\"attributes\":{},\"id\":\"5405\",\"type\":\"UnionRenderers\"},{\"attributes\":{},\"id\":\"5406\",\"type\":\"Selection\"},{\"attributes\":{},\"id\":\"5407\",\"type\":\"UnionRenderers\"},{\"attributes\":{},\"id\":\"5408\",\"type\":\"Selection\"},{\"attributes\":{},\"id\":\"5409\",\"type\":\"UnionRenderers\"},{\"attributes\":{},\"id\":\"5410\",\"type\":\"Selection\"},{\"attributes\":{},\"id\":\"5411\",\"type\":\"UnionRenderers\"},{\"attributes\":{},\"id\":\"5412\",\"type\":\"Selection\"},{\"attributes\":{\"fill_color\":{\"value\":\"blue\"},\"line_color\":{\"value\":\"blue\"},\"line_width\":{\"value\":5},\"right\":{\"value\":1115.1752745741426},\"y\":{\"field\":\"y\"}},\"id\":\"4858\",\"type\":\"HBar\"},{\"attributes\":{},\"id\":\"5413\",\"type\":\"UnionRenderers\"},{\"attributes\":{},\"id\":\"5414\",\"type\":\"Selection\"},{\"attributes\":{},\"id\":\"5415\",\"type\":\"UnionRenderers\"},{\"attributes\":{},\"id\":\"5416\",\"type\":\"Selection\"},{\"attributes\":{},\"id\":\"5417\",\"type\":\"UnionRenderers\"},{\"attributes\":{\"source\":{\"id\":\"4852\"}},\"id\":\"4856\",\"type\":\"CDSView\"},{\"attributes\":{},\"id\":\"5418\",\"type\":\"Selection\"},{\"attributes\":{},\"id\":\"5419\",\"type\":\"UnionRenderers\"},{\"attributes\":{\"data\":{\"y\":[\"Colorado\"]},\"selected\":{\"id\":\"5334\"},\"selection_policy\":{\"id\":\"5335\"}},\"id\":\"4857\",\"type\":\"ColumnDataSource\"},{\"attributes\":{\"data\":{\"y\":[\"Utah\"]},\"selected\":{\"id\":\"5328\"},\"selection_policy\":{\"id\":\"5329\"}},\"id\":\"4842\",\"type\":\"ColumnDataSource\"},{\"attributes\":{\"data_source\":{\"id\":\"4852\"},\"glyph\":{\"id\":\"4853\"},\"hover_glyph\":null,\"muted_glyph\":null,\"nonselection_glyph\":{\"id\":\"4854\"},\"selection_glyph\":null,\"view\":{\"id\":\"4856\"}},\"id\":\"4855\",\"type\":\"GlyphRenderer\"},{\"attributes\":{\"data\":{\"y\":[\"New Hampshire\"]},\"selected\":{\"id\":\"5332\"},\"selection_policy\":{\"id\":\"5333\"}},\"id\":\"4852\",\"type\":\"ColumnDataSource\"},{\"attributes\":{\"fill_color\":{\"value\":\"blue\"},\"line_color\":{\"value\":\"blue\"},\"line_width\":{\"value\":5},\"right\":{\"value\":726.865104998849},\"y\":{\"field\":\"y\"}},\"id\":\"4848\",\"type\":\"HBar\"},{\"attributes\":{\"data_source\":{\"id\":\"4847\"},\"glyph\":{\"id\":\"4848\"},\"hover_glyph\":null,\"muted_glyph\":null,\"nonselection_glyph\":{\"id\":\"4849\"},\"selection_glyph\":null,\"view\":{\"id\":\"4851\"}},\"id\":\"4850\",\"type\":\"GlyphRenderer\"},{\"attributes\":{\"fill_alpha\":{\"value\":0.1},\"fill_color\":{\"value\":\"blue\"},\"line_alpha\":{\"value\":0.1},\"line_color\":{\"value\":\"blue\"},\"line_width\":{\"value\":5},\"right\":{\"value\":726.865104998849},\"y\":{\"field\":\"y\"}},\"id\":\"4849\",\"type\":\"HBar\"},{\"attributes\":{\"source\":{\"id\":\"4842\"}},\"id\":\"4846\",\"type\":\"CDSView\"},{\"attributes\":{\"data_source\":{\"id\":\"4842\"},\"glyph\":{\"id\":\"4843\"},\"hover_glyph\":null,\"muted_glyph\":null,\"nonselection_glyph\":{\"id\":\"4844\"},\"selection_glyph\":null,\"view\":{\"id\":\"4846\"}},\"id\":\"4845\",\"type\":\"GlyphRenderer\"},{\"attributes\":{\"fill_alpha\":{\"value\":0.1},\"fill_color\":{\"value\":\"red\"},\"line_alpha\":{\"value\":0.1},\"line_color\":{\"value\":\"red\"},\"line_width\":{\"value\":5},\"right\":{\"value\":685.2865820450548},\"y\":{\"field\":\"y\"}},\"id\":\"4844\",\"type\":\"HBar\"},{\"attributes\":{\"fill_color\":{\"value\":\"red\"},\"line_color\":{\"value\":\"red\"},\"line_width\":{\"value\":5},\"right\":{\"value\":685.2865820450548},\"y\":{\"field\":\"y\"}},\"id\":\"4843\",\"type\":\"HBar\"},{\"attributes\":{\"data\":{\"y\":[\"Washington\"]},\"selected\":{\"id\":\"5330\"},\"selection_policy\":{\"id\":\"5331\"}},\"id\":\"4847\",\"type\":\"ColumnDataSource\"},{\"attributes\":{\"source\":{\"id\":\"4967\"}},\"id\":\"4971\",\"type\":\"CDSView\"},{\"attributes\":{\"data\":{\"y\":[\"Georgia\"]},\"selected\":{\"id\":\"5380\"},\"selection_policy\":{\"id\":\"5381\"}},\"id\":\"4972\",\"type\":\"ColumnDataSource\"},{\"attributes\":{\"fill_alpha\":{\"value\":0.1},\"fill_color\":{\"value\":\"blue\"},\"line_alpha\":{\"value\":0.1},\"line_color\":{\"value\":\"blue\"},\"line_width\":{\"value\":5},\"right\":{\"value\":1115.1752745741426},\"y\":{\"field\":\"y\"}},\"id\":\"4859\",\"type\":\"HBar\"},{\"attributes\":{\"fill_color\":{\"value\":\"blue\"},\"line_color\":{\"value\":\"blue\"},\"line_width\":{\"value\":5},\"right\":{\"value\":1839.617767889628},\"y\":{\"field\":\"y\"}},\"id\":\"4973\",\"type\":\"HBar\"},{\"attributes\":{\"fill_alpha\":{\"value\":0.1},\"fill_color\":{\"value\":\"blue\"},\"line_alpha\":{\"value\":0.1},\"line_color\":{\"value\":\"blue\"},\"line_width\":{\"value\":5},\"right\":{\"value\":1839.617767889628},\"y\":{\"field\":\"y\"}},\"id\":\"4974\",\"type\":\"HBar\"},{\"attributes\":{\"data\":{\"y\":[\"South Carolina\"]},\"selected\":{\"id\":\"5382\"},\"selection_policy\":{\"id\":\"5383\"}},\"id\":\"4977\",\"type\":\"ColumnDataSource\"},{\"attributes\":{\"data_source\":{\"id\":\"4972\"},\"glyph\":{\"id\":\"4973\"},\"hover_glyph\":null,\"muted_glyph\":null,\"nonselection_glyph\":{\"id\":\"4974\"},\"selection_glyph\":null,\"view\":{\"id\":\"4976\"}},\"id\":\"4975\",\"type\":\"GlyphRenderer\"},{\"attributes\":{\"source\":{\"id\":\"4972\"}},\"id\":\"4976\",\"type\":\"CDSView\"},{\"attributes\":{\"fill_color\":{\"value\":\"red\"},\"line_color\":{\"value\":\"red\"},\"line_width\":{\"value\":5},\"right\":{\"value\":1844.1498207125119},\"y\":{\"field\":\"y\"}},\"id\":\"4978\",\"type\":\"HBar\"},{\"attributes\":{\"fill_alpha\":{\"value\":0.1},\"fill_color\":{\"value\":\"red\"},\"line_alpha\":{\"value\":0.1},\"line_color\":{\"value\":\"red\"},\"line_width\":{\"value\":5},\"right\":{\"value\":1844.1498207125119},\"y\":{\"field\":\"y\"}},\"id\":\"4979\",\"type\":\"HBar\"},{\"attributes\":{\"data\":{\"y\":[\"Hawaii\"]},\"selected\":{\"id\":\"5318\"},\"selection_policy\":{\"id\":\"5319\"}},\"id\":\"4817\",\"type\":\"ColumnDataSource\"},{\"attributes\":{\"data\":{\"y\":[\"Michigan\"]},\"selected\":{\"id\":\"5384\"},\"selection_policy\":{\"id\":\"5385\"}},\"id\":\"4982\",\"type\":\"ColumnDataSource\"},{\"attributes\":{\"data_source\":{\"id\":\"4977\"},\"glyph\":{\"id\":\"4978\"},\"hover_glyph\":null,\"muted_glyph\":null,\"nonselection_glyph\":{\"id\":\"4979\"},\"selection_glyph\":null,\"view\":{\"id\":\"4981\"}},\"id\":\"4980\",\"type\":\"GlyphRenderer\"},{\"attributes\":{\"source\":{\"id\":\"4977\"}},\"id\":\"4981\",\"type\":\"CDSView\"},{\"attributes\":{\"fill_color\":{\"value\":\"blue\"},\"line_color\":{\"value\":\"blue\"},\"line_width\":{\"value\":5},\"right\":{\"value\":1872.9616334748762},\"y\":{\"field\":\"y\"}},\"id\":\"4983\",\"type\":\"HBar\"},{\"attributes\":{\"fill_alpha\":{\"value\":0.1},\"fill_color\":{\"value\":\"blue\"},\"line_alpha\":{\"value\":0.1},\"line_color\":{\"value\":\"blue\"},\"line_width\":{\"value\":5},\"right\":{\"value\":1872.9616334748762},\"y\":{\"field\":\"y\"}},\"id\":\"4984\",\"type\":\"HBar\"},{\"attributes\":{\"formatter\":{\"id\":\"5316\"},\"ticker\":{\"id\":\"4801\"}},\"id\":\"4800\",\"type\":\"CategoricalAxis\"},{\"attributes\":{\"data\":{\"y\":[\"Iowa\"]},\"selected\":{\"id\":\"5386\"},\"selection_policy\":{\"id\":\"5387\"}},\"id\":\"4987\",\"type\":\"ColumnDataSource\"},{\"attributes\":{\"data_source\":{\"id\":\"4982\"},\"glyph\":{\"id\":\"4983\"},\"hover_glyph\":null,\"muted_glyph\":null,\"nonselection_glyph\":{\"id\":\"4984\"},\"selection_glyph\":null,\"view\":{\"id\":\"4986\"}},\"id\":\"4985\",\"type\":\"GlyphRenderer\"},{\"attributes\":{\"source\":{\"id\":\"4982\"}},\"id\":\"4986\",\"type\":\"CDSView\"},{\"attributes\":{\"axis\":{\"id\":\"4800\"},\"dimension\":1,\"ticker\":null},\"id\":\"4802\",\"type\":\"Grid\"},{\"attributes\":{\"fill_color\":{\"value\":\"red\"},\"line_color\":{\"value\":\"red\"},\"line_width\":{\"value\":5},\"right\":{\"value\":1879.8315092850555},\"y\":{\"field\":\"y\"}},\"id\":\"4988\",\"type\":\"HBar\"},{\"attributes\":{\"fill_alpha\":{\"value\":0.1},\"fill_color\":{\"value\":\"red\"},\"line_alpha\":{\"value\":0.1},\"line_color\":{\"value\":\"red\"},\"line_width\":{\"value\":5},\"right\":{\"value\":1879.8315092850555},\"y\":{\"field\":\"y\"}},\"id\":\"4989\",\"type\":\"HBar\"},{\"attributes\":{\"data_source\":{\"id\":\"4857\"},\"glyph\":{\"id\":\"4858\"},\"hover_glyph\":null,\"muted_glyph\":null,\"nonselection_glyph\":{\"id\":\"4859\"},\"selection_glyph\":null,\"view\":{\"id\":\"4861\"}},\"id\":\"4860\",\"type\":\"GlyphRenderer\"},{\"attributes\":{\"data\":{\"y\":[\"Arkansas\"]},\"selected\":{\"id\":\"5388\"},\"selection_policy\":{\"id\":\"5389\"}},\"id\":\"4992\",\"type\":\"ColumnDataSource\"},{\"attributes\":{\"data_source\":{\"id\":\"4987\"},\"glyph\":{\"id\":\"4988\"},\"hover_glyph\":null,\"muted_glyph\":null,\"nonselection_glyph\":{\"id\":\"4989\"},\"selection_glyph\":null,\"view\":{\"id\":\"4991\"}},\"id\":\"4990\",\"type\":\"GlyphRenderer\"},{\"attributes\":{\"source\":{\"id\":\"4987\"}},\"id\":\"4991\",\"type\":\"CDSView\"},{\"attributes\":{},\"id\":\"4801\",\"type\":\"CategoricalTicker\"},{\"attributes\":{\"fill_color\":{\"value\":\"red\"},\"line_color\":{\"value\":\"red\"},\"line_width\":{\"value\":5},\"right\":{\"value\":1900.3884944151444},\"y\":{\"field\":\"y\"}},\"id\":\"4993\",\"type\":\"HBar\"},{\"attributes\":{\"fill_alpha\":{\"value\":0.1},\"fill_color\":{\"value\":\"red\"},\"line_alpha\":{\"value\":0.1},\"line_color\":{\"value\":\"red\"},\"line_width\":{\"value\":5},\"right\":{\"value\":1900.3884944151444},\"y\":{\"field\":\"y\"}},\"id\":\"4994\",\"type\":\"HBar\"},{\"attributes\":{\"data\":{\"y\":[\"Illinois\"]},\"selected\":{\"id\":\"5390\"},\"selection_policy\":{\"id\":\"5391\"}},\"id\":\"4997\",\"type\":\"ColumnDataSource\"},{\"attributes\":{\"data_source\":{\"id\":\"4992\"},\"glyph\":{\"id\":\"4993\"},\"hover_glyph\":null,\"muted_glyph\":null,\"nonselection_glyph\":{\"id\":\"4994\"},\"selection_glyph\":null,\"view\":{\"id\":\"4996\"}},\"id\":\"4995\",\"type\":\"GlyphRenderer\"},{\"attributes\":{\"source\":{\"id\":\"4992\"}},\"id\":\"4996\",\"type\":\"CDSView\"},{\"attributes\":{\"fill_color\":{\"value\":\"blue\"},\"line_color\":{\"value\":\"blue\"},\"line_width\":{\"value\":5},\"right\":{\"value\":1913.8527919546843},\"y\":{\"field\":\"y\"}},\"id\":\"4998\",\"type\":\"HBar\"},{\"attributes\":{\"fill_alpha\":{\"value\":0.1},\"fill_color\":{\"value\":\"blue\"},\"line_alpha\":{\"value\":0.1},\"line_color\":{\"value\":\"blue\"},\"line_width\":{\"value\":5},\"right\":{\"value\":1913.8527919546843},\"y\":{\"field\":\"y\"}},\"id\":\"4999\",\"type\":\"HBar\"},{\"attributes\":{\"data\":{\"y\":[\"New Mexico\"]},\"selected\":{\"id\":\"5392\"},\"selection_policy\":{\"id\":\"5393\"}},\"id\":\"5002\",\"type\":\"ColumnDataSource\"},{\"attributes\":{\"data_source\":{\"id\":\"4997\"},\"glyph\":{\"id\":\"4998\"},\"hover_glyph\":null,\"muted_glyph\":null,\"nonselection_glyph\":{\"id\":\"4999\"},\"selection_glyph\":null,\"view\":{\"id\":\"5001\"}},\"id\":\"5000\",\"type\":\"GlyphRenderer\"},{\"attributes\":{\"source\":{\"id\":\"4997\"}},\"id\":\"5001\",\"type\":\"CDSView\"},{\"attributes\":{\"source\":{\"id\":\"5002\"}},\"id\":\"5006\",\"type\":\"CDSView\"},{\"attributes\":{\"fill_alpha\":{\"value\":0.1},\"fill_color\":{\"value\":\"blue\"},\"line_alpha\":{\"value\":0.1},\"line_color\":{\"value\":\"blue\"},\"line_width\":{\"value\":5},\"right\":{\"value\":1936.2570815264382},\"y\":{\"field\":\"y\"}},\"id\":\"5004\",\"type\":\"HBar\"},{\"attributes\":{\"data_source\":{\"id\":\"5002\"},\"glyph\":{\"id\":\"5003\"},\"hover_glyph\":null,\"muted_glyph\":null,\"nonselection_glyph\":{\"id\":\"5004\"},\"selection_glyph\":null,\"view\":{\"id\":\"5006\"}},\"id\":\"5005\",\"type\":\"GlyphRenderer\"},{\"attributes\":{\"fill_color\":{\"value\":\"blue\"},\"line_color\":{\"value\":\"blue\"},\"line_width\":{\"value\":5},\"right\":{\"value\":1936.2570815264382},\"y\":{\"field\":\"y\"}},\"id\":\"5003\",\"type\":\"HBar\"},{\"attributes\":{\"data_source\":{\"id\":\"4932\"},\"glyph\":{\"id\":\"4933\"},\"hover_glyph\":null,\"muted_glyph\":null,\"nonselection_glyph\":{\"id\":\"4934\"},\"selection_glyph\":null,\"view\":{\"id\":\"4936\"}},\"id\":\"4935\",\"type\":\"GlyphRenderer\"},{\"attributes\":{\"source\":{\"id\":\"4932\"}},\"id\":\"4936\",\"type\":\"CDSView\"},{\"attributes\":{\"data\":{\"y\":[\"Ohio\"]},\"selected\":{\"id\":\"5366\"},\"selection_policy\":{\"id\":\"5367\"}},\"id\":\"4937\",\"type\":\"ColumnDataSource\"},{\"attributes\":{\"fill_color\":{\"value\":\"red\"},\"line_color\":{\"value\":\"red\"},\"line_width\":{\"value\":5},\"right\":{\"value\":1641.5292879691337},\"y\":{\"field\":\"y\"}},\"id\":\"4938\",\"type\":\"HBar\"},{\"attributes\":{\"fill_alpha\":{\"value\":0.1},\"fill_color\":{\"value\":\"red\"},\"line_alpha\":{\"value\":0.1},\"line_color\":{\"value\":\"red\"},\"line_width\":{\"value\":5},\"right\":{\"value\":1641.5292879691337},\"y\":{\"field\":\"y\"}},\"id\":\"4939\",\"type\":\"HBar\"},{\"attributes\":{\"data\":{\"y\":[\"Delaware\"]},\"selected\":{\"id\":\"5368\"},\"selection_policy\":{\"id\":\"5369\"}},\"id\":\"4942\",\"type\":\"ColumnDataSource\"},{\"attributes\":{\"data_source\":{\"id\":\"4937\"},\"glyph\":{\"id\":\"4938\"},\"hover_glyph\":null,\"muted_glyph\":null,\"nonselection_glyph\":{\"id\":\"4939\"},\"selection_glyph\":null,\"view\":{\"id\":\"4941\"}},\"id\":\"4940\",\"type\":\"GlyphRenderer\"},{\"attributes\":{\"source\":{\"id\":\"4937\"}},\"id\":\"4941\",\"type\":\"CDSView\"},{\"attributes\":{\"fill_color\":{\"value\":\"blue\"},\"line_color\":{\"value\":\"blue\"},\"line_width\":{\"value\":5},\"right\":{\"value\":1667.755226112282},\"y\":{\"field\":\"y\"}},\"id\":\"4943\",\"type\":\"HBar\"},{\"attributes\":{\"fill_alpha\":{\"value\":0.1},\"fill_color\":{\"value\":\"blue\"},\"line_alpha\":{\"value\":0.1},\"line_color\":{\"value\":\"blue\"},\"line_width\":{\"value\":5},\"right\":{\"value\":1667.755226112282},\"y\":{\"field\":\"y\"}},\"id\":\"4944\",\"type\":\"HBar\"},{\"attributes\":{\"data\":{\"y\":[\"Oklahoma\"]},\"selected\":{\"id\":\"5370\"},\"selection_policy\":{\"id\":\"5371\"}},\"id\":\"4947\",\"type\":\"ColumnDataSource\"},{\"attributes\":{\"data_source\":{\"id\":\"4942\"},\"glyph\":{\"id\":\"4943\"},\"hover_glyph\":null,\"muted_glyph\":null,\"nonselection_glyph\":{\"id\":\"4944\"},\"selection_glyph\":null,\"view\":{\"id\":\"4946\"}},\"id\":\"4945\",\"type\":\"GlyphRenderer\"},{\"attributes\":{\"source\":{\"id\":\"4942\"}},\"id\":\"4946\",\"type\":\"CDSView\"},{\"attributes\":{\"fill_color\":{\"value\":\"red\"},\"line_color\":{\"value\":\"red\"},\"line_width\":{\"value\":5},\"right\":{\"value\":1715.4535628388483},\"y\":{\"field\":\"y\"}},\"id\":\"4948\",\"type\":\"HBar\"},{\"attributes\":{\"fill_alpha\":{\"value\":0.1},\"fill_color\":{\"value\":\"red\"},\"line_alpha\":{\"value\":0.1},\"line_color\":{\"value\":\"red\"},\"line_width\":{\"value\":5},\"right\":{\"value\":1715.4535628388483},\"y\":{\"field\":\"y\"}},\"id\":\"4949\",\"type\":\"HBar\"},{\"attributes\":{\"data\":{\"y\":[\"Kansas\"]},\"selected\":{\"id\":\"5372\"},\"selection_policy\":{\"id\":\"5373\"}},\"id\":\"4952\",\"type\":\"ColumnDataSource\"},{\"attributes\":{\"data_source\":{\"id\":\"4947\"},\"glyph\":{\"id\":\"4948\"},\"hover_glyph\":null,\"muted_glyph\":null,\"nonselection_glyph\":{\"id\":\"4949\"},\"selection_glyph\":null,\"view\":{\"id\":\"4951\"}},\"id\":\"4950\",\"type\":\"GlyphRenderer\"},{\"attributes\":{},\"id\":\"5318\",\"type\":\"Selection\"},{\"attributes\":{\"source\":{\"id\":\"4947\"}},\"id\":\"4951\",\"type\":\"CDSView\"},{\"attributes\":{},\"id\":\"4788\",\"type\":\"DataRange1d\"},{\"attributes\":{\"fill_color\":{\"value\":\"red\"},\"line_color\":{\"value\":\"red\"},\"line_width\":{\"value\":5},\"right\":{\"value\":1723.466814768336},\"y\":{\"field\":\"y\"}},\"id\":\"4953\",\"type\":\"HBar\"},{\"attributes\":{\"fill_alpha\":{\"value\":0.1},\"fill_color\":{\"value\":\"red\"},\"line_alpha\":{\"value\":0.1},\"line_color\":{\"value\":\"red\"},\"line_width\":{\"value\":5},\"right\":{\"value\":1723.466814768336},\"y\":{\"field\":\"y\"}},\"id\":\"4954\",\"type\":\"HBar\"},{\"attributes\":{\"data\":{\"y\":[\"Texas\"]},\"selected\":{\"id\":\"5374\"},\"selection_policy\":{\"id\":\"5375\"}},\"id\":\"4957\",\"type\":\"ColumnDataSource\"},{\"attributes\":{\"data_source\":{\"id\":\"4952\"},\"glyph\":{\"id\":\"4953\"},\"hover_glyph\":null,\"muted_glyph\":null,\"nonselection_glyph\":{\"id\":\"4954\"},\"selection_glyph\":null,\"view\":{\"id\":\"4956\"}},\"id\":\"4955\",\"type\":\"GlyphRenderer\"},{\"attributes\":{\"source\":{\"id\":\"4952\"}},\"id\":\"4956\",\"type\":\"CDSView\"},{\"attributes\":{},\"id\":\"5319\",\"type\":\"UnionRenderers\"},{\"attributes\":{},\"id\":\"5314\",\"type\":\"BasicTickFormatter\"},{\"attributes\":{\"fill_color\":{\"value\":\"red\"},\"line_color\":{\"value\":\"red\"},\"line_width\":{\"value\":5},\"right\":{\"value\":1736.0741686034648},\"y\":{\"field\":\"y\"}},\"id\":\"4958\",\"type\":\"HBar\"},{\"attributes\":{\"fill_alpha\":{\"value\":0.1},\"fill_color\":{\"value\":\"red\"},\"line_alpha\":{\"value\":0.1},\"line_color\":{\"value\":\"red\"},\"line_width\":{\"value\":5},\"right\":{\"value\":1736.0741686034648},\"y\":{\"field\":\"y\"}},\"id\":\"4959\",\"type\":\"HBar\"},{\"attributes\":{\"data\":{\"y\":[\"Tennessee\"]},\"selected\":{\"id\":\"5376\"},\"selection_policy\":{\"id\":\"5377\"}},\"id\":\"4962\",\"type\":\"ColumnDataSource\"},{\"attributes\":{\"data_source\":{\"id\":\"4957\"},\"glyph\":{\"id\":\"4958\"},\"hover_glyph\":null,\"muted_glyph\":null,\"nonselection_glyph\":{\"id\":\"4959\"},\"selection_glyph\":null,\"view\":{\"id\":\"4961\"}},\"id\":\"4960\",\"type\":\"GlyphRenderer\"},{\"attributes\":{\"source\":{\"id\":\"4957\"}},\"id\":\"4961\",\"type\":\"CDSView\"},{\"attributes\":{\"fill_color\":{\"value\":\"red\"},\"line_color\":{\"value\":\"red\"},\"line_width\":{\"value\":5},\"right\":{\"value\":1770.4923025830064},\"y\":{\"field\":\"y\"}},\"id\":\"4963\",\"type\":\"HBar\"},{\"attributes\":{\"fill_alpha\":{\"value\":0.1},\"fill_color\":{\"value\":\"red\"},\"line_alpha\":{\"value\":0.1},\"line_color\":{\"value\":\"red\"},\"line_width\":{\"value\":5},\"right\":{\"value\":1770.4923025830064},\"y\":{\"field\":\"y\"}},\"id\":\"4964\",\"type\":\"HBar\"},{\"attributes\":{},\"id\":\"5320\",\"type\":\"Selection\"},{\"attributes\":{\"data\":{\"y\":[\"Nevada\"]},\"selected\":{\"id\":\"5378\"},\"selection_policy\":{\"id\":\"5379\"}},\"id\":\"4967\",\"type\":\"ColumnDataSource\"},{\"attributes\":{\"data_source\":{\"id\":\"4962\"},\"glyph\":{\"id\":\"4963\"},\"hover_glyph\":null,\"muted_glyph\":null,\"nonselection_glyph\":{\"id\":\"4964\"},\"selection_glyph\":null,\"view\":{\"id\":\"4966\"}},\"id\":\"4965\",\"type\":\"GlyphRenderer\"},{\"attributes\":{\"source\":{\"id\":\"4962\"}},\"id\":\"4966\",\"type\":\"CDSView\"},{\"attributes\":{\"fill_color\":{\"value\":\"blue\"},\"line_color\":{\"value\":\"blue\"},\"line_width\":{\"value\":5},\"right\":{\"value\":1772.3128309085644},\"y\":{\"field\":\"y\"}},\"id\":\"4968\",\"type\":\"HBar\"},{\"attributes\":{\"fill_alpha\":{\"value\":0.1},\"fill_color\":{\"value\":\"blue\"},\"line_alpha\":{\"value\":0.1},\"line_color\":{\"value\":\"blue\"},\"line_width\":{\"value\":5},\"right\":{\"value\":1772.3128309085644},\"y\":{\"field\":\"y\"}},\"id\":\"4969\",\"type\":\"HBar\"},{\"attributes\":{\"data_source\":{\"id\":\"4967\"},\"glyph\":{\"id\":\"4968\"},\"hover_glyph\":null,\"muted_glyph\":null,\"nonselection_glyph\":{\"id\":\"4969\"},\"selection_glyph\":null,\"view\":{\"id\":\"4971\"}},\"id\":\"4970\",\"type\":\"GlyphRenderer\"},{\"attributes\":{},\"id\":\"5316\",\"type\":\"CategoricalTickFormatter\"},{\"attributes\":{\"fill_alpha\":{\"value\":0.1},\"fill_color\":{\"value\":\"red\"},\"line_alpha\":{\"value\":0.1},\"line_color\":{\"value\":\"red\"},\"line_width\":{\"value\":5},\"right\":{\"value\":1221.5792756570524},\"y\":{\"field\":\"y\"}},\"id\":\"4874\",\"type\":\"HBar\"},{\"attributes\":{},\"id\":\"5321\",\"type\":\"UnionRenderers\"},{\"attributes\":{\"source\":{\"id\":\"4862\"}},\"id\":\"4866\",\"type\":\"CDSView\"},{\"attributes\":{\"fill_color\":{\"value\":\"red\"},\"line_color\":{\"value\":\"red\"},\"line_width\":{\"value\":5},\"right\":{\"value\":1222.596267178382},\"y\":{\"field\":\"y\"}},\"id\":\"4878\",\"type\":\"HBar\"},{\"attributes\":{\"data_source\":{\"id\":\"4887\"},\"glyph\":{\"id\":\"4888\"},\"hover_glyph\":null,\"muted_glyph\":null,\"nonselection_glyph\":{\"id\":\"4889\"},\"selection_glyph\":null,\"view\":{\"id\":\"4891\"}},\"id\":\"4890\",\"type\":\"GlyphRenderer\"},{\"attributes\":{\"source\":{\"id\":\"4887\"}},\"id\":\"4891\",\"type\":\"CDSView\"},{\"attributes\":{\"fill_color\":{\"value\":\"red\"},\"line_color\":{\"value\":\"red\"},\"line_width\":{\"value\":5},\"right\":{\"value\":1221.5792756570524},\"y\":{\"field\":\"y\"}},\"id\":\"4873\",\"type\":\"HBar\"},{\"attributes\":{\"fill_color\":{\"value\":\"red\"},\"line_color\":{\"value\":\"red\"},\"line_width\":{\"value\":5},\"right\":{\"value\":1206.8934611889072},\"y\":{\"field\":\"y\"}},\"id\":\"4868\",\"type\":\"HBar\"},{\"attributes\":{\"data\":{\"y\":[\"Wyoming\"]},\"selected\":{\"id\":\"5340\"},\"selection_policy\":{\"id\":\"5341\"}},\"id\":\"4872\",\"type\":\"ColumnDataSource\"},{\"attributes\":{\"data_source\":{\"id\":\"4867\"},\"glyph\":{\"id\":\"4868\"},\"hover_glyph\":null,\"muted_glyph\":null,\"nonselection_glyph\":{\"id\":\"4869\"},\"selection_glyph\":null,\"view\":{\"id\":\"4871\"}},\"id\":\"4870\",\"type\":\"GlyphRenderer\"},{\"attributes\":{\"source\":{\"id\":\"4867\"}},\"id\":\"4871\",\"type\":\"CDSView\"},{\"attributes\":{\"data\":{\"y\":[\"Virginia\"]},\"selected\":{\"id\":\"5344\"},\"selection_policy\":{\"id\":\"5345\"}},\"id\":\"4882\",\"type\":\"ColumnDataSource\"},{\"attributes\":{\"fill_alpha\":{\"value\":0.1},\"fill_color\":{\"value\":\"red\"},\"line_alpha\":{\"value\":0.1},\"line_color\":{\"value\":\"red\"},\"line_width\":{\"value\":5},\"right\":{\"value\":1206.8934611889072},\"y\":{\"field\":\"y\"}},\"id\":\"4869\",\"type\":\"HBar\"},{\"attributes\":{\"data_source\":{\"id\":\"4862\"},\"glyph\":{\"id\":\"4863\"},\"hover_glyph\":null,\"muted_glyph\":null,\"nonselection_glyph\":{\"id\":\"4864\"},\"selection_glyph\":null,\"view\":{\"id\":\"4866\"}},\"id\":\"4865\",\"type\":\"GlyphRenderer\"},{\"attributes\":{\"fill_alpha\":{\"value\":0.1},\"fill_color\":{\"value\":\"red\"},\"line_alpha\":{\"value\":0.1},\"line_color\":{\"value\":\"red\"},\"line_width\":{\"value\":5},\"right\":{\"value\":1146.013155649067},\"y\":{\"field\":\"y\"}},\"id\":\"4864\",\"type\":\"HBar\"},{\"attributes\":{\"data\":{\"y\":[\"North Carolina\"]},\"selected\":{\"id\":\"5338\"},\"selection_policy\":{\"id\":\"5339\"}},\"id\":\"4867\",\"type\":\"ColumnDataSource\"},{\"attributes\":{\"data\":{\"y\":[\"Nebraska\"]},\"selected\":{\"id\":\"5342\"},\"selection_policy\":{\"id\":\"5343\"}},\"id\":\"4877\",\"type\":\"ColumnDataSource\"},{\"attributes\":{\"data_source\":{\"id\":\"4872\"},\"glyph\":{\"id\":\"4873\"},\"hover_glyph\":null,\"muted_glyph\":null,\"nonselection_glyph\":{\"id\":\"4874\"},\"selection_glyph\":null,\"view\":{\"id\":\"4876\"}},\"id\":\"4875\",\"type\":\"GlyphRenderer\"},{\"attributes\":{\"fill_alpha\":{\"value\":0.1},\"fill_color\":{\"value\":\"red\"},\"line_alpha\":{\"value\":0.1},\"line_color\":{\"value\":\"red\"},\"line_width\":{\"value\":5},\"right\":{\"value\":1222.596267178382},\"y\":{\"field\":\"y\"}},\"id\":\"4879\",\"type\":\"HBar\"},{\"attributes\":{\"source\":{\"id\":\"4872\"}},\"id\":\"4876\",\"type\":\"CDSView\"},{\"attributes\":{\"source\":{\"id\":\"4882\"}},\"id\":\"4886\",\"type\":\"CDSView\"},{\"attributes\":{\"fill_alpha\":{\"value\":0.1},\"fill_color\":{\"value\":\"blue\"},\"line_alpha\":{\"value\":0.1},\"line_color\":{\"value\":\"blue\"},\"line_width\":{\"value\":5},\"right\":{\"value\":1280.402692941667},\"y\":{\"field\":\"y\"}},\"id\":\"4889\",\"type\":\"HBar\"},{\"attributes\":{\"fill_alpha\":{\"value\":0.1},\"fill_color\":{\"value\":\"blue\"},\"line_alpha\":{\"value\":0.1},\"line_color\":{\"value\":\"blue\"},\"line_width\":{\"value\":5},\"right\":{\"value\":1259.5601978040233},\"y\":{\"field\":\"y\"}},\"id\":\"4884\",\"type\":\"HBar\"},{\"attributes\":{\"data_source\":{\"id\":\"4882\"},\"glyph\":{\"id\":\"4883\"},\"hover_glyph\":null,\"muted_glyph\":null,\"nonselection_glyph\":{\"id\":\"4884\"},\"selection_glyph\":null,\"view\":{\"id\":\"4886\"}},\"id\":\"4885\",\"type\":\"GlyphRenderer\"},{\"attributes\":{\"data\":{\"y\":[\"Minnesota\"]},\"selected\":{\"id\":\"5346\"},\"selection_policy\":{\"id\":\"5347\"}},\"id\":\"4887\",\"type\":\"ColumnDataSource\"},{\"attributes\":{\"source\":{\"id\":\"4877\"}},\"id\":\"4881\",\"type\":\"CDSView\"},{\"attributes\":{\"fill_color\":{\"value\":\"blue\"},\"line_color\":{\"value\":\"blue\"},\"line_width\":{\"value\":5},\"right\":{\"value\":1259.5601978040233},\"y\":{\"field\":\"y\"}},\"id\":\"4883\",\"type\":\"HBar\"},{\"attributes\":{\"data_source\":{\"id\":\"4877\"},\"glyph\":{\"id\":\"4878\"},\"hover_glyph\":null,\"muted_glyph\":null,\"nonselection_glyph\":{\"id\":\"4879\"},\"selection_glyph\":null,\"view\":{\"id\":\"4881\"}},\"id\":\"4880\",\"type\":\"GlyphRenderer\"},{\"attributes\":{\"fill_color\":{\"value\":\"blue\"},\"line_color\":{\"value\":\"blue\"},\"line_width\":{\"value\":5},\"right\":{\"value\":1280.402692941667},\"y\":{\"field\":\"y\"}},\"id\":\"4888\",\"type\":\"HBar\"},{\"attributes\":{\"fill_color\":{\"value\":\"blue\"},\"line_color\":{\"value\":\"blue\"},\"line_width\":{\"value\":5},\"right\":{\"value\":1295.3345628305963},\"y\":{\"field\":\"y\"}},\"id\":\"4893\",\"type\":\"HBar\"},{\"attributes\":{\"data\":{\"y\":[\"Wisconsin\"]},\"selected\":{\"id\":\"5348\"},\"selection_policy\":{\"id\":\"5349\"}},\"id\":\"4892\",\"type\":\"ColumnDataSource\"},{\"attributes\":{\"fill_color\":{\"value\":\"red\"},\"line_color\":{\"value\":\"red\"},\"line_width\":{\"value\":5},\"right\":{\"value\":1146.013155649067},\"y\":{\"field\":\"y\"}},\"id\":\"4863\",\"type\":\"HBar\"},{\"attributes\":{\"data_source\":{\"id\":\"4832\"},\"glyph\":{\"id\":\"4833\"},\"hover_glyph\":null,\"muted_glyph\":null,\"nonselection_glyph\":{\"id\":\"4834\"},\"selection_glyph\":null,\"view\":{\"id\":\"4836\"}},\"id\":\"4835\",\"type\":\"GlyphRenderer\"},{\"attributes\":{\"source\":{\"id\":\"4857\"}},\"id\":\"4861\",\"type\":\"CDSView\"},{\"attributes\":{\"data\":{\"y\":[\"Idaho\"]},\"selected\":{\"id\":\"5336\"},\"selection_policy\":{\"id\":\"5337\"}},\"id\":\"4862\",\"type\":\"ColumnDataSource\"},{\"attributes\":{\"data_source\":{\"id\":\"4897\"},\"glyph\":{\"id\":\"4898\"},\"hover_glyph\":null,\"muted_glyph\":null,\"nonselection_glyph\":{\"id\":\"4899\"},\"selection_glyph\":null,\"view\":{\"id\":\"4901\"}},\"id\":\"4900\",\"type\":\"GlyphRenderer\"},{\"attributes\":{},\"id\":\"5364\",\"type\":\"Selection\"},{\"attributes\":{},\"id\":\"5365\",\"type\":\"UnionRenderers\"},{\"attributes\":{\"fill_alpha\":{\"value\":0.1},\"fill_color\":{\"value\":\"blue\"},\"line_alpha\":{\"value\":0.1},\"line_color\":{\"value\":\"blue\"},\"line_width\":{\"value\":5},\"right\":{\"value\":1442.0214103293592},\"y\":{\"field\":\"y\"}},\"id\":\"4899\",\"type\":\"HBar\"},{\"attributes\":{},\"id\":\"5366\",\"type\":\"Selection\"},{\"attributes\":{},\"id\":\"5367\",\"type\":\"UnionRenderers\"},{\"attributes\":{\"data\":{\"y\":[\"Montana\"]},\"selected\":{\"id\":\"5352\"},\"selection_policy\":{\"id\":\"5353\"}},\"id\":\"4902\",\"type\":\"ColumnDataSource\"},{\"attributes\":{\"source\":{\"id\":\"4897\"}},\"id\":\"4901\",\"type\":\"CDSView\"},{\"attributes\":{},\"id\":\"5368\",\"type\":\"Selection\"},{\"attributes\":{\"fill_color\":{\"value\":\"blue\"},\"line_color\":{\"value\":\"blue\"},\"line_width\":{\"value\":5},\"right\":{\"value\":581.7534734104441},\"y\":{\"field\":\"y\"}},\"id\":\"4833\",\"type\":\"HBar\"},{\"attributes\":{\"fill_color\":{\"value\":\"red\"},\"line_color\":{\"value\":\"red\"},\"line_width\":{\"value\":5},\"right\":{\"value\":1468.9673627264035},\"y\":{\"field\":\"y\"}},\"id\":\"4903\",\"type\":\"HBar\"},{\"attributes\":{},\"id\":\"5369\",\"type\":\"UnionRenderers\"},{\"attributes\":{},\"id\":\"4804\",\"type\":\"WheelZoomTool\"},{\"attributes\":{\"fill_alpha\":{\"value\":0.1},\"fill_color\":{\"value\":\"red\"},\"line_alpha\":{\"value\":0.1},\"line_color\":{\"value\":\"red\"},\"line_width\":{\"value\":5},\"right\":{\"value\":1468.9673627264035},\"y\":{\"field\":\"y\"}},\"id\":\"4904\",\"type\":\"HBar\"},{\"attributes\":{},\"id\":\"5370\",\"type\":\"Selection\"},{\"attributes\":{\"source\":{\"id\":\"4832\"}},\"id\":\"4836\",\"type\":\"CDSView\"},{\"attributes\":{},\"id\":\"5371\",\"type\":\"UnionRenderers\"},{\"attributes\":{\"source\":{\"id\":\"4837\"}},\"id\":\"4841\",\"type\":\"CDSView\"},{\"attributes\":{\"data\":{\"y\":[\"Kentucky\"]},\"selected\":{\"id\":\"5354\"},\"selection_policy\":{\"id\":\"5355\"}},\"id\":\"4907\",\"type\":\"ColumnDataSource\"},{\"attributes\":{\"data_source\":{\"id\":\"4902\"},\"glyph\":{\"id\":\"4903\"},\"hover_glyph\":null,\"muted_glyph\":null,\"nonselection_glyph\":{\"id\":\"4904\"},\"selection_glyph\":null,\"view\":{\"id\":\"4906\"}},\"id\":\"4905\",\"type\":\"GlyphRenderer\"},{\"attributes\":{\"data\":{\"y\":[\"Oregon\"]},\"selected\":{\"id\":\"5326\"},\"selection_policy\":{\"id\":\"5327\"}},\"id\":\"4837\",\"type\":\"ColumnDataSource\"},{\"attributes\":{},\"id\":\"5372\",\"type\":\"Selection\"},{\"attributes\":{\"source\":{\"id\":\"4902\"}},\"id\":\"4906\",\"type\":\"CDSView\"},{\"attributes\":{},\"id\":\"5373\",\"type\":\"UnionRenderers\"},{\"attributes\":{\"fill_color\":{\"value\":\"red\"},\"line_color\":{\"value\":\"red\"},\"line_width\":{\"value\":5},\"right\":{\"value\":451.1000690319803},\"y\":{\"field\":\"y\"}},\"id\":\"4828\",\"type\":\"HBar\"},{\"attributes\":{\"fill_color\":{\"value\":\"red\"},\"line_color\":{\"value\":\"red\"},\"line_width\":{\"value\":5},\"right\":{\"value\":1479.9650735405212},\"y\":{\"field\":\"y\"}},\"id\":\"4908\",\"type\":\"HBar\"},{\"attributes\":{},\"id\":\"5374\",\"type\":\"Selection\"},{\"attributes\":{\"fill_alpha\":{\"value\":0.1},\"fill_color\":{\"value\":\"red\"},\"line_alpha\":{\"value\":0.1},\"line_color\":{\"value\":\"red\"},\"line_width\":{\"value\":5},\"right\":{\"value\":1479.9650735405212},\"y\":{\"field\":\"y\"}},\"id\":\"4909\",\"type\":\"HBar\"},{\"attributes\":{},\"id\":\"4803\",\"type\":\"PanTool\"},{\"attributes\":{},\"id\":\"5375\",\"type\":\"UnionRenderers\"},{\"attributes\":{\"data_source\":{\"id\":\"4822\"},\"glyph\":{\"id\":\"4823\"},\"hover_glyph\":null,\"muted_glyph\":null,\"nonselection_glyph\":{\"id\":\"4824\"},\"selection_glyph\":null,\"view\":{\"id\":\"4826\"}},\"id\":\"4825\",\"type\":\"GlyphRenderer\"},{\"attributes\":{},\"id\":\"5376\",\"type\":\"Selection\"},{\"attributes\":{\"data\":{\"y\":[\"West Virginia\"]},\"selected\":{\"id\":\"5356\"},\"selection_policy\":{\"id\":\"5357\"}},\"id\":\"4912\",\"type\":\"ColumnDataSource\"},{\"attributes\":{\"data_source\":{\"id\":\"4907\"},\"glyph\":{\"id\":\"4908\"},\"hover_glyph\":null,\"muted_glyph\":null,\"nonselection_glyph\":{\"id\":\"4909\"},\"selection_glyph\":null,\"view\":{\"id\":\"4911\"}},\"id\":\"4910\",\"type\":\"GlyphRenderer\"},{\"attributes\":{},\"id\":\"5377\",\"type\":\"UnionRenderers\"},{\"attributes\":{\"data_source\":{\"id\":\"4837\"},\"glyph\":{\"id\":\"4838\"},\"hover_glyph\":null,\"muted_glyph\":null,\"nonselection_glyph\":{\"id\":\"4839\"},\"selection_glyph\":null,\"view\":{\"id\":\"4841\"}},\"id\":\"4840\",\"type\":\"GlyphRenderer\"},{\"attributes\":{\"source\":{\"id\":\"4907\"}},\"id\":\"4911\",\"type\":\"CDSView\"},{\"attributes\":{},\"id\":\"5378\",\"type\":\"Selection\"},{\"attributes\":{},\"id\":\"5379\",\"type\":\"UnionRenderers\"},{\"attributes\":{\"fill_color\":{\"value\":\"blue\"},\"line_color\":{\"value\":\"blue\"},\"line_width\":{\"value\":5},\"right\":{\"value\":339.0136961533246},\"y\":{\"field\":\"y\"}},\"id\":\"4818\",\"type\":\"HBar\"},{\"attributes\":{\"fill_color\":{\"value\":\"red\"},\"line_color\":{\"value\":\"red\"},\"line_width\":{\"value\":5},\"right\":{\"value\":1492.0651040344346},\"y\":{\"field\":\"y\"}},\"id\":\"4913\",\"type\":\"HBar\"},{\"attributes\":{\"fill_alpha\":{\"value\":0.1},\"fill_color\":{\"value\":\"blue\"},\"line_alpha\":{\"value\":0.1},\"line_color\":{\"value\":\"blue\"},\"line_width\":{\"value\":5},\"right\":{\"value\":581.7534734104441},\"y\":{\"field\":\"y\"}},\"id\":\"4834\",\"type\":\"HBar\"},{\"attributes\":{\"fill_alpha\":{\"value\":0.1},\"fill_color\":{\"value\":\"red\"},\"line_alpha\":{\"value\":0.1},\"line_color\":{\"value\":\"red\"},\"line_width\":{\"value\":5},\"right\":{\"value\":1492.0651040344346},\"y\":{\"field\":\"y\"}},\"id\":\"4914\",\"type\":\"HBar\"},{\"attributes\":{},\"id\":\"5380\",\"type\":\"Selection\"},{\"attributes\":{},\"id\":\"4808\",\"type\":\"HelpTool\"},{\"attributes\":{},\"id\":\"5381\",\"type\":\"UnionRenderers\"},{\"attributes\":{\"active_drag\":\"auto\",\"active_inspect\":\"auto\",\"active_multi\":null,\"active_scroll\":\"auto\",\"active_tap\":\"auto\",\"tools\":[{\"id\":\"4803\"},{\"id\":\"4804\"},{\"id\":\"4805\"},{\"id\":\"4806\"},{\"id\":\"4807\"},{\"id\":\"4808\"}]},\"id\":\"4810\",\"type\":\"Toolbar\"},{\"attributes\":{\"data\":{\"y\":[\"Missouri\"]},\"selected\":{\"id\":\"5358\"},\"selection_policy\":{\"id\":\"5359\"}},\"id\":\"4917\",\"type\":\"ColumnDataSource\"},{\"attributes\":{\"data_source\":{\"id\":\"4912\"},\"glyph\":{\"id\":\"4913\"},\"hover_glyph\":null,\"muted_glyph\":null,\"nonselection_glyph\":{\"id\":\"4914\"},\"selection_glyph\":null,\"view\":{\"id\":\"4916\"}},\"id\":\"4915\",\"type\":\"GlyphRenderer\"},{\"attributes\":{},\"id\":\"5382\",\"type\":\"Selection\"},{\"attributes\":{},\"id\":\"4806\",\"type\":\"SaveTool\"},{\"attributes\":{\"fill_color\":{\"value\":\"blue\"},\"line_color\":{\"value\":\"blue\"},\"line_width\":{\"value\":5},\"right\":{\"value\":394.2377189341479},\"y\":{\"field\":\"y\"}},\"id\":\"4823\",\"type\":\"HBar\"},{\"attributes\":{\"source\":{\"id\":\"4912\"}},\"id\":\"4916\",\"type\":\"CDSView\"},{\"attributes\":{},\"id\":\"5383\",\"type\":\"UnionRenderers\"},{\"attributes\":{\"overlay\":{\"id\":\"4809\"}},\"id\":\"4805\",\"type\":\"BoxZoomTool\"},{\"attributes\":{\"data_source\":{\"id\":\"4817\"},\"glyph\":{\"id\":\"4818\"},\"hover_glyph\":null,\"muted_glyph\":null,\"nonselection_glyph\":{\"id\":\"4819\"},\"selection_glyph\":null,\"view\":{\"id\":\"4821\"}},\"id\":\"4820\",\"type\":\"GlyphRenderer\"},{\"attributes\":{\"fill_color\":{\"value\":\"red\"},\"line_color\":{\"value\":\"red\"},\"line_width\":{\"value\":5},\"right\":{\"value\":1505.0278390231217},\"y\":{\"field\":\"y\"}},\"id\":\"4918\",\"type\":\"HBar\"},{\"attributes\":{},\"id\":\"5384\",\"type\":\"Selection\"},{\"attributes\":{\"fill_alpha\":{\"value\":0.1},\"fill_color\":{\"value\":\"blue\"},\"line_alpha\":{\"value\":0.1},\"line_color\":{\"value\":\"blue\"},\"line_width\":{\"value\":5},\"right\":{\"value\":594.3945769970959},\"y\":{\"field\":\"y\"}},\"id\":\"4839\",\"type\":\"HBar\"},{\"attributes\":{\"fill_alpha\":{\"value\":0.1},\"fill_color\":{\"value\":\"red\"},\"line_alpha\":{\"value\":0.1},\"line_color\":{\"value\":\"red\"},\"line_width\":{\"value\":5},\"right\":{\"value\":1505.0278390231217},\"y\":{\"field\":\"y\"}},\"id\":\"4919\",\"type\":\"HBar\"},{\"attributes\":{},\"id\":\"5385\",\"type\":\"UnionRenderers\"},{\"attributes\":{},\"id\":\"5386\",\"type\":\"Selection\"},{\"attributes\":{\"data\":{\"y\":[\"California\"]},\"selected\":{\"id\":\"5360\"},\"selection_policy\":{\"id\":\"5361\"}},\"id\":\"4922\",\"type\":\"ColumnDataSource\"},{\"attributes\":{\"data_source\":{\"id\":\"4917\"},\"glyph\":{\"id\":\"4918\"},\"hover_glyph\":null,\"muted_glyph\":null,\"nonselection_glyph\":{\"id\":\"4919\"},\"selection_glyph\":null,\"view\":{\"id\":\"4921\"}},\"id\":\"4920\",\"type\":\"GlyphRenderer\"},{\"attributes\":{\"fill_color\":{\"value\":\"blue\"},\"line_color\":{\"value\":\"blue\"},\"line_width\":{\"value\":5},\"right\":{\"value\":594.3945769970959},\"y\":{\"field\":\"y\"}},\"id\":\"4838\",\"type\":\"HBar\"},{\"attributes\":{},\"id\":\"5387\",\"type\":\"UnionRenderers\"},{\"attributes\":{\"source\":{\"id\":\"4917\"}},\"id\":\"4921\",\"type\":\"CDSView\"},{\"attributes\":{},\"id\":\"4807\",\"type\":\"ResetTool\"},{\"attributes\":{},\"id\":\"5388\",\"type\":\"Selection\"},{\"attributes\":{\"fill_alpha\":{\"value\":0.1},\"fill_color\":{\"value\":\"red\"},\"line_alpha\":{\"value\":0.1},\"line_color\":{\"value\":\"red\"},\"line_width\":{\"value\":5},\"right\":{\"value\":451.1000690319803},\"y\":{\"field\":\"y\"}},\"id\":\"4829\",\"type\":\"HBar\"},{\"attributes\":{\"fill_color\":{\"value\":\"blue\"},\"line_color\":{\"value\":\"blue\"},\"line_width\":{\"value\":5},\"right\":{\"value\":1560.200751043544},\"y\":{\"field\":\"y\"}},\"id\":\"4923\",\"type\":\"HBar\"},{\"attributes\":{},\"id\":\"5389\",\"type\":\"UnionRenderers\"},{\"attributes\":{\"data_source\":{\"id\":\"4827\"},\"glyph\":{\"id\":\"4828\"},\"hover_glyph\":null,\"muted_glyph\":null,\"nonselection_glyph\":{\"id\":\"4829\"},\"selection_glyph\":null,\"view\":{\"id\":\"4831\"}},\"id\":\"4830\",\"type\":\"GlyphRenderer\"},{\"attributes\":{\"fill_alpha\":{\"value\":0.1},\"fill_color\":{\"value\":\"blue\"},\"line_alpha\":{\"value\":0.1},\"line_color\":{\"value\":\"blue\"},\"line_width\":{\"value\":5},\"right\":{\"value\":1560.200751043544},\"y\":{\"field\":\"y\"}},\"id\":\"4924\",\"type\":\"HBar\"},{\"attributes\":{},\"id\":\"5390\",\"type\":\"Selection\"},{\"attributes\":{\"fill_alpha\":{\"value\":0.1},\"fill_color\":{\"value\":\"blue\"},\"line_alpha\":{\"value\":0.1},\"line_color\":{\"value\":\"blue\"},\"line_width\":{\"value\":5},\"right\":{\"value\":394.2377189341479},\"y\":{\"field\":\"y\"}},\"id\":\"4824\",\"type\":\"HBar\"},{\"attributes\":{\"data\":{\"y\":[\"Vermont\"]},\"selected\":{\"id\":\"5320\"},\"selection_policy\":{\"id\":\"5321\"}},\"id\":\"4822\",\"type\":\"ColumnDataSource\"},{\"attributes\":{},\"id\":\"5391\",\"type\":\"UnionRenderers\"},{\"attributes\":{\"data\":{\"y\":[\"District of Columbia\"]},\"selected\":{\"id\":\"5362\"},\"selection_policy\":{\"id\":\"5363\"}},\"id\":\"4927\",\"type\":\"ColumnDataSource\"},{\"attributes\":{\"data_source\":{\"id\":\"4922\"},\"glyph\":{\"id\":\"4923\"},\"hover_glyph\":null,\"muted_glyph\":null,\"nonselection_glyph\":{\"id\":\"4924\"},\"selection_glyph\":null,\"view\":{\"id\":\"4926\"}},\"id\":\"4925\",\"type\":\"GlyphRenderer\"},{\"attributes\":{\"data\":{\"y\":[\"Maine\"]},\"selected\":{\"id\":\"5324\"},\"selection_policy\":{\"id\":\"5325\"}},\"id\":\"4832\",\"type\":\"ColumnDataSource\"},{\"attributes\":{},\"id\":\"5392\",\"type\":\"Selection\"},{\"attributes\":{\"source\":{\"id\":\"4817\"}},\"id\":\"4821\",\"type\":\"CDSView\"},{\"attributes\":{\"source\":{\"id\":\"4822\"}},\"id\":\"4826\",\"type\":\"CDSView\"},{\"attributes\":{\"source\":{\"id\":\"4922\"}},\"id\":\"4926\",\"type\":\"CDSView\"},{\"attributes\":{},\"id\":\"5393\",\"type\":\"UnionRenderers\"},{\"attributes\":{\"source\":{\"id\":\"4827\"}},\"id\":\"4831\",\"type\":\"CDSView\"},{\"attributes\":{\"fill_color\":{\"value\":\"blue\"},\"line_color\":{\"value\":\"blue\"},\"line_width\":{\"value\":5},\"right\":{\"value\":1565.7124558447833},\"y\":{\"field\":\"y\"}},\"id\":\"4928\",\"type\":\"HBar\"},{\"attributes\":{},\"id\":\"5394\",\"type\":\"Selection\"},{\"attributes\":{\"fill_alpha\":{\"value\":0.1},\"fill_color\":{\"value\":\"blue\"},\"line_alpha\":{\"value\":0.1},\"line_color\":{\"value\":\"blue\"},\"line_width\":{\"value\":5},\"right\":{\"value\":1565.7124558447833},\"y\":{\"field\":\"y\"}},\"id\":\"4929\",\"type\":\"HBar\"},{\"attributes\":{},\"id\":\"5395\",\"type\":\"UnionRenderers\"},{\"attributes\":{\"bottom_units\":\"screen\",\"fill_alpha\":0.5,\"fill_color\":\"lightgrey\",\"left_units\":\"screen\",\"level\":\"overlay\",\"line_alpha\":1.0,\"line_color\":\"black\",\"line_dash\":[4,4],\"line_width\":2,\"render_mode\":\"css\",\"right_units\":\"screen\",\"top_units\":\"screen\"},\"id\":\"4809\",\"type\":\"BoxAnnotation\"},{\"attributes\":{\"fill_alpha\":{\"value\":0.1},\"fill_color\":{\"value\":\"blue\"},\"line_alpha\":{\"value\":0.1},\"line_color\":{\"value\":\"blue\"},\"line_width\":{\"value\":5},\"right\":{\"value\":339.0136961533246},\"y\":{\"field\":\"y\"}},\"id\":\"4819\",\"type\":\"HBar\"},{\"attributes\":{},\"id\":\"5396\",\"type\":\"Selection\"},{\"attributes\":{\"data\":{\"y\":[\"Florida\"]},\"selected\":{\"id\":\"5364\"},\"selection_policy\":{\"id\":\"5365\"}},\"id\":\"4932\",\"type\":\"ColumnDataSource\"},{\"attributes\":{\"data_source\":{\"id\":\"4927\"},\"glyph\":{\"id\":\"4928\"},\"hover_glyph\":null,\"muted_glyph\":null,\"nonselection_glyph\":{\"id\":\"4929\"},\"selection_glyph\":null,\"view\":{\"id\":\"4931\"}},\"id\":\"4930\",\"type\":\"GlyphRenderer\"},{\"attributes\":{},\"id\":\"5397\",\"type\":\"UnionRenderers\"},{\"attributes\":{\"source\":{\"id\":\"4927\"}},\"id\":\"4931\",\"type\":\"CDSView\"},{\"attributes\":{},\"id\":\"5398\",\"type\":\"Selection\"},{\"attributes\":{\"fill_color\":{\"value\":\"red\"},\"line_color\":{\"value\":\"red\"},\"line_width\":{\"value\":5},\"right\":{\"value\":1633.4588695261516},\"y\":{\"field\":\"y\"}},\"id\":\"4933\",\"type\":\"HBar\"},{\"attributes\":{\"data\":{\"y\":[\"Alaska\"]},\"selected\":{\"id\":\"5322\"},\"selection_policy\":{\"id\":\"5323\"}},\"id\":\"4827\",\"type\":\"ColumnDataSource\"},{\"attributes\":{},\"id\":\"5399\",\"type\":\"UnionRenderers\"},{\"attributes\":{\"fill_alpha\":{\"value\":0.1},\"fill_color\":{\"value\":\"red\"},\"line_alpha\":{\"value\":0.1},\"line_color\":{\"value\":\"red\"},\"line_width\":{\"value\":5},\"right\":{\"value\":1633.4588695261516},\"y\":{\"field\":\"y\"}},\"id\":\"4934\",\"type\":\"HBar\"},{\"attributes\":{},\"id\":\"5328\",\"type\":\"Selection\"},{\"attributes\":{},\"id\":\"4792\",\"type\":\"LinearScale\"},{\"attributes\":{\"data\":{\"y\":[\"Indiana\"]},\"selected\":{\"id\":\"5394\"},\"selection_policy\":{\"id\":\"5395\"}},\"id\":\"5007\",\"type\":\"ColumnDataSource\"},{\"attributes\":{\"fill_color\":{\"value\":\"blue\"},\"line_color\":{\"value\":\"blue\"},\"line_width\":{\"value\":5},\"right\":{\"value\":2377.479437653641},\"y\":{\"field\":\"y\"}},\"id\":\"5043\",\"type\":\"HBar\"},{\"attributes\":{},\"id\":\"5329\",\"type\":\"UnionRenderers\"},{\"attributes\":{\"fill_color\":{\"value\":\"red\"},\"line_color\":{\"value\":\"red\"},\"line_width\":{\"value\":5},\"right\":{\"value\":1979.1394189642374},\"y\":{\"field\":\"y\"}},\"id\":\"5008\",\"type\":\"HBar\"},{\"attributes\":{\"fill_alpha\":{\"value\":0.1},\"fill_color\":{\"value\":\"blue\"},\"line_alpha\":{\"value\":0.1},\"line_color\":{\"value\":\"blue\"},\"line_width\":{\"value\":5},\"right\":{\"value\":2377.479437653641},\"y\":{\"field\":\"y\"}},\"id\":\"5044\",\"type\":\"HBar\"},{\"attributes\":{},\"id\":\"5330\",\"type\":\"Selection\"},{\"attributes\":{\"fill_alpha\":{\"value\":0.1},\"fill_color\":{\"value\":\"red\"},\"line_alpha\":{\"value\":0.1},\"line_color\":{\"value\":\"red\"},\"line_width\":{\"value\":5},\"right\":{\"value\":1979.1394189642374},\"y\":{\"field\":\"y\"}},\"id\":\"5009\",\"type\":\"HBar\"},{\"attributes\":{},\"id\":\"5331\",\"type\":\"UnionRenderers\"},{\"attributes\":{\"factors\":[\"Hawaii\",\"Vermont\",\"Alaska\",\"Maine\",\"Oregon\",\"Utah\",\"Washington\",\"New Hampshire\",\"Colorado\",\"Idaho\",\"North Carolina\",\"Wyoming\",\"Nebraska\",\"Virginia\",\"Minnesota\",\"Wisconsin\",\"Maryland\",\"Montana\",\"Kentucky\",\"West Virginia\",\"Missouri\",\"California\",\"District of Columbia\",\"Florida\",\"Ohio\",\"Delaware\",\"Oklahoma\",\"Kansas\",\"Texas\",\"Tennessee\",\"Nevada\",\"Georgia\",\"South Carolina\",\"Michigan\",\"Iowa\",\"Arkansas\",\"Illinois\",\"New Mexico\",\"Indiana\",\"North Dakota\",\"Pennsylvania\",\"South Dakota\",\"Alabama\",\"Louisiana\",\"Connecticut\",\"Arizona\",\"Mississippi\",\"Rhode Island\",\"Massachusetts\",\"New York\",\"New Jersey\"]},\"id\":\"4790\",\"type\":\"FactorRange\"},{\"attributes\":{\"data\":{\"y\":[\"Mississippi\"]},\"selected\":{\"id\":\"5410\"},\"selection_policy\":{\"id\":\"5411\"}},\"id\":\"5047\",\"type\":\"ColumnDataSource\"},{\"attributes\":{\"data_source\":{\"id\":\"5042\"},\"glyph\":{\"id\":\"5043\"},\"hover_glyph\":null,\"muted_glyph\":null,\"nonselection_glyph\":{\"id\":\"5044\"},\"selection_glyph\":null,\"view\":{\"id\":\"5046\"}},\"id\":\"5045\",\"type\":\"GlyphRenderer\"},{\"attributes\":{},\"id\":\"4797\",\"type\":\"BasicTicker\"},{\"attributes\":{},\"id\":\"5332\",\"type\":\"Selection\"},{\"attributes\":{\"data\":{\"y\":[\"North Dakota\"]},\"selected\":{\"id\":\"5396\"},\"selection_policy\":{\"id\":\"5397\"}},\"id\":\"5012\",\"type\":\"ColumnDataSource\"},{\"attributes\":{\"data_source\":{\"id\":\"5007\"},\"glyph\":{\"id\":\"5008\"},\"hover_glyph\":null,\"muted_glyph\":null,\"nonselection_glyph\":{\"id\":\"5009\"},\"selection_glyph\":null,\"view\":{\"id\":\"5011\"}},\"id\":\"5010\",\"type\":\"GlyphRenderer\"},{\"attributes\":{},\"id\":\"4794\",\"type\":\"CategoricalScale\"},{\"attributes\":{\"source\":{\"id\":\"5042\"}},\"id\":\"5046\",\"type\":\"CDSView\"},{\"attributes\":{},\"id\":\"5333\",\"type\":\"UnionRenderers\"},{\"attributes\":{\"source\":{\"id\":\"5007\"}},\"id\":\"5011\",\"type\":\"CDSView\"},{\"attributes\":{\"fill_color\":{\"value\":\"red\"},\"line_color\":{\"value\":\"red\"},\"line_width\":{\"value\":5},\"right\":{\"value\":2417.5536910282385},\"y\":{\"field\":\"y\"}},\"id\":\"5048\",\"type\":\"HBar\"},{\"attributes\":{},\"id\":\"5334\",\"type\":\"Selection\"},{\"attributes\":{\"fill_color\":{\"value\":\"red\"},\"line_color\":{\"value\":\"red\"},\"line_width\":{\"value\":5},\"right\":{\"value\":1997.2128252031987},\"y\":{\"field\":\"y\"}},\"id\":\"5013\",\"type\":\"HBar\"},{\"attributes\":{\"fill_alpha\":{\"value\":0.1},\"fill_color\":{\"value\":\"red\"},\"line_alpha\":{\"value\":0.1},\"line_color\":{\"value\":\"red\"},\"line_width\":{\"value\":5},\"right\":{\"value\":2417.5536910282385},\"y\":{\"field\":\"y\"}},\"id\":\"5049\",\"type\":\"HBar\"},{\"attributes\":{},\"id\":\"5335\",\"type\":\"UnionRenderers\"},{\"attributes\":{\"text\":\"Misleading Graph: Deaths/million per state\"},\"id\":\"4786\",\"type\":\"Title\"},{\"attributes\":{\"fill_alpha\":{\"value\":0.1},\"fill_color\":{\"value\":\"red\"},\"line_alpha\":{\"value\":0.1},\"line_color\":{\"value\":\"red\"},\"line_width\":{\"value\":5},\"right\":{\"value\":1997.2128252031987},\"y\":{\"field\":\"y\"}},\"id\":\"5014\",\"type\":\"HBar\"},{\"attributes\":{},\"id\":\"5336\",\"type\":\"Selection\"},{\"attributes\":{\"data\":{\"y\":[\"Rhode Island\"]},\"selected\":{\"id\":\"5412\"},\"selection_policy\":{\"id\":\"5413\"}},\"id\":\"5052\",\"type\":\"ColumnDataSource\"},{\"attributes\":{\"data_source\":{\"id\":\"5047\"},\"glyph\":{\"id\":\"5048\"},\"hover_glyph\":null,\"muted_glyph\":null,\"nonselection_glyph\":{\"id\":\"5049\"},\"selection_glyph\":null,\"view\":{\"id\":\"5051\"}},\"id\":\"5050\",\"type\":\"GlyphRenderer\"},{\"attributes\":{},\"id\":\"5337\",\"type\":\"UnionRenderers\"},{\"attributes\":{\"data\":{\"y\":[\"Pennsylvania\"]},\"selected\":{\"id\":\"5398\"},\"selection_policy\":{\"id\":\"5399\"}},\"id\":\"5017\",\"type\":\"ColumnDataSource\"},{\"attributes\":{\"data_source\":{\"id\":\"5012\"},\"glyph\":{\"id\":\"5013\"},\"hover_glyph\":null,\"muted_glyph\":null,\"nonselection_glyph\":{\"id\":\"5014\"},\"selection_glyph\":null,\"view\":{\"id\":\"5016\"}},\"id\":\"5015\",\"type\":\"GlyphRenderer\"},{\"attributes\":{\"source\":{\"id\":\"5047\"}},\"id\":\"5051\",\"type\":\"CDSView\"},{\"attributes\":{},\"id\":\"5338\",\"type\":\"Selection\"},{\"attributes\":{\"source\":{\"id\":\"5012\"}},\"id\":\"5016\",\"type\":\"CDSView\"},{\"attributes\":{\"fill_color\":{\"value\":\"blue\"},\"line_color\":{\"value\":\"blue\"},\"line_width\":{\"value\":5},\"right\":{\"value\":2519.443324796741},\"y\":{\"field\":\"y\"}},\"id\":\"5053\",\"type\":\"HBar\"},{\"attributes\":{},\"id\":\"5339\",\"type\":\"UnionRenderers\"},{\"attributes\":{\"axis_label\":\"Deaths per Million\",\"formatter\":{\"id\":\"5314\"},\"ticker\":{\"id\":\"4797\"}},\"id\":\"4796\",\"type\":\"LinearAxis\"},{\"attributes\":{\"fill_color\":{\"value\":\"blue\"},\"line_color\":{\"value\":\"blue\"},\"line_width\":{\"value\":5},\"right\":{\"value\":2049.1347086769097},\"y\":{\"field\":\"y\"}},\"id\":\"5018\",\"type\":\"HBar\"},{\"attributes\":{\"fill_alpha\":{\"value\":0.1},\"fill_color\":{\"value\":\"blue\"},\"line_alpha\":{\"value\":0.1},\"line_color\":{\"value\":\"blue\"},\"line_width\":{\"value\":5},\"right\":{\"value\":2519.443324796741},\"y\":{\"field\":\"y\"}},\"id\":\"5054\",\"type\":\"HBar\"},{\"attributes\":{},\"id\":\"5340\",\"type\":\"Selection\"},{\"attributes\":{\"axis\":{\"id\":\"4796\"},\"grid_line_color\":null,\"ticker\":null},\"id\":\"4799\",\"type\":\"Grid\"},{\"attributes\":{\"fill_alpha\":{\"value\":0.1},\"fill_color\":{\"value\":\"blue\"},\"line_alpha\":{\"value\":0.1},\"line_color\":{\"value\":\"blue\"},\"line_width\":{\"value\":5},\"right\":{\"value\":2049.1347086769097},\"y\":{\"field\":\"y\"}},\"id\":\"5019\",\"type\":\"HBar\"},{\"attributes\":{},\"id\":\"5341\",\"type\":\"UnionRenderers\"},{\"attributes\":{\"data\":{\"y\":[\"Massachusetts\"]},\"selected\":{\"id\":\"5414\"},\"selection_policy\":{\"id\":\"5415\"}},\"id\":\"5057\",\"type\":\"ColumnDataSource\"},{\"attributes\":{\"data_source\":{\"id\":\"5052\"},\"glyph\":{\"id\":\"5053\"},\"hover_glyph\":null,\"muted_glyph\":null,\"nonselection_glyph\":{\"id\":\"5054\"},\"selection_glyph\":null,\"view\":{\"id\":\"5056\"}},\"id\":\"5055\",\"type\":\"GlyphRenderer\"},{\"attributes\":{},\"id\":\"5342\",\"type\":\"Selection\"},{\"attributes\":{\"data_source\":{\"id\":\"4892\"},\"glyph\":{\"id\":\"4893\"},\"hover_glyph\":null,\"muted_glyph\":null,\"nonselection_glyph\":{\"id\":\"4894\"},\"selection_glyph\":null,\"view\":{\"id\":\"4896\"}},\"id\":\"4895\",\"type\":\"GlyphRenderer\"},{\"attributes\":{\"data\":{\"y\":[\"South Dakota\"]},\"selected\":{\"id\":\"5400\"},\"selection_policy\":{\"id\":\"5401\"}},\"id\":\"5022\",\"type\":\"ColumnDataSource\"},{\"attributes\":{\"data_source\":{\"id\":\"5017\"},\"glyph\":{\"id\":\"5018\"},\"hover_glyph\":null,\"muted_glyph\":null,\"nonselection_glyph\":{\"id\":\"5019\"},\"selection_glyph\":null,\"view\":{\"id\":\"5021\"}},\"id\":\"5020\",\"type\":\"GlyphRenderer\"},{\"attributes\":{\"source\":{\"id\":\"5052\"}},\"id\":\"5056\",\"type\":\"CDSView\"},{\"attributes\":{},\"id\":\"5343\",\"type\":\"UnionRenderers\"},{\"attributes\":{\"source\":{\"id\":\"5017\"}},\"id\":\"5021\",\"type\":\"CDSView\"},{\"attributes\":{\"fill_color\":{\"value\":\"blue\"},\"line_color\":{\"value\":\"blue\"},\"line_width\":{\"value\":5},\"right\":{\"value\":2552.628558884922},\"y\":{\"field\":\"y\"}},\"id\":\"5058\",\"type\":\"HBar\"},{\"attributes\":{},\"id\":\"5344\",\"type\":\"Selection\"},{\"attributes\":{\"fill_alpha\":{\"value\":0.1},\"fill_color\":{\"value\":\"blue\"},\"line_alpha\":{\"value\":0.1},\"line_color\":{\"value\":\"blue\"},\"line_width\":{\"value\":5},\"right\":{\"value\":1295.3345628305963},\"y\":{\"field\":\"y\"}},\"id\":\"4894\",\"type\":\"HBar\"},{\"attributes\":{\"fill_color\":{\"value\":\"red\"},\"line_color\":{\"value\":\"red\"},\"line_width\":{\"value\":5},\"right\":{\"value\":2217.8036961134176},\"y\":{\"field\":\"y\"}},\"id\":\"5023\",\"type\":\"HBar\"},{\"attributes\":{\"fill_alpha\":{\"value\":0.1},\"fill_color\":{\"value\":\"blue\"},\"line_alpha\":{\"value\":0.1},\"line_color\":{\"value\":\"blue\"},\"line_width\":{\"value\":5},\"right\":{\"value\":2552.628558884922},\"y\":{\"field\":\"y\"}},\"id\":\"5059\",\"type\":\"HBar\"},{\"attributes\":{},\"id\":\"5345\",\"type\":\"UnionRenderers\"},{\"attributes\":{\"fill_alpha\":{\"value\":0.1},\"fill_color\":{\"value\":\"red\"},\"line_alpha\":{\"value\":0.1},\"line_color\":{\"value\":\"red\"},\"line_width\":{\"value\":5},\"right\":{\"value\":2217.8036961134176},\"y\":{\"field\":\"y\"}},\"id\":\"5024\",\"type\":\"HBar\"},{\"attributes\":{},\"id\":\"5346\",\"type\":\"Selection\"},{\"attributes\":{\"data\":{\"y\":[\"New York\"]},\"selected\":{\"id\":\"5416\"},\"selection_policy\":{\"id\":\"5417\"}},\"id\":\"5062\",\"type\":\"ColumnDataSource\"},{\"attributes\":{\"data_source\":{\"id\":\"5057\"},\"glyph\":{\"id\":\"5058\"},\"hover_glyph\":null,\"muted_glyph\":null,\"nonselection_glyph\":{\"id\":\"5059\"},\"selection_glyph\":null,\"view\":{\"id\":\"5061\"}},\"id\":\"5060\",\"type\":\"GlyphRenderer\"},{\"attributes\":{},\"id\":\"5347\",\"type\":\"UnionRenderers\"},{\"attributes\":{\"data\":{\"y\":[\"Alabama\"]},\"selected\":{\"id\":\"5402\"},\"selection_policy\":{\"id\":\"5403\"}},\"id\":\"5027\",\"type\":\"ColumnDataSource\"},{\"attributes\":{\"data_source\":{\"id\":\"5022\"},\"glyph\":{\"id\":\"5023\"},\"hover_glyph\":null,\"muted_glyph\":null,\"nonselection_glyph\":{\"id\":\"5024\"},\"selection_glyph\":null,\"view\":{\"id\":\"5026\"}},\"id\":\"5025\",\"type\":\"GlyphRenderer\"},{\"attributes\":{\"source\":{\"id\":\"5057\"}},\"id\":\"5061\",\"type\":\"CDSView\"},{\"attributes\":{},\"id\":\"5348\",\"type\":\"Selection\"},{\"attributes\":{\"source\":{\"id\":\"5022\"}},\"id\":\"5026\",\"type\":\"CDSView\"},{\"attributes\":{\"fill_color\":{\"value\":\"blue\"},\"line_color\":{\"value\":\"blue\"},\"line_width\":{\"value\":5},\"right\":{\"value\":2656.4288152693484},\"y\":{\"field\":\"y\"}},\"id\":\"5063\",\"type\":\"HBar\"},{\"attributes\":{},\"id\":\"5349\",\"type\":\"UnionRenderers\"},{\"attributes\":{\"fill_color\":{\"value\":\"red\"},\"line_color\":{\"value\":\"red\"},\"line_width\":{\"value\":5},\"right\":{\"value\":2220.3934789325713},\"y\":{\"field\":\"y\"}},\"id\":\"5028\",\"type\":\"HBar\"},{\"attributes\":{\"fill_alpha\":{\"value\":0.1},\"fill_color\":{\"value\":\"blue\"},\"line_alpha\":{\"value\":0.1},\"line_color\":{\"value\":\"blue\"},\"line_width\":{\"value\":5},\"right\":{\"value\":2656.4288152693484},\"y\":{\"field\":\"y\"}},\"id\":\"5064\",\"type\":\"HBar\"},{\"attributes\":{},\"id\":\"5350\",\"type\":\"Selection\"},{\"attributes\":{\"fill_alpha\":{\"value\":0.1},\"fill_color\":{\"value\":\"red\"},\"line_alpha\":{\"value\":0.1},\"line_color\":{\"value\":\"red\"},\"line_width\":{\"value\":5},\"right\":{\"value\":2220.3934789325713},\"y\":{\"field\":\"y\"}},\"id\":\"5029\",\"type\":\"HBar\"},{\"attributes\":{},\"id\":\"5351\",\"type\":\"UnionRenderers\"},{\"attributes\":{\"data\":{\"y\":[\"New Jersey\"]},\"selected\":{\"id\":\"5418\"},\"selection_policy\":{\"id\":\"5419\"}},\"id\":\"5067\",\"type\":\"ColumnDataSource\"},{\"attributes\":{\"data_source\":{\"id\":\"5062\"},\"glyph\":{\"id\":\"5063\"},\"hover_glyph\":null,\"muted_glyph\":null,\"nonselection_glyph\":{\"id\":\"5064\"},\"selection_glyph\":null,\"view\":{\"id\":\"5066\"}},\"id\":\"5065\",\"type\":\"GlyphRenderer\"},{\"attributes\":{},\"id\":\"5352\",\"type\":\"Selection\"},{\"attributes\":{\"data\":{\"y\":[\"Louisiana\"]},\"selected\":{\"id\":\"5404\"},\"selection_policy\":{\"id\":\"5405\"}},\"id\":\"5032\",\"type\":\"ColumnDataSource\"},{\"attributes\":{\"data_source\":{\"id\":\"5027\"},\"glyph\":{\"id\":\"5028\"},\"hover_glyph\":null,\"muted_glyph\":null,\"nonselection_glyph\":{\"id\":\"5029\"},\"selection_glyph\":null,\"view\":{\"id\":\"5031\"}},\"id\":\"5030\",\"type\":\"GlyphRenderer\"},{\"attributes\":{\"source\":{\"id\":\"5062\"}},\"id\":\"5066\",\"type\":\"CDSView\"},{\"attributes\":{},\"id\":\"5353\",\"type\":\"UnionRenderers\"},{\"attributes\":{\"source\":{\"id\":\"5027\"}},\"id\":\"5031\",\"type\":\"CDSView\"},{\"attributes\":{\"fill_color\":{\"value\":\"blue\"},\"line_color\":{\"value\":\"blue\"},\"line_width\":{\"value\":5},\"right\":{\"value\":2874.178552811863},\"y\":{\"field\":\"y\"}},\"id\":\"5068\",\"type\":\"HBar\"},{\"attributes\":{},\"id\":\"5354\",\"type\":\"Selection\"},{\"attributes\":{},\"id\":\"5322\",\"type\":\"Selection\"},{\"attributes\":{\"fill_color\":{\"value\":\"red\"},\"line_color\":{\"value\":\"red\"},\"line_width\":{\"value\":5},\"right\":{\"value\":2231.976723425473},\"y\":{\"field\":\"y\"}},\"id\":\"5033\",\"type\":\"HBar\"},{\"attributes\":{\"fill_alpha\":{\"value\":0.1},\"fill_color\":{\"value\":\"blue\"},\"line_alpha\":{\"value\":0.1},\"line_color\":{\"value\":\"blue\"},\"line_width\":{\"value\":5},\"right\":{\"value\":2874.178552811863},\"y\":{\"field\":\"y\"}},\"id\":\"5069\",\"type\":\"HBar\"},{\"attributes\":{},\"id\":\"5355\",\"type\":\"UnionRenderers\"},{\"attributes\":{\"fill_alpha\":{\"value\":0.1},\"fill_color\":{\"value\":\"red\"},\"line_alpha\":{\"value\":0.1},\"line_color\":{\"value\":\"red\"},\"line_width\":{\"value\":5},\"right\":{\"value\":2231.976723425473},\"y\":{\"field\":\"y\"}},\"id\":\"5034\",\"type\":\"HBar\"},{\"attributes\":{},\"id\":\"5356\",\"type\":\"Selection\"},{\"attributes\":{\"data_source\":{\"id\":\"5067\"},\"glyph\":{\"id\":\"5068\"},\"hover_glyph\":null,\"muted_glyph\":null,\"nonselection_glyph\":{\"id\":\"5069\"},\"selection_glyph\":null,\"view\":{\"id\":\"5071\"}},\"id\":\"5070\",\"type\":\"GlyphRenderer\"},{\"attributes\":{},\"id\":\"5357\",\"type\":\"UnionRenderers\"},{\"attributes\":{\"data\":{\"y\":[\"Connecticut\"]},\"selected\":{\"id\":\"5406\"},\"selection_policy\":{\"id\":\"5407\"}},\"id\":\"5037\",\"type\":\"ColumnDataSource\"},{\"attributes\":{\"data_source\":{\"id\":\"5032\"},\"glyph\":{\"id\":\"5033\"},\"hover_glyph\":null,\"muted_glyph\":null,\"nonselection_glyph\":{\"id\":\"5034\"},\"selection_glyph\":null,\"view\":{\"id\":\"5036\"}},\"id\":\"5035\",\"type\":\"GlyphRenderer\"},{\"attributes\":{\"source\":{\"id\":\"5067\"}},\"id\":\"5071\",\"type\":\"CDSView\"},{\"attributes\":{},\"id\":\"5358\",\"type\":\"Selection\"},{\"attributes\":{\"source\":{\"id\":\"5032\"}},\"id\":\"5036\",\"type\":\"CDSView\"},{\"attributes\":{},\"id\":\"5323\",\"type\":\"UnionRenderers\"},{\"attributes\":{},\"id\":\"5359\",\"type\":\"UnionRenderers\"},{\"attributes\":{\"fill_color\":{\"value\":\"blue\"},\"line_color\":{\"value\":\"blue\"},\"line_width\":{\"value\":5},\"right\":{\"value\":2267.4191446579193},\"y\":{\"field\":\"y\"}},\"id\":\"5038\",\"type\":\"HBar\"},{\"attributes\":{},\"id\":\"5324\",\"type\":\"Selection\"},{\"attributes\":{},\"id\":\"5360\",\"type\":\"Selection\"},{\"attributes\":{\"data\":{\"y\":[\"Arizona\"]},\"selected\":{\"id\":\"5408\"},\"selection_policy\":{\"id\":\"5409\"}},\"id\":\"5042\",\"type\":\"ColumnDataSource\"},{\"attributes\":{\"fill_alpha\":{\"value\":0.1},\"fill_color\":{\"value\":\"blue\"},\"line_alpha\":{\"value\":0.1},\"line_color\":{\"value\":\"blue\"},\"line_width\":{\"value\":5},\"right\":{\"value\":2267.4191446579193},\"y\":{\"field\":\"y\"}},\"id\":\"5039\",\"type\":\"HBar\"},{\"attributes\":{},\"id\":\"5325\",\"type\":\"UnionRenderers\"},{\"attributes\":{},\"id\":\"5361\",\"type\":\"UnionRenderers\"},{\"attributes\":{},\"id\":\"5326\",\"type\":\"Selection\"},{\"attributes\":{},\"id\":\"5362\",\"type\":\"Selection\"},{\"attributes\":{\"data_source\":{\"id\":\"5037\"},\"glyph\":{\"id\":\"5038\"},\"hover_glyph\":null,\"muted_glyph\":null,\"nonselection_glyph\":{\"id\":\"5039\"},\"selection_glyph\":null,\"view\":{\"id\":\"5041\"}},\"id\":\"5040\",\"type\":\"GlyphRenderer\"},{\"attributes\":{},\"id\":\"5327\",\"type\":\"UnionRenderers\"},{\"attributes\":{},\"id\":\"5363\",\"type\":\"UnionRenderers\"},{\"attributes\":{\"source\":{\"id\":\"5037\"}},\"id\":\"5041\",\"type\":\"CDSView\"},{\"attributes\":{\"data\":{\"y\":[\"Maryland\"]},\"selected\":{\"id\":\"5350\"},\"selection_policy\":{\"id\":\"5351\"}},\"id\":\"4897\",\"type\":\"ColumnDataSource\"},{\"attributes\":{\"fill_color\":{\"value\":\"blue\"},\"line_color\":{\"value\":\"blue\"},\"line_width\":{\"value\":5},\"right\":{\"value\":1442.0214103293592},\"y\":{\"field\":\"y\"}},\"id\":\"4898\",\"type\":\"HBar\"},{\"attributes\":{\"source\":{\"id\":\"4892\"}},\"id\":\"4896\",\"type\":\"CDSView\"}],\"root_ids\":[\"4785\"]},\"title\":\"Bokeh Application\",\"version\":\"2.0.2\"}};\n",
       "  var render_items = [{\"docid\":\"09caad33-caba-4326-ad2f-b532dce53f44\",\"root_ids\":[\"4785\"],\"roots\":{\"4785\":\"4fe9a43a-496d-4652-8597-78a78765611a\"}}];\n",
       "  root.Bokeh.embed.embed_items_notebook(docs_json, render_items);\n",
       "\n",
       "  }\n",
       "  if (root.Bokeh !== undefined) {\n",
       "    embed_document(root);\n",
       "  } else {\n",
       "    var attempts = 0;\n",
       "    var timer = setInterval(function(root) {\n",
       "      if (root.Bokeh !== undefined) {\n",
       "        clearInterval(timer);\n",
       "        embed_document(root);\n",
       "      } else {\n",
       "        attempts++;\n",
       "        if (attempts > 100) {\n",
       "          clearInterval(timer);\n",
       "          console.log(\"Bokeh: ERROR: Unable to run BokehJS code because BokehJS library is missing\");\n",
       "        }\n",
       "      }\n",
       "    }, 10, root)\n",
       "  }\n",
       "})(window);"
      ],
      "application/vnd.bokehjs_exec.v0+json": ""
     },
     "metadata": {
      "application/vnd.bokehjs_exec.v0+json": {
       "id": "4785"
      }
     },
     "output_type": "display_data"
    }
   ],
   "source": [
    "def by_deaths():\n",
    "    df = pd.read_csv('data/party_cases_deaths_pop.csv')\n",
    "    df = df.assign(deaths_per_million = df['deaths']/df['population'] * 1e6)\n",
    "    df.sort_values(by = 'deaths_per_million', inplace = True)\n",
    "    labels = df['state'].tolist()\n",
    "    deaths = df['deaths_per_million'].tolist()\n",
    "    party = df['party'].tolist()\n",
    "    vote_dict = {}\n",
    "    for counter, i in enumerate(labels):\n",
    "        vote_dict[i] = party[counter]\n",
    "    p = make_bar_pop2(labels, y = deaths, plot_height = 650, \n",
    "             plot_width = 800,  vote_dict = vote_dict, title = \"Misleading Graph: Deaths/million per state\")\n",
    "    return p\n",
    "\n",
    "show(by_deaths())\n",
    "    "
   ]
  },
  {
   "cell_type": "code",
   "execution_count": null,
   "metadata": {},
   "outputs": [],
   "source": []
  },
  {
   "cell_type": "code",
   "execution_count": 25,
   "metadata": {},
   "outputs": [
    {
     "data": {
      "text/html": [
       "\n",
       "\n",
       "\n",
       "\n",
       "\n",
       "\n",
       "  <div class=\"bk-root\" id=\"cc2e33d3-0faf-40c1-af8a-cc73952b62b8\" data-root-id=\"4459\"></div>\n"
      ]
     },
     "metadata": {},
     "output_type": "display_data"
    },
    {
     "data": {
      "application/javascript": [
       "(function(root) {\n",
       "  function embed_document(root) {\n",
       "    \n",
       "  var docs_json = {\"4c1b81e1-211e-439a-9589-58375e319d78\":{\"roots\":{\"references\":[{\"attributes\":{\"below\":[{\"id\":\"4470\"}],\"center\":[{\"id\":\"4472\"},{\"id\":\"4476\"}],\"left\":[{\"id\":\"4473\"}],\"plot_height\":450,\"plot_width\":800,\"renderers\":[{\"id\":\"4494\"}],\"title\":{\"id\":\"4460\"},\"toolbar\":{\"id\":\"4484\"},\"x_range\":{\"id\":\"4462\"},\"x_scale\":{\"id\":\"4466\"},\"y_range\":{\"id\":\"4464\"},\"y_scale\":{\"id\":\"4468\"}},\"id\":\"4459\",\"subtype\":\"Figure\",\"type\":\"Plot\"},{\"attributes\":{},\"id\":\"4482\",\"type\":\"HelpTool\"},{\"attributes\":{},\"id\":\"4732\",\"type\":\"BasicTickFormatter\"},{\"attributes\":{\"fill_alpha\":{\"value\":0.1},\"fill_color\":{\"value\":\"#1f77b4\"},\"line_alpha\":{\"value\":0.1},\"line_color\":{\"value\":\"#1f77b4\"},\"line_width\":{\"value\":3},\"top\":{\"field\":\"top\"},\"width\":{\"value\":0.5},\"x\":{\"field\":\"x\"}},\"id\":\"4493\",\"type\":\"VBar\"},{\"attributes\":{\"active_drag\":\"auto\",\"active_inspect\":\"auto\",\"active_multi\":null,\"active_scroll\":\"auto\",\"active_tap\":\"auto\",\"tools\":[{\"id\":\"4477\"},{\"id\":\"4478\"},{\"id\":\"4479\"},{\"id\":\"4480\"},{\"id\":\"4481\"},{\"id\":\"4482\"}]},\"id\":\"4484\",\"type\":\"Toolbar\"},{\"attributes\":{},\"id\":\"4464\",\"type\":\"DataRange1d\"},{\"attributes\":{},\"id\":\"4480\",\"type\":\"SaveTool\"},{\"attributes\":{},\"id\":\"4734\",\"type\":\"Selection\"},{\"attributes\":{\"text\":\"Mean Deaths last 7 days\"},\"id\":\"4460\",\"type\":\"Title\"},{\"attributes\":{\"factors\":[\"West Virginia\",\"Wyoming\",\"Vermont\",\"Hawaii\",\"Oregon\",\"Utah\",\"Kansas\",\"South Dakota\",\"Mississippi\",\"Arkansas\",\"Tennessee\",\"Nebraska\",\"Washington\",\"Rhode Island\",\"Iowa\",\"California\",\"North Dakota\",\"Maine\",\"District of Columbia\",\"Idaho\",\"Indiana\",\"Colorado\",\"Missouri\",\"Louisiana\",\"Massachusetts\",\"Virginia\",\"Arizona\",\"North Carolina\",\"Montana\",\"Texas\",\"Connecticut\",\"Alabama\",\"Ohio\",\"Maryland\",\"Illinois\",\"Minnesota\",\"Alaska\",\"New Mexico\",\"Wisconsin\",\"Florida\",\"Oklahoma\",\"Nevada\",\"New York\",\"New Hampshire\",\"Delaware\",\"South Carolina\",\"Pennsylvania\",\"Georgia\",\"Kentucky\",\"New Jersey\",\"Michigan\"]},\"id\":\"4462\",\"type\":\"FactorRange\"},{\"attributes\":{\"overlay\":{\"id\":\"4483\"}},\"id\":\"4479\",\"type\":\"BoxZoomTool\"},{\"attributes\":{\"bottom_units\":\"screen\",\"fill_alpha\":0.5,\"fill_color\":\"lightgrey\",\"left_units\":\"screen\",\"level\":\"overlay\",\"line_alpha\":1.0,\"line_color\":\"black\",\"line_dash\":[4,4],\"line_width\":2,\"render_mode\":\"css\",\"right_units\":\"screen\",\"top_units\":\"screen\"},\"id\":\"4483\",\"type\":\"BoxAnnotation\"},{\"attributes\":{},\"id\":\"4466\",\"type\":\"CategoricalScale\"},{\"attributes\":{},\"id\":\"4471\",\"type\":\"CategoricalTicker\"},{\"attributes\":{\"source\":{\"id\":\"4491\"}},\"id\":\"4495\",\"type\":\"CDSView\"},{\"attributes\":{},\"id\":\"4468\",\"type\":\"LinearScale\"},{\"attributes\":{},\"id\":\"4481\",\"type\":\"ResetTool\"},{\"attributes\":{\"data_source\":{\"id\":\"4491\"},\"glyph\":{\"id\":\"4492\"},\"hover_glyph\":null,\"muted_glyph\":null,\"nonselection_glyph\":{\"id\":\"4493\"},\"selection_glyph\":null,\"view\":{\"id\":\"4495\"}},\"id\":\"4494\",\"type\":\"GlyphRenderer\"},{\"attributes\":{\"formatter\":{\"id\":\"4730\"},\"major_label_orientation\":\"vertical\",\"ticker\":{\"id\":\"4471\"}},\"id\":\"4470\",\"type\":\"CategoricalAxis\"},{\"attributes\":{},\"id\":\"4730\",\"type\":\"CategoricalTickFormatter\"},{\"attributes\":{\"axis_label\":\"Deaths/1,000,000\",\"formatter\":{\"id\":\"4732\"},\"ticker\":{\"id\":\"4474\"}},\"id\":\"4473\",\"type\":\"LinearAxis\"},{\"attributes\":{\"axis\":{\"id\":\"4470\"},\"grid_line_color\":null,\"ticker\":null},\"id\":\"4472\",\"type\":\"Grid\"},{\"attributes\":{\"data\":{\"top\":[-10.68152174060339,0.4936671148341291,0.6868252943103621,0.7062785336527596,0.7790230366934414,0.8466379516780053,0.931683201428241,0.9688963285772904,1.056014716621091,1.1361146809307128,1.1714447457335249,1.1816091981186418,1.1818944796729252,1.2136696420901711,1.2225221174626417,1.2943553477833212,1.3122291887011819,1.381584792534851,1.4169343491807993,1.5188511409969498,1.5278341785545428,1.5380359261377599,1.5827942444759782,1.5979566805006693,1.6373898256865882,1.6402048897085229,1.648642198893019,1.6889915941067706,1.737632003225045,1.749016893616225,1.8031006840603376,1.835541591842853,1.8943166833081369,2.1975549955859863,2.2096271719747302,2.2544530767762354,2.343376981984313,2.384553056067042,2.5517065298022885,2.5807454215763714,2.599390868852536,2.73641056770223,2.775841399937009,2.836737260449358,2.934122494919567,2.9688412068944374,3.336535105153247,3.6866626810344796,3.77313712466039,3.9726367355026504,6.6659038545789295],\"x\":[\"West Virginia\",\"Wyoming\",\"Vermont\",\"Hawaii\",\"Oregon\",\"Utah\",\"Kansas\",\"South Dakota\",\"Mississippi\",\"Arkansas\",\"Tennessee\",\"Nebraska\",\"Washington\",\"Rhode Island\",\"Iowa\",\"California\",\"North Dakota\",\"Maine\",\"District of Columbia\",\"Idaho\",\"Indiana\",\"Colorado\",\"Missouri\",\"Louisiana\",\"Massachusetts\",\"Virginia\",\"Arizona\",\"North Carolina\",\"Montana\",\"Texas\",\"Connecticut\",\"Alabama\",\"Ohio\",\"Maryland\",\"Illinois\",\"Minnesota\",\"Alaska\",\"New Mexico\",\"Wisconsin\",\"Florida\",\"Oklahoma\",\"Nevada\",\"New York\",\"New Hampshire\",\"Delaware\",\"South Carolina\",\"Pennsylvania\",\"Georgia\",\"Kentucky\",\"New Jersey\",\"Michigan\"]},\"selected\":{\"id\":\"4734\"},\"selection_policy\":{\"id\":\"4735\"}},\"id\":\"4491\",\"type\":\"ColumnDataSource\"},{\"attributes\":{\"fill_color\":{\"value\":\"#1f77b4\"},\"line_color\":{\"value\":\"#1f77b4\"},\"line_width\":{\"value\":3},\"top\":{\"field\":\"top\"},\"width\":{\"value\":0.5},\"x\":{\"field\":\"x\"}},\"id\":\"4492\",\"type\":\"VBar\"},{\"attributes\":{\"axis\":{\"id\":\"4473\"},\"dimension\":1,\"ticker\":null},\"id\":\"4476\",\"type\":\"Grid\"},{\"attributes\":{},\"id\":\"4474\",\"type\":\"BasicTicker\"},{\"attributes\":{},\"id\":\"4735\",\"type\":\"UnionRenderers\"},{\"attributes\":{},\"id\":\"4477\",\"type\":\"PanTool\"},{\"attributes\":{},\"id\":\"4478\",\"type\":\"WheelZoomTool\"}],\"root_ids\":[\"4459\"]},\"title\":\"Bokeh Application\",\"version\":\"2.0.2\"}};\n",
       "  var render_items = [{\"docid\":\"4c1b81e1-211e-439a-9589-58375e319d78\",\"root_ids\":[\"4459\"],\"roots\":{\"4459\":\"cc2e33d3-0faf-40c1-af8a-cc73952b62b8\"}}];\n",
       "  root.Bokeh.embed.embed_items_notebook(docs_json, render_items);\n",
       "\n",
       "  }\n",
       "  if (root.Bokeh !== undefined) {\n",
       "    embed_document(root);\n",
       "  } else {\n",
       "    var attempts = 0;\n",
       "    var timer = setInterval(function(root) {\n",
       "      if (root.Bokeh !== undefined) {\n",
       "        clearInterval(timer);\n",
       "        embed_document(root);\n",
       "      } else {\n",
       "        attempts++;\n",
       "        if (attempts > 100) {\n",
       "          clearInterval(timer);\n",
       "          console.log(\"Bokeh: ERROR: Unable to run BokehJS code because BokehJS library is missing\");\n",
       "        }\n",
       "      }\n",
       "    }, 10, root)\n",
       "  }\n",
       "})(window);"
      ],
      "application/vnd.bokehjs_exec.v0+json": ""
     },
     "metadata": {
      "application/vnd.bokehjs_exec.v0+json": {
       "id": "4459"
      }
     },
     "output_type": "display_data"
    }
   ],
   "source": [
    "def make_bar_pop3(labels, y, plot_height = 450, \n",
    "             plot_width = 450, title = None):\n",
    "    x_range = labels\n",
    "    p = figure(x_range = x_range , plot_height = plot_height, \n",
    "               plot_width = plot_width, title = title)\n",
    "    p.vbar(x=labels, top=y , line_width = 3, width = .5)\n",
    "    p.xaxis.major_label_orientation = \"vertical\"\n",
    "    p.xgrid.grid_line_color = None\n",
    "    p.yaxis.axis_label = 'Deaths/1,000,000'\n",
    "    #p.legend.location = 'top_left'\n",
    "\n",
    "    return p\n",
    "    #p.y_range \n",
    "\n",
    "def deaths_recent(back = 7, use_cum = False):\n",
    "    df = pd.read_csv('data/seven_day_state.csv')\n",
    "    df['date'] = pd.to_datetime(df['date'])\n",
    "    df = df[df['date'] > datetime.datetime.now() - datetime.timedelta(days = back)]\n",
    "    dates = set(list(df['date'].tolist()))\n",
    "    states = list(set(df['state']))\n",
    "    data = []\n",
    "    for i in sorted(states):\n",
    "        df_ = df[df['state'] == i]\n",
    "        death_million = list(set((np.mean(df_['new_deaths'])/df_['population'] * 1e6).tolist()))[0]\n",
    "        death = list(set((np.mean(df_['new_deaths'])/df_['population'] * 1e6).tolist()))[0]\n",
    "        death = sum(df_['new_deaths'])\n",
    "        if use_cum:\n",
    "            data.append((i, death))\n",
    "        else:\n",
    "            data.append((i, death_million))\n",
    "    data = sorted(data, key = lambda x: x[1])\n",
    "    return make_bar_pop3(labels = [x[0] for x in data], y = [x[1] for x in data],\n",
    "                        plot_width = 800, title = 'Mean Deaths last {x} days'.format(x = back -1))\n",
    "    \n",
    "\n",
    "show(deaths_recent(back = 8, use_cum = False))\n"
   ]
  },
  {
   "cell_type": "code",
   "execution_count": 20,
   "metadata": {},
   "outputs": [
    {
     "data": {
      "text/html": [
       "\n",
       "\n",
       "\n",
       "\n",
       "\n",
       "\n",
       "  <div class=\"bk-root\" id=\"687ba9cc-489e-475d-92ba-c796f0ec5c1a\" data-root-id=\"3064\"></div>\n"
      ]
     },
     "metadata": {},
     "output_type": "display_data"
    },
    {
     "data": {
      "application/javascript": [
       "(function(root) {\n",
       "  function embed_document(root) {\n",
       "    \n",
       "  var docs_json = {\"89ac31f9-04a2-4cd5-9deb-96595b8a6087\":{\"roots\":{\"references\":[{\"attributes\":{\"below\":[{\"id\":\"3075\"}],\"center\":[{\"id\":\"3078\"},{\"id\":\"3082\"}],\"left\":[{\"id\":\"3079\"}],\"plot_height\":650,\"plot_width\":650,\"renderers\":[{\"id\":\"3100\"}],\"title\":{\"id\":\"3065\"},\"toolbar\":{\"id\":\"3090\"},\"x_range\":{\"id\":\"3067\"},\"x_scale\":{\"id\":\"3071\"},\"y_range\":{\"id\":\"3069\"},\"y_scale\":{\"id\":\"3073\"}},\"id\":\"3064\",\"subtype\":\"Figure\",\"type\":\"Plot\"},{\"attributes\":{},\"id\":\"3293\",\"type\":\"YearsTicker\"},{\"attributes\":{},\"id\":\"3071\",\"type\":\"LinearScale\"},{\"attributes\":{\"formatter\":{\"id\":\"3280\"},\"ticker\":{\"id\":\"3080\"}},\"id\":\"3079\",\"type\":\"LinearAxis\"},{\"attributes\":{\"active_drag\":\"auto\",\"active_inspect\":\"auto\",\"active_multi\":null,\"active_scroll\":\"auto\",\"active_tap\":\"auto\",\"tools\":[{\"id\":\"3083\"},{\"id\":\"3084\"},{\"id\":\"3085\"},{\"id\":\"3086\"},{\"id\":\"3087\"},{\"id\":\"3088\"}]},\"id\":\"3090\",\"type\":\"Toolbar\"},{\"attributes\":{\"num_minor_ticks\":5,\"tickers\":[{\"id\":\"3282\"},{\"id\":\"3283\"},{\"id\":\"3284\"},{\"id\":\"3285\"},{\"id\":\"3286\"},{\"id\":\"3287\"},{\"id\":\"3288\"},{\"id\":\"3289\"},{\"id\":\"3290\"},{\"id\":\"3291\"},{\"id\":\"3292\"},{\"id\":\"3293\"}]},\"id\":\"3076\",\"type\":\"DatetimeTicker\"},{\"attributes\":{\"days\":[1,15]},\"id\":\"3288\",\"type\":\"DaysTicker\"},{\"attributes\":{},\"id\":\"3088\",\"type\":\"HelpTool\"},{\"attributes\":{\"mantissas\":[1,2,5],\"max_interval\":500.0,\"num_minor_ticks\":0},\"id\":\"3282\",\"type\":\"AdaptiveTicker\"},{\"attributes\":{\"axis\":{\"id\":\"3075\"},\"ticker\":null},\"id\":\"3078\",\"type\":\"Grid\"},{\"attributes\":{},\"id\":\"3086\",\"type\":\"SaveTool\"},{\"attributes\":{\"fill_color\":{\"value\":\"#1f77b4\"},\"line_color\":{\"value\":\"#1f77b4\"},\"line_width\":{\"value\":5},\"top\":{\"field\":\"top\"},\"width\":{\"value\":0.5},\"x\":{\"field\":\"x\"}},\"id\":\"3098\",\"type\":\"VBar\"},{\"attributes\":{\"base\":24,\"mantissas\":[1,2,4,6,8,12],\"max_interval\":43200000.0,\"min_interval\":3600000.0,\"num_minor_ticks\":0},\"id\":\"3284\",\"type\":\"AdaptiveTicker\"},{\"attributes\":{\"months\":[0,1,2,3,4,5,6,7,8,9,10,11]},\"id\":\"3289\",\"type\":\"MonthsTicker\"},{\"attributes\":{},\"id\":\"3084\",\"type\":\"WheelZoomTool\"},{\"attributes\":{},\"id\":\"3280\",\"type\":\"BasicTickFormatter\"},{\"attributes\":{},\"id\":\"3073\",\"type\":\"LinearScale\"},{\"attributes\":{\"overlay\":{\"id\":\"3089\"}},\"id\":\"3085\",\"type\":\"BoxZoomTool\"},{\"attributes\":{\"text\":\"wash\"},\"id\":\"3065\",\"type\":\"Title\"},{\"attributes\":{\"base\":60,\"mantissas\":[1,2,5,10,15,20,30],\"max_interval\":1800000.0,\"min_interval\":1000.0,\"num_minor_ticks\":0},\"id\":\"3283\",\"type\":\"AdaptiveTicker\"},{\"attributes\":{},\"id\":\"3278\",\"type\":\"DatetimeTickFormatter\"},{\"attributes\":{},\"id\":\"3295\",\"type\":\"UnionRenderers\"},{\"attributes\":{\"bottom_units\":\"screen\",\"fill_alpha\":0.5,\"fill_color\":\"lightgrey\",\"left_units\":\"screen\",\"level\":\"overlay\",\"line_alpha\":1.0,\"line_color\":\"black\",\"line_dash\":[4,4],\"line_width\":2,\"render_mode\":\"css\",\"right_units\":\"screen\",\"top_units\":\"screen\"},\"id\":\"3089\",\"type\":\"BoxAnnotation\"},{\"attributes\":{},\"id\":\"3083\",\"type\":\"PanTool\"},{\"attributes\":{\"axis\":{\"id\":\"3079\"},\"dimension\":1,\"ticker\":null},\"id\":\"3082\",\"type\":\"Grid\"},{\"attributes\":{\"months\":[0,2,4,6,8,10]},\"id\":\"3290\",\"type\":\"MonthsTicker\"},{\"attributes\":{\"fill_alpha\":{\"value\":0.1},\"fill_color\":{\"value\":\"#1f77b4\"},\"line_alpha\":{\"value\":0.1},\"line_color\":{\"value\":\"#1f77b4\"},\"line_width\":{\"value\":5},\"top\":{\"field\":\"top\"},\"width\":{\"value\":0.5},\"x\":{\"field\":\"x\"}},\"id\":\"3099\",\"type\":\"VBar\"},{\"attributes\":{},\"id\":\"3080\",\"type\":\"BasicTicker\"},{\"attributes\":{\"days\":[1,4,7,10,13,16,19,22,25,28]},\"id\":\"3286\",\"type\":\"DaysTicker\"},{\"attributes\":{\"days\":[1,2,3,4,5,6,7,8,9,10,11,12,13,14,15,16,17,18,19,20,21,22,23,24,25,26,27,28,29,30,31]},\"id\":\"3285\",\"type\":\"DaysTicker\"},{\"attributes\":{},\"id\":\"3067\",\"type\":\"DataRange1d\"},{\"attributes\":{\"data\":{\"top\":{\"__ndarray__\":\"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\",\"dtype\":\"float64\",\"shape\":[464]},\"x\":{\"__ndarray__\":\"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\",\"dtype\":\"float64\",\"shape\":[464]}},\"selected\":{\"id\":\"3294\"},\"selection_policy\":{\"id\":\"3295\"}},\"id\":\"3097\",\"type\":\"ColumnDataSource\"},{\"attributes\":{\"months\":[0,4,8]},\"id\":\"3291\",\"type\":\"MonthsTicker\"},{\"attributes\":{\"formatter\":{\"id\":\"3278\"},\"ticker\":{\"id\":\"3076\"}},\"id\":\"3075\",\"type\":\"DatetimeAxis\"},{\"attributes\":{\"days\":[1,8,15,22]},\"id\":\"3287\",\"type\":\"DaysTicker\"},{\"attributes\":{\"data_source\":{\"id\":\"3097\"},\"glyph\":{\"id\":\"3098\"},\"hover_glyph\":null,\"muted_glyph\":null,\"nonselection_glyph\":{\"id\":\"3099\"},\"selection_glyph\":null,\"view\":{\"id\":\"3101\"}},\"id\":\"3100\",\"type\":\"GlyphRenderer\"},{\"attributes\":{\"source\":{\"id\":\"3097\"}},\"id\":\"3101\",\"type\":\"CDSView\"},{\"attributes\":{\"months\":[0,6]},\"id\":\"3292\",\"type\":\"MonthsTicker\"},{\"attributes\":{},\"id\":\"3087\",\"type\":\"ResetTool\"},{\"attributes\":{},\"id\":\"3294\",\"type\":\"Selection\"},{\"attributes\":{},\"id\":\"3069\",\"type\":\"DataRange1d\"}],\"root_ids\":[\"3064\"]},\"title\":\"Bokeh Application\",\"version\":\"2.0.2\"}};\n",
       "  var render_items = [{\"docid\":\"89ac31f9-04a2-4cd5-9deb-96595b8a6087\",\"root_ids\":[\"3064\"],\"roots\":{\"3064\":\"687ba9cc-489e-475d-92ba-c796f0ec5c1a\"}}];\n",
       "  root.Bokeh.embed.embed_items_notebook(docs_json, render_items);\n",
       "\n",
       "  }\n",
       "  if (root.Bokeh !== undefined) {\n",
       "    embed_document(root);\n",
       "  } else {\n",
       "    var attempts = 0;\n",
       "    var timer = setInterval(function(root) {\n",
       "      if (root.Bokeh !== undefined) {\n",
       "        clearInterval(timer);\n",
       "        embed_document(root);\n",
       "      } else {\n",
       "        attempts++;\n",
       "        if (attempts > 100) {\n",
       "          clearInterval(timer);\n",
       "          console.log(\"Bokeh: ERROR: Unable to run BokehJS code because BokehJS library is missing\");\n",
       "        }\n",
       "      }\n",
       "    }, 10, root)\n",
       "  }\n",
       "})(window);"
      ],
      "application/vnd.bokehjs_exec.v0+json": ""
     },
     "metadata": {
      "application/vnd.bokehjs_exec.v0+json": {
       "id": "3064"
      }
     },
     "output_type": "display_data"
    }
   ],
   "source": [
    "def wash(window = 7):\n",
    "    df = pd.read_csv('data/states.csv')\n",
    "    df['date'] = pd.to_datetime(df['date'])\n",
    "\n",
    "    df_wash = df[df['state'] == 'Washington']\n",
    "    p = figure(x_axis_type = 'datetime', title = 'wash', \n",
    "                 plot_width = 650 , plot_height = 650, y_range = None)\n",
    "    cases = df_wash['cases'].rolling(window).mean()\n",
    "    dates = df_wash['date']\n",
    "    p.vbar(x=dates, top=cases , line_width = 5, width = .5)\n",
    "\n",
    "\n",
    "    return p\n",
    "show(wash())"
   ]
  },
  {
   "cell_type": "code",
   "execution_count": 21,
   "metadata": {},
   "outputs": [
    {
     "data": {
      "text/html": [
       "\n",
       "\n",
       "\n",
       "\n",
       "\n",
       "\n",
       "  <div class=\"bk-root\" id=\"da9ba738-0964-4493-bb68-71cbd42914f6\" data-root-id=\"3417\"></div>\n"
      ]
     },
     "metadata": {},
     "output_type": "display_data"
    },
    {
     "data": {
      "application/javascript": [
       "(function(root) {\n",
       "  function embed_document(root) {\n",
       "    \n",
       "  var docs_json = {\"61415edc-09ef-4ea3-a7dd-1b14feaa1aaf\":{\"roots\":{\"references\":[{\"attributes\":{\"below\":[{\"id\":\"3428\"}],\"center\":[{\"id\":\"3431\"},{\"id\":\"3435\"},{\"id\":\"3480\"}],\"left\":[{\"id\":\"3432\"}],\"plot_height\":650,\"plot_width\":650,\"renderers\":[{\"id\":\"3453\"},{\"id\":\"3458\"}],\"title\":{\"id\":\"3418\"},\"toolbar\":{\"id\":\"3443\"},\"x_range\":{\"id\":\"3420\"},\"x_scale\":{\"id\":\"3424\"},\"y_range\":{\"id\":\"3422\"},\"y_scale\":{\"id\":\"3426\"}},\"id\":\"3417\",\"subtype\":\"Figure\",\"type\":\"Plot\"},{\"attributes\":{\"axis\":{\"id\":\"3432\"},\"dimension\":1,\"ticker\":null},\"id\":\"3435\",\"type\":\"Grid\"},{\"attributes\":{\"months\":[0,1,2,3,4,5,6,7,8,9,10,11]},\"id\":\"3472\",\"type\":\"MonthsTicker\"},{\"attributes\":{\"text\":\"Seattle 528 (408.0)\"},\"id\":\"3418\",\"type\":\"Title\"},{\"attributes\":{\"months\":[0,2,4,6,8,10]},\"id\":\"3473\",\"type\":\"MonthsTicker\"},{\"attributes\":{\"data\":{\"x\":{\"__ndarray__\":\"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\",\"dtype\":\"float64\",\"shape\":[426]},\"y\":{\"__ndarray__\":\"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\",\"dtype\":\"float64\",\"shape\":[426]}},\"selected\":{\"id\":\"3696\"},\"selection_policy\":{\"id\":\"3697\"}},\"id\":\"3455\",\"type\":\"ColumnDataSource\"},{\"attributes\":{\"months\":[0,4,8]},\"id\":\"3474\",\"type\":\"MonthsTicker\"},{\"attributes\":{\"source\":{\"id\":\"3450\"}},\"id\":\"3454\",\"type\":\"CDSView\"},{\"attributes\":{\"fill_alpha\":{\"value\":0.1},\"fill_color\":{\"value\":\"#1f77b4\"},\"line_alpha\":{\"value\":0.1},\"line_color\":{\"value\":\"#1f77b4\"},\"line_width\":{\"value\":5},\"top\":{\"field\":\"top\"},\"width\":{\"value\":0.5},\"x\":{\"field\":\"x\"}},\"id\":\"3452\",\"type\":\"VBar\"},{\"attributes\":{\"data_source\":{\"id\":\"3450\"},\"glyph\":{\"id\":\"3451\"},\"hover_glyph\":null,\"muted_glyph\":null,\"nonselection_glyph\":{\"id\":\"3452\"},\"selection_glyph\":null,\"view\":{\"id\":\"3454\"}},\"id\":\"3453\",\"type\":\"GlyphRenderer\"},{\"attributes\":{\"months\":[0,6]},\"id\":\"3475\",\"type\":\"MonthsTicker\"},{\"attributes\":{},\"id\":\"3696\",\"type\":\"Selection\"},{\"attributes\":{\"data\":{\"top\":{\"__ndarray__\":\"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\",\"dtype\":\"float64\",\"shape\":[426]},\"x\":{\"__ndarray__\":\"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\",\"dtype\":\"float64\",\"shape\":[426]}},\"selected\":{\"id\":\"3477\"},\"selection_policy\":{\"id\":\"3478\"}},\"id\":\"3450\",\"type\":\"ColumnDataSource\"},{\"attributes\":{},\"id\":\"3476\",\"type\":\"YearsTicker\"},{\"attributes\":{},\"id\":\"3461\",\"type\":\"DatetimeTickFormatter\"},{\"attributes\":{},\"id\":\"3436\",\"type\":\"PanTool\"},{\"attributes\":{},\"id\":\"3437\",\"type\":\"WheelZoomTool\"},{\"attributes\":{\"line_color\":\"red\",\"x\":{\"field\":\"x\"},\"y\":{\"field\":\"y\"}},\"id\":\"3456\",\"type\":\"Line\"},{\"attributes\":{\"data_source\":{\"id\":\"3455\"},\"glyph\":{\"id\":\"3456\"},\"hover_glyph\":null,\"muted_glyph\":null,\"nonselection_glyph\":{\"id\":\"3457\"},\"selection_glyph\":null,\"view\":{\"id\":\"3459\"}},\"id\":\"3458\",\"type\":\"GlyphRenderer\"},{\"attributes\":{\"overlay\":{\"id\":\"3442\"}},\"id\":\"3438\",\"type\":\"BoxZoomTool\"},{\"attributes\":{\"line_alpha\":0.1,\"line_color\":\"red\",\"x\":{\"field\":\"x\"},\"y\":{\"field\":\"y\"}},\"id\":\"3457\",\"type\":\"Line\"},{\"attributes\":{},\"id\":\"3439\",\"type\":\"SaveTool\"},{\"attributes\":{\"source\":{\"id\":\"3455\"}},\"id\":\"3459\",\"type\":\"CDSView\"},{\"attributes\":{},\"id\":\"3440\",\"type\":\"ResetTool\"},{\"attributes\":{},\"id\":\"3463\",\"type\":\"BasicTickFormatter\"},{\"attributes\":{},\"id\":\"3441\",\"type\":\"HelpTool\"},{\"attributes\":{},\"id\":\"3422\",\"type\":\"DataRange1d\"},{\"attributes\":{\"mantissas\":[1,2,5],\"max_interval\":500.0,\"num_minor_ticks\":0},\"id\":\"3465\",\"type\":\"AdaptiveTicker\"},{\"attributes\":{\"label\":{\"value\":\"7\"},\"renderers\":[{\"id\":\"3458\"}]},\"id\":\"3481\",\"type\":\"LegendItem\"},{\"attributes\":{},\"id\":\"3420\",\"type\":\"DataRange1d\"},{\"attributes\":{\"active_drag\":\"auto\",\"active_inspect\":\"auto\",\"active_multi\":null,\"active_scroll\":\"auto\",\"active_tap\":\"auto\",\"tools\":[{\"id\":\"3436\"},{\"id\":\"3437\"},{\"id\":\"3438\"},{\"id\":\"3439\"},{\"id\":\"3440\"},{\"id\":\"3441\"}]},\"id\":\"3443\",\"type\":\"Toolbar\"},{\"attributes\":{},\"id\":\"3424\",\"type\":\"LinearScale\"},{\"attributes\":{\"base\":60,\"mantissas\":[1,2,5,10,15,20,30],\"max_interval\":1800000.0,\"min_interval\":1000.0,\"num_minor_ticks\":0},\"id\":\"3466\",\"type\":\"AdaptiveTicker\"},{\"attributes\":{},\"id\":\"3478\",\"type\":\"UnionRenderers\"},{\"attributes\":{},\"id\":\"3426\",\"type\":\"LinearScale\"},{\"attributes\":{\"base\":24,\"mantissas\":[1,2,4,6,8,12],\"max_interval\":43200000.0,\"min_interval\":3600000.0,\"num_minor_ticks\":0},\"id\":\"3467\",\"type\":\"AdaptiveTicker\"},{\"attributes\":{\"formatter\":{\"id\":\"3461\"},\"ticker\":{\"id\":\"3429\"}},\"id\":\"3428\",\"type\":\"DatetimeAxis\"},{\"attributes\":{\"days\":[1,2,3,4,5,6,7,8,9,10,11,12,13,14,15,16,17,18,19,20,21,22,23,24,25,26,27,28,29,30,31]},\"id\":\"3468\",\"type\":\"DaysTicker\"},{\"attributes\":{\"num_minor_ticks\":5,\"tickers\":[{\"id\":\"3465\"},{\"id\":\"3466\"},{\"id\":\"3467\"},{\"id\":\"3468\"},{\"id\":\"3469\"},{\"id\":\"3470\"},{\"id\":\"3471\"},{\"id\":\"3472\"},{\"id\":\"3473\"},{\"id\":\"3474\"},{\"id\":\"3475\"},{\"id\":\"3476\"}]},\"id\":\"3429\",\"type\":\"DatetimeTicker\"},{\"attributes\":{\"days\":[1,4,7,10,13,16,19,22,25,28]},\"id\":\"3469\",\"type\":\"DaysTicker\"},{\"attributes\":{\"items\":[{\"id\":\"3481\"}],\"location\":\"top_left\"},\"id\":\"3480\",\"type\":\"Legend\"},{\"attributes\":{\"axis\":{\"id\":\"3428\"},\"ticker\":null},\"id\":\"3431\",\"type\":\"Grid\"},{\"attributes\":{\"days\":[1,8,15,22]},\"id\":\"3470\",\"type\":\"DaysTicker\"},{\"attributes\":{},\"id\":\"3477\",\"type\":\"Selection\"},{\"attributes\":{\"formatter\":{\"id\":\"3463\"},\"ticker\":{\"id\":\"3433\"}},\"id\":\"3432\",\"type\":\"LinearAxis\"},{\"attributes\":{\"days\":[1,15]},\"id\":\"3471\",\"type\":\"DaysTicker\"},{\"attributes\":{},\"id\":\"3697\",\"type\":\"UnionRenderers\"},{\"attributes\":{\"bottom_units\":\"screen\",\"fill_alpha\":0.5,\"fill_color\":\"lightgrey\",\"left_units\":\"screen\",\"level\":\"overlay\",\"line_alpha\":1.0,\"line_color\":\"black\",\"line_dash\":[4,4],\"line_width\":2,\"render_mode\":\"css\",\"right_units\":\"screen\",\"top_units\":\"screen\"},\"id\":\"3442\",\"type\":\"BoxAnnotation\"},{\"attributes\":{},\"id\":\"3433\",\"type\":\"BasicTicker\"},{\"attributes\":{\"fill_alpha\":{\"value\":0.1},\"fill_color\":{\"value\":\"#1f77b4\"},\"line_alpha\":{\"value\":0.1},\"line_color\":{\"value\":\"#1f77b4\"},\"line_width\":{\"value\":5},\"top\":{\"field\":\"top\"},\"width\":{\"value\":0.5},\"x\":{\"field\":\"x\"}},\"id\":\"3451\",\"type\":\"VBar\"}],\"root_ids\":[\"3417\"]},\"title\":\"Bokeh Application\",\"version\":\"2.0.2\"}};\n",
       "  var render_items = [{\"docid\":\"61415edc-09ef-4ea3-a7dd-1b14feaa1aaf\",\"root_ids\":[\"3417\"],\"roots\":{\"3417\":\"da9ba738-0964-4493-bb68-71cbd42914f6\"}}];\n",
       "  root.Bokeh.embed.embed_items_notebook(docs_json, render_items);\n",
       "\n",
       "  }\n",
       "  if (root.Bokeh !== undefined) {\n",
       "    embed_document(root);\n",
       "  } else {\n",
       "    var attempts = 0;\n",
       "    var timer = setInterval(function(root) {\n",
       "      if (root.Bokeh !== undefined) {\n",
       "        clearInterval(timer);\n",
       "        embed_document(root);\n",
       "      } else {\n",
       "        attempts++;\n",
       "        if (attempts > 100) {\n",
       "          clearInterval(timer);\n",
       "          console.log(\"Bokeh: ERROR: Unable to run BokehJS code because BokehJS library is missing\");\n",
       "        }\n",
       "      }\n",
       "    }, 10, root)\n",
       "  }\n",
       "})(window);"
      ],
      "application/vnd.bokehjs_exec.v0+json": ""
     },
     "metadata": {
      "application/vnd.bokehjs_exec.v0+json": {
       "id": "3417"
      }
     },
     "output_type": "display_data"
    }
   ],
   "source": [
    "def seattle(window = 7):\n",
    "    df = pd.read_csv('data/seven_day_county.csv')\n",
    "    df['date'] = pd.to_datetime(df['date'])\n",
    "    df_seattle = df[(df['state'] == 'Washington') & (df['county']== 'King')]\n",
    "    df_seattle= df_seattle.sort_values(by=['date'])\n",
    "    df_seattle = df_seattle.assign(by_pop = df_seattle['new_cases']/df_seattle['population'] * 1e5)\n",
    "    cases = df_seattle['new_cases'].rolling(window).mean()\n",
    "    cases_p = df_seattle['by_pop'].rolling(window).mean()\n",
    "    cases_1 = df_seattle['new_cases']\n",
    "    last_c = cases_1.tolist()[-1]\n",
    "    last_7 = round(np.mean(cases_1.tolist()[-7:]))\n",
    "    cases_p_1 = df_seattle['by_pop']\n",
    "    p = figure(x_axis_type = 'datetime', title = 'Seattle {c} ({c2})'.format(c = last_c, c2 =last_7), \n",
    "                 plot_width = 650 , plot_height = 650, y_range = None)\n",
    "   \n",
    "\n",
    "    dates = df_seattle['date']\n",
    "    p.vbar(x=dates, top=cases_p_1 , line_width = 5, width = .5, alpha = .1)\n",
    "\n",
    "    p.line(x = dates, y = cases_p, legend_label = '{n}'.format(n = window), color = 'red')\n",
    "    #p.line(x = dates, y = cases_p_1, legend_label = 'current', color = 'red')\n",
    "    p.legend.location = 'top_left'\n",
    "\n",
    "\n",
    "    return p\n",
    "show(seattle(window =7))"
   ]
  },
  {
   "cell_type": "code",
   "execution_count": null,
   "metadata": {},
   "outputs": [],
   "source": []
  }
 ],
 "metadata": {
  "kernelspec": {
   "display_name": "Python 3",
   "language": "python",
   "name": "python3"
  },
  "language_info": {
   "codemirror_mode": {
    "name": "ipython",
    "version": 3
   },
   "file_extension": ".py",
   "mimetype": "text/x-python",
   "name": "python",
   "nbconvert_exporter": "python",
   "pygments_lexer": "ipython3",
   "version": "3.6.9"
  }
 },
 "nbformat": 4,
 "nbformat_minor": 4
}
