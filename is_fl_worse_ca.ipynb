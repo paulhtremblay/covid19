{
 "cells": [
  {
   "cell_type": "code",
   "execution_count": 138,
   "metadata": {},
   "outputs": [],
   "source": [
    "import os\n",
    "import datetime\n",
    "import random\n",
    "from bokeh.io import show\n",
    "from bokeh.plotting import figure\n",
    "from bokeh.io import output_notebook\n",
    "from bokeh.layouts import gridplot\n",
    "from bokeh.models import ColumnDataSource, Band\n",
    "from bokeh.embed import components\n",
    "from bokeh.models import Range1d\n",
    "from bokeh.models import NumeralTickFormatter\n",
    "from bokeh.models import Span\n",
    "\n",
    "\n",
    "import numpy as np\n",
    "import pandas as pd\n",
    "\n",
    "import scipy\n",
    "from scipy import stats"
   ]
  },
  {
   "cell_type": "code",
   "execution_count": 335,
   "metadata": {},
   "outputs": [],
   "source": [
    "def resample(l):\n",
    "    final = []\n",
    "    for i in range(len(l)):\n",
    "        final.append(random.choice(l))\n",
    "    return final\n",
    "\n",
    "def resample_percentile(deaths, state_dict, num_iter = 100):\n",
    "    final = {}\n",
    "    for i in range(num_iter):\n",
    "        resamp_deaths = resample(deaths)\n",
    "        for key in state_dict.keys():\n",
    "            per = stats.percentileofscore(resamp_deaths, state_dict[key])\n",
    "            if not final.get(key):\n",
    "                final[key] = []\n",
    "            final[key].append(per)\n",
    "    return final\n",
    "\n",
    "def resample_one_percentile(deaths, target_per, num_iter = 100):\n",
    "    final = []\n",
    "    for i in range(num_iter):\n",
    "        resamp_deaths = resample(deaths)\n",
    "        per = stats.percentileofscore(resamp_deaths, target_per)\n",
    "        per = np.percentile(resamp_deaths, target_per)\n",
    "        final.append(per)\n",
    "    return final\n",
    "\n",
    "def resample_mean(deaths, num_iter = 1000):\n",
    "    means = []\n",
    "    for i in range(num_iter):\n",
    "        resamp_deaths = resample(deaths)\n",
    "        means.append(np.mean(resamp_deaths))\n",
    "    return means\n",
    "\n",
    "def repeat_resample(sample_a, sample_b, num_iter = 1000):\n",
    "    difference_in_means = []#keep track of the difference in heights for each experiment\n",
    "    for i in range(num_iter):\n",
    "        resample_a = resample(sample_a)\n",
    "        resample_b = resample(sample_b)\n",
    "        difference = np.mean(resample_a) - np.mean(resample_b)\n",
    "        difference_in_means.append(difference)\n",
    "    return difference_in_means\n"
   ]
  },
  {
   "cell_type": "code",
   "execution_count": 271,
   "metadata": {},
   "outputs": [],
   "source": [
    "def get_percentile():\n",
    "    final = {}\n",
    "    df = get_data('/home/henry/Downloads/covid_deaths_by_state1.csv')\n",
    "    states = df['state'].tolist()\n",
    "    deaths = df['deaths_million'].tolist()\n",
    "    state_dict = {}\n",
    "    for counter, state in enumerate(states):\n",
    "        state_dict[state] = deaths[counter]\n",
    "    ranges = resample_percentile(deaths = deaths, state_dict = state_dict, num_iter = 100)\n",
    "    for key in ranges.keys():\n",
    "        r = stats.percentileofscore(deaths, state_dict[key])\n",
    "        final[key] = ((np.percentile(ranges[key], 2.5), np.percentile(ranges[key], 97.5), r))\n",
    "    return final\n",
    "\n"
   ]
  },
  {
   "cell_type": "code",
   "execution_count": 6,
   "metadata": {},
   "outputs": [],
   "source": [
    "def get_data(path):\n",
    "    df = pd.read_csv(path)\n",
    "    return df\n"
   ]
  },
  {
   "cell_type": "code",
   "execution_count": 331,
   "metadata": {},
   "outputs": [
    {
     "name": "stdout",
     "output_type": "stream",
     "text": [
      "1505.9042490279264 1338.5460174690159 1663.849343342565\n"
     ]
    },
    {
     "data": {
      "text/html": [
       "\n",
       "\n",
       "\n",
       "\n",
       "\n",
       "\n",
       "  <div class=\"bk-root\" id=\"bf5f812b-cf6b-4bf1-a0d4-a1e1954efe46\" data-root-id=\"47513\"></div>\n"
      ]
     },
     "metadata": {},
     "output_type": "display_data"
    },
    {
     "data": {
      "application/javascript": [
       "(function(root) {\n",
       "  function embed_document(root) {\n",
       "    \n",
       "  var docs_json = {\"04ca2acd-900c-463d-a56c-7d619f6b4d20\":{\"roots\":{\"references\":[{\"attributes\":{\"below\":[{\"id\":\"47524\"}],\"center\":[{\"id\":\"47526\"},{\"id\":\"47530\"}],\"left\":[{\"id\":\"47527\"}],\"plot_width\":800,\"renderers\":[{\"id\":\"47548\"}],\"title\":{\"id\":\"47514\"},\"toolbar\":{\"id\":\"47538\"},\"x_range\":{\"id\":\"47516\"},\"x_scale\":{\"id\":\"47520\"},\"y_range\":{\"id\":\"47518\"},\"y_scale\":{\"id\":\"47522\"}},\"id\":\"47513\",\"subtype\":\"Figure\",\"type\":\"Plot\"},{\"attributes\":{},\"id\":\"47531\",\"type\":\"PanTool\"},{\"attributes\":{\"axis\":{\"id\":\"47524\"},\"ticker\":null},\"id\":\"47526\",\"type\":\"Grid\"},{\"attributes\":{\"data\":{\"fill_color\":[\"blue\",\"blue\",\"blue\",\"blue\",\"blue\",\"blue\",\"blue\",\"blue\",\"blue\",\"blue\",\"blue\",\"blue\",\"blue\",\"blue\",\"blue\",\"blue\",\"blue\",\"blue\",\"blue\",\"blue\",\"blue\",\"blue\",\"red\",\"green\",\"blue\",\"blue\",\"blue\",\"blue\",\"blue\",\"blue\",\"blue\",\"blue\",\"blue\",\"blue\",\"blue\",\"blue\",\"blue\",\"blue\",\"blue\",\"blue\",\"blue\",\"blue\",\"blue\",\"blue\",\"blue\",\"blue\",\"blue\",\"blue\",\"blue\",\"blue\"],\"line_color\":[\"blue\",\"blue\",\"blue\",\"blue\",\"blue\",\"blue\",\"blue\",\"blue\",\"blue\",\"blue\",\"blue\",\"blue\",\"blue\",\"blue\",\"blue\",\"blue\",\"blue\",\"blue\",\"blue\",\"blue\",\"blue\",\"blue\",\"red\",\"green\",\"blue\",\"blue\",\"blue\",\"blue\",\"blue\",\"blue\",\"blue\",\"blue\",\"blue\",\"blue\",\"blue\",\"blue\",\"blue\",\"blue\",\"blue\",\"blue\",\"blue\",\"blue\",\"blue\",\"blue\",\"blue\",\"blue\",\"blue\",\"blue\",\"blue\",\"blue\"],\"size\":[3,3,3,3,3,3,3,3,3,3,3,3,3,3,3,3,3,3,3,3,3,3,6,6,3,3,3,3,3,3,3,3,3,3,3,3,3,3,3,3,3,3,3,3,3,3,3,3,3,3],\"x\":[\"Hawaii\",\"Vermont\",\"Alaska\",\"Maine\",\"Oregon\",\"Utah\",\"Washington\",\"New Hampshire\",\"Colorado\",\"Idaho\",\"North Carolina\",\"Kentucky\",\"Nebraska\",\"Virginia\",\"Oklahoma\",\"Wyoming\",\"Minnesota\",\"Wisconsin\",\"Montana\",\"Maryland\",\"West Virginia\",\"Missouri\",\"California\",\"Florida\",\"Ohio\",\"Delaware\",\"Texas\",\"Kansas\",\"Nevada\",\"Georgia\",\"Michigan\",\"Tennessee\",\"South Carolina\",\"Iowa\",\"Arkansas\",\"Illinois\",\"New Mexico\",\"Indiana\",\"Pennsylvania\",\"North Dakota\",\"Alabama\",\"Louisiana\",\"South Dakota\",\"Connecticut\",\"Arizona\",\"Mississippi\",\"Massachusetts\",\"Rhode Island\",\"New York\",\"New Jersey\"],\"y\":[316.4127830764363,342.95476362564085,399.1552125979946,538.605517582048,552.191850748399,632.2603103346955,680.6398986827522,881.8050306278319,1062.3859124641242,1070.470296267903,1117.363285801296,1146.681952774968,1155.9091980595615,1173.800913570692,1188.0299350184775,1193.9339172263412,1208.2348635513804,1232.8177528504402,1303.3576664190316,1331.1984756057218,1411.7145524334778,1428.9373333585336,1429.9119540806396,1501.7410819398708,1528.8602202051486,1547.6029099453256,1606.7109669818274,1655.8462287278335,1661.9288113978644,1663.7747219829143,1678.1055341034719,1689.223323347743,1723.7314016665134,1788.232907669243,1813.9017643292934,1831.3074340301998,1838.0134956164761,1909.6229638400055,1919.7016963535898,1952.5970327873583,2106.1820021067942,2126.142823278468,2161.284743613076,2177.9452818244367,2274.1645265230122,2318.768314355229,2414.942728352821,2423.1588665242543,2491.8317011471577,2691.115591988012]},\"selected\":{\"id\":\"48520\"},\"selection_policy\":{\"id\":\"48519\"}},\"id\":\"47545\",\"type\":\"ColumnDataSource\"},{\"attributes\":{},\"id\":\"47522\",\"type\":\"LinearScale\"},{\"attributes\":{},\"id\":\"47532\",\"type\":\"WheelZoomTool\"},{\"attributes\":{},\"id\":\"47525\",\"type\":\"CategoricalTicker\"},{\"attributes\":{\"axis_label\":\"Deaths/Million\",\"formatter\":{\"id\":\"48518\"},\"ticker\":{\"id\":\"47528\"}},\"id\":\"47527\",\"type\":\"LinearAxis\"},{\"attributes\":{},\"id\":\"47536\",\"type\":\"HelpTool\"},{\"attributes\":{},\"id\":\"47534\",\"type\":\"SaveTool\"},{\"attributes\":{},\"id\":\"48518\",\"type\":\"BasicTickFormatter\"},{\"attributes\":{},\"id\":\"47535\",\"type\":\"ResetTool\"},{\"attributes\":{\"bottom_units\":\"screen\",\"fill_alpha\":0.5,\"fill_color\":\"lightgrey\",\"left_units\":\"screen\",\"level\":\"overlay\",\"line_alpha\":1.0,\"line_color\":\"black\",\"line_dash\":[4,4],\"line_width\":2,\"render_mode\":\"css\",\"right_units\":\"screen\",\"top_units\":\"screen\"},\"id\":\"47537\",\"type\":\"BoxAnnotation\"},{\"attributes\":{\"source\":{\"id\":\"47545\"}},\"id\":\"47549\",\"type\":\"CDSView\"},{\"attributes\":{\"fill_color\":{\"field\":\"fill_color\"},\"line_color\":{\"field\":\"line_color\"},\"size\":{\"field\":\"size\",\"units\":\"screen\"},\"x\":{\"field\":\"x\"},\"y\":{\"field\":\"y\"}},\"id\":\"47546\",\"type\":\"Circle\"},{\"attributes\":{\"active_drag\":\"auto\",\"active_inspect\":\"auto\",\"active_multi\":null,\"active_scroll\":\"auto\",\"active_tap\":\"auto\",\"tools\":[{\"id\":\"47531\"},{\"id\":\"47532\"},{\"id\":\"47533\"},{\"id\":\"47534\"},{\"id\":\"47535\"},{\"id\":\"47536\"}]},\"id\":\"47538\",\"type\":\"Toolbar\"},{\"attributes\":{},\"id\":\"47520\",\"type\":\"CategoricalScale\"},{\"attributes\":{},\"id\":\"48520\",\"type\":\"Selection\"},{\"attributes\":{\"axis\":{\"id\":\"47527\"},\"dimension\":1,\"ticker\":null},\"id\":\"47530\",\"type\":\"Grid\"},{\"attributes\":{},\"id\":\"48516\",\"type\":\"CategoricalTickFormatter\"},{\"attributes\":{},\"id\":\"47528\",\"type\":\"BasicTicker\"},{\"attributes\":{\"formatter\":{\"id\":\"48516\"},\"major_label_orientation\":\"vertical\",\"ticker\":{\"id\":\"47525\"}},\"id\":\"47524\",\"type\":\"CategoricalAxis\"},{\"attributes\":{\"text\":\"California (red) vs. Florida (green)\"},\"id\":\"47514\",\"type\":\"Title\"},{\"attributes\":{\"factors\":[\"Hawaii\",\"Vermont\",\"Alaska\",\"Maine\",\"Oregon\",\"Utah\",\"Washington\",\"New Hampshire\",\"Colorado\",\"Idaho\",\"North Carolina\",\"Kentucky\",\"Nebraska\",\"Virginia\",\"Oklahoma\",\"Wyoming\",\"Minnesota\",\"Wisconsin\",\"Montana\",\"Maryland\",\"West Virginia\",\"Missouri\",\"California\",\"Florida\",\"Ohio\",\"Delaware\",\"Texas\",\"Kansas\",\"Nevada\",\"Georgia\",\"Michigan\",\"Tennessee\",\"South Carolina\",\"Iowa\",\"Arkansas\",\"Illinois\",\"New Mexico\",\"Indiana\",\"Pennsylvania\",\"North Dakota\",\"Alabama\",\"Louisiana\",\"South Dakota\",\"Connecticut\",\"Arizona\",\"Mississippi\",\"Massachusetts\",\"Rhode Island\",\"New York\",\"New Jersey\"]},\"id\":\"47516\",\"type\":\"FactorRange\"},{\"attributes\":{\"data_source\":{\"id\":\"47545\"},\"glyph\":{\"id\":\"47546\"},\"hover_glyph\":null,\"muted_glyph\":null,\"nonselection_glyph\":{\"id\":\"47547\"},\"selection_glyph\":null,\"view\":{\"id\":\"47549\"}},\"id\":\"47548\",\"type\":\"GlyphRenderer\"},{\"attributes\":{\"fill_alpha\":{\"value\":0.1},\"fill_color\":{\"field\":\"fill_color\"},\"line_alpha\":{\"value\":0.1},\"line_color\":{\"field\":\"line_color\"},\"size\":{\"field\":\"size\",\"units\":\"screen\"},\"x\":{\"field\":\"x\"},\"y\":{\"field\":\"y\"}},\"id\":\"47547\",\"type\":\"Circle\"},{\"attributes\":{},\"id\":\"48519\",\"type\":\"UnionRenderers\"},{\"attributes\":{},\"id\":\"47518\",\"type\":\"DataRange1d\"},{\"attributes\":{\"overlay\":{\"id\":\"47537\"}},\"id\":\"47533\",\"type\":\"BoxZoomTool\"}],\"root_ids\":[\"47513\"]},\"title\":\"Bokeh Application\",\"version\":\"2.0.2\"}};\n",
       "  var render_items = [{\"docid\":\"04ca2acd-900c-463d-a56c-7d619f6b4d20\",\"root_ids\":[\"47513\"],\"roots\":{\"47513\":\"bf5f812b-cf6b-4bf1-a0d4-a1e1954efe46\"}}];\n",
       "  root.Bokeh.embed.embed_items_notebook(docs_json, render_items);\n",
       "\n",
       "  }\n",
       "  if (root.Bokeh !== undefined) {\n",
       "    embed_document(root);\n",
       "  } else {\n",
       "    var attempts = 0;\n",
       "    var timer = setInterval(function(root) {\n",
       "      if (root.Bokeh !== undefined) {\n",
       "        clearInterval(timer);\n",
       "        embed_document(root);\n",
       "      } else {\n",
       "        attempts++;\n",
       "        if (attempts > 100) {\n",
       "          clearInterval(timer);\n",
       "          console.log(\"Bokeh: ERROR: Unable to run BokehJS code because BokehJS library is missing\");\n",
       "        }\n",
       "      }\n",
       "    }, 10, root)\n",
       "  }\n",
       "})(window);"
      ],
      "application/vnd.bokehjs_exec.v0+json": ""
     },
     "metadata": {
      "application/vnd.bokehjs_exec.v0+json": {
       "id": "47513"
      }
     },
     "output_type": "display_data"
    }
   ],
   "source": [
    "def plot_states(title = None):\n",
    "    df = get_data('/home/henry/Downloads/covid_deaths_by_state1.csv')\n",
    "    df = df[df['state'] != 'District of Columbia']\n",
    "    state = df['state'].tolist()\n",
    "    deaths = df['deaths_million'].tolist()\n",
    "    means = resample_mean(deaths, num_iter = 1000)\n",
    "    lower = np.percentile(means, 2.5)\n",
    "    upper = np.percentile(means, 97.5)\n",
    "    \n",
    "\n",
    "    ca_index = state.index('California')\n",
    "    fl_index = state.index('Florida')\n",
    "    both = sorted(list(zip(state, deaths)), key = lambda x: x[1])\n",
    "    p = figure(x_range=[x[0] for x in both], title = title, plot_width = 800)\n",
    "    color = ['blue' for x in both]\n",
    "    color[ca_index] = 'red'\n",
    "    color[fl_index] = 'green'\n",
    "    size = [3 for x in state]\n",
    "    size[ca_index] = 6\n",
    "    size[fl_index] = 6\n",
    "    p.circle(x=[x[0] for x in both], y = [x[1] for x in both], \n",
    "             color = color, size = size)\n",
    "    p.xaxis.major_label_orientation = \"vertical\"\n",
    "    \n",
    "    p.yaxis.axis_label = \"Deaths/Million\"\n",
    "    print(np.mean(deaths), lower, upper)\n",
    "\n",
    "    return p\n",
    "\n",
    "    \n",
    "show(plot_states(title = 'California (red) vs. Florida (green)'))\n"
   ]
  },
  {
   "cell_type": "code",
   "execution_count": 236,
   "metadata": {},
   "outputs": [],
   "source": [
    "def make_percentile_plot():\n",
    "    raise NotImplemented(\"do not use\")\n",
    "    percentile_dict, state_dict = get_percentile()\n",
    "    data = []\n",
    "    for key in percentile_dict.keys():\n",
    "        data.append((key, percentile_dict[key][0], percentile_dict[key][1], percentile_dict[key][2]))\n",
    "    data = sorted(data, key = lambda x: x[1])\n",
    "    cats = [x[0] for x in data]\n",
    "    lower = [x[1] for x in data]\n",
    "    upper = [x[2] for x in data]\n",
    "    p = figure(x_range=cats, title = 'States Percentile')\n",
    "    p.circle(cats, y = [x[3] for x in data])\n",
    "\n",
    "    p.segment(cats, lower, cats, upper, line_color=\"black\")\n",
    "    p.rect(cats, lower, 0.2, 0.01, line_color=\"black\")\n",
    "    p.rect(cats, upper, 0.2, 0.01, line_color=\"black\")\n",
    "    p.xaxis.major_label_orientation = \"vertical\"\n",
    "    p.yaxis.axis_label = \"Deaths/Million\"\n",
    "\n",
    "    return p\n",
    "\n"
   ]
  },
  {
   "cell_type": "code",
   "execution_count": 237,
   "metadata": {},
   "outputs": [],
   "source": [
    "def ex_conf():\n",
    "    cats = list(\"abcdef\")\n",
    "    p = figure(x_range=cats)\n",
    "    p.segment(cats, [10 for x in cats], cats,[15 for x in cats], line_color=\"black\")\n",
    "    p.rect(cats, [10 for x in cats], 0.2, 0.01, line_color=\"black\")\n",
    "    p.rect(cats, [15 for x in cats], 0.2, 0.01, line_color=\"black\")\n",
    "    return p\n",
    "#show(ex_conf())\n"
   ]
  },
  {
   "cell_type": "code",
   "execution_count": 252,
   "metadata": {},
   "outputs": [
    {
     "data": {
      "text/plain": [
       "(1192.5629444348037,\n",
       " 1655.8462287278335,\n",
       " 1211.7423916570247,\n",
       " 1655.8462287278335)"
      ]
     },
     "execution_count": 252,
     "metadata": {},
     "output_type": "execute_result"
    }
   ],
   "source": [
    "def percentile_diff():\n",
    "    df = get_data('/home/henry/Downloads/covid_deaths_by_state1.csv')\n",
    "    states = df['state'].tolist()\n",
    "    deaths = df['deaths_million'].tolist()\n",
    "    state_dict = {}\n",
    "    for counter, state in enumerate(states):\n",
    "        state_dict[state] = deaths[counter]\n",
    "    cal_per = stats.percentileofscore(deaths, state_dict['California'])\n",
    "    calif_range = resample_one_percentile(deaths, target_per = cal_per, num_iter = 100)\n",
    "    cal_lower, cal_upper = np.percentile(calif_range, 2.5), np.percentile(calif_range, 97.5)\n",
    "    fl_per = stats.percentileofscore(deaths, state_dict['California'])\n",
    "    fl_range = resample_one_percentile(deaths, target_per = fl_per, num_iter = 100)\n",
    "    fl_lower, fl_upper = np.percentile(fl_range, 2.5), np.percentile(calif_range, 97.5)\n",
    "    return cal_lower, cal_upper, fl_lower, fl_upper\n",
    "\n",
    "percentile_diff()"
   ]
  },
  {
   "cell_type": "code",
   "execution_count": 281,
   "metadata": {},
   "outputs": [
    {
     "data": {
      "text/html": [
       "\n",
       "\n",
       "\n",
       "\n",
       "\n",
       "\n",
       "  <div class=\"bk-root\" id=\"3e13be1c-9b01-4e03-97f5-820a6f66a573\" data-root-id=\"30968\"></div>\n"
      ]
     },
     "metadata": {},
     "output_type": "display_data"
    },
    {
     "data": {
      "application/javascript": [
       "(function(root) {\n",
       "  function embed_document(root) {\n",
       "    \n",
       "  var docs_json = {\"5619d09d-c3e2-4929-9a15-ae343b2eb07d\":{\"roots\":{\"references\":[{\"attributes\":{\"below\":[{\"id\":\"30979\"}],\"center\":[{\"id\":\"30981\"},{\"id\":\"30985\"},{\"id\":\"31018\"}],\"left\":[{\"id\":\"30982\"}],\"renderers\":[{\"id\":\"31003\"},{\"id\":\"31008\"},{\"id\":\"31023\"}],\"title\":{\"id\":\"30969\"},\"toolbar\":{\"id\":\"30993\"},\"x_range\":{\"id\":\"30971\"},\"x_scale\":{\"id\":\"30975\"},\"y_range\":{\"id\":\"30973\"},\"y_scale\":{\"id\":\"30977\"}},\"id\":\"30968\",\"subtype\":\"Figure\",\"type\":\"Plot\"},{\"attributes\":{},\"id\":\"30973\",\"type\":\"DataRange1d\"},{\"attributes\":{},\"id\":\"30977\",\"type\":\"LinearScale\"},{\"attributes\":{\"source\":{\"id\":\"31020\"}},\"id\":\"31024\",\"type\":\"CDSView\"},{\"attributes\":{\"axis_label\":\"Deaths/Million\",\"formatter\":{\"id\":\"31014\"},\"ticker\":{\"id\":\"30983\"}},\"id\":\"30982\",\"type\":\"LinearAxis\"},{\"attributes\":{},\"id\":\"31715\",\"type\":\"Selection\"},{\"attributes\":{\"line_alpha\":0.1,\"x\":{\"field\":\"x\"},\"y\":{\"field\":\"y\"}},\"id\":\"31022\",\"type\":\"Line\"},{\"attributes\":{\"line_alpha\":0.1,\"x\":{\"field\":\"x\"},\"y\":{\"field\":\"y\"}},\"id\":\"31007\",\"type\":\"Line\"},{\"attributes\":{\"data_source\":{\"id\":\"31020\"},\"glyph\":{\"id\":\"31021\"},\"hover_glyph\":null,\"muted_glyph\":null,\"nonselection_glyph\":{\"id\":\"31022\"},\"selection_glyph\":null,\"view\":{\"id\":\"31024\"}},\"id\":\"31023\",\"type\":\"GlyphRenderer\"},{\"attributes\":{},\"id\":\"30989\",\"type\":\"SaveTool\"},{\"attributes\":{},\"id\":\"31717\",\"type\":\"Selection\"},{\"attributes\":{},\"id\":\"30990\",\"type\":\"ResetTool\"},{\"attributes\":{\"data\":{\"fill_color\":[\"blue\",\"blue\",\"blue\",\"blue\",\"blue\",\"blue\",\"blue\",\"blue\",\"blue\",\"blue\",\"blue\",\"blue\",\"blue\",\"blue\",\"blue\",\"blue\",\"blue\",\"blue\",\"blue\",\"blue\",\"blue\",\"blue\",\"red\",\"green\",\"blue\",\"blue\",\"blue\",\"blue\",\"blue\",\"blue\",\"blue\",\"blue\",\"blue\",\"blue\",\"blue\",\"blue\",\"blue\",\"blue\",\"blue\",\"blue\",\"blue\",\"blue\",\"blue\",\"blue\",\"blue\",\"blue\",\"blue\",\"blue\",\"blue\",\"blue\"],\"line_color\":[\"blue\",\"blue\",\"blue\",\"blue\",\"blue\",\"blue\",\"blue\",\"blue\",\"blue\",\"blue\",\"blue\",\"blue\",\"blue\",\"blue\",\"blue\",\"blue\",\"blue\",\"blue\",\"blue\",\"blue\",\"blue\",\"blue\",\"red\",\"green\",\"blue\",\"blue\",\"blue\",\"blue\",\"blue\",\"blue\",\"blue\",\"blue\",\"blue\",\"blue\",\"blue\",\"blue\",\"blue\",\"blue\",\"blue\",\"blue\",\"blue\",\"blue\",\"blue\",\"blue\",\"blue\",\"blue\",\"blue\",\"blue\",\"blue\",\"blue\"],\"size\":[3,3,3,3,3,3,3,3,3,3,3,3,3,3,3,3,3,3,3,3,3,3,6,6,3,3,3,3,3,3,3,3,3,3,3,3,3,3,3,3,3,3,3,3,3,3,3,3,3,3],\"x\":[\"Hawaii\",\"Vermont\",\"Alaska\",\"Maine\",\"Oregon\",\"Utah\",\"Washington\",\"New Hampshire\",\"Colorado\",\"Idaho\",\"North Carolina\",\"Kentucky\",\"Nebraska\",\"Virginia\",\"Oklahoma\",\"Wyoming\",\"Minnesota\",\"Wisconsin\",\"Montana\",\"Maryland\",\"West Virginia\",\"Missouri\",\"California\",\"Florida\",\"Ohio\",\"Delaware\",\"Texas\",\"Kansas\",\"Nevada\",\"Georgia\",\"Michigan\",\"Tennessee\",\"South Carolina\",\"Iowa\",\"Arkansas\",\"Illinois\",\"New Mexico\",\"Indiana\",\"Pennsylvania\",\"North Dakota\",\"Alabama\",\"Louisiana\",\"South Dakota\",\"Connecticut\",\"Arizona\",\"Mississippi\",\"Massachusetts\",\"Rhode Island\",\"New York\",\"New Jersey\"],\"y\":[316.4127830764363,342.95476362564085,399.1552125979946,538.605517582048,552.191850748399,632.2603103346955,680.6398986827522,881.8050306278319,1062.3859124641242,1070.470296267903,1117.363285801296,1146.681952774968,1155.9091980595615,1173.800913570692,1188.0299350184775,1193.9339172263412,1208.2348635513804,1232.8177528504402,1303.3576664190316,1331.1984756057218,1411.7145524334778,1428.9373333585336,1429.9119540806396,1501.7410819398708,1528.8602202051486,1547.6029099453256,1606.7109669818274,1655.8462287278335,1661.9288113978644,1663.7747219829143,1678.1055341034719,1689.223323347743,1723.7314016665134,1788.232907669243,1813.9017643292934,1831.3074340301998,1838.0134956164761,1909.6229638400055,1919.7016963535898,1952.5970327873583,2106.1820021067942,2126.142823278468,2161.284743613076,2177.9452818244367,2274.1645265230122,2318.768314355229,2414.942728352821,2423.1588665242543,2491.8317011471577,2691.115591988012]},\"selected\":{\"id\":\"31016\"},\"selection_policy\":{\"id\":\"31015\"}},\"id\":\"31000\",\"type\":\"ColumnDataSource\"},{\"attributes\":{},\"id\":\"30980\",\"type\":\"CategoricalTicker\"},{\"attributes\":{\"label\":{\"value\":\"95% confidence interval\"},\"renderers\":[{\"id\":\"31008\"}]},\"id\":\"31019\",\"type\":\"LegendItem\"},{\"attributes\":{},\"id\":\"30987\",\"type\":\"WheelZoomTool\"},{\"attributes\":{\"source\":{\"id\":\"31005\"}},\"id\":\"31009\",\"type\":\"CDSView\"},{\"attributes\":{},\"id\":\"31716\",\"type\":\"UnionRenderers\"},{\"attributes\":{},\"id\":\"31014\",\"type\":\"BasicTickFormatter\"},{\"attributes\":{\"overlay\":{\"id\":\"30992\"}},\"id\":\"30988\",\"type\":\"BoxZoomTool\"},{\"attributes\":{},\"id\":\"31015\",\"type\":\"UnionRenderers\"},{\"attributes\":{},\"id\":\"31012\",\"type\":\"CategoricalTickFormatter\"},{\"attributes\":{},\"id\":\"31016\",\"type\":\"Selection\"},{\"attributes\":{},\"id\":\"30991\",\"type\":\"HelpTool\"},{\"attributes\":{\"data\":{\"x\":[\"Hawaii\",\"Vermont\",\"Alaska\",\"Maine\",\"Oregon\",\"Utah\",\"Washington\",\"New Hampshire\",\"Colorado\",\"Idaho\",\"North Carolina\",\"Kentucky\",\"Nebraska\",\"Virginia\",\"Oklahoma\",\"Wyoming\",\"Minnesota\",\"Wisconsin\",\"Montana\",\"Maryland\",\"West Virginia\",\"Missouri\",\"California\",\"Florida\",\"Ohio\",\"Delaware\",\"Texas\",\"Kansas\",\"Nevada\",\"Georgia\",\"Michigan\",\"Tennessee\",\"South Carolina\",\"Iowa\",\"Arkansas\",\"Illinois\",\"New Mexico\",\"Indiana\",\"Pennsylvania\",\"North Dakota\",\"Alabama\",\"Louisiana\",\"South Dakota\",\"Connecticut\",\"Arizona\",\"Mississippi\",\"Massachusetts\",\"Rhode Island\",\"New York\",\"New Jersey\"],\"y\":[1636.4969333380639,1636.4969333380639,1636.4969333380639,1636.4969333380639,1636.4969333380639,1636.4969333380639,1636.4969333380639,1636.4969333380639,1636.4969333380639,1636.4969333380639,1636.4969333380639,1636.4969333380639,1636.4969333380639,1636.4969333380639,1636.4969333380639,1636.4969333380639,1636.4969333380639,1636.4969333380639,1636.4969333380639,1636.4969333380639,1636.4969333380639,1636.4969333380639,1636.4969333380639,1636.4969333380639,1636.4969333380639,1636.4969333380639,1636.4969333380639,1636.4969333380639,1636.4969333380639,1636.4969333380639,1636.4969333380639,1636.4969333380639,1636.4969333380639,1636.4969333380639,1636.4969333380639,1636.4969333380639,1636.4969333380639,1636.4969333380639,1636.4969333380639,1636.4969333380639,1636.4969333380639,1636.4969333380639,1636.4969333380639,1636.4969333380639,1636.4969333380639,1636.4969333380639,1636.4969333380639,1636.4969333380639,1636.4969333380639,1636.4969333380639]},\"selected\":{\"id\":\"31717\"},\"selection_policy\":{\"id\":\"31716\"}},\"id\":\"31020\",\"type\":\"ColumnDataSource\"},{\"attributes\":{\"items\":[{\"id\":\"31019\"}]},\"id\":\"31018\",\"type\":\"Legend\"},{\"attributes\":{\"axis\":{\"id\":\"30982\"},\"dimension\":1,\"ticker\":null},\"id\":\"30985\",\"type\":\"Grid\"},{\"attributes\":{\"data_source\":{\"id\":\"31000\"},\"glyph\":{\"id\":\"31001\"},\"hover_glyph\":null,\"muted_glyph\":null,\"nonselection_glyph\":{\"id\":\"31002\"},\"selection_glyph\":null,\"view\":{\"id\":\"31004\"}},\"id\":\"31003\",\"type\":\"GlyphRenderer\"},{\"attributes\":{\"axis\":{\"id\":\"30979\"},\"ticker\":null},\"id\":\"30981\",\"type\":\"Grid\"},{\"attributes\":{\"line_alpha\":0.5,\"x\":{\"field\":\"x\"},\"y\":{\"field\":\"y\"}},\"id\":\"31006\",\"type\":\"Line\"},{\"attributes\":{},\"id\":\"31714\",\"type\":\"UnionRenderers\"},{\"attributes\":{\"factors\":[\"Hawaii\",\"Vermont\",\"Alaska\",\"Maine\",\"Oregon\",\"Utah\",\"Washington\",\"New Hampshire\",\"Colorado\",\"Idaho\",\"North Carolina\",\"Kentucky\",\"Nebraska\",\"Virginia\",\"Oklahoma\",\"Wyoming\",\"Minnesota\",\"Wisconsin\",\"Montana\",\"Maryland\",\"West Virginia\",\"Missouri\",\"California\",\"Florida\",\"Ohio\",\"Delaware\",\"Texas\",\"Kansas\",\"Nevada\",\"Georgia\",\"Michigan\",\"Tennessee\",\"South Carolina\",\"Iowa\",\"Arkansas\",\"Illinois\",\"New Mexico\",\"Indiana\",\"Pennsylvania\",\"North Dakota\",\"Alabama\",\"Louisiana\",\"South Dakota\",\"Connecticut\",\"Arizona\",\"Mississippi\",\"Massachusetts\",\"Rhode Island\",\"New York\",\"New Jersey\"]},\"id\":\"30971\",\"type\":\"FactorRange\"},{\"attributes\":{\"data\":{\"x\":[\"Hawaii\",\"Vermont\",\"Alaska\",\"Maine\",\"Oregon\",\"Utah\",\"Washington\",\"New Hampshire\",\"Colorado\",\"Idaho\",\"North Carolina\",\"Kentucky\",\"Nebraska\",\"Virginia\",\"Oklahoma\",\"Wyoming\",\"Minnesota\",\"Wisconsin\",\"Montana\",\"Maryland\",\"West Virginia\",\"Missouri\",\"California\",\"Florida\",\"Ohio\",\"Delaware\",\"Texas\",\"Kansas\",\"Nevada\",\"Georgia\",\"Michigan\",\"Tennessee\",\"South Carolina\",\"Iowa\",\"Arkansas\",\"Illinois\",\"New Mexico\",\"Indiana\",\"Pennsylvania\",\"North Dakota\",\"Alabama\",\"Louisiana\",\"South Dakota\",\"Connecticut\",\"Arizona\",\"Mississippi\",\"Massachusetts\",\"Rhode Island\",\"New York\",\"New Jersey\"],\"y\":[1197.6272760716065,1197.6272760716065,1197.6272760716065,1197.6272760716065,1197.6272760716065,1197.6272760716065,1197.6272760716065,1197.6272760716065,1197.6272760716065,1197.6272760716065,1197.6272760716065,1197.6272760716065,1197.6272760716065,1197.6272760716065,1197.6272760716065,1197.6272760716065,1197.6272760716065,1197.6272760716065,1197.6272760716065,1197.6272760716065,1197.6272760716065,1197.6272760716065,1197.6272760716065,1197.6272760716065,1197.6272760716065,1197.6272760716065,1197.6272760716065,1197.6272760716065,1197.6272760716065,1197.6272760716065,1197.6272760716065,1197.6272760716065,1197.6272760716065,1197.6272760716065,1197.6272760716065,1197.6272760716065,1197.6272760716065,1197.6272760716065,1197.6272760716065,1197.6272760716065,1197.6272760716065,1197.6272760716065,1197.6272760716065,1197.6272760716065,1197.6272760716065,1197.6272760716065,1197.6272760716065,1197.6272760716065,1197.6272760716065,1197.6272760716065]},\"selected\":{\"id\":\"31715\"},\"selection_policy\":{\"id\":\"31714\"}},\"id\":\"31005\",\"type\":\"ColumnDataSource\"},{\"attributes\":{\"line_alpha\":0.5,\"x\":{\"field\":\"x\"},\"y\":{\"field\":\"y\"}},\"id\":\"31021\",\"type\":\"Line\"},{\"attributes\":{\"bottom_units\":\"screen\",\"fill_alpha\":0.5,\"fill_color\":\"lightgrey\",\"left_units\":\"screen\",\"level\":\"overlay\",\"line_alpha\":1.0,\"line_color\":\"black\",\"line_dash\":[4,4],\"line_width\":2,\"render_mode\":\"css\",\"right_units\":\"screen\",\"top_units\":\"screen\"},\"id\":\"30992\",\"type\":\"BoxAnnotation\"},{\"attributes\":{\"data_source\":{\"id\":\"31005\"},\"glyph\":{\"id\":\"31006\"},\"hover_glyph\":null,\"muted_glyph\":null,\"nonselection_glyph\":{\"id\":\"31007\"},\"selection_glyph\":null,\"view\":{\"id\":\"31009\"}},\"id\":\"31008\",\"type\":\"GlyphRenderer\"},{\"attributes\":{},\"id\":\"30986\",\"type\":\"PanTool\"},{\"attributes\":{\"active_drag\":\"auto\",\"active_inspect\":\"auto\",\"active_multi\":null,\"active_scroll\":\"auto\",\"active_tap\":\"auto\",\"tools\":[{\"id\":\"30986\"},{\"id\":\"30987\"},{\"id\":\"30988\"},{\"id\":\"30989\"},{\"id\":\"30990\"},{\"id\":\"30991\"}]},\"id\":\"30993\",\"type\":\"Toolbar\"},{\"attributes\":{\"text\":\"California vs. Florida\"},\"id\":\"30969\",\"type\":\"Title\"},{\"attributes\":{\"fill_alpha\":{\"value\":0.1},\"fill_color\":{\"field\":\"fill_color\"},\"line_alpha\":{\"value\":0.1},\"line_color\":{\"field\":\"line_color\"},\"size\":{\"field\":\"size\",\"units\":\"screen\"},\"x\":{\"field\":\"x\"},\"y\":{\"field\":\"y\"}},\"id\":\"31002\",\"type\":\"Circle\"},{\"attributes\":{\"formatter\":{\"id\":\"31012\"},\"major_label_orientation\":\"vertical\",\"ticker\":{\"id\":\"30980\"}},\"id\":\"30979\",\"type\":\"CategoricalAxis\"},{\"attributes\":{\"fill_color\":{\"field\":\"fill_color\"},\"line_color\":{\"field\":\"line_color\"},\"size\":{\"field\":\"size\",\"units\":\"screen\"},\"x\":{\"field\":\"x\"},\"y\":{\"field\":\"y\"}},\"id\":\"31001\",\"type\":\"Circle\"},{\"attributes\":{},\"id\":\"30975\",\"type\":\"CategoricalScale\"},{\"attributes\":{},\"id\":\"30983\",\"type\":\"BasicTicker\"},{\"attributes\":{\"source\":{\"id\":\"31000\"}},\"id\":\"31004\",\"type\":\"CDSView\"}],\"root_ids\":[\"30968\"]},\"title\":\"Bokeh Application\",\"version\":\"2.0.2\"}};\n",
       "  var render_items = [{\"docid\":\"5619d09d-c3e2-4929-9a15-ae343b2eb07d\",\"root_ids\":[\"30968\"],\"roots\":{\"30968\":\"3e13be1c-9b01-4e03-97f5-820a6f66a573\"}}];\n",
       "  root.Bokeh.embed.embed_items_notebook(docs_json, render_items);\n",
       "\n",
       "  }\n",
       "  if (root.Bokeh !== undefined) {\n",
       "    embed_document(root);\n",
       "  } else {\n",
       "    var attempts = 0;\n",
       "    var timer = setInterval(function(root) {\n",
       "      if (root.Bokeh !== undefined) {\n",
       "        clearInterval(timer);\n",
       "        embed_document(root);\n",
       "      } else {\n",
       "        attempts++;\n",
       "        if (attempts > 100) {\n",
       "          clearInterval(timer);\n",
       "          console.log(\"Bokeh: ERROR: Unable to run BokehJS code because BokehJS library is missing\");\n",
       "        }\n",
       "      }\n",
       "    }, 10, root)\n",
       "  }\n",
       "})(window);"
      ],
      "application/vnd.bokehjs_exec.v0+json": ""
     },
     "metadata": {
      "application/vnd.bokehjs_exec.v0+json": {
       "id": "30968"
      }
     },
     "output_type": "display_data"
    }
   ],
   "source": [
    "def plot_percentile(title = None):\n",
    "    df = get_data('/home/henry/Downloads/covid_deaths_by_state1.csv')\n",
    "    df = df[df['state'] != 'District of Columbia']\n",
    "    state = df['state'].tolist()\n",
    "    deaths = df['deaths_million'].tolist()\n",
    "    stats_ = percentile_diff()\n",
    "    ca_index = state.index('California')\n",
    "    fl_index = state.index('Florida')\n",
    "    both = sorted(list(zip(state, deaths)), key = lambda x: x[1])\n",
    "    p = figure(x_range=[x[0] for x in both], title = title )\n",
    "    color = ['blue' for x in both]\n",
    "    color[ca_index] = 'red'\n",
    "    color[fl_index] = 'green'\n",
    "    size = [3 for x in state]\n",
    "    size[ca_index] = 6\n",
    "    size[fl_index] = 6\n",
    "    p.circle(x=[x[0] for x in both], y = [x[1] for x in both], \n",
    "             color = color, size = size)\n",
    "    p.xaxis.major_label_orientation = \"vertical\"\n",
    "    p.line(x=[x[0] for x in both], y = [stats_[0] for x in both], \n",
    "             color = 'black', legend_label = '95% confidence interval CA',\n",
    "          alpha = .5)\n",
    "    p.line(x=[x[0] for x in both], y = [stats_[1] for x in both], \n",
    "             color = 'black', alpha = .5)\n",
    "    p.yaxis.axis_label = \"Deaths/Million\"\n",
    "\n",
    "    return p\n",
    "\n",
    "    \n",
    "show(plot_percentile(title = 'California vs. Florida'))"
   ]
  },
  {
   "cell_type": "code",
   "execution_count": 323,
   "metadata": {},
   "outputs": [
    {
     "data": {
      "text/html": [
       "\n",
       "\n",
       "\n",
       "\n",
       "\n",
       "\n",
       "  <div class=\"bk-root\" id=\"39f3a8c1-69c8-452c-815e-a3120f9635eb\" data-root-id=\"40024\"></div>\n"
      ]
     },
     "metadata": {},
     "output_type": "display_data"
    },
    {
     "data": {
      "application/javascript": [
       "(function(root) {\n",
       "  function embed_document(root) {\n",
       "    \n",
       "  var docs_json = {\"fb536bc0-4836-4c94-a4c6-b67996f9bd30\":{\"roots\":{\"references\":[{\"attributes\":{\"below\":[{\"id\":\"40035\"}],\"center\":[{\"id\":\"40038\"},{\"id\":\"40042\"},{\"id\":\"40080\"}],\"left\":[{\"id\":\"40039\"}],\"renderers\":[{\"id\":\"40060\"},{\"id\":\"40085\"}],\"title\":{\"id\":\"40025\"},\"toolbar\":{\"id\":\"40050\"},\"x_range\":{\"id\":\"40027\"},\"x_scale\":{\"id\":\"40031\"},\"y_range\":{\"id\":\"40029\"},\"y_scale\":{\"id\":\"40033\"}},\"id\":\"40024\",\"subtype\":\"Figure\",\"type\":\"Plot\"},{\"attributes\":{\"text\":\"CA vs FL\"},\"id\":\"40025\",\"type\":\"Title\"},{\"attributes\":{},\"id\":\"40048\",\"type\":\"HelpTool\"},{\"attributes\":{\"months\":[0,1,2,3,4,5,6,7,8,9,10,11]},\"id\":\"40075\",\"type\":\"MonthsTicker\"},{\"attributes\":{},\"id\":\"40027\",\"type\":\"DataRange1d\"},{\"attributes\":{},\"id\":\"40092\",\"type\":\"UnionRenderers\"},{\"attributes\":{\"months\":[0,2,4,6,8,10]},\"id\":\"40076\",\"type\":\"MonthsTicker\"},{\"attributes\":{\"active_drag\":\"auto\",\"active_inspect\":\"auto\",\"active_multi\":null,\"active_scroll\":\"auto\",\"active_tap\":\"auto\",\"tools\":[{\"id\":\"40043\"},{\"id\":\"40044\"},{\"id\":\"40045\"},{\"id\":\"40046\"},{\"id\":\"40047\"},{\"id\":\"40048\"}]},\"id\":\"40050\",\"type\":\"Toolbar\"},{\"attributes\":{},\"id\":\"40029\",\"type\":\"DataRange1d\"},{\"attributes\":{\"months\":[0,4,8]},\"id\":\"40077\",\"type\":\"MonthsTicker\"},{\"attributes\":{},\"id\":\"40031\",\"type\":\"LinearScale\"},{\"attributes\":{\"data_source\":{\"id\":\"40082\"},\"glyph\":{\"id\":\"40083\"},\"hover_glyph\":null,\"muted_glyph\":null,\"nonselection_glyph\":{\"id\":\"40084\"},\"selection_glyph\":null,\"view\":{\"id\":\"40086\"}},\"id\":\"40085\",\"type\":\"GlyphRenderer\"},{\"attributes\":{\"months\":[0,6]},\"id\":\"40078\",\"type\":\"MonthsTicker\"},{\"attributes\":{},\"id\":\"40033\",\"type\":\"LinearScale\"},{\"attributes\":{\"line_alpha\":0.1,\"line_color\":\"green\",\"x\":{\"field\":\"x\"},\"y\":{\"field\":\"y\"}},\"id\":\"40084\",\"type\":\"Line\"},{\"attributes\":{},\"id\":\"40985\",\"type\":\"UnionRenderers\"},{\"attributes\":{},\"id\":\"40079\",\"type\":\"YearsTicker\"},{\"attributes\":{\"formatter\":{\"id\":\"40064\"},\"ticker\":{\"id\":\"40036\"}},\"id\":\"40035\",\"type\":\"DatetimeAxis\"},{\"attributes\":{\"bottom_units\":\"screen\",\"fill_alpha\":0.5,\"fill_color\":\"lightgrey\",\"left_units\":\"screen\",\"level\":\"overlay\",\"line_alpha\":1.0,\"line_color\":\"black\",\"line_dash\":[4,4],\"line_width\":2,\"render_mode\":\"css\",\"right_units\":\"screen\",\"top_units\":\"screen\"},\"id\":\"40049\",\"type\":\"BoxAnnotation\"},{\"attributes\":{\"items\":[{\"id\":\"40081\"},{\"id\":\"40107\"}]},\"id\":\"40080\",\"type\":\"Legend\"},{\"attributes\":{\"num_minor_ticks\":5,\"tickers\":[{\"id\":\"40068\"},{\"id\":\"40069\"},{\"id\":\"40070\"},{\"id\":\"40071\"},{\"id\":\"40072\"},{\"id\":\"40073\"},{\"id\":\"40074\"},{\"id\":\"40075\"},{\"id\":\"40076\"},{\"id\":\"40077\"},{\"id\":\"40078\"},{\"id\":\"40079\"}]},\"id\":\"40036\",\"type\":\"DatetimeTicker\"},{\"attributes\":{\"label\":{\"value\":\"CA\"},\"renderers\":[{\"id\":\"40060\"}]},\"id\":\"40081\",\"type\":\"LegendItem\"},{\"attributes\":{\"axis\":{\"id\":\"40035\"},\"ticker\":null},\"id\":\"40038\",\"type\":\"Grid\"},{\"attributes\":{\"data_source\":{\"id\":\"40057\"},\"glyph\":{\"id\":\"40058\"},\"hover_glyph\":null,\"muted_glyph\":null,\"nonselection_glyph\":{\"id\":\"40059\"},\"selection_glyph\":null,\"view\":{\"id\":\"40061\"}},\"id\":\"40060\",\"type\":\"GlyphRenderer\"},{\"attributes\":{\"data\":{\"x\":[1583107200000.0,1583193600000.0,1583280000000.0,1583366400000.0,1583452800000.0,1583539200000.0,1583625600000.0,1583712000000.0,1583798400000.0,1583884800000.0,1583971200000.0,1584057600000.0,1584144000000.0,1584230400000.0,1584316800000.0,1584403200000.0,1584489600000.0,1584576000000.0,1584662400000.0,1584748800000.0,1584835200000.0,1584921600000.0,1585008000000.0,1585094400000.0,1585180800000.0,1585267200000.0,1585353600000.0,1585440000000.0,1585526400000.0,1585612800000.0,1585699200000.0,1585785600000.0,1585872000000.0,1585958400000.0,1586044800000.0,1586131200000.0,1586217600000.0,1586304000000.0,1586390400000.0,1586476800000.0,1586563200000.0,1586649600000.0,1586736000000.0,1586822400000.0,1586908800000.0,1586995200000.0,1587081600000.0,1587168000000.0,1587254400000.0,1587340800000.0,1587427200000.0,1587513600000.0,1587600000000.0,1587686400000.0,1587772800000.0,1587859200000.0,1587945600000.0,1588032000000.0,1588118400000.0,1588204800000.0,1588291200000.0,1588377600000.0,1588464000000.0,1588550400000.0,1588636800000.0,1588723200000.0,1588809600000.0,1588896000000.0,1588982400000.0,1589068800000.0,1589155200000.0,1589241600000.0,1589328000000.0,1589414400000.0,1589500800000.0,1589587200000.0,1589673600000.0,1589760000000.0,1589846400000.0,1589932800000.0,1590019200000.0,1590105600000.0,1590192000000.0,1590278400000.0,1590364800000.0,1590451200000.0,1590537600000.0,1590624000000.0,1590710400000.0,1590796800000.0,1590883200000.0,1590969600000.0,1591056000000.0,1591142400000.0,1591228800000.0,1591315200000.0,1591401600000.0,1591488000000.0,1591574400000.0,1591660800000.0,1591747200000.0,1591833600000.0,1591920000000.0,1592006400000.0,1592092800000.0,1592179200000.0,1592265600000.0,1592352000000.0,1592438400000.0,1592524800000.0,1592611200000.0,1592697600000.0,1592784000000.0,1592870400000.0,1592956800000.0,1593043200000.0,1593129600000.0,1593216000000.0,1593302400000.0,1593388800000.0,1593475200000.0,1593561600000.0,1593648000000.0,1593734400000.0,1593820800000.0,1593907200000.0,1593993600000.0,1594080000000.0,1594166400000.0,1594252800000.0,1594339200000.0,1594425600000.0,1594512000000.0,1594598400000.0,1594684800000.0,1594771200000.0,1594857600000.0,1594944000000.0,1595030400000.0,1595116800000.0,1595203200000.0,1595289600000.0,1595376000000.0,1595462400000.0,1595548800000.0,1595635200000.0,1595721600000.0,1595808000000.0,1595894400000.0,1595980800000.0,1596067200000.0,1596153600000.0,1596240000000.0,1596326400000.0,1596412800000.0,1596499200000.0,1596585600000.0,1596672000000.0,1596758400000.0,1596844800000.0,1596931200000.0,1597017600000.0,1597104000000.0,1597190400000.0,1597276800000.0,1597363200000.0,1597449600000.0,1597536000000.0,1597622400000.0,1597708800000.0,1597795200000.0,1597881600000.0,1597968000000.0,1598054400000.0,1598140800000.0,1598227200000.0,1598313600000.0,1598400000000.0,1598486400000.0,1598572800000.0,1598659200000.0,1598745600000.0,1598832000000.0,1598918400000.0,1599004800000.0,1599091200000.0,1599177600000.0,1599264000000.0,1599350400000.0,1599436800000.0,1599523200000.0,1599609600000.0,1599696000000.0,1599782400000.0,1599868800000.0,1599955200000.0,1600041600000.0,1600128000000.0,1600214400000.0,1600300800000.0,1600387200000.0,1600473600000.0,1600560000000.0,1600646400000.0,1600732800000.0,1600819200000.0,1600905600000.0,1600992000000.0,1601078400000.0,1601164800000.0,1601251200000.0,1601337600000.0,1601424000000.0,1601510400000.0,1601596800000.0,1601683200000.0,1601769600000.0,1601856000000.0,1601942400000.0,1602028800000.0,1602115200000.0,1602201600000.0,1602288000000.0,1602374400000.0,1602460800000.0,1602547200000.0,1602633600000.0,1602720000000.0,1602806400000.0,1602892800000.0,1602979200000.0,1603065600000.0,1603152000000.0,1603238400000.0,1603324800000.0,1603411200000.0,1603497600000.0,1603584000000.0,1603670400000.0,1603756800000.0,1603843200000.0,1603929600000.0,1604016000000.0,1604102400000.0,1604188800000.0,1604275200000.0,1604361600000.0,1604448000000.0,1604534400000.0,1604620800000.0,1604707200000.0,1604793600000.0,1604880000000.0,1604966400000.0,1605052800000.0,1605139200000.0,1605225600000.0,1605312000000.0,1605398400000.0,1605484800000.0,1605571200000.0,1605657600000.0,1605744000000.0,1605830400000.0,1605916800000.0,1606003200000.0,1606089600000.0,1606176000000.0,1606262400000.0,1606348800000.0,1606435200000.0,1606521600000.0,1606608000000.0,1606694400000.0,1606780800000.0,1606867200000.0,1606953600000.0,1607040000000.0,1607126400000.0,1607212800000.0,1607299200000.0,1607385600000.0,1607472000000.0,1607558400000.0,1607644800000.0,1607731200000.0,1607817600000.0,1607904000000.0,1607990400000.0,1608076800000.0,1608163200000.0,1608249600000.0,1608336000000.0,1608422400000.0,1608508800000.0,1608595200000.0,1608681600000.0,1608768000000.0,1608854400000.0,1608940800000.0,1609027200000.0,1609113600000.0,1609200000000.0,1609286400000.0,1609372800000.0,1609459200000.0,1609545600000.0,1609632000000.0,1609718400000.0,1609804800000.0,1609891200000.0,1609977600000.0,1610064000000.0,1610150400000.0,1610236800000.0,1610323200000.0,1610409600000.0,1610496000000.0,1610582400000.0,1610668800000.0,1610755200000.0,1610841600000.0,1610928000000.0,1611014400000.0,1611100800000.0,1611187200000.0,1611273600000.0,1611360000000.0,1611446400000.0,1611532800000.0,1611619200000.0,1611705600000.0,1611792000000.0,1611878400000.0,1611964800000.0,1612051200000.0,1612137600000.0,1612224000000.0,1612310400000.0,1612396800000.0,1612483200000.0,1612569600000.0,1612656000000.0,1612742400000.0,1612828800000.0,1612915200000.0,1613001600000.0,1613088000000.0,1613174400000.0,1613260800000.0,1613347200000.0,1613433600000.0,1613520000000.0,1613606400000.0,1613692800000.0,1613779200000.0,1613865600000.0,1613952000000.0,1614038400000.0,1614124800000.0,1614211200000.0,1614297600000.0,1614384000000.0,1614470400000.0,1614556800000.0,1614643200000.0,1614729600000.0,1614816000000.0,1614902400000.0,1614988800000.0,1615075200000.0,1615161600000.0,1615248000000.0,1615334400000.0,1615420800000.0,1615507200000.0,1615593600000.0,1615680000000.0,1615766400000.0,1615852800000.0,1615939200000.0,1616025600000.0,1616112000000.0],\"y\":[\"NaN\",\"NaN\",\"NaN\",\"NaN\",\"NaN\",\"NaN\",0.013302811451424593,0.013302811451424593,0.013302811451424593,0.013302811451424593,0.013302811451424593,0.0,0.006651405725712297,0.006651405725712297,0.013302811451424593,0.026605622902849187,0.03325702862856148,0.039908434354273783,0.04655984007998608,0.05321124580569837,0.06651405725712296,0.09311968015997216,0.09311968015997216,0.10642249161139675,0.13967952023995825,0.246102011851355,0.29931325765705336,0.31261606910847795,0.35917590918846404,0.43234137217129937,0.5121582408798468,0.7649116584569141,0.8181229042626126,0.9178939901482971,1.0642249161139674,1.2039044363539257,1.3967952023995824,1.4766120711081299,1.5032176940109792,1.656200025702362,1.6695028371537866,1.5963373741709512,1.6295944027995128,1.8291365745708816,1.9355590661822781,1.9754675005365525,2.041981557793675,2.008724529165114,2.081889992147949,2.155055455130784,1.96881609481084,2.081889992147949,2.1217984265022225,2.128449832227935,2.041981557793675,1.995421717713689,1.7626225173137586,2.022027340616538,1.928907660456566,1.8690450089251556,1.7825767344908956,2.0552843692451,2.0286787463422504,2.0685871806965244,1.995421717713689,2.1417526436793595,2.2082667009364827,2.3612490326278657,2.3346434097250164,2.2747807581936055,2.234872323839332,2.0486329635193874,1.9156048490051416,1.8291365745708816,1.6495486199766498,1.656200025702362,1.6761542428794989,1.742668300136622,1.815833763119457,1.7892281402166081,1.7892281402166081,1.815833763119457,1.7892281402166081,1.7559711115880465,1.6961084600566358,1.3768409852224457,1.4832634768338422,1.4633092596567054,1.4832634768338422,1.4234008253024317,1.4234008253024317,1.3834923909481578,1.8025309516680328,1.6428972142509373,1.6162915913480882,1.6428972142509373,1.6029887798966638,1.656200025702362,1.6761542428794989,1.5630803455423898,1.5630803455423898,1.6029887798966638,1.4433550424795685,1.5763831569938145,1.5364747226395405,1.5032176940109792,1.5165205054624038,1.4433550424795685,1.4167494195767192,1.5098690997366917,1.4566578539309931,1.5298233169138282,1.5630803455423898,1.6295944027995128,1.7493197058623342,1.769273923039471,1.742668300136622,1.6362458085252252,1.7160626772337726,1.8224851688451695,1.7759253287651835,1.7892281402166081,1.928907660456566,2.1151470207765106,2.0752385864222367,2.0752385864222367,2.2016152952107704,2.234872323839332,2.254826541016469,2.6073510444792203,2.7802875933477402,3.292445834227587,3.398868325838984,3.3190514571304366,3.7779984522045846,4.203688418650173,4.443139024775815,4.675938225175745,4.642681196547183,4.9220402370271,5.287867551941276,5.301170363392701,5.480758317986933,5.593832215324042,5.640392055404027,5.866539850078246,5.800025792821123,5.713557518386863,6.059430616123902,6.571588857003749,7.103701315060734,7.915172813597633,8.281000128511812,8.181229042626127,8.154623419723276,8.547056357540303,8.606919009071714,7.722282047551977,7.210123806672131,7.230078023849266,7.329849109734951,7.449574412797773,7.655767990294853,7.569299715860595,7.75553907618054,8.074806551014728,8.2211374769804,8.420679648751769,8.394074025848917,8.014943899483317,7.762190481906252,7.555996904409169,6.83099368030653,6.179155919186724,5.8066771985468355,5.7069061126611516,5.467455506535509,5.32777598629555,5.447501289358371,5.247959117587002,5.527318158066919,5.281216146215564,5.254610523312715,5.281216146215564,5.108279597347044,5.201399277507016,5.2745647404898515,4.695892442352882,4.855526179769977,4.549561516387211,3.598410497610353,4.08396311558735,4.496350270581512,5.001857105735647,5.247959117587002,5.048416945815634,5.12823381452418,5.800025792821123,5.480758317986933,5.055068351541346,4.8089663396899915,4.569515733564348,4.576167139290061,4.489698864855801,4.183734201473035,4.516304487758649,4.715846659530019,4.589469950741486,4.888783208398538,4.895434614124251,4.789012122512854,4.835571962592841,4.649332602272896,4.3167623159872806,4.250248258730158,4.0307518697816525,4.250248258730158,4.489698864855801,4.150477172844473,3.9043751609931188,4.150477172844473,4.203688418650173,3.711484394947462,4.609424167918622,4.655984007998608,5.081673974444195,4.596121356467197,4.443139024775815,4.283505287358719,4.86217758549569,4.010797652604515,4.050706086958789,3.817906886558859,4.090614521313063,3.53189644035323,3.3922169201132717,3.3257028628561485,3.072949445279081,2.8468016506048635,2.6605622902849193,2.401157466982139,2.534185581496385,2.527534175770673,2.2880835696450306,2.394506061256427,2.5607912043992345,2.5607912043992345,2.3346434097250164,2.081889992147949,1.9555132833594153,2.254826541016469,2.2082667009364827,2.294734975370743,2.3812032498050026,2.514231364319248,2.7337277532677544,2.8667558677820004,2.5873968273020833,2.640608073107782,2.527534175770673,2.6339566673820696,2.8667558677820004,2.9133157078619862,2.9532241422162597,2.933269925039123,3.1461149082619166,3.4986394117246684,3.4121711372904087,3.478685194547531,2.9532241422162597,3.152766313987629,3.405519731564696,3.385565514387559,3.405519731564696,3.472033788821819,3.472033788821819,4.123871549941624,4.197037012924459,4.270202475907294,4.503001676307226,4.556212922112923,4.649332602272896,4.5628643278386365,4.769057905335717,4.789012122512854,4.66263541372432,4.582818545015773,4.795663528238566,4.682589630901457,4.935343048478525,4.749103688158581,4.569515733564348,4.576167139290061,4.669286819450033,4.503001676307226,4.469744647678664,4.456441836227238,4.589469950741486,3.950935001073105,4.403230590421541,4.283505287358719,4.177082795747323,4.3566707503415545,4.469744647678664,4.509653082032938,4.509653082032938,5.021811322912785,5.15483943742703,5.201399277507016,5.18144506032988,5.12823381452418,5.374335826375536,6.604845885632311,6.07938483330104,6.1525502962838745,6.525029016923764,6.910810549015077,7.176866778043569,7.529391281506321,7.536042687232032,7.981686870854756,8.147972013997563,8.001641088031894,8.041549522386168,7.861961567791936,7.489482847152047,8.061503739563305,7.715630641826264,7.689025018923416,7.795447510534811,8.227788882706113,8.347514185768933,8.620221820523136,8.267697317060385,7.955081247951908,7.8885671906947845,8.241091694157536,7.642465178843429,7.8885671906947845,8.061503739563305,8.001641088031894,8.241091694157536,8.094760768191867,7.516088470054895,8.154623419723276,7.908521407871922,7.549345498683457,7.369757544089225,7.210123806672131,7.203472400946418,7.442923007072061,7.3564547326378005,7.336500515460664,7.263335052477828,7.496134252877759,7.516088470054895,7.496134252877759,7.5227398757806085,7.043838663529322,6.844296491757953,6.678011348615146,6.199110136363861,6.125944673381027,6.292229816523833,6.2124129478152845,6.132596079106738,6.165853107735299,6.046127804672478,5.972962341689643,5.893145472981096,5.527318158066919,5.088325380169907,5.015159917187072,4.529607299210075,4.34336793889013,4.143825767118761,4.02410046405594,3.804604075107434,3.8844209438159814,3.7247872063988865,3.6981815834960376,3.711484394947462,3.365611297210423]},\"selected\":{\"id\":\"40986\"},\"selection_policy\":{\"id\":\"40985\"}},\"id\":\"40082\",\"type\":\"ColumnDataSource\"},{\"attributes\":{\"line_color\":\"#1f77b4\",\"x\":{\"field\":\"x\"},\"y\":{\"field\":\"y\"}},\"id\":\"40058\",\"type\":\"Line\"},{\"attributes\":{\"formatter\":{\"id\":\"40066\"},\"ticker\":{\"id\":\"40040\"}},\"id\":\"40039\",\"type\":\"LinearAxis\"},{\"attributes\":{\"source\":{\"id\":\"40057\"}},\"id\":\"40061\",\"type\":\"CDSView\"},{\"attributes\":{\"label\":{\"value\":\"FL\"},\"renderers\":[{\"id\":\"40085\"}]},\"id\":\"40107\",\"type\":\"LegendItem\"},{\"attributes\":{},\"id\":\"40040\",\"type\":\"BasicTicker\"},{\"attributes\":{},\"id\":\"40066\",\"type\":\"BasicTickFormatter\"},{\"attributes\":{\"axis\":{\"id\":\"40039\"},\"dimension\":1,\"ticker\":null},\"id\":\"40042\",\"type\":\"Grid\"},{\"attributes\":{},\"id\":\"40093\",\"type\":\"Selection\"},{\"attributes\":{},\"id\":\"40986\",\"type\":\"Selection\"},{\"attributes\":{\"mantissas\":[1,2,5],\"max_interval\":500.0,\"num_minor_ticks\":0},\"id\":\"40068\",\"type\":\"AdaptiveTicker\"},{\"attributes\":{\"line_alpha\":0.1,\"line_color\":\"#1f77b4\",\"x\":{\"field\":\"x\"},\"y\":{\"field\":\"y\"}},\"id\":\"40059\",\"type\":\"Line\"},{\"attributes\":{\"line_color\":\"green\",\"x\":{\"field\":\"x\"},\"y\":{\"field\":\"y\"}},\"id\":\"40083\",\"type\":\"Line\"},{\"attributes\":{},\"id\":\"40064\",\"type\":\"DatetimeTickFormatter\"},{\"attributes\":{\"base\":60,\"mantissas\":[1,2,5,10,15,20,30],\"max_interval\":1800000.0,\"min_interval\":1000.0,\"num_minor_ticks\":0},\"id\":\"40069\",\"type\":\"AdaptiveTicker\"},{\"attributes\":{\"source\":{\"id\":\"40082\"}},\"id\":\"40086\",\"type\":\"CDSView\"},{\"attributes\":{\"base\":24,\"mantissas\":[1,2,4,6,8,12],\"max_interval\":43200000.0,\"min_interval\":3600000.0,\"num_minor_ticks\":0},\"id\":\"40070\",\"type\":\"AdaptiveTicker\"},{\"attributes\":{},\"id\":\"40043\",\"type\":\"PanTool\"},{\"attributes\":{\"days\":[1,2,3,4,5,6,7,8,9,10,11,12,13,14,15,16,17,18,19,20,21,22,23,24,25,26,27,28,29,30,31]},\"id\":\"40071\",\"type\":\"DaysTicker\"},{\"attributes\":{},\"id\":\"40044\",\"type\":\"WheelZoomTool\"},{\"attributes\":{},\"id\":\"40047\",\"type\":\"ResetTool\"},{\"attributes\":{\"days\":[1,4,7,10,13,16,19,22,25,28]},\"id\":\"40072\",\"type\":\"DaysTicker\"},{\"attributes\":{\"overlay\":{\"id\":\"40049\"}},\"id\":\"40045\",\"type\":\"BoxZoomTool\"},{\"attributes\":{\"days\":[1,8,15,22]},\"id\":\"40073\",\"type\":\"DaysTicker\"},{\"attributes\":{},\"id\":\"40046\",\"type\":\"SaveTool\"},{\"attributes\":{\"days\":[1,15]},\"id\":\"40074\",\"type\":\"DaysTicker\"},{\"attributes\":{\"data\":{\"x\":[1579996800000.0,1580083200000.0,1580169600000.0,1580256000000.0,1580342400000.0,1580428800000.0,1580515200000.0,1580601600000.0,1580688000000.0,1580774400000.0,1580860800000.0,1580947200000.0,1581033600000.0,1581120000000.0,1581206400000.0,1581292800000.0,1581379200000.0,1581465600000.0,1581552000000.0,1581638400000.0,1581724800000.0,1581811200000.0,1581897600000.0,1581984000000.0,1582070400000.0,1582156800000.0,1582243200000.0,1582329600000.0,1582416000000.0,1582502400000.0,1582588800000.0,1582675200000.0,1582761600000.0,1582848000000.0,1582934400000.0,1583020800000.0,1583107200000.0,1583193600000.0,1583280000000.0,1583366400000.0,1583452800000.0,1583539200000.0,1583625600000.0,1583712000000.0,1583798400000.0,1583884800000.0,1583971200000.0,1584057600000.0,1584144000000.0,1584230400000.0,1584316800000.0,1584403200000.0,1584489600000.0,1584576000000.0,1584662400000.0,1584748800000.0,1584835200000.0,1584921600000.0,1585008000000.0,1585094400000.0,1585180800000.0,1585267200000.0,1585353600000.0,1585440000000.0,1585526400000.0,1585612800000.0,1585699200000.0,1585785600000.0,1585872000000.0,1585958400000.0,1586044800000.0,1586131200000.0,1586217600000.0,1586304000000.0,1586390400000.0,1586476800000.0,1586563200000.0,1586649600000.0,1586736000000.0,1586822400000.0,1586908800000.0,1586995200000.0,1587081600000.0,1587168000000.0,1587254400000.0,1587340800000.0,1587427200000.0,1587513600000.0,1587600000000.0,1587686400000.0,1587772800000.0,1587859200000.0,1587945600000.0,1588032000000.0,1588118400000.0,1588204800000.0,1588291200000.0,1588377600000.0,1588464000000.0,1588550400000.0,1588636800000.0,1588723200000.0,1588809600000.0,1588896000000.0,1588982400000.0,1589068800000.0,1589155200000.0,1589241600000.0,1589328000000.0,1589414400000.0,1589500800000.0,1589587200000.0,1589673600000.0,1589760000000.0,1589846400000.0,1589932800000.0,1590019200000.0,1590105600000.0,1590192000000.0,1590278400000.0,1590364800000.0,1590451200000.0,1590537600000.0,1590624000000.0,1590710400000.0,1590796800000.0,1590883200000.0,1590969600000.0,1591056000000.0,1591142400000.0,1591228800000.0,1591315200000.0,1591401600000.0,1591488000000.0,1591574400000.0,1591660800000.0,1591747200000.0,1591833600000.0,1591920000000.0,1592006400000.0,1592092800000.0,1592179200000.0,1592265600000.0,1592352000000.0,1592438400000.0,1592524800000.0,1592611200000.0,1592697600000.0,1592784000000.0,1592870400000.0,1592956800000.0,1593043200000.0,1593129600000.0,1593216000000.0,1593302400000.0,1593388800000.0,1593475200000.0,1593561600000.0,1593648000000.0,1593734400000.0,1593820800000.0,1593907200000.0,1593993600000.0,1594080000000.0,1594166400000.0,1594252800000.0,1594339200000.0,1594425600000.0,1594512000000.0,1594598400000.0,1594684800000.0,1594771200000.0,1594857600000.0,1594944000000.0,1595030400000.0,1595116800000.0,1595203200000.0,1595289600000.0,1595376000000.0,1595462400000.0,1595548800000.0,1595635200000.0,1595721600000.0,1595808000000.0,1595894400000.0,1595980800000.0,1596067200000.0,1596153600000.0,1596240000000.0,1596326400000.0,1596412800000.0,1596499200000.0,1596585600000.0,1596672000000.0,1596758400000.0,1596844800000.0,1596931200000.0,1597017600000.0,1597104000000.0,1597190400000.0,1597276800000.0,1597363200000.0,1597449600000.0,1597536000000.0,1597622400000.0,1597708800000.0,1597795200000.0,1597881600000.0,1597968000000.0,1598054400000.0,1598140800000.0,1598227200000.0,1598313600000.0,1598400000000.0,1598486400000.0,1598572800000.0,1598659200000.0,1598745600000.0,1598832000000.0,1598918400000.0,1599004800000.0,1599091200000.0,1599177600000.0,1599264000000.0,1599350400000.0,1599436800000.0,1599523200000.0,1599609600000.0,1599696000000.0,1599782400000.0,1599868800000.0,1599955200000.0,1600041600000.0,1600128000000.0,1600214400000.0,1600300800000.0,1600387200000.0,1600473600000.0,1600560000000.0,1600646400000.0,1600732800000.0,1600819200000.0,1600905600000.0,1600992000000.0,1601078400000.0,1601164800000.0,1601251200000.0,1601337600000.0,1601424000000.0,1601510400000.0,1601596800000.0,1601683200000.0,1601769600000.0,1601856000000.0,1601942400000.0,1602028800000.0,1602115200000.0,1602201600000.0,1602288000000.0,1602374400000.0,1602460800000.0,1602547200000.0,1602633600000.0,1602720000000.0,1602806400000.0,1602892800000.0,1602979200000.0,1603065600000.0,1603152000000.0,1603238400000.0,1603324800000.0,1603411200000.0,1603497600000.0,1603584000000.0,1603670400000.0,1603756800000.0,1603843200000.0,1603929600000.0,1604016000000.0,1604102400000.0,1604188800000.0,1604275200000.0,1604361600000.0,1604448000000.0,1604534400000.0,1604620800000.0,1604707200000.0,1604793600000.0,1604880000000.0,1604966400000.0,1605052800000.0,1605139200000.0,1605225600000.0,1605312000000.0,1605398400000.0,1605484800000.0,1605571200000.0,1605657600000.0,1605744000000.0,1605830400000.0,1605916800000.0,1606003200000.0,1606089600000.0,1606176000000.0,1606262400000.0,1606348800000.0,1606435200000.0,1606521600000.0,1606608000000.0,1606694400000.0,1606780800000.0,1606867200000.0,1606953600000.0,1607040000000.0,1607126400000.0,1607212800000.0,1607299200000.0,1607385600000.0,1607472000000.0,1607558400000.0,1607644800000.0,1607731200000.0,1607817600000.0,1607904000000.0,1607990400000.0,1608076800000.0,1608163200000.0,1608249600000.0,1608336000000.0,1608422400000.0,1608508800000.0,1608595200000.0,1608681600000.0,1608768000000.0,1608854400000.0,1608940800000.0,1609027200000.0,1609113600000.0,1609200000000.0,1609286400000.0,1609372800000.0,1609459200000.0,1609545600000.0,1609632000000.0,1609718400000.0,1609804800000.0,1609891200000.0,1609977600000.0,1610064000000.0,1610150400000.0,1610236800000.0,1610323200000.0,1610409600000.0,1610496000000.0,1610582400000.0,1610668800000.0,1610755200000.0,1610841600000.0,1610928000000.0,1611014400000.0,1611100800000.0,1611187200000.0,1611273600000.0,1611360000000.0,1611446400000.0,1611532800000.0,1611619200000.0,1611705600000.0,1611792000000.0,1611878400000.0,1611964800000.0,1612051200000.0,1612137600000.0,1612224000000.0,1612310400000.0,1612396800000.0,1612483200000.0,1612569600000.0,1612656000000.0,1612742400000.0,1612828800000.0,1612915200000.0,1613001600000.0,1613088000000.0,1613174400000.0,1613260800000.0,1613347200000.0,1613433600000.0,1613520000000.0,1613606400000.0,1613692800000.0,1613779200000.0,1613865600000.0,1613952000000.0,1614038400000.0,1614124800000.0,1614211200000.0,1614297600000.0,1614384000000.0,1614470400000.0,1614556800000.0,1614643200000.0,1614729600000.0,1614816000000.0,1614902400000.0,1614988800000.0,1615075200000.0,1615161600000.0,1615248000000.0,1615334400000.0,1615420800000.0,1615507200000.0,1615593600000.0,1615680000000.0,1615766400000.0,1615852800000.0,1615939200000.0,1616025600000.0,1616112000000.0],\"y\":[\"NaN\",\"NaN\",\"NaN\",\"NaN\",\"NaN\",\"NaN\",0.0,0.0,0.0,0.0,0.0,0.0,0.0,0.0,0.0,0.0,0.0,0.0,0.0,0.0,0.0,0.0,0.0,0.0,0.0,0.0,0.0,0.0,0.0,0.0,0.0,0.0,0.0,0.0,0.0,0.0,0.0,0.0,0.003615517731238327,0.003615517731238327,0.003615517731238327,0.003615517731238327,0.003615517731238327,0.007231035462476654,0.010846553193714982,0.010846553193714982,0.010846553193714982,0.014462070924953307,0.014462070924953307,0.018077588656191634,0.03253965958114495,0.0397706950436216,0.04700173050609825,0.05423276596857491,0.06869483689352822,0.08315690781848153,0.1048500142059115,0.10123449647467317,0.13738967378705644,0.1843914042931547,0.23139313479925291,0.28924141849906615,0.33985866673640275,0.3507052199301178,0.3904759149737394,0.47724834052345927,0.5206345532983192,0.5929449079230856,0.6435621561604222,0.7267190639789037,0.7917983831411937,0.8641087377659603,0.95088116331568,1.0629622129840681,1.0882708371027365,1.1280415321463582,1.1171949789526432,1.1750432626524563,1.2256605108897929,1.1967363690398864,1.3702812201393262,1.5293640003138125,1.6486760854446771,1.8583761138565005,1.8077588656191637,1.800527830156687,1.9451485394062202,1.9523795748686965,2.086153730924515,2.0572295890746086,1.974072681256127,1.9523795748686965,2.086153730924515,2.05361407134337,1.9379175039437435,1.8402985252003086,1.908993362093837,1.8836847379751687,1.8764537025126917,1.7969123124254487,1.8149899010816402,1.8692226670502152,1.822220936544117,1.8186054188128786,1.8764537025126917,1.9306864684812668,1.8909157734376452,1.8656071493189768,1.9379175039437435,1.7282174755319206,1.9596106103311735,1.887300255706407,1.8836847379751687,1.8149899010816402,1.8800692202439304,1.8077588656191637,2.1150778727744215,1.800527830156687,1.8583761138565005,1.8077588656191637,1.757141617381827,1.579981248551149,1.6161364258635322,1.511286411657621,1.6414450499822006,1.6125209081322942,1.634214014519724,1.7318329932631586,1.811374383350402,1.666753674100869,1.5980588372073408,1.467900198882761,1.4895933052701908,1.4859777875389526,1.4172829506454243,1.5004398584639058,1.6161364258635322,1.6522916031759158,1.5763657308199108,1.5655191776261956,1.5763657308199108,1.5944433194761025,1.543826071238766,1.4968243407326676,1.511286411657621,1.5872122840136258,1.5763657308199108,1.5474415889700042,1.5944433194761025,1.5727502130886724,1.6089053904010557,1.6305984967884857,1.6161364258635322,1.4715157166139994,1.5185174471200975,1.511286411657621,1.6125209081322942,1.5908278017448638,1.6378295322509622,1.601674354938579,1.543826071238766,1.5619036598949576,1.7101398868757287,1.7354485109943971,1.9523795748686965,2.03192096495594,2.245236511099001,2.4693986104357775,2.433243433123394,2.2922382416050997,2.4007037735422494,2.3862417026172964,2.4043192912734876,2.426012397660918,2.4766296458982544,2.4151658444672024,2.4513210217795858,2.3717796316923425,2.4223968799296793,2.5308624118668295,2.5959417310291193,2.6429434615352174,2.679098638847601,2.820103830365895,3.011726270121527,3.058728000627625,2.96110902188419,3.2431194049207797,3.3877401141703127,3.4275108092139344,3.4564349510638412,3.543207376613561,3.550438412076037,3.633595319894519,3.525129787957369,3.3768935609765975,3.492590128376224,3.4708970219887942,3.4636659865263173,3.405817702826505,3.5468228943447992,3.4311263269451726,3.3624314900516445,3.1816556034897276,3.159962497102298,3.1418849084461065,3.1744245680272516,2.914107291378092,3.029803858777718,3.2828900999644013,3.279274582233163,3.3118142418143077,3.203348709877158,3.1129607665961996,3.235888369458303,3.080421107015055,2.780333135322274,2.845412454484564,2.7839486530535122,2.675483121116362,2.8309503835596104,2.8960297027219,2.9213383268405684,2.8996452204531384,2.859874525409517,2.686329674310077,2.509169305479399,2.3862417026172964,2.158464085549282,2.245236511099001,2.259698582023955,2.3717796316923425,2.512784823210638,2.7586400289348436,2.6248658728790253,2.5778641423729276,2.339239972111198,2.494707234554446,2.285007206142623,2.209081333786618,2.1801571919367113,2.158464085549282,2.1042313195807067,2.245236511099001,2.0427675181496547,2.133155461430613,2.068076142268323,2.1042313195807067,2.1150778727744215,2.169310638742996,1.9559950925999352,1.9306864684812668,1.9596106103311735,1.9451485394062202,1.6631381563696306,1.6631381563696306,1.5763657308199108,1.5474415889700042,1.6125209081322942,1.5582881421637191,1.5004398584639058,1.4425915747640927,1.424513986107901,1.4968243407326676,1.4425915747640927,1.3449725960206578,1.4389760570328542,1.4208984683766628,1.5076708939263825,1.579981248551149,1.543826071238766,1.5004398584639058,1.4642846811515224,1.3702812201393262,1.4859777875389526,1.4859777875389526,1.2726622413958912,1.0882708371027365,1.12442601441512,1.1425036030713116,1.1316570498775964,1.091886354833975,0.9870363406280634,1.0014984115530168,1.0810398016402598,1.1280415321463582,1.0955018725652133,1.0991173902964515,1.2111984399648397,1.1641967094587415,1.0521156597903534,0.99426737609054,1.0087294470154933,1.048500142059115,1.048500142059115,0.9725742697031101,1.0376535888654,1.2943553477833212,1.4968243407326676,1.5582881421637191,1.6450605677134391,1.666753674100869,1.677600227294584,1.8619916315877385,1.8619916315877385,1.6992933336820137,1.6305984967884857,1.5293640003138125,1.5365950357762892,1.5944433194761025,1.634214014519724,1.6559071209071539,2.0283054472247013,2.498322752285684,2.6899451920413155,2.8417969367533256,3.04788144743391,3.2937366531581165,3.709521192250524,3.7962936178002438,3.843295348306342,3.9119901851998704,3.9987626107495897,4.136152284536646,4.501319575391718,5.115957589702234,5.4919714337510195,5.936680114693334,6.121071518986488,6.121071518986488,6.450083632529177,6.403081902023078,6.334387065129549,6.468161221185368,5.307580029457864,5.676362838044174,5.593205930225692,5.60043696568817,6.146380143105157,6.356080171516979,7.30696133483266,8.21445628537348,8.391616654204157,8.503697703872545,8.915866725233714,9.154490895495446,9.57750647005033,9.353344370713552,10.8103980164026,11.4141894775194,12.16621716561697,12.242143037972976,13.084558669351507,13.062865562964076,13.35572249919438,13.453341477937816,13.35572249919438,12.99055520833931,12.15175509469202,11.876975747117905,12.10475336418592,12.502460314622136,12.21683441385431,12.38314822949127,12.744700002615104,13.583500116262396,13.851048428374034,14.194522612841673,13.822124286524124,13.977591548967375,14.013746726279756,13.77512255601803,13.684734612737067,13.149637988513797,12.679620683452814,12.780855179927487,12.433765477728606,11.905899888967811,11.656429165512368,11.410573959788161,11.26233773280739,10.853784229177458,10.535618668828485,10.13791171839227,10.405460030503907,10.495847973784864,9.671509931062525,8.941175349352383,8.915866725233714,8.525390810259974,8.529006327991214,8.120452824361282,8.261458015879578,8.7350908386718,8.760399462790469,11.030944598008135,11.030944598008135,10.846553193714982,10.369304853191522,10.387382441847716,10.687470413540495,10.50307900924734,7.639588966106585,7.491352739125815,7.390118242651141,7.755285533506213,7.245497533401608,6.833328512040438,6.674245731865953,6.547702611272611,6.055992199824198,5.4160455613950145,8.044526952005278,8.250611462685862,8.058989022930232,7.588971717869248,7.5021992923195295,7.429888937694763,7.429888937694763]},\"selected\":{\"id\":\"40093\"},\"selection_policy\":{\"id\":\"40092\"}},\"id\":\"40057\",\"type\":\"ColumnDataSource\"}],\"root_ids\":[\"40024\"]},\"title\":\"Bokeh Application\",\"version\":\"2.0.2\"}};\n",
       "  var render_items = [{\"docid\":\"fb536bc0-4836-4c94-a4c6-b67996f9bd30\",\"root_ids\":[\"40024\"],\"roots\":{\"40024\":\"39f3a8c1-69c8-452c-815e-a3120f9635eb\"}}];\n",
       "  root.Bokeh.embed.embed_items_notebook(docs_json, render_items);\n",
       "\n",
       "  }\n",
       "  if (root.Bokeh !== undefined) {\n",
       "    embed_document(root);\n",
       "  } else {\n",
       "    var attempts = 0;\n",
       "    var timer = setInterval(function(root) {\n",
       "      if (root.Bokeh !== undefined) {\n",
       "        clearInterval(timer);\n",
       "        embed_document(root);\n",
       "      } else {\n",
       "        attempts++;\n",
       "        if (attempts > 100) {\n",
       "          clearInterval(timer);\n",
       "          console.log(\"Bokeh: ERROR: Unable to run BokehJS code because BokehJS library is missing\");\n",
       "        }\n",
       "      }\n",
       "    }, 10, root)\n",
       "  }\n",
       "})(window);"
      ],
      "application/vnd.bokehjs_exec.v0+json": ""
     },
     "metadata": {
      "application/vnd.bokehjs_exec.v0+json": {
       "id": "40024"
      }
     },
     "output_type": "display_data"
    }
   ],
   "source": [
    "def over_time(window = 7):\n",
    "    df = pd.read_csv('data/states.csv')\n",
    "    df['date'] = pd.to_datetime(df['date'])\n",
    "    df_pop = pd.read_csv('data/states_population.csv')\n",
    "    df_ca = df[df['state'] == 'California']\n",
    "    df_fl = df[df['state'] == 'Florida']\n",
    "    fl_pop = df_pop[df_pop['state'] == 'Florida']['population_2019'].tolist()[0]\n",
    "    ca_pop = df_pop[df_pop['state'] == 'California']['population_2019'].tolist()[0]\n",
    "    dates_fl = df_fl['date'].tolist()\n",
    "    dates_ca = df_ca['date'].tolist()\n",
    "    deaths_ca = df_ca['deaths'].rolling(window).mean().tolist()\n",
    "    deaths_fl = df_fl['deaths'].rolling(window).mean().tolist()\n",
    "\n",
    "    deaths_ca = [x/ca_pop * 1e6 for x in deaths_ca]\n",
    "    deaths_fl = [x/fl_pop * 1e6 for x in deaths_fl]\n",
    "    p = figure(title = 'CA vs FL', x_axis_type = 'datetime')\n",
    "    p.line(x = dates_ca, y = deaths_ca, legend_label = 'CA')\n",
    "    p.line(x= dates_fl, y = deaths_fl, legend_label = 'FL', color = 'green')\n",
    "    return p\n",
    "\n",
    "\n",
    "show(over_time())\n"
   ]
  },
  {
   "cell_type": "code",
   "execution_count": 448,
   "metadata": {},
   "outputs": [
    {
     "name": "stdout",
     "output_type": "stream",
     "text": [
      "-1.0045762154523603 -0.14540519644089242 420\n",
      "1199.2222339548762\n",
      "8285.193120745394\n",
      "4288.67452416\n",
      "32712\n"
     ]
    }
   ],
   "source": [
    "import math\n",
    "def over_time_diff(window = 7):\n",
    "    df = pd.read_csv('data/states.csv')\n",
    "    df['date'] = pd.to_datetime(df['date'])\n",
    "    df_pop = pd.read_csv('data/states_population.csv')\n",
    "    df_ca = df[df['state'] == 'California']\n",
    "    df_fl = df[df['state'] == 'Florida']\n",
    "    fl_pop = df_pop[df_pop['state'] == 'Florida']['population_2019'].tolist()[0]\n",
    "    ca_pop = df_pop[df_pop['state'] == 'California']['population_2019'].tolist()[0]\n",
    "    dates_fl = df_fl['date'].tolist()\n",
    "    dates_ca = df_ca['date'].tolist()\n",
    "    deaths_ca = df_ca['deaths'].rolling(window).mean().tolist()\n",
    "    deaths_fl = df_fl['deaths'].rolling(window).mean().tolist()\n",
    "\n",
    "    deaths_ca = [x/ca_pop * 1e6 for x in deaths_ca]\n",
    "    deaths_fl = [x/fl_pop * 1e6 for x in deaths_fl]\n",
    "    deaths_ca = [x for x in deaths_ca if not math.isnan(x)]\n",
    "    deaths_fl = [x for x in deaths_fl if not math.isnan(x)]\n",
    "\n",
    "    diff = repeat_resample(deaths_ca, deaths_fl, num_iter = 1000)\n",
    "    lower, upper = np.percentile(diff, 2.5), np.percentile(diff, 97.5)\n",
    "    print(lower, upper, len(dates_ca))\n",
    "   \n",
    "    def get_total_diff(d, pop, dates, window):\n",
    "        return d/1e6 * pop * len(dates)\n",
    "    print(get_total_diff(abs(upper), fl_pop, dates_fl, window))\n",
    "    print(get_total_diff(abs(lower), fl_pop, dates_fl, window))\n",
    "    print(get_total_diff(.52, fl_pop, dates_fl, window))\n",
    "    print(sum(df_fl['deaths']))\n",
    "\n",
    "\n",
    "\n",
    "\n",
    "over_time_diff(window = 14)\n"
   ]
  },
  {
   "cell_type": "code",
   "execution_count": 450,
   "metadata": {},
   "outputs": [
    {
     "data": {
      "text/plain": [
       "2.5"
      ]
     },
     "execution_count": 450,
     "metadata": {},
     "output_type": "execute_result"
    }
   ],
   "source": [
    "50/2000 * 100"
   ]
  },
  {
   "cell_type": "code",
   "execution_count": null,
   "metadata": {},
   "outputs": [],
   "source": []
  }
 ],
 "metadata": {
  "kernelspec": {
   "display_name": "Python 3",
   "language": "python",
   "name": "python3"
  },
  "language_info": {
   "codemirror_mode": {
    "name": "ipython",
    "version": 3
   },
   "file_extension": ".py",
   "mimetype": "text/x-python",
   "name": "python",
   "nbconvert_exporter": "python",
   "pygments_lexer": "ipython3",
   "version": "3.6.9"
  }
 },
 "nbformat": 4,
 "nbformat_minor": 4
}
