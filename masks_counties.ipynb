{
 "cells": [
  {
   "cell_type": "code",
   "execution_count": 10,
   "metadata": {},
   "outputs": [],
   "source": [
    "import datetime"
   ]
  },
  {
   "cell_type": "code",
   "execution_count": 1,
   "metadata": {},
   "outputs": [],
   "source": [
    "import pandas as pd"
   ]
  },
  {
   "cell_type": "code",
   "execution_count": 52,
   "metadata": {},
   "outputs": [],
   "source": [
    "import statsmodels.api as sm\n",
    "import numpy as np"
   ]
  },
  {
   "cell_type": "code",
   "execution_count": 60,
   "metadata": {},
   "outputs": [],
   "source": [
    "from bokeh.plotting  import figure, show\n"
   ]
  },
  {
   "cell_type": "code",
   "execution_count": 7,
   "metadata": {},
   "outputs": [
    {
     "data": {
      "text/html": [
       "<div>\n",
       "<style scoped>\n",
       "    .dataframe tbody tr th:only-of-type {\n",
       "        vertical-align: middle;\n",
       "    }\n",
       "\n",
       "    .dataframe tbody tr th {\n",
       "        vertical-align: top;\n",
       "    }\n",
       "\n",
       "    .dataframe thead th {\n",
       "        text-align: right;\n",
       "    }\n",
       "</style>\n",
       "<table border=\"1\" class=\"dataframe\">\n",
       "  <thead>\n",
       "    <tr style=\"text-align: right;\">\n",
       "      <th></th>\n",
       "      <th>state</th>\n",
       "      <th>county</th>\n",
       "      <th>date</th>\n",
       "      <th>new_deaths</th>\n",
       "      <th>new_cases</th>\n",
       "      <th>population</th>\n",
       "      <th>rucc_2013</th>\n",
       "    </tr>\n",
       "  </thead>\n",
       "  <tbody>\n",
       "    <tr>\n",
       "      <th>0</th>\n",
       "      <td>Iowa</td>\n",
       "      <td>Adair</td>\n",
       "      <td>2020-03-18</td>\n",
       "      <td>0</td>\n",
       "      <td>0</td>\n",
       "      <td>7152</td>\n",
       "      <td>8</td>\n",
       "    </tr>\n",
       "    <tr>\n",
       "      <th>1</th>\n",
       "      <td>Iowa</td>\n",
       "      <td>Adair</td>\n",
       "      <td>2020-03-19</td>\n",
       "      <td>0</td>\n",
       "      <td>0</td>\n",
       "      <td>7152</td>\n",
       "      <td>8</td>\n",
       "    </tr>\n",
       "    <tr>\n",
       "      <th>2</th>\n",
       "      <td>Iowa</td>\n",
       "      <td>Adair</td>\n",
       "      <td>2020-03-20</td>\n",
       "      <td>0</td>\n",
       "      <td>0</td>\n",
       "      <td>7152</td>\n",
       "      <td>8</td>\n",
       "    </tr>\n",
       "    <tr>\n",
       "      <th>3</th>\n",
       "      <td>Iowa</td>\n",
       "      <td>Adair</td>\n",
       "      <td>2020-03-21</td>\n",
       "      <td>0</td>\n",
       "      <td>0</td>\n",
       "      <td>7152</td>\n",
       "      <td>8</td>\n",
       "    </tr>\n",
       "    <tr>\n",
       "      <th>4</th>\n",
       "      <td>Iowa</td>\n",
       "      <td>Adair</td>\n",
       "      <td>2020-03-22</td>\n",
       "      <td>0</td>\n",
       "      <td>0</td>\n",
       "      <td>7152</td>\n",
       "      <td>8</td>\n",
       "    </tr>\n",
       "  </tbody>\n",
       "</table>\n",
       "</div>"
      ],
      "text/plain": [
       "  state county       date  new_deaths  new_cases  population  rucc_2013\n",
       "0  Iowa  Adair 2020-03-18           0          0        7152          8\n",
       "1  Iowa  Adair 2020-03-19           0          0        7152          8\n",
       "2  Iowa  Adair 2020-03-20           0          0        7152          8\n",
       "3  Iowa  Adair 2020-03-21           0          0        7152          8\n",
       "4  Iowa  Adair 2020-03-22           0          0        7152          8"
      ]
     },
     "execution_count": 7,
     "metadata": {},
     "output_type": "execute_result"
    }
   ],
   "source": [
    "def make_df():\n",
    "    df = pd.read_csv('data/seven_day_county.csv')\n",
    "    df['date'] = pd.to_datetime(df['date'])\n",
    "    return df\n",
    "make_df().head()\n"
   ]
  },
  {
   "cell_type": "code",
   "execution_count": 54,
   "metadata": {},
   "outputs": [],
   "source": [
    "def hist(nums):\n",
    "    hist, edges = np.histogram(nums, density=True)\n",
    "    p = figure()\n",
    "    p.quad(top = hist, bottom=0, left=edges[:-1], right=edges[1:], alpha = .4)     \n",
    "    return p"
   ]
  },
  {
   "cell_type": "code",
   "execution_count": 55,
   "metadata": {},
   "outputs": [],
   "source": [
    "def get_mask_states():\n",
    "    return  [('California', datetime.datetime(2020, 6, 18)),\n",
    "           ('Connecticut', datetime.datetime(2020,4, 20)),\n",
    "            ('Delaware', datetime.datetime(2020, 4, 28)),\n",
    "            ('Hawaii', datetime.datetime(2020, 4, 20)),\n",
    "            ('Illinois', datetime.datetime(2020,5,1)),\n",
    "            ('Kansas', datetime.datetime(2020, 7, 3)),\n",
    "            ('Kentucky', datetime.datetime(2020, 5, 11)),\n",
    "            ('Maine', datetime.datetime(2020, 5, 1)),\n",
    "            ('Maryland', datetime.datetime(2020, 4, 18)),\n",
    "            ('Massachusetts', datetime.datetime(2020, 5, 6)),\n",
    "            ('Michigan', datetime.datetime(2020, 6, 18)),\n",
    "            ('Nevada', datetime.datetime(2020, 6, 24)),\n",
    "            ('New Jersey', datetime.datetime(2020, 4, 8)),\n",
    "            ('New Mexico', datetime.datetime(2020, 5, 16)),\n",
    "            ('New York', datetime.datetime(2020, 4, 17)),\n",
    "            ('North Carolina', datetime.datetime(2020, 6, 26)),\n",
    "            ('Oregon', datetime.datetime(2020, 7, 1)),\n",
    "            ('Pennsylvania', datetime.datetime(2020, 4, 19)),\n",
    "            ('Rhode Island', datetime.datetime(2020, 5, 18)),\n",
    "            ('Texas', datetime.datetime(2020, 7, 3)),\n",
    "            ('Virginia', datetime.datetime(2020, 5, 29)),\n",
    "            ('Washington', datetime.datetime(2020, 6, 26)),\n",
    "            ('West Virginia', datetime.datetime(2020, 7, 6)),\n",
    "           ]"
   ]
  },
  {
   "cell_type": "code",
   "execution_count": 73,
   "metadata": {},
   "outputs": [
    {
     "name": "stdout",
     "output_type": "stream",
     "text": [
      "0.0\n",
      "California -0.08097165991902842\n",
      "Connecticut 0.0\n",
      "Delaware -0.8945054945054948\n",
      "Hawaii 0.23461538461538461\n",
      "Illinois -1.0924032489249884\n",
      "Kansas -0.06347059533872723\n",
      "Kentucky 0.008731268731268735\n",
      "Maine 0.07413919413919418\n",
      "Maryland -0.00045787545787543776\n",
      "Massachusetts 5.406750392464678\n",
      "Michigan 0.24129120879120877\n",
      "Nevada -0.8000000000000005\n",
      "New Jersey -12.73343799058085\n",
      "New Mexico -0.019487179487179495\n",
      "New York -5.822394846532776\n",
      "North Carolina 0.100967032967033\n",
      "Oregon 0.06767937944408535\n",
      "Pennsylvania 0.17994928148774295\n",
      "Rhode Island 0.0\n",
      "Texas -0.8971998712584487\n",
      "Virginia -0.28781065088757396\n",
      "Washington -0.01769809138230193\n",
      "West Virginia -0.060626166286543666\n"
     ]
    }
   ],
   "source": [
    "def get_rates(df, state, mask_start):\n",
    "    final = {state:{}}\n",
    "    df_ = df[df['state'] == state]\n",
    "    df_before = df_[(df_['date'] <= mask_start)\n",
    "        & (df_['date'] >mask_start - datetime.timedelta(days = 14))\n",
    "                   ]\n",
    "    df_after = df_[(df_['date'] > mask_start + datetime.timedelta(days = 5))\n",
    "        & (df_['date'] <= mask_start + datetime.timedelta(days = 5) + datetime.timedelta(days = 14))]\n",
    "    def get_rate(df):\n",
    "        new_cases = df['new_cases'].tolist()\n",
    "        if len(new_cases) != 14:\n",
    "            return None, None\n",
    "        x = range(len(new_cases))\n",
    "        X = list(zip(*[x]))\n",
    "        xm = sm.add_constant(X)\n",
    "        model = sm.OLS(new_cases, xm)\n",
    "        result = model.fit()\n",
    "        rt = result.params[1]\n",
    "        p_value = result.pvalues[1]\n",
    "        return rt, p_value\n",
    "\n",
    "    for i in set(df_before['county'].tolist()):\n",
    "        df_county_bef = df_before[df_before['county'] == i]\n",
    "        df_county_aft = df_after[df_after['county'] == i]\n",
    "        rt_bef, p_bef = get_rate(df_county_bef)\n",
    "        rt_aft, p_aft = get_rate(df_county_aft)\n",
    "        final[state][i] = {'rt_bef': rt_bef, 'p_bef':p_bef, 'rt_aft':rt_aft, 'p_aft': p_aft}\n",
    "    return final\n",
    "        \n",
    "\n",
    "def get_all_rates():\n",
    "    bef = []\n",
    "    diffs = {}\n",
    "    for i in get_mask_states():\n",
    "        d = get_rates(make_df(), i[0],i[1])\n",
    "        for key1 in d.keys():\n",
    "            if not diffs.get(key1):\n",
    "                diffs[key1] = []\n",
    "            for key2 in d[key1].keys():\n",
    "                if d[key1][key2]['rt_bef'] == None:\n",
    "                    continue\n",
    "                rt_bef = d[key1][key2]['rt_bef']\n",
    "                if d[key1][key2]['p_bef'] >= .05:\n",
    "                    rt_bef = 0\n",
    "                rt_aft = d[key1][key2]['rt_aft']\n",
    "                if d[key1][key2]['p_aft'] >= .05:\n",
    "                    rt_aft = 0\n",
    "                bef.append(rt_bef)\n",
    "                diffs[key1].append(rt_aft - rt_bef)\n",
    "    print(np.median(bef))\n",
    "    return diffs\n",
    "diffs = get_all_rates()\n",
    "#show(hist(diffs))\n",
    "#print(np.percentile(diffs, 5))\n",
    "#print(np.percentile(diffs, 95))\n",
    "for state in diffs.keys():\n",
    "    print(state,np.mean(diffs[state]))\n",
    "    "
   ]
  },
  {
   "cell_type": "code",
   "execution_count": 43,
   "metadata": {},
   "outputs": [
    {
     "data": {
      "text/plain": [
       "{'foo': 1, 'bar': 2}"
      ]
     },
     "execution_count": 43,
     "metadata": {},
     "output_type": "execute_result"
    }
   ],
   "source": [
    "a = {'foo': 1}\n",
    "b = {'bar': 2}\n",
    "a.update(b)\n",
    "a"
   ]
  }
 ],
 "metadata": {
  "kernelspec": {
   "display_name": "Python 3",
   "language": "python",
   "name": "python3"
  },
  "language_info": {
   "codemirror_mode": {
    "name": "ipython",
    "version": 3
   },
   "file_extension": ".py",
   "mimetype": "text/x-python",
   "name": "python",
   "nbconvert_exporter": "python",
   "pygments_lexer": "ipython3",
   "version": "3.6.9"
  }
 },
 "nbformat": 4,
 "nbformat_minor": 4
}
