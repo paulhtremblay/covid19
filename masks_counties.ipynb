{
 "cells": [
  {
   "cell_type": "code",
   "execution_count": 1,
   "metadata": {},
   "outputs": [],
   "source": [
    "import datetime"
   ]
  },
  {
   "cell_type": "code",
   "execution_count": 2,
   "metadata": {},
   "outputs": [],
   "source": [
    "import pandas as pd"
   ]
  },
  {
   "cell_type": "code",
   "execution_count": 3,
   "metadata": {},
   "outputs": [],
   "source": [
    "import statsmodels.api as sm\n",
    "import numpy as np"
   ]
  },
  {
   "cell_type": "code",
   "execution_count": 4,
   "metadata": {},
   "outputs": [],
   "source": [
    "from bokeh.plotting  import figure, show\n"
   ]
  },
  {
   "cell_type": "code",
   "execution_count": 5,
   "metadata": {},
   "outputs": [
    {
     "data": {
      "text/html": [
       "<div>\n",
       "<style scoped>\n",
       "    .dataframe tbody tr th:only-of-type {\n",
       "        vertical-align: middle;\n",
       "    }\n",
       "\n",
       "    .dataframe tbody tr th {\n",
       "        vertical-align: top;\n",
       "    }\n",
       "\n",
       "    .dataframe thead th {\n",
       "        text-align: right;\n",
       "    }\n",
       "</style>\n",
       "<table border=\"1\" class=\"dataframe\">\n",
       "  <thead>\n",
       "    <tr style=\"text-align: right;\">\n",
       "      <th></th>\n",
       "      <th>state</th>\n",
       "      <th>county</th>\n",
       "      <th>date</th>\n",
       "      <th>new_deaths</th>\n",
       "      <th>new_cases</th>\n",
       "      <th>population</th>\n",
       "      <th>rucc_2013</th>\n",
       "    </tr>\n",
       "  </thead>\n",
       "  <tbody>\n",
       "    <tr>\n",
       "      <th>0</th>\n",
       "      <td>Nevada</td>\n",
       "      <td>Clark</td>\n",
       "      <td>2020-04-03</td>\n",
       "      <td>5</td>\n",
       "      <td>154</td>\n",
       "      <td>2266715</td>\n",
       "      <td>1</td>\n",
       "    </tr>\n",
       "    <tr>\n",
       "      <th>1</th>\n",
       "      <td>Massachusetts</td>\n",
       "      <td>Middlesex</td>\n",
       "      <td>2020-04-04</td>\n",
       "      <td>0</td>\n",
       "      <td>266</td>\n",
       "      <td>1611699</td>\n",
       "      <td>1</td>\n",
       "    </tr>\n",
       "    <tr>\n",
       "      <th>2</th>\n",
       "      <td>Nevada</td>\n",
       "      <td>Clark</td>\n",
       "      <td>2020-04-04</td>\n",
       "      <td>2</td>\n",
       "      <td>139</td>\n",
       "      <td>2266715</td>\n",
       "      <td>1</td>\n",
       "    </tr>\n",
       "    <tr>\n",
       "      <th>3</th>\n",
       "      <td>Massachusetts</td>\n",
       "      <td>Middlesex</td>\n",
       "      <td>2020-04-05</td>\n",
       "      <td>3</td>\n",
       "      <td>164</td>\n",
       "      <td>1611699</td>\n",
       "      <td>1</td>\n",
       "    </tr>\n",
       "    <tr>\n",
       "      <th>4</th>\n",
       "      <td>Nevada</td>\n",
       "      <td>Clark</td>\n",
       "      <td>2020-04-05</td>\n",
       "      <td>0</td>\n",
       "      <td>101</td>\n",
       "      <td>2266715</td>\n",
       "      <td>1</td>\n",
       "    </tr>\n",
       "  </tbody>\n",
       "</table>\n",
       "</div>"
      ],
      "text/plain": [
       "           state     county       date  new_deaths  new_cases  population  \\\n",
       "0         Nevada      Clark 2020-04-03           5        154     2266715   \n",
       "1  Massachusetts  Middlesex 2020-04-04           0        266     1611699   \n",
       "2         Nevada      Clark 2020-04-04           2        139     2266715   \n",
       "3  Massachusetts  Middlesex 2020-04-05           3        164     1611699   \n",
       "4         Nevada      Clark 2020-04-05           0        101     2266715   \n",
       "\n",
       "   rucc_2013  \n",
       "0          1  \n",
       "1          1  \n",
       "2          1  \n",
       "3          1  \n",
       "4          1  "
      ]
     },
     "execution_count": 5,
     "metadata": {},
     "output_type": "execute_result"
    }
   ],
   "source": [
    "def make_df():\n",
    "    df = pd.read_csv('data/seven_day_county.csv')\n",
    "    df['date'] = pd.to_datetime(df['date'])\n",
    "    return df\n",
    "make_df().head()\n"
   ]
  },
  {
   "cell_type": "code",
   "execution_count": 6,
   "metadata": {},
   "outputs": [],
   "source": [
    "def hist(nums):\n",
    "    hist, edges = np.histogram(nums, density=True)\n",
    "    p = figure()\n",
    "    p.quad(top = hist, bottom=0, left=edges[:-1], right=edges[1:], alpha = .4)     \n",
    "    return p"
   ]
  },
  {
   "cell_type": "code",
   "execution_count": 7,
   "metadata": {},
   "outputs": [],
   "source": [
    "def get_mask_states():\n",
    "    return  [('California', datetime.datetime(2020, 6, 18)),\n",
    "           ('Connecticut', datetime.datetime(2020,4, 20)),\n",
    "            ('Delaware', datetime.datetime(2020, 4, 28)),\n",
    "            ('Hawaii', datetime.datetime(2020, 4, 20)),\n",
    "            ('Illinois', datetime.datetime(2020,5,1)),\n",
    "            ('Kansas', datetime.datetime(2020, 7, 3)),\n",
    "            ('Kentucky', datetime.datetime(2020, 5, 11)),\n",
    "            ('Maine', datetime.datetime(2020, 5, 1)),\n",
    "            ('Maryland', datetime.datetime(2020, 4, 18)),\n",
    "            ('Massachusetts', datetime.datetime(2020, 5, 6)),\n",
    "            ('Michigan', datetime.datetime(2020, 6, 18)),\n",
    "            ('Nevada', datetime.datetime(2020, 6, 24)),\n",
    "            ('New Jersey', datetime.datetime(2020, 4, 8)),\n",
    "            ('New Mexico', datetime.datetime(2020, 5, 16)),\n",
    "            ('New York', datetime.datetime(2020, 4, 17)),\n",
    "            ('North Carolina', datetime.datetime(2020, 6, 26)),\n",
    "            ('Oregon', datetime.datetime(2020, 7, 1)),\n",
    "            ('Pennsylvania', datetime.datetime(2020, 4, 19)),\n",
    "            ('Rhode Island', datetime.datetime(2020, 5, 18)),\n",
    "            ('Texas', datetime.datetime(2020, 7, 3)),\n",
    "            ('Virginia', datetime.datetime(2020, 5, 29)),\n",
    "            ('Washington', datetime.datetime(2020, 6, 26)),\n",
    "            ('West Virginia', datetime.datetime(2020, 7, 6)),\n",
    "           ]"
   ]
  },
  {
   "cell_type": "code",
   "execution_count": 8,
   "metadata": {},
   "outputs": [
    {
     "name": "stdout",
     "output_type": "stream",
     "text": [
      "0.0\n",
      "California -0.0809716599190284\n",
      "Connecticut 0.0\n",
      "Delaware -0.8945054945054948\n",
      "Hawaii 0.23461538461538461\n",
      "Illinois -1.0106784519828003\n",
      "Kansas -0.06347059533872722\n",
      "Kentucky 0.008731268731268735\n",
      "Maine 0.07413919413919418\n",
      "Maryland 0.20357142857142865\n",
      "Massachusetts 5.406750392464677\n",
      "Michigan 0.24129120879120877\n",
      "Nevada -0.8000000000000005\n",
      "New Jersey 1.0051282051282036\n",
      "New Mexico -0.019487179487179495\n",
      "New York -5.915233042819249\n",
      "North Carolina 0.07745054945054948\n",
      "Oregon 0.06767937944408536\n",
      "Pennsylvania 0.175316990701606\n",
      "Rhode Island 0.0\n",
      "Texas -0.8473768908915353\n",
      "Virginia -0.28919695688926467\n",
      "Washington -0.017698091382301967\n",
      "West Virginia -0.06062616628654366\n"
     ]
    }
   ],
   "source": [
    "def get_rates(df, state, mask_start):\n",
    "    final = {state:{}}\n",
    "    df_ = df[df['state'] == state]\n",
    "    df_before = df_[(df_['date'] <= mask_start)\n",
    "        & (df_['date'] >mask_start - datetime.timedelta(days = 14))\n",
    "                   ]\n",
    "    df_after = df_[(df_['date'] > mask_start + datetime.timedelta(days = 5))\n",
    "        & (df_['date'] <= mask_start + datetime.timedelta(days = 5) + datetime.timedelta(days = 14))]\n",
    "    def get_rate(df):\n",
    "        new_cases = df['new_cases'].tolist()\n",
    "        if len(new_cases) != 14:\n",
    "            return None, None\n",
    "        x = range(len(new_cases))\n",
    "        X = list(zip(*[x]))\n",
    "        xm = sm.add_constant(X)\n",
    "        model = sm.OLS(new_cases, xm)\n",
    "        result = model.fit()\n",
    "        rt = result.params[1]\n",
    "        p_value = result.pvalues[1]\n",
    "        return rt, p_value\n",
    "\n",
    "    for i in set(df_before['county'].tolist()):\n",
    "        df_county_bef = df_before[df_before['county'] == i]\n",
    "        df_county_aft = df_after[df_after['county'] == i]\n",
    "        rt_bef, p_bef = get_rate(df_county_bef)\n",
    "        rt_aft, p_aft = get_rate(df_county_aft)\n",
    "        final[state][i] = {'rt_bef': rt_bef, 'p_bef':p_bef, 'rt_aft':rt_aft, 'p_aft': p_aft}\n",
    "    return final\n",
    "        \n",
    "\n",
    "def get_all_rates():\n",
    "    bef = []\n",
    "    diffs = {}\n",
    "    for i in get_mask_states():\n",
    "        d = get_rates(make_df(), i[0],i[1])\n",
    "        for key1 in d.keys():\n",
    "            if not diffs.get(key1):\n",
    "                diffs[key1] = []\n",
    "            for key2 in d[key1].keys():\n",
    "                if d[key1][key2]['rt_bef'] == None:\n",
    "                    continue\n",
    "                rt_bef = d[key1][key2]['rt_bef']\n",
    "                if d[key1][key2]['p_bef'] >= .05:\n",
    "                    rt_bef = 0\n",
    "                rt_aft = d[key1][key2]['rt_aft']\n",
    "                if d[key1][key2]['p_aft'] >= .05:\n",
    "                    rt_aft = 0\n",
    "                bef.append(rt_bef)\n",
    "                diffs[key1].append(rt_aft - rt_bef)\n",
    "    print(np.median(bef))\n",
    "    return diffs\n",
    "diffs = get_all_rates()\n",
    "#show(hist(diffs))\n",
    "#print(np.percentile(diffs, 5))\n",
    "#print(np.percentile(diffs, 95))\n",
    "for state in diffs.keys():\n",
    "    print(state,np.mean(diffs[state]))\n",
    "    "
   ]
  },
  {
   "cell_type": "code",
   "execution_count": 9,
   "metadata": {},
   "outputs": [
    {
     "data": {
      "text/plain": [
       "{'foo': 1, 'bar': 2}"
      ]
     },
     "execution_count": 9,
     "metadata": {},
     "output_type": "execute_result"
    }
   ],
   "source": [
    "a = {'foo': 1}\n",
    "b = {'bar': 2}\n",
    "a.update(b)\n",
    "a"
   ]
  }
 ],
 "metadata": {
  "kernelspec": {
   "display_name": "Python 3",
   "language": "python",
   "name": "python3"
  },
  "language_info": {
   "codemirror_mode": {
    "name": "ipython",
    "version": 3
   },
   "file_extension": ".py",
   "mimetype": "text/x-python",
   "name": "python",
   "nbconvert_exporter": "python",
   "pygments_lexer": "ipython3",
   "version": "3.6.9"
  }
 },
 "nbformat": 4,
 "nbformat_minor": 4
}
