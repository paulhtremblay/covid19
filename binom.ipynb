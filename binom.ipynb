{
 "cells": [
  {
   "cell_type": "code",
   "execution_count": 1,
   "metadata": {},
   "outputs": [],
   "source": [
    "from scipy.stats import binom\n"
   ]
  },
  {
   "cell_type": "code",
   "execution_count": 28,
   "metadata": {},
   "outputs": [],
   "source": [
    "binom.cdf(n= 10, k = 5, p = .5)\n",
    "\n",
    "points = []\n",
    "p = .01\n",
    "low = None\n",
    "while 1:\n",
    "    if p > 1:\n",
    "        break\n",
    "    points.append((p, round(1- binom.cdf(n= 10, k = 5, p = p),2)))\n",
    "    p += .01\n"
   ]
  },
  {
   "cell_type": "code",
   "execution_count": 67,
   "metadata": {},
   "outputs": [
    {
     "data": {
      "text/plain": [
       "0.046044066929342764"
      ]
     },
     "execution_count": 67,
     "metadata": {},
     "output_type": "execute_result"
    }
   ],
   "source": [
    "\n",
    "for k in range(1, 101):\n",
    "    \n",
    "    pr = binom.cdf(n = 100, k= k, p = .5)\n",
    "binom.interval(alpha = .95, n = 100, p = .5)\n",
    "binom.cdf(n=100, k= 40, p = .5) + (1-  binom.cdf(n=100, k=60, p =.5))"
   ]
  },
  {
   "cell_type": "code",
   "execution_count": null,
   "metadata": {},
   "outputs": [],
   "source": []
  }
 ],
 "metadata": {
  "kernelspec": {
   "display_name": "Python 3",
   "language": "python",
   "name": "python3"
  },
  "language_info": {
   "codemirror_mode": {
    "name": "ipython",
    "version": 3
   },
   "file_extension": ".py",
   "mimetype": "text/x-python",
   "name": "python",
   "nbconvert_exporter": "python",
   "pygments_lexer": "ipython3",
   "version": "3.6.9"
  }
 },
 "nbformat": 4,
 "nbformat_minor": 4
}
